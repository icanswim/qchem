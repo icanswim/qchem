{
 "cells": [
  {
   "cell_type": "code",
   "execution_count": 1,
   "metadata": {},
   "outputs": [],
   "source": [
    "import sys # required for relative imports in jupyter lab\n",
    "sys.path.insert(0, '../') \n",
    "\n",
    "from cosmosis.model import FFNet\n",
    "from cosmosis.learning import Learn, Selector\n",
    "from cosmosis.dataset import SKDS\n",
    "\n",
    "from dataset import QM7, QM7b, QM7X, QM9, ANI1x\n",
    "\n",
    "from torch.optim import Adam\n",
    "from torch.nn import MSELoss, L1Loss\n",
    "from torch.optim.lr_scheduler import ReduceLROnPlateau"
   ]
  },
  {
   "cell_type": "code",
   "execution_count": 2,
   "metadata": {},
   "outputs": [
    {
     "name": "stdout",
     "output_type": "stream",
     "text": [
      "CDataset created...\n",
      "SKDS make_regression created...\n",
      "CModel loaded...\n",
      "FFNet model loaded...\n",
      "learning time: 0:00:02.769324\n",
      "epoch: 0, lr: 0.01\n",
      "train loss: 15849.763708043982, val loss: 11535.0580078125\n",
      "sklearn train metric: 0, sklearn validation metric: 0\n",
      "learning time: 0:00:07.418030\n",
      "epoch: 10, lr: 0.01\n",
      "train loss: 389.6994323730469, val loss: 608.7446044921875\n",
      "sklearn train metric: 0, sklearn validation metric: 0\n",
      "test loss: 279.29969482421876\n",
      "learning time: 0:00:11.769582\n",
      "sklearn test metric: \n",
      "0 \n",
      "\n"
     ]
    },
    {
     "data": {
      "image/png": "[encoded data removed]",
      "text/plain": [
       "<Figure size 432x288 with 1 Axes>"
      ]
     },
     "metadata": {
      "needs_background": "light"
     },
     "output_type": "display_data"
    }
   ],
   "source": [
    "model_params = {'D_in': 128, \n",
    "                'H': 512, \n",
    "                'D_out': 1, \n",
    "                'model_name': 'funnel'}\n",
    "\n",
    "ds_params = {'train_params': {'features': ['X'],\n",
    "                              'targets': ['y'],\n",
    "                              'features_dtype': 'float32',\n",
    "                              'targets_dtype': 'float32',\n",
    "                              'make': 'make_regression',\n",
    "                              'transform': [],\n",
    "                              'target_transform': [],\n",
    "                              'sk_params': {'n_samples': 10000,\n",
    "                                            'n_features': 128}}}\n",
    "\n",
    "metrics_params = {'report_interval': 10}\n",
    "\n",
    "opt_params = {'lr': 0.01}\n",
    "\n",
    "crit_params = {'reduction': 'sum'}\n",
    "\n",
    "sample_params = {'set_seed': 88,\n",
    "                 'splits': (.7, .15)}\n",
    "\n",
    "sched_params = {'factor': .5,\n",
    "                'patience': 2,\n",
    "                'cooldown': 1}\n",
    "\n",
    "l = Learn([SKDS], FFNet, Selector, \n",
    "          Optimizer=Adam, Scheduler=ReduceLROnPlateau, Criterion=MSELoss, \n",
    "          model_params=model_params, ds_params=ds_params, sample_params=sample_params,\n",
    "          opt_params=opt_params, sched_params=sched_params, crit_params=crit_params,\n",
    "          metrics_params=metrics_params,\n",
    "          adapt=False, load_model=False, load_embed=False, save_model=False,\n",
    "          batch_size=256, epochs=20)"
   ]
  },
  {
   "cell_type": "code",
   "execution_count": 3,
   "metadata": {},
   "outputs": [
    {
     "name": "stdout",
     "output_type": "stream",
     "text": [
      "CDataset created...\n",
      "CModel loaded...\n",
      "FFNet model loaded...\n",
      "learning time: 0:00:00.816855\n",
      "epoch: 0, lr: 0.01\n",
      "train loss: 1531.386474609375, val loss: 1501.683837890625\n",
      "sklearn train metric: 0, sklearn validation metric: 0\n",
      "learning time: 0:00:07.475100\n",
      "epoch: 10, lr: 0.01\n",
      "train loss: 33.948611209267064, val loss: 33.02544069290161\n",
      "sklearn train metric: 0, sklearn validation metric: 0\n",
      "test loss: 32.18827295303345\n",
      "learning time: 0:00:13.720886\n",
      "sklearn test metric: \n",
      "0 \n",
      "\n"
     ]
    },
    {
     "data": {
      "image/png": "[encoded data removed]",
      "text/plain": [
       "<Figure size 432x288 with 1 Axes>"
      ]
     },
     "metadata": {
      "needs_background": "light"
     },
     "output_type": "display_data"
    }
   ],
   "source": [
    "model_params = {'D_in': 23*23+23*32, \n",
    "                'H': 4096, \n",
    "                'D_out': 1, \n",
    "                'model_name': 'funnel',\n",
    "                'embed_params': [('atoms',7,32,None,True)]}\n",
    "\n",
    "ds_params = {'train_params': {'features': ['coulomb'],\n",
    "                              'targets': ['ae'],\n",
    "                              'embeds': ['atoms'],\n",
    "                              'in_file': './data/qm7/qm7.mat',\n",
    "                              'flatten': True}}\n",
    "\n",
    "metrics_params = {'report_interval': 10}\n",
    "\n",
    "crit_params = {'reduction': 'sum'}\n",
    "\n",
    "sample_params = {'set_seed': 88,\n",
    "                 'splits': (.7,.15)}\n",
    "\n",
    "sched_params = {'factor': .5,\n",
    "                'patience': 2,\n",
    "                'cooldown': 1}\n",
    "\n",
    "opt_params = {'lr': 0.01}\n",
    "\n",
    "l = Learn([QM7], FFNet, Selector, \n",
    "          Optimizer=Adam, Scheduler=ReduceLROnPlateau, Criterion=L1Loss, \n",
    "          model_params=model_params, ds_params=ds_params, sample_params=sample_params,\n",
    "          opt_params=opt_params, sched_params=sched_params, crit_params=crit_params,\n",
    "          metrics_params=metrics_params,\n",
    "          adapt=False, load_model=False, load_embed=False, save_model=False, \n",
    "          batch_size=256, epochs=20)"
   ]
  },
  {
   "cell_type": "code",
   "execution_count": 4,
   "metadata": {},
   "outputs": [
    {
     "name": "stdout",
     "output_type": "stream",
     "text": [
      "CDataset created...\n",
      "CModel loaded...\n",
      "FFNet model loaded...\n",
      "learning time: 0:00:00.466052\n",
      "epoch: 0, lr: 0.01\n",
      "train loss: 1562.3507786800988, val loss: 1545.8498229980469\n",
      "sklearn train metric: 0, sklearn validation metric: 0\n",
      "learning time: 0:00:04.899274\n",
      "epoch: 10, lr: 0.01\n",
      "train loss: 57.22529561896073, val loss: 62.89164924621582\n",
      "sklearn train metric: 0, sklearn validation metric: 0\n",
      "learning time: 0:00:09.296898\n",
      "epoch: 20, lr: 0.005\n",
      "train loss: 45.28531445954975, val loss: 54.40776443481445\n",
      "sklearn train metric: 0, sklearn validation metric: 0\n",
      "learning time: 0:00:13.740752\n",
      "epoch: 30, lr: 0.0025\n",
      "train loss: 41.09116704840409, val loss: 50.14443588256836\n",
      "sklearn train metric: 0, sklearn validation metric: 0\n",
      "learning time: 0:00:18.121325\n",
      "epoch: 40, lr: 0.00125\n",
      "train loss: 39.516449777703535, val loss: 53.21466636657715\n",
      "sklearn train metric: 0, sklearn validation metric: 0\n",
      "test loss: 51.913079261779785\n",
      "learning time: 0:00:22.245168\n",
      "sklearn test metric: \n",
      "0 \n",
      "\n"
     ]
    },
    {
     "data": {
      "image/png": "[encoded data removed]",
      "text/plain": [
       "<Figure size 432x288 with 1 Axes>"
      ]
     },
     "metadata": {
      "needs_background": "light"
     },
     "output_type": "display_data"
    }
   ],
   "source": [
    "model_params = {'D_in': 23*23, \n",
    "                'H': 2048, \n",
    "                'D_out': 1, \n",
    "                'model_name': 'funnel'}\n",
    "\n",
    "ds_params = {'train_params': {'features': ['coulomb'],\n",
    "                              'targets': ['E'],\n",
    "                              'in_file': './data/qm7b/qm7b.mat',\n",
    "                              'flatten': True}}\n",
    "\n",
    "metrics_params = {'report_interval': 10}\n",
    "\n",
    "crit_params = {'reduction': 'sum'}\n",
    "\n",
    "sample_params = {'set_seed': 88,\n",
    "                 'splits': (.7,.15)}\n",
    "\n",
    "sched_params = {'factor': .5,\n",
    "                'patience': 5,\n",
    "                'cooldown': 2}\n",
    "\n",
    "opt_params = {'lr': 0.01}\n",
    "\n",
    "l = Learn([QM7b], FFNet, Selector, \n",
    "          Optimizer=Adam, Scheduler=ReduceLROnPlateau, Criterion=L1Loss, \n",
    "          model_params=model_params, ds_params=ds_params, sample_params=sample_params,\n",
    "          opt_params=opt_params, sched_params=sched_params, crit_params=crit_params,\n",
    "          metrics_params=metrics_params,\n",
    "          adapt=False, load_model=False, load_embed=False, save_model=False, \n",
    "          batch_size=256, epochs=50)"
   ]
  },
  {
   "cell_type": "code",
   "execution_count": 5,
   "metadata": {},
   "outputs": [
    {
     "name": "stdout",
     "output_type": "stream",
     "text": [
      "mapping...  <HDF5 file \"1000.hdf5\" (mode r)>\n",
      "mapping...  <HDF5 file \"2000.hdf5\" (mode r)>\n",
      "mapping...  <HDF5 file \"3000.hdf5\" (mode r)>\n",
      "mapping...  <HDF5 file \"4000.hdf5\" (mode r)>\n",
      "mapping...  <HDF5 file \"5000.hdf5\" (mode r)>\n",
      "mapping...  <HDF5 file \"6000.hdf5\" (mode r)>\n",
      "mapping...  <HDF5 file \"7000.hdf5\" (mode r)>\n",
      "mapping...  <HDF5 file \"8000.hdf5\" (mode r)>\n",
      "molecular formula (idmol) mapped:  6950\n",
      "total molecular structures (idconf) mapped:  41537\n",
      "CDataset created...\n",
      "longest molecule length:  23\n"
     ]
    },
    {
     "data": {
      "text/plain": [
       "(array([6., 1., 1., 1., 1.], dtype=float32), [], [])"
      ]
     },
     "execution_count": 5,
     "metadata": {},
     "output_type": "execute_result"
    }
   ],
   "source": [
    "#find the longest molecule\n",
    "\n",
    "ds_params = {'train_params': {'features': ['atNUM'],\n",
    "                              'pad': None,\n",
    "                              'targets': [],\n",
    "                              'embeds': [],\n",
    "                              'selector': ['opt']}}\n",
    "\n",
    "qm7x = QM7X(**ds_params['train_params'])\n",
    "l = 0\n",
    "for i in qm7x.ds_idx:\n",
    "    s = qm7x[i][0].shape[0]\n",
    "    if s > l:\n",
    "        l = s\n",
    "print('longest molecule length: ', l)\n",
    "\n",
    "qm7x[1]"
   ]
  },
  {
   "cell_type": "code",
   "execution_count": 6,
   "metadata": {},
   "outputs": [
    {
     "name": "stdout",
     "output_type": "stream",
     "text": [
      "mapping...  <HDF5 file \"1000.hdf5\" (mode r)>\n",
      "mapping...  <HDF5 file \"2000.hdf5\" (mode r)>\n",
      "mapping...  <HDF5 file \"3000.hdf5\" (mode r)>\n",
      "mapping...  <HDF5 file \"4000.hdf5\" (mode r)>\n",
      "mapping...  <HDF5 file \"5000.hdf5\" (mode r)>\n",
      "mapping...  <HDF5 file \"6000.hdf5\" (mode r)>\n",
      "mapping...  <HDF5 file \"7000.hdf5\" (mode r)>\n",
      "mapping...  <HDF5 file \"8000.hdf5\" (mode r)>\n",
      "molecular formula (idmol) mapped:  6950\n",
      "total molecular structures (idconf) mapped:  41537\n",
      "CDataset created...\n",
      "CModel loaded...\n",
      "FFNet model loaded...\n",
      "learning time: 0:00:01.031625\n",
      "epoch: 0, lr: 0.01\n",
      "train loss: 66.40937383551346, val loss: 45.14935874938965\n",
      "sklearn train metric: 0, sklearn validation metric: 0\n",
      "learning time: 0:00:09.507416\n",
      "epoch: 10, lr: 0.01\n",
      "train loss: 2.3051713642321134, val loss: 2.201038271188736\n",
      "sklearn train metric: 0, sklearn validation metric: 0\n",
      "learning time: 0:00:18.018853\n",
      "epoch: 20, lr: 0.01\n",
      "train loss: 2.3723430759028385, val loss: 2.2188185453414917\n",
      "sklearn train metric: 0, sklearn validation metric: 0\n",
      "learning time: 0:00:26.512508\n",
      "epoch: 30, lr: 0.01\n",
      "train loss: 1.8991700724551552, val loss: 1.9021651148796082\n",
      "sklearn train metric: 0, sklearn validation metric: 0\n",
      "learning time: 0:00:35.100862\n",
      "epoch: 40, lr: 0.005\n",
      "train loss: 1.7875232822016667, val loss: 1.7044744491577148\n",
      "sklearn train metric: 0, sklearn validation metric: 0\n",
      "test loss: 1.6716844141483307\n",
      "learning time: 0:00:43.085658\n",
      "sklearn test metric: \n",
      "0 \n",
      "\n"
     ]
    },
    {
     "data": {
      "image/png": "[encoded data removed]",
      "text/plain": [
       "<Figure size 432x288 with 1 Axes>"
      ]
     },
     "metadata": {
      "needs_background": "light"
     },
     "output_type": "display_data"
    }
   ],
   "source": [
    "model_params = {'D_in': 23*23+23*64, \n",
    "                'H': 4096, \n",
    "                'D_out': 1, \n",
    "                'model_name': 'funnel',\n",
    "                'embed_params': [('atNUM',9,64,None,True)]}\n",
    "\n",
    "ds_params = {'train_params': {'features': ['distance'],\n",
    "                              'pad': 23,\n",
    "                              'targets': ['eAT'],\n",
    "                              'embeds': ['atNUM'],\n",
    "                              'selector': ['opt'],\n",
    "                              'flatten': True}}\n",
    "\n",
    "metrics_params = {'report_interval': 10}\n",
    "\n",
    "crit_params = {'reduction': 'sum'}\n",
    "\n",
    "sample_params = {'set_seed': 88,\n",
    "                 'splits': (.7,.15)}\n",
    "\n",
    "sched_params = {'factor': .5,\n",
    "                'patience': 5,\n",
    "                'cooldown': 2}\n",
    "\n",
    "opt_params = {'lr': 0.01}\n",
    "\n",
    "l = Learn([QM7X], FFNet, Selector, \n",
    "          Optimizer=Adam, Scheduler=ReduceLROnPlateau, Criterion=L1Loss, \n",
    "          model_params=model_params, ds_params=ds_params, sample_params=sample_params,\n",
    "          opt_params=opt_params, sched_params=sched_params, crit_params=crit_params,\n",
    "          metrics_params=metrics_params,\n",
    "          adapt=False, load_model=False, load_embed=False, save_model=False, \n",
    "          batch_size=256, epochs=50)"
   ]
  },
  {
   "cell_type": "code",
   "execution_count": 7,
   "metadata": {
    "tags": []
   },
   "outputs": [
    {
     "name": "stdout",
     "output_type": "stream",
     "text": [
      "loading QM9 datadic from a pickled copy...\n",
      "CDataset created...\n",
      "CModel loaded...\n",
      "FFNet model loaded...\n",
      "learning time: 0:00:06.487329\n",
      "epoch: 0, lr: 0.01\n",
      "train loss: 55.13692120410481, val loss: 9.118437992899041\n",
      "sklearn train metric: 0, sklearn validation metric: 0\n",
      "learning time: 0:00:19.010038\n",
      "epoch: 2, lr: 0.01\n",
      "train loss: 7.817252383512609, val loss: 8.37733899292193\n",
      "sklearn train metric: 0, sklearn validation metric: 0\n",
      "learning time: 0:00:31.509609\n",
      "epoch: 4, lr: 0.01\n",
      "train loss: 7.327561370464934, val loss: 7.00941949141653\n",
      "sklearn train metric: 0, sklearn validation metric: 0\n",
      "learning time: 0:00:44.027573\n",
      "epoch: 6, lr: 0.01\n",
      "train loss: 7.077217453334178, val loss: 6.85970121308377\n",
      "sklearn train metric: 0, sklearn validation metric: 0\n",
      "learning time: 0:00:56.570982\n",
      "epoch: 8, lr: 0.01\n",
      "train loss: 7.023670276673902, val loss: 6.488301302257337\n",
      "sklearn train metric: 0, sklearn validation metric: 0\n",
      "learning time: 0:01:09.049929\n",
      "epoch: 10, lr: 0.01\n",
      "train loss: 6.811745057252943, val loss: 6.370355499418158\n",
      "sklearn train metric: 0, sklearn validation metric: 0\n",
      "learning time: 0:01:21.574167\n",
      "epoch: 12, lr: 0.01\n",
      "train loss: 6.733655734556396, val loss: 7.842690492931165\n",
      "sklearn train metric: 0, sklearn validation metric: 0\n",
      "learning time: 0:01:34.120129\n",
      "epoch: 14, lr: 0.01\n",
      "train loss: 6.888489407985484, val loss: 6.252378413551732\n",
      "sklearn train metric: 0, sklearn validation metric: 0\n",
      "learning time: 0:01:46.592461\n",
      "epoch: 16, lr: 0.01\n",
      "train loss: 6.88593095090209, val loss: 6.583319406760366\n",
      "sklearn train metric: 0, sklearn validation metric: 0\n",
      "learning time: 0:01:59.073888\n",
      "epoch: 18, lr: 0.01\n",
      "train loss: 6.882209302330551, val loss: 6.519953664980437\n",
      "sklearn train metric: 0, sklearn validation metric: 0\n",
      "test loss: 6.5784147162186475\n",
      "learning time: 0:02:06.222206\n",
      "sklearn test metric: \n",
      "0 \n",
      "\n"
     ]
    },
    {
     "data": {
      "image/png": "[encoded data removed]",
      "text/plain": [
       "<Figure size 432x288 with 1 Axes>"
      ]
     },
     "metadata": {
      "needs_background": "light"
     },
     "output_type": "display_data"
    }
   ],
   "source": [
    "model_params = {'D_in': 29*29, \n",
    "                'H': 4096, \n",
    "                'D_out': 1, \n",
    "                'model_name': 'funnel'}\n",
    "\n",
    "ds_params = {'train_params': {#'n': 10000, \n",
    "                              'features': ['coulomb'],\n",
    "                              'embeds': [], \n",
    "                              'targets': ['U0'],\n",
    "                              'pad': 29, \n",
    "                              'filter_on': None,\n",
    "                              'use_pickle': 'qm9.p',\n",
    "                              'flatten': True}}\n",
    "\n",
    "metrics_params = {'report_interval': 10}\n",
    "\n",
    "crit_params = {'reduction': 'sum'}\n",
    "\n",
    "sample_params = {'set_seed': 88,\n",
    "                 'splits': (.7,.15)}\n",
    "\n",
    "sched_params = {'factor': .5,\n",
    "                'patience': 5,\n",
    "                'cooldown': 2}\n",
    "\n",
    "opt_params = {'lr': 0.01}\n",
    "\n",
    "l = Learn([QM9], FFNet, Selector, \n",
    "          Optimizer=Adam, Scheduler=ReduceLROnPlateau, Criterion=L1Loss, \n",
    "          model_params=model_params, ds_params=ds_params, sample_params=sample_params,\n",
    "          opt_params=opt_params, sched_params=sched_params, crit_params=crit_params,\n",
    "          metrics_params=metrics_params,\n",
    "          adapt=False, load_model=False, load_embed=False, save_model=False, \n",
    "          batch_size=256, epochs=20)"
   ]
  },
  {
   "cell_type": "code",
   "execution_count": 8,
   "metadata": {},
   "outputs": [
    {
     "name": "stdout",
     "output_type": "stream",
     "text": [
      "creating QM9 dataset...\n",
      "QM9 molecules scanned:  1\n",
      "QM9 molecules created:  0\n",
      "QM9 molecules scanned:  10001\n",
      "QM9 molecules created:  1853\n",
      "QM9 molecules scanned:  20001\n",
      "QM9 molecules created:  4109\n",
      "QM9 molecules scanned:  30001\n",
      "QM9 molecules created:  5164\n",
      "QM9 molecules scanned:  40001\n",
      "QM9 molecules created:  8487\n",
      "QM9 molecules scanned:  50001\n",
      "QM9 molecules created:  10694\n",
      "QM9 molecules scanned:  60001\n",
      "QM9 molecules created:  15309\n",
      "QM9 molecules scanned:  70001\n",
      "QM9 molecules created:  20609\n",
      "QM9 molecules scanned:  80001\n",
      "QM9 molecules created:  25898\n",
      "QM9 molecules scanned:  90001\n",
      "QM9 molecules created:  32036\n",
      "QM9 molecules scanned:  100001\n",
      "QM9 molecules created:  38581\n",
      "QM9 molecules scanned:  110001\n",
      "QM9 molecules created:  46307\n",
      "QM9 molecules scanned:  120001\n",
      "QM9 molecules created:  54330\n",
      "QM9 molecules scanned:  130001\n",
      "QM9 molecules created:  58020\n",
      "total uncharacterized molecules removed:  467\n",
      "total QM9 molecules created:  57590\n",
      "pickling a copy of the QM9 datadic...\n",
      "CDataset created...\n",
      "CModel loaded...\n",
      "FFNet model loaded...\n",
      "learning time: 0:00:03.659895\n",
      "epoch: 0, lr: 0.01\n",
      "train loss: 110.37572570363427, val loss: 9.595747543103768\n",
      "sklearn train metric: 0, sklearn validation metric: 0\n",
      "learning time: 0:00:14.136713\n",
      "epoch: 3, lr: 0.01\n",
      "train loss: 7.617451291175405, val loss: 7.2990341042027325\n",
      "sklearn train metric: 0, sklearn validation metric: 0\n",
      "learning time: 0:00:24.740545\n",
      "epoch: 6, lr: 0.01\n",
      "train loss: 6.840954792727331, val loss: 6.678532643751665\n",
      "sklearn train metric: 0, sklearn validation metric: 0\n",
      "learning time: 0:00:35.445802\n",
      "epoch: 9, lr: 0.01\n",
      "train loss: 6.787634527607328, val loss: 6.146718256401293\n",
      "sklearn train metric: 0, sklearn validation metric: 0\n",
      "learning time: 0:00:39.085278\n",
      "epoch: 10, lr: 0.01\n",
      "train loss: 6.622844386252628, val loss: 7.6326838117657285\n",
      "sklearn train metric: 0, sklearn validation metric: 0\n",
      "learning time: 0:00:49.968999\n",
      "epoch: 13, lr: 0.01\n",
      "train loss: 6.315655012798917, val loss: 5.851499730890447\n",
      "sklearn train metric: 0, sklearn validation metric: 0\n",
      "learning time: 0:01:00.605808\n",
      "epoch: 16, lr: 0.01\n",
      "train loss: 6.368586722452929, val loss: 5.782618320349491\n",
      "sklearn train metric: 0, sklearn validation metric: 0\n",
      "learning time: 0:01:11.348336\n",
      "epoch: 19, lr: 0.01\n",
      "train loss: 6.221253546939534, val loss: 5.678001013669101\n",
      "sklearn train metric: 0, sklearn validation metric: 0\n",
      "learning time: 0:01:14.857990\n",
      "epoch: 20, lr: 0.01\n",
      "train loss: 6.116298168328158, val loss: 5.9146544427582715\n",
      "sklearn train metric: 0, sklearn validation metric: 0\n",
      "learning time: 0:01:25.618384\n",
      "epoch: 23, lr: 0.01\n",
      "train loss: 6.171086590760832, val loss: 5.742804801825321\n",
      "sklearn train metric: 0, sklearn validation metric: 0\n",
      "learning time: 0:01:36.277180\n",
      "epoch: 26, lr: 0.01\n",
      "train loss: 5.877130453753623, val loss: 5.647523475415779\n",
      "sklearn train metric: 0, sklearn validation metric: 0\n",
      "learning time: 0:01:47.057519\n",
      "epoch: 29, lr: 0.005\n",
      "train loss: 6.005564194575996, val loss: 5.475388454668449\n",
      "sklearn train metric: 0, sklearn validation metric: 0\n",
      "test loss: 5.772963942903461\n",
      "learning time: 0:01:47.814435\n",
      "sklearn test metric: \n",
      "0 \n",
      "\n"
     ]
    },
    {
     "data": {
      "image/png": "[encoded data removed]",
      "text/plain": [
       "<Figure size 432x288 with 1 Axes>"
      ]
     },
     "metadata": {
      "needs_background": "light"
     },
     "output_type": "display_data"
    }
   ],
   "source": [
    "model_params = {'D_in': 29*29, \n",
    "                'H': 4096, \n",
    "                'D_out': 1, \n",
    "                'model_name': 'funnel',\n",
    "                'embed_params': []}\n",
    "\n",
    "ds_params = {'train_params': {#'n': 10000,\n",
    "                              'features': ['coulomb'],\n",
    "                              'embeds': [],\n",
    "                              'targets': ['U0'],\n",
    "                              'pad': 29, \n",
    "                              'filter_on': ('n_atoms','>','18'),\n",
    "                              'use_pickle': 'n_atoms_greater_than_18.p',\n",
    "                              'flatten': True}}\n",
    "\n",
    "crit_params = {'reduction': 'sum'}\n",
    "sample_params = {'set_seed': 88,\n",
    "                 'splits': (.7,.15)}\n",
    "sched_params = {'factor': .5,\n",
    "                'patience': 5,\n",
    "                'cooldown': 2}\n",
    "opt_params = {'lr': 0.01}\n",
    "\n",
    "l = Learn([QM9], FFNet, Selector, Optimizer=Adam, Scheduler=ReduceLROnPlateau, Criterion=L1Loss, \n",
    "          model_params=model_params, ds_params=ds_params, sample_params=sample_params,\n",
    "          opt_params=opt_params, sched_params=sched_params, crit_params=crit_params,\n",
    "          adapt=False, load_model=False, load_embed=False, save_model=False, \n",
    "          batch_size=256, epochs=30)"
   ]
  },
  {
   "cell_type": "code",
   "execution_count": 9,
   "metadata": {},
   "outputs": [
    {
     "name": "stdout",
     "output_type": "stream",
     "text": [
      "molecules loaded:  1000\n",
      "molecules loaded:  2000\n",
      "molecules loaded:  3000\n",
      "molecules loaded:  3114\n",
      "CDataset created...\n",
      "CModel loaded...\n",
      "FFNet model loaded...\n",
      "learning time: 0:00:02.983432\n",
      "epoch: 0, lr: 0.01\n",
      "train loss: 564.303316004136, val loss: 529.7470092773438\n",
      "sklearn train metric: 0, sklearn validation metric: 0\n",
      "learning time: 0:00:14.763609\n",
      "epoch: 5, lr: 0.01\n",
      "train loss: 46.350862839642694, val loss: 42.78681182861328\n",
      "sklearn train metric: 0, sklearn validation metric: 0\n",
      "learning time: 0:00:26.627823\n",
      "epoch: 10, lr: 0.01\n",
      "train loss: 40.424245048971734, val loss: 37.40873591105143\n",
      "sklearn train metric: 0, sklearn validation metric: 0\n",
      "learning time: 0:00:38.230875\n",
      "epoch: 15, lr: 0.01\n",
      "train loss: 33.96495886409984, val loss: 31.55359141031901\n",
      "sklearn train metric: 0, sklearn validation metric: 0\n",
      "learning time: 0:00:49.824037\n",
      "epoch: 20, lr: 0.005\n",
      "train loss: 33.08600425720215, val loss: 36.601322174072266\n",
      "sklearn train metric: 0, sklearn validation metric: 0\n",
      "learning time: 0:01:01.604478\n",
      "epoch: 25, lr: 0.005\n",
      "train loss: 24.9513599171358, val loss: 30.646373112996418\n",
      "sklearn train metric: 0, sklearn validation metric: 0\n",
      "learning time: 0:01:13.331208\n",
      "epoch: 30, lr: 0.005\n",
      "train loss: 22.90695302626666, val loss: 24.320635477701824\n",
      "sklearn train metric: 0, sklearn validation metric: 0\n",
      "learning time: 0:01:24.939377\n",
      "epoch: 35, lr: 0.005\n",
      "train loss: 27.671808579388788, val loss: 27.329552332560223\n",
      "sklearn train metric: 0, sklearn validation metric: 0\n",
      "learning time: 0:01:36.398634\n",
      "epoch: 40, lr: 0.0025\n",
      "train loss: 21.02875468310188, val loss: 21.284979502360027\n",
      "sklearn train metric: 0, sklearn validation metric: 0\n",
      "learning time: 0:01:47.919400\n",
      "epoch: 45, lr: 0.0025\n",
      "train loss: 23.46738764818977, val loss: 31.348684946695965\n",
      "sklearn train metric: 0, sklearn validation metric: 0\n",
      "test loss: 25.697467803955078\n",
      "learning time: 0:01:57.610952\n",
      "sklearn test metric: \n",
      "0 \n",
      "\n"
     ]
    },
    {
     "data": {
      "image/png": "[encoded data removed]",
      "text/plain": [
       "<Figure size 432x288 with 1 Axes>"
      ]
     },
     "metadata": {
      "needs_background": "light"
     },
     "output_type": "display_data"
    }
   ],
   "source": [
    "model_params = {'D_in': 63*63+63*32, \n",
    "                'H': 8192, \n",
    "                'D_out': 1, \n",
    "                'model_name': 'funnel',\n",
    "                'embed_params': [('atomic_numbers',9,32,None,True)]}\n",
    "\n",
    "ds_params = {'train_params': {'features': ['distance'],\n",
    "                              'targets': ['wb97x_dz.energy'],\n",
    "                              'embeds': ['atomic_numbers'],\n",
    "                              'pad': 63, #length of the longest molecule in the dataset\n",
    "                              'flatten': True,\n",
    "                              'criterion': ['wb97x_dz.energy'],\n",
    "                              'conformation': 'random',\n",
    "                              'in_file': './data/ani1x/ani1x-release.h5'}}\n",
    "\n",
    "metrics_params = {'report_interval': 20}\n",
    "\n",
    "crit_params = {'reduction': 'sum'}\n",
    "sample_params = {'set_seed': 88,\n",
    "                 'splits': (.7,.15)}\n",
    "sched_params = {'factor': .5,\n",
    "                'patience': 5,\n",
    "                'cooldown': 5}\n",
    "opt_params = {'lr': 0.01}\n",
    "\n",
    "l = Learn([ANI1x], FFNet, Selector, Optimizer=Adam, Scheduler=ReduceLROnPlateau, Criterion=L1Loss, \n",
    "          model_params=model_params, ds_params=ds_params, sample_params=sample_params,\n",
    "          opt_params=opt_params, sched_params=sched_params, crit_params=crit_params,\n",
    "          adapt=False, load_model=False, load_embed=False, save_model=False, \n",
    "          batch_size=128, epochs=50)"
   ]
  },
  {
   "cell_type": "code",
   "execution_count": null,
   "metadata": {},
   "outputs": [],
   "source": []
  }
 ],
 "metadata": {
  "kernelspec": {
   "display_name": "Python 3",
   "language": "python",
   "name": "python3"
  },
  "language_info": {
   "codemirror_mode": {
    "name": "ipython",
    "version": 3
   },
   "file_extension": ".py",
   "mimetype": "text/x-python",
   "name": "python",
   "nbconvert_exporter": "python",
   "pygments_lexer": "ipython3",
   "version": "3.7.9"
  }
 },
 "nbformat": 4,
 "nbformat_minor": 4
}
