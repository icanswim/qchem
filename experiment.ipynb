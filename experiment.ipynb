{
 "cells": [
  {
   "cell_type": "code",
   "execution_count": 2,
   "metadata": {},
   "outputs": [],
   "source": [
    "# This is a series of examples using the icanswim/qchem quantum mechanic machine learning repo\n",
    "# icanswim/qchem utilizes the icanswim/cosmosis data science machine learning repo"
   ]
  },
  {
   "cell_type": "code",
   "execution_count": 1,
   "metadata": {},
   "outputs": [
    {
     "name": "stderr",
     "output_type": "stream",
     "text": [
      "RDKit WARNING: [11:13:10] Enabling RDKit 2019.09.3 jupyter extensions\n"
     ]
    }
   ],
   "source": [
    "import sys # required for relative imports in jupyter lab\n",
    "sys.path.insert(0, '../') \n",
    "\n",
    "from cosmosis.model import FFNet\n",
    "from cosmosis.learning import Learn, Selector\n",
    "from cosmosis.dataset import SKDS\n",
    "\n",
    "from dataset import QM7, QM7b, QM7X, QM9, ANI1x\n",
    "\n",
    "from torch.optim import Adam\n",
    "from torch.nn import MSELoss, L1Loss\n",
    "from torch.optim.lr_scheduler import ReduceLROnPlateau"
   ]
  },
  {
   "cell_type": "code",
   "execution_count": 8,
   "metadata": {},
   "outputs": [
    {
     "name": "stdout",
     "output_type": "stream",
     "text": [
      "CDataset created...\n",
      "SKDS make_regression created...\n",
      "CModel loaded...\n",
      "FFNet model loaded...\n",
      "learning time: 0:00:00.984386\n",
      "epoch: 0, lr: 0.01\n",
      "train loss: 19201.32078269676, val loss: 12989.934765625\n",
      "sklearn train metric: 0, sklearn validation metric: 0\n",
      "learning time: 0:00:10.774455\n",
      "epoch: 10, lr: 0.01\n",
      "train loss: 450.48255637839986, val loss: 406.7381072998047\n",
      "sklearn train metric: 0, sklearn validation metric: 0\n",
      "test loss: 327.79901123046875\n",
      "learning time: 0:00:19.942210\n",
      "sklearn test metric: \n",
      "0 \n",
      "\n"
     ]
    },
    {
     "data": {
      "image/png": "[encoded data removed]",
      "text/plain": [
       "<Figure size 432x288 with 1 Axes>"
      ]
     },
     "metadata": {
      "needs_background": "light"
     },
     "output_type": "display_data"
    }
   ],
   "source": [
    "## Example using scikit dataset wrapper SKDS and custom model\n",
    "model_params = {'D_in': 128, \n",
    "                'H': 512, \n",
    "                'D_out': 1, \n",
    "                'model_name': 'funnel'}\n",
    "\n",
    "ds_params = {'train_params': {'features': ['X'],\n",
    "                              'targets': ['y'],\n",
    "                              'features_dtype': 'float32',\n",
    "                              'targets_dtype': 'float32',\n",
    "                              'make': 'make_regression',\n",
    "                              'transform': [],\n",
    "                              'target_transform': [],\n",
    "                              'sk_params': {'n_samples': 10000,\n",
    "                                            'n_features': 128}}}\n",
    "\n",
    "metrics_params = {'report_interval': 10}\n",
    "\n",
    "opt_params = {'lr': 0.01}\n",
    "\n",
    "crit_params = {'reduction': 'sum'}\n",
    "\n",
    "sample_params = {'set_seed': 88,\n",
    "                 'splits': (.7, .15)}\n",
    "\n",
    "sched_params = {'factor': .5,\n",
    "                'patience': 2,\n",
    "                'cooldown': 1}\n",
    "\n",
    "l = Learn([SKDS], FFNet, Selector, \n",
    "          Optimizer=Adam, Scheduler=ReduceLROnPlateau, Criterion=MSELoss, \n",
    "          model_params=model_params, ds_params=ds_params, sample_params=sample_params,\n",
    "          opt_params=opt_params, sched_params=sched_params, crit_params=crit_params,\n",
    "          metrics_params=metrics_params,\n",
    "          adapt=False, load_model=False, load_embed=False, save_model=False,\n",
    "          batch_size=256, epochs=20)"
   ]
  },
  {
   "cell_type": "code",
   "execution_count": 2,
   "metadata": {},
   "outputs": [
    {
     "name": "stdout",
     "output_type": "stream",
     "text": [
      "CDataset created...\n",
      "CModel loaded...\n",
      "FFNet model loaded...\n",
      "learning time: 0:00:02.980797\n",
      "epoch: 0, lr: 0.01\n",
      "train loss: 1531.2722296463817, val loss: 1501.6554870605469\n",
      "sklearn train metric: 0, sklearn validation metric: 0\n",
      "learning time: 0:00:12.609225\n",
      "epoch: 10, lr: 0.01\n",
      "train loss: 33.91697542290939, val loss: 36.699997901916504\n",
      "sklearn train metric: 0, sklearn validation metric: 0\n",
      "test loss: 32.24605894088745\n",
      "learning time: 0:00:21.644073\n",
      "sklearn test metric: \n",
      "0 \n",
      "\n"
     ]
    },
    {
     "data": {
      "image/png": "[encoded data removed]",
      "text/plain": [
       "<Figure size 432x288 with 1 Axes>"
      ]
     },
     "metadata": {
      "needs_background": "light"
     },
     "output_type": "display_data"
    }
   ],
   "source": [
    "## Example using QM7 dataset and custom model with embeddings\n",
    "model_params = {'D_in': 23*23+23*32, \n",
    "                'H': 4096, \n",
    "                'D_out': 1, \n",
    "                'model_name': 'funnel',\n",
    "                'embed_params': [('atoms',7,32,None,True)]}\n",
    "\n",
    "ds_params = {'train_params': {'features': ['coulomb'],\n",
    "                              'targets': ['ae'],\n",
    "                              'embeds': ['atoms'],\n",
    "                              'in_file': './data/qm7/qm7.mat',\n",
    "                              'flatten': True}}\n",
    "\n",
    "metrics_params = {'report_interval': 10}\n",
    "\n",
    "crit_params = {'reduction': 'sum'}\n",
    "\n",
    "sample_params = {'set_seed': 88,\n",
    "                 'splits': (.7,.15)}\n",
    "\n",
    "sched_params = {'factor': .5,\n",
    "                'patience': 2,\n",
    "                'cooldown': 1}\n",
    "\n",
    "opt_params = {'lr': 0.01}\n",
    "\n",
    "l = Learn([QM7], FFNet, Selector, \n",
    "          Optimizer=Adam, Scheduler=ReduceLROnPlateau, Criterion=L1Loss, \n",
    "          model_params=model_params, ds_params=ds_params, sample_params=sample_params,\n",
    "          opt_params=opt_params, sched_params=sched_params, crit_params=crit_params,\n",
    "          metrics_params=metrics_params,\n",
    "          adapt=False, load_model=False, load_embed=False, save_model=False, \n",
    "          batch_size=256, epochs=20)"
   ]
  },
  {
   "cell_type": "code",
   "execution_count": 3,
   "metadata": {},
   "outputs": [
    {
     "name": "stdout",
     "output_type": "stream",
     "text": [
      "CDataset created...\n",
      "CModel loaded...\n",
      "FFNet model loaded...\n",
      "learning time: 0:00:01.054862\n",
      "epoch: 0, lr: 0.01\n",
      "train loss: 1562.2833444695723, val loss: 1545.4393005371094\n",
      "sklearn train metric: 0, sklearn validation metric: 0\n",
      "learning time: 0:00:09.171339\n",
      "epoch: 10, lr: 0.01\n",
      "train loss: 56.134045249537415, val loss: 61.8054313659668\n",
      "sklearn train metric: 0, sklearn validation metric: 0\n",
      "learning time: 0:00:16.821738\n",
      "epoch: 20, lr: 0.01\n",
      "train loss: 47.00850637335526, val loss: 56.06629657745361\n",
      "sklearn train metric: 0, sklearn validation metric: 0\n",
      "learning time: 0:00:24.507532\n",
      "epoch: 30, lr: 0.005\n",
      "train loss: 41.75597823293585, val loss: 50.23487949371338\n",
      "sklearn train metric: 0, sklearn validation metric: 0\n",
      "learning time: 0:00:32.096851\n",
      "epoch: 40, lr: 0.0025\n",
      "train loss: 38.20848746048777, val loss: 50.91471767425537\n",
      "sklearn train metric: 0, sklearn validation metric: 0\n",
      "test loss: 50.60513401031494\n",
      "learning time: 0:00:39.375706\n",
      "sklearn test metric: \n",
      "0 \n",
      "\n"
     ]
    },
    {
     "data": {
      "image/png": "[encoded data removed]",
      "text/plain": [
       "<Figure size 432x288 with 1 Axes>"
      ]
     },
     "metadata": {
      "needs_background": "light"
     },
     "output_type": "display_data"
    }
   ],
   "source": [
    "## Example using the QM7b dataset\n",
    "model_params = {'D_in': 23*23, \n",
    "                'H': 2048, \n",
    "                'D_out': 1, \n",
    "                'model_name': 'funnel'}\n",
    "\n",
    "ds_params = {'train_params': {'features': ['coulomb'],\n",
    "                              'targets': ['E'],\n",
    "                              'in_file': './data/qm7b/qm7b.mat',\n",
    "                              'flatten': True}}\n",
    "\n",
    "metrics_params = {'report_interval': 10}\n",
    "\n",
    "crit_params = {'reduction': 'sum'}\n",
    "\n",
    "sample_params = {'set_seed': 88,\n",
    "                 'splits': (.7,.15)}\n",
    "\n",
    "sched_params = {'factor': .5,\n",
    "                'patience': 5,\n",
    "                'cooldown': 2}\n",
    "\n",
    "opt_params = {'lr': 0.01}\n",
    "\n",
    "l = Learn([QM7b], FFNet, Selector, \n",
    "          Optimizer=Adam, Scheduler=ReduceLROnPlateau, Criterion=L1Loss, \n",
    "          model_params=model_params, ds_params=ds_params, sample_params=sample_params,\n",
    "          opt_params=opt_params, sched_params=sched_params, crit_params=crit_params,\n",
    "          metrics_params=metrics_params,\n",
    "          adapt=False, load_model=False, load_embed=False, save_model=False, \n",
    "          batch_size=256, epochs=50)"
   ]
  },
  {
   "cell_type": "code",
   "execution_count": 4,
   "metadata": {},
   "outputs": [
    {
     "name": "stdout",
     "output_type": "stream",
     "text": [
      "mapping...  <HDF5 file \"1000.hdf5\" (mode r)>\n",
      "mapping...  <HDF5 file \"2000.hdf5\" (mode r)>\n",
      "mapping...  <HDF5 file \"3000.hdf5\" (mode r)>\n",
      "mapping...  <HDF5 file \"4000.hdf5\" (mode r)>\n",
      "mapping...  <HDF5 file \"5000.hdf5\" (mode r)>\n",
      "mapping...  <HDF5 file \"6000.hdf5\" (mode r)>\n",
      "mapping...  <HDF5 file \"7000.hdf5\" (mode r)>\n",
      "mapping...  <HDF5 file \"8000.hdf5\" (mode r)>\n",
      "molecular formula (idmol) mapped:  6950\n",
      "total molecular structures (idconf) mapped:  41537\n",
      "CDataset created...\n",
      "longest molecule length:  23\n"
     ]
    },
    {
     "data": {
      "text/plain": [
       "(array([6., 1., 1., 1., 1.], dtype=float32), [], [])"
      ]
     },
     "execution_count": 4,
     "metadata": {},
     "output_type": "execute_result"
    }
   ],
   "source": [
    "## Find the longest molecule in the QM7X dataset\n",
    "ds_params = {'train_params': {'features': ['atNUM'],\n",
    "                              'pad': None,\n",
    "                              'targets': [],\n",
    "                              'embeds': [],\n",
    "                              'selector': ['opt']}}\n",
    "\n",
    "qm7x = QM7X(**ds_params['train_params'])\n",
    "l = 0\n",
    "for i in qm7x.ds_idx:\n",
    "    s = qm7x[i][0].shape[0]\n",
    "    if s > l:\n",
    "        l = s\n",
    "print('longest molecule length: ', l)\n",
    "\n",
    "qm7x[1]"
   ]
  },
  {
   "cell_type": "code",
   "execution_count": 5,
   "metadata": {},
   "outputs": [
    {
     "name": "stdout",
     "output_type": "stream",
     "text": [
      "mapping...  <HDF5 file \"1000.hdf5\" (mode r)>\n",
      "mapping...  <HDF5 file \"2000.hdf5\" (mode r)>\n",
      "mapping...  <HDF5 file \"3000.hdf5\" (mode r)>\n",
      "mapping...  <HDF5 file \"4000.hdf5\" (mode r)>\n",
      "mapping...  <HDF5 file \"5000.hdf5\" (mode r)>\n",
      "mapping...  <HDF5 file \"6000.hdf5\" (mode r)>\n",
      "mapping...  <HDF5 file \"7000.hdf5\" (mode r)>\n",
      "mapping...  <HDF5 file \"8000.hdf5\" (mode r)>\n",
      "molecular formula (idmol) mapped:  6950\n",
      "total molecular structures (idconf) mapped:  41537\n",
      "CDataset created...\n",
      "CModel loaded...\n",
      "FFNet model loaded...\n",
      "learning time: 0:00:01.365717\n",
      "epoch: 0, lr: 0.01\n",
      "train loss: 66.12383752120168, val loss: 44.68240928649902\n",
      "sklearn train metric: 0, sklearn validation metric: 0\n",
      "learning time: 0:00:12.022536\n",
      "epoch: 9, lr: 0.01\n",
      "train loss: 2.4912185668945312, val loss: 2.617420732975006\n",
      "sklearn train metric: 0, sklearn validation metric: 0\n",
      "learning time: 0:00:13.210936\n",
      "epoch: 10, lr: 0.01\n",
      "train loss: 2.288787979828684, val loss: 2.087994337081909\n",
      "sklearn train metric: 0, sklearn validation metric: 0\n",
      "learning time: 0:00:23.925325\n",
      "epoch: 19, lr: 0.01\n",
      "train loss: 2.2765529343956397, val loss: 2.3566340506076813\n",
      "sklearn train metric: 0, sklearn validation metric: 0\n",
      "learning time: 0:00:25.127531\n",
      "epoch: 20, lr: 0.01\n",
      "train loss: 2.3934977870238456, val loss: 2.3970333337783813\n",
      "sklearn train metric: 0, sklearn validation metric: 0\n",
      "learning time: 0:00:35.999158\n",
      "epoch: 29, lr: 0.01\n",
      "train loss: 2.088475515967921, val loss: 2.0429900884628296\n",
      "sklearn train metric: 0, sklearn validation metric: 0\n",
      "learning time: 0:00:37.214169\n",
      "epoch: 30, lr: 0.01\n",
      "train loss: 2.041450964777093, val loss: 1.9365511536598206\n",
      "sklearn train metric: 0, sklearn validation metric: 0\n",
      "learning time: 0:00:47.919530\n",
      "epoch: 39, lr: 0.0025\n",
      "train loss: 1.8799636865917004, val loss: 1.7662029564380646\n",
      "sklearn train metric: 0, sklearn validation metric: 0\n",
      "learning time: 0:00:49.131738\n",
      "epoch: 40, lr: 0.0025\n",
      "train loss: 1.681740641593933, val loss: 1.7326144576072693\n",
      "sklearn train metric: 0, sklearn validation metric: 0\n",
      "learning time: 0:00:59.959664\n",
      "epoch: 49, lr: 0.0025\n",
      "train loss: 1.6651149047048468, val loss: 1.6930798888206482\n",
      "sklearn train metric: 0, sklearn validation metric: 0\n",
      "test loss: 1.8407726883888245\n",
      "learning time: 0:01:00.390404\n",
      "sklearn test metric: \n",
      "0 \n",
      "\n"
     ]
    },
    {
     "data": {
      "image/png": "[encoded data removed]",
      "text/plain": [
       "<Figure size 432x288 with 1 Axes>"
      ]
     },
     "metadata": {
      "needs_background": "light"
     },
     "output_type": "display_data"
    }
   ],
   "source": [
    "## Example using the QM7X dataset and custom model with embeddings\n",
    "model_params = {'D_in': 23*23+23*64, \n",
    "                'H': 4096, \n",
    "                'D_out': 1, \n",
    "                'model_name': 'funnel',\n",
    "                'embed_params': [('atNUM',9,64,None,True)]}\n",
    "\n",
    "ds_params = {'train_params': {'features': ['distance'],\n",
    "                              'pad': 23,\n",
    "                              'do_not_pad':['eAT'],\n",
    "                              'targets': ['eAT'],\n",
    "                              'embeds': ['atNUM'],\n",
    "                              'selector': ['opt'],\n",
    "                              'flatten': True}}\n",
    "\n",
    "metrics_params = {'report_interval': 10}\n",
    "\n",
    "crit_params = {'reduction': 'sum'}\n",
    "\n",
    "sample_params = {'set_seed': 88,\n",
    "                 'splits': (.7,.15)}\n",
    "\n",
    "sched_params = {'factor': .5,\n",
    "                'patience': 5,\n",
    "                'cooldown': 2}\n",
    "\n",
    "opt_params = {'lr': 0.01}\n",
    "\n",
    "l = Learn([QM7X], FFNet, Selector, \n",
    "          Optimizer=Adam, Scheduler=ReduceLROnPlateau, Criterion=L1Loss, \n",
    "          model_params=model_params, ds_params=ds_params, sample_params=sample_params,\n",
    "          opt_params=opt_params, sched_params=sched_params, crit_params=crit_params,\n",
    "          metrics_params=metrics_params,\n",
    "          adapt=False, load_model=False, load_embed=False, save_model=False, \n",
    "          batch_size=256, epochs=50)"
   ]
  },
  {
   "cell_type": "code",
   "execution_count": 6,
   "metadata": {
    "tags": []
   },
   "outputs": [
    {
     "name": "stdout",
     "output_type": "stream",
     "text": [
      "creating QM9 dataset...\n",
      "QM9 molecules scanned:  1\n",
      "QM9 molecules created:  1\n",
      "total uncharacterized molecules removed:  273\n",
      "total QM9 molecules created:  9727\n",
      "CDataset created...\n",
      "CModel loaded...\n",
      "FFNet model loaded...\n",
      "learning time: 0:00:01.334890\n",
      "epoch: 0, lr: 0.01\n",
      "train loss: 337.1465348463792, val loss: 289.367529296875\n",
      "sklearn train metric: 0, sklearn validation metric: 0\n",
      "learning time: 0:00:12.041069\n",
      "epoch: 9, lr: 0.01\n",
      "train loss: 8.58659133544335, val loss: 7.588672065734864\n",
      "sklearn train metric: 0, sklearn validation metric: 0\n",
      "learning time: 0:00:13.227302\n",
      "epoch: 10, lr: 0.01\n",
      "train loss: 8.199295117304874, val loss: 8.579329109191894\n",
      "sklearn train metric: 0, sklearn validation metric: 0\n",
      "learning time: 0:00:24.068412\n",
      "epoch: 19, lr: 0.01\n",
      "train loss: 7.790128451127273, val loss: 7.554365730285644\n",
      "sklearn train metric: 0, sklearn validation metric: 0\n",
      "test loss: 7.640756702423095\n",
      "learning time: 0:00:24.533654\n",
      "sklearn test metric: \n",
      "0 \n",
      "\n"
     ]
    },
    {
     "data": {
      "image/png": "[encoded data removed]",
      "text/plain": [
       "<Figure size 432x288 with 1 Axes>"
      ]
     },
     "metadata": {
      "needs_background": "light"
     },
     "output_type": "display_data"
    }
   ],
   "source": [
    "## Example using the QM9 dataset\n",
    "model_params = {'D_in': 29*29+12+29,\n",
    "                'H': 4096, \n",
    "                'D_out': 1, \n",
    "                'model_name': 'funnel'}\n",
    "\n",
    "ds_params = {'train_params': {'n': 10000, \n",
    "                              'features': ['n_atoms','A','B','C','mu','alpha','homo','lumo', \n",
    "                                           'gap','r2','zpve','Cv','mulliken','coulomb'],\n",
    "                              'embeds': [], \n",
    "                              'targets': ['U0'],\n",
    "                              'pad': 29,\n",
    "                              'do_not_pad': ['n_atoms','A','B','C','mu','alpha','homo','lumo',\n",
    "                                             'gap','r2','zpve','Cv','U0'],\n",
    "                              'filter_on': None,\n",
    "                              'use_pickle': False,\n",
    "                              'flatten': True}}\n",
    "\n",
    "metrics_params = {'report_interval': 10}\n",
    "\n",
    "crit_params = {'reduction': 'sum'}\n",
    "\n",
    "sample_params = {'set_seed': 88,\n",
    "                 'splits': (.7,.15)}\n",
    "\n",
    "sched_params = {'factor': .5,\n",
    "                'patience': 5,\n",
    "                'cooldown': 2}\n",
    "\n",
    "opt_params = {'lr': 0.01}\n",
    "\n",
    "l = Learn([QM9], FFNet, Selector, \n",
    "          Optimizer=Adam, Scheduler=ReduceLROnPlateau, Criterion=L1Loss, \n",
    "          model_params=model_params, ds_params=ds_params, sample_params=sample_params,\n",
    "          opt_params=opt_params, sched_params=sched_params, crit_params=crit_params,\n",
    "          metrics_params=metrics_params,\n",
    "          adapt=False, load_model=False, load_embed=False, save_model=False, \n",
    "          batch_size=256, epochs=20)"
   ]
  },
  {
   "cell_type": "code",
   "execution_count": 7,
   "metadata": {},
   "outputs": [
    {
     "name": "stdout",
     "output_type": "stream",
     "text": [
      "creating QM9 dataset...\n",
      "QM9 molecules scanned:  1\n",
      "QM9 molecules created:  0\n",
      "QM9 molecules scanned:  10001\n",
      "QM9 molecules created:  1853\n",
      "QM9 molecules scanned:  20001\n",
      "QM9 molecules created:  4109\n",
      "QM9 molecules scanned:  30001\n",
      "QM9 molecules created:  5164\n",
      "QM9 molecules scanned:  40001\n",
      "QM9 molecules created:  8487\n",
      "total uncharacterized molecules removed:  66\n",
      "total QM9 molecules created:  9934\n",
      "CDataset created...\n",
      "CModel loaded...\n",
      "FFNet model loaded...\n",
      "learning time: 0:00:01.413467\n",
      "epoch: 0, lr: 0.01\n",
      "train loss: 355.6630689832899, val loss: 304.3226013183594\n",
      "sklearn train metric: 0, sklearn validation metric: 0\n",
      "learning time: 0:00:11.466751\n",
      "epoch: 8, lr: 0.01\n",
      "train loss: 8.580296498757821, val loss: 7.673767852783203\n",
      "sklearn train metric: 0, sklearn validation metric: 0\n",
      "learning time: 0:00:14.004917\n",
      "epoch: 10, lr: 0.01\n",
      "train loss: 7.8297684987386065, val loss: 7.503078842163086\n",
      "sklearn train metric: 0, sklearn validation metric: 0\n",
      "learning time: 0:00:24.095310\n",
      "epoch: 18, lr: 0.01\n",
      "train loss: 7.8409783222057206, val loss: 8.445822715759277\n",
      "sklearn train metric: 0, sklearn validation metric: 0\n",
      "learning time: 0:00:26.608746\n",
      "epoch: 20, lr: 0.01\n",
      "train loss: 7.392786167286061, val loss: 8.591442966461182\n",
      "sklearn train metric: 0, sklearn validation metric: 0\n",
      "learning time: 0:00:36.696107\n",
      "epoch: 28, lr: 0.01\n",
      "train loss: 7.4401896618030685, val loss: 8.604035758972168\n",
      "sklearn train metric: 0, sklearn validation metric: 0\n",
      "test loss: 7.778466606140137\n",
      "learning time: 0:00:38.401165\n",
      "sklearn test metric: \n",
      "0 \n",
      "\n"
     ]
    },
    {
     "data": {
      "image/png": "[encoded data removed]",
      "text/plain": [
       "<Figure size 432x288 with 1 Axes>"
      ]
     },
     "metadata": {
      "needs_background": "light"
     },
     "output_type": "display_data"
    }
   ],
   "source": [
    "## Example using the QM9 dataset filter\n",
    "model_params = {'D_in': 29*29+29+12, \n",
    "                'H': 4096, \n",
    "                'D_out': 1, \n",
    "                'model_name': 'funnel',\n",
    "                'embed_params': []}\n",
    "\n",
    "ds_params = {'train_params': {'n': 10000,\n",
    "                              'features': ['n_atoms','A','B','C','mu','alpha','homo','lumo', \n",
    "                                           'gap','r2','zpve','Cv','mulliken','coulomb'],\n",
    "                              'embeds': [],\n",
    "                              'targets': ['U0'],\n",
    "                              'pad': 29,\n",
    "                              'do_not_pad': ['n_atoms','A','B','C','mu','alpha','homo','lumo',\n",
    "                                             'gap','r2','zpve','Cv','U0'],\n",
    "                              'filter_on': ('n_atoms','>','18'),\n",
    "                              'use_pickle': False,\n",
    "                              'flatten': True}}\n",
    "\n",
    "crit_params = {'reduction': 'sum'}\n",
    "sample_params = {'set_seed': 88,\n",
    "                 'splits': (.7,.15)}\n",
    "sched_params = {'factor': .5,\n",
    "                'patience': 5,\n",
    "                'cooldown': 2}\n",
    "opt_params = {'lr': 0.01}\n",
    "\n",
    "l = Learn([QM9], FFNet, Selector, Optimizer=Adam, Scheduler=ReduceLROnPlateau, Criterion=L1Loss, \n",
    "          model_params=model_params, ds_params=ds_params, sample_params=sample_params,\n",
    "          opt_params=opt_params, sched_params=sched_params, crit_params=crit_params,\n",
    "          adapt=False, load_model=False, load_embed=False, save_model=False, \n",
    "          batch_size=256, epochs=30)"
   ]
  },
  {
   "cell_type": "code",
   "execution_count": 3,
   "metadata": {},
   "outputs": [
    {
     "name": "stdout",
     "output_type": "stream",
     "text": [
      "molecules loaded:  1000\n",
      "molecules loaded:  2000\n",
      "molecules loaded:  3000\n",
      "molecules loaded:  3114\n",
      "CDataset created...\n",
      "CModel loaded...\n",
      "FFNet model loaded...\n",
      "learning time: 0:00:05.755647\n",
      "epoch: 0, lr: 0.01\n",
      "train loss: 564.6212265912225, val loss: 530.7169799804688\n",
      "sklearn train metric: 0, sklearn validation metric: 0\n",
      "learning time: 0:00:17.396970\n",
      "epoch: 6, lr: 0.01\n",
      "train loss: 39.19345810834099, val loss: 36.48549016316732\n",
      "sklearn train metric: 0, sklearn validation metric: 0\n",
      "learning time: 0:00:25.106710\n",
      "epoch: 10, lr: 0.01\n",
      "train loss: 37.979500377879425, val loss: 33.13790384928385\n",
      "sklearn train metric: 0, sklearn validation metric: 0\n",
      "learning time: 0:00:36.776086\n",
      "epoch: 16, lr: 0.005\n",
      "train loss: 28.411951177260455, val loss: 25.274171829223633\n",
      "sklearn train metric: 0, sklearn validation metric: 0\n",
      "learning time: 0:00:44.503816\n",
      "epoch: 20, lr: 0.005\n",
      "train loss: 28.826579262228574, val loss: 36.77651341756185\n",
      "sklearn train metric: 0, sklearn validation metric: 0\n",
      "learning time: 0:00:56.044686\n",
      "epoch: 26, lr: 0.005\n",
      "train loss: 27.568212396958295, val loss: 23.73380406697591\n",
      "sklearn train metric: 0, sklearn validation metric: 0\n",
      "learning time: 0:01:03.798405\n",
      "epoch: 30, lr: 0.005\n",
      "train loss: 24.133097816916074, val loss: 27.086740493774414\n",
      "sklearn train metric: 0, sklearn validation metric: 0\n",
      "learning time: 0:01:15.485117\n",
      "epoch: 36, lr: 0.0025\n",
      "train loss: 21.469035877900964, val loss: 25.112782796223957\n",
      "sklearn train metric: 0, sklearn validation metric: 0\n",
      "learning time: 0:01:23.328124\n",
      "epoch: 40, lr: 0.0025\n",
      "train loss: 20.585910460528204, val loss: 19.229782740275066\n",
      "sklearn train metric: 0, sklearn validation metric: 0\n",
      "learning time: 0:01:34.895109\n",
      "epoch: 46, lr: 0.00125\n",
      "train loss: 22.748957970563104, val loss: 33.24510129292806\n",
      "sklearn train metric: 0, sklearn validation metric: 0\n",
      "test loss: 26.455748558044434\n",
      "learning time: 0:01:41.255916\n",
      "sklearn test metric: \n",
      "0 \n",
      "\n"
     ]
    },
    {
     "data": {
      "image/png": "[encoded data removed]",
      "text/plain": [
       "<Figure size 432x288 with 1 Axes>"
      ]
     },
     "metadata": {
      "needs_background": "light"
     },
     "output_type": "display_data"
    }
   ],
   "source": [
    "## Example using ANI1x dataset with filter and embeddings with a custom model\n",
    "model_params = {'D_in': 63*63+63*32, \n",
    "                'H': 8192, \n",
    "                'D_out': 1, \n",
    "                'model_name': 'funnel',\n",
    "                'embed_params': [('atomic_numbers',9,32,None,True)]}\n",
    "\n",
    "ds_params = {'train_params': {'features': ['distance'],\n",
    "                              'targets': ['wb97x_dz.energy'],\n",
    "                              'embeds': ['atomic_numbers'],\n",
    "                              'pad': 63, #length of the longest molecule in the dataset\n",
    "                              'flatten': True,\n",
    "                              'criterion': ['wb97x_dz.energy'],\n",
    "                              'conformation': 'random',\n",
    "                              'in_file': './data/ani1x/ani1x-release.h5'}}\n",
    "\n",
    "metrics_params = {'report_interval': 20}\n",
    "\n",
    "crit_params = {'reduction': 'sum'}\n",
    "sample_params = {'set_seed': 88,\n",
    "                 'splits': (.7,.15)}\n",
    "sched_params = {'factor': .5,\n",
    "                'patience': 5,\n",
    "                'cooldown': 5}\n",
    "opt_params = {'lr': 0.01}\n",
    "\n",
    "l = Learn([ANI1x], FFNet, Selector, Optimizer=Adam, Scheduler=ReduceLROnPlateau, Criterion=L1Loss, \n",
    "          model_params=model_params, ds_params=ds_params, sample_params=sample_params,\n",
    "          opt_params=opt_params, sched_params=sched_params, crit_params=crit_params,\n",
    "          adapt=False, load_model=False, load_embed=False, save_model=False, \n",
    "          batch_size=128, epochs=50)"
   ]
  },
  {
   "cell_type": "code",
   "execution_count": null,
   "metadata": {},
   "outputs": [],
   "source": []
  }
 ],
 "metadata": {
  "kernelspec": {
   "display_name": "Python 3",
   "language": "python",
   "name": "python3"
  },
  "language_info": {
   "codemirror_mode": {
    "name": "ipython",
    "version": 3
   },
   "file_extension": ".py",
   "mimetype": "text/x-python",
   "name": "python",
   "nbconvert_exporter": "python",
   "pygments_lexer": "ipython3",
   "version": "3.8.12"
  }
 },
 "nbformat": 4,
 "nbformat_minor": 4
}
