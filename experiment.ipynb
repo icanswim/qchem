{
 "cells": [
  {
   "cell_type": "code",
   "execution_count": 1,
   "metadata": {},
   "outputs": [],
   "source": [
    "import sys # required for relative imports in jupyter lab\n",
    "sys.path.insert(0, '../') \n",
    "\n",
    "from cosmosis.model import FFNet\n",
    "from cosmosis.learning import Learn, Selector\n",
    "from cosmosis.dataset import SKDS\n",
    "\n",
    "from dataset import QM7, QM7b, QM7X, QM9, ANI1x\n",
    "\n",
    "from torch.optim import Adam\n",
    "from torch.nn import MSELoss, L1Loss\n",
    "from torch.optim.lr_scheduler import ReduceLROnPlateau"
   ]
  },
  {
   "cell_type": "code",
   "execution_count": 3,
   "metadata": {},
   "outputs": [
    {
     "name": "stdout",
     "output_type": "stream",
     "text": [
      "SKDS created...\n",
      "CModel loaded...\n",
      "FFNet model loaded...\n",
      "learning time: 0:00:00.544098\n",
      "epoch: 0, lr: 0.01\n",
      "train loss: 22982.265190972223, val loss: 14582.9009765625\n",
      "train sk metric: 0, val sk metric: 0\n",
      "learning time: 0:00:05.684421\n",
      "epoch: 10, lr: 0.0025\n",
      "train loss: 439.57954463252315, val loss: 383.9063781738281\n",
      "train sk metric: 0, val sk metric: 0\n",
      "test loss: 459.4569946289063\n",
      "learning time: 0:00:10.504625\n",
      "test sklearn metric: \n",
      "0 \n",
      "\n"
     ]
    },
    {
     "data": {
      "image/png": "[encoded data removed]",
      "text/plain": [
       "<Figure size 432x288 with 1 Axes>"
      ]
     },
     "metadata": {
      "needs_background": "light"
     },
     "output_type": "display_data"
    }
   ],
   "source": [
    "model_params = {'D_in': 128, \n",
    "                'H': 512, \n",
    "                'D_out': 1, \n",
    "                'model_name': 'funnel'}\n",
    "\n",
    "ds_params = {'train_params': {'embed': [],\n",
    "                              'make': 'make_regression',\n",
    "                              'transform': None,\n",
    "                              'target_transform': None,\n",
    "                              'sk_params': {'n_samples': 10000,\n",
    "                                            'n_features': 128}}}\n",
    "\n",
    "metrics_params = {'report_interval': 10}\n",
    "\n",
    "opt_params = {'lr': 0.01}\n",
    "\n",
    "crit_params = {'reduction': 'sum'}\n",
    "\n",
    "sample_params = {'set_seed': 88,\n",
    "                 'splits': (.7, .15)}\n",
    "\n",
    "sched_params = {'factor': .5,\n",
    "                'patience': 1}\n",
    "\n",
    "l = Learn([SKDS], FFNet, Selector, \n",
    "          Optimizer=Adam, Scheduler=ReduceLROnPlateau, Criterion=MSELoss, \n",
    "          model_params=model_params, ds_params=ds_params, sample_params=sample_params,\n",
    "          opt_params=opt_params, sched_params=sched_params, crit_params=crit_params,\n",
    "          metrics_params=metrics_params,\n",
    "          adapt=False, load_model=False, load_embed=False, save_model=False,\n",
    "          batch_size=256, epochs=20)"
   ]
  },
  {
   "cell_type": "code",
   "execution_count": 5,
   "metadata": {},
   "outputs": [
    {
     "name": "stdout",
     "output_type": "stream",
     "text": [
      "CModel loaded...\n",
      "FFNet model loaded...\n",
      "learning time: 0:00:00.904152\n",
      "epoch: 0, lr: 0.01\n",
      "train loss: 1537.897731477535, val loss: 1525.2370571010688\n",
      "train sk metric: 0, val sk metric: 0\n",
      "learning time: 0:00:08.267669\n",
      "epoch: 10, lr: 0.01\n",
      "train loss: 89.29911416106754, val loss: 123.02778524160385\n",
      "train sk metric: 0, val sk metric: 0\n",
      "learning time: 0:00:15.737494\n",
      "epoch: 20, lr: 0.01\n",
      "train loss: 30.962499505943722, val loss: 31.174787163734436\n",
      "train sk metric: 0, val sk metric: 0\n",
      "learning time: 0:00:23.125051\n",
      "epoch: 30, lr: 0.01\n",
      "train loss: 30.31251084142261, val loss: 32.85796231031418\n",
      "train sk metric: 0, val sk metric: 0\n",
      "learning time: 0:00:30.546437\n",
      "epoch: 40, lr: 0.01\n",
      "train loss: 29.188015672895645, val loss: 29.369328260421753\n",
      "train sk metric: 0, val sk metric: 0\n",
      "test loss: 32.316944897174835\n",
      "learning time: 0:00:37.444360\n",
      "test sklearn metric: \n",
      "0 \n",
      "\n"
     ]
    },
    {
     "data": {
      "image/png": "[encoded data removed]",
      "text/plain": [
       "<Figure size 432x288 with 1 Axes>"
      ]
     },
     "metadata": {
      "needs_background": "light"
     },
     "output_type": "display_data"
    }
   ],
   "source": [
    "model_params = {'D_in': 23*23+23*23+23*32, \n",
    "                'H': 4096, \n",
    "                'D_out': 1, \n",
    "                'model_name': 'funnel'}\n",
    "\n",
    "ds_params = {'train_params': {'features': ['distance','coulomb'],\n",
    "                              'targets': ['ae'],\n",
    "                              'embed': [('atoms',7,32,0,True)],\n",
    "                              'in_file': './data/qm7/qm7.mat'}}\n",
    "\n",
    "metrics_params = {'report_interval': 10}\n",
    "\n",
    "crit_params = {'reduction': 'sum'}\n",
    "\n",
    "sample_params = {'set_seed': 88,\n",
    "                 'splits': (.7,.15)}\n",
    "\n",
    "sched_params = {'factor': .5,\n",
    "                'patience': 10,\n",
    "                'cooldown': 5}\n",
    "\n",
    "opt_params = {'lr': 0.01}\n",
    "\n",
    "l = Learn([QM7], FFNet, Selector, \n",
    "          Optimizer=Adam, Scheduler=ReduceLROnPlateau, Criterion=L1Loss, \n",
    "          model_params=model_params, ds_params=ds_params, sample_params=sample_params,\n",
    "          opt_params=opt_params, sched_params=sched_params, crit_params=crit_params,\n",
    "          metrics_params=metrics_params,\n",
    "          adapt=False, load_model=False, load_embed=False, save_model=False, \n",
    "          batch_size=512, epochs=50)"
   ]
  },
  {
   "cell_type": "code",
   "execution_count": 7,
   "metadata": {},
   "outputs": [
    {
     "name": "stdout",
     "output_type": "stream",
     "text": [
      "CModel loaded...\n",
      "FFNet model loaded...\n",
      "learning time: 0:00:00.551544\n",
      "epoch: 0, lr: 0.01\n",
      "train loss: 1566.9036044163818, val loss: 1558.13309999177\n",
      "train sk metric: 0, val sk metric: 0\n",
      "learning time: 0:00:05.442645\n",
      "epoch: 10, lr: 0.01\n",
      "train loss: 740.9146492282549, val loss: 628.0450464189053\n",
      "train sk metric: 0, val sk metric: 0\n",
      "learning time: 0:00:10.328513\n",
      "epoch: 20, lr: 0.01\n",
      "train loss: 50.81469938490126, val loss: 59.15958973765373\n",
      "train sk metric: 0, val sk metric: 0\n",
      "learning time: 0:00:15.329318\n",
      "epoch: 30, lr: 0.01\n",
      "train loss: 43.98495489358902, val loss: 53.69572523236275\n",
      "train sk metric: 0, val sk metric: 0\n",
      "learning time: 0:00:20.216277\n",
      "epoch: 40, lr: 0.01\n",
      "train loss: 40.860274109575485, val loss: 52.853694796562195\n",
      "train sk metric: 0, val sk metric: 0\n",
      "test loss: 52.43608957529068\n",
      "learning time: 0:00:24.963648\n",
      "test sklearn metric: \n",
      "0 \n",
      "\n"
     ]
    },
    {
     "data": {
      "image/png": "[encoded data removed]",
      "text/plain": [
       "<Figure size 432x288 with 1 Axes>"
      ]
     },
     "metadata": {
      "needs_background": "light"
     },
     "output_type": "display_data"
    }
   ],
   "source": [
    "model_params = {'D_in': 23*23, \n",
    "                'H': 2048, \n",
    "                'D_out': 1, \n",
    "                'model_name': 'funnel'}\n",
    "\n",
    "ds_params = {'train_params': {'features': ['coulomb'],\n",
    "                              'targets': ['E'],\n",
    "                              'in_file': './data/qm7b/qm7b.mat',\n",
    "                              'embed': []}}\n",
    "\n",
    "metrics_params = {'report_interval': 10}\n",
    "\n",
    "crit_params = {'reduction': 'sum'}\n",
    "\n",
    "sample_params = {'set_seed': 88,\n",
    "                 'splits': (.7,.15)}\n",
    "\n",
    "sched_params = {'factor': .5,\n",
    "                'patience': 10,\n",
    "                'cooldown': 5}\n",
    "\n",
    "opt_params = {'lr': 0.01}\n",
    "\n",
    "l = Learn([QM7b], FFNet, Selector, \n",
    "          Optimizer=Adam, Scheduler=ReduceLROnPlateau, Criterion=L1Loss, \n",
    "          model_params=model_params, ds_params=ds_params, sample_params=sample_params,\n",
    "          opt_params=opt_params, sched_params=sched_params, crit_params=crit_params,\n",
    "          metrics_params=metrics_params,\n",
    "          adapt=False, load_model=False, load_embed=False, save_model=False, \n",
    "          batch_size=512, epochs=50)"
   ]
  },
  {
   "cell_type": "code",
   "execution_count": 11,
   "metadata": {},
   "outputs": [
    {
     "name": "stdout",
     "output_type": "stream",
     "text": [
      "mapping...  <HDF5 file \"1000.hdf5\" (mode r)>\n",
      "mapping...  <HDF5 file \"2000.hdf5\" (mode r)>\n",
      "mapping...  <HDF5 file \"3000.hdf5\" (mode r)>\n",
      "mapping...  <HDF5 file \"4000.hdf5\" (mode r)>\n",
      "mapping...  <HDF5 file \"5000.hdf5\" (mode r)>\n",
      "mapping...  <HDF5 file \"6000.hdf5\" (mode r)>\n",
      "mapping...  <HDF5 file \"7000.hdf5\" (mode r)>\n",
      "mapping...  <HDF5 file \"8000.hdf5\" (mode r)>\n",
      "molecular formula (idmol) mapped:  6950\n",
      "total molecular structures (idconf) mapped:  41537\n",
      "529\n"
     ]
    }
   ],
   "source": [
    "#find the longest molecule\n",
    "\n",
    "ds_params = {'ds_params': {'features': ['distance'],\n",
    "                           'pad': 23,\n",
    "                           'targets': ['eAT'],\n",
    "                           'embed': [('atNUM',9,64,0,True)],\n",
    "                           'selector': ['opt'],\n",
    "                           'use_h5': True}}\n",
    "\n",
    "qm7x = QM7X(**ds_params['ds_params'])\n",
    "l = 0\n",
    "for i in qm7x.ds_idx:\n",
    "    s = qm7x[i][0].shape.numel()\n",
    "    if s > l:\n",
    "        l = s\n",
    "print(l)"
   ]
  },
  {
   "cell_type": "code",
   "execution_count": 8,
   "metadata": {},
   "outputs": [
    {
     "name": "stdout",
     "output_type": "stream",
     "text": [
      "mapping...  <HDF5 file \"1000.hdf5\" (mode r)>\n",
      "mapping...  <HDF5 file \"2000.hdf5\" (mode r)>\n",
      "mapping...  <HDF5 file \"3000.hdf5\" (mode r)>\n",
      "mapping...  <HDF5 file \"4000.hdf5\" (mode r)>\n",
      "mapping...  <HDF5 file \"5000.hdf5\" (mode r)>\n",
      "mapping...  <HDF5 file \"6000.hdf5\" (mode r)>\n",
      "mapping...  <HDF5 file \"7000.hdf5\" (mode r)>\n",
      "mapping...  <HDF5 file \"8000.hdf5\" (mode r)>\n",
      "molecular formula (idmol) mapped:  6950\n",
      "total molecular structures (idconf) mapped:  41537\n",
      "CModel loaded...\n",
      "FFNet model loaded...\n",
      "learning time: 0:00:01.041080\n",
      "epoch: 0, lr: 0.01\n",
      "train loss: 66.15129851514895, val loss: 44.64863457819456\n",
      "train sk metric: 0, val sk metric: 0\n",
      "test loss: 2.4298102279448512\n",
      "learning time: 0:00:08.574562\n",
      "test sklearn metric: \n",
      "0 \n",
      "\n"
     ]
    },
    {
     "data": {
      "image/png": "[encoded data removed]",
      "text/plain": [
       "<Figure size 432x288 with 1 Axes>"
      ]
     },
     "metadata": {
      "needs_background": "light"
     },
     "output_type": "display_data"
    }
   ],
   "source": [
    "model_params = {'D_in': 23*23+23*64, \n",
    "                'H': 4096, \n",
    "                'D_out': 1, \n",
    "                'model_name': 'funnel'}\n",
    "\n",
    "ds_params = {'train_params': {'features': ['distance'],\n",
    "                              'pad': 23,\n",
    "                              'targets': ['eAT'],\n",
    "                              'embed': [('atNUM',9,64,0,True)],\n",
    "                              'selector': ['opt'],\n",
    "                              'use_h5': False}}\n",
    "\n",
    "metrics_params = {'report_interval': 10}\n",
    "\n",
    "crit_params = {'reduction': 'sum'}\n",
    "\n",
    "sample_params = {'set_seed': 88,\n",
    "                 'splits': (.7,.15)}\n",
    "\n",
    "sched_params = {'factor': .5,\n",
    "                'patience': 10,\n",
    "                'cooldown': 5}\n",
    "\n",
    "opt_params = {'lr': 0.01}\n",
    "\n",
    "l = Learn([QM7X], FFNet, Selector, \n",
    "          Optimizer=Adam, Scheduler=ReduceLROnPlateau, Criterion=L1Loss, \n",
    "          model_params=model_params, ds_params=ds_params, sample_params=sample_params,\n",
    "          opt_params=opt_params, sched_params=sched_params, crit_params=crit_params,\n",
    "          metrics_params=metrics_params,\n",
    "          adapt=False, load_model=False, load_embed=False, save_model=False, \n",
    "          batch_size=256, epochs=10)"
   ]
  },
  {
   "cell_type": "code",
   "execution_count": null,
   "metadata": {},
   "outputs": [],
   "source": [
    "model_params = {'D_in': 12*12+12*12+12*12*16, \n",
    "                'H': 4096, \n",
    "                'D_out': 12, \n",
    "                'model_name': 'funnel'}\n",
    "\n",
    "ds_params = {'train_params': {'n': 133885, \n",
    "                              'features': ['distance','coulomb'],\n",
    "                              'embed': [('adjacency',4,16,0,True)], \n",
    "                              'targets': ['mulliken'],\n",
    "                              'pad': 12, \n",
    "                              'filter_on': ('n_atoms','<','13'),\n",
    "                              'use_pickle': 'n_atoms_less_than_13.p'}}\n",
    "\n",
    "metrics_params = {'report_interval': 10}\n",
    "\n",
    "crit_params = {'reduction': 'sum'}\n",
    "\n",
    "sample_params = {'set_seed': 88,\n",
    "                 'splits': (.7,.15)}\n",
    "\n",
    "sched_params = {'factor': .5,\n",
    "                'patience': 5,\n",
    "                'cooldown': 5}\n",
    "\n",
    "opt_params = {'lr': 0.01}\n",
    "\n",
    "l = Learn([QM9], FFNet, Selector, \n",
    "          Optimizer=Adam, Scheduler=ReduceLROnPlateau, Criterion=L1Loss, \n",
    "          model_params=model_params, ds_params=ds_params, sample_params=sample_params,\n",
    "          opt_params=opt_params, sched_params=sched_params, crit_params=crit_params,\n",
    "          metrics_params=metrics_params,\n",
    "          adapt=False, load_model=False, load_embed=False, save_model=False, \n",
    "          batch_size=128, epochs=10)"
   ]
  },
  {
   "cell_type": "code",
   "execution_count": null,
   "metadata": {},
   "outputs": [],
   "source": [
    "model_params = {'D_in': 29*29+29*29+29*29*8, \n",
    "                'H': 8192, \n",
    "                'D_out': 1, \n",
    "                'model_name': 'funnel'}\n",
    "\n",
    "ds_params = {'train_params': {'n': 133885, \n",
    "                              'features': ['distance','coulomb'],\n",
    "                              'embed': [('adjacency',4,8,0,True)],\n",
    "                              'targets': ['U0'],\n",
    "                              'pad': 29, \n",
    "                              'filter_on': False,\n",
    "                              'use_pickle': 'qm9.p'}}\n",
    "\n",
    "crit_params = {'reduction': 'sum'}\n",
    "sample_params = {'set_seed': 88,\n",
    "                 'splits': (.7,.15)}\n",
    "sched_params = {'factor': .5,\n",
    "                'patience': 2,\n",
    "                'cooldown': 2}\n",
    "opt_params = {'lr': 0.01}\n",
    "\n",
    "l = Learn([QM9], FFNet, Selector, Optimizer=Adam, Scheduler=ReduceLROnPlateau, Criterion=L1Loss, \n",
    "          model_params=model_params, ds_params=ds_params, sample_params=sample_params,\n",
    "          opt_params=opt_params, sched_params=sched_params, crit_params=crit_params,\n",
    "          adapt=False, load_model=False, load_embed=False, save_model=False, \n",
    "          batch_size=32, epochs=20)"
   ]
  },
  {
   "cell_type": "code",
   "execution_count": null,
   "metadata": {},
   "outputs": [],
   "source": [
    "model_params = {'D_in': 64*63+63*63, \n",
    "                'H': 8192, \n",
    "                'D_out': 1, \n",
    "                'model_name': 'funnel'}\n",
    "\n",
    "ds_params = {'train_params': {'features': ['distance'],\n",
    "                              'targets': ['wb97x_dz.energy'],\n",
    "                              'embed': [('atomic_numbers',6,64,0,True)],\n",
    "                              'pad': 63, #length of the longest molecule in the dataset\n",
    "                              'criterion': 'wb97x_dz.energy',\n",
    "                              'conformation': 'min',\n",
    "                              'in_file': './data/ani1x/ani1x-release.h5'}}\n",
    "\n",
    "crit_params = {'reduction': 'sum'}\n",
    "sample_params = {'set_seed': 88,\n",
    "                 'splits': (.7,.15)}\n",
    "sched_params = {'factor': .5,\n",
    "                'patience': 10,\n",
    "                'cooldown': 10}\n",
    "opt_params = {'lr': 0.01}\n",
    "\n",
    "l = Learn([ANI1x], FFNet, Selector, Optimizer=Adam, Scheduler=ReduceLROnPlateau, Criterion=L1Loss, \n",
    "          model_params=model_params, ds_params=ds_params, sample_params=sample_params,\n",
    "          opt_params=opt_params, sched_params=sched_params, crit_params=crit_params,\n",
    "          adapt=False, load_model=False, load_embed=False, save_model=False, \n",
    "          batch_size=128, epochs=100)"
   ]
  },
  {
   "cell_type": "code",
   "execution_count": null,
   "metadata": {},
   "outputs": [],
   "source": []
  }
 ],
 "metadata": {
  "kernelspec": {
   "display_name": "Python 3",
   "language": "python",
   "name": "python3"
  },
  "language_info": {
   "codemirror_mode": {
    "name": "ipython",
    "version": 3
   },
   "file_extension": ".py",
   "mimetype": "text/x-python",
   "name": "python",
   "nbconvert_exporter": "python",
   "pygments_lexer": "ipython3",
   "version": "3.7.9"
  }
 },
 "nbformat": 4,
 "nbformat_minor": 4
}
