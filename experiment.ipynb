{
 "cells": [
  {
   "cell_type": "code",
   "execution_count": 1,
   "metadata": {},
   "outputs": [],
   "source": [
    "import sys # required for relative imports in jupyter lab\n",
    "sys.path.insert(0, '../') \n",
    "\n",
    "from cosmosis.model import FFNet\n",
    "from dataset import SKmake, QM7, QM7b, QM7X, QM9, ANI1x\n",
    "from learning import Learn, Selector\n",
    "\n",
    "from torch.optim import Adam\n",
    "from torch.nn import MSELoss, L1Loss\n",
    "from torch.optim.lr_scheduler import ReduceLROnPlateau"
   ]
  },
  {
   "cell_type": "code",
   "execution_count": null,
   "metadata": {},
   "outputs": [],
   "source": [
    "model_params = {'D_in': 128, \n",
    "                'H': 512, \n",
    "                'D_out': 1, \n",
    "                'model_name': 'funnel'}\n",
    "ds_params = {'make': 'make_regression',\n",
    "             'make_params': {'n_samples': 10000,\n",
    "                             'n_features': 128}}\n",
    "\n",
    "opt_params = {'lr': 0.01}\n",
    "crit_params = {'reduction': 'sum'}\n",
    "sample_params = {'set_seed': 88,\n",
    "                 'splits': (.15,.7)}\n",
    "sched_params = {'factor': .5,\n",
    "                'patience': 2}\n",
    "\n",
    "l = Learn(SKmake, FFNet, Selector, Optimizer=Adam, Scheduler=ReduceLROnPlateau, Criterion=MSELoss, \n",
    "          model_params=model_params, ds_params=ds_params, sample_params=sample_params,\n",
    "          opt_params=opt_params, sched_params=sched_params, crit_params=crit_params,\n",
    "          adapt=False, load_model=False, load_embed=False, save_model=False,\n",
    "          batch_size=256, epochs=10)"
   ]
  },
  {
   "cell_type": "code",
   "execution_count": null,
   "metadata": {},
   "outputs": [],
   "source": [
    "model_params = {'D_in': 23*23+23*3+23*16, \n",
    "                'H': 2048, \n",
    "                'D_out': 1, \n",
    "                'model_name': 'funnel'}\n",
    "ds_params = {'features': ['coulomb','xyz'],\n",
    "             'targets': ['ae'],\n",
    "             'embed': [('atoms',7,16,0,True)],\n",
    "             'in_file': './data/qm7/qm7.mat'}\n",
    "\n",
    "crit_params = {'reduction': 'sum'}\n",
    "sample_params = {'set_seed': 88,\n",
    "                 'splits': (.15,.7)}\n",
    "sched_params = {'factor': .5,\n",
    "                'patience': 5,\n",
    "                'cooldown': 5}\n",
    "opt_params = {'lr': 0.01}\n",
    "\n",
    "l = Learn(QM7, FFNet, Selector, Optimizer=Adam, Scheduler=ReduceLROnPlateau, Criterion=L1Loss, \n",
    "          model_params=model_params, ds_params=ds_params, sample_params=sample_params,\n",
    "          opt_params=opt_params, sched_params=sched_params, crit_params=crit_params,\n",
    "          adapt=False, load_model=False, load_embed=False, save_model=False, \n",
    "          batch_size=512, epochs=100)"
   ]
  },
  {
   "cell_type": "code",
   "execution_count": null,
   "metadata": {},
   "outputs": [],
   "source": [
    "model_params = {'D_in': 23*23+13, \n",
    "                'H': 2048, \n",
    "                'D_out': 1, \n",
    "                'model_name': 'funnel'}\n",
    "ds_params = {'features': ['coulomb','alpha_p','alpha_s','HOMO_g',\n",
    "                          'HOMO_p','HOMO_z','LUMO_g','LUMO_p','LUMO_z',\n",
    "                          'IP','EA','E1','Emax','Imax'],\n",
    "            'targets': ['E'],\n",
    "            'in_file': './data/qm7b/qm7b.mat'}\n",
    "\n",
    "crit_params = {'reduction': 'sum'}\n",
    "sample_params = {'set_seed': 88,\n",
    "                 'splits': (.15,.7)}\n",
    "sched_params = {'factor': .5,\n",
    "                'patience': 5,\n",
    "                'cooldown': 5}\n",
    "opt_params = {'lr': 0.01}\n",
    "\n",
    "l = Learn(QM7b, FFNet, Selector, Optimizer=Adam, Scheduler=ReduceLROnPlateau, Criterion=L1Loss, \n",
    "          model_params=model_params, ds_params=ds_params, sample_params=sample_params,\n",
    "          opt_params=opt_params, sched_params=sched_params, crit_params=crit_params,\n",
    "          adapt=False, load_model=False, load_embed=False, save_model=False, \n",
    "          batch_size=512, epochs=100)"
   ]
  },
  {
   "cell_type": "code",
   "execution_count": null,
   "metadata": {},
   "outputs": [],
   "source": [
    "ds_params = {'features': ['atXYZ'],\n",
    "             'pad': False,\n",
    "             'targets': ['eAT'],\n",
    "             'embed': [('atNUM',9,64,0,True)],\n",
    "             'selector': ['i1-c1-opt'],\n",
    "             'use_h5': True}\n",
    "\n",
    "model_params = {'D_in': 64*23+23+23+23, \n",
    "                'H': 4096, \n",
    "                'D_out': 1, \n",
    "                'model_name': 'funnel',\n",
    "                'padding_idx': 0}\n",
    "\n",
    "crit_params = {'reduction': 'sum'}\n",
    "sample_params = {'set_seed': 88,\n",
    "                 'splits': (.1,.8)}\n",
    "sched_params = {'factor': .1,\n",
    "                'patience': 20,\n",
    "                'cooldown': 10}\n",
    "opt_params = {'lr': 0.01}\n",
    "\n",
    "l = Learn(QM7X, FFNet, Selector, Optimizer=Adam, Scheduler=ReduceLROnPlateau, Criterion=L1Loss, \n",
    "          model_params=model_params, ds_params=ds_params, sample_params=sample_params,\n",
    "          opt_params=opt_params, sched_params=sched_params, crit_params=crit_params,\n",
    "          adapt=False, load_model=False, load_embed=False, save_model=False, \n",
    "          batch_size=256, epochs=10)\n",
    "\n",
    "#find the longest molecule\n",
    "#qm7x = QM7X(**ds_params)\n",
    "#l = 0\n",
    "#for i in qm7x.ds_idx:\n",
    "#    s = qm7x[i][0].shape.numel()\n",
    "#    if s > l:\n",
    "#        l = s\n",
    "#print(l)"
   ]
  },
  {
   "cell_type": "code",
   "execution_count": 5,
   "metadata": {},
   "outputs": [
    {
     "name": "stdout",
     "output_type": "stream",
     "text": [
      "loading QM9 datadic from a pickled copy...\n",
      "<class 'dataset.QM9'> dataset created...\n",
      "epoch: 0 of 50, train loss: 221.8629040993124, val loss: 88.43722522097681, lr: 0.01\n",
      "epoch: 5 of 50, train loss: 39.53645403812336, val loss: 31.026589345785144, lr: 0.01\n",
      "epoch: 10 of 50, train loss: 21.969738450563828, val loss: 26.26692873254776, lr: 0.01\n",
      "epoch: 15 of 50, train loss: 16.442633843406313, val loss: 18.373447863254547, lr: 0.005\n",
      "epoch: 20 of 50, train loss: 14.423065563001904, val loss: 15.721683685661315, lr: 0.005\n",
      "epoch: 25 of 50, train loss: 13.082875819741021, val loss: 10.629572191051484, lr: 0.0025\n",
      "epoch: 30 of 50, train loss: 13.65262915256155, val loss: 11.214577182411194, lr: 0.0025\n",
      "epoch: 35 of 50, train loss: 11.608892596816764, val loss: 12.464589120082856, lr: 0.00125\n",
      "epoch: 40 of 50, train loss: 11.417415470507578, val loss: 13.360405750915529, lr: 0.00125\n",
      "epoch: 45 of 50, train loss: 12.027986448118117, val loss: 10.493629647973062, lr: 0.00125\n",
      "test loss: 10.772280499978066\n",
      "y_pred:\n",
      "tensor([[-370.1030],\n",
      "        [-350.4909],\n",
      "        [-512.0673],\n",
      "        [-326.2774],\n",
      "        [-371.0526],\n",
      "        [-447.2173],\n",
      "        [-495.5535],\n",
      "        [-468.3857],\n",
      "        [-358.3204],\n",
      "        [-385.2137]], device='cuda:0')\n",
      " y:\n",
      "tensor([[-360.4766],\n",
      "        [-360.5128],\n",
      "        [-505.9203],\n",
      "        [-323.3386],\n",
      "        [-373.7313],\n",
      "        [-439.6478],\n",
      "        [-510.0798],\n",
      "        [-472.7071],\n",
      "        [-355.5183],\n",
      "        [-377.5213]], device='cuda:0', dtype=torch.float64)\n"
     ]
    },
    {
     "data": {
      "image/png": "[encoded data removed]",
      "text/plain": [
       "<Figure size 432x288 with 1 Axes>"
      ]
     },
     "metadata": {
      "needs_background": "light"
     },
     "output_type": "display_data"
    },
    {
     "name": "stdout",
     "output_type": "stream",
     "text": [
      "learning time: 0:00:42.889619\n"
     ]
    }
   ],
   "source": [
    "model_params = {'D_in': 12*12+12*12+12+12*12*16, \n",
    "                'H': 4096, \n",
    "                'D_out': 1, \n",
    "                'model_name': 'funnel'}\n",
    "ds_params = {'n': 133885, \n",
    "             'features': ['distance','coulomb','mulliken'],\n",
    "             'embed': [('adjacency',4,16,0,True)], \n",
    "             'targets': ['U0'],\n",
    "             'pad': 12, \n",
    "             'filter_on': ('n_atoms','<','13'),\n",
    "             'use_pickle': 'n_atoms_12_or_less.p'}\n",
    "\n",
    "crit_params = {'reduction': 'sum'}\n",
    "sample_params = {'set_seed': 88,\n",
    "                 'splits': (.15,.7)}\n",
    "sched_params = {'factor': .5,\n",
    "                'patience': 5,\n",
    "                'cooldown': 2}\n",
    "opt_params = {'lr': 0.01}\n",
    "\n",
    "l = Learn(QM9, FFNet, Selector, Optimizer=Adam, Scheduler=ReduceLROnPlateau, Criterion=L1Loss, \n",
    "          model_params=model_params, ds_params=ds_params, sample_params=sample_params,\n",
    "          opt_params=opt_params, sched_params=sched_params, crit_params=crit_params,\n",
    "          adapt=False, load_model=False, load_embed=False, save_model=False, \n",
    "          batch_size=128, epochs=50)"
   ]
  },
  {
   "cell_type": "code",
   "execution_count": 6,
   "metadata": {},
   "outputs": [
    {
     "name": "stdout",
     "output_type": "stream",
     "text": [
      "creating QM9 dataset...\n",
      "QM9 molecules scanned:  1\n",
      "QM9 molecules created:  1\n",
      "QM9 molecules scanned:  10001\n",
      "QM9 molecules created:  10001\n",
      "QM9 molecules scanned:  20001\n",
      "QM9 molecules created:  20001\n",
      "QM9 molecules scanned:  30001\n",
      "QM9 molecules created:  30001\n",
      "QM9 molecules scanned:  40001\n",
      "QM9 molecules created:  40001\n",
      "QM9 molecules scanned:  50001\n",
      "QM9 molecules created:  50001\n",
      "QM9 molecules scanned:  60001\n",
      "QM9 molecules created:  60001\n",
      "QM9 molecules scanned:  70001\n",
      "QM9 molecules created:  70001\n",
      "QM9 molecules scanned:  80001\n",
      "QM9 molecules created:  80001\n",
      "QM9 molecules scanned:  90001\n",
      "QM9 molecules created:  90001\n",
      "QM9 molecules scanned:  100001\n",
      "QM9 molecules created:  100001\n",
      "QM9 molecules scanned:  110001\n",
      "QM9 molecules created:  110001\n",
      "QM9 molecules scanned:  120001\n",
      "QM9 molecules created:  120001\n",
      "QM9 molecules scanned:  130001\n",
      "QM9 molecules created:  130001\n",
      "total QM9 molecules created: 130831\n",
      "pickling a copy of the QM9 datadic...\n",
      "<class 'dataset.QM9'> dataset created...\n",
      "epoch: 0 of 20, train loss: 18.613922644155533, val loss: 9.47328333849988, lr: 0.01\n",
      "epoch: 2 of 20, train loss: 9.682552946068235, val loss: 9.779495925593954, lr: 0.01\n",
      "epoch: 4 of 20, train loss: 7.305203841854476, val loss: 6.5531125767751055, lr: 0.005\n",
      "epoch: 6 of 20, train loss: 6.641567723883905, val loss: 6.129781154282089, lr: 0.005\n",
      "epoch: 8 of 20, train loss: 6.427811973209945, val loss: 5.63112843338347, lr: 0.005\n",
      "epoch: 10 of 20, train loss: 6.228329826797968, val loss: 5.8883914212935204, lr: 0.005\n",
      "epoch: 12 of 20, train loss: 5.457909379438748, val loss: 5.494937472936284, lr: 0.0025\n",
      "epoch: 14 of 20, train loss: 5.357628781380517, val loss: 5.0314798823856, lr: 0.0025\n",
      "epoch: 16 of 20, train loss: 5.262261239930041, val loss: 4.956247072446486, lr: 0.0025\n",
      "epoch: 18 of 20, train loss: 5.232372146413319, val loss: 5.232807546481345, lr: 0.0025\n",
      "test loss: 4.889997519734089\n",
      "y_pred:\n",
      "tensor([[-437.1140],\n",
      "        [-435.4500],\n",
      "        [-434.7069],\n",
      "        [-367.5637],\n",
      "        [-470.3653],\n",
      "        [-430.6347],\n",
      "        [-343.4980],\n",
      "        [-352.2697],\n",
      "        [-406.4586],\n",
      "        [-494.7524]], device='cuda:0')\n",
      " y:\n",
      "tensor([[-440.2994],\n",
      "        [-440.3095],\n",
      "        [-434.0621],\n",
      "        [-366.0383],\n",
      "        [-455.1871],\n",
      "        [-434.0887],\n",
      "        [-324.5690],\n",
      "        [-351.1714],\n",
      "        [-401.9030],\n",
      "        [-510.9791]], device='cuda:0', dtype=torch.float64)\n"
     ]
    },
    {
     "data": {
      "image/png": "[encoded data removed]",
      "text/plain": [
       "<Figure size 432x288 with 1 Axes>"
      ]
     },
     "metadata": {
      "needs_background": "light"
     },
     "output_type": "display_data"
    },
    {
     "name": "stdout",
     "output_type": "stream",
     "text": [
      "learning time: 0:56:20.054077\n"
     ]
    }
   ],
   "source": [
    "model_params = {'D_in': 29*29+29*29+29*29*8+29, \n",
    "                'H': 8192, \n",
    "                'D_out': 1, \n",
    "                'model_name': 'funnel'}\n",
    "\n",
    "ds_params = {'n': 133885, \n",
    "             'features': ['distance','coulomb','mulliken'],\n",
    "             'embed': [('adjacency',4,8,0,True)],\n",
    "             'targets': ['U0'],\n",
    "             'pad': 29, \n",
    "             'filter_on': False,\n",
    "             'use_pickle': 'qm9.p'}\n",
    "\n",
    "crit_params = {'reduction': 'sum'}\n",
    "sample_params = {'set_seed': 88,\n",
    "                 'splits': (.15,.7)}\n",
    "sched_params = {'factor': .5,\n",
    "                'patience': 2,\n",
    "                'cooldown': 2}\n",
    "opt_params = {'lr': 0.01}\n",
    "\n",
    "l = Learn(QM9, FFNet, Selector, Optimizer=Adam, Scheduler=ReduceLROnPlateau, Criterion=L1Loss, \n",
    "          model_params=model_params, ds_params=ds_params, sample_params=sample_params,\n",
    "          opt_params=opt_params, sched_params=sched_params, crit_params=crit_params,\n",
    "          adapt=False, load_model=False, load_embed=False, save_model=False, \n",
    "          batch_size=32, epochs=20)"
   ]
  },
  {
   "cell_type": "code",
   "execution_count": null,
   "metadata": {},
   "outputs": [],
   "source": [
    "model_params = {'D_in': 32*63+63+63+63, \n",
    "                'H': 8192, \n",
    "                'D_out': 1, \n",
    "                'model_name': 'funnel',\n",
    "                'padding_idx': 0}\n",
    "\n",
    "ds_params = {'features': ['coordinates'],\n",
    "             'targets': ['wb97x_dz.energy'],\n",
    "             'embed': [('atomic_numbers',6,32,0,True)],\n",
    "             'pad': 63, #length of the longest molecule in the dataset\n",
    "             'criterion': None,\n",
    "             'conformation': 'random',\n",
    "             'in_file': './data/ani1x/ani1x-release.h5'}\n",
    "\n",
    "crit_params = {'reduction': 'sum'}\n",
    "sample_params = {'set_seed': 88,\n",
    "                 'splits': (.1,.8)}\n",
    "sched_params = {'factor': .1,\n",
    "                'patience': 10,\n",
    "                'cooldown': 10}\n",
    "opt_params = {'lr': 0.01}\n",
    "\n",
    "l = Learn(ANI1x, FFNet, Selector, Optimizer=Adam, Scheduler=ReduceLROnPlateau, Criterion=L1Loss, \n",
    "          model_params=model_params, ds_params=ds_params, sample_params=sample_params,\n",
    "          opt_params=opt_params, sched_params=sched_params, crit_params=crit_params,\n",
    "          adapt=False, load_model=False, load_embed=False, save_model=False, \n",
    "          batch_size=128, epochs=10)"
   ]
  },
  {
   "cell_type": "code",
   "execution_count": null,
   "metadata": {},
   "outputs": [],
   "source": []
  },
  {
   "cell_type": "code",
   "execution_count": null,
   "metadata": {},
   "outputs": [],
   "source": []
  },
  {
   "cell_type": "code",
   "execution_count": 2,
   "metadata": {},
   "outputs": [
    {
     "name": "stdout",
     "output_type": "stream",
     "text": [
      "loading QM9 datadic from a pickled copy...\n"
     ]
    }
   ],
   "source": [
    "ds_params = {'n': 133885, \n",
    "             'features': ['mulliken','distance','coulomb'],\n",
    "             'embed': [('adjacency',4,16,0,True)], \n",
    "             'targets': ['U0'],\n",
    "             'pad': 12, \n",
    "             'filter_on': ('n_atoms','<','13'),\n",
    "             'use_pickle': 'n_atoms_12_or_less.p'}\n",
    "\n",
    "\n",
    "qm9 = QM9(**ds_params)"
   ]
  },
  {
   "cell_type": "code",
   "execution_count": 3,
   "metadata": {},
   "outputs": [
    {
     "data": {
      "text/plain": [
       "(tensor([-0.5357,  0.1339,  0.1339,  0.1339,  0.1339,  0.0000,  0.0000,  0.0000,\n",
       "          0.0000,  0.0000,  0.0000,  0.0000,  0.0000,  1.0920,  1.0920,  1.0919,\n",
       "          1.0919,  1.0920,  0.0000,  1.7831,  1.7831,  1.7832,  1.0920,  1.7831,\n",
       "          0.0000,  1.7832,  1.7831,  1.0919,  1.7831,  1.7832,  0.0000,  1.7831,\n",
       "          1.0919,  1.7832,  1.7831,  1.7831,  0.0000,  0.0000,  0.0000,  0.0000,\n",
       "          0.0000,  0.0000,  0.0000,  0.0000,  0.0000,  0.0000,  0.0000,  0.0000,\n",
       "          0.0000,  0.0000,  0.0000,  0.0000,  0.0000,  0.0000,  0.0000,  0.0000,\n",
       "          0.0000,  0.0000,  0.0000,  0.0000,  0.0000,  0.0000,  0.0000,  0.0000,\n",
       "          0.0000,  0.0000,  0.0000,  0.0000,  0.0000,  0.0000,  0.0000,  0.0000,\n",
       "          0.0000,  0.0000,  0.0000,  0.0000,  0.0000,  0.0000,  0.0000,  0.0000,\n",
       "          0.0000,  0.0000,  0.0000,  0.0000,  0.0000,  0.0000,  0.0000,  0.0000,\n",
       "          0.0000,  0.0000,  0.0000,  0.0000,  0.0000,  0.0000,  0.0000,  0.0000,\n",
       "          0.0000,  0.0000,  0.0000,  0.0000,  0.0000,  0.0000,  0.0000,  0.0000,\n",
       "          0.0000,  0.0000,  0.0000,  0.0000,  0.0000,  0.0000,  0.0000,  0.0000,\n",
       "          0.0000,  0.0000,  0.0000,  0.0000,  0.0000,  0.0000,  0.0000,  0.0000,\n",
       "          0.0000,  0.0000,  0.0000,  0.0000,  0.0000,  0.0000,  0.0000,  0.0000,\n",
       "          0.0000,  0.0000,  0.0000,  0.0000,  0.0000,  0.0000,  0.0000,  0.0000,\n",
       "          0.0000,  0.0000,  0.0000,  0.0000,  0.0000,  0.0000,  0.0000,  0.0000,\n",
       "          0.0000,  0.0000,  0.0000,  0.0000,  0.0000,  0.0000,  0.0000,  0.0000,\n",
       "          0.0000,  0.0000,  0.0000,  0.0000, 36.8581, 10.7657, 10.7656, 10.7659,\n",
       "         10.7659,  0.9158,  0.5000,  1.7943,  1.7943,  1.7943,  0.9158,  1.7943,\n",
       "          0.5000,  1.7943,  1.7943,  0.9158,  1.7943,  1.7943,  0.5000,  1.7943,\n",
       "          0.9158,  1.7943,  1.7943,  1.7943,  0.5000,  0.0000,  0.0000,  0.0000,\n",
       "          0.0000,  0.0000,  0.0000,  0.0000,  0.0000,  0.0000,  0.0000,  0.0000,\n",
       "          0.0000,  0.0000,  0.0000,  0.0000,  0.0000,  0.0000,  0.0000,  0.0000,\n",
       "          0.0000,  0.0000,  0.0000,  0.0000,  0.0000,  0.0000,  0.0000,  0.0000,\n",
       "          0.0000,  0.0000,  0.0000,  0.0000,  0.0000,  0.0000,  0.0000,  0.0000,\n",
       "          0.0000,  0.0000,  0.0000,  0.0000,  0.0000,  0.0000,  0.0000,  0.0000,\n",
       "          0.0000,  0.0000,  0.0000,  0.0000,  0.0000,  0.0000,  0.0000,  0.0000,\n",
       "          0.0000,  0.0000,  0.0000,  0.0000,  0.0000,  0.0000,  0.0000,  0.0000,\n",
       "          0.0000,  0.0000,  0.0000,  0.0000,  0.0000,  0.0000,  0.0000,  0.0000,\n",
       "          0.0000,  0.0000,  0.0000,  0.0000,  0.0000,  0.0000,  0.0000,  0.0000,\n",
       "          0.0000,  0.0000,  0.0000,  0.0000,  0.0000,  0.0000,  0.0000,  0.0000,\n",
       "          0.0000,  0.0000,  0.0000,  0.0000,  0.0000,  0.0000,  0.0000,  0.0000,\n",
       "          0.0000,  0.0000,  0.0000,  0.0000,  0.0000,  0.0000,  0.0000,  0.0000,\n",
       "          0.0000,  0.0000,  0.0000,  0.0000,  0.0000,  0.0000,  0.0000,  0.0000,\n",
       "          0.0000,  0.0000,  0.0000,  0.0000,  0.0000,  0.0000,  0.0000,  0.0000,\n",
       "          0.0000,  0.0000,  0.0000,  0.0000]),\n",
       " [tensor([0, 1, 1, 1, 1, 1, 0, 0, 0, 0, 1, 0, 0, 0, 0, 1, 0, 0, 0, 0, 1, 0, 0, 0,\n",
       "          0, 0, 0, 0, 0, 0, 0, 0, 0, 0, 0, 0, 0, 0, 0, 0, 0, 0, 0, 0, 0, 0, 0, 0,\n",
       "          0, 0, 0, 0, 0, 0, 0, 0, 0, 0, 0, 0, 0, 0, 0, 0, 0, 0, 0, 0, 0, 0, 0, 0,\n",
       "          0, 0, 0, 0, 0, 0, 0, 0, 0, 0, 0, 0, 0, 0, 0, 0, 0, 0, 0, 0, 0, 0, 0, 0,\n",
       "          0, 0, 0, 0, 0, 0, 0, 0, 0, 0, 0, 0, 0, 0, 0, 0, 0, 0, 0, 0, 0, 0, 0, 0,\n",
       "          0, 0, 0, 0, 0, 0, 0, 0, 0, 0, 0, 0, 0, 0, 0, 0, 0, 0, 0, 0, 0, 0, 0, 0])],\n",
       " tensor([-40.4789], dtype=torch.float64))"
      ]
     },
     "execution_count": 3,
     "metadata": {},
     "output_type": "execute_result"
    }
   ],
   "source": [
    "qm9[1]"
   ]
  },
  {
   "cell_type": "code",
   "execution_count": null,
   "metadata": {},
   "outputs": [],
   "source": [
    "ds_params = {'features': ['atXYZ'],\n",
    "             'pad': False,\n",
    "             'targets': ['eAT'],\n",
    "             'embed': [('atNUM',9,64,0,True)],\n",
    "             'selector': ['i1-c1-opt'],\n",
    "             'use_h5': True}\n",
    "\n",
    "qm7x = QM7X(**ds_params)"
   ]
  },
  {
   "cell_type": "code",
   "execution_count": null,
   "metadata": {},
   "outputs": [],
   "source": [
    "qm7x[1]"
   ]
  },
  {
   "cell_type": "code",
   "execution_count": null,
   "metadata": {},
   "outputs": [],
   "source": [
    "ds_params = {'features': ['coulomb','xyz'],\n",
    "             'targets': ['ae'],\n",
    "             'embed': [('atoms',7,16,0,True)],\n",
    "             'in_file': './data/qm7/qm7.mat'}\n",
    "\n",
    "qm7 = QM7(**ds_params)"
   ]
  },
  {
   "cell_type": "code",
   "execution_count": null,
   "metadata": {},
   "outputs": [],
   "source": [
    "qm7[0]"
   ]
  },
  {
   "cell_type": "code",
   "execution_count": null,
   "metadata": {},
   "outputs": [],
   "source": [
    "ds_params = {'features': ['coulomb','alpha_p','alpha_s','HOMO_g',\n",
    "                          'HOMO_p','HOMO_z','LUMO_g','LUMO_p','LUMO_z',\n",
    "                          'IP','EA','E1','Emax','Imax'],\n",
    "            'targets': ['E'],\n",
    "            'in_file': './data/qm7b/qm7b.mat'}\n",
    "\n",
    "qm7b = QM7b(**ds_params)"
   ]
  },
  {
   "cell_type": "code",
   "execution_count": null,
   "metadata": {},
   "outputs": [],
   "source": [
    "qm7b[0]"
   ]
  },
  {
   "cell_type": "code",
   "execution_count": null,
   "metadata": {},
   "outputs": [],
   "source": [
    "ds_params = {'features': ['coordinates'],\n",
    "             'targets': ['wb97x_dz.energy'],\n",
    "             'embed': [('atomic_numbers',6,32,0,True)],\n",
    "             'pad': 63, #length of the longest molecule in the dataset\n",
    "             'criterion': None,\n",
    "             'conformation': 'random',\n",
    "             'in_file': './data/ani1x/ani1x-release.h5'}\n",
    "\n",
    "ani1x = ANI1x(**ds_params)"
   ]
  },
  {
   "cell_type": "code",
   "execution_count": null,
   "metadata": {},
   "outputs": [],
   "source": [
    "ani1x['C1H4']"
   ]
  },
  {
   "cell_type": "code",
   "execution_count": null,
   "metadata": {},
   "outputs": [],
   "source": []
  },
  {
   "cell_type": "code",
   "execution_count": null,
   "metadata": {},
   "outputs": [],
   "source": []
  }
 ],
 "metadata": {
  "kernelspec": {
   "display_name": "Python 3",
   "language": "python",
   "name": "python3"
  },
  "language_info": {
   "codemirror_mode": {
    "name": "ipython",
    "version": 3
   },
   "file_extension": ".py",
   "mimetype": "text/x-python",
   "name": "python",
   "nbconvert_exporter": "python",
   "pygments_lexer": "ipython3",
   "version": "3.7.9"
  }
 },
 "nbformat": 4,
 "nbformat_minor": 4
}
