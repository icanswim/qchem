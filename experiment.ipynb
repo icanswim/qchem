{
 "cells": [
  {
   "cell_type": "code",
   "execution_count": null,
   "metadata": {},
   "outputs": [],
   "source": [
    "# This is a series of examples using the icanswim/qchem quantum mechanic machine learning repo\n",
    "# icanswim/qchem utilizes the icanswim/cosmosis data science machine learning repo"
   ]
  },
  {
   "cell_type": "code",
   "execution_count": 1,
   "metadata": {},
   "outputs": [],
   "source": [
    "import sys # required for relative imports in jupyter lab\n",
    "sys.path.insert(0, '../')\n",
    "\n",
    "import warnings\n",
    "warnings.filterwarnings('ignore', category=UserWarning,\n",
    "                            message='TypedStorage is deprecated')\n",
    "\n",
    "from cosmosis.model import FFNet\n",
    "from cosmosis.dataset import SKDS, Pad, Flatten, Reshape, SqueezeN\n",
    "from cosmosis.learning import Learn, Selector\n",
    "\n",
    "from dataset import QM7, QM7b, QM7X, ANI1x, QM9, PGDS\n",
    "from model import pyg_model, GraphNet, GlobalAttentionNet\n",
    "\n",
    "from torch.optim import Adam\n",
    "from torch.nn import MSELoss, L1Loss, NLLLoss, CrossEntropyLoss\n",
    "from torch.optim.lr_scheduler import ReduceLROnPlateau\n",
    "\n",
    "from torch_geometric.loader import DataLoader\n",
    "\n"
   ]
  },
  {
   "cell_type": "code",
   "execution_count": 2,
   "metadata": {
    "tags": []
   },
   "outputs": [
    {
     "name": "stdout",
     "output_type": "stream",
     "text": [
      "creating QM9 dataset...\n",
      "molecules scanned:  1\n",
      "molecules created:  1\n",
      "total molecules scanned:  1000\n",
      "total uncharacterized molecules removed:  25\n",
      "total molecules created:  975\n",
      "CDataset created...\n"
     ]
    },
    {
     "data": {
      "text/plain": [
       "{'model_input': {'X': array([ 6.      ,  1.      ,  1.      ,  1.      ,  1.      , -0.535689,\n",
       "          0.133921,  0.133922,  0.133923,  0.133923], dtype=float32),\n",
       "  'coulomb': array([[36.858112 , 10.765888 , 10.765641 , 10.765677 , 10.765863 ],\n",
       "         [ 0.9157932,  0.5      ,  1.7942736,  1.7942796,  1.7943105],\n",
       "         [ 0.9157932,  1.7943147,  0.5      ,  1.7942796,  1.7943105],\n",
       "         [ 0.9157932,  1.7943147,  1.7942736,  0.5      ,  1.7943105],\n",
       "         [ 0.9157932,  1.7943147,  1.7942736,  1.7942796,  0.5      ]],\n",
       "        dtype=float32)},\n",
       " 'criterion_input': {'target': array([-40.47893], dtype=float32)}}"
      ]
     },
     "execution_count": 2,
     "metadata": {},
     "output_type": "execute_result"
    }
   ],
   "source": [
    "#example exploring cosmosis/qchem QM9 dataset \n",
    "#use the qchem rdkit branch for rdkit data augmentation\n",
    "\n",
    "ds_params = {'train_params': {'input_dict': {'model_input': {'X': ['atomic_number','mulliken'],\n",
    "                                                             'coulomb': ['coulomb'],\n",
    "                                                            },\n",
    "                                             'criterion_input': {'target': ['U0']}},\n",
    "                              'n': 1000, #non-random subset for testing,\n",
    "                              'use_pickle': False}}\n",
    "\n",
    "qm9 = QM9(**ds_params['train_params'])\n",
    "qm9[1]"
   ]
  },
  {
   "cell_type": "code",
   "execution_count": 3,
   "metadata": {
    "tags": []
   },
   "outputs": [
    {
     "name": "stdout",
     "output_type": "stream",
     "text": [
      "longest molecule index:  228  length:  40\n",
      "shortest molecule index:  3  length:  6\n"
     ]
    },
    {
     "data": {
      "text/plain": [
       "{'model_input': {'X': array([ 8.      ,  1.      ,  1.      , -0.589706,  0.294853,  0.294853],\n",
       "        dtype=float32),\n",
       "  'coulomb': array([[73.51671  , 35.90347  , 35.90347  ],\n",
       "         [ 1.0393857,  0.5      ,  4.4879336],\n",
       "         [ 1.0393857,  4.4879336,  0.5      ]], dtype=float32)},\n",
       " 'criterion_input': {'target': array([-76.4047], dtype=float32)}}"
      ]
     },
     "execution_count": 3,
     "metadata": {},
     "output_type": "execute_result"
    }
   ],
   "source": [
    "#example exploring cosmosis/qchem QM9 dataset\n",
    "l, s, li, si = 0, 9999, 0, 0\n",
    "for i in qm9.ds_idx:\n",
    "    d = qm9[i]['model_input']['X'].shape[0]\n",
    "    if d > l:\n",
    "        l = d\n",
    "        li = i\n",
    "    if d < s:\n",
    "        s = d\n",
    "        si = i\n",
    "print('longest molecule index: ', li, ' length: ', l)\n",
    "print('shortest molecule index: ', si, ' length: ', s)\n",
    "qm9[si]"
   ]
  },
  {
   "cell_type": "code",
   "execution_count": 4,
   "metadata": {
    "tags": []
   },
   "outputs": [
    {
     "name": "stdout",
     "output_type": "stream",
     "text": [
      "creating pytorch geometric QM9 dataset...\n",
      "CDataset created...\n",
      "batch:  DataBatch(x=[21, 11], edge_index=[2, 61], edge_attr=[40, 4], y=[2, 19], pos=[21, 3], z=[21], name=[2], idx=[2], batch=[21], ptr=[3])\n",
      "batch.ptr:  tensor([ 0, 12, 21])\n",
      "batch.idx:  tensor([505, 912])\n",
      "batch.x:  tensor([[0., 1., 0., 0., 0., 6., 0., 0., 0., 0., 3.],\n",
      "        [0., 1., 0., 0., 0., 6., 0., 0., 0., 0., 0.],\n",
      "        [0., 1., 0., 0., 0., 6., 0., 0., 0., 0., 0.],\n",
      "        [0., 1., 0., 0., 0., 6., 0., 0., 0., 0., 2.],\n",
      "        [0., 1., 0., 0., 0., 6., 0., 0., 0., 0., 0.],\n",
      "        [0., 1., 0., 0., 0., 6., 0., 0., 0., 0., 1.],\n",
      "        [1., 0., 0., 0., 0., 1., 0., 0., 0., 0., 0.],\n",
      "        [1., 0., 0., 0., 0., 1., 0., 0., 0., 0., 0.],\n",
      "        [1., 0., 0., 0., 0., 1., 0., 0., 0., 0., 0.],\n",
      "        [1., 0., 0., 0., 0., 1., 0., 0., 0., 0., 0.],\n",
      "        [1., 0., 0., 0., 0., 1., 0., 0., 0., 0., 0.],\n",
      "        [1., 0., 0., 0., 0., 1., 0., 0., 0., 0., 0.],\n",
      "        [0., 0., 0., 1., 0., 8., 0., 0., 0., 0., 0.],\n",
      "        [0., 1., 0., 0., 0., 6., 0., 0., 0., 0., 0.],\n",
      "        [0., 0., 1., 0., 0., 7., 0., 0., 0., 0., 0.],\n",
      "        [0., 1., 0., 0., 0., 6., 0., 0., 0., 0., 1.],\n",
      "        [0., 0., 0., 1., 0., 8., 0., 0., 0., 0., 0.],\n",
      "        [0., 1., 0., 0., 0., 6., 0., 0., 0., 0., 1.],\n",
      "        [0., 0., 1., 0., 0., 7., 0., 0., 0., 0., 0.],\n",
      "        [1., 0., 0., 0., 0., 1., 0., 0., 0., 0., 0.],\n",
      "        [1., 0., 0., 0., 0., 1., 0., 0., 0., 0., 0.]])\n",
      "pgds[1]:  Data(x=[4, 11], edge_index=[2, 10], edge_attr=[6, 4], y=[1, 19], pos=[4, 3], z=[4], name='gdb_2', idx=[1])\n",
      "pgds[1].x:  tensor([[0., 0., 1., 0., 0., 7., 0., 0., 0., 0., 3.],\n",
      "        [1., 0., 0., 0., 0., 1., 0., 0., 0., 0., 0.],\n",
      "        [1., 0., 0., 0., 0., 1., 0., 0., 0., 0., 0.],\n",
      "        [1., 0., 0., 0., 0., 1., 0., 0., 0., 0., 0.]])\n",
      "pgds[1].y:  tensor([[ 1.6256e+00,  9.4600e+00, -6.9933e+00,  2.2558e+00,  9.2491e+00,\n",
      "          2.6156e+01,  9.3493e-01, -1.5381e+03, -1.5381e+03, -1.5380e+03,\n",
      "         -1.5387e+03,  6.3160e+00, -1.2006e+01, -1.2082e+01, -1.2159e+01,\n",
      "         -1.1246e+01,  2.9361e+02,  2.9354e+02,  1.9139e+02]])\n",
      "pgds[1].idx:  tensor([1])\n"
     ]
    }
   ],
   "source": [
    "#example exploring cosmosis/qchem PyG dataset wrapper with Data object output\n",
    "import numpy as np\n",
    "import torch_geometric.transforms as T\n",
    "\n",
    "ds_params = {'train_params': {'dataset': 'QM9',\n",
    "                              'pg_params': {'root': './data/',\n",
    "                                            'transform': T.AddSelfLoops()}}}\n",
    "\n",
    "pgds = PGDS(**ds_params['train_params'])\n",
    "ds_idx = np.arange(1000)\n",
    "selector = Selector(train_idx=ds_idx)\n",
    "selector('train')\n",
    "loader = DataLoader(pgds, batch_size=2, sampler=selector)\n",
    "batch = next(iter(loader))\n",
    "print('batch: ', batch)\n",
    "print('batch.ptr: ', batch.ptr)\n",
    "print('batch.idx: ', batch.idx)\n",
    "print('batch.x: ', batch.x)\n",
    "print('pgds[1]: ', pgds[1])\n",
    "print('pgds[1].x: ', pgds[1].x)\n",
    "print('pgds[1].y: ', pgds[1].y)\n",
    "print('pgds[1].idx: ', pgds[1].idx)"
   ]
  },
  {
   "cell_type": "code",
   "execution_count": 5,
   "metadata": {
    "tags": []
   },
   "outputs": [
    {
     "name": "stdout",
     "output_type": "stream",
     "text": [
      "creating pytorch geometric QM9 dataset...\n",
      "CDataset created...\n",
      "torch.Size([12, 1])\n",
      "{'model_input': {'X': tensor([[0., 0., 1., 0., 0., 7., 0., 0., 0., 0., 3.],\n",
      "        [1., 0., 0., 0., 0., 1., 0., 0., 0., 0., 0.],\n",
      "        [1., 0., 0., 0., 0., 1., 0., 0., 0., 0., 0.],\n",
      "        [1., 0., 0., 0., 0., 1., 0., 0., 0., 0., 0.]]), 'edge_index': tensor([[0],\n",
      "        [0],\n",
      "        [0],\n",
      "        [1],\n",
      "        [2],\n",
      "        [3],\n",
      "        [1],\n",
      "        [2],\n",
      "        [3],\n",
      "        [0],\n",
      "        [0],\n",
      "        [0]])}, 'criterion_input': {'target': tensor([[ 1.6256e+00,  9.4600e+00, -6.9933e+00,  2.2558e+00,  9.2491e+00,\n",
      "          2.6156e+01,  9.3493e-01, -1.5381e+03, -1.5381e+03, -1.5380e+03,\n",
      "         -1.5387e+03,  6.3160e+00, -1.2006e+01, -1.2082e+01, -1.2159e+01,\n",
      "         -1.1246e+01,  2.9361e+02,  2.9354e+02,  1.9139e+02]])}}\n"
     ]
    }
   ],
   "source": [
    "#example exploring cosmosis/qchem PyG dataset wrapper, padded with dictionary output\n",
    "\n",
    "ds_params = {'train_params': {'dataset': 'QM9',\n",
    "                              'input_dict': {'model_input': {'X': ['x'],\n",
    "                                                             'edge_index': ['edge_index']},\n",
    "                                             'criterion_input': {'target': ['y']}},\n",
    "                              'transforms': {'edge_index': [Reshape((-1,1))]},\n",
    "                              'pg_params': {'root': './data/'}}}\n",
    "\n",
    "pgds = PGDS(**ds_params['train_params'])\n",
    "print(pgds[1]['model_input']['edge_index'].shape)\n",
    "print(pgds[1])"
   ]
  },
  {
   "cell_type": "code",
   "execution_count": 11,
   "metadata": {
    "tags": []
   },
   "outputs": [
    {
     "name": "stdout",
     "output_type": "stream",
     "text": [
      "creating QM9 dataset...\n",
      "molecules scanned:  1\n",
      "molecules created:  1\n",
      "total molecules scanned:  23\n",
      "total uncharacterized molecules removed:  0\n",
      "total molecules created:  10\n",
      "CDataset created...\n",
      "dataset index:  [1, 2, 3, 4, 5, 6, 8, 10, 12, 23]\n"
     ]
    },
    {
     "data": {
      "text/plain": [
       "{'model_input': {'X': array([[36.858112 , 10.765641 , 10.765863 , 10.765677 , 10.765888 ,\n",
       "           0.       ],\n",
       "         [ 0.9157932,  0.5      ,  1.7943105,  1.7942796,  1.7943147,\n",
       "           0.       ],\n",
       "         [ 0.9157932,  1.7942736,  0.5      ,  1.7942796,  1.7943147,\n",
       "           0.       ],\n",
       "         [ 0.9157932,  1.7942736,  1.7943105,  0.5      ,  1.7943147,\n",
       "           0.       ],\n",
       "         [ 0.9157932,  1.7942736,  1.7943105,  1.7942796,  0.5      ,\n",
       "           0.       ],\n",
       "         [ 0.       ,  0.       ,  0.       ,  0.       ,  0.       ,\n",
       "           0.       ]], dtype=float32)},\n",
       " 'criterion_input': {'target': array([-40.47893], dtype=float32)}}"
      ]
     },
     "execution_count": 11,
     "metadata": {},
     "output_type": "execute_result"
    }
   ],
   "source": [
    "ds_params = {'train_params': {'input_dict': {'model_input': {'X': ['coulomb']},\n",
    "                                             'criterion_input': {'target': ['U0']}},\n",
    "                              'n': 10, #non-random subset for testing\n",
    "                              'transforms': {'coulomb': [Pad((6,6))]},\n",
    "                              'filter_on': ('n_atoms','<','7'), #filter out molecules with more than 7 atoms\n",
    "                              'use_pickle': False}}\n",
    "\n",
    "qm9 = QM9(**ds_params['train_params'])\n",
    "print('dataset index: ', qm9.ds_idx)\n",
    "qm9[1]"
   ]
  },
  {
   "cell_type": "code",
   "execution_count": 7,
   "metadata": {
    "tags": []
   },
   "outputs": [
    {
     "name": "stdout",
     "output_type": "stream",
     "text": [
      "creating QM9 dataset...\n",
      "molecules scanned:  1\n",
      "molecules created:  0\n",
      "molecules scanned:  10001\n",
      "molecules created:  9551\n",
      "total molecules scanned:  10450\n",
      "total uncharacterized molecules removed:  265\n",
      "total molecules created:  9735\n",
      "CDataset created...\n",
      "FFNet model loaded...\n",
      "CModel loaded...\n",
      "running model on gpu...\n",
      "learning time: 0:00:03.067366\n",
      "epoch: 0, lr: 0.01\n",
      "train loss: 200079.61506035214, val loss: 79.82431666056316\n",
      "learning time: 0:00:13.999316\n",
      "epoch: 8, lr: 0.01\n",
      "train loss: 62.91560363769531, val loss: 59.31134329901801\n",
      "test loss: 55.5278197394477\n",
      "learning time: 0:00:15.685819\n"
     ]
    },
    {
     "data": {
      "image/png": "[encoded data removed]",
      "text/plain": [
       "<Figure size 640x480 with 1 Axes>"
      ]
     },
     "metadata": {},
     "output_type": "display_data"
    }
   ],
   "source": [
    "#example cosmosis/qchem QM9 dataset with filter\n",
    "#use the qchem rdkit branch for rdkit data augmentation\n",
    "\n",
    "qm9_features = ['A','B','C','mu','alpha','homo','lumo', 'gap','r2','zpve',\n",
    "                'U0','U','H','G','Cv','qm9_n_atoms','qm9_block','qm9_atom_type',\n",
    "                'qm9_xyz','mulliken','in_file','smile','distance','coulomb']\n",
    "\n",
    "ds_params = {'train_params': {'input_dict': {'model_input': {'X': ['coulomb']},\n",
    "                                             'criterion_input': {'target': ['U0']}},\n",
    "                              'n': 10000, #non-random subset for testing\n",
    "                              'transforms': {'coulomb': [Pad((29,29)),Reshape((1,-1))],\n",
    "                                             'U0': [SqueezeN()]},\n",
    "                              'filter_on': ('n_atoms','>','10'), #filter out molecules with less than 10 atoms\n",
    "                              'use_pickle': False}}\n",
    "\n",
    "model_params = {'in_channels': 29*29, \n",
    "                'hidden': 4096, \n",
    "                'out_channels': 1, \n",
    "                'model_name': 'funnel'\n",
    "               }\n",
    "                \n",
    "metrics_params = {'report_interval': 1,\n",
    "                  'log_plot': False}\n",
    "\n",
    "crit_params = {'reduction': 'sum'}\n",
    "\n",
    "sample_params = {'set_seed': 88,\n",
    "                 'splits': (.7,.15),\n",
    "                 'subset': .2 #create random subset\n",
    "                }\n",
    "\n",
    "sched_params = {'factor': .5,\n",
    "                'patience': 5,\n",
    "                'cooldown': 2}\n",
    "\n",
    "opt_params = {'lr': 0.01}\n",
    "\n",
    "l = Learn([QM9], FFNet, Selector, Optimizer=Adam, Scheduler=ReduceLROnPlateau, Criterion=L1Loss, \n",
    "          model_params=model_params, ds_params=ds_params, sample_params=sample_params,\n",
    "          opt_params=opt_params, sched_params=sched_params, crit_params=crit_params,\n",
    "          squeeze_y_pred=True, batch_size=32, epochs=10)"
   ]
  },
  {
   "cell_type": "code",
   "execution_count": 12,
   "metadata": {
    "tags": []
   },
   "outputs": [
    {
     "name": "stdout",
     "output_type": "stream",
     "text": [
      "creating pytorch geometric TUDataset dataset...\n",
      "CDataset created...\n",
      "CModel loaded...\n",
      "running model on gpu...\n",
      "learning time: 0:00:00.798475\n",
      "epoch: 0, lr: 0.01\n",
      "train loss: 0.08223593863658607, val loss: 0.07467229912678401\n",
      "sklearn train metric: 0.609375, sklearn validation metric: 0.75\n",
      "learning time: 0:00:03.190828\n",
      "epoch: 3, lr: 0.01\n",
      "train loss: 0.0641903521027416, val loss: 0.08519492298364639\n",
      "sklearn train metric: 0.7265625, sklearn validation metric: 0.5\n",
      "learning time: 0:00:05.575158\n",
      "epoch: 6, lr: 0.005\n",
      "train loss: 0.06748405960388482, val loss: 0.08542569354176521\n",
      "sklearn train metric: 0.7265625, sklearn validation metric: 0.625\n",
      "learning time: 0:00:07.954534\n",
      "epoch: 9, lr: 0.0025\n",
      "train loss: 0.06432409677654505, val loss: 0.0728482852379481\n",
      "sklearn train metric: 0.71875, sklearn validation metric: 0.5833333333333334\n",
      "test loss: 0.07438354318340619\n",
      "learning time: 0:00:08.298253\n",
      "sklearn test metric: \n",
      "0.6666666666666666 \n",
      "\n"
     ]
    },
    {
     "data": {
      "image/png": "[encoded data removed]",
      "text/plain": [
       "<Figure size 640x480 with 1 Axes>"
      ]
     },
     "metadata": {},
     "output_type": "display_data"
    }
   ],
   "source": [
    "#example cosmosis/qchem PyG dataset wrapper with Data object output and\n",
    "#sklearn metrics and custom PyG model\n",
    "\n",
    "model_params = {'in_channels': 7,\n",
    "                'hidden': 64,\n",
    "                'out_channels': 2,\n",
    "                'depth': 2}\n",
    "\n",
    "ds_params = {'train_params': {'dataset': 'TUDataset',\n",
    "                              'pg_params': {'root': './data/',\n",
    "                                            'name': 'MUTAG'}}}\n",
    "\n",
    "metrics_params = {'report_interval': 2,\n",
    "                  'log_plot': False,\n",
    "                  'sk_metric_name': 'accuracy_score',\n",
    "                  'sk_params': {}}\n",
    "\n",
    "opt_params = {'lr': 0.01}\n",
    "\n",
    "crit_params = {}\n",
    "\n",
    "sample_params = {'set_seed': 88,\n",
    "                 'splits': (.7, .15)}\n",
    "\n",
    "sched_params = {'factor': .5,\n",
    "                'patience': 2,\n",
    "                'cooldown': 1}\n",
    "\n",
    "l = Learn([PGDS], GraphNet, Selector, \n",
    "          Optimizer=Adam, Scheduler=ReduceLROnPlateau, Criterion=CrossEntropyLoss, DataLoader=DataLoader,\n",
    "          model_params=model_params, ds_params=ds_params, sample_params=sample_params,\n",
    "          opt_params=opt_params, sched_params=sched_params, crit_params=crit_params,\n",
    "          metrics_params=metrics_params,\n",
    "          batch_size=8, epochs=10)"
   ]
  },
  {
   "cell_type": "code",
   "execution_count": null,
   "metadata": {
    "tags": []
   },
   "outputs": [],
   "source": [
    "import numpy as np\n",
    "\n",
    "class IndexTransform():\n",
    "    #select index i from dataset with multiple target outputs\n",
    "    def __init__(self, i):\n",
    "        self.i = i\n",
    "    def __call__(self, arr):\n",
    "        return np.reshape(arr[self.i], (1,))\n",
    "\n",
    "\n",
    "model_params = {'in_channels': 11, \n",
    "                'hidden': 512, \n",
    "                'out_channels': 1,\n",
    "                'depth': 2}\n",
    "\n",
    "ds_params = {'train_params': {'dataset': 'QM9',\n",
    "                              'transforms': {},\n",
    "                              'pg_params': {'root': './data/',\n",
    "                                            'transform': IndexTransform(1)}}}\n",
    "\n",
    "metrics_params = {'report_interval': 10,\n",
    "                  'log_plot': True}\n",
    "\n",
    "opt_params = {'lr': 0.01}\n",
    "\n",
    "crit_params = {'reduction': 'sum'}\n",
    "\n",
    "sample_params = {'set_seed': 88,\n",
    "                 'splits': (.7, .15)}\n",
    "\n",
    "sched_params = {'factor': .5,\n",
    "                'patience': 2,\n",
    "                'cooldown': 1}\n",
    "\n",
    "l = Learn([PGDS], GraphNet, Selector, \n",
    "          Optimizer=Adam, Scheduler=ReduceLROnPlateau, Criterion=MSELoss, DataLoader=DataLoader,\n",
    "          model_params=model_params, ds_params=ds_params, sample_params=sample_params,\n",
    "          opt_params=opt_params, sched_params=sched_params, crit_params=crit_params,\n",
    "          metrics_params=metrics_params,\n",
    "          batch_size=256, epochs=10)"
   ]
  },
  {
   "cell_type": "code",
   "execution_count": null,
   "metadata": {
    "tags": []
   },
   "outputs": [],
   "source": [
    "import numpy as np\n",
    "\n",
    "class IndexTransform():\n",
    "    #select index i from dataset with multiple target outputs\n",
    "    def __init__(self, i):\n",
    "        self.i = i\n",
    "    def __call__(self, arr):\n",
    "        return np.reshape(arr[self.i], (1,))\n",
    "    \n",
    "ds_params = {'train_params': {'dataset': 'QM9',\n",
    "                              'use_pyg': False,\n",
    "                              'transform': [IndexTransform(1)],\n",
    "                              'pg_params': {'root': './data/'}}}\n",
    "\n",
    "pgds = PGDS(**ds_params['train_params'])\n",
    "print(pgds[1])\n"
   ]
  },
  {
   "cell_type": "code",
   "execution_count": null,
   "metadata": {},
   "outputs": [],
   "source": [
    "model_params = {'in_channels': 7,\n",
    "                'hidden': 64,\n",
    "                'out_channels': 2,\n",
    "                'depth': 2}\n",
    "\n",
    "ds_params = {'train_params': {'dataset': 'TUDataset',\n",
    "                              'pg_params': {'root': './data/',\n",
    "                                            'name': 'MUTAG'}}}\n",
    "\n",
    "metrics_params = {'report_interval': 2,\n",
    "                  'log_plot': False,\n",
    "                  'sk_metric_name': 'accuracy_score',\n",
    "                  'sk_params': {}}\n",
    "\n",
    "opt_params = {'lr': 0.01}\n",
    "\n",
    "crit_params = {}\n",
    "\n",
    "sample_params = {'set_seed': 88,\n",
    "                 'splits': (.7, .15)}\n",
    "\n",
    "sched_params = {'factor': .5,\n",
    "                'patience': 2,\n",
    "                'cooldown': 1}\n",
    "\n",
    "l = Learn([PGDS], GraphNet, Selector, \n",
    "          Optimizer=Adam, Scheduler=ReduceLROnPlateau, Criterion=CrossEntropyLoss, DataLoader=DataLoader,\n",
    "          model_params=model_params, ds_params=ds_params, sample_params=sample_params,\n",
    "          opt_params=opt_params, sched_params=sched_params, crit_params=crit_params,\n",
    "          metrics_params=metrics_params,\n",
    "          batch_size=8, epochs=10)"
   ]
  },
  {
   "cell_type": "code",
   "execution_count": null,
   "metadata": {
    "tags": []
   },
   "outputs": [],
   "source": [
    "model_params = {'in_channels': 7,\n",
    "                'hidden': 64,\n",
    "                'out_channels': 2,\n",
    "                'depth': 2}\n",
    "\n",
    "ds_params = {'train_params': {'dataset': 'TUDataset',\n",
    "                              'pg_params': {'root': './data/',\n",
    "                                            'name': 'MUTAG'}}}\n",
    "\n",
    "metrics_params = {'report_interval': 2,\n",
    "                  'log_plot': False,\n",
    "                  'sk_metric_name': 'accuracy_score',\n",
    "                  'sk_params': {}}\n",
    "\n",
    "opt_params = {'lr': 0.01}\n",
    "\n",
    "crit_params = {}\n",
    "\n",
    "sample_params = {'set_seed': 88,\n",
    "                 'splits': (.7, .15)}\n",
    "\n",
    "sched_params = {'factor': .5,\n",
    "                'patience': 2,\n",
    "                'cooldown': 1}\n",
    "\n",
    "l = Learn([PGDS], GlobalAttentionNet, Selector, \n",
    "          Optimizer=Adam, Scheduler=ReduceLROnPlateau, Criterion=CrossEntropyLoss, DataLoader=DataLoader,\n",
    "          model_params=model_params, ds_params=ds_params, sample_params=sample_params,\n",
    "          opt_params=opt_params, sched_params=sched_params, crit_params=crit_params,\n",
    "          metrics_params=metrics_params,\n",
    "          batch_size=8, epochs=10)"
   ]
  },
  {
   "cell_type": "code",
   "execution_count": null,
   "metadata": {
    "tags": []
   },
   "outputs": [],
   "source": [
    "#example cosmosis/qchem PyG dataset wrapper with custum transform with\n",
    "#dictionary output and custom model\n",
    "import numpy as np\n",
    "\n",
    "class IndexTransform():\n",
    "    #select index i from dataset with multiple target outputs\n",
    "    def __init__(self, i):\n",
    "        self.i = i\n",
    "    def __call__(self, arr):\n",
    "        return np.reshape(arr[self.i], (1,))\n",
    "\n",
    "model_params = {'in_channels': 319, \n",
    "                'hidden': 512, \n",
    "                'out_channels': 1, \n",
    "                'model_name': 'funnel'}\n",
    "\n",
    "ds_params = {'train_params': {'dataset': 'QM9',\n",
    "                              'use_pyg': False,\n",
    "                              'pad': (29,11),\n",
    "                              'pad_feats': ['x'],\n",
    "                              'flatten': True,\n",
    "                              'target_transform': [IndexTransform(1)],\n",
    "                              'input_dict': {'model_input': {'X': ['x']},\n",
    "                                             'criterion_input': {'target': ['y']}},\n",
    "                              'pg_params': {'root': './data/'}}}\n",
    "\n",
    "metrics_params = {'report_interval': 10,\n",
    "                  'log_plot': True}\n",
    "\n",
    "opt_params = {'lr': 0.01}\n",
    "\n",
    "crit_params = {'reduction': 'sum'}\n",
    "\n",
    "sample_params = {'set_seed': 88,\n",
    "                 'splits': (.7, .15)}\n",
    "\n",
    "sched_params = {'factor': .5,\n",
    "                'patience': 2,\n",
    "                'cooldown': 1}\n",
    "\n",
    "l = Learn([PGDS], FFNet, Selector, \n",
    "          Optimizer=Adam, Scheduler=ReduceLROnPlateau, Criterion=MSELoss, \n",
    "          model_params=model_params, ds_params=ds_params, sample_params=sample_params,\n",
    "          opt_params=opt_params, sched_params=sched_params, crit_params=crit_params,\n",
    "          metrics_params=metrics_params,\n",
    "          batch_size=256, epochs=10)"
   ]
  },
  {
   "cell_type": "code",
   "execution_count": null,
   "metadata": {
    "tags": []
   },
   "outputs": [],
   "source": [
    "#test\n",
    "import numpy as np\n",
    "\n",
    "class IndexTransform():\n",
    "    #select index i from dataset with multiple target outputs\n",
    "    def __init__(self, i):\n",
    "        self.i = i\n",
    "    def __call__(self, arr):\n",
    "        return np.reshape(arr[self.i], (1,))\n",
    "\n",
    "model_params = {'in_channels': 11, \n",
    "                'hidden': 512, \n",
    "                'out_channels': 1,\n",
    "                'depth': 2}\n",
    "\n",
    "ds_params = {'train_params': {'dataset': 'QM9',\n",
    "                              'target_transform': [IndexTransform(1)],\n",
    "                              'pg_params': {'root': './data/'}}}\n",
    "\n",
    "metrics_params = {'report_interval': 10,\n",
    "                  'log_plot': True}\n",
    "\n",
    "opt_params = {'lr': 0.01}\n",
    "\n",
    "crit_params = {'reduction': 'sum'}\n",
    "\n",
    "sample_params = {'set_seed': 88,\n",
    "                 'splits': (.7, .15)}\n",
    "\n",
    "sched_params = {'factor': .5,\n",
    "                'patience': 2,\n",
    "                'cooldown': 1}\n",
    "\n",
    "l = Learn([PGDS], GlobalAttentionNet, Selector, \n",
    "          Optimizer=Adam, Scheduler=ReduceLROnPlateau, Criterion=MSELoss, \n",
    "          model_params=model_params, ds_params=ds_params, sample_params=sample_params,\n",
    "          opt_params=opt_params, sched_params=sched_params, crit_params=crit_params,\n",
    "          metrics_params=metrics_params,\n",
    "          batch_size=256, epochs=10)"
   ]
  },
  {
   "cell_type": "code",
   "execution_count": null,
   "metadata": {
    "tags": []
   },
   "outputs": [],
   "source": [
    "#example using cosmosis/qchem QM7 dataset and custom model\n",
    "model_params = {'in_channels': 23*23, \n",
    "                'hidden': 2048, \n",
    "                'out_channels': 1, \n",
    "                'model_name': 'funnel'}\n",
    "\n",
    "ds_params = {'train_params': {'input_dict': {'model_input': {'X': ['coulomb']},\n",
    "                                             'criterion_input': {'target': ['ae']}},\n",
    "                              'in_file': './data/qm7/qm7.mat',\n",
    "                              'flatten': True}}\n",
    "\n",
    "metrics_params = {'report_interval': 10,\n",
    "                  'log_plot': True}\n",
    "\n",
    "crit_params = {'reduction': 'sum'}\n",
    "\n",
    "sample_params = {'set_seed': 88,\n",
    "                 'splits': (.7,.15)}\n",
    "\n",
    "sched_params = {'factor': .5,\n",
    "                'patience': 3,\n",
    "                'cooldown': 2}\n",
    "\n",
    "opt_params = {'lr': 0.01}\n",
    "\n",
    "l = Learn([QM7], FFNet, Selector, \n",
    "          Optimizer=Adam, Scheduler=ReduceLROnPlateau, Criterion=L1Loss, \n",
    "          model_params=model_params, ds_params=ds_params, sample_params=sample_params,\n",
    "          opt_params=opt_params, sched_params=sched_params, crit_params=crit_params,\n",
    "          metrics_params=metrics_params,\n",
    "          batch_size=256, epochs=20)"
   ]
  },
  {
   "cell_type": "code",
   "execution_count": null,
   "metadata": {
    "tags": []
   },
   "outputs": [],
   "source": [
    "#example using the cosmosis/qchem QM7b dataset and custom model\n",
    "model_params = {'in_channels': 23*23, \n",
    "                'hidden': 2048, \n",
    "                'out_channels': 1, \n",
    "                'model_name': 'funnel'}\n",
    "\n",
    "ds_params = {'train_params': {'input_dict': {'model_input': {'X': ['coulomb']},\n",
    "                                             'criterion_input': {'target': ['E']}},\n",
    "                              'in_file': './data/qm7b/qm7b.mat',\n",
    "                              'flatten': True}}\n",
    "\n",
    "metrics_params = {'report_interval': 10,\n",
    "                  'log_plot': True}\n",
    "\n",
    "crit_params = {'reduction': 'sum'}\n",
    "\n",
    "sample_params = {'set_seed': 88,\n",
    "                 'splits': (.7,.15)}\n",
    "\n",
    "sched_params = {'factor': .5,\n",
    "                'patience': 3,\n",
    "                'cooldown': 2}\n",
    "\n",
    "opt_params = {'lr': 0.01}\n",
    "\n",
    "l = Learn([QM7b], FFNet, Selector, \n",
    "          Optimizer=Adam, Scheduler=ReduceLROnPlateau, Criterion=L1Loss, \n",
    "          model_params=model_params, ds_params=ds_params, sample_params=sample_params,\n",
    "          opt_params=opt_params, sched_params=sched_params, crit_params=crit_params,\n",
    "          metrics_params=metrics_params, \n",
    "          batch_size=256, epochs=20)"
   ]
  },
  {
   "cell_type": "code",
   "execution_count": null,
   "metadata": {
    "tags": []
   },
   "outputs": [],
   "source": [
    "#example exploring cosmosis/qchem QM7X dataset\n",
    "\n",
    "features = ['DIP','HLgap','atC6','atNUM','atPOL','atXYZ','eAT','hDIP',\n",
    "            'eC','eDFTB+MBD','eEE','eH','eKIN','eKSE','eL','eMBD','eNE', \n",
    "            'eNN','ePBE0','ePBE0+MBD','eTS','eX','eXC','eXX','hCHG', \n",
    "            'hRAT','hVDIP','hVOL','mC6','mPOL','mTPOL','pbe0FOR', \n",
    "            'sMIT','sRMSD','totFOR','vDIP','vEQ','vIQ','vTQ','vdwFOR','vdwR',\n",
    "            'coulomb'] #(1110,) with pad=23\n",
    "\n",
    "ds_params = {'train_params': {'input_dict': {'model_input': {'X': ['atNUM']},\n",
    "                                             'criterion_input': {'target': ['eAT']}},\n",
    "                              'pad': None, #longest molecule = 23\n",
    "                              'as_tensor': False,\n",
    "                              'n': 1000, #non-random subset for testing\n",
    "                              'selector': ['opt'],\n",
    "                              'flatten': True}}\n",
    "\n",
    "qm7x = QM7X(**ds_params['train_params'])\n",
    "\n",
    "l, m = 0, 0\n",
    "for i in qm7x.ds_idx:\n",
    "    s = qm7x[i]['model_input']['X'].shape[0]\n",
    "    if s > l:\n",
    "        l = s\n",
    "        m = i\n",
    "print('longest molecule length: ', l, ' index: ', m)\n",
    "print(qm7x[m]['model_input']['X'].shape) \n",
    "qm7x[m]\n"
   ]
  },
  {
   "cell_type": "code",
   "execution_count": null,
   "metadata": {
    "tags": []
   },
   "outputs": [],
   "source": [
    "#example using the cosmosis/qchem QM7X dataset with filter and custom model\n",
    "model_params = {'in_channels': 23*23,\n",
    "                'hidden': 2048, \n",
    "                'out_channels': 1, \n",
    "                'model_name': 'funnel'}\n",
    "\n",
    "features = ['DIP','HLgap','atC6','atNUM','atPOL','atXYZ','hDIP','eAT',\n",
    "            'eC','eDFTB+MBD','eEE','eH','eKIN','eKSE','eL','eMBD','eNE', \n",
    "            'eNN','ePBE0','ePBE0+MBD','eTS','eX','eXC','eXX','hCHG', \n",
    "            'hRAT','hVDIP','hVOL','mC6','mPOL','mTPOL','pbe0FOR', \n",
    "            'sMIT','sRMSD','totFOR','vDIP','vEQ','vIQ','vTQ','vdwFOR','vdwR',\n",
    "            'coulomb','distance']\n",
    "\n",
    "ds_params = {'train_params': {'input_dict': {'model_input': {'X': ['coulomb']},\n",
    "                                             'criterion_input': {'target': ['eAT']}},\n",
    "                              'pad': 23,\n",
    "                              'selector': ['opt'],\n",
    "                              'flatten': True,\n",
    "                              'n': 1000, #non-random subset for testing\n",
    "                             }}\n",
    "\n",
    "metrics_params = {'report_interval': 10,\n",
    "                  'log_plot': True}\n",
    "\n",
    "crit_params = {'reduction': 'sum'}\n",
    "\n",
    "sample_params = {'set_seed': 88,\n",
    "                 'splits': (.7,.15),\n",
    "                 #'subset': .2 #create random subset\n",
    "                } \n",
    "\n",
    "sched_params = {'factor': .5,\n",
    "                'patience': 5,\n",
    "                'cooldown': 2}\n",
    "\n",
    "opt_params = {'lr': 0.01}\n",
    "\n",
    "l = Learn([QM7X], FFNet, Selector, \n",
    "          Optimizer=Adam, Scheduler=ReduceLROnPlateau, Criterion=L1Loss, \n",
    "          model_params=model_params, ds_params=ds_params, sample_params=sample_params,\n",
    "          opt_params=opt_params, sched_params=sched_params, crit_params=crit_params,\n",
    "          metrics_params=metrics_params,\n",
    "          batch_size=64, epochs=10)"
   ]
  },
  {
   "cell_type": "code",
   "execution_count": null,
   "metadata": {
    "tags": []
   },
   "outputs": [],
   "source": [
    "#example using cosmosis/qchem ANI1x dataset with filter and custom model\n",
    "model_params = {'in_channels': 63*63, \n",
    "                'hidden': 2000, \n",
    "                'out_channels': 1, \n",
    "                'model_name': 'funnel'\n",
    "               }\n",
    "\n",
    "ds_params = {'train_params': {'input_dict': {'model_input': {'X': ['coulomb']},\n",
    "                                             'criterion_input': {'target': ['wb97x_dz.energy']}},\n",
    "                              'pad_feats': ['coulomb'],\n",
    "                              'pad': 63, #length of the longest molecule in the dataset\n",
    "                              'flatten': True,\n",
    "                              'criterion': ['wb97x_dz.energy'],\n",
    "                              'conformation': 'max',\n",
    "                              'in_file': './data/ani1x/ani1x-release.h5'}}\n",
    "\n",
    "metrics_params = {'report_interval': 20}\n",
    "\n",
    "crit_params = {'reduction': 'sum'}\n",
    "sample_params = {'set_seed': 88,\n",
    "                 'splits': (.7,.15)}\n",
    "sched_params = {'factor': .5,\n",
    "                'patience': 5,\n",
    "                'cooldown': 5}\n",
    "opt_params = {'lr': 0.01}\n",
    "\n",
    "l = Learn([ANI1x], FFNet, Selector, Optimizer=Adam, Scheduler=ReduceLROnPlateau, Criterion=L1Loss, \n",
    "          model_params=model_params, ds_params=ds_params, sample_params=sample_params,\n",
    "          opt_params=opt_params, sched_params=sched_params, crit_params=crit_params,\n",
    "          batch_size=64, epochs=10)"
   ]
  },
  {
   "cell_type": "code",
   "execution_count": null,
   "metadata": {},
   "outputs": [],
   "source": [
    "!conda list"
   ]
  },
  {
   "cell_type": "code",
   "execution_count": null,
   "metadata": {},
   "outputs": [],
   "source": []
  }
 ],
 "metadata": {
  "kernelspec": {
   "display_name": "Python 3 (ipykernel)",
   "language": "python",
   "name": "python3"
  },
  "language_info": {
   "codemirror_mode": {
    "name": "ipython",
    "version": 3
   },
   "file_extension": ".py",
   "mimetype": "text/x-python",
   "name": "python",
   "nbconvert_exporter": "python",
   "pygments_lexer": "ipython3",
   "version": "3.10.11"
  }
 },
 "nbformat": 4,
 "nbformat_minor": 4
}
