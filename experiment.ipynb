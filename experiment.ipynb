{
 "cells": [
  {
   "cell_type": "code",
   "execution_count": 1,
   "metadata": {},
   "outputs": [
    {
     "name": "stderr",
     "output_type": "stream",
     "text": [
      "RDKit WARNING: [18:50:08] Enabling RDKit 2019.09.3 jupyter extensions\n"
     ]
    }
   ],
   "source": [
    "import sys # required for relative imports in jupyter lab\n",
    "sys.path.insert(0, '../') \n",
    "\n",
    "from cosmosis.model import FFNet\n",
    "from cosmosis.learning import Learn, Selector\n",
    "from cosmosis.dataset import SKDS\n",
    "\n",
    "from dataset import QM7, QM7b, QM7X, QM9, ANI1x\n",
    "\n",
    "from torch.optim import Adam\n",
    "from torch.nn import MSELoss, L1Loss\n",
    "from torch.optim.lr_scheduler import ReduceLROnPlateau"
   ]
  },
  {
   "cell_type": "code",
   "execution_count": 2,
   "metadata": {},
   "outputs": [
    {
     "name": "stdout",
     "output_type": "stream",
     "text": [
      "CDataset created...\n",
      "SKDS make_regression created...\n",
      "CModel loaded...\n",
      "FFNet model loaded...\n",
      "learning time: 0:00:03.720834\n",
      "epoch: 0, lr: 0.01\n",
      "train loss: 28734.545789930555, val loss: 21179.165234375\n",
      "sklearn train metric: 0, sklearn validation metric: 0\n",
      "learning time: 0:00:09.906006\n",
      "epoch: 10, lr: 0.005\n",
      "train loss: 544.8085609718605, val loss: 527.746044921875\n",
      "sklearn train metric: 0, sklearn validation metric: 0\n",
      "test loss: 511.7072387695313\n",
      "learning time: 0:00:15.787556\n",
      "sklearn test metric: \n",
      "0 \n",
      "\n"
     ]
    },
    {
     "data": {
      "image/png": "[encoded data removed]",
      "text/plain": [
       "<Figure size 432x288 with 1 Axes>"
      ]
     },
     "metadata": {
      "needs_background": "light"
     },
     "output_type": "display_data"
    }
   ],
   "source": [
    "model_params = {'D_in': 128, \n",
    "                'H': 512, \n",
    "                'D_out': 1, \n",
    "                'model_name': 'funnel'}\n",
    "\n",
    "ds_params = {'train_params': {'features': ['X'],\n",
    "                              'targets': ['y'],\n",
    "                              'features_dtype': 'float32',\n",
    "                              'targets_dtype': 'float32',\n",
    "                              'make': 'make_regression',\n",
    "                              'transform': [],\n",
    "                              'target_transform': [],\n",
    "                              'sk_params': {'n_samples': 10000,\n",
    "                                            'n_features': 128}}}\n",
    "\n",
    "metrics_params = {'report_interval': 10}\n",
    "\n",
    "opt_params = {'lr': 0.01}\n",
    "\n",
    "crit_params = {'reduction': 'sum'}\n",
    "\n",
    "sample_params = {'set_seed': 88,\n",
    "                 'splits': (.7, .15)}\n",
    "\n",
    "sched_params = {'factor': .5,\n",
    "                'patience': 2,\n",
    "                'cooldown': 1}\n",
    "\n",
    "l = Learn([SKDS], FFNet, Selector, \n",
    "          Optimizer=Adam, Scheduler=ReduceLROnPlateau, Criterion=MSELoss, \n",
    "          model_params=model_params, ds_params=ds_params, sample_params=sample_params,\n",
    "          opt_params=opt_params, sched_params=sched_params, crit_params=crit_params,\n",
    "          metrics_params=metrics_params,\n",
    "          adapt=False, load_model=False, load_embed=False, save_model=False,\n",
    "          batch_size=256, epochs=20)"
   ]
  },
  {
   "cell_type": "code",
   "execution_count": 3,
   "metadata": {},
   "outputs": [
    {
     "name": "stdout",
     "output_type": "stream",
     "text": [
      "CDataset created...\n",
      "CModel loaded...\n",
      "FFNet model loaded...\n",
      "learning time: 0:00:00.967757\n",
      "epoch: 0, lr: 0.01\n",
      "train loss: 1531.5182527240954, val loss: 1502.23291015625\n",
      "sklearn train metric: 0, sklearn validation metric: 0\n",
      "learning time: 0:00:09.281182\n",
      "epoch: 10, lr: 0.01\n",
      "train loss: 35.08216406169691, val loss: 31.662063598632812\n",
      "sklearn train metric: 0, sklearn validation metric: 0\n",
      "test loss: 32.130637645721436\n",
      "learning time: 0:00:17.023184\n",
      "sklearn test metric: \n",
      "0 \n",
      "\n"
     ]
    },
    {
     "data": {
      "image/png": "[encoded data removed]",
      "text/plain": [
       "<Figure size 432x288 with 1 Axes>"
      ]
     },
     "metadata": {
      "needs_background": "light"
     },
     "output_type": "display_data"
    }
   ],
   "source": [
    "model_params = {'D_in': 23*23+23*32, \n",
    "                'H': 4096, \n",
    "                'D_out': 1, \n",
    "                'model_name': 'funnel',\n",
    "                'embed_params': [('atoms',7,32,None,True)]}\n",
    "\n",
    "ds_params = {'train_params': {'features': ['coulomb'],\n",
    "                              'targets': ['ae'],\n",
    "                              'embeds': ['atoms'],\n",
    "                              'in_file': './data/qm7/qm7.mat',\n",
    "                              'flatten': True}}\n",
    "\n",
    "metrics_params = {'report_interval': 10}\n",
    "\n",
    "crit_params = {'reduction': 'sum'}\n",
    "\n",
    "sample_params = {'set_seed': 88,\n",
    "                 'splits': (.7,.15)}\n",
    "\n",
    "sched_params = {'factor': .5,\n",
    "                'patience': 2,\n",
    "                'cooldown': 1}\n",
    "\n",
    "opt_params = {'lr': 0.01}\n",
    "\n",
    "l = Learn([QM7], FFNet, Selector, \n",
    "          Optimizer=Adam, Scheduler=ReduceLROnPlateau, Criterion=L1Loss, \n",
    "          model_params=model_params, ds_params=ds_params, sample_params=sample_params,\n",
    "          opt_params=opt_params, sched_params=sched_params, crit_params=crit_params,\n",
    "          metrics_params=metrics_params,\n",
    "          adapt=False, load_model=False, load_embed=False, save_model=False, \n",
    "          batch_size=256, epochs=20)"
   ]
  },
  {
   "cell_type": "code",
   "execution_count": 4,
   "metadata": {},
   "outputs": [
    {
     "name": "stdout",
     "output_type": "stream",
     "text": [
      "CDataset created...\n",
      "CModel loaded...\n",
      "FFNet model loaded...\n",
      "learning time: 0:00:00.613372\n",
      "epoch: 0, lr: 0.01\n",
      "train loss: 1562.351382606908, val loss: 1545.6412658691406\n",
      "sklearn train metric: 0, sklearn validation metric: 0\n",
      "learning time: 0:00:06.774388\n",
      "epoch: 10, lr: 0.01\n",
      "train loss: 56.577617846037214, val loss: 60.67550277709961\n",
      "sklearn train metric: 0, sklearn validation metric: 0\n",
      "learning time: 0:00:12.879684\n",
      "epoch: 20, lr: 0.01\n",
      "train loss: 46.75776973523592, val loss: 57.241790771484375\n",
      "sklearn train metric: 0, sklearn validation metric: 0\n",
      "learning time: 0:00:18.888067\n",
      "epoch: 30, lr: 0.005\n",
      "train loss: 42.00589852584036, val loss: 51.2036657333374\n",
      "sklearn train metric: 0, sklearn validation metric: 0\n",
      "learning time: 0:00:24.950807\n",
      "epoch: 40, lr: 0.005\n",
      "train loss: 40.30644848472193, val loss: 53.352646827697754\n",
      "sklearn train metric: 0, sklearn validation metric: 0\n",
      "test loss: 54.21363162994385\n",
      "learning time: 0:00:30.699092\n",
      "sklearn test metric: \n",
      "0 \n",
      "\n"
     ]
    },
    {
     "data": {
      "image/png": "[encoded data removed]",
      "text/plain": [
       "<Figure size 432x288 with 1 Axes>"
      ]
     },
     "metadata": {
      "needs_background": "light"
     },
     "output_type": "display_data"
    }
   ],
   "source": [
    "model_params = {'D_in': 23*23, \n",
    "                'H': 2048, \n",
    "                'D_out': 1, \n",
    "                'model_name': 'funnel'}\n",
    "\n",
    "ds_params = {'train_params': {'features': ['coulomb'],\n",
    "                              'targets': ['E'],\n",
    "                              'in_file': './data/qm7b/qm7b.mat',\n",
    "                              'flatten': True}}\n",
    "\n",
    "metrics_params = {'report_interval': 10}\n",
    "\n",
    "crit_params = {'reduction': 'sum'}\n",
    "\n",
    "sample_params = {'set_seed': 88,\n",
    "                 'splits': (.7,.15)}\n",
    "\n",
    "sched_params = {'factor': .5,\n",
    "                'patience': 5,\n",
    "                'cooldown': 2}\n",
    "\n",
    "opt_params = {'lr': 0.01}\n",
    "\n",
    "l = Learn([QM7b], FFNet, Selector, \n",
    "          Optimizer=Adam, Scheduler=ReduceLROnPlateau, Criterion=L1Loss, \n",
    "          model_params=model_params, ds_params=ds_params, sample_params=sample_params,\n",
    "          opt_params=opt_params, sched_params=sched_params, crit_params=crit_params,\n",
    "          metrics_params=metrics_params,\n",
    "          adapt=False, load_model=False, load_embed=False, save_model=False, \n",
    "          batch_size=256, epochs=50)"
   ]
  },
  {
   "cell_type": "code",
   "execution_count": 6,
   "metadata": {},
   "outputs": [
    {
     "name": "stdout",
     "output_type": "stream",
     "text": [
      "mapping...  <HDF5 file \"1000.hdf5\" (mode r)>\n",
      "mapping...  <HDF5 file \"2000.hdf5\" (mode r)>\n",
      "mapping...  <HDF5 file \"3000.hdf5\" (mode r)>\n",
      "mapping...  <HDF5 file \"4000.hdf5\" (mode r)>\n",
      "mapping...  <HDF5 file \"5000.hdf5\" (mode r)>\n",
      "mapping...  <HDF5 file \"6000.hdf5\" (mode r)>\n",
      "mapping...  <HDF5 file \"7000.hdf5\" (mode r)>\n",
      "mapping...  <HDF5 file \"8000.hdf5\" (mode r)>\n",
      "molecular formula (idmol) mapped:  6950\n",
      "total molecular structures (idconf) mapped:  41537\n",
      "CDataset created...\n",
      "longest molecule length:  23\n"
     ]
    },
    {
     "data": {
      "text/plain": [
       "(array([6., 1., 1., 1., 1.], dtype=float32), [], [])"
      ]
     },
     "execution_count": 6,
     "metadata": {},
     "output_type": "execute_result"
    }
   ],
   "source": [
    "#find the longest molecule\n",
    "\n",
    "ds_params = {'train_params': {'features': ['atNUM'],\n",
    "                              'pad': None,\n",
    "                              'targets': [],\n",
    "                              'embeds': [],\n",
    "                              'selector': ['opt']}}\n",
    "\n",
    "qm7x = QM7X(**ds_params['train_params'])\n",
    "l = 0\n",
    "for i in qm7x.ds_idx:\n",
    "    s = qm7x[i][0].shape[0]\n",
    "    if s > l:\n",
    "        l = s\n",
    "print('longest molecule length: ', l)\n",
    "\n",
    "qm7x[1]"
   ]
  },
  {
   "cell_type": "code",
   "execution_count": 8,
   "metadata": {},
   "outputs": [
    {
     "name": "stdout",
     "output_type": "stream",
     "text": [
      "mapping...  <HDF5 file \"1000.hdf5\" (mode r)>\n",
      "mapping...  <HDF5 file \"2000.hdf5\" (mode r)>\n",
      "mapping...  <HDF5 file \"3000.hdf5\" (mode r)>\n",
      "mapping...  <HDF5 file \"4000.hdf5\" (mode r)>\n",
      "mapping...  <HDF5 file \"5000.hdf5\" (mode r)>\n",
      "mapping...  <HDF5 file \"6000.hdf5\" (mode r)>\n",
      "mapping...  <HDF5 file \"7000.hdf5\" (mode r)>\n",
      "mapping...  <HDF5 file \"8000.hdf5\" (mode r)>\n",
      "molecular formula (idmol) mapped:  6950\n",
      "total molecular structures (idconf) mapped:  41537\n",
      "CDataset created...\n",
      "CModel loaded...\n",
      "FFNet model loaded...\n",
      "learning time: 0:00:01.773108\n",
      "epoch: 0, lr: 0.01\n",
      "train loss: 66.4335056104158, val loss: 45.5223388671875\n",
      "sklearn train metric: 0, sklearn validation metric: 0\n",
      "learning time: 0:00:12.989721\n",
      "epoch: 7, lr: 0.01\n",
      "train loss: 2.6686283789182963, val loss: 2.5566316843032837\n",
      "sklearn train metric: 0, sklearn validation metric: 0\n",
      "learning time: 0:00:17.866593\n",
      "epoch: 10, lr: 0.01\n",
      "train loss: 2.1241006662971094, val loss: 2.0431875586509705\n",
      "sklearn train metric: 0, sklearn validation metric: 0\n",
      "learning time: 0:00:29.196524\n",
      "epoch: 17, lr: 0.01\n",
      "train loss: 2.2260560550187765, val loss: 2.079540491104126\n",
      "sklearn train metric: 0, sklearn validation metric: 0\n",
      "learning time: 0:00:34.007505\n",
      "epoch: 20, lr: 0.005\n",
      "train loss: 2.3059351193277458, val loss: 2.3655843138694763\n",
      "sklearn train metric: 0, sklearn validation metric: 0\n",
      "learning time: 0:00:45.611864\n",
      "epoch: 27, lr: 0.005\n",
      "train loss: 2.132287069370872, val loss: 1.7004136741161346\n",
      "sklearn train metric: 0, sklearn validation metric: 0\n",
      "learning time: 0:00:50.532815\n",
      "epoch: 30, lr: 0.005\n",
      "train loss: 2.0933613777160645, val loss: 1.7347691357135773\n",
      "sklearn train metric: 0, sklearn validation metric: 0\n",
      "learning time: 0:01:01.892333\n",
      "epoch: 37, lr: 0.0025\n",
      "train loss: 1.7379638646778308, val loss: 1.794850468635559\n",
      "sklearn train metric: 0, sklearn validation metric: 0\n",
      "learning time: 0:01:06.874177\n",
      "epoch: 40, lr: 0.0025\n",
      "train loss: 1.5943926761024876, val loss: 1.8554889559745789\n",
      "sklearn train metric: 0, sklearn validation metric: 0\n",
      "learning time: 0:01:18.413900\n",
      "epoch: 47, lr: 0.00125\n",
      "train loss: 1.7011669936933016, val loss: 1.5972577035427094\n",
      "sklearn train metric: 0, sklearn validation metric: 0\n",
      "test loss: 1.628527581691742\n",
      "learning time: 0:01:22.296653\n",
      "sklearn test metric: \n",
      "0 \n",
      "\n"
     ]
    },
    {
     "data": {
      "image/png": "[encoded data removed]",
      "text/plain": [
       "<Figure size 432x288 with 1 Axes>"
      ]
     },
     "metadata": {
      "needs_background": "light"
     },
     "output_type": "display_data"
    }
   ],
   "source": [
    "model_params = {'D_in': 23*23+23*64, \n",
    "                'H': 4096, \n",
    "                'D_out': 1, \n",
    "                'model_name': 'funnel',\n",
    "                'embed_params': [('atNUM',9,64,None,True)]}\n",
    "\n",
    "ds_params = {'train_params': {'features': ['distance'],\n",
    "                              'pad': 23,\n",
    "                              'targets': ['eAT'],\n",
    "                              'embeds': ['atNUM'],\n",
    "                              'selector': ['opt'],\n",
    "                              'flatten': True}}\n",
    "\n",
    "metrics_params = {'report_interval': 10}\n",
    "\n",
    "crit_params = {'reduction': 'sum'}\n",
    "\n",
    "sample_params = {'set_seed': 88,\n",
    "                 'splits': (.7,.15)}\n",
    "\n",
    "sched_params = {'factor': .5,\n",
    "                'patience': 5,\n",
    "                'cooldown': 2}\n",
    "\n",
    "opt_params = {'lr': 0.01}\n",
    "\n",
    "l = Learn([QM7X], FFNet, Selector, \n",
    "          Optimizer=Adam, Scheduler=ReduceLROnPlateau, Criterion=L1Loss, \n",
    "          model_params=model_params, ds_params=ds_params, sample_params=sample_params,\n",
    "          opt_params=opt_params, sched_params=sched_params, crit_params=crit_params,\n",
    "          metrics_params=metrics_params,\n",
    "          adapt=False, load_model=False, load_embed=False, save_model=False, \n",
    "          batch_size=256, epochs=50)"
   ]
  },
  {
   "cell_type": "code",
   "execution_count": 3,
   "metadata": {
    "tags": []
   },
   "outputs": [
    {
     "name": "stdout",
     "output_type": "stream",
     "text": [
      "loading QM9 datadic from a pickled copy...\n",
      "CDataset created...\n",
      "CModel loaded...\n",
      "FFNet model loaded...\n",
      "learning time: 0:00:04.153304\n",
      "epoch: 0, lr: 0.01\n",
      "train loss: 337.3235367995042, val loss: 289.6648315429687\n",
      "sklearn train metric: 0, sklearn validation metric: 0\n",
      "learning time: 0:00:12.444180\n",
      "epoch: 10, lr: 0.01\n",
      "train loss: 8.606407660704393, val loss: 8.63420934677124\n",
      "sklearn train metric: 0, sklearn validation metric: 0\n",
      "test loss: 7.723360347747803\n",
      "learning time: 0:00:20.142390\n",
      "sklearn test metric: \n",
      "0 \n",
      "\n"
     ]
    },
    {
     "data": {
      "image/png": "[encoded data removed]",
      "text/plain": [
       "<Figure size 432x288 with 1 Axes>"
      ]
     },
     "metadata": {
      "needs_background": "light"
     },
     "output_type": "display_data"
    }
   ],
   "source": [
    "model_params = {'D_in': 29*29, \n",
    "                'H': 4096, \n",
    "                'D_out': 1, \n",
    "                'model_name': 'funnel'}\n",
    "\n",
    "ds_params = {'train_params': {#'n': 10000, \n",
    "                              'features': ['coulomb'],\n",
    "                              'embeds': [], \n",
    "                              'targets': ['U0'],\n",
    "                              'pad': 29, \n",
    "                              'filter_on': None,\n",
    "                              'use_pickle': 'qm9.p',\n",
    "                              'flatten': True}}\n",
    "\n",
    "metrics_params = {'report_interval': 10}\n",
    "\n",
    "crit_params = {'reduction': 'sum'}\n",
    "\n",
    "sample_params = {'set_seed': 88,\n",
    "                 'splits': (.7,.15)}\n",
    "\n",
    "sched_params = {'factor': .5,\n",
    "                'patience': 5,\n",
    "                'cooldown': 2}\n",
    "\n",
    "opt_params = {'lr': 0.01}\n",
    "\n",
    "l = Learn([QM9], FFNet, Selector, \n",
    "          Optimizer=Adam, Scheduler=ReduceLROnPlateau, Criterion=L1Loss, \n",
    "          model_params=model_params, ds_params=ds_params, sample_params=sample_params,\n",
    "          opt_params=opt_params, sched_params=sched_params, crit_params=crit_params,\n",
    "          metrics_params=metrics_params,\n",
    "          adapt=False, load_model=False, load_embed=False, save_model=False, \n",
    "          batch_size=256, epochs=20)"
   ]
  },
  {
   "cell_type": "code",
   "execution_count": 4,
   "metadata": {},
   "outputs": [
    {
     "name": "stdout",
     "output_type": "stream",
     "text": [
      "creating QM9 dataset...\n",
      "QM9 molecules scanned:  1\n",
      "QM9 molecules created:  0\n",
      "QM9 molecules scanned:  10001\n",
      "QM9 molecules created:  1853\n",
      "QM9 molecules scanned:  20001\n",
      "QM9 molecules created:  4109\n",
      "QM9 molecules scanned:  30001\n",
      "QM9 molecules created:  5164\n",
      "QM9 molecules scanned:  40001\n",
      "QM9 molecules created:  8487\n",
      "QM9 molecules scanned:  50001\n",
      "QM9 molecules created:  10694\n",
      "QM9 molecules scanned:  60001\n",
      "QM9 molecules created:  15309\n",
      "QM9 molecules scanned:  70001\n",
      "QM9 molecules created:  20609\n",
      "QM9 molecules scanned:  80001\n",
      "QM9 molecules created:  25898\n",
      "QM9 molecules scanned:  90001\n",
      "QM9 molecules created:  32036\n",
      "QM9 molecules scanned:  100001\n",
      "QM9 molecules created:  38581\n",
      "QM9 molecules scanned:  110001\n",
      "QM9 molecules created:  46307\n",
      "QM9 molecules scanned:  120001\n",
      "QM9 molecules created:  54330\n",
      "QM9 molecules scanned:  130001\n",
      "QM9 molecules created:  58020\n",
      "total uncharacterized molecules removed:  467\n",
      "total QM9 molecules created:  57590\n",
      "pickling a copy of the QM9 datadic...\n",
      "CDataset created...\n",
      "CModel loaded...\n",
      "FFNet model loaded...\n",
      "learning time: 0:00:03.488314\n",
      "epoch: 0, lr: 0.01\n",
      "train loss: 109.8360964295211, val loss: 9.31604308793039\n",
      "sklearn train metric: 0, sklearn validation metric: 0\n",
      "learning time: 0:00:13.555107\n",
      "epoch: 3, lr: 0.01\n",
      "train loss: 7.695645742355638, val loss: 7.430827530947599\n",
      "sklearn train metric: 0, sklearn validation metric: 0\n",
      "learning time: 0:00:26.784270\n",
      "epoch: 7, lr: 0.01\n",
      "train loss: 6.986154261668017, val loss: 6.542142188910282\n",
      "sklearn train metric: 0, sklearn validation metric: 0\n",
      "learning time: 0:00:36.792976\n",
      "epoch: 10, lr: 0.01\n",
      "train loss: 6.6492511573111175, val loss: 7.518825848897298\n",
      "sklearn train metric: 0, sklearn validation metric: 0\n",
      "learning time: 0:00:46.967656\n",
      "epoch: 13, lr: 0.005\n",
      "train loss: 6.515784312205709, val loss: 6.695644595406272\n",
      "sklearn train metric: 0, sklearn validation metric: 0\n",
      "learning time: 0:00:57.044223\n",
      "epoch: 16, lr: 0.005\n",
      "train loss: 6.172549180923753, val loss: 6.1882461923541445\n",
      "sklearn train metric: 0, sklearn validation metric: 0\n",
      "learning time: 0:01:07.075936\n",
      "epoch: 19, lr: 0.005\n",
      "train loss: 6.151776933366326, val loss: 6.841685352903424\n",
      "sklearn train metric: 0, sklearn validation metric: 0\n",
      "learning time: 0:01:10.476520\n",
      "epoch: 20, lr: 0.0025\n",
      "train loss: 5.973080291869534, val loss: 5.734670017704819\n",
      "sklearn train metric: 0, sklearn validation metric: 0\n",
      "learning time: 0:01:20.519108\n",
      "epoch: 23, lr: 0.0025\n",
      "train loss: 5.680697018933144, val loss: 5.595789215781472\n",
      "sklearn train metric: 0, sklearn validation metric: 0\n",
      "learning time: 0:01:30.680166\n",
      "epoch: 26, lr: 0.0025\n",
      "train loss: 5.7076503941967225, val loss: 5.851585084741766\n",
      "sklearn train metric: 0, sklearn validation metric: 0\n",
      "learning time: 0:01:40.790459\n",
      "epoch: 29, lr: 0.00125\n",
      "train loss: 5.741833483337596, val loss: 5.8567617878769385\n",
      "sklearn train metric: 0, sklearn validation metric: 0\n",
      "test loss: 5.943935206442168\n",
      "learning time: 0:01:41.456492\n",
      "sklearn test metric: \n",
      "0 \n",
      "\n"
     ]
    },
    {
     "data": {
      "image/png": "[encoded data removed]",
      "text/plain": [
       "<Figure size 432x288 with 1 Axes>"
      ]
     },
     "metadata": {
      "needs_background": "light"
     },
     "output_type": "display_data"
    }
   ],
   "source": [
    "model_params = {'D_in': 29*29, \n",
    "                'H': 4096, \n",
    "                'D_out': 1, \n",
    "                'model_name': 'funnel',\n",
    "                'embed_params': []}\n",
    "\n",
    "ds_params = {'train_params': {#'n': 10000,\n",
    "                              'features': ['coulomb'],\n",
    "                              'embeds': [],\n",
    "                              'targets': ['U0'],\n",
    "                              'pad': 29, \n",
    "                              'filter_on': ('n_atoms','>','18'),\n",
    "                              'use_pickle': 'n_atoms_greater_than_18.p',\n",
    "                              'flatten': True}}\n",
    "\n",
    "crit_params = {'reduction': 'sum'}\n",
    "sample_params = {'set_seed': 88,\n",
    "                 'splits': (.7,.15)}\n",
    "sched_params = {'factor': .5,\n",
    "                'patience': 5,\n",
    "                'cooldown': 2}\n",
    "opt_params = {'lr': 0.01}\n",
    "\n",
    "l = Learn([QM9], FFNet, Selector, Optimizer=Adam, Scheduler=ReduceLROnPlateau, Criterion=L1Loss, \n",
    "          model_params=model_params, ds_params=ds_params, sample_params=sample_params,\n",
    "          opt_params=opt_params, sched_params=sched_params, crit_params=crit_params,\n",
    "          adapt=False, load_model=False, load_embed=False, save_model=False, \n",
    "          batch_size=256, epochs=30)"
   ]
  },
  {
   "cell_type": "code",
   "execution_count": 5,
   "metadata": {},
   "outputs": [
    {
     "name": "stdout",
     "output_type": "stream",
     "text": [
      "molecules loaded:  1000\n",
      "molecules loaded:  2000\n",
      "molecules loaded:  3000\n",
      "molecules loaded:  3114\n",
      "CDataset created...\n",
      "CModel loaded...\n",
      "FFNet model loaded...\n",
      "learning time: 0:00:02.820987\n",
      "epoch: 0, lr: 0.01\n",
      "train loss: 564.5048971737133, val loss: 530.1419677734375\n",
      "sklearn train metric: 0, sklearn validation metric: 0\n",
      "learning time: 0:00:13.677173\n",
      "epoch: 5, lr: 0.01\n",
      "train loss: 43.002085966222424, val loss: 51.827823638916016\n",
      "sklearn train metric: 0, sklearn validation metric: 0\n",
      "learning time: 0:00:24.495524\n",
      "epoch: 10, lr: 0.01\n",
      "train loss: 35.56331432566923, val loss: 31.64513333638509\n",
      "sklearn train metric: 0, sklearn validation metric: 0\n",
      "learning time: 0:00:35.258592\n",
      "epoch: 15, lr: 0.005\n",
      "train loss: 29.48338934954475, val loss: 32.54748280843099\n",
      "sklearn train metric: 0, sklearn validation metric: 0\n",
      "learning time: 0:00:46.045871\n",
      "epoch: 20, lr: 0.005\n",
      "train loss: 28.11592618156882, val loss: 35.997650146484375\n",
      "sklearn train metric: 0, sklearn validation metric: 0\n",
      "learning time: 0:00:56.905173\n",
      "epoch: 25, lr: 0.005\n",
      "train loss: 24.067113539751837, val loss: 27.74719492594401\n",
      "sklearn train metric: 0, sklearn validation metric: 0\n",
      "learning time: 0:01:07.739341\n",
      "epoch: 30, lr: 0.0025\n",
      "train loss: 21.03836519577924, val loss: 21.917695999145508\n",
      "sklearn train metric: 0, sklearn validation metric: 0\n",
      "learning time: 0:01:18.552151\n",
      "epoch: 35, lr: 0.0025\n",
      "train loss: 24.892090236439426, val loss: 23.25874392191569\n",
      "sklearn train metric: 0, sklearn validation metric: 0\n",
      "learning time: 0:01:29.390333\n",
      "epoch: 40, lr: 0.00125\n",
      "train loss: 20.026602520662195, val loss: 20.500959396362305\n",
      "sklearn train metric: 0, sklearn validation metric: 0\n",
      "learning time: 0:01:40.159182\n",
      "epoch: 45, lr: 0.00125\n",
      "train loss: 21.556673218222226, val loss: 27.909969329833984\n",
      "sklearn train metric: 0, sklearn validation metric: 0\n",
      "test loss: 25.12850793202718\n",
      "learning time: 0:01:49.435442\n",
      "sklearn test metric: \n",
      "0 \n",
      "\n"
     ]
    },
    {
     "data": {
      "image/png": "[encoded data removed]",
      "text/plain": [
       "<Figure size 432x288 with 1 Axes>"
      ]
     },
     "metadata": {
      "needs_background": "light"
     },
     "output_type": "display_data"
    }
   ],
   "source": [
    "model_params = {'D_in': 63*63+63*32, \n",
    "                'H': 8192, \n",
    "                'D_out': 1, \n",
    "                'model_name': 'funnel',\n",
    "                'embed_params': [('atomic_numbers',9,32,None,True)]}\n",
    "\n",
    "ds_params = {'train_params': {'features': ['distance'],\n",
    "                              'targets': ['wb97x_dz.energy'],\n",
    "                              'embeds': ['atomic_numbers'],\n",
    "                              'pad': 63, #length of the longest molecule in the dataset\n",
    "                              'flatten': True,\n",
    "                              'criterion': ['wb97x_dz.energy'],\n",
    "                              'conformation': 'random',\n",
    "                              'in_file': './data/ani1x/ani1x-release.h5'}}\n",
    "\n",
    "metrics_params = {'report_interval': 20}\n",
    "\n",
    "crit_params = {'reduction': 'sum'}\n",
    "sample_params = {'set_seed': 88,\n",
    "                 'splits': (.7,.15)}\n",
    "sched_params = {'factor': .5,\n",
    "                'patience': 5,\n",
    "                'cooldown': 5}\n",
    "opt_params = {'lr': 0.01}\n",
    "\n",
    "l = Learn([ANI1x], FFNet, Selector, Optimizer=Adam, Scheduler=ReduceLROnPlateau, Criterion=L1Loss, \n",
    "          model_params=model_params, ds_params=ds_params, sample_params=sample_params,\n",
    "          opt_params=opt_params, sched_params=sched_params, crit_params=crit_params,\n",
    "          adapt=False, load_model=False, load_embed=False, save_model=False, \n",
    "          batch_size=128, epochs=50)"
   ]
  },
  {
   "cell_type": "code",
   "execution_count": null,
   "metadata": {},
   "outputs": [],
   "source": []
  }
 ],
 "metadata": {
  "kernelspec": {
   "display_name": "Python 3",
   "language": "python",
   "name": "python3"
  },
  "language_info": {
   "codemirror_mode": {
    "name": "ipython",
    "version": 3
   },
   "file_extension": ".py",
   "mimetype": "text/x-python",
   "name": "python",
   "nbconvert_exporter": "python",
   "pygments_lexer": "ipython3",
   "version": "3.8.12"
  }
 },
 "nbformat": 4,
 "nbformat_minor": 4
}
