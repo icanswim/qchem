{
 "cells": [
  {
   "cell_type": "code",
   "execution_count": 1,
   "metadata": {},
   "outputs": [],
   "source": [
    "import sys # required for relative imports in jupyter lab\n",
    "sys.path.insert(0, '../') \n",
    "\n",
    "from cosmosis.model import FFNet\n",
    "from dataset import SKmake, QM7, QM7b, QM7X, QM9, ANI1x\n",
    "from learning import Learn, Selector\n",
    "\n",
    "from torch.optim import Adam\n",
    "from torch.nn import MSELoss, L1Loss\n",
    "from torch.optim.lr_scheduler import ReduceLROnPlateau"
   ]
  },
  {
   "cell_type": "code",
   "execution_count": null,
   "metadata": {},
   "outputs": [],
   "source": [
    "model_params = {'D_in': 128, \n",
    "                'H': 512, \n",
    "                'D_out': 1, \n",
    "                'model_name': 'funnel'}\n",
    "ds_params = {'make': 'make_regression',\n",
    "             'make_params': {'n_samples': 10000,\n",
    "                             'n_features': 128}}\n",
    "\n",
    "opt_params = {'lr': 0.01}\n",
    "crit_params = {'reduction': 'sum'}\n",
    "sample_params = {'set_seed': 88,\n",
    "                 'splits': (.1,.8)}\n",
    "sched_params = {'factor': .1,\n",
    "                'patience': 10}\n",
    "l = Learn(SKmake, FFNet, Selector, Optimizer=Adam, Scheduler=ReduceLROnPlateau, Criterion=MSELoss, \n",
    "          model_params=model_params, ds_params=ds_params, sample_params=sample_params,\n",
    "          opt_params=opt_params, sched_params=sched_params, crit_params=crit_params,\n",
    "          adapt=False, load_model=False, load_embed=False, save_model=False,\n",
    "          batch_size=256, epochs=10)"
   ]
  },
  {
   "cell_type": "code",
   "execution_count": null,
   "metadata": {},
   "outputs": [],
   "source": [
    "model_params = {'D_in': 23*23, \n",
    "                'H': 4096, \n",
    "                'D_out': 1, \n",
    "                'model_name': 'funnel'}\n",
    "ds_params = {}\n",
    "\n",
    "crit_params = {'reduction': 'sum'}\n",
    "sample_params = {'set_seed': 88,\n",
    "                 'splits': (.1,.8)}\n",
    "sched_params = {'factor': .1,\n",
    "                'patience': 10,\n",
    "                'cooldown': 10}\n",
    "opt_params = {'lr': 0.01}\n",
    "\n",
    "l = Learn(QM7, FFNet, Selector, Optimizer=Adam, Scheduler=ReduceLROnPlateau, Criterion=L1Loss, \n",
    "          model_params=model_params, ds_params=ds_params, sample_params=sample_params,\n",
    "          opt_params=opt_params, sched_params=sched_params, crit_params=crit_params,\n",
    "          adapt=False, load_model=False, load_embed=False, save_model=False, \n",
    "          batch_size=256, epochs=10)"
   ]
  },
  {
   "cell_type": "code",
   "execution_count": null,
   "metadata": {},
   "outputs": [],
   "source": [
    "model_params = {'D_in': 23*23+13, \n",
    "                'H': 4096, \n",
    "                'D_out': 1, \n",
    "                'model_name': 'funnel'}\n",
    "ds_params = {'target': 'E', \n",
    "             'features': ['alpha_p','alpha_s','HOMO_g','HOMO_p','HOMO_z','LUMO_g',\n",
    "                          'LUMO_p','LUMO_z','IP','EA','E1','Emax','Imax']}\n",
    "\n",
    "crit_params = {'reduction': 'sum'}\n",
    "sample_params = {'set_seed': 88,\n",
    "                 'splits': (.1,.8)}\n",
    "sched_params = {'factor': .1,\n",
    "                'patience': 10,\n",
    "                'cooldown': 10}\n",
    "opt_params = {'lr': 0.01}\n",
    "\n",
    "l = Learn(QM7b, FFNet, Selector, Optimizer=Adam, Scheduler=ReduceLROnPlateau, Criterion=L1Loss, \n",
    "          model_params=model_params, ds_params=ds_params, sample_params=sample_params,\n",
    "          opt_params=opt_params, sched_params=sched_params, crit_params=crit_params,\n",
    "          adapt=False, load_model=False, load_embed=False, save_model=False, \n",
    "          batch_size=256, epochs=10)"
   ]
  },
  {
   "cell_type": "code",
   "execution_count": null,
   "metadata": {},
   "outputs": [],
   "source": [
    "model_params = {'D_in': 12*12, # nxn coulomb matrix\n",
    "                'H': 2048, \n",
    "                'D_out': 1, \n",
    "                'model_name': 'funnel'}\n",
    "ds_params = {'n': 133885, \n",
    "             'features': ['coulomb'], \n",
    "             'targets': ['U0'],\n",
    "             'pad': 12, \n",
    "             'filter_on': ('n_atoms','>','12'),\n",
    "             'use_pickle': 'n_atoms_less_than_12.p'}\n",
    "\n",
    "crit_params = {'reduction': 'sum'}\n",
    "sample_params = {'set_seed': 88,\n",
    "                 'splits': (.1,.8)}\n",
    "sched_params = {'factor': .1,\n",
    "                'patience': 10,\n",
    "                'cooldown': 10}\n",
    "opt_params = {'lr': 0.01}\n",
    "\n",
    "l = Learn(QM9, FFNet, Selector, Optimizer=Adam, Scheduler=ReduceLROnPlateau, Criterion=L1Loss, \n",
    "          model_params=model_params, ds_params=ds_params, sample_params=sample_params,\n",
    "          opt_params=opt_params, sched_params=sched_params, crit_params=crit_params,\n",
    "          adapt=False, load_model=False, load_embed=False, save_model=False, \n",
    "          batch_size=32, epochs=10)"
   ]
  },
  {
   "cell_type": "code",
   "execution_count": null,
   "metadata": {},
   "outputs": [],
   "source": [
    "model_params = {'D_in': 32*63+63+63+63, \n",
    "                'H': 8192, \n",
    "                'D_out': 1, \n",
    "                'model_name': 'funnel',\n",
    "                'padding_idx': 0}\n",
    "\n",
    "ds_params = {'features': ['atomic_numbers','coordinates'],\n",
    "             'targets': ['wb97x_dz.energy'],\n",
    "             'embed': [(6,32,False)],\n",
    "             'pad': 63, #length of the longest molecule in the dataset\n",
    "             'criterion': None,\n",
    "             'conformation': 'random',\n",
    "             'in_file': './data/ani1x/ani1x-release.h5'}\n",
    "\n",
    "crit_params = {'reduction': 'sum'}\n",
    "sample_params = {'set_seed': 88,\n",
    "                 'splits': (.1,.8)}\n",
    "sched_params = {'factor': .1,\n",
    "                'patience': 10,\n",
    "                'cooldown': 10}\n",
    "opt_params = {'lr': 0.01}\n",
    "\n",
    "l = Learn(ANI1x, FFNet, Selector, Optimizer=Adam, Scheduler=ReduceLROnPlateau, Criterion=L1Loss, \n",
    "          model_params=model_params, ds_params=ds_params, sample_params=sample_params,\n",
    "          opt_params=opt_params, sched_params=sched_params, crit_params=crit_params,\n",
    "          adapt=False, load_model=False, load_embed=False, save_model=False, \n",
    "          batch_size=128, epochs=10)"
   ]
  },
  {
   "cell_type": "code",
   "execution_count": null,
   "metadata": {},
   "outputs": [],
   "source": [
    "ds_params = {'features': ['atNUM','atXYZ'],\n",
    "             'pad': 23,\n",
    "             'targets': ['eAT'],\n",
    "             'embed': [(9,64,True)],\n",
    "             'selector': ['i1-c1-opt'],\n",
    "             'use_h5': False}\n",
    "\n",
    "model_params = {'D_in': 64*23+23+23+23, \n",
    "                'H': 4096, \n",
    "                'D_out': 1, \n",
    "                'model_name': 'funnel',\n",
    "                'padding_idx': 0}\n",
    "\n",
    "crit_params = {'reduction': 'sum'}\n",
    "sample_params = {'set_seed': 88,\n",
    "                 'splits': (.1,.8)}\n",
    "sched_params = {'factor': .1,\n",
    "                'patience': 20,\n",
    "                'cooldown': 10}\n",
    "opt_params = {'lr': 0.01}\n",
    "\n",
    "l = Learn(QM7X, FFNet, Selector, Optimizer=Adam, Scheduler=ReduceLROnPlateau, Criterion=L1Loss, \n",
    "          model_params=model_params, ds_params=ds_params, sample_params=sample_params,\n",
    "          opt_params=opt_params, sched_params=sched_params, crit_params=crit_params,\n",
    "          adapt=False, load_model=False, load_embed=False, save_model=False, \n",
    "          batch_size=256, epochs=10)\n",
    "\n",
    "#find the longest molecule\n",
    "#qm7x = QM7X(**ds_params)\n",
    "#l = 0\n",
    "#for i in qm7x.ds_idx:\n",
    "#    s = qm7x[i][0].shape.numel()\n",
    "#    if s > l:\n",
    "#        l = s\n",
    "#print(l)"
   ]
  },
  {
   "cell_type": "code",
   "execution_count": null,
   "metadata": {},
   "outputs": [],
   "source": [
    "model_params = {'D_in': 29*29+29*29+29*29+29, # nxn coulomb matrix\n",
    "                'H': 4096, \n",
    "                'D_out': 1, \n",
    "                'model_name': 'funnel'}\n",
    "\n",
    "ds_params = {'n': 133885, \n",
    "             'features': ['coulomb','adjacency','distance','mulliken'], \n",
    "             'targets': ['U0'],\n",
    "             'pad': 29, \n",
    "             'filter_on': False,\n",
    "             'use_pickle': 'qm9.test.p'}\n",
    "\n",
    "crit_params = {'reduction': 'sum'}\n",
    "sample_params = {'set_seed': 88,\n",
    "                 'splits': (.15,.7)}\n",
    "sched_params = {'factor': .5,\n",
    "                'patience': 10,\n",
    "                'cooldown': 10}\n",
    "opt_params = {'lr': 0.01}\n",
    "\n",
    "l = Learn(QM9, FFNet, Selector, Optimizer=Adam, Scheduler=ReduceLROnPlateau, Criterion=L1Loss, \n",
    "          model_params=model_params, ds_params=ds_params, sample_params=sample_params,\n",
    "          opt_params=opt_params, sched_params=sched_params, crit_params=crit_params,\n",
    "          adapt=False, load_model=False, load_embed=False, save_model=False, \n",
    "          batch_size=32, epochs=10)"
   ]
  },
  {
   "cell_type": "code",
   "execution_count": 10,
   "metadata": {},
   "outputs": [
    {
     "name": "stdout",
     "output_type": "stream",
     "text": [
      "loading QM9 datadic from a pickled copy...\n"
     ]
    }
   ],
   "source": [
    "ds_params = {'n': 133885, \n",
    "             'features': ['distance','coulomb','mulliken'],\n",
    "             'embed': [('adjacency',4,16,0,True)],\n",
    "             'targets': ['U0'],\n",
    "             'pad': False, \n",
    "             'filter_on': False,\n",
    "             'use_pickle': 'qm9.p'}\n",
    "\n",
    "qm9 = QM9(**ds_params)"
   ]
  },
  {
   "cell_type": "code",
   "execution_count": 11,
   "metadata": {},
   "outputs": [
    {
     "data": {
      "text/plain": [
       "(tensor([ 0.0000,  1.0920,  1.0920,  1.0919,  1.0919,  1.0920,  0.0000,  1.7831,\n",
       "          1.7831,  1.7832,  1.0920,  1.7831,  0.0000,  1.7832,  1.7831,  1.0919,\n",
       "          1.7831,  1.7832,  0.0000,  1.7831,  1.0919,  1.7832,  1.7831,  1.7831,\n",
       "          0.0000, 36.8581, 10.7656, 10.7659, 10.7657, 10.7659,  0.9158,  0.5000,\n",
       "          1.7943,  1.7943,  1.7943,  0.9158,  1.7943,  0.5000,  1.7943,  1.7943,\n",
       "          0.9158,  1.7943,  1.7943,  0.5000,  1.7943,  0.9158,  1.7943,  1.7943,\n",
       "          1.7943,  0.5000, -0.5357,  0.1339,  0.1339,  0.1339,  0.1339]),\n",
       " [tensor([0, 1, 1, 1, 1, 1, 0, 0, 0, 0, 1, 0, 0, 0, 0, 1, 0, 0, 0, 0, 1, 0, 0, 0,\n",
       "          0])],\n",
       " tensor([-40.4789], dtype=torch.float64))"
      ]
     },
     "execution_count": 11,
     "metadata": {},
     "output_type": "execute_result"
    }
   ],
   "source": [
    "qm9[1]"
   ]
  },
  {
   "cell_type": "code",
   "execution_count": null,
   "metadata": {},
   "outputs": [],
   "source": []
  }
 ],
 "metadata": {
  "kernelspec": {
   "display_name": "Python 3",
   "language": "python",
   "name": "python3"
  },
  "language_info": {
   "codemirror_mode": {
    "name": "ipython",
    "version": 3
   },
   "file_extension": ".py",
   "mimetype": "text/x-python",
   "name": "python",
   "nbconvert_exporter": "python",
   "pygments_lexer": "ipython3",
   "version": "3.7.9"
  }
 },
 "nbformat": 4,
 "nbformat_minor": 4
}
