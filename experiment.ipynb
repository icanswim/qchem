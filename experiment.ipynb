{
 "cells": [
  {
   "cell_type": "code",
   "execution_count": 1,
   "metadata": {},
   "outputs": [],
   "source": [
    "import sys # required for relative imports in jupyter lab\n",
    "sys.path.insert(0, '../') \n",
    "\n",
    "from cosmosis.model import FFNet\n",
    "from cosmosis.learning import Learn, Selector\n",
    "from cosmosis.dataset import SKDS\n",
    "\n",
    "from dataset import QM7, QM7b, QM7X, QM9, ANI1x\n",
    "\n",
    "from torch.optim import Adam\n",
    "from torch.nn import MSELoss, L1Loss\n",
    "from torch.optim.lr_scheduler import ReduceLROnPlateau"
   ]
  },
  {
   "cell_type": "code",
   "execution_count": 2,
   "metadata": {},
   "outputs": [
    {
     "name": "stdout",
     "output_type": "stream",
     "text": [
      "SKDS created...\n",
      "epoch: 0 of 10, train loss: 24133.2615198206, val loss: 3597.987890625, lr: 0.01\n",
      "epoch: 1 of 10, train loss: 2433.286905924479, val loss: 2438.53017578125, lr: 0.01\n",
      "epoch: 2 of 10, train loss: 2223.6352041739005, val loss: 1748.1074462890624, lr: 0.01\n",
      "epoch: 3 of 10, train loss: 1967.7271321614583, val loss: 1768.8135498046875, lr: 0.01\n",
      "epoch: 4 of 10, train loss: 2044.7642279730903, val loss: 1380.5963989257812, lr: 0.01\n",
      "epoch: 5 of 10, train loss: 1805.088595920139, val loss: 1592.340869140625, lr: 0.01\n",
      "epoch: 6 of 10, train loss: 1870.0041255244503, val loss: 1424.72216796875, lr: 0.005\n",
      "epoch: 7 of 10, train loss: 1482.0357711226852, val loss: 1293.935400390625, lr: 0.005\n",
      "epoch: 8 of 10, train loss: 1461.144070095486, val loss: 1567.8467895507813, lr: 0.005\n",
      "epoch: 9 of 10, train loss: 1406.1506370261864, val loss: 1391.895458984375, lr: 0.0025\n",
      "test loss: 1632.0570475260417\n",
      "y_pred:\n",
      "tensor([[-271.8131],\n",
      "        [-378.1300],\n",
      "        [ 119.2050],\n",
      "        [ 158.1913],\n",
      "        [-503.2687],\n",
      "        [-281.1045],\n",
      "        [ 363.1130],\n",
      "        [-180.0381],\n",
      "        [ -95.0826],\n",
      "        [ -38.6991]], device='cuda:0')\n",
      " y:\n",
      "tensor([[-220.2870],\n",
      "        [-345.8878],\n",
      "        [ 155.8568],\n",
      "        [ 207.4411],\n",
      "        [-419.5112],\n",
      "        [-211.4968],\n",
      "        [ 358.3259],\n",
      "        [-191.2346],\n",
      "        [ -59.7583],\n",
      "        [ -11.3397]], device='cuda:0')\n"
     ]
    },
    {
     "data": {
      "image/png": "[encoded data removed]",
      "text/plain": [
       "<Figure size 432x288 with 1 Axes>"
      ]
     },
     "metadata": {
      "needs_background": "light"
     },
     "output_type": "display_data"
    },
    {
     "name": "stdout",
     "output_type": "stream",
     "text": [
      "learning time: 0:00:08.660183\n"
     ]
    }
   ],
   "source": [
    "model_params = {'D_in': 128, \n",
    "                'H': 512, \n",
    "                'D_out': 1, \n",
    "                'model_name': 'funnel'}\n",
    "\n",
    "ds_params = {'ds_params': {'embed': [],\n",
    "                           'make': 'make_regression',\n",
    "                           'transform': None,\n",
    "                           'target_transform': None,\n",
    "                           'sk_params': {'n_samples': 10000,\n",
    "                                         'n_features': 128}}}\n",
    "\n",
    "opt_params = {'lr': 0.01}\n",
    "crit_params = {'reduction': 'sum'}\n",
    "sample_params = {'set_seed': 88,\n",
    "                 'splits': (.7, .15)}\n",
    "sched_params = {'factor': .5,\n",
    "                'patience': 1}\n",
    "\n",
    "l = Learn([SKDS], FFNet, Selector, Optimizer=Adam, Scheduler=ReduceLROnPlateau, Criterion=MSELoss, \n",
    "          model_params=model_params, ds_params=ds_params, sample_params=sample_params,\n",
    "          opt_params=opt_params, sched_params=sched_params, crit_params=crit_params,\n",
    "          adapt=False, load_model=False, load_embed=False, save_model=False,\n",
    "          batch_size=256, epochs=10)"
   ]
  },
  {
   "cell_type": "code",
   "execution_count": 3,
   "metadata": {},
   "outputs": [
    {
     "name": "stdout",
     "output_type": "stream",
     "text": [
      "epoch: 0 of 100, train loss: 1492.8625881559888, val loss: 1241.4362654872239, lr: 0.01\n",
      "epoch: 10 of 100, train loss: 88.42764420641794, val loss: 84.1200310587883, lr: 0.01\n",
      "epoch: 20 of 100, train loss: 97.04899877972073, val loss: 117.58637166023254, lr: 0.01\n",
      "epoch: 30 of 100, train loss: 99.18362651268642, val loss: 75.91251945495605, lr: 0.01\n",
      "epoch: 40 of 100, train loss: 70.22486814525392, val loss: 79.52438819408417, lr: 0.005\n",
      "epoch: 50 of 100, train loss: 71.98637074232101, val loss: 66.91207653284073, lr: 0.005\n",
      "epoch: 60 of 100, train loss: 67.30322753720813, val loss: 58.37045627832413, lr: 0.0025\n",
      "epoch: 70 of 100, train loss: 59.98002996047338, val loss: 56.166075706481934, lr: 0.00125\n",
      "epoch: 80 of 100, train loss: 63.19111321369807, val loss: 54.402707397937775, lr: 0.00125\n",
      "epoch: 90 of 100, train loss: 60.27095016505983, val loss: 58.670918405056, lr: 0.000625\n",
      "test loss: 40.34659977753957\n",
      "y_pred:\n",
      "tensor([[-1517.5533],\n",
      "        [-1341.8313],\n",
      "        [-1837.6841],\n",
      "        [-1571.0092],\n",
      "        [-1610.1156],\n",
      "        [-1636.9651],\n",
      "        [-1757.9441],\n",
      "        [-1587.0251],\n",
      "        [-1583.8677],\n",
      "        [-1618.5465]], device='cuda:0')\n",
      " y:\n",
      "tensor([[-1719.7400],\n",
      "        [-1246.0000],\n",
      "        [-1936.6100],\n",
      "        [-1600.2700],\n",
      "        [-1570.4700],\n",
      "        [-1573.5000],\n",
      "        [-1704.4800],\n",
      "        [-1436.4100],\n",
      "        [-1452.8101],\n",
      "        [-1656.9100]], device='cuda:0', dtype=torch.float64)\n"
     ]
    },
    {
     "data": {
      "image/png": "[encoded data removed]",
      "text/plain": [
       "<Figure size 432x288 with 1 Axes>"
      ]
     },
     "metadata": {
      "needs_background": "light"
     },
     "output_type": "display_data"
    },
    {
     "name": "stdout",
     "output_type": "stream",
     "text": [
      "learning time: 0:01:22.933337\n"
     ]
    }
   ],
   "source": [
    "model_params = {'D_in': 23*23+23*23+23*32, \n",
    "                'H': 4096, \n",
    "                'D_out': 1, \n",
    "                'model_name': 'funnel'}\n",
    "\n",
    "ds_params = {'ds_params': {'features': ['distance','coulomb'],\n",
    "                           'targets': ['ae'],\n",
    "                           'embed': [('atoms',7,32,0,True)],\n",
    "                           'in_file': './data/qm7/qm7.mat'}}\n",
    "\n",
    "crit_params = {'reduction': 'sum'}\n",
    "sample_params = {'set_seed': 88,\n",
    "                 'splits': (.7,.15)}\n",
    "sched_params = {'factor': .5,\n",
    "                'patience': 10,\n",
    "                'cooldown': 5}\n",
    "opt_params = {'lr': 0.01}\n",
    "\n",
    "l = Learn([QM7], FFNet, Selector, Optimizer=Adam, Scheduler=ReduceLROnPlateau, Criterion=L1Loss, \n",
    "          model_params=model_params, ds_params=ds_params, sample_params=sample_params,\n",
    "          opt_params=opt_params, sched_params=sched_params, crit_params=crit_params,\n",
    "          adapt=False, load_model=False, load_embed=False, save_model=False, \n",
    "          batch_size=512, epochs=100)"
   ]
  },
  {
   "cell_type": "code",
   "execution_count": 5,
   "metadata": {},
   "outputs": [
    {
     "name": "stdout",
     "output_type": "stream",
     "text": [
      "epoch: 0 of 160, train loss: 1547.1914257732535, val loss: 1454.1124654388987, lr: 0.01\n",
      "epoch: 16 of 160, train loss: 93.51727927393384, val loss: 83.65769746899605, lr: 0.01\n",
      "epoch: 32 of 160, train loss: 70.95641143454446, val loss: 70.60590639710426, lr: 0.01\n",
      "epoch: 48 of 160, train loss: 63.61879435512755, val loss: 69.17775923013687, lr: 0.01\n",
      "epoch: 64 of 160, train loss: 56.95510249667697, val loss: 74.19552460312843, lr: 0.01\n",
      "epoch: 80 of 160, train loss: 55.69753843545914, val loss: 64.94759568572044, lr: 0.005\n",
      "epoch: 96 of 160, train loss: 48.94215159283744, val loss: 61.836273580789566, lr: 0.0025\n",
      "epoch: 112 of 160, train loss: 48.36857610940933, val loss: 62.79085984826088, lr: 0.0025\n",
      "epoch: 128 of 160, train loss: 45.49288184112973, val loss: 60.88424953818321, lr: 0.00125\n",
      "epoch: 144 of 160, train loss: 45.70575909482108, val loss: 59.46363404393196, lr: 0.000625\n",
      "test loss: 41.685788909594216\n",
      "y_pred:\n",
      "tensor([[-1820.3142],\n",
      "        [-1862.2721],\n",
      "        [-1590.2770],\n",
      "        [-1785.6372],\n",
      "        [-1583.3528],\n",
      "        [-1932.2311],\n",
      "        [-1737.8270],\n",
      "        [-1652.0295],\n",
      "        [-1733.7531],\n",
      "        [-1177.0233]], device='cuda:0')\n",
      " y:\n",
      "tensor([[-1710.9169],\n",
      "        [-1635.9059],\n",
      "        [-1744.2217],\n",
      "        [-1725.9924],\n",
      "        [-1577.1218],\n",
      "        [-1813.5760],\n",
      "        [-1744.9701],\n",
      "        [-1488.3474],\n",
      "        [-1558.7865],\n",
      "        [-1310.4550]], device='cuda:0', dtype=torch.float64)\n"
     ]
    },
    {
     "data": {
      "image/png": "[encoded data removed]",
      "text/plain": [
       "<Figure size 432x288 with 1 Axes>"
      ]
     },
     "metadata": {
      "needs_background": "light"
     },
     "output_type": "display_data"
    },
    {
     "name": "stdout",
     "output_type": "stream",
     "text": [
      "learning time: 0:01:31.445333\n"
     ]
    }
   ],
   "source": [
    "model_params = {'D_in': 23*23, \n",
    "                'H': 2048, \n",
    "                'D_out': 1, \n",
    "                'model_name': 'funnel'}\n",
    "\n",
    "ds_params = {'ds_params': {'features': ['coulomb'],\n",
    "                           'targets': ['E'],\n",
    "                           'in_file': './data/qm7b/qm7b.mat',\n",
    "                           'embed': []}}\n",
    "\n",
    "crit_params = {'reduction': 'sum'}\n",
    "sample_params = {'set_seed': 88,\n",
    "                 'splits': (.7,.15)}\n",
    "sched_params = {'factor': .5,\n",
    "                'patience': 10,\n",
    "                'cooldown': 5}\n",
    "opt_params = {'lr': 0.01}\n",
    "\n",
    "l = Learn([QM7b], FFNet, Selector, Optimizer=Adam, Scheduler=ReduceLROnPlateau, Criterion=L1Loss, \n",
    "          model_params=model_params, ds_params=ds_params, sample_params=sample_params,\n",
    "          opt_params=opt_params, sched_params=sched_params, crit_params=crit_params,\n",
    "          adapt=False, load_model=False, load_embed=False, save_model=False, \n",
    "          batch_size=512, epochs=160)"
   ]
  },
  {
   "cell_type": "code",
   "execution_count": 6,
   "metadata": {},
   "outputs": [
    {
     "name": "stdout",
     "output_type": "stream",
     "text": [
      "mapping...  <HDF5 file \"1000.hdf5\" (mode r)>\n",
      "mapping...  <HDF5 file \"2000.hdf5\" (mode r)>\n",
      "mapping...  <HDF5 file \"3000.hdf5\" (mode r)>\n",
      "mapping...  <HDF5 file \"4000.hdf5\" (mode r)>\n",
      "mapping...  <HDF5 file \"5000.hdf5\" (mode r)>\n",
      "mapping...  <HDF5 file \"6000.hdf5\" (mode r)>\n",
      "mapping...  <HDF5 file \"7000.hdf5\" (mode r)>\n",
      "mapping...  <HDF5 file \"8000.hdf5\" (mode r)>\n",
      "molecular formula (idmol) mapped:  6950\n",
      "total molecular structures (idconf) mapped:  41537\n",
      "epoch: 0 of 160, train loss: 34.66896695708774, val loss: 9.975679198979616, lr: 0.01\n",
      "epoch: 16 of 160, train loss: 2.0288534528890914, val loss: 2.61411444781518, lr: 0.01\n",
      "epoch: 32 of 160, train loss: 2.034846960417496, val loss: 1.6777843070898055, lr: 0.01\n",
      "epoch: 48 of 160, train loss: 1.906424746995273, val loss: 1.8734533288170097, lr: 0.005\n",
      "epoch: 64 of 160, train loss: 1.6735191252713957, val loss: 1.5689551098375318, lr: 0.005\n",
      "epoch: 80 of 160, train loss: 1.6429636936622167, val loss: 1.513232842627764, lr: 0.0025\n",
      "epoch: 96 of 160, train loss: 1.4979881105864177, val loss: 1.6097427562911513, lr: 0.00125\n",
      "epoch: 112 of 160, train loss: 1.33549068191315, val loss: 1.4290185284562114, lr: 0.000625\n",
      "epoch: 128 of 160, train loss: 1.4114592463100586, val loss: 1.3722440953663586, lr: 0.000625\n",
      "epoch: 144 of 160, train loss: 1.3188258494415284, val loss: 1.3170307164365056, lr: 0.0003125\n",
      "test loss: 1.0623926766527176\n",
      "y_pred:\n",
      "tensor([[67.5645],\n",
      "        [91.6164],\n",
      "        [75.5895],\n",
      "        [69.0570],\n",
      "        [76.6467],\n",
      "        [88.0096],\n",
      "        [89.9200],\n",
      "        [66.4942],\n",
      "        [82.2855],\n",
      "        [61.8115]], device='cuda:0')\n",
      " y:\n",
      "tensor([[ 68.2699],\n",
      "        [103.2961],\n",
      "        [ 74.9682],\n",
      "        [ 68.4303],\n",
      "        [ 77.9216],\n",
      "        [ 91.5594],\n",
      "        [ 89.0483],\n",
      "        [ 69.7930],\n",
      "        [ 83.4624],\n",
      "        [ 61.6003]], device='cuda:0', dtype=torch.float64)\n"
     ]
    },
    {
     "data": {
      "image/png": "[encoded data removed]",
      "text/plain": [
       "<Figure size 432x288 with 1 Axes>"
      ]
     },
     "metadata": {
      "needs_background": "light"
     },
     "output_type": "display_data"
    },
    {
     "name": "stdout",
     "output_type": "stream",
     "text": [
      "learning time: 0:05:19.611967\n"
     ]
    }
   ],
   "source": [
    "model_params = {'D_in': 23*23+23*64, \n",
    "                'H': 4096, \n",
    "                'D_out': 1, \n",
    "                'model_name': 'funnel'}\n",
    "\n",
    "ds_params = {'ds_params': {'features': ['distance'],\n",
    "                           'pad': 23,\n",
    "                           'targets': ['eAT'],\n",
    "                           'embed': [('atNUM',9,64,0,True)],\n",
    "                           'selector': ['opt'],\n",
    "                           'use_h5': False}}\n",
    "\n",
    "crit_params = {'reduction': 'sum'}\n",
    "sample_params = {'set_seed': 88,\n",
    "                 'splits': (.7,.15)}\n",
    "sched_params = {'factor': .5,\n",
    "                'patience': 10,\n",
    "                'cooldown': 5}\n",
    "opt_params = {'lr': 0.01}\n",
    "\n",
    "l = Learn([QM7X], FFNet, Selector, Optimizer=Adam, Scheduler=ReduceLROnPlateau, Criterion=L1Loss, \n",
    "          model_params=model_params, ds_params=ds_params, sample_params=sample_params,\n",
    "          opt_params=opt_params, sched_params=sched_params, crit_params=crit_params,\n",
    "          adapt=False, load_model=False, load_embed=False, save_model=False, \n",
    "          batch_size=256, epochs=160)\n",
    "\n",
    "#find the longest molecule\n",
    "#qm7x = QM7X(**ds_params['ds_params'])\n",
    "#l = 0\n",
    "#for i in qm7x.ds_idx:\n",
    "#    s = qm7x[i][0].shape.numel()\n",
    "#    if s > l:\n",
    "#        l = s\n",
    "#print(l)"
   ]
  },
  {
   "cell_type": "code",
   "execution_count": 2,
   "metadata": {},
   "outputs": [
    {
     "name": "stdout",
     "output_type": "stream",
     "text": [
      "loading QM9 datadic from a pickled copy...\n",
      "epoch: 0 of 100, train loss: 43.9585481825329, val loss: 18.661611080169678, lr: 0.01\n",
      "epoch: 10 of 100, train loss: 1.8481530234927224, val loss: 1.9909127950668335, lr: 0.01\n",
      "epoch: 20 of 100, train loss: 1.823080993833996, val loss: 1.8607863783836365, lr: 0.01\n",
      "epoch: 30 of 100, train loss: 1.2803541989553542, val loss: 1.4273262321949005, lr: 0.005\n",
      "epoch: 40 of 100, train loss: 1.0856123878842308, val loss: 1.2166612446308136, lr: 0.0025\n",
      "epoch: 50 of 100, train loss: 1.0513449623471214, val loss: 1.18108931183815, lr: 0.0025\n",
      "epoch: 60 of 100, train loss: 1.010106188910348, val loss: 1.132808655500412, lr: 0.0025\n",
      "epoch: 70 of 100, train loss: 0.8853040280796233, val loss: 1.04524427652359, lr: 0.00125\n",
      "epoch: 80 of 100, train loss: 0.8423069346518743, val loss: 0.9882014691829681, lr: 0.00125\n",
      "epoch: 90 of 100, train loss: 0.7863211433092753, val loss: 0.9598112255334854, lr: 0.000625\n",
      "test loss: 0.8953375101089478\n",
      "y_pred:\n",
      "tensor([[ 0.0677, -0.0974,  0.0682, -0.0879, -0.0073, -0.1857, -0.2703,  0.4422,\n",
      "         -0.4483,  0.1524,  0.1396,  0.1959],\n",
      "        [-0.3949, -0.1267,  0.2246, -0.2236,  0.3140, -0.3072,  0.2258, -0.3184,\n",
      "          0.2123,  0.2123,  0.1713, -0.0402],\n",
      "        [-0.5589,  0.4529, -0.3251,  0.0747, -0.1206, -0.2762,  0.1813, -0.3287,\n",
      "          0.2457,  0.2389,  0.1591,  0.2332],\n",
      "        [-0.1775,  0.4301, -0.1910, -0.1327,  0.3565, -0.3133,  0.0266, -0.1857,\n",
      "         -0.0752,  0.1302,  0.0754,  0.0312],\n",
      "        [-0.3369, -0.1993, -0.0878, -0.0320, -0.1001, -0.2581,  0.3715,  0.1416,\n",
      "          0.0731,  0.1312,  0.1181,  0.1014],\n",
      "        [-0.3300,  0.3820, -0.3859,  0.3461, -0.2729, -0.1835, -0.0074, -0.1891,\n",
      "          0.1962,  0.1456,  0.1140,  0.1392],\n",
      "        [-0.0981,  0.4316, -0.4115,  0.3929, -0.3121, -0.2398,  0.0298, -0.1092,\n",
      "          0.0573,  0.1682,  0.0624,  0.0311],\n",
      "        [-0.0923,  0.1074, -0.0223, -0.0658,  0.1206, -0.2870,  0.0241,  0.1018,\n",
      "          0.0542,  0.0239, -0.0433,  0.0366],\n",
      "        [-0.5552,  0.4736, -0.2993, -0.1966,  0.2677, -0.3347, -0.3614,  0.3038,\n",
      "          0.2011,  0.1542,  0.2400,  0.1372],\n",
      "        [-0.1992,  0.1904, -0.0201, -0.1768,  0.5262, -0.3860, -0.2586,  0.1337,\n",
      "         -0.1218,  0.1508,  0.2063, -0.0344]], device='cuda:0')\n",
      " y:\n",
      "tensor([[ 0.0455, -0.2455,  0.0558, -0.0539, -0.1660,  0.0757, -0.3051,  0.5210,\n",
      "         -0.3572,  0.1421,  0.1501,  0.1374],\n",
      "        [-0.2537, -0.2278,  0.3991, -0.3246,  0.1852, -0.2193,  0.2698, -0.3007,\n",
      "          0.1580,  0.1580,  0.1559,  0.0000],\n",
      "        [-0.4932,  0.3913, -0.3319,  0.1437, -0.0964, -0.1591,  0.2172, -0.3298,\n",
      "          0.1564,  0.1691,  0.1565,  0.1763],\n",
      "        [-0.0144,  0.2274, -0.0778, -0.2483,  0.5034, -0.2930, -0.3600,  0.2700,\n",
      "         -0.0073,  0.0000,  0.0000,  0.0000],\n",
      "        [-0.2801, -0.0892, -0.0892,  0.0238, -0.2385,  0.0238,  0.1117,  0.1377,\n",
      "          0.0936,  0.0936,  0.1064,  0.1064],\n",
      "        [-0.4062,  0.3455, -0.3722,  0.4300, -0.1917, -0.1418, -0.0635, -0.2931,\n",
      "          0.1408,  0.1184,  0.1438,  0.2901],\n",
      "        [-0.0267,  0.4412, -0.4102,  0.3313, -0.5057,  0.0573, -0.0640, -0.2384,\n",
      "          0.2389,  0.1763,  0.0000,  0.0000],\n",
      "        [-0.0675,  0.2696, -0.0676, -0.0676,  0.1343, -0.4231,  0.2220,  0.0000,\n",
      "          0.0000,  0.0000,  0.0000,  0.0000],\n",
      "        [-0.5680,  0.4654, -0.3340, -0.4126,  0.4654, -0.5680, -0.3340,  0.2666,\n",
      "          0.2513,  0.2501,  0.2513,  0.2666],\n",
      "        [-0.3892,  0.3181,  0.0093, -0.0426,  0.3583, -0.3237, -0.2003,  0.1453,\n",
      "         -0.3538,  0.3149,  0.1637,  0.0000]], device='cuda:0')\n"
     ]
    },
    {
     "data": {
      "image/png": "[encoded data removed]",
      "text/plain": [
       "<Figure size 432x288 with 1 Axes>"
      ]
     },
     "metadata": {
      "needs_background": "light"
     },
     "output_type": "display_data"
    },
    {
     "name": "stdout",
     "output_type": "stream",
     "text": [
      "learning time: 0:01:27.667036\n"
     ]
    }
   ],
   "source": [
    "model_params = {'D_in': 12*12+12*12+12*12*16, \n",
    "                'H': 4096, \n",
    "                'D_out': 12, \n",
    "                'model_name': 'funnel'}\n",
    "\n",
    "ds_params = {'ds_params': {'n': 133885, \n",
    "                           'features': ['distance','coulomb'],\n",
    "                           'embed': [('adjacency',4,16,0,True)], \n",
    "                           'targets': ['mulliken'],\n",
    "                           'pad': 12, \n",
    "                           'filter_on': ('n_atoms','<','13'),\n",
    "                           'use_pickle': 'n_atoms_less_than_13.p'}}\n",
    "\n",
    "crit_params = {'reduction': 'sum'}\n",
    "sample_params = {'set_seed': 88,\n",
    "                 'splits': (.7,.15)}\n",
    "sched_params = {'factor': .5,\n",
    "                'patience': 5,\n",
    "                'cooldown': 5}\n",
    "opt_params = {'lr': 0.01}\n",
    "\n",
    "l = Learn([QM9], FFNet, Selector, Optimizer=Adam, Scheduler=ReduceLROnPlateau, Criterion=L1Loss, \n",
    "          model_params=model_params, ds_params=ds_params, sample_params=sample_params,\n",
    "          opt_params=opt_params, sched_params=sched_params, crit_params=crit_params,\n",
    "          adapt=False, load_model=False, load_embed=False, save_model=False, \n",
    "          batch_size=128, epochs=100)"
   ]
  },
  {
   "cell_type": "code",
   "execution_count": 2,
   "metadata": {},
   "outputs": [
    {
     "name": "stdout",
     "output_type": "stream",
     "text": [
      "creating QM9 dataset...\n",
      "QM9 molecules scanned:  1\n",
      "QM9 molecules created:  1\n",
      "QM9 molecules scanned:  10001\n",
      "QM9 molecules created:  10001\n",
      "QM9 molecules scanned:  20001\n",
      "QM9 molecules created:  20001\n",
      "QM9 molecules scanned:  30001\n",
      "QM9 molecules created:  30001\n",
      "QM9 molecules scanned:  40001\n",
      "QM9 molecules created:  40001\n",
      "QM9 molecules scanned:  50001\n",
      "QM9 molecules created:  50001\n",
      "QM9 molecules scanned:  60001\n",
      "QM9 molecules created:  60001\n",
      "QM9 molecules scanned:  70001\n",
      "QM9 molecules created:  70001\n",
      "QM9 molecules scanned:  80001\n",
      "QM9 molecules created:  80001\n",
      "QM9 molecules scanned:  90001\n",
      "QM9 molecules created:  90001\n",
      "QM9 molecules scanned:  100001\n",
      "QM9 molecules created:  100001\n",
      "QM9 molecules scanned:  110001\n",
      "QM9 molecules created:  110001\n",
      "QM9 molecules scanned:  120001\n",
      "QM9 molecules created:  120001\n",
      "QM9 molecules scanned:  130001\n",
      "QM9 molecules created:  130001\n",
      "total QM9 molecules created: 130831\n",
      "pickling a copy of the QM9 datadic...\n",
      "epoch: 0 of 20, train loss: 18.489026544905027, val loss: 13.88155803381556, lr: 0.01\n",
      "epoch: 2 of 20, train loss: 9.953207107365191, val loss: 12.135887197620129, lr: 0.01\n",
      "epoch: 4 of 20, train loss: 8.942743631098423, val loss: 8.45325729047791, lr: 0.01\n",
      "epoch: 6 of 20, train loss: 8.761965515048638, val loss: 9.927853574307626, lr: 0.005\n",
      "epoch: 8 of 20, train loss: 6.910411650128692, val loss: 6.5724003380165295, lr: 0.005\n",
      "epoch: 10 of 20, train loss: 6.634182816733538, val loss: 5.859549426307017, lr: 0.005\n",
      "epoch: 12 of 20, train loss: 6.6348591990151276, val loss: 6.459189750949232, lr: 0.005\n",
      "epoch: 14 of 20, train loss: 5.746450429839125, val loss: 5.297456042108878, lr: 0.0025\n",
      "epoch: 16 of 20, train loss: 5.692122318015014, val loss: 5.474784803427719, lr: 0.0025\n",
      "epoch: 18 of 20, train loss: 5.5336802505391525, val loss: 5.4386572034300755, lr: 0.00125\n",
      "test loss: 4.969718829083148\n",
      "y_pred:\n",
      "tensor([[-418.4550],\n",
      "        [-472.0719],\n",
      "        [-306.3464],\n",
      "        [-451.9558],\n",
      "        [-424.2264],\n",
      "        [-438.2817],\n",
      "        [-384.2089],\n",
      "        [-448.4341],\n",
      "        [-436.0646],\n",
      "        [-379.3035]], device='cuda:0')\n",
      " y:\n",
      "tensor([[-424.2129],\n",
      "        [-458.9871],\n",
      "        [-343.2406],\n",
      "        [-439.1197],\n",
      "        [-415.6500],\n",
      "        [-440.3041],\n",
      "        [-384.6672],\n",
      "        [-452.8109],\n",
      "        [-434.0170],\n",
      "        [-384.6180]], device='cuda:0', dtype=torch.float64)\n"
     ]
    },
    {
     "data": {
      "image/png": "[encoded data removed]",
      "text/plain": [
       "<Figure size 432x288 with 1 Axes>"
      ]
     },
     "metadata": {
      "needs_background": "light"
     },
     "output_type": "display_data"
    },
    {
     "name": "stdout",
     "output_type": "stream",
     "text": [
      "learning time: 0:56:51.050029\n"
     ]
    }
   ],
   "source": [
    "model_params = {'D_in': 29*29+29*29+29*29*8, \n",
    "                'H': 8192, \n",
    "                'D_out': 1, \n",
    "                'model_name': 'funnel'}\n",
    "\n",
    "ds_params = {'ds_params': {'n': 133885, \n",
    "                           'features': ['distance','coulomb'],\n",
    "                           'embed': [('adjacency',4,8,0,True)],\n",
    "                           'targets': ['U0'],\n",
    "                           'pad': 29, \n",
    "                           'filter_on': False,\n",
    "                           'use_pickle': 'qm9.p'}}\n",
    "\n",
    "crit_params = {'reduction': 'sum'}\n",
    "sample_params = {'set_seed': 88,\n",
    "                 'splits': (.7,.15)}\n",
    "sched_params = {'factor': .5,\n",
    "                'patience': 2,\n",
    "                'cooldown': 2}\n",
    "opt_params = {'lr': 0.01}\n",
    "\n",
    "l = Learn([QM9], FFNet, Selector, Optimizer=Adam, Scheduler=ReduceLROnPlateau, Criterion=L1Loss, \n",
    "          model_params=model_params, ds_params=ds_params, sample_params=sample_params,\n",
    "          opt_params=opt_params, sched_params=sched_params, crit_params=crit_params,\n",
    "          adapt=False, load_model=False, load_embed=False, save_model=False, \n",
    "          batch_size=32, epochs=20)"
   ]
  },
  {
   "cell_type": "code",
   "execution_count": 3,
   "metadata": {},
   "outputs": [
    {
     "name": "stdout",
     "output_type": "stream",
     "text": [
      "structures loaded:  9342\n",
      "epoch: 0 of 100, train loss: 323.4803761427234, val loss: 100.96379940446484, lr: 0.01\n",
      "epoch: 10 of 100, train loss: 50.881917373528516, val loss: 43.46708709381892, lr: 0.01\n",
      "epoch: 20 of 100, train loss: 36.771467066459515, val loss: 43.38448394527188, lr: 0.01\n",
      "epoch: 30 of 100, train loss: 32.17626055596169, val loss: 29.126070602865823, lr: 0.01\n",
      "epoch: 40 of 100, train loss: 25.7497624593712, val loss: 27.819199434193113, lr: 0.005\n",
      "epoch: 50 of 100, train loss: 25.817560992561646, val loss: 27.895756386079693, lr: 0.005\n",
      "epoch: 60 of 100, train loss: 24.99262253896126, val loss: 27.164169523244524, lr: 0.0025\n",
      "epoch: 70 of 100, train loss: 22.54649879249085, val loss: 20.15377044254943, lr: 0.0025\n",
      "epoch: 80 of 100, train loss: 24.234342063452544, val loss: 21.590327496387204, lr: 0.0025\n",
      "epoch: 90 of 100, train loss: 21.046347970606277, val loss: 21.56666729553237, lr: 0.00125\n",
      "test loss: 20.201593201326006\n",
      "y_pred:\n",
      "tensor([[-616.9171],\n",
      "        [-327.6231],\n",
      "        [-664.6672],\n",
      "        [-334.7081],\n",
      "        [-618.2195],\n",
      "        [-933.8441],\n",
      "        [-729.2019],\n",
      "        [-786.3300],\n",
      "        [-557.2261],\n",
      "        [-423.4353]], device='cuda:0')\n",
      " y:\n",
      "tensor([[-585.1058],\n",
      "        [-345.4759],\n",
      "        [-673.0439],\n",
      "        [-350.3168],\n",
      "        [-598.5689],\n",
      "        [-967.4259],\n",
      "        [-714.9368],\n",
      "        [-780.8422],\n",
      "        [-574.4445],\n",
      "        [-447.6728]], device='cuda:0', dtype=torch.float64)\n"
     ]
    },
    {
     "data": {
      "image/png": "[encoded data removed]",
      "text/plain": [
       "<Figure size 432x288 with 1 Axes>"
      ]
     },
     "metadata": {
      "needs_background": "light"
     },
     "output_type": "display_data"
    },
    {
     "name": "stdout",
     "output_type": "stream",
     "text": [
      "learning time: 0:03:05.984841\n"
     ]
    }
   ],
   "source": [
    "model_params = {'D_in': 64*63+63*63, \n",
    "                'H': 8192, \n",
    "                'D_out': 1, \n",
    "                'model_name': 'funnel'}\n",
    "\n",
    "ds_params = {'ds_params': {'features': ['distance'],\n",
    "                           'targets': ['wb97x_dz.energy'],\n",
    "                           'embed': [('atomic_numbers',6,64,0,True)],\n",
    "                           'pad': 63, #length of the longest molecule in the dataset\n",
    "                           'criterion': 'wb97x_dz.energy',\n",
    "                           'conformation': 'min',\n",
    "                           'in_file': './data/ani1x/ani1x-release.h5'}}\n",
    "\n",
    "crit_params = {'reduction': 'sum'}\n",
    "sample_params = {'set_seed': 88,\n",
    "                 'splits': (.7,.15)}\n",
    "sched_params = {'factor': .5,\n",
    "                'patience': 10,\n",
    "                'cooldown': 10}\n",
    "opt_params = {'lr': 0.01}\n",
    "\n",
    "l = Learn([ANI1x], FFNet, Selector, Optimizer=Adam, Scheduler=ReduceLROnPlateau, Criterion=L1Loss, \n",
    "          model_params=model_params, ds_params=ds_params, sample_params=sample_params,\n",
    "          opt_params=opt_params, sched_params=sched_params, crit_params=crit_params,\n",
    "          adapt=False, load_model=False, load_embed=False, save_model=False, \n",
    "          batch_size=128, epochs=100)"
   ]
  },
  {
   "cell_type": "code",
   "execution_count": null,
   "metadata": {},
   "outputs": [],
   "source": []
  }
 ],
 "metadata": {
  "kernelspec": {
   "display_name": "Python 3",
   "language": "python",
   "name": "python3"
  },
  "language_info": {
   "codemirror_mode": {
    "name": "ipython",
    "version": 3
   },
   "file_extension": ".py",
   "mimetype": "text/x-python",
   "name": "python",
   "nbconvert_exporter": "python",
   "pygments_lexer": "ipython3",
   "version": "3.7.9"
  }
 },
 "nbformat": 4,
 "nbformat_minor": 4
}
