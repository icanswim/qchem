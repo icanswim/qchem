{
 "cells": [
  {
   "cell_type": "code",
   "execution_count": 1,
   "metadata": {},
   "outputs": [],
   "source": [
    "import sys # required for relative imports in jupyter lab\n",
    "sys.path.insert(0, '../') \n",
    "\n",
    "from cosmosis.model import FFNet\n",
    "from dataset import Dummy, QM7, QM7b, QM7X, QM9, ANI1x\n",
    "from learning import Learn, Selector\n",
    "\n",
    "from torch.optim import Adam\n",
    "from torch.nn import MSELoss, L1Loss"
   ]
  },
  {
   "cell_type": "code",
   "execution_count": 2,
   "metadata": {},
   "outputs": [
    {
     "name": "stdout",
     "output_type": "stream",
     "text": [
      "<class 'cosmosis.dataset.Dummy'> dataset created...\n",
      "epoch: 0 of 10, train loss: 37477.24722782258, val loss: 33559.184895833336\n",
      "epoch: 1 of 10, train loss: 26520.061302923386, val loss: 20796.939453125\n",
      "epoch: 2 of 10, train loss: 12528.089229460686, val loss: 7237.71337890625\n",
      "epoch: 3 of 10, train loss: 3118.3931392546624, val loss: 1433.1943766276042\n",
      "epoch: 4 of 10, train loss: 1396.1393609816027, val loss: 1097.3915201822917\n",
      "epoch: 5 of 10, train loss: 1102.2616813413558, val loss: 1039.0419108072917\n",
      "epoch: 6 of 10, train loss: 1019.0117620652721, val loss: 1089.3750406901042\n",
      "epoch: 7 of 10, train loss: 897.6834657730594, val loss: 912.7864786783854\n",
      "epoch: 8 of 10, train loss: 1103.1693351499496, val loss: 945.8519490559896\n",
      "epoch: 9 of 10, train loss: 1034.7789877614666, val loss: 1104.0431722005208\n",
      "test loss: 959.8700764973959\n",
      "y_pred:\n",
      "tensor([[ -87.6827],\n",
      "        [  90.6654],\n",
      "        [-171.0275],\n",
      "        [-235.7937],\n",
      "        [  19.6428],\n",
      "        [-244.2571],\n",
      "        [ -69.5783],\n",
      "        [-227.0443],\n",
      "        [ 224.9111],\n",
      "        [ 195.4879]], device='cuda:0')\n",
      " y:\n",
      "tensor([[-112.3980],\n",
      "        [  96.4495],\n",
      "        [-198.9509],\n",
      "        [-217.8873],\n",
      "        [  41.7957],\n",
      "        [-260.7527],\n",
      "        [ -80.4649],\n",
      "        [-245.1335],\n",
      "        [ 209.3270],\n",
      "        [ 189.6415]], device='cuda:0')\n"
     ]
    },
    {
     "data": {
      "image/png": "[encoded data removed]",
      "text/plain": [
       "<Figure size 432x288 with 1 Axes>"
      ]
     },
     "metadata": {
      "needs_background": "light"
     },
     "output_type": "display_data"
    },
    {
     "name": "stdout",
     "output_type": "stream",
     "text": [
      "learning time: 0:00:09.910516\n"
     ]
    },
    {
     "data": {
      "text/plain": [
       "<cosmosis.learning.Learn at 0x7fbcf965dc90>"
      ]
     },
     "execution_count": 2,
     "metadata": {},
     "output_type": "execute_result"
    }
   ],
   "source": [
    "opt_params = {'lr': 0.001}\n",
    "model_params = {'D_in': 128, \n",
    "                'H': 512, \n",
    "                'D_out': 1, \n",
    "                'model_name': 'funnel'}\n",
    "ds_params = {'make': 'make_regression',\n",
    "             'make_params': {'n_samples': 10000,\n",
    "                             'n_features': 128}}\n",
    "crit_params = {'reduction': 'sum'}\n",
    "sample_params = {'set_seed': 88}\n",
    "\n",
    "Learn(Dummy, FFNet, Selector, Optimizer=Adam, Criterion=MSELoss, \n",
    "      model_params=model_params, ds_params=ds_params, opt_params=opt_params,\n",
    "      crit_params=crit_params, sample_params=sample_params,\n",
    "      save_model=False, load_model=False, load_embed=False, adapt=False,\n",
    "      batch_size=256, epochs=10)"
   ]
  },
  {
   "cell_type": "code",
   "execution_count": 3,
   "metadata": {},
   "outputs": [
    {
     "name": "stdout",
     "output_type": "stream",
     "text": [
      "<class 'dataset.QM7'> dataset created...\n",
      "epoch: 0 of 10, train loss: 1515.454872824929, val loss: 1449.95166015625\n",
      "epoch: 1 of 10, train loss: 1298.2399236505682, val loss: 1061.2120361328125\n",
      "epoch: 2 of 10, train loss: 671.3643604625355, val loss: 263.19627380371094\n",
      "epoch: 3 of 10, train loss: 156.41041946411133, val loss: 94.77534484863281\n",
      "epoch: 4 of 10, train loss: 117.71747381036931, val loss: 165.41362762451172\n",
      "epoch: 5 of 10, train loss: 114.24415709755637, val loss: 67.00119400024414\n",
      "epoch: 6 of 10, train loss: 129.7281469865279, val loss: 100.83013153076172\n",
      "epoch: 7 of 10, train loss: 119.81043694236062, val loss: 143.8548240661621\n",
      "epoch: 8 of 10, train loss: 111.61209730668502, val loss: 66.59994316101074\n",
      "epoch: 9 of 10, train loss: 115.83770960027522, val loss: 123.42340278625488\n",
      "test loss: 85.38663864135742\n",
      "y_pred:\n",
      "tensor([[-1563.6892],\n",
      "        [-1177.5264],\n",
      "        [-1152.4476],\n",
      "        [-1718.5195],\n",
      "        [-1382.7852],\n",
      "        [-1478.1838],\n",
      "        [-1435.1222],\n",
      "        [-1363.7649],\n",
      "        [-1227.3536],\n",
      "        [-1628.0710]], device='cuda:0')\n",
      " y:\n",
      "tensor([[-1605.4000],\n",
      "        [-1360.8400],\n",
      "        [-1208.2100],\n",
      "        [-1655.9100],\n",
      "        [-1580.7600],\n",
      "        [-1554.6000],\n",
      "        [-1580.3400],\n",
      "        [-1645.0000],\n",
      "        [-1481.9500],\n",
      "        [-1611.5000]], device='cuda:0')\n"
     ]
    },
    {
     "data": {
      "image/png": "[encoded data removed]",
      "text/plain": [
       "<Figure size 432x288 with 1 Axes>"
      ]
     },
     "metadata": {
      "needs_background": "light"
     },
     "output_type": "display_data"
    },
    {
     "name": "stdout",
     "output_type": "stream",
     "text": [
      "learning time: 0:00:08.649439\n"
     ]
    },
    {
     "data": {
      "text/plain": [
       "<cosmosis.learning.Learn at 0x7fbcf8a69f10>"
      ]
     },
     "execution_count": 3,
     "metadata": {},
     "output_type": "execute_result"
    }
   ],
   "source": [
    "opt_params = {'lr': 0.001}\n",
    "model_params = {'D_in': 23*23, \n",
    "                'H': 4096, \n",
    "                'D_out': 1, \n",
    "                'model_name': 'funnel'}\n",
    "ds_params = {}\n",
    "crit_params = {'reduction': 'sum'}\n",
    "\n",
    "Learn(Dataset=QM7, Model=FFNet, Sampler=Selector, Optimizer=Adam, Criterion=L1Loss, \n",
    "      batch_size=256, epochs=10, opt_params=opt_params, model_params=model_params, \n",
    "      ds_params=ds_params, crit_params=crit_params, save_model=False, load_model=False)"
   ]
  },
  {
   "cell_type": "code",
   "execution_count": 4,
   "metadata": {},
   "outputs": [
    {
     "name": "stdout",
     "output_type": "stream",
     "text": [
      "<class 'dataset.QM7b'> dataset created...\n",
      "epoch: 0 of 10, train loss: 1539.828524502841, val loss: 1479.225830078125\n",
      "epoch: 1 of 10, train loss: 1322.254932750355, val loss: 1075.7664184570312\n",
      "epoch: 2 of 10, train loss: 746.4495946710759, val loss: 418.66180419921875\n",
      "epoch: 3 of 10, train loss: 260.2268243269487, val loss: 131.12063217163086\n",
      "epoch: 4 of 10, train loss: 160.68628345836294, val loss: 137.72735595703125\n",
      "epoch: 5 of 10, train loss: 140.93658169833097, val loss: 174.75241088867188\n",
      "epoch: 6 of 10, train loss: 126.19768142700195, val loss: 98.94725036621094\n",
      "epoch: 7 of 10, train loss: 126.41241593794389, val loss: 100.323486328125\n",
      "epoch: 8 of 10, train loss: 129.40108524669301, val loss: 128.36740493774414\n",
      "epoch: 9 of 10, train loss: 129.00624396584251, val loss: 109.02283096313477\n",
      "test loss: 116.93284606933594\n",
      "y_pred:\n",
      "tensor([[-1657.2733],\n",
      "        [-1786.0520],\n",
      "        [-1447.5947],\n",
      "        [-1385.1519],\n",
      "        [-1363.5264],\n",
      "        [-1771.2875],\n",
      "        [-1796.7186],\n",
      "        [-1540.9021],\n",
      "        [-1722.6565],\n",
      "        [-1819.1157]], device='cuda:0')\n",
      " y:\n",
      "tensor([[-1680.9171],\n",
      "        [-1941.3916],\n",
      "        [-1482.6526],\n",
      "        [-1405.7250],\n",
      "        [-1370.5632],\n",
      "        [-1782.2224],\n",
      "        [-1798.3235],\n",
      "        [-1351.2614],\n",
      "        [-1646.0007],\n",
      "        [-1546.6571]], device='cuda:0')\n"
     ]
    },
    {
     "data": {
      "image/png": "[encoded data removed]",
      "text/plain": [
       "<Figure size 432x288 with 1 Axes>"
      ]
     },
     "metadata": {
      "needs_background": "light"
     },
     "output_type": "display_data"
    },
    {
     "name": "stdout",
     "output_type": "stream",
     "text": [
      "learning time: 0:00:13.560684\n"
     ]
    },
    {
     "data": {
      "text/plain": [
       "<cosmosis.learning.Learn at 0x7fbcf9a1c910>"
      ]
     },
     "execution_count": 4,
     "metadata": {},
     "output_type": "execute_result"
    }
   ],
   "source": [
    "opt_params = {'lr': 0.001}\n",
    "model_params = {'D_in': 23*23+13, \n",
    "                'H': 4096, \n",
    "                'D_out': 1, \n",
    "                'model_name': 'funnel'}\n",
    "ds_params = {'target': 'E', \n",
    "             'features': ['alpha_p','alpha_s','HOMO_g','HOMO_p','HOMO_z','LUMO_g',\n",
    "                          'LUMO_p','LUMO_z','IP','EA','E1','Emax','Imax']}\n",
    "crit_params = {'reduction': 'sum'}\n",
    "\n",
    "Learn(Dataset=QM7b, Model=FFNet, Sampler=Selector, Optimizer=Adam, Criterion=L1Loss, \n",
    "      batch_size=256, epochs=10, opt_params=opt_params, model_params=model_params, \n",
    "      ds_params=ds_params, crit_params=crit_params, save_model=False, load_model=False)"
   ]
  },
  {
   "cell_type": "code",
   "execution_count": 5,
   "metadata": {},
   "outputs": [
    {
     "name": "stdout",
     "output_type": "stream",
     "text": [
      "creating QM9 dataset...\n",
      "QM9 molecules scanned:  1\n",
      "QM9 molecules created:  1\n",
      "QM9 molecules scanned:  10001\n",
      "QM9 molecules created:  450\n",
      "QM9 molecules scanned:  20001\n",
      "QM9 molecules created:  456\n",
      "QM9 molecules scanned:  30001\n",
      "QM9 molecules created:  678\n",
      "QM9 molecules scanned:  40001\n",
      "QM9 molecules created:  681\n",
      "QM9 molecules scanned:  50001\n",
      "QM9 molecules created:  683\n",
      "QM9 molecules scanned:  60001\n",
      "QM9 molecules created:  683\n",
      "QM9 molecules scanned:  70001\n",
      "QM9 molecules created:  683\n",
      "QM9 molecules scanned:  80001\n",
      "QM9 molecules created:  683\n",
      "QM9 molecules scanned:  90001\n",
      "QM9 molecules created:  683\n",
      "QM9 molecules scanned:  100001\n",
      "QM9 molecules created:  683\n",
      "QM9 molecules scanned:  110001\n",
      "QM9 molecules created:  683\n",
      "QM9 molecules scanned:  120001\n",
      "QM9 molecules created:  683\n",
      "QM9 molecules scanned:  130001\n",
      "QM9 molecules created:  709\n",
      "total QM9 molecules created: 763\n",
      "<class 'dataset.QM9'> dataset created...\n",
      "epoch: 0 of 10, train loss: 219.65238955113796, val loss: 94.10915284998276\n",
      "epoch: 1 of 10, train loss: 90.9555779741956, val loss: 84.14443767772002\n",
      "epoch: 2 of 10, train loss: 78.57203798170214, val loss: 64.99423397288604\n",
      "epoch: 3 of 10, train loss: 66.58191757697564, val loss: 69.89418635648839\n",
      "epoch: 4 of 10, train loss: 62.62374902700449, val loss: 54.80367772719439\n",
      "epoch: 5 of 10, train loss: 63.427808538659825, val loss: 71.10844713098862\n",
      "epoch: 6 of 10, train loss: 65.84896778750729, val loss: 62.95260822071749\n",
      "epoch: 7 of 10, train loss: 65.72160520182027, val loss: 59.17885971069336\n",
      "epoch: 8 of 10, train loss: 64.5570593499518, val loss: 68.70886050953584\n",
      "epoch: 9 of 10, train loss: 60.789245952259414, val loss: 60.74897362204159\n",
      "test loss: 55.831634521484375\n",
      "y_pred:\n",
      "tensor([[-473.0782],\n",
      "        [-551.0681],\n",
      "        [-332.1968],\n",
      "        [-247.4572]], device='cuda:0')\n",
      " y:\n",
      "tensor([[-370.2920],\n",
      "        [-466.6237],\n",
      "        [-409.6181],\n",
      "        [-209.1449]], device='cuda:0')\n"
     ]
    },
    {
     "data": {
      "image/png": "[encoded data removed]",
      "text/plain": [
       "<Figure size 432x288 with 1 Axes>"
      ]
     },
     "metadata": {
      "needs_background": "light"
     },
     "output_type": "display_data"
    },
    {
     "name": "stdout",
     "output_type": "stream",
     "text": [
      "learning time: 0:03:14.176457\n"
     ]
    },
    {
     "data": {
      "text/plain": [
       "<cosmosis.learning.Learn at 0x7fbcf0328f10>"
      ]
     },
     "execution_count": 5,
     "metadata": {},
     "output_type": "execute_result"
    }
   ],
   "source": [
    "opt_params = {'lr': 0.001}\n",
    "model_params = {'D_in': 10*10, \n",
    "                'H': 2048, \n",
    "                'D_out': 1, \n",
    "                'model_name': 'funnel'}\n",
    "ds_params = {'n': 133885, \n",
    "             'features': ['coulomb'], \n",
    "             'target': 'U0',\n",
    "             'pad': 10, \n",
    "             'filter_on': ('n_atoms','>','10'),\n",
    "             'use_pickle': False}\n",
    "crit_params = {'reduction': 'sum'}\n",
    "\n",
    "Learn(Dataset=QM9, Model=FFNet, Sampler=Selector, Optimizer=Adam, Criterion=L1Loss,\n",
    "      batch_size=16, epochs=10, model_params=model_params, ds_params=ds_params, \n",
    "      opt_params=opt_params, crit_params=crit_params, save_model=False, load_model=False)"
   ]
  },
  {
   "cell_type": "code",
   "execution_count": 6,
   "metadata": {},
   "outputs": [
    {
     "name": "stdout",
     "output_type": "stream",
     "text": [
      "<class 'dataset.ANI1x'> dataset created...\n",
      "epoch: 0 of 1000, train loss: 516.7805939062583, val loss: 343.5856228017362\n",
      "epoch: 100 of 1000, train loss: 29.706238348515793, val loss: 30.88493018436566\n",
      "epoch: 200 of 1000, train loss: 23.915216468744447, val loss: 29.752017636526894\n",
      "epoch: 300 of 1000, train loss: 23.384289024679664, val loss: 21.840073396854304\n",
      "epoch: 400 of 1000, train loss: 19.572522541675315, val loss: 19.30557204550115\n",
      "epoch: 500 of 1000, train loss: 18.365822256897776, val loss: 21.499985500442946\n",
      "epoch: 600 of 1000, train loss: 18.14616890577875, val loss: 16.317093208635427\n",
      "epoch: 700 of 1000, train loss: 16.715109449849475, val loss: 15.71900703647921\n",
      "epoch: 800 of 1000, train loss: 15.859163887840602, val loss: 11.968703770689377\n",
      "epoch: 900 of 1000, train loss: 15.499093881244002, val loss: 21.309961970517282\n",
      "test loss: 12.146311803031159\n",
      "y_pred:\n",
      "tensor([[ -634.4287],\n",
      "        [ -410.6037],\n",
      "        [ -627.4285],\n",
      "        [ -510.1279],\n",
      "        [ -648.1012],\n",
      "        [ -379.7313],\n",
      "        [ -779.8676],\n",
      "        [ -442.0963],\n",
      "        [ -481.8986],\n",
      "        [-1121.1333]], device='cuda:0')\n",
      " y:\n",
      "tensor([[ -654.6480],\n",
      "        [ -416.1674],\n",
      "        [ -653.4579],\n",
      "        [ -492.9457],\n",
      "        [ -644.3813],\n",
      "        [ -380.9538],\n",
      "        [ -800.9639],\n",
      "        [ -445.8101],\n",
      "        [ -485.6731],\n",
      "        [-1122.5505]], device='cuda:0', dtype=torch.float64)\n"
     ]
    },
    {
     "data": {
      "image/png": "[encoded data removed]",
      "text/plain": [
       "<Figure size 432x288 with 1 Axes>"
      ]
     },
     "metadata": {
      "needs_background": "light"
     },
     "output_type": "display_data"
    },
    {
     "name": "stdout",
     "output_type": "stream",
     "text": [
      "learning time: 0:26:28.499145\n"
     ]
    }
   ],
   "source": [
    "opt_params = {'lr': 0.001}\n",
    "model_params = {'D_in': 64*63+63+63+63, \n",
    "                'H': 8192, \n",
    "                'D_out': 1, \n",
    "                'model_name': 'funnel'}\n",
    "ds_params = {'features': ['atomic_numbers','coordinates'],\n",
    "             'targets': ['wb97x_dz.energy'],\n",
    "             'embed': [(9,64,True)],\n",
    "             'pad': 63, #length of the longest molecule in the dataset\n",
    "             'criterion': None,\n",
    "             'conformation': 'random',\n",
    "             'in_file': './data/ani1/ani1x-release.h5'}\n",
    "crit_params = {'reduction': 'sum'}\n",
    "sample_params = {'set_seed': 88} #deterministic train/test set selection\n",
    "\n",
    "learn = Learn(Dataset=ANI1x, Model=FFNet, Sampler=Selector, Optimizer=Adam, \n",
    "              Criterion=L1Loss, batch_size=128, epochs=1000, opt_params=opt_params, \n",
    "              model_params=model_params, ds_params=ds_params, crit_params=crit_params, \n",
    "              sample_params=sample_params, save_model=True, load_model=False,\n",
    "              load_embed=False)"
   ]
  },
  {
   "cell_type": "code",
   "execution_count": 7,
   "metadata": {},
   "outputs": [
    {
     "name": "stdout",
     "output_type": "stream",
     "text": [
      "mapping...  <HDF5 file \"1000.hdf5\" (mode r)>\n",
      "mapping...  <HDF5 file \"2000.hdf5\" (mode r)>\n",
      "mapping...  <HDF5 file \"3000.hdf5\" (mode r)>\n",
      "mapping...  <HDF5 file \"4000.hdf5\" (mode r)>\n",
      "mapping...  <HDF5 file \"5000.hdf5\" (mode r)>\n",
      "mapping...  <HDF5 file \"6000.hdf5\" (mode r)>\n",
      "mapping...  <HDF5 file \"7000.hdf5\" (mode r)>\n",
      "mapping...  <HDF5 file \"8000.hdf5\" (mode r)>\n",
      "molecular formula (idmol) mapped:  6899\n",
      "total molecular structures (idconf) mapped:  6899\n",
      "<class 'dataset.QM7X'> dataset created...\n",
      "epoch: 0 of 10, train loss: 70.86834549260503, val loss: 61.73774889564794\n",
      "epoch: 1 of 10, train loss: 39.71894311101997, val loss: 13.038585068511487\n",
      "epoch: 2 of 10, train loss: 9.198564755162362, val loss: 6.939150067885876\n",
      "epoch: 3 of 10, train loss: 7.37353626896209, val loss: 6.557359963867664\n",
      "epoch: 4 of 10, train loss: 7.028723590748809, val loss: 6.875465055975438\n",
      "epoch: 5 of 10, train loss: 6.075366409809385, val loss: 7.208986447042465\n",
      "epoch: 6 of 10, train loss: 6.252328228306679, val loss: 4.859406954824447\n",
      "epoch: 7 of 10, train loss: 5.88714582584826, val loss: 6.075258785971642\n",
      "epoch: 8 of 10, train loss: 5.675156110310281, val loss: 5.036377721738814\n",
      "epoch: 9 of 10, train loss: 4.791552272170883, val loss: 5.622588612427712\n",
      "test loss: 4.565022780073642\n",
      "y_pred:\n",
      "tensor([[69.6136],\n",
      "        [60.7702],\n",
      "        [65.8056],\n",
      "        [87.6972],\n",
      "        [62.4212],\n",
      "        [57.7106],\n",
      "        [75.7257],\n",
      "        [73.2817],\n",
      "        [71.3057],\n",
      "        [92.6245]], device='cuda:0')\n",
      " y:\n",
      "tensor([[69.0752],\n",
      "        [61.6463],\n",
      "        [75.9538],\n",
      "        [90.5183],\n",
      "        [69.5971],\n",
      "        [71.6961],\n",
      "        [77.5030],\n",
      "        [75.9658],\n",
      "        [76.7873],\n",
      "        [89.0575]], device='cuda:0', dtype=torch.float64)\n"
     ]
    },
    {
     "data": {
      "image/png": "[encoded data removed]",
      "text/plain": [
       "<Figure size 432x288 with 1 Axes>"
      ]
     },
     "metadata": {
      "needs_background": "light"
     },
     "output_type": "display_data"
    },
    {
     "name": "stdout",
     "output_type": "stream",
     "text": [
      "learning time: 0:01:55.378361\n"
     ]
    },
    {
     "data": {
      "text/plain": [
       "<cosmosis.learning.Learn at 0x7fbcdd81f790>"
      ]
     },
     "execution_count": 7,
     "metadata": {},
     "output_type": "execute_result"
    }
   ],
   "source": [
    "ds_params = {'features': \n",
    "                 ['DIP','HLgap','KSE','atC6','atNUM','atPOL','atXYZ', \n",
    "                 'eC','eDFTB+MBD','eEE','eH','eKIN','eKSE','eL','eMBD',\n",
    "                 'eNE','eNN','ePBE0','ePBE0+MBD','eTS','eX','eXC','eXX',\n",
    "                 'hCHG','hDIP','hRAT','hVDIP','hVOL','mC6','mPOL','mTPOL',\n",
    "                 'pbe0FOR','sMIT','sRMSD','totFOR','vDIP','vEQ','vIQ',\n",
    "                 'vTQ','vdwFOR','vdwR'],\n",
    "             'pad': 654, #length of the longest molecule features\n",
    "             'target': ['eAT'],\n",
    "             'selector': ['i1-c1-opt']}\n",
    "\n",
    "opt_params = {'lr': 0.001}\n",
    "\n",
    "model_params = {'D_in': 654, \n",
    "                'H': 2048, \n",
    "                'D_out': 1, \n",
    "                'model_name': 'funnel'}\n",
    "\n",
    "crit_params = {'reduction': 'sum'}\n",
    "\n",
    "sample_params = {'split': .1, 'subset': False}\n",
    "\n",
    "Learn(Dataset=QM7X, Model=FFNet, Sampler=Selector, Optimizer=Adam, Criterion=L1Loss,\n",
    "      batch_size=256, epochs=10, model_params=model_params, ds_params=ds_params, \n",
    "      sample_params=sample_params, opt_params=opt_params, crit_params=crit_params, \n",
    "      save_model=False, load_model=False)\n",
    "\n",
    "#find the longest molecule features\n",
    "#qm7x = QM7X(**ds_params)\n",
    "#l = 0\n",
    "#for i in qm7x.ds_idx:\n",
    "#    s = qm7x[i][0].shape.numel()\n",
    "#    if s > l:\n",
    "#        l = s\n",
    "#print(l)"
   ]
  },
  {
   "cell_type": "code",
   "execution_count": null,
   "metadata": {},
   "outputs": [],
   "source": [
    "opt_params = {'lr': 0.001}\n",
    "model_params = {'D_in': 128+32+64+32+64, \n",
    "                'H': 2048, \n",
    "                'D_out': 1, \n",
    "                'model_name': 'funnel'}\n",
    "ds_params = {'n': 4658146, \n",
    "             'features': False,\n",
    "             'use_h5': False,  \n",
    "             'infer': False}\n",
    "crit_params = {'reduction': 'sum'}\n",
    "sample_params = {'split': .1, 'subset': False}\n",
    "\n",
    "Learn(Dataset=Champs, Model=FFNet, Sampler=ChampSelector, Optimizer=Adam, Criterion=L1Loss,\n",
    "      batch_size=1024, epochs=10, model_params=model_params, ds_params=ds_params, \n",
    "      sample_params=sample_params, opt_params=opt_params, crit_params=crit_params, \n",
    "      save_model=True, load_model=False)"
   ]
  },
  {
   "cell_type": "code",
   "execution_count": null,
   "metadata": {},
   "outputs": [],
   "source": [
    "model_params = {'D_in': 128+32+64+32+64, \n",
    "                'H': 2048, \n",
    "                'D_out': 1, \n",
    "                'model_name': 'funnel'}\n",
    "ds_params = {'features': False,\n",
    "             'use_h5': False,  \n",
    "             'infer': True}\n",
    "\n",
    "Learn(Dataset=Champs, Model=FFNet, Sampler=Selector, batch_size=2048, model_params=model_params, \n",
    "      ds_params=ds_params, load_model='./models/20201021_2101.pth', adapt=False)"
   ]
  },
  {
   "cell_type": "code",
   "execution_count": null,
   "metadata": {},
   "outputs": [],
   "source": []
  }
 ],
 "metadata": {
  "kernelspec": {
   "display_name": "Python 3",
   "language": "python",
   "name": "python3"
  },
  "language_info": {
   "codemirror_mode": {
    "name": "ipython",
    "version": 3
   },
   "file_extension": ".py",
   "mimetype": "text/x-python",
   "name": "python",
   "nbconvert_exporter": "python",
   "pygments_lexer": "ipython3",
   "version": "3.7.9"
  }
 },
 "nbformat": 4,
 "nbformat_minor": 4
}
