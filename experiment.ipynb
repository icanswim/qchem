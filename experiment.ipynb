{
 "cells": [
  {
   "cell_type": "code",
   "execution_count": 1,
   "metadata": {},
   "outputs": [],
   "source": [
    "import sys # required for relative imports in jupyter lab\n",
    "sys.path.insert(0, '../') \n",
    "\n",
    "from cosmosis.model import FFNet\n",
    "from cosmosis.learning import Learn, Selector\n",
    "from cosmosis.dataset import SKDS\n",
    "\n",
    "from dataset import QM7, QM7b, QM7X, QM9, ANI1x\n",
    "\n",
    "from torch.optim import Adam\n",
    "from torch.nn import MSELoss, L1Loss\n",
    "from torch.optim.lr_scheduler import ReduceLROnPlateau"
   ]
  },
  {
   "cell_type": "code",
   "execution_count": 2,
   "metadata": {},
   "outputs": [
    {
     "name": "stdout",
     "output_type": "stream",
     "text": [
      "CDataset created...\n",
      "SKDS make_regression created...\n",
      "CModel loaded...\n",
      "FFNet model loaded...\n",
      "learning time: 0:00:02.489053\n",
      "epoch: 0, lr: 0.01\n",
      "train loss: 27804.40017361111, val loss: 20305.693359375\n",
      "sklearn train metric: 0, sklearn validation metric: 0\n",
      "learning time: 0:00:09.346623\n",
      "epoch: 10, lr: 0.0025\n",
      "train loss: 645.3200830530237, val loss: 490.2476501464844\n",
      "sklearn train metric: 0, sklearn validation metric: 0\n",
      "test loss: 516.8002319335938\n",
      "learning time: 0:00:15.824684\n",
      "sklearn test metric: \n",
      "0 \n",
      "\n"
     ]
    },
    {
     "data": {
      "image/png": "[encoded data removed]",
      "text/plain": [
       "<Figure size 432x288 with 1 Axes>"
      ]
     },
     "metadata": {
      "needs_background": "light"
     },
     "output_type": "display_data"
    }
   ],
   "source": [
    "model_params = {'D_in': 128, \n",
    "                'H': 512, \n",
    "                'D_out': 1, \n",
    "                'model_name': 'funnel'}\n",
    "\n",
    "ds_params = {'train_params': {'features': ['X'],\n",
    "                              'targets': ['y'],\n",
    "                              'features_dtype': 'float32',\n",
    "                              'targets_dtype': 'float32',\n",
    "                              'make': 'make_regression',\n",
    "                              'transform': [],\n",
    "                              'target_transform': [],\n",
    "                              'sk_params': {'n_samples': 10000,\n",
    "                                            'n_features': 128}}}\n",
    "\n",
    "metrics_params = {'report_interval': 10}\n",
    "\n",
    "opt_params = {'lr': 0.01}\n",
    "\n",
    "crit_params = {'reduction': 'sum'}\n",
    "\n",
    "sample_params = {'set_seed': 88,\n",
    "                 'splits': (.7, .15)}\n",
    "\n",
    "sched_params = {'factor': .5,\n",
    "                'patience': 2,\n",
    "                'cooldown': 1}\n",
    "\n",
    "l = Learn([SKDS], FFNet, Selector, \n",
    "          Optimizer=Adam, Scheduler=ReduceLROnPlateau, Criterion=MSELoss, \n",
    "          model_params=model_params, ds_params=ds_params, sample_params=sample_params,\n",
    "          opt_params=opt_params, sched_params=sched_params, crit_params=crit_params,\n",
    "          metrics_params=metrics_params,\n",
    "          adapt=False, load_model=False, load_embed=False, save_model=False,\n",
    "          batch_size=256, epochs=20)"
   ]
  },
  {
   "cell_type": "code",
   "execution_count": 3,
   "metadata": {},
   "outputs": [
    {
     "name": "stdout",
     "output_type": "stream",
     "text": [
      "CDataset created...\n",
      "CModel loaded...\n",
      "FFNet model loaded...\n",
      "learning time: 0:00:01.073218\n",
      "epoch: 0, lr: 0.01\n",
      "train loss: 1531.1171810752467, val loss: 1501.2631530761719\n",
      "sklearn train metric: 0, sklearn validation metric: 0\n",
      "learning time: 0:00:10.183926\n",
      "epoch: 10, lr: 0.01\n",
      "train loss: 35.359671341745475, val loss: 36.32985973358154\n",
      "sklearn train metric: 0, sklearn validation metric: 0\n",
      "test loss: 32.33364486694336\n",
      "learning time: 0:00:18.363339\n",
      "sklearn test metric: \n",
      "0 \n",
      "\n"
     ]
    },
    {
     "data": {
      "image/png": "[encoded data removed]",
      "text/plain": [
       "<Figure size 432x288 with 1 Axes>"
      ]
     },
     "metadata": {
      "needs_background": "light"
     },
     "output_type": "display_data"
    }
   ],
   "source": [
    "model_params = {'D_in': 23*23+23*32, \n",
    "                'H': 4096, \n",
    "                'D_out': 1, \n",
    "                'model_name': 'funnel',\n",
    "                'embed_params': [('atoms',7,32,None,True)]}\n",
    "\n",
    "ds_params = {'train_params': {'features': ['coulomb'],\n",
    "                              'targets': ['ae'],\n",
    "                              'embeds': ['atoms'],\n",
    "                              'in_file': './data/qm7/qm7.mat',\n",
    "                              'flatten': True}}\n",
    "\n",
    "metrics_params = {'report_interval': 10}\n",
    "\n",
    "crit_params = {'reduction': 'sum'}\n",
    "\n",
    "sample_params = {'set_seed': 88,\n",
    "                 'splits': (.7,.15)}\n",
    "\n",
    "sched_params = {'factor': .5,\n",
    "                'patience': 2,\n",
    "                'cooldown': 1}\n",
    "\n",
    "opt_params = {'lr': 0.01}\n",
    "\n",
    "l = Learn([QM7], FFNet, Selector, \n",
    "          Optimizer=Adam, Scheduler=ReduceLROnPlateau, Criterion=L1Loss, \n",
    "          model_params=model_params, ds_params=ds_params, sample_params=sample_params,\n",
    "          opt_params=opt_params, sched_params=sched_params, crit_params=crit_params,\n",
    "          metrics_params=metrics_params,\n",
    "          adapt=False, load_model=False, load_embed=False, save_model=False, \n",
    "          batch_size=256, epochs=20)"
   ]
  },
  {
   "cell_type": "code",
   "execution_count": 4,
   "metadata": {},
   "outputs": [
    {
     "name": "stdout",
     "output_type": "stream",
     "text": [
      "CDataset created...\n",
      "CModel loaded...\n",
      "FFNet model loaded...\n",
      "learning time: 0:00:00.698297\n",
      "epoch: 0, lr: 0.01\n",
      "train loss: 1562.3007105777137, val loss: 1545.7361755371094\n",
      "sklearn train metric: 0, sklearn validation metric: 0\n",
      "learning time: 0:00:07.328589\n",
      "epoch: 10, lr: 0.01\n",
      "train loss: 56.453364522833574, val loss: 63.856675148010254\n",
      "sklearn train metric: 0, sklearn validation metric: 0\n",
      "learning time: 0:00:13.934223\n",
      "epoch: 20, lr: 0.01\n",
      "train loss: 46.98725951345343, val loss: 57.304168701171875\n",
      "sklearn train metric: 0, sklearn validation metric: 0\n",
      "learning time: 0:00:20.620370\n",
      "epoch: 30, lr: 0.005\n",
      "train loss: 41.32347849795693, val loss: 51.35231113433838\n",
      "sklearn train metric: 0, sklearn validation metric: 0\n",
      "learning time: 0:00:27.439415\n",
      "epoch: 40, lr: 0.0025\n",
      "train loss: 38.85287776746248, val loss: 53.1608304977417\n",
      "sklearn train metric: 0, sklearn validation metric: 0\n",
      "test loss: 50.90915489196777\n",
      "learning time: 0:00:33.863145\n",
      "sklearn test metric: \n",
      "0 \n",
      "\n"
     ]
    },
    {
     "data": {
      "image/png": "[encoded data removed]",
      "text/plain": [
       "<Figure size 432x288 with 1 Axes>"
      ]
     },
     "metadata": {
      "needs_background": "light"
     },
     "output_type": "display_data"
    }
   ],
   "source": [
    "model_params = {'D_in': 23*23, \n",
    "                'H': 2048, \n",
    "                'D_out': 1, \n",
    "                'model_name': 'funnel'}\n",
    "\n",
    "ds_params = {'train_params': {'features': ['coulomb'],\n",
    "                              'targets': ['E'],\n",
    "                              'in_file': './data/qm7b/qm7b.mat',\n",
    "                              'flatten': True}}\n",
    "\n",
    "metrics_params = {'report_interval': 10}\n",
    "\n",
    "crit_params = {'reduction': 'sum'}\n",
    "\n",
    "sample_params = {'set_seed': 88,\n",
    "                 'splits': (.7,.15)}\n",
    "\n",
    "sched_params = {'factor': .5,\n",
    "                'patience': 5,\n",
    "                'cooldown': 2}\n",
    "\n",
    "opt_params = {'lr': 0.01}\n",
    "\n",
    "l = Learn([QM7b], FFNet, Selector, \n",
    "          Optimizer=Adam, Scheduler=ReduceLROnPlateau, Criterion=L1Loss, \n",
    "          model_params=model_params, ds_params=ds_params, sample_params=sample_params,\n",
    "          opt_params=opt_params, sched_params=sched_params, crit_params=crit_params,\n",
    "          metrics_params=metrics_params,\n",
    "          adapt=False, load_model=False, load_embed=False, save_model=False, \n",
    "          batch_size=256, epochs=50)"
   ]
  },
  {
   "cell_type": "code",
   "execution_count": 5,
   "metadata": {},
   "outputs": [
    {
     "name": "stdout",
     "output_type": "stream",
     "text": [
      "mapping...  <HDF5 file \"1000.hdf5\" (mode r)>\n",
      "mapping...  <HDF5 file \"2000.hdf5\" (mode r)>\n",
      "mapping...  <HDF5 file \"3000.hdf5\" (mode r)>\n",
      "mapping...  <HDF5 file \"4000.hdf5\" (mode r)>\n",
      "mapping...  <HDF5 file \"5000.hdf5\" (mode r)>\n",
      "mapping...  <HDF5 file \"6000.hdf5\" (mode r)>\n",
      "mapping...  <HDF5 file \"7000.hdf5\" (mode r)>\n",
      "mapping...  <HDF5 file \"8000.hdf5\" (mode r)>\n",
      "molecular formula (idmol) mapped:  6950\n",
      "total molecular structures (idconf) mapped:  41537\n",
      "CDataset created...\n",
      "longest molecule length:  23\n"
     ]
    },
    {
     "data": {
      "text/plain": [
       "(array([6., 1., 1., 1., 1.], dtype=float32), [], [])"
      ]
     },
     "execution_count": 5,
     "metadata": {},
     "output_type": "execute_result"
    }
   ],
   "source": [
    "#find the longest molecule\n",
    "\n",
    "ds_params = {'train_params': {'features': ['atNUM'],\n",
    "                              'pad': None,\n",
    "                              'targets': [],\n",
    "                              'embeds': [],\n",
    "                              'selector': ['opt']}}\n",
    "\n",
    "qm7x = QM7X(**ds_params['train_params'])\n",
    "l = 0\n",
    "for i in qm7x.ds_idx:\n",
    "    s = qm7x[i][0].shape[0]\n",
    "    if s > l:\n",
    "        l = s\n",
    "print('longest molecule length: ', l)\n",
    "\n",
    "qm7x[1]"
   ]
  },
  {
   "cell_type": "code",
   "execution_count": 6,
   "metadata": {},
   "outputs": [
    {
     "name": "stdout",
     "output_type": "stream",
     "text": [
      "mapping...  <HDF5 file \"1000.hdf5\" (mode r)>\n",
      "mapping...  <HDF5 file \"2000.hdf5\" (mode r)>\n",
      "mapping...  <HDF5 file \"3000.hdf5\" (mode r)>\n",
      "mapping...  <HDF5 file \"4000.hdf5\" (mode r)>\n",
      "mapping...  <HDF5 file \"5000.hdf5\" (mode r)>\n",
      "mapping...  <HDF5 file \"6000.hdf5\" (mode r)>\n",
      "mapping...  <HDF5 file \"7000.hdf5\" (mode r)>\n",
      "mapping...  <HDF5 file \"8000.hdf5\" (mode r)>\n",
      "molecular formula (idmol) mapped:  6950\n",
      "total molecular structures (idconf) mapped:  41537\n",
      "CDataset created...\n",
      "CModel loaded...\n",
      "FFNet model loaded...\n",
      "learning time: 0:00:01.227576\n",
      "epoch: 0, lr: 0.01\n",
      "train loss: 66.09199503848427, val loss: 44.608248710632324\n",
      "sklearn train metric: 0, sklearn validation metric: 0\n",
      "learning time: 0:00:12.010094\n",
      "epoch: 10, lr: 0.01\n",
      "train loss: 2.35999554081967, val loss: 2.101811647415161\n",
      "sklearn train metric: 0, sklearn validation metric: 0\n",
      "learning time: 0:00:22.660756\n",
      "epoch: 20, lr: 0.01\n",
      "train loss: 2.2117722097196078, val loss: 2.1684582233428955\n",
      "sklearn train metric: 0, sklearn validation metric: 0\n",
      "learning time: 0:00:33.429140\n",
      "epoch: 30, lr: 0.005\n",
      "train loss: 1.8916020958047164, val loss: 1.7743017673492432\n",
      "sklearn train metric: 0, sklearn validation metric: 0\n",
      "learning time: 0:00:44.122421\n",
      "epoch: 40, lr: 0.005\n",
      "train loss: 1.8747230391753347, val loss: 1.7484999597072601\n",
      "sklearn train metric: 0, sklearn validation metric: 0\n",
      "test loss: 1.6884422600269318\n",
      "learning time: 0:00:54.373097\n",
      "sklearn test metric: \n",
      "0 \n",
      "\n"
     ]
    },
    {
     "data": {
      "image/png": "[encoded data removed]",
      "text/plain": [
       "<Figure size 432x288 with 1 Axes>"
      ]
     },
     "metadata": {
      "needs_background": "light"
     },
     "output_type": "display_data"
    }
   ],
   "source": [
    "model_params = {'D_in': 23*23+23*64, \n",
    "                'H': 4096, \n",
    "                'D_out': 1, \n",
    "                'model_name': 'funnel',\n",
    "                'embed_params': [('atNUM',9,64,None,True)]}\n",
    "\n",
    "ds_params = {'train_params': {'features': ['distance'],\n",
    "                              'pad': 23,\n",
    "                              'targets': ['eAT'],\n",
    "                              'embeds': ['atNUM'],\n",
    "                              'selector': ['opt'],\n",
    "                              'flatten': True}}\n",
    "\n",
    "metrics_params = {'report_interval': 10}\n",
    "\n",
    "crit_params = {'reduction': 'sum'}\n",
    "\n",
    "sample_params = {'set_seed': 88,\n",
    "                 'splits': (.7,.15)}\n",
    "\n",
    "sched_params = {'factor': .5,\n",
    "                'patience': 5,\n",
    "                'cooldown': 2}\n",
    "\n",
    "opt_params = {'lr': 0.01}\n",
    "\n",
    "l = Learn([QM7X], FFNet, Selector, \n",
    "          Optimizer=Adam, Scheduler=ReduceLROnPlateau, Criterion=L1Loss, \n",
    "          model_params=model_params, ds_params=ds_params, sample_params=sample_params,\n",
    "          opt_params=opt_params, sched_params=sched_params, crit_params=crit_params,\n",
    "          metrics_params=metrics_params,\n",
    "          adapt=False, load_model=False, load_embed=False, save_model=False, \n",
    "          batch_size=256, epochs=50)"
   ]
  },
  {
   "cell_type": "code",
   "execution_count": null,
   "metadata": {
    "tags": []
   },
   "outputs": [
    {
     "name": "stdout",
     "output_type": "stream",
     "text": [
      "creating QM9 dataset...\n",
      "QM9 molecules scanned:  1\n",
      "QM9 molecules created:  1\n",
      "QM9 molecules scanned:  10001\n",
      "QM9 molecules created:  10001\n",
      "QM9 molecules scanned:  20001\n",
      "QM9 molecules created:  20001\n",
      "QM9 molecules scanned:  30001\n",
      "QM9 molecules created:  30001\n",
      "QM9 molecules scanned:  40001\n",
      "QM9 molecules created:  40001\n",
      "QM9 molecules scanned:  50001\n",
      "QM9 molecules created:  50001\n",
      "QM9 molecules scanned:  60001\n",
      "QM9 molecules created:  60001\n",
      "QM9 molecules scanned:  70001\n",
      "QM9 molecules created:  70001\n",
      "QM9 molecules scanned:  80001\n",
      "QM9 molecules created:  80001\n",
      "QM9 molecules scanned:  90001\n",
      "QM9 molecules created:  90001\n",
      "QM9 molecules scanned:  100001\n",
      "QM9 molecules created:  100001\n",
      "QM9 molecules scanned:  110001\n",
      "QM9 molecules created:  110001\n",
      "QM9 molecules scanned:  120001\n",
      "QM9 molecules created:  120001\n",
      "QM9 molecules scanned:  130001\n",
      "QM9 molecules created:  130001\n",
      "total uncharacterized molecules removed:  3054\n",
      "total QM9 molecules created:  130831\n",
      "pickling a copy of the QM9 datadic...\n"
     ]
    }
   ],
   "source": [
    "model_params = {'D_in': 29*29, \n",
    "                'H': 4096, \n",
    "                'D_out': 1, \n",
    "                'model_name': 'funnel'}\n",
    "\n",
    "ds_params = {'train_params': {#'n': 10000, \n",
    "                              'features': ['coulomb'],\n",
    "                              'embeds': [], \n",
    "                              'targets': ['U0'],\n",
    "                              'pad': 29, \n",
    "                              'filter_on': None,\n",
    "                              'use_pickle': 'qm9.p',\n",
    "                              'flatten': True}}\n",
    "\n",
    "metrics_params = {'report_interval': 10}\n",
    "\n",
    "crit_params = {'reduction': 'sum'}\n",
    "\n",
    "sample_params = {'set_seed': 88,\n",
    "                 'splits': (.7,.15)}\n",
    "\n",
    "sched_params = {'factor': .5,\n",
    "                'patience': 5,\n",
    "                'cooldown': 2}\n",
    "\n",
    "opt_params = {'lr': 0.01}\n",
    "\n",
    "l = Learn([QM9], FFNet, Selector, \n",
    "          Optimizer=Adam, Scheduler=ReduceLROnPlateau, Criterion=L1Loss, \n",
    "          model_params=model_params, ds_params=ds_params, sample_params=sample_params,\n",
    "          opt_params=opt_params, sched_params=sched_params, crit_params=crit_params,\n",
    "          metrics_params=metrics_params,\n",
    "          adapt=False, load_model=False, load_embed=False, save_model=False, \n",
    "          batch_size=256, epochs=20)"
   ]
  },
  {
   "cell_type": "code",
   "execution_count": null,
   "metadata": {},
   "outputs": [
    {
     "name": "stdout",
     "output_type": "stream",
     "text": [
      "creating QM9 dataset...\n",
      "QM9 molecules scanned:  1\n",
      "QM9 molecules created:  0\n",
      "QM9 molecules scanned:  10001\n",
      "QM9 molecules created:  1853\n",
      "QM9 molecules scanned:  20001\n",
      "QM9 molecules created:  4109\n",
      "QM9 molecules scanned:  30001\n",
      "QM9 molecules created:  5164\n",
      "QM9 molecules scanned:  40001\n",
      "QM9 molecules created:  8487\n",
      "QM9 molecules scanned:  50001\n",
      "QM9 molecules created:  10694\n",
      "QM9 molecules scanned:  60001\n",
      "QM9 molecules created:  15309\n",
      "QM9 molecules scanned:  70001\n",
      "QM9 molecules created:  20609\n",
      "QM9 molecules scanned:  80001\n",
      "QM9 molecules created:  25898\n",
      "QM9 molecules scanned:  90001\n",
      "QM9 molecules created:  32036\n",
      "QM9 molecules scanned:  100001\n",
      "QM9 molecules created:  38581\n",
      "QM9 molecules scanned:  110001\n",
      "QM9 molecules created:  46307\n",
      "QM9 molecules scanned:  120001\n",
      "QM9 molecules created:  54330\n",
      "QM9 molecules scanned:  130001\n",
      "QM9 molecules created:  58020\n",
      "total uncharacterized molecules removed:  467\n",
      "total QM9 molecules created:  57590\n",
      "pickling a copy of the QM9 datadic...\n"
     ]
    }
   ],
   "source": [
    "model_params = {'D_in': 29*29, \n",
    "                'H': 4096, \n",
    "                'D_out': 1, \n",
    "                'model_name': 'funnel',\n",
    "                'embed_params': []}\n",
    "\n",
    "ds_params = {'train_params': {#'n': 10000,\n",
    "                              'features': ['coulomb'],\n",
    "                              'embeds': [],\n",
    "                              'targets': ['U0'],\n",
    "                              'pad': 29, \n",
    "                              'filter_on': ('n_atoms','>','18'),\n",
    "                              'use_pickle': 'n_atoms_greater_than_18.p',\n",
    "                              'flatten': True}}\n",
    "\n",
    "crit_params = {'reduction': 'sum'}\n",
    "sample_params = {'set_seed': 88,\n",
    "                 'splits': (.7,.15)}\n",
    "sched_params = {'factor': .5,\n",
    "                'patience': 5,\n",
    "                'cooldown': 2}\n",
    "opt_params = {'lr': 0.01}\n",
    "\n",
    "l = Learn([QM9], FFNet, Selector, Optimizer=Adam, Scheduler=ReduceLROnPlateau, Criterion=L1Loss, \n",
    "          model_params=model_params, ds_params=ds_params, sample_params=sample_params,\n",
    "          opt_params=opt_params, sched_params=sched_params, crit_params=crit_params,\n",
    "          adapt=False, load_model=False, load_embed=False, save_model=False, \n",
    "          batch_size=256, epochs=30)"
   ]
  },
  {
   "cell_type": "code",
   "execution_count": 2,
   "metadata": {},
   "outputs": [
    {
     "name": "stdout",
     "output_type": "stream",
     "text": [
      "molecules loaded:  1000\n",
      "molecules loaded:  2000\n",
      "molecules loaded:  3000\n",
      "molecules loaded:  3114\n",
      "CDataset created...\n",
      "CModel loaded...\n",
      "FFNet model loaded...\n",
      "learning time: 0:00:04.060979\n",
      "epoch: 0, lr: 0.01\n",
      "train loss: 564.3921472886029, val loss: 530.186767578125\n",
      "sklearn train metric: 0, sklearn validation metric: 0\n",
      "learning time: 0:00:15.555044\n",
      "epoch: 7, lr: 0.01\n",
      "train loss: 38.39324603361242, val loss: 42.468177795410156\n",
      "sklearn train metric: 0, sklearn validation metric: 0\n",
      "learning time: 0:00:20.399363\n",
      "epoch: 10, lr: 0.01\n",
      "train loss: 39.22167519962086, val loss: 35.13230196634928\n",
      "sklearn train metric: 0, sklearn validation metric: 0\n",
      "learning time: 0:00:31.913284\n",
      "epoch: 17, lr: 0.01\n",
      "train loss: 32.11356398638557, val loss: 35.76101493835449\n",
      "sklearn train metric: 0, sklearn validation metric: 0\n",
      "learning time: 0:00:36.881845\n",
      "epoch: 20, lr: 0.01\n",
      "train loss: 34.86668036965763, val loss: 40.43260192871094\n",
      "sklearn train metric: 0, sklearn validation metric: 0\n",
      "learning time: 0:00:48.250593\n",
      "epoch: 27, lr: 0.005\n",
      "train loss: 25.261836276334876, val loss: 25.10038948059082\n",
      "sklearn train metric: 0, sklearn validation metric: 0\n",
      "learning time: 0:00:53.084063\n",
      "epoch: 30, lr: 0.005\n",
      "train loss: 22.773237003999597, val loss: 26.233149846394856\n",
      "sklearn train metric: 0, sklearn validation metric: 0\n",
      "learning time: 0:01:04.299131\n",
      "epoch: 37, lr: 0.005\n",
      "train loss: 25.946543525247012, val loss: 26.770761489868164\n",
      "sklearn train metric: 0, sklearn validation metric: 0\n",
      "learning time: 0:01:09.237591\n",
      "epoch: 40, lr: 0.0025\n",
      "train loss: 21.32209250506233, val loss: 21.231562932332356\n",
      "sklearn train metric: 0, sklearn validation metric: 0\n",
      "learning time: 0:01:20.556419\n",
      "epoch: 47, lr: 0.0025\n",
      "train loss: 22.81434945499196, val loss: 21.45550537109375\n",
      "sklearn train metric: 0, sklearn validation metric: 0\n",
      "test loss: 23.384883562723797\n",
      "learning time: 0:01:24.193042\n",
      "sklearn test metric: \n",
      "0 \n",
      "\n"
     ]
    },
    {
     "data": {
      "image/png": "[encoded data removed]",
      "text/plain": [
       "<Figure size 432x288 with 1 Axes>"
      ]
     },
     "metadata": {
      "needs_background": "light"
     },
     "output_type": "display_data"
    }
   ],
   "source": [
    "model_params = {'D_in': 63*63+63*32, \n",
    "                'H': 8192, \n",
    "                'D_out': 1, \n",
    "                'model_name': 'funnel',\n",
    "                'embed_params': [('atomic_numbers',9,32,None,True)]}\n",
    "\n",
    "ds_params = {'train_params': {'features': ['distance'],\n",
    "                              'targets': ['wb97x_dz.energy'],\n",
    "                              'embeds': ['atomic_numbers'],\n",
    "                              'pad': 63, #length of the longest molecule in the dataset\n",
    "                              'flatten': True,\n",
    "                              'criterion': ['wb97x_dz.energy'],\n",
    "                              'conformation': 'random',\n",
    "                              'in_file': './data/ani1x/ani1x-release.h5'}}\n",
    "\n",
    "metrics_params = {'report_interval': 20}\n",
    "\n",
    "crit_params = {'reduction': 'sum'}\n",
    "sample_params = {'set_seed': 88,\n",
    "                 'splits': (.7,.15)}\n",
    "sched_params = {'factor': .5,\n",
    "                'patience': 5,\n",
    "                'cooldown': 5}\n",
    "opt_params = {'lr': 0.01}\n",
    "\n",
    "l = Learn([ANI1x], FFNet, Selector, Optimizer=Adam, Scheduler=ReduceLROnPlateau, Criterion=L1Loss, \n",
    "          model_params=model_params, ds_params=ds_params, sample_params=sample_params,\n",
    "          opt_params=opt_params, sched_params=sched_params, crit_params=crit_params,\n",
    "          adapt=False, load_model=False, load_embed=False, save_model=False, \n",
    "          batch_size=128, epochs=50)"
   ]
  },
  {
   "cell_type": "code",
   "execution_count": null,
   "metadata": {},
   "outputs": [],
   "source": []
  }
 ],
 "metadata": {
  "kernelspec": {
   "display_name": "Python 3",
   "language": "python",
   "name": "python3"
  },
  "language_info": {
   "codemirror_mode": {
    "name": "ipython",
    "version": 3
   },
   "file_extension": ".py",
   "mimetype": "text/x-python",
   "name": "python",
   "nbconvert_exporter": "python",
   "pygments_lexer": "ipython3",
   "version": "3.7.9"
  }
 },
 "nbformat": 4,
 "nbformat_minor": 4
}
