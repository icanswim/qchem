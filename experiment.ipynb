{
 "cells": [
  {
   "cell_type": "code",
   "execution_count": null,
   "metadata": {},
   "outputs": [],
   "source": [
    "# This is a series of examples using the icanswim/qchem quantum mechanic machine learning repo\n",
    "# icanswim/qchem utilizes the icanswim/cosmosis data science machine learning repo"
   ]
  },
  {
   "cell_type": "code",
   "execution_count": 1,
   "metadata": {},
   "outputs": [
    {
     "name": "stderr",
     "output_type": "stream",
     "text": [
      "RDKit WARNING: [08:00:00] Enabling RDKit 2019.09.3 jupyter extensions\n"
     ]
    }
   ],
   "source": [
    "import sys # required for relative imports in jupyter lab\n",
    "sys.path.insert(0, '../') \n",
    "\n",
    "from cosmosis.model import FFNet\n",
    "from cosmosis.dataset import SKDS\n",
    "from cosmosis.learning import Learn, Selector\n",
    "\n",
    "from dataset import QM7, QM7b, QM7X, QM9, ANI1x\n",
    "\n",
    "from torch.optim import Adam\n",
    "from torch.nn import MSELoss, L1Loss\n",
    "from torch.optim.lr_scheduler import ReduceLROnPlateau"
   ]
  },
  {
   "cell_type": "code",
   "execution_count": null,
   "metadata": {
    "jupyter": {
     "source_hidden": true
    },
    "tags": []
   },
   "outputs": [],
   "source": [
    "## Example using scikit dataset wrapper SKDS and custom model\n",
    "model_params = {'D_in': 128, \n",
    "                'H': 512, \n",
    "                'D_out': 1, \n",
    "                'model_name': 'funnel'}\n",
    "\n",
    "ds_params = {'train_params': {'features': ['X'],\n",
    "                              'targets': ['y'],\n",
    "                              'features_dtype': 'float32',\n",
    "                              'targets_dtype': 'float32',\n",
    "                              'make': 'make_regression',\n",
    "                              'transform': [],\n",
    "                              'target_transform': [],\n",
    "                              'sk_params': {'n_samples': 10000,\n",
    "                                            'n_features': 128}}}\n",
    "\n",
    "metrics_params = {'report_interval': 10}\n",
    "\n",
    "opt_params = {'lr': 0.01}\n",
    "\n",
    "crit_params = {'reduction': 'sum'}\n",
    "\n",
    "sample_params = {'set_seed': 88,\n",
    "                 'splits': (.7, .15)}\n",
    "\n",
    "sched_params = {'factor': .5,\n",
    "                'patience': 2,\n",
    "                'cooldown': 1}\n",
    "\n",
    "l = Learn([SKDS], FFNet, Selector, \n",
    "          Optimizer=Adam, Scheduler=ReduceLROnPlateau, Criterion=MSELoss, \n",
    "          model_params=model_params, ds_params=ds_params, sample_params=sample_params,\n",
    "          opt_params=opt_params, sched_params=sched_params, crit_params=crit_params,\n",
    "          metrics_params=metrics_params,\n",
    "          batch_size=256, epochs=20)"
   ]
  },
  {
   "cell_type": "code",
   "execution_count": null,
   "metadata": {
    "jupyter": {
     "source_hidden": true
    },
    "tags": []
   },
   "outputs": [],
   "source": [
    "## Example using QM7 dataset and custom model with embeddings\n",
    "model_params = {'D_in': 23*23+23*32, \n",
    "                'H': 4096, \n",
    "                'D_out': 1, \n",
    "                'model_name': 'funnel',\n",
    "                'embed_params': [('atoms',7,32,None,True)]}\n",
    "\n",
    "\n",
    "\n",
    "metrics_params = {'report_interval': 10}\n",
    "\n",
    "crit_params = {'reduction': 'sum'}\n",
    "\n",
    "sample_params = {'set_seed': 88,\n",
    "                 'splits': (.7,.15)}\n",
    "\n",
    "sched_params = {'factor': .5,\n",
    "                'patience': 2,\n",
    "                'cooldown': 1}\n",
    "\n",
    "opt_params = {'lr': 0.01}\n",
    "\n",
    "l = Learn([QM7], FFNet, Selector, \n",
    "          Optimizer=Adam, Scheduler=ReduceLROnPlateau, Criterion=L1Loss, \n",
    "          model_params=model_params, ds_params=ds_params, sample_params=sample_params,\n",
    "          opt_params=opt_params, sched_params=sched_params, crit_params=crit_params,\n",
    "          metrics_params=metrics_params,\n",
    "          batch_size=256, epochs=20)"
   ]
  },
  {
   "cell_type": "code",
   "execution_count": null,
   "metadata": {
    "jupyter": {
     "source_hidden": true
    },
    "tags": []
   },
   "outputs": [],
   "source": [
    "## Example using the QM7b dataset\n",
    "model_params = {'D_in': 23*23, \n",
    "                'H': 2048, \n",
    "                'D_out': 1, \n",
    "                'model_name': 'funnel'}\n",
    "\n",
    "ds_params = {'train_params': {'features': ['coulomb'],\n",
    "                              'targets': ['E'],\n",
    "                              'in_file': './data/qm7b/qm7b.mat',\n",
    "                              'flatten': True}}\n",
    "\n",
    "metrics_params = {'report_interval': 10,\n",
    "                  'log_plot': False}\n",
    "\n",
    "crit_params = {'reduction': 'sum'}\n",
    "\n",
    "sample_params = {'set_seed': 88,\n",
    "                 'splits': (.7,.15)}\n",
    "\n",
    "sched_params = {'factor': .5,\n",
    "                'patience': 5,\n",
    "                'cooldown': 2}\n",
    "\n",
    "opt_params = {'lr': 0.01}\n",
    "\n",
    "l = Learn([QM7b], FFNet, Selector, \n",
    "          Optimizer=Adam, Scheduler=ReduceLROnPlateau, Criterion=L1Loss, \n",
    "          model_params=model_params, ds_params=ds_params, sample_params=sample_params,\n",
    "          opt_params=opt_params, sched_params=sched_params, crit_params=crit_params,\n",
    "          metrics_params=metrics_params, \n",
    "          batch_size=256, epochs=20)"
   ]
  },
  {
   "cell_type": "code",
   "execution_count": null,
   "metadata": {
    "jupyter": {
     "source_hidden": true
    },
    "tags": []
   },
   "outputs": [],
   "source": [
    "## Find the longest molecule in the QM7X dataset\n",
    "ds_params = {'train_params': {'features': ['atNUM'],\n",
    "                              'pad': None,\n",
    "                              'targets': [],\n",
    "                              'embeds': [],\n",
    "                              'selector': ['opt']}}\n",
    "\n",
    "qm7x = QM7X(**ds_params['train_params'])\n",
    "l = 0\n",
    "for i in qm7x.ds_idx:\n",
    "    s = qm7x[i][0].shape[0]\n",
    "    if s > l:\n",
    "        l = s\n",
    "print('longest molecule length: ', l)\n",
    "\n",
    "qm7x[1]"
   ]
  },
  {
   "cell_type": "code",
   "execution_count": null,
   "metadata": {
    "jupyter": {
     "source_hidden": true
    },
    "tags": []
   },
   "outputs": [],
   "source": [
    "## Example using the QM7X dataset and custom model with embeddings\n",
    "model_params = {'D_in': 23*23+23*64, \n",
    "                'H': 4096, \n",
    "                'D_out': 1, \n",
    "                'model_name': 'funnel',\n",
    "                'embed_params': [('atNUM',9,64,None,True)]}\n",
    "\n",
    "ds_params = {'train_params': {'features': ['distance'],\n",
    "                              'pad': 23,\n",
    "                              'do_not_pad':['eAT'],\n",
    "                              'targets': ['eAT'],\n",
    "                              'embeds': ['atNUM'],\n",
    "                              'selector': ['opt'],\n",
    "                              'flatten': True}}\n",
    "\n",
    "metrics_params = {'report_interval': 10}\n",
    "\n",
    "crit_params = {'reduction': 'sum'}\n",
    "\n",
    "sample_params = {'set_seed': 88,\n",
    "                 'splits': (.7,.15)}\n",
    "\n",
    "sched_params = {'factor': .5,\n",
    "                'patience': 5,\n",
    "                'cooldown': 2}\n",
    "\n",
    "opt_params = {'lr': 0.01}\n",
    "\n",
    "l = Learn([QM7X], FFNet, Selector, \n",
    "          Optimizer=Adam, Scheduler=ReduceLROnPlateau, Criterion=L1Loss, \n",
    "          model_params=model_params, ds_params=ds_params, sample_params=sample_params,\n",
    "          opt_params=opt_params, sched_params=sched_params, crit_params=crit_params,\n",
    "          metrics_params=metrics_params,\n",
    "          batch_size=256, epochs=50)"
   ]
  },
  {
   "cell_type": "code",
   "execution_count": 3,
   "metadata": {
    "tags": []
   },
   "outputs": [
    {
     "name": "stdout",
     "output_type": "stream",
     "text": [
      "creating QM9 dataset...\n",
      "molecules scanned:  1\n",
      "molecules created:  1\n",
      "molecules scanned:  1001\n",
      "molecules created:  1001\n",
      "molecules scanned:  2001\n",
      "molecules created:  2001\n",
      "molecules scanned:  3001\n",
      "molecules created:  3001\n",
      "molecules scanned:  4001\n",
      "molecules created:  4001\n",
      "molecules scanned:  5001\n",
      "molecules created:  5001\n",
      "molecules scanned:  6001\n",
      "molecules created:  6001\n",
      "molecules scanned:  7001\n",
      "molecules created:  7001\n",
      "molecules scanned:  8001\n",
      "molecules created:  8001\n",
      "molecules scanned:  9001\n",
      "molecules created:  9001\n",
      "total molecules scanned:  10000\n",
      "total uncharacterized molecules removed:  273\n",
      "total molecules created:  9727\n",
      "CDataset created...\n",
      "FFNet model loaded...\n",
      "CModel loaded...\n",
      "running model on gpu...\n",
      "learning time: 0:00:01.223789\n",
      "epoch: 0, lr: 0.01\n",
      "train loss: 337.24074026254505, val loss: 289.6137939453125\n",
      "learning time: 0:00:11.845256\n",
      "epoch: 10, lr: 0.01\n",
      "train loss: 8.203768216646635, val loss: 8.382048988342286\n",
      "learning time: 0:00:22.486121\n",
      "epoch: 20, lr: 0.01\n",
      "train loss: 8.116411722623385, val loss: 8.143327236175537\n",
      "learning time: 0:00:32.998967\n",
      "epoch: 30, lr: 0.005\n",
      "train loss: 6.807045899904692, val loss: 6.616984176635742\n",
      "test loss: 7.118490219116211\n",
      "learning time: 0:00:42.869138\n"
     ]
    },
    {
     "data": {
      "image/png": "[encoded data removed]",
      "text/plain": [
       "<Figure size 432x288 with 1 Axes>"
      ]
     },
     "metadata": {
      "needs_background": "light"
     },
     "output_type": "display_data"
    }
   ],
   "source": [
    "## Example using the QM9 dataset\n",
    "model_params = {'D_in': 11+29+29*29,\n",
    "                'H': 4096, \n",
    "                'D_out': 1, \n",
    "                'model_name': 'funnel',\n",
    "                #'embed_params': [('hybridization',9,16,0,True),('chirality',9,16,0,True)]\n",
    "               }\n",
    "\n",
    "ds_params = {'train_params': {'n': 10000,\n",
    "                              'db': 'qm9',\n",
    "                              'n_conformers': 1,\n",
    "                              'features': ['A','B','C','mu','alpha','homo',\n",
    "                                           'lumo','gap','r2','zpve','Cv',\n",
    "                                           'mulliken','coulomb',\n",
    "                                           #'aromatic','degree','charge','n_hs','n_rads',\n",
    "                                          ],\n",
    "                              #'embeds': ['hybridization','chirality'],\n",
    "                              'targets': ['U0'],\n",
    "                              'pad': 29,\n",
    "                              'do_not_pad': ['U0','n_atoms','A','B','C','mu',\n",
    "                                             'alpha','homo','lumo','gap','r2','zpve','Cv'],\n",
    "                              #'filter_on': ('n_atoms','>','18'),\n",
    "                              'use_pickle': False,\n",
    "                              'flatten': True}}\n",
    "\n",
    "metrics_params = {'report_interval': 10,\n",
    "                  'log_plot': True}\n",
    "\n",
    "crit_params = {'reduction': 'sum'}\n",
    "\n",
    "sample_params = {'set_seed': 88,\n",
    "                 'splits': (.7,.15)}\n",
    "\n",
    "sched_params = {'factor': .5,\n",
    "                'patience': 5,\n",
    "                'cooldown': 2}\n",
    "\n",
    "opt_params = {'lr': 0.01}\n",
    "\n",
    "l = Learn([QM9], FFNet, Selector, \n",
    "          Optimizer=Adam, Scheduler=ReduceLROnPlateau, Criterion=L1Loss, \n",
    "          model_params=model_params, ds_params=ds_params, sample_params=sample_params,\n",
    "          opt_params=opt_params, sched_params=sched_params, crit_params=crit_params,\n",
    "          metrics_params=metrics_params, \n",
    "          batch_size=256, epochs=40, gpu=True)"
   ]
  },
  {
   "cell_type": "code",
   "execution_count": 2,
   "metadata": {},
   "outputs": [
    {
     "name": "stdout",
     "output_type": "stream",
     "text": [
      "creating QM9 dataset...\n",
      "molecules scanned:  1\n",
      "molecules with no rdkit conformer:  0\n",
      "molecules created:  1\n",
      "molecules scanned:  1001\n",
      "molecules with no rdkit conformer:  15\n",
      "molecules created:  1001\n",
      "total molecules scanned:  2000\n",
      "total molecules with no rdkit conformer:  17\n",
      "total uncharacterized molecules removed:  53\n",
      "total molecules created:  1947\n",
      "CDataset created...\n",
      "FFNet model loaded...\n",
      "CModel loaded...\n",
      "running model on gpu...\n",
      "learning time: 0:00:03.084195\n",
      "epoch: 0, lr: 0.01\n",
      "train loss: 306.216748046875, val loss: 309.9577331542969\n",
      "test loss: 23.2191219329834\n",
      "learning time: 0:00:11.385764\n"
     ]
    },
    {
     "data": {
      "image/png": "[encoded data removed]",
      "text/plain": [
       "<Figure size 432x288 with 1 Axes>"
      ]
     },
     "metadata": {
      "needs_background": "light"
     },
     "output_type": "display_data"
    }
   ],
   "source": [
    "## Example using the QM9 dataset\n",
    "model_params = {'D_in': 11+29+29*29+29+29+29+29+29+16*29+16*29,\n",
    "                'H': 4096, \n",
    "                'D_out': 1, \n",
    "                'model_name': 'funnel',\n",
    "                'embed_params': [('hybridization',9,16,0,True),('chirality',9,16,0,True)]\n",
    "               }\n",
    "\n",
    "ds_params = {'train_params': {'n': 2000,\n",
    "                              'db': 'both',\n",
    "                              'n_conformers': 1,\n",
    "                              'features': ['A','B','C','mu','alpha','homo',\n",
    "                                           'lumo','gap','r2','zpve','Cv',\n",
    "                                           'mulliken','coulomb',\n",
    "                                           'aromatic','degree','charge','n_hs','n_rads',\n",
    "                                          ],\n",
    "                              'embeds': ['hybridization','chirality'],\n",
    "                              'targets': ['U0'],\n",
    "                              'pad': 29,\n",
    "                              'do_not_pad': ['U0','n_atoms','A','B','C','mu',\n",
    "                                             'alpha','homo','lumo','gap','r2','zpve','Cv'],\n",
    "                              #'filter_on': ('n_atoms','>','18'),\n",
    "                              'use_pickle': False,\n",
    "                              'flatten': True}}\n",
    "\n",
    "metrics_params = {'report_interval': 10,\n",
    "                  'log_plot': True}\n",
    "\n",
    "crit_params = {'reduction': 'sum'}\n",
    "\n",
    "sample_params = {'set_seed': 88,\n",
    "                 'splits': (.7,.15)}\n",
    "\n",
    "sched_params = {'factor': .5,\n",
    "                'patience': 5,\n",
    "                'cooldown': 2}\n",
    "\n",
    "opt_params = {'lr': 0.01}\n",
    "\n",
    "l = Learn([QM9], FFNet, Selector, \n",
    "          Optimizer=Adam, Scheduler=ReduceLROnPlateau, Criterion=L1Loss, \n",
    "          model_params=model_params, ds_params=ds_params, sample_params=sample_params,\n",
    "          opt_params=opt_params, sched_params=sched_params, crit_params=crit_params,\n",
    "          metrics_params=metrics_params, \n",
    "          batch_size=256, epochs=10, gpu=True)"
   ]
  },
  {
   "cell_type": "code",
   "execution_count": null,
   "metadata": {},
   "outputs": [],
   "source": [
    "## Example using the QM9 dataset filter\n",
    "model_params = {'D_in': 17*17+17+12, \n",
    "                'H': 4096, \n",
    "                'D_out': 1, \n",
    "                'model_name': 'funnel'}\n",
    "\n",
    "ds_params = {'train_params': {#'n': 10000,\n",
    "                              'features': ['n_atoms','A','B','C','mu','alpha','homo','lumo', \n",
    "                                           'gap','r2','zpve','Cv','mulliken','coulomb'],\n",
    "                              'embeds': [],\n",
    "                              'targets': ['U0'],\n",
    "                              'pad': 17,\n",
    "                              'do_not_pad': ['n_atoms','A','B','C','mu','alpha','homo','lumo',\n",
    "                                             'gap','r2','zpve','Cv','U0'],\n",
    "                              'filter_on': ('n_atoms','<','18'),\n",
    "                              'use_pickle': False,\n",
    "                              'flatten': True}}\n",
    "\n",
    "crit_params = {'reduction': 'sum'}\n",
    "\n",
    "metrics_params = {'report_interval': 10,\n",
    "                  'log_plot': True}\n",
    "\n",
    "sample_params = {'set_seed': 88,\n",
    "                 'splits': (.7,.15)}\n",
    "\n",
    "sched_params = {'factor': .5,\n",
    "                'patience': 5,\n",
    "                'cooldown': 2}\n",
    "\n",
    "opt_params = {'lr': 0.01}\n",
    "\n",
    "l = Learn([QM9], FFNet, Selector, Optimizer=Adam, Scheduler=ReduceLROnPlateau, Criterion=L1Loss, \n",
    "          model_params=model_params, ds_params=ds_params, sample_params=sample_params,\n",
    "          opt_params=opt_params, sched_params=sched_params, crit_params=crit_params,\n",
    "          batch_size=256, epochs=30)"
   ]
  },
  {
   "cell_type": "code",
   "execution_count": null,
   "metadata": {},
   "outputs": [],
   "source": [
    "## Example using ANI1x dataset with filter and embeddings with a custom model\n",
    "model_params = {'D_in': 63*63+63*32, \n",
    "                'H': 8192, \n",
    "                'D_out': 1, \n",
    "                'model_name': 'funnel',\n",
    "                'embed_params': [('atomic_numbers',9,32,None,True)]}\n",
    "\n",
    "ds_params = {'train_params': {'features': ['distance'],\n",
    "                              'targets': ['wb97x_dz.energy'],\n",
    "                              'embeds': ['atomic_numbers'],\n",
    "                              'pad': 63, #length of the longest molecule in the dataset\n",
    "                              'flatten': True,\n",
    "                              'criterion': ['wb97x_dz.energy'],\n",
    "                              'conformation': 'max',\n",
    "                              'in_file': './data/ani1x/ani1x-release.h5'}}\n",
    "\n",
    "metrics_params = {'report_interval': 20}\n",
    "\n",
    "crit_params = {'reduction': 'sum'}\n",
    "sample_params = {'set_seed': 88,\n",
    "                 'splits': (.7,.15)}\n",
    "sched_params = {'factor': .5,\n",
    "                'patience': 5,\n",
    "                'cooldown': 5}\n",
    "opt_params = {'lr': 0.01}\n",
    "\n",
    "l = Learn([ANI1x], FFNet, Selector, Optimizer=Adam, Scheduler=ReduceLROnPlateau, Criterion=L1Loss, \n",
    "          model_params=model_params, ds_params=ds_params, sample_params=sample_params,\n",
    "          opt_params=opt_params, sched_params=sched_params, crit_params=crit_params,\n",
    "          batch_size=128, epochs=50)"
   ]
  },
  {
   "cell_type": "code",
   "execution_count": null,
   "metadata": {},
   "outputs": [],
   "source": []
  }
 ],
 "metadata": {
  "kernelspec": {
   "display_name": "Python 3",
   "language": "python",
   "name": "python3"
  },
  "language_info": {
   "codemirror_mode": {
    "name": "ipython",
    "version": 3
   },
   "file_extension": ".py",
   "mimetype": "text/x-python",
   "name": "python",
   "nbconvert_exporter": "python",
   "pygments_lexer": "ipython3",
   "version": "3.8.12"
  }
 },
 "nbformat": 4,
 "nbformat_minor": 4
}
