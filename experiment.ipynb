{
 "cells": [
  {
   "cell_type": "code",
   "execution_count": 1,
   "metadata": {},
   "outputs": [],
   "source": [
    "import sys # required for relative imports in jupyter lab\n",
    "sys.path.insert(0, '../') \n",
    "\n",
    "from cosmosis.model import FFNet\n",
    "from dataset import Dummy, QM7, QM7b, QM7X, QM9, ANI1x\n",
    "from learning import Learn, Selector\n",
    "\n",
    "from torch.optim import Adam\n",
    "from torch.nn import MSELoss, L1Loss\n",
    "from torch.optim.lr_scheduler import ReduceLROnPlateau"
   ]
  },
  {
   "cell_type": "code",
   "execution_count": 4,
   "metadata": {},
   "outputs": [
    {
     "name": "stdout",
     "output_type": "stream",
     "text": [
      "<class 'cosmosis.dataset.Dummy'> dataset created...\n",
      "epoch: 0 of 10, train loss: 4973.30256702054, val loss: 850.8762613932291, lr: 0.01\n",
      "epoch: 1 of 10, train loss: 680.6096092962449, val loss: 789.3142395019531, lr: 0.01\n",
      "epoch: 2 of 10, train loss: 582.2311371834047, val loss: 571.3934631347656, lr: 0.01\n",
      "epoch: 3 of 10, train loss: 580.1006243305821, val loss: 576.5746358235677, lr: 0.01\n",
      "epoch: 4 of 10, train loss: 463.8358843403478, val loss: 696.0574544270834, lr: 0.01\n",
      "epoch: 5 of 10, train loss: 489.81193197927166, val loss: 523.71533203125, lr: 0.01\n",
      "epoch: 6 of 10, train loss: 431.34542895901586, val loss: 523.9587809244791, lr: 0.01\n",
      "epoch: 7 of 10, train loss: 445.7092472199471, val loss: 602.2615661621094, lr: 0.01\n",
      "epoch: 8 of 10, train loss: 448.9596705282888, val loss: 386.69923909505206, lr: 0.01\n",
      "epoch: 9 of 10, train loss: 466.79100479618194, val loss: 533.9372762044271, lr: 0.01\n",
      "test loss: 362.88043212890625\n",
      "y_pred:\n",
      "tensor([[ -70.6730],\n",
      "        [  60.1609],\n",
      "        [ 110.4186],\n",
      "        [ -31.7951],\n",
      "        [  62.3671],\n",
      "        [-102.2708],\n",
      "        [ -26.3917],\n",
      "        [ -86.4346],\n",
      "        [ 275.6834],\n",
      "        [ 202.2671]], device='cuda:0')\n",
      " y:\n",
      "tensor([[ -65.9603],\n",
      "        [  55.4831],\n",
      "        [  99.1350],\n",
      "        [ -31.4017],\n",
      "        [  64.1833],\n",
      "        [-123.4614],\n",
      "        [  -1.4564],\n",
      "        [ -89.4499],\n",
      "        [ 359.9271],\n",
      "        [ 213.6703]], device='cuda:0')\n"
     ]
    },
    {
     "data": {
      "image/png": "[encoded data removed]",
      "text/plain": [
       "<Figure size 432x288 with 1 Axes>"
      ]
     },
     "metadata": {
      "needs_background": "light"
     },
     "output_type": "display_data"
    },
    {
     "name": "stdout",
     "output_type": "stream",
     "text": [
      "learning time: 0:00:06.695184\n"
     ]
    }
   ],
   "source": [
    "model_params = {'D_in': 128, \n",
    "                'H': 512, \n",
    "                'D_out': 1, \n",
    "                'model_name': 'funnel'}\n",
    "ds_params = {'make': 'make_regression',\n",
    "             'make_params': {'n_samples': 10000,\n",
    "                             'n_features': 128}}\n",
    "\n",
    "opt_params = {'lr': 0.01}\n",
    "crit_params = {'reduction': 'sum'}\n",
    "sample_params = {'set_seed': 88,\n",
    "                 'splits': (.1,.8)}\n",
    "sched_params = {'factor': .1,\n",
    "                'patience': 10}\n",
    "l = Learn(Dummy, FFNet, Selector, Optimizer=Adam, Scheduler=ReduceLROnPlateau, Criterion=MSELoss, \n",
    "          model_params=model_params, ds_params=ds_params, sample_params=sample_params,\n",
    "          opt_params=opt_params, sched_params=sched_params, crit_params=crit_params,\n",
    "          adapt=False, load_model=False, load_embed=False, save_model=False,\n",
    "          batch_size=256, epochs=10)"
   ]
  },
  {
   "cell_type": "code",
   "execution_count": 5,
   "metadata": {},
   "outputs": [
    {
     "name": "stdout",
     "output_type": "stream",
     "text": [
      "<class 'dataset.QM7'> dataset created...\n",
      "epoch: 0 of 10, train loss: 902.9903807206588, val loss: 128.99822616577148, lr: 0.01\n",
      "epoch: 1 of 10, train loss: 141.402456110174, val loss: 92.11944961547852, lr: 0.01\n",
      "epoch: 2 of 10, train loss: 161.33454721624202, val loss: 125.23654556274414, lr: 0.01\n",
      "epoch: 3 of 10, train loss: 128.29510844837534, val loss: 164.42262268066406, lr: 0.01\n",
      "epoch: 4 of 10, train loss: 114.59977583451705, val loss: 89.4122428894043, lr: 0.01\n",
      "epoch: 5 of 10, train loss: 119.39933984929866, val loss: 216.96659088134766, lr: 0.01\n",
      "epoch: 6 of 10, train loss: 102.87362220070578, val loss: 98.5996208190918, lr: 0.01\n",
      "epoch: 7 of 10, train loss: 98.37757596102628, val loss: 125.6842269897461, lr: 0.01\n",
      "epoch: 8 of 10, train loss: 117.49724058671431, val loss: 82.1800308227539, lr: 0.01\n",
      "epoch: 9 of 10, train loss: 84.1972449909557, val loss: 64.7420825958252, lr: 0.01\n",
      "test loss: 63.40692710876465\n",
      "y_pred:\n",
      "tensor([[-1654.8684],\n",
      "        [-1573.0499],\n",
      "        [-2089.8049],\n",
      "        [-1530.1493],\n",
      "        [-1517.3685],\n",
      "        [-1597.6525],\n",
      "        [-1551.0046],\n",
      "        [-1588.7565],\n",
      "        [-1518.3416],\n",
      "        [-1729.3079]], device='cuda:0')\n",
      " y:\n",
      "tensor([[-1719.6400],\n",
      "        [-1601.9600],\n",
      "        [-2060.7600],\n",
      "        [-1617.7300],\n",
      "        [-1567.6100],\n",
      "        [-1434.9301],\n",
      "        [-1565.3101],\n",
      "        [-1554.7500],\n",
      "        [-1552.9399],\n",
      "        [-1781.2900]], device='cuda:0')\n"
     ]
    },
    {
     "data": {
      "image/png": "[encoded data removed]",
      "text/plain": [
       "<Figure size 432x288 with 1 Axes>"
      ]
     },
     "metadata": {
      "needs_background": "light"
     },
     "output_type": "display_data"
    },
    {
     "name": "stdout",
     "output_type": "stream",
     "text": [
      "learning time: 0:00:07.628647\n"
     ]
    }
   ],
   "source": [
    "model_params = {'D_in': 23*23, \n",
    "                'H': 4096, \n",
    "                'D_out': 1, \n",
    "                'model_name': 'funnel'}\n",
    "ds_params = {}\n",
    "\n",
    "crit_params = {'reduction': 'sum'}\n",
    "sample_params = {'set_seed': 88,\n",
    "                 'splits': (.1,.8)}\n",
    "sched_params = {'factor': .1,\n",
    "                'patience': 10,\n",
    "                'cooldown': 10}\n",
    "opt_params = {'lr': 0.01}\n",
    "\n",
    "l = Learn(QM7, FFNet, Selector, Optimizer=Adam, Scheduler=ReduceLROnPlateau, Criterion=L1Loss, \n",
    "          model_params=model_params, ds_params=ds_params, sample_params=sample_params,\n",
    "          opt_params=opt_params, sched_params=sched_params, crit_params=crit_params,\n",
    "          adapt=False, load_model=False, load_embed=False, save_model=False, \n",
    "          batch_size=256, epochs=10)"
   ]
  },
  {
   "cell_type": "code",
   "execution_count": 6,
   "metadata": {},
   "outputs": [
    {
     "name": "stdout",
     "output_type": "stream",
     "text": [
      "<class 'dataset.QM7b'> dataset created...\n",
      "epoch: 0 of 10, train loss: 974.9116606278853, val loss: 171.5843734741211, lr: 0.01\n",
      "epoch: 1 of 10, train loss: 179.3591204556552, val loss: 128.85911560058594, lr: 0.01\n",
      "epoch: 2 of 10, train loss: 147.40245645696467, val loss: 134.98947525024414, lr: 0.01\n",
      "epoch: 3 of 10, train loss: 123.99550524624911, val loss: 132.47130584716797, lr: 0.01\n",
      "epoch: 4 of 10, train loss: 106.89513917402788, val loss: 83.88762283325195, lr: 0.01\n",
      "epoch: 5 of 10, train loss: 129.7305169539018, val loss: 86.97790145874023, lr: 0.01\n",
      "epoch: 6 of 10, train loss: 86.38439525257458, val loss: 77.63436889648438, lr: 0.01\n",
      "epoch: 7 of 10, train loss: 87.65862794355913, val loss: 103.24352645874023, lr: 0.01\n",
      "epoch: 8 of 10, train loss: 81.25455093383789, val loss: 97.09136962890625, lr: 0.01\n",
      "epoch: 9 of 10, train loss: 82.092397516424, val loss: 97.31331634521484, lr: 0.01\n",
      "test loss: 107.64485931396484\n",
      "y_pred:\n",
      "tensor([[-1923.5044],\n",
      "        [-1317.6005],\n",
      "        [-1286.8313],\n",
      "        [-1109.7346],\n",
      "        [-1959.6356],\n",
      "        [-1442.9974],\n",
      "        [-1788.2546],\n",
      "        [-1618.7051],\n",
      "        [-1711.0322],\n",
      "        [-1378.4097]], device='cuda:0')\n",
      " y:\n",
      "tensor([[-1769.3262],\n",
      "        [-1261.2832],\n",
      "        [-1305.3304],\n",
      "        [ -997.5011],\n",
      "        [-1945.0164],\n",
      "        [-1355.6421],\n",
      "        [-1689.8656],\n",
      "        [-1568.5891],\n",
      "        [-1751.8000],\n",
      "        [-1211.5886]], device='cuda:0')\n"
     ]
    },
    {
     "data": {
      "image/png": "[encoded data removed]",
      "text/plain": [
       "<Figure size 432x288 with 1 Axes>"
      ]
     },
     "metadata": {
      "needs_background": "light"
     },
     "output_type": "display_data"
    },
    {
     "name": "stdout",
     "output_type": "stream",
     "text": [
      "learning time: 0:00:12.655603\n"
     ]
    }
   ],
   "source": [
    "model_params = {'D_in': 23*23+13, \n",
    "                'H': 4096, \n",
    "                'D_out': 1, \n",
    "                'model_name': 'funnel'}\n",
    "ds_params = {'target': 'E', \n",
    "             'features': ['alpha_p','alpha_s','HOMO_g','HOMO_p','HOMO_z','LUMO_g',\n",
    "                          'LUMO_p','LUMO_z','IP','EA','E1','Emax','Imax']}\n",
    "\n",
    "crit_params = {'reduction': 'sum'}\n",
    "sample_params = {'set_seed': 88,\n",
    "                 'splits': (.1,.8)}\n",
    "sched_params = {'factor': .1,\n",
    "                'patience': 10,\n",
    "                'cooldown': 10}\n",
    "opt_params = {'lr': 0.01}\n",
    "\n",
    "l = Learn(QM7b, FFNet, Selector, Optimizer=Adam, Scheduler=ReduceLROnPlateau, Criterion=L1Loss, \n",
    "          model_params=model_params, ds_params=ds_params, sample_params=sample_params,\n",
    "          opt_params=opt_params, sched_params=sched_params, crit_params=crit_params,\n",
    "          adapt=False, load_model=False, load_embed=False, save_model=False, \n",
    "          batch_size=256, epochs=10)"
   ]
  },
  {
   "cell_type": "code",
   "execution_count": 3,
   "metadata": {},
   "outputs": [
    {
     "name": "stdout",
     "output_type": "stream",
     "text": [
      "loading QM9 datadic from a pickled copy...\n",
      "<class 'dataset.QM9'> dataset created...\n",
      "epoch: 0 of 10, train loss: 105.70489700317383, val loss: 39.10813061396281, lr: 0.01\n",
      "epoch: 1 of 10, train loss: 36.33780523300171, val loss: 32.779309590657554, lr: 0.01\n",
      "epoch: 2 of 10, train loss: 36.65473048210144, val loss: 28.320070425669353, lr: 0.01\n",
      "epoch: 3 of 10, train loss: 29.515560789108278, val loss: 24.657922585805256, lr: 0.01\n",
      "epoch: 4 of 10, train loss: 26.756547346115113, val loss: 24.439661026000977, lr: 0.01\n",
      "epoch: 5 of 10, train loss: 25.559850673675538, val loss: 21.417516946792603, lr: 0.01\n",
      "epoch: 6 of 10, train loss: 22.4435249710083, val loss: 22.963116963704426, lr: 0.01\n",
      "epoch: 7 of 10, train loss: 22.30394359588623, val loss: 19.707998752593994, lr: 0.01\n",
      "epoch: 8 of 10, train loss: 22.778602380752563, val loss: 17.18314552307129, lr: 0.01\n",
      "epoch: 9 of 10, train loss: 21.57356593132019, val loss: 17.77360685666402, lr: 0.01\n",
      "test loss: 18.835384607315063\n",
      "y_pred:\n",
      "tensor([[-346.7965],\n",
      "        [-465.2303],\n",
      "        [-532.0224],\n",
      "        [-491.1286],\n",
      "        [-356.7230],\n",
      "        [-299.4266],\n",
      "        [-411.2821],\n",
      "        [-474.2615],\n",
      "        [-302.4044],\n",
      "        [-463.1879]], device='cuda:0')\n",
      " y:\n",
      "tensor([[-347.4596],\n",
      "        [-434.5991],\n",
      "        [-518.0714],\n",
      "        [-464.9321],\n",
      "        [-341.1456],\n",
      "        [-323.3449],\n",
      "        [-414.7298],\n",
      "        [-464.9833],\n",
      "        [-319.6107],\n",
      "        [-472.6383]], device='cuda:0')\n"
     ]
    },
    {
     "data": {
      "image/png": "[encoded data removed]",
      "text/plain": [
       "<Figure size 432x288 with 1 Axes>"
      ]
     },
     "metadata": {
      "needs_background": "light"
     },
     "output_type": "display_data"
    },
    {
     "name": "stdout",
     "output_type": "stream",
     "text": [
      "learning time: 0:00:11.179532\n"
     ]
    }
   ],
   "source": [
    "model_params = {'D_in': 12*12, # nxn coulomb matrix\n",
    "                'H': 2048, \n",
    "                'D_out': 1, \n",
    "                'model_name': 'funnel'}\n",
    "ds_params = {'n': 133885, \n",
    "             'features': ['coulomb'], \n",
    "             'target': 'U0',\n",
    "             'pad': 12, \n",
    "             'filter_on': ('n_atoms','>','12'),\n",
    "             'use_pickle': 'n_atoms_less_than_12.p'}\n",
    "\n",
    "crit_params = {'reduction': 'sum'}\n",
    "sample_params = {'set_seed': 88,\n",
    "                 'splits': (.1,.8)}\n",
    "sched_params = {'factor': .1,\n",
    "                'patience': 10,\n",
    "                'cooldown': 10}\n",
    "opt_params = {'lr': 0.01}\n",
    "\n",
    "l = Learn(QM9, FFNet, Selector, Optimizer=Adam, Scheduler=ReduceLROnPlateau, Criterion=L1Loss, \n",
    "          model_params=model_params, ds_params=ds_params, sample_params=sample_params,\n",
    "          opt_params=opt_params, sched_params=sched_params, crit_params=crit_params,\n",
    "          adapt=False, load_model=False, load_embed=False, save_model=False, \n",
    "          batch_size=32, epochs=10)"
   ]
  },
  {
   "cell_type": "code",
   "execution_count": 8,
   "metadata": {},
   "outputs": [
    {
     "name": "stdout",
     "output_type": "stream",
     "text": [
      "structures loaded:  9342\n",
      "<class 'dataset.ANI1x'> dataset created...\n",
      "epoch: 0 of 10, train loss: 288.2543767667712, val loss: 90.71536193376033, lr: 0.01\n",
      "epoch: 1 of 10, train loss: 76.77653279482607, val loss: 62.282363523878814, lr: 0.01\n",
      "epoch: 2 of 10, train loss: 70.68200535311162, val loss: 61.553927547363045, lr: 0.01\n",
      "epoch: 3 of 10, train loss: 75.18646982207021, val loss: 57.3473816672755, lr: 0.01\n",
      "epoch: 4 of 10, train loss: 61.082487815667335, val loss: 76.7485863983542, lr: 0.01\n",
      "epoch: 5 of 10, train loss: 56.81468696741221, val loss: 70.8352185490401, lr: 0.01\n",
      "epoch: 6 of 10, train loss: 53.302466726828825, val loss: 72.55390398589557, lr: 0.01\n",
      "epoch: 7 of 10, train loss: 70.26793424945369, val loss: 56.38951246289791, lr: 0.01\n",
      "epoch: 8 of 10, train loss: 66.38729469272029, val loss: 49.94145043943198, lr: 0.01\n",
      "epoch: 9 of 10, train loss: 51.717379757848846, val loss: 68.23519835515881, lr: 0.01\n",
      "test loss: 79.90015571248287\n",
      "y_pred:\n",
      "tensor([[-734.0829],\n",
      "        [-471.4678],\n",
      "        [-761.2927],\n",
      "        [-579.2133],\n",
      "        [-671.7682],\n",
      "        [-434.3757],\n",
      "        [-666.9012],\n",
      "        [-434.9081],\n",
      "        [-512.2852],\n",
      "        [-907.6238]], device='cuda:0')\n",
      " y:\n",
      "tensor([[ -654.6484],\n",
      "        [ -416.3675],\n",
      "        [ -653.4579],\n",
      "        [ -492.9804],\n",
      "        [ -644.3237],\n",
      "        [ -380.8777],\n",
      "        [ -800.8476],\n",
      "        [ -445.7078],\n",
      "        [ -485.6731],\n",
      "        [-1122.5505]], device='cuda:0', dtype=torch.float64)\n"
     ]
    },
    {
     "data": {
      "image/png": "[encoded data removed]",
      "text/plain": [
       "<Figure size 432x288 with 1 Axes>"
      ]
     },
     "metadata": {
      "needs_background": "light"
     },
     "output_type": "display_data"
    },
    {
     "name": "stdout",
     "output_type": "stream",
     "text": [
      "learning time: 0:00:19.685472\n"
     ]
    }
   ],
   "source": [
    "model_params = {'D_in': 32*63+63+63+63, \n",
    "                'H': 8192, \n",
    "                'D_out': 1, \n",
    "                'model_name': 'funnel',\n",
    "                'padding_idx': 0}\n",
    "\n",
    "ds_params = {'features': ['atomic_numbers','coordinates'],\n",
    "             'targets': ['wb97x_dz.energy'],\n",
    "             'embed': [(6,32,False)],\n",
    "             'pad': 63, #length of the longest molecule in the dataset\n",
    "             'criterion': None,\n",
    "             'conformation': 'random',\n",
    "             'in_file': './data/ani1x/ani1x-release.h5'}\n",
    "\n",
    "crit_params = {'reduction': 'sum'}\n",
    "sample_params = {'set_seed': 88,\n",
    "                 'splits': (.1,.8)}\n",
    "sched_params = {'factor': .1,\n",
    "                'patience': 10,\n",
    "                'cooldown': 10}\n",
    "opt_params = {'lr': 0.01}\n",
    "\n",
    "l = Learn(ANI1x, FFNet, Selector, Optimizer=Adam, Scheduler=ReduceLROnPlateau, Criterion=L1Loss, \n",
    "          model_params=model_params, ds_params=ds_params, sample_params=sample_params,\n",
    "          opt_params=opt_params, sched_params=sched_params, crit_params=crit_params,\n",
    "          adapt=False, load_model=False, load_embed=False, save_model=False, \n",
    "          batch_size=128, epochs=10)"
   ]
  },
  {
   "cell_type": "code",
   "execution_count": null,
   "metadata": {},
   "outputs": [
    {
     "name": "stdout",
     "output_type": "stream",
     "text": [
      "mapping...  <HDF5 file \"1000.hdf5\" (mode r)>\n",
      "mapping...  <HDF5 file \"2000.hdf5\" (mode r)>\n",
      "mapping...  <HDF5 file \"3000.hdf5\" (mode r)>\n",
      "mapping...  <HDF5 file \"4000.hdf5\" (mode r)>\n",
      "mapping...  <HDF5 file \"5000.hdf5\" (mode r)>\n",
      "mapping...  <HDF5 file \"6000.hdf5\" (mode r)>\n"
     ]
    }
   ],
   "source": [
    "ds_params = {'features': ['atNUM','atXYZ'],\n",
    "             'pad': 23,\n",
    "             'targets': ['eAT'],\n",
    "             'embed': [(9,64,True)],\n",
    "             'selector': ['i1-c1-opt'],\n",
    "             'use_h5': False}\n",
    "\n",
    "model_params = {'D_in': 64*23+23+23+23, \n",
    "                'H': 4096, \n",
    "                'D_out': 1, \n",
    "                'model_name': 'funnel',\n",
    "                'padding_idx': 0}\n",
    "\n",
    "crit_params = {'reduction': 'sum'}\n",
    "sample_params = {'set_seed': 88,\n",
    "                 'splits': (.1,.8)}\n",
    "sched_params = {'factor': .1,\n",
    "                'patience': 20,\n",
    "                'cooldown': 10}\n",
    "opt_params = {'lr': 0.01}\n",
    "\n",
    "l = Learn(QM7X, FFNet, Selector, Optimizer=Adam, Scheduler=ReduceLROnPlateau, Criterion=L1Loss, \n",
    "          model_params=model_params, ds_params=ds_params, sample_params=sample_params,\n",
    "          opt_params=opt_params, sched_params=sched_params, crit_params=crit_params,\n",
    "          adapt=False, load_model=False, load_embed=False, save_model=False, \n",
    "          batch_size=256, epochs=10)\n",
    "\n",
    "#find the longest molecule\n",
    "#qm7x = QM7X(**ds_params)\n",
    "#l = 0\n",
    "#for i in qm7x.ds_idx:\n",
    "#    s = qm7x[i][0].shape.numel()\n",
    "#    if s > l:\n",
    "#        l = s\n",
    "#print(l)"
   ]
  },
  {
   "cell_type": "code",
   "execution_count": null,
   "metadata": {},
   "outputs": [],
   "source": []
  },
  {
   "cell_type": "code",
   "execution_count": null,
   "metadata": {},
   "outputs": [],
   "source": []
  }
 ],
 "metadata": {
  "kernelspec": {
   "display_name": "Python 3",
   "language": "python",
   "name": "python3"
  },
  "language_info": {
   "codemirror_mode": {
    "name": "ipython",
    "version": 3
   },
   "file_extension": ".py",
   "mimetype": "text/x-python",
   "name": "python",
   "nbconvert_exporter": "python",
   "pygments_lexer": "ipython3",
   "version": "3.7.9"
  }
 },
 "nbformat": 4,
 "nbformat_minor": 4
}
