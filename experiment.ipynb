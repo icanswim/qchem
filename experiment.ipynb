{
 "cells": [
  {
   "cell_type": "code",
   "execution_count": null,
   "metadata": {},
   "outputs": [],
   "source": [
    "# This is a series of examples using the icanswim/qchem quantum mechanic machine learning repo\n",
    "# icanswim/qchem utilizes the icanswim/cosmosis data science machine learning repo"
   ]
  },
  {
   "cell_type": "code",
   "execution_count": 1,
   "metadata": {},
   "outputs": [
    {
     "name": "stderr",
     "output_type": "stream",
     "text": [
      "RDKit WARNING: [12:18:06] Enabling RDKit 2019.09.3 jupyter extensions\n"
     ]
    }
   ],
   "source": [
    "import sys # required for relative imports in jupyter lab\n",
    "sys.path.insert(0, '../') \n",
    "\n",
    "from cosmosis.model import FFNet\n",
    "from cosmosis.dataset import SKDS\n",
    "from cosmosis.learning import Learn, Selector\n",
    "\n",
    "from dataset import QM7, QM7b, QM7X, ANI1x, QM9\n",
    "\n",
    "from torch.optim import Adam\n",
    "from torch.nn import MSELoss, L1Loss\n",
    "from torch.optim.lr_scheduler import ReduceLROnPlateau"
   ]
  },
  {
   "cell_type": "code",
   "execution_count": 2,
   "metadata": {
    "tags": []
   },
   "outputs": [
    {
     "name": "stdout",
     "output_type": "stream",
     "text": [
      "CDataset created...\n",
      "SKDS make_regression created...\n",
      "FFNet model loaded...\n",
      "CModel loaded...\n",
      "running model on gpu...\n",
      "learning time: 0:00:02.675608\n",
      "epoch: 0, lr: 0.01\n",
      "train loss: 20824.551142939814, val loss: 14140.899609375\n",
      "test loss: 433.63817138671874\n",
      "learning time: 0:00:09.297240\n"
     ]
    },
    {
     "data": {
      "image/png": "[encoded data removed]",
      "text/plain": [
       "<Figure size 432x288 with 1 Axes>"
      ]
     },
     "metadata": {
      "needs_background": "light"
     },
     "output_type": "display_data"
    }
   ],
   "source": [
    "## Example using scikit dataset wrapper SKDS and custom model\n",
    "model_params = {'D_in': 128, \n",
    "                'H': 512, \n",
    "                'D_out': 1, \n",
    "                'model_name': 'funnel'}\n",
    "\n",
    "ds_params = {'train_params': {'features': ['X'],\n",
    "                              'targets': ['y'],\n",
    "                              'features_dtype': 'float32',\n",
    "                              'targets_dtype': 'float32',\n",
    "                              'make': 'make_regression',\n",
    "                              'transform': [],\n",
    "                              'target_transform': [],\n",
    "                              'sk_params': {'n_samples': 10000,\n",
    "                                            'n_features': 128}}}\n",
    "\n",
    "metrics_params = {'report_interval': 10}\n",
    "\n",
    "opt_params = {'lr': 0.01}\n",
    "\n",
    "crit_params = {'reduction': 'sum'}\n",
    "\n",
    "sample_params = {'set_seed': 88,\n",
    "                 'splits': (.7, .15)}\n",
    "\n",
    "sched_params = {'factor': .5,\n",
    "                'patience': 2,\n",
    "                'cooldown': 1}\n",
    "\n",
    "l = Learn([SKDS], FFNet, Selector, \n",
    "          Optimizer=Adam, Scheduler=ReduceLROnPlateau, Criterion=MSELoss, \n",
    "          model_params=model_params, ds_params=ds_params, sample_params=sample_params,\n",
    "          opt_params=opt_params, sched_params=sched_params, crit_params=crit_params,\n",
    "          metrics_params=metrics_params,\n",
    "          batch_size=256, epochs=10)"
   ]
  },
  {
   "cell_type": "code",
   "execution_count": 3,
   "metadata": {
    "tags": []
   },
   "outputs": [
    {
     "name": "stdout",
     "output_type": "stream",
     "text": [
      "CDataset created...\n",
      "FFNet model loaded...\n",
      "CModel loaded...\n",
      "running model on gpu...\n",
      "learning time: 0:00:00.723529\n",
      "epoch: 0, lr: 0.01\n",
      "train loss: 1534.7806010999177, val loss: 1514.9273071289062\n",
      "test loss: 42.049471855163574\n",
      "learning time: 0:00:07.115994\n"
     ]
    },
    {
     "data": {
      "image/png": "[encoded data removed]",
      "text/plain": [
       "<Figure size 432x288 with 1 Axes>"
      ]
     },
     "metadata": {
      "needs_background": "light"
     },
     "output_type": "display_data"
    }
   ],
   "source": [
    "## Example using QM7 dataset and custom model\n",
    "model_params = {'D_in': 23*23, \n",
    "                'H': 2048, \n",
    "                'D_out': 1, \n",
    "                'model_name': 'funnel'}\n",
    "\n",
    "ds_params = {'train_params': {'features': ['coulomb'],\n",
    "                              'targets': ['ae'],\n",
    "                              'in_file': './data/qm7/qm7.mat',\n",
    "                              'flatten': True}}\n",
    "\n",
    "metrics_params = {'report_interval': 10,\n",
    "                  'log_plot': True}\n",
    "\n",
    "crit_params = {'reduction': 'sum'}\n",
    "\n",
    "sample_params = {'set_seed': 88,\n",
    "                 'splits': (.7,.15)}\n",
    "\n",
    "sched_params = {'factor': .5,\n",
    "                'patience': 3,\n",
    "                'cooldown': 2}\n",
    "\n",
    "opt_params = {'lr': 0.01}\n",
    "\n",
    "l = Learn([QM7], FFNet, Selector, \n",
    "          Optimizer=Adam, Scheduler=ReduceLROnPlateau, Criterion=L1Loss, \n",
    "          model_params=model_params, ds_params=ds_params, sample_params=sample_params,\n",
    "          opt_params=opt_params, sched_params=sched_params, crit_params=crit_params,\n",
    "          metrics_params=metrics_params,\n",
    "          batch_size=256, epochs=10)"
   ]
  },
  {
   "cell_type": "code",
   "execution_count": 4,
   "metadata": {
    "tags": []
   },
   "outputs": [
    {
     "name": "stdout",
     "output_type": "stream",
     "text": [
      "CDataset created...\n",
      "FFNet model loaded...\n",
      "CModel loaded...\n",
      "running model on gpu...\n",
      "learning time: 0:00:00.731227\n",
      "epoch: 0, lr: 0.01\n",
      "train loss: 1562.2500770970394, val loss: 1545.6566162109375\n",
      "test loss: 64.66947364807129\n",
      "learning time: 0:00:07.153299\n"
     ]
    },
    {
     "data": {
      "image/png": "[encoded data removed]",
      "text/plain": [
       "<Figure size 432x288 with 1 Axes>"
      ]
     },
     "metadata": {
      "needs_background": "light"
     },
     "output_type": "display_data"
    }
   ],
   "source": [
    "## Example using the QM7b dataset\n",
    "model_params = {'D_in': 23*23, \n",
    "                'H': 2048, \n",
    "                'D_out': 1, \n",
    "                'model_name': 'funnel'}\n",
    "\n",
    "ds_params = {'train_params': {'features': ['coulomb'],\n",
    "                              'targets': ['E'],\n",
    "                              'in_file': './data/qm7b/qm7b.mat',\n",
    "                              'flatten': True}}\n",
    "\n",
    "metrics_params = {'report_interval': 10,\n",
    "                  'log_plot': True}\n",
    "\n",
    "crit_params = {'reduction': 'sum'}\n",
    "\n",
    "sample_params = {'set_seed': 88,\n",
    "                 'splits': (.7,.15)}\n",
    "\n",
    "sched_params = {'factor': .5,\n",
    "                'patience': 3,\n",
    "                'cooldown': 2}\n",
    "\n",
    "opt_params = {'lr': 0.01}\n",
    "\n",
    "l = Learn([QM7b], FFNet, Selector, \n",
    "          Optimizer=Adam, Scheduler=ReduceLROnPlateau, Criterion=L1Loss, \n",
    "          model_params=model_params, ds_params=ds_params, sample_params=sample_params,\n",
    "          opt_params=opt_params, sched_params=sched_params, crit_params=crit_params,\n",
    "          metrics_params=metrics_params, \n",
    "          batch_size=256, epochs=10)"
   ]
  },
  {
   "cell_type": "code",
   "execution_count": null,
   "metadata": {
    "tags": []
   },
   "outputs": [],
   "source": [
    "## Find the longest molecule in the QM7X dataset\n",
    "\n",
    "features = ['DIP','HLgap','atC6','atNUM','atPOL','atXYZ','eAT','hDIP',\n",
    "            'eC','eDFTB+MBD','eEE','eH','eKIN','eKSE','eL','eMBD','eNE', \n",
    "            'eNN','ePBE0','ePBE0+MBD','eTS','eX','eXC','eXX','hCHG', \n",
    "            'hRAT','hVDIP','hVOL','mC6','mPOL','mTPOL','pbe0FOR', \n",
    "            'sMIT','sRMSD','totFOR','vDIP','vEQ','vIQ','vTQ','vdwFOR','vdwR',\n",
    "            'coulomb'] #(1110,) pad=23\n",
    "\n",
    "ds_params = {'train_params': {'features': features,\n",
    "                              'pad': 23,\n",
    "                              'targets': ['atNUM'],\n",
    "                              'as_tensor': False,\n",
    "                              #'embeds': [],\n",
    "                              'selector': ['opt'],\n",
    "                              'flatten': True}}\n",
    "\n",
    "qm7x = QM7X(**ds_params['train_params'])\n",
    "\n",
    "l, m = 0, 0\n",
    "for i in qm7x.ds_idx:\n",
    "    s = qm7x[i]['X'].shape[0]\n",
    "    if s > l:\n",
    "        l = s\n",
    "        m = i\n",
    "print('longest molecule length: ', l, m)\n",
    "print(qm7x[m]['X'].shape) \n",
    "qm7x[m]\n"
   ]
  },
  {
   "cell_type": "code",
   "execution_count": 2,
   "metadata": {
    "tags": []
   },
   "outputs": [
    {
     "name": "stdout",
     "output_type": "stream",
     "text": [
      "mapping...  <HDF5 file \"1000.hdf5\" (mode r)>\n"
     ]
    },
    {
     "ename": "KeyError",
     "evalue": "6",
     "output_type": "error",
     "traceback": [
      "\u001b[0;31m---------------------------------------------------------------------------\u001b[0m",
      "\u001b[0;31mKeyError\u001b[0m                                  Traceback (most recent call last)",
      "\u001b[0;32m<ipython-input-2-c5537c4fea44>\u001b[0m in \u001b[0;36m<module>\u001b[0;34m\u001b[0m\n\u001b[1;32m     31\u001b[0m \u001b[0mopt_params\u001b[0m \u001b[0;34m=\u001b[0m \u001b[0;34m{\u001b[0m\u001b[0;34m'lr'\u001b[0m\u001b[0;34m:\u001b[0m \u001b[0;36m0.01\u001b[0m\u001b[0;34m}\u001b[0m\u001b[0;34m\u001b[0m\u001b[0;34m\u001b[0m\u001b[0m\n\u001b[1;32m     32\u001b[0m \u001b[0;34m\u001b[0m\u001b[0m\n\u001b[0;32m---> 33\u001b[0;31m l = Learn([QM7X], FFNet, Selector, \n\u001b[0m\u001b[1;32m     34\u001b[0m           \u001b[0mOptimizer\u001b[0m\u001b[0;34m=\u001b[0m\u001b[0mAdam\u001b[0m\u001b[0;34m,\u001b[0m \u001b[0mScheduler\u001b[0m\u001b[0;34m=\u001b[0m\u001b[0mReduceLROnPlateau\u001b[0m\u001b[0;34m,\u001b[0m \u001b[0mCriterion\u001b[0m\u001b[0;34m=\u001b[0m\u001b[0mL1Loss\u001b[0m\u001b[0;34m,\u001b[0m\u001b[0;34m\u001b[0m\u001b[0;34m\u001b[0m\u001b[0m\n\u001b[1;32m     35\u001b[0m           \u001b[0mmodel_params\u001b[0m\u001b[0;34m=\u001b[0m\u001b[0mmodel_params\u001b[0m\u001b[0;34m,\u001b[0m \u001b[0mds_params\u001b[0m\u001b[0;34m=\u001b[0m\u001b[0mds_params\u001b[0m\u001b[0;34m,\u001b[0m \u001b[0msample_params\u001b[0m\u001b[0;34m=\u001b[0m\u001b[0msample_params\u001b[0m\u001b[0;34m,\u001b[0m\u001b[0;34m\u001b[0m\u001b[0;34m\u001b[0m\u001b[0m\n",
      "\u001b[0;32m~/qchem/../cosmosis/learning.py\u001b[0m in \u001b[0;36m__init__\u001b[0;34m(self, Datasets, Model, Sampler, Metrics, Optimizer, Scheduler, Criterion, ds_params, model_params, sample_params, opt_params, sched_params, crit_params, metrics_params, adapt, load_model, load_embed, save_model, batch_size, epochs, squeeze_y, gpu)\u001b[0m\n\u001b[1;32m    204\u001b[0m         \u001b[0mself\u001b[0m\u001b[0;34m.\u001b[0m\u001b[0msqueeze_y\u001b[0m \u001b[0;34m=\u001b[0m \u001b[0msqueeze_y\u001b[0m\u001b[0;34m\u001b[0m\u001b[0;34m\u001b[0m\u001b[0m\n\u001b[1;32m    205\u001b[0m         \u001b[0mself\u001b[0m\u001b[0;34m.\u001b[0m\u001b[0mds_params\u001b[0m \u001b[0;34m=\u001b[0m \u001b[0mds_params\u001b[0m\u001b[0;34m\u001b[0m\u001b[0;34m\u001b[0m\u001b[0m\n\u001b[0;32m--> 206\u001b[0;31m         \u001b[0mself\u001b[0m\u001b[0;34m.\u001b[0m\u001b[0mdataset_manager\u001b[0m\u001b[0;34m(\u001b[0m\u001b[0mDatasets\u001b[0m\u001b[0;34m,\u001b[0m \u001b[0mSampler\u001b[0m\u001b[0;34m,\u001b[0m \u001b[0mds_params\u001b[0m\u001b[0;34m,\u001b[0m \u001b[0msample_params\u001b[0m\u001b[0;34m)\u001b[0m\u001b[0;34m\u001b[0m\u001b[0;34m\u001b[0m\u001b[0m\n\u001b[0m\u001b[1;32m    207\u001b[0m \u001b[0;34m\u001b[0m\u001b[0m\n\u001b[1;32m    208\u001b[0m         \u001b[0mself\u001b[0m\u001b[0;34m.\u001b[0m\u001b[0mmetrics\u001b[0m \u001b[0;34m=\u001b[0m \u001b[0mMetrics\u001b[0m\u001b[0;34m(\u001b[0m\u001b[0;34m**\u001b[0m\u001b[0mmetrics_params\u001b[0m\u001b[0;34m)\u001b[0m\u001b[0;34m\u001b[0m\u001b[0;34m\u001b[0m\u001b[0m\n",
      "\u001b[0;32m~/qchem/../cosmosis/learning.py\u001b[0m in \u001b[0;36mdataset_manager\u001b[0;34m(self, Datasets, Sampler, ds_params, sample_params)\u001b[0m\n\u001b[1;32m    364\u001b[0m \u001b[0;34m\u001b[0m\u001b[0m\n\u001b[1;32m    365\u001b[0m         \u001b[0;32mif\u001b[0m \u001b[0mlen\u001b[0m\u001b[0;34m(\u001b[0m\u001b[0mDatasets\u001b[0m\u001b[0;34m)\u001b[0m \u001b[0;34m==\u001b[0m \u001b[0;36m1\u001b[0m\u001b[0;34m:\u001b[0m\u001b[0;34m\u001b[0m\u001b[0;34m\u001b[0m\u001b[0m\n\u001b[0;32m--> 366\u001b[0;31m             \u001b[0mself\u001b[0m\u001b[0;34m.\u001b[0m\u001b[0mtrain_ds\u001b[0m \u001b[0;34m=\u001b[0m \u001b[0mDatasets\u001b[0m\u001b[0;34m[\u001b[0m\u001b[0;36m0\u001b[0m\u001b[0;34m]\u001b[0m\u001b[0;34m(\u001b[0m\u001b[0;34m**\u001b[0m\u001b[0mds_params\u001b[0m\u001b[0;34m[\u001b[0m\u001b[0;34m'train_params'\u001b[0m\u001b[0;34m]\u001b[0m\u001b[0;34m)\u001b[0m\u001b[0;34m\u001b[0m\u001b[0;34m\u001b[0m\u001b[0m\n\u001b[0m\u001b[1;32m    367\u001b[0m             \u001b[0mself\u001b[0m\u001b[0;34m.\u001b[0m\u001b[0mval_ds\u001b[0m \u001b[0;34m=\u001b[0m \u001b[0mself\u001b[0m\u001b[0;34m.\u001b[0m\u001b[0mtest_ds\u001b[0m \u001b[0;34m=\u001b[0m \u001b[0mself\u001b[0m\u001b[0;34m.\u001b[0m\u001b[0mtrain_ds\u001b[0m\u001b[0;34m\u001b[0m\u001b[0;34m\u001b[0m\u001b[0m\n\u001b[1;32m    368\u001b[0m             self.sampler = Sampler(dataset_idx=self.train_ds.ds_idx, \n",
      "\u001b[0;32m~/qchem/dataset.py\u001b[0m in \u001b[0;36m__init__\u001b[0;34m(self, **kwargs)\u001b[0m\n\u001b[1;32m    738\u001b[0m \u001b[0;34m\u001b[0m\u001b[0m\n\u001b[1;32m    739\u001b[0m     \u001b[0;32mdef\u001b[0m \u001b[0m__init__\u001b[0m\u001b[0;34m(\u001b[0m\u001b[0mself\u001b[0m\u001b[0;34m,\u001b[0m \u001b[0;34m**\u001b[0m\u001b[0mkwargs\u001b[0m\u001b[0;34m)\u001b[0m\u001b[0;34m:\u001b[0m\u001b[0;34m\u001b[0m\u001b[0;34m\u001b[0m\u001b[0m\n\u001b[0;32m--> 740\u001b[0;31m         \u001b[0msuper\u001b[0m\u001b[0;34m(\u001b[0m\u001b[0;34m)\u001b[0m\u001b[0;34m.\u001b[0m\u001b[0m__init__\u001b[0m\u001b[0;34m(\u001b[0m\u001b[0;34m**\u001b[0m\u001b[0mkwargs\u001b[0m\u001b[0;34m)\u001b[0m\u001b[0;34m\u001b[0m\u001b[0;34m\u001b[0m\u001b[0m\n\u001b[0m\u001b[1;32m    741\u001b[0m \u001b[0;34m\u001b[0m\u001b[0m\n\u001b[1;32m    742\u001b[0m     \u001b[0;32mdef\u001b[0m \u001b[0m__getitem__\u001b[0m\u001b[0;34m(\u001b[0m\u001b[0mself\u001b[0m\u001b[0;34m,\u001b[0m \u001b[0mi\u001b[0m\u001b[0;34m)\u001b[0m\u001b[0;34m:\u001b[0m\u001b[0;34m\u001b[0m\u001b[0;34m\u001b[0m\u001b[0m\n",
      "\u001b[0;32m~/qchem/../cosmosis/dataset.py\u001b[0m in \u001b[0;36m__init__\u001b[0;34m(self, features, targets, embeds, transform, target_transform, pad, flatten, pad_feats, as_tensor, **kwargs)\u001b[0m\n\u001b[1;32m     39\u001b[0m         \u001b[0mself\u001b[0m\u001b[0;34m.\u001b[0m\u001b[0mpad\u001b[0m\u001b[0;34m,\u001b[0m \u001b[0mself\u001b[0m\u001b[0;34m.\u001b[0m\u001b[0mpad_feats\u001b[0m \u001b[0;34m=\u001b[0m \u001b[0mpad\u001b[0m\u001b[0;34m,\u001b[0m \u001b[0mpad_feats\u001b[0m\u001b[0;34m\u001b[0m\u001b[0;34m\u001b[0m\u001b[0m\n\u001b[1;32m     40\u001b[0m         \u001b[0mself\u001b[0m\u001b[0;34m.\u001b[0m\u001b[0mflatten\u001b[0m\u001b[0;34m,\u001b[0m \u001b[0mself\u001b[0m\u001b[0;34m.\u001b[0m\u001b[0mas_tensor\u001b[0m \u001b[0;34m=\u001b[0m \u001b[0mflatten\u001b[0m\u001b[0;34m,\u001b[0m \u001b[0mas_tensor\u001b[0m\u001b[0;34m\u001b[0m\u001b[0;34m\u001b[0m\u001b[0m\n\u001b[0;32m---> 41\u001b[0;31m         \u001b[0mself\u001b[0m\u001b[0;34m.\u001b[0m\u001b[0mds\u001b[0m \u001b[0;34m=\u001b[0m \u001b[0mself\u001b[0m\u001b[0;34m.\u001b[0m\u001b[0mload_data\u001b[0m\u001b[0;34m(\u001b[0m\u001b[0;34m**\u001b[0m\u001b[0mkwargs\u001b[0m\u001b[0;34m)\u001b[0m\u001b[0;34m\u001b[0m\u001b[0;34m\u001b[0m\u001b[0m\n\u001b[0m\u001b[1;32m     42\u001b[0m         \u001b[0;32mif\u001b[0m \u001b[0;32mnot\u001b[0m \u001b[0mhasattr\u001b[0m\u001b[0;34m(\u001b[0m\u001b[0mself\u001b[0m\u001b[0;34m,\u001b[0m \u001b[0;34m'ds_idx'\u001b[0m\u001b[0;34m)\u001b[0m\u001b[0;34m:\u001b[0m\u001b[0;34m\u001b[0m\u001b[0;34m\u001b[0m\u001b[0m\n\u001b[1;32m     43\u001b[0m             \u001b[0;32mtry\u001b[0m\u001b[0;34m:\u001b[0m\u001b[0;34m\u001b[0m\u001b[0;34m\u001b[0m\u001b[0m\n",
      "\u001b[0;32m~/qchem/dataset.py\u001b[0m in \u001b[0;36mload_data\u001b[0;34m(self, selector, in_dir)\u001b[0m\n\u001b[1;32m    828\u001b[0m                             \u001b[0;32mif\u001b[0m \u001b[0mre\u001b[0m\u001b[0;34m.\u001b[0m\u001b[0msearch\u001b[0m\u001b[0;34m(\u001b[0m\u001b[0mattr\u001b[0m\u001b[0;34m,\u001b[0m \u001b[0midconf\u001b[0m\u001b[0;34m)\u001b[0m\u001b[0;34m:\u001b[0m\u001b[0;34m\u001b[0m\u001b[0;34m\u001b[0m\u001b[0m\n\u001b[1;32m    829\u001b[0m                                 \u001b[0mstructure_count\u001b[0m \u001b[0;34m+=\u001b[0m \u001b[0;36m1\u001b[0m\u001b[0;34m\u001b[0m\u001b[0;34m\u001b[0m\u001b[0m\n\u001b[0;32m--> 830\u001b[0;31m                                 features = self._load_features(f[idmol][idconf], \n\u001b[0m\u001b[1;32m    831\u001b[0m                                                                self.features+self.targets+self.embeds)\n\u001b[1;32m    832\u001b[0m                                 \u001b[0mdatadic\u001b[0m\u001b[0;34m[\u001b[0m\u001b[0mint\u001b[0m\u001b[0;34m(\u001b[0m\u001b[0midmol\u001b[0m\u001b[0;34m)\u001b[0m\u001b[0;34m]\u001b[0m\u001b[0;34m[\u001b[0m\u001b[0midconf\u001b[0m\u001b[0;34m]\u001b[0m \u001b[0;34m=\u001b[0m \u001b[0mfeatures\u001b[0m\u001b[0;34m\u001b[0m\u001b[0;34m\u001b[0m\u001b[0m\n",
      "\u001b[0;32m~/qchem/dataset.py\u001b[0m in \u001b[0;36m_load_features\u001b[0;34m(self, mol, features, dtype)\u001b[0m\n\u001b[1;32m    797\u001b[0m                 \u001b[0mdistance\u001b[0m \u001b[0;34m=\u001b[0m \u001b[0msp\u001b[0m\u001b[0;34m.\u001b[0m\u001b[0mdistance\u001b[0m\u001b[0;34m.\u001b[0m\u001b[0msquareform\u001b[0m\u001b[0;34m(\u001b[0m\u001b[0msp\u001b[0m\u001b[0;34m.\u001b[0m\u001b[0mdistance\u001b[0m\u001b[0;34m.\u001b[0m\u001b[0mpdist\u001b[0m\u001b[0;34m(\u001b[0m\u001b[0mout\u001b[0m\u001b[0;34m)\u001b[0m\u001b[0;34m)\u001b[0m\u001b[0;34m\u001b[0m\u001b[0;34m\u001b[0m\u001b[0m\n\u001b[1;32m    798\u001b[0m                 \u001b[0matomic_n\u001b[0m \u001b[0;34m=\u001b[0m \u001b[0mmol\u001b[0m\u001b[0;34m[\u001b[0m\u001b[0;34m'atNUM'\u001b[0m\u001b[0;34m]\u001b[0m\u001b[0;34m[\u001b[0m\u001b[0;34m(\u001b[0m\u001b[0;34m)\u001b[0m\u001b[0;34m]\u001b[0m\u001b[0;34m\u001b[0m\u001b[0;34m\u001b[0m\u001b[0m\n\u001b[0;32m--> 799\u001b[0;31m                 \u001b[0mout\u001b[0m \u001b[0;34m=\u001b[0m \u001b[0mself\u001b[0m\u001b[0;34m.\u001b[0m\u001b[0mcreate_coulomb\u001b[0m\u001b[0;34m(\u001b[0m\u001b[0mdistance\u001b[0m\u001b[0;34m,\u001b[0m \u001b[0matomic_n\u001b[0m\u001b[0;34m)\u001b[0m\u001b[0;34m\u001b[0m\u001b[0;34m\u001b[0m\u001b[0m\n\u001b[0m\u001b[1;32m    800\u001b[0m             \u001b[0;32melse\u001b[0m\u001b[0;34m:\u001b[0m\u001b[0;34m\u001b[0m\u001b[0;34m\u001b[0m\u001b[0m\n\u001b[1;32m    801\u001b[0m                 \u001b[0mout\u001b[0m \u001b[0;34m=\u001b[0m \u001b[0mmol\u001b[0m\u001b[0;34m[\u001b[0m\u001b[0mf\u001b[0m\u001b[0;34m]\u001b[0m\u001b[0;34m[\u001b[0m\u001b[0;34m(\u001b[0m\u001b[0;34m)\u001b[0m\u001b[0;34m]\u001b[0m\u001b[0;34m\u001b[0m\u001b[0;34m\u001b[0m\u001b[0m\n",
      "\u001b[0;32m~/qchem/dataset.py\u001b[0m in \u001b[0;36mcreate_coulomb\u001b[0;34m(self, distance, atom_types, sigma)\u001b[0m\n\u001b[1;32m    162\u001b[0m         \u001b[0matoms\u001b[0m \u001b[0;34m=\u001b[0m \u001b[0;34m[\u001b[0m\u001b[0;34m]\u001b[0m\u001b[0;34m\u001b[0m\u001b[0;34m\u001b[0m\u001b[0m\n\u001b[1;32m    163\u001b[0m         \u001b[0;32mfor\u001b[0m \u001b[0matom\u001b[0m \u001b[0;32min\u001b[0m \u001b[0matom_types\u001b[0m\u001b[0;34m:\u001b[0m\u001b[0;34m\u001b[0m\u001b[0;34m\u001b[0m\u001b[0m\n\u001b[0;32m--> 164\u001b[0;31m             \u001b[0matoms\u001b[0m\u001b[0;34m.\u001b[0m\u001b[0mappend\u001b[0m\u001b[0;34m(\u001b[0m\u001b[0mMolecule\u001b[0m\u001b[0;34m.\u001b[0m\u001b[0mlookup\u001b[0m\u001b[0;34m[\u001b[0m\u001b[0;34m'atomic_n'\u001b[0m\u001b[0;34m]\u001b[0m\u001b[0;34m[\u001b[0m\u001b[0matom\u001b[0m\u001b[0;34m]\u001b[0m\u001b[0;34m)\u001b[0m\u001b[0;34m\u001b[0m\u001b[0;34m\u001b[0m\u001b[0m\n\u001b[0m\u001b[1;32m    165\u001b[0m         \u001b[0matoms\u001b[0m \u001b[0;34m=\u001b[0m \u001b[0mnp\u001b[0m\u001b[0;34m.\u001b[0m\u001b[0masarray\u001b[0m\u001b[0;34m(\u001b[0m\u001b[0matoms\u001b[0m\u001b[0;34m,\u001b[0m \u001b[0mdtype\u001b[0m\u001b[0;34m=\u001b[0m\u001b[0;34m'float32'\u001b[0m\u001b[0;34m)\u001b[0m\u001b[0;34m\u001b[0m\u001b[0;34m\u001b[0m\u001b[0m\n\u001b[1;32m    166\u001b[0m         \u001b[0mqmat\u001b[0m \u001b[0;34m=\u001b[0m \u001b[0matoms\u001b[0m\u001b[0;34m[\u001b[0m\u001b[0;32mNone\u001b[0m\u001b[0;34m,\u001b[0m \u001b[0;34m:\u001b[0m\u001b[0;34m]\u001b[0m\u001b[0;34m*\u001b[0m\u001b[0matoms\u001b[0m\u001b[0;34m[\u001b[0m\u001b[0;34m:\u001b[0m\u001b[0;34m,\u001b[0m \u001b[0;32mNone\u001b[0m\u001b[0;34m]\u001b[0m\u001b[0;34m\u001b[0m\u001b[0;34m\u001b[0m\u001b[0m\n",
      "\u001b[0;31mKeyError\u001b[0m: 6"
     ]
    }
   ],
   "source": [
    "## Example using the QM7X dataset and custom model with embeddings\n",
    "model_params = {'D_in': 1109,\n",
    "                'H': 2048, \n",
    "                'D_out': 1, \n",
    "                'model_name': 'funnel'}\n",
    "\n",
    "ds_params = {'train_params': {'features': ['DIP','HLgap','atC6','atNUM','atPOL','atXYZ','hDIP',\n",
    "                                           'eC','eDFTB+MBD','eEE','eH','eKIN','eKSE','eL','eMBD','eNE', \n",
    "                                           'eNN','ePBE0','ePBE0+MBD','eTS','eX','eXC','eXX','hCHG', \n",
    "                                           'hRAT','hVDIP','hVOL','mC6','mPOL','mTPOL','pbe0FOR', \n",
    "                                           'sMIT','sRMSD','totFOR','vDIP','vEQ','vIQ','vTQ','vdwFOR','vdwR',\n",
    "                                           'coulomb'],\n",
    "                              'pad': 23,\n",
    "                              'targets': ['eAT'],\n",
    "                              #'embeds': [],\n",
    "                              'selector': ['opt'],\n",
    "                              'flatten': True}}\n",
    "\n",
    "metrics_params = {'report_interval': 10,\n",
    "                  'log_plot': True}\n",
    "\n",
    "crit_params = {'reduction': 'sum'}\n",
    "\n",
    "sample_params = {'set_seed': 88,\n",
    "                 'splits': (.7,.15)}\n",
    "\n",
    "sched_params = {'factor': .5,\n",
    "                'patience': 5,\n",
    "                'cooldown': 2}\n",
    "\n",
    "opt_params = {'lr': 0.01}\n",
    "\n",
    "l = Learn([QM7X], FFNet, Selector, \n",
    "          Optimizer=Adam, Scheduler=ReduceLROnPlateau, Criterion=L1Loss, \n",
    "          model_params=model_params, ds_params=ds_params, sample_params=sample_params,\n",
    "          opt_params=opt_params, sched_params=sched_params, crit_params=crit_params,\n",
    "          metrics_params=metrics_params,\n",
    "          batch_size=256, epochs=10)"
   ]
  },
  {
   "cell_type": "code",
   "execution_count": 6,
   "metadata": {
    "tags": []
   },
   "outputs": [
    {
     "name": "stdout",
     "output_type": "stream",
     "text": [
      "creating QM9 dataset...\n",
      "molecules scanned:  1\n",
      "molecules created:  1\n",
      "molecules scanned:  1001\n",
      "molecules created:  1001\n",
      "total molecules scanned:  2000\n",
      "total uncharacterized molecules removed:  53\n",
      "total molecules created:  1947\n",
      "CDataset created...\n",
      "FFNet model loaded...\n",
      "CModel loaded...\n",
      "running model on gpu...\n",
      "learning time: 0:00:00.628995\n",
      "epoch: 0, lr: 0.01\n",
      "train loss: 306.5719787597656, val loss: 311.2166748046875\n",
      "learning time: 0:00:06.618931\n",
      "epoch: 10, lr: 0.01\n",
      "train loss: 281.5822448730469, val loss: 282.75885009765625\n",
      "learning time: 0:00:12.634732\n",
      "epoch: 20, lr: 0.01\n",
      "train loss: 179.5981689453125, val loss: 176.58367919921875\n",
      "test loss: 19.023639678955078\n",
      "learning time: 0:00:18.344656\n"
     ]
    },
    {
     "data": {
      "image/png": "[encoded data removed]",
      "text/plain": [
       "<Figure size 432x288 with 1 Axes>"
      ]
     },
     "metadata": {
      "needs_background": "light"
     },
     "output_type": "display_data"
    }
   ],
   "source": [
    "## Example using the QM9 dataset filter\n",
    "model_params = {'D_in': 14, \n",
    "                'H': 256, \n",
    "                'D_out': 1, \n",
    "                'model_name': 'funnel',\n",
    "               # 'embed_params': [('hybridization',9,16,0,True),('chirality',9,16,0,True)]\n",
    "               }\n",
    "\n",
    "rdkit_features = ['atom_types','atomic_numbers','aromatic','chirality','degree',\n",
    "                  'charge','n_hs','n_rads','hybridization','edge_indices','edge_attr',\n",
    "                  'rdmol_block','n_atoms']\n",
    "\n",
    "qm9_features = ['A','B','C','mu','alpha','homo','lumo', \n",
    "                'gap','r2','zpve','U0','U','H','G','Cv',\n",
    "                'smile','n_atoms']\n",
    "\n",
    "\n",
    "ds_params = {'train_params': {'n': 2000,\n",
    "                              'db': 'qm9',\n",
    "                              'n_conformers': 1,\n",
    "                              'features': ['A','B','C','mu','alpha','homo','lumo', \n",
    "                                           'gap','r2','zpve','U','H','G','Cv'],\n",
    "                              #'embeds': ['hybridization','chirality'],\n",
    "                              'targets': ['U0'],\n",
    "                              'pad': 23,\n",
    "                              'pad_feats': ['mulliken','coulomb','aromatic','degree',\n",
    "                                            'charge','n_hs','n_rads'],\n",
    "                              'as_tensor': True,\n",
    "                              #'filter_on': ('n_atoms','<','18'),\n",
    "                              'use_pickle': False,\n",
    "                              'flatten': True}}\n",
    "\n",
    "\n",
    "metrics_params = {'report_interval': 10,\n",
    "                  'log_plot': True}\n",
    "\n",
    "crit_params = {'reduction': 'sum'}\n",
    "\n",
    "sample_params = {'set_seed': 88,\n",
    "                 'splits': (.7,.15),\n",
    "                 #'subset': .1\n",
    "                }\n",
    "\n",
    "sched_params = {'factor': .5,\n",
    "                'patience': 5,\n",
    "                'cooldown': 2}\n",
    "\n",
    "opt_params = {'lr': 0.01}\n",
    "\n",
    "l = Learn([QM9], FFNet, Selector, Optimizer=Adam, Scheduler=ReduceLROnPlateau, Criterion=L1Loss, \n",
    "          model_params=model_params, ds_params=ds_params, sample_params=sample_params,\n",
    "          opt_params=opt_params, sched_params=sched_params, crit_params=crit_params,\n",
    "          batch_size=256, epochs=30)"
   ]
  },
  {
   "cell_type": "code",
   "execution_count": 3,
   "metadata": {
    "tags": []
   },
   "outputs": [
    {
     "name": "stdout",
     "output_type": "stream",
     "text": [
      "molecules loaded:  1000\n",
      "molecules loaded:  2000\n",
      "molecules loaded:  3000\n",
      "molecules loaded:  3114\n",
      "CDataset created...\n",
      "FFNet model loaded...\n",
      "CModel loaded...\n",
      "running model on gpu...\n",
      "learning time: 0:00:04.069467\n",
      "epoch: 0, lr: 0.01\n",
      "train loss: 564.0651604147519, val loss: 529.5058797200521\n",
      "learning time: 0:00:14.388594\n",
      "epoch: 7, lr: 0.01\n",
      "train loss: 48.80809739056755, val loss: 51.70656967163086\n",
      "learning time: 0:00:18.777116\n",
      "epoch: 10, lr: 0.01\n",
      "train loss: 44.25129699707031, val loss: 43.073567708333336\n",
      "learning time: 0:00:29.088694\n",
      "epoch: 17, lr: 0.01\n",
      "train loss: 37.52554792516372, val loss: 42.79740905761719\n",
      "learning time: 0:00:33.553579\n",
      "epoch: 20, lr: 0.005\n",
      "train loss: 42.09105323342716, val loss: 49.96151987711588\n",
      "learning time: 0:00:43.822815\n",
      "epoch: 27, lr: 0.005\n",
      "train loss: 30.629151849185718, val loss: 35.1195920308431\n",
      "learning time: 0:00:48.224590\n",
      "epoch: 30, lr: 0.005\n",
      "train loss: 28.058291154749252, val loss: 34.45256233215332\n",
      "learning time: 0:00:58.898032\n",
      "epoch: 37, lr: 0.005\n",
      "train loss: 29.77003501443302, val loss: 35.81129837036133\n",
      "learning time: 0:01:03.443679\n",
      "epoch: 40, lr: 0.005\n",
      "train loss: 27.321358849020566, val loss: 31.69996706644694\n",
      "learning time: 0:01:13.823556\n",
      "epoch: 47, lr: 0.0025\n",
      "train loss: 27.092161178588867, val loss: 31.844757080078125\n",
      "test loss: 32.309255599975586\n",
      "learning time: 0:01:17.168922\n"
     ]
    },
    {
     "data": {
      "image/png": "[encoded data removed]",
      "text/plain": [
       "<Figure size 432x288 with 1 Axes>"
      ]
     },
     "metadata": {
      "needs_background": "light"
     },
     "output_type": "display_data"
    }
   ],
   "source": [
    "## Example using ANI1x dataset with filter and embeddings with a custom model\n",
    "model_params = {'D_in': 63*63+63, \n",
    "                'H': 8192, \n",
    "                'D_out': 1, \n",
    "                'model_name': 'funnel'\n",
    "               }\n",
    "\n",
    "ds_params = {'train_params': {'features': ['distance','atomic_numbers'],\n",
    "                              'targets': ['wb97x_dz.energy'],\n",
    "                              'pad_feats': ['distance','atomic_numbers'],\n",
    "                              'pad': 63, #length of the longest molecule in the dataset\n",
    "                              'flatten': True,\n",
    "                              'criterion': ['wb97x_dz.energy'],\n",
    "                              'conformation': 'max',\n",
    "                              'in_file': './data/ani1x/ani1x-release.h5'}}\n",
    "\n",
    "metrics_params = {'report_interval': 20}\n",
    "\n",
    "crit_params = {'reduction': 'sum'}\n",
    "sample_params = {'set_seed': 88,\n",
    "                 'splits': (.7,.15)}\n",
    "sched_params = {'factor': .5,\n",
    "                'patience': 5,\n",
    "                'cooldown': 5}\n",
    "opt_params = {'lr': 0.01}\n",
    "\n",
    "l = Learn([ANI1x], FFNet, Selector, Optimizer=Adam, Scheduler=ReduceLROnPlateau, Criterion=L1Loss, \n",
    "          model_params=model_params, ds_params=ds_params, sample_params=sample_params,\n",
    "          opt_params=opt_params, sched_params=sched_params, crit_params=crit_params,\n",
    "          batch_size=128, epochs=10)"
   ]
  },
  {
   "cell_type": "code",
   "execution_count": null,
   "metadata": {},
   "outputs": [],
   "source": []
  }
 ],
 "metadata": {
  "kernelspec": {
   "display_name": "Python 3",
   "language": "python",
   "name": "python3"
  },
  "language_info": {
   "codemirror_mode": {
    "name": "ipython",
    "version": 3
   },
   "file_extension": ".py",
   "mimetype": "text/x-python",
   "name": "python",
   "nbconvert_exporter": "python",
   "pygments_lexer": "ipython3",
   "version": "3.8.12"
  }
 },
 "nbformat": 4,
 "nbformat_minor": 4
}
