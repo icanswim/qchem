{
 "cells": [
  {
   "cell_type": "code",
   "execution_count": null,
   "metadata": {},
   "outputs": [],
   "source": [
    "# This is a series of examples using the icanswim/qchem quantum mechanic machine learning repo\n",
    "# icanswim/qchem utilizes the icanswim/cosmosis data science machine learning repo"
   ]
  },
  {
   "cell_type": "code",
   "execution_count": 1,
   "metadata": {},
   "outputs": [
    {
     "name": "stderr",
     "output_type": "stream",
     "text": [
      "RDKit WARNING: [19:39:27] Enabling RDKit 2019.09.3 jupyter extensions\n"
     ]
    }
   ],
   "source": [
    "import sys # required for relative imports in jupyter lab\n",
    "sys.path.insert(0, '../') \n",
    "\n",
    "from cosmosis.model import FFNet\n",
    "from cosmosis.dataset import SKDS\n",
    "from cosmosis.learning import Learn, Selector\n",
    "\n",
    "from dataset import QM7, QM7b, QM7X, QM9, ANI1x\n",
    "\n",
    "from torch.optim import Adam\n",
    "from torch.nn import MSELoss, L1Loss\n",
    "from torch.optim.lr_scheduler import ReduceLROnPlateau"
   ]
  },
  {
   "cell_type": "code",
   "execution_count": 2,
   "metadata": {},
   "outputs": [
    {
     "name": "stdout",
     "output_type": "stream",
     "text": [
      "CDataset created...\n",
      "SKDS make_regression created...\n",
      "FFNet model loaded...\n",
      "CModel loaded...\n",
      "running model on gpu...\n",
      "learning time: 0:00:02.557831\n",
      "epoch: 0, lr: 0.01\n",
      "train loss: 3359.8147356951677, val loss: 1100.2727783203125\n",
      "learning time: 0:00:09.906653\n",
      "epoch: 10, lr: 0.005\n",
      "train loss: 126.48715266474971, val loss: 131.93219146728515\n",
      "test loss: 77.67417068481446\n",
      "learning time: 0:00:16.833879\n"
     ]
    },
    {
     "data": {
      "image/png": "[encoded data removed]",
      "text/plain": [
       "<Figure size 432x288 with 1 Axes>"
      ]
     },
     "metadata": {
      "needs_background": "light"
     },
     "output_type": "display_data"
    }
   ],
   "source": [
    "## Example using scikit dataset wrapper SKDS and custom model\n",
    "model_params = {'D_in': 128, \n",
    "                'H': 512, \n",
    "                'D_out': 1, \n",
    "                'model_name': 'funnel'}\n",
    "\n",
    "ds_params = {'train_params': {'features': ['X'],\n",
    "                              'targets': ['y'],\n",
    "                              'features_dtype': 'float32',\n",
    "                              'targets_dtype': 'float32',\n",
    "                              'make': 'make_regression',\n",
    "                              'transform': [],\n",
    "                              'target_transform': [],\n",
    "                              'sk_params': {'n_samples': 10000,\n",
    "                                            'n_features': 128}}}\n",
    "\n",
    "metrics_params = {'report_interval': 10}\n",
    "\n",
    "opt_params = {'lr': 0.01}\n",
    "\n",
    "crit_params = {'reduction': 'sum'}\n",
    "\n",
    "sample_params = {'set_seed': 88,\n",
    "                 'splits': (.7, .15)}\n",
    "\n",
    "sched_params = {'factor': .5,\n",
    "                'patience': 2,\n",
    "                'cooldown': 1}\n",
    "\n",
    "l = Learn([SKDS], FFNet, Selector, \n",
    "          Optimizer=Adam, Scheduler=ReduceLROnPlateau, Criterion=MSELoss, \n",
    "          model_params=model_params, ds_params=ds_params, sample_params=sample_params,\n",
    "          opt_params=opt_params, sched_params=sched_params, crit_params=crit_params,\n",
    "          metrics_params=metrics_params,\n",
    "          batch_size=256, epochs=20)"
   ]
  },
  {
   "cell_type": "code",
   "execution_count": 3,
   "metadata": {},
   "outputs": [
    {
     "name": "stdout",
     "output_type": "stream",
     "text": [
      "CDataset created...\n",
      "FFNet model loaded...\n",
      "CModel loaded...\n",
      "running model on gpu...\n",
      "learning time: 0:00:01.203216\n",
      "epoch: 0, lr: 0.01\n",
      "train loss: 1531.2533151726973, val loss: 1501.4515991210938\n",
      "learning time: 0:00:10.719077\n",
      "epoch: 10, lr: 0.01\n",
      "train loss: 35.654843982897304, val loss: 34.092692375183105\n",
      "test loss: 31.846909999847412\n",
      "learning time: 0:00:19.606586\n"
     ]
    },
    {
     "data": {
      "image/png": "[encoded data removed]",
      "text/plain": [
       "<Figure size 432x288 with 1 Axes>"
      ]
     },
     "metadata": {
      "needs_background": "light"
     },
     "output_type": "display_data"
    }
   ],
   "source": [
    "## Example using QM7 dataset and custom model with embeddings\n",
    "model_params = {'D_in': 23*23+23*32, \n",
    "                'H': 4096, \n",
    "                'D_out': 1, \n",
    "                'model_name': 'funnel',\n",
    "                'embed_params': [('atoms',7,32,None,True)]}\n",
    "\n",
    "ds_params = {'train_params': {'features': ['coulomb'],\n",
    "                              'targets': ['ae'],\n",
    "                              'embeds': ['atoms'],\n",
    "                              'in_file': './data/qm7/qm7.mat',\n",
    "                              'flatten': True}}\n",
    "\n",
    "metrics_params = {'report_interval': 10}\n",
    "\n",
    "crit_params = {'reduction': 'sum'}\n",
    "\n",
    "sample_params = {'set_seed': 88,\n",
    "                 'splits': (.7,.15)}\n",
    "\n",
    "sched_params = {'factor': .5,\n",
    "                'patience': 2,\n",
    "                'cooldown': 1}\n",
    "\n",
    "opt_params = {'lr': 0.01}\n",
    "\n",
    "l = Learn([QM7], FFNet, Selector, \n",
    "          Optimizer=Adam, Scheduler=ReduceLROnPlateau, Criterion=L1Loss, \n",
    "          model_params=model_params, ds_params=ds_params, sample_params=sample_params,\n",
    "          opt_params=opt_params, sched_params=sched_params, crit_params=crit_params,\n",
    "          metrics_params=metrics_params,\n",
    "          batch_size=256, epochs=20)"
   ]
  },
  {
   "cell_type": "code",
   "execution_count": 2,
   "metadata": {},
   "outputs": [
    {
     "name": "stdout",
     "output_type": "stream",
     "text": [
      "CDataset created...\n",
      "FFNet model loaded...\n",
      "CModel loaded...\n",
      "running model on gpu...\n",
      "learning time: 0:00:04.304714\n",
      "epoch: 0, lr: 0.01\n",
      "train loss: 1562.3330013877467, val loss: 1545.7503051757812\n",
      "learning time: 0:00:09.138670\n",
      "epoch: 10, lr: 0.01\n",
      "train loss: 56.058465455707754, val loss: 63.240118980407715\n",
      "test loss: 54.08337879180908\n",
      "learning time: 0:00:13.635765\n"
     ]
    },
    {
     "data": {
      "image/png": "[encoded data removed]",
      "text/plain": [
       "<Figure size 432x288 with 1 Axes>"
      ]
     },
     "metadata": {
      "needs_background": "light"
     },
     "output_type": "display_data"
    }
   ],
   "source": [
    "## Example using the QM7b dataset\n",
    "model_params = {'D_in': 23*23, \n",
    "                'H': 2048, \n",
    "                'D_out': 1, \n",
    "                'model_name': 'funnel'}\n",
    "\n",
    "ds_params = {'train_params': {'features': ['coulomb'],\n",
    "                              'targets': ['E'],\n",
    "                              'in_file': './data/qm7b/qm7b.mat',\n",
    "                              'flatten': True}}\n",
    "\n",
    "metrics_params = {'report_interval': 10,\n",
    "                  'log_plot': False}\n",
    "\n",
    "crit_params = {'reduction': 'sum'}\n",
    "\n",
    "sample_params = {'set_seed': 88,\n",
    "                 'splits': (.7,.15)}\n",
    "\n",
    "sched_params = {'factor': .5,\n",
    "                'patience': 5,\n",
    "                'cooldown': 2}\n",
    "\n",
    "opt_params = {'lr': 0.01}\n",
    "\n",
    "l = Learn([QM7b], FFNet, Selector, \n",
    "          Optimizer=Adam, Scheduler=ReduceLROnPlateau, Criterion=L1Loss, \n",
    "          model_params=model_params, ds_params=ds_params, sample_params=sample_params,\n",
    "          opt_params=opt_params, sched_params=sched_params, crit_params=crit_params,\n",
    "          metrics_params=metrics_params, \n",
    "          batch_size=256, epochs=20)"
   ]
  },
  {
   "cell_type": "code",
   "execution_count": 3,
   "metadata": {},
   "outputs": [
    {
     "name": "stdout",
     "output_type": "stream",
     "text": [
      "mapping...  <HDF5 file \"1000.hdf5\" (mode r)>\n",
      "mapping...  <HDF5 file \"2000.hdf5\" (mode r)>\n",
      "mapping...  <HDF5 file \"3000.hdf5\" (mode r)>\n",
      "mapping...  <HDF5 file \"4000.hdf5\" (mode r)>\n",
      "mapping...  <HDF5 file \"5000.hdf5\" (mode r)>\n",
      "mapping...  <HDF5 file \"6000.hdf5\" (mode r)>\n",
      "mapping...  <HDF5 file \"7000.hdf5\" (mode r)>\n",
      "mapping...  <HDF5 file \"8000.hdf5\" (mode r)>\n",
      "molecular formula (idmol) mapped:  6950\n",
      "total molecular structures (idconf) mapped:  41537\n",
      "CDataset created...\n",
      "longest molecule length:  23\n"
     ]
    },
    {
     "data": {
      "text/plain": [
       "(array([6., 1., 1., 1., 1.], dtype=float32), [], [])"
      ]
     },
     "execution_count": 3,
     "metadata": {},
     "output_type": "execute_result"
    }
   ],
   "source": [
    "## Find the longest molecule in the QM7X dataset\n",
    "ds_params = {'train_params': {'features': ['atNUM'],\n",
    "                              'pad': None,\n",
    "                              'targets': [],\n",
    "                              'embeds': [],\n",
    "                              'selector': ['opt']}}\n",
    "\n",
    "qm7x = QM7X(**ds_params['train_params'])\n",
    "l = 0\n",
    "for i in qm7x.ds_idx:\n",
    "    s = qm7x[i][0].shape[0]\n",
    "    if s > l:\n",
    "        l = s\n",
    "print('longest molecule length: ', l)\n",
    "\n",
    "qm7x[1]"
   ]
  },
  {
   "cell_type": "code",
   "execution_count": 5,
   "metadata": {},
   "outputs": [
    {
     "name": "stdout",
     "output_type": "stream",
     "text": [
      "mapping...  <HDF5 file \"1000.hdf5\" (mode r)>\n",
      "mapping...  <HDF5 file \"2000.hdf5\" (mode r)>\n",
      "mapping...  <HDF5 file \"3000.hdf5\" (mode r)>\n",
      "mapping...  <HDF5 file \"4000.hdf5\" (mode r)>\n",
      "mapping...  <HDF5 file \"5000.hdf5\" (mode r)>\n",
      "mapping...  <HDF5 file \"6000.hdf5\" (mode r)>\n",
      "mapping...  <HDF5 file \"7000.hdf5\" (mode r)>\n",
      "mapping...  <HDF5 file \"8000.hdf5\" (mode r)>\n",
      "molecular formula (idmol) mapped:  6950\n",
      "total molecular structures (idconf) mapped:  41537\n",
      "CDataset created...\n",
      "FFNet model loaded...\n",
      "CModel loaded...\n",
      "running model on gpu...\n",
      "learning time: 0:00:01.106862\n",
      "epoch: 0, lr: 0.01\n",
      "train loss: 66.32384591353566, val loss: 45.28047466278076\n",
      "learning time: 0:00:10.402385\n",
      "epoch: 10, lr: 0.01\n",
      "train loss: 2.389947615171734, val loss: 2.1670390367507935\n",
      "learning time: 0:00:19.612806\n",
      "epoch: 20, lr: 0.005\n",
      "train loss: 1.9297497335233187, val loss: 2.219036787748337\n",
      "learning time: 0:00:29.053066\n",
      "epoch: 30, lr: 0.005\n",
      "train loss: 2.042391350394801, val loss: 1.5507062375545502\n",
      "learning time: 0:00:38.343661\n",
      "epoch: 40, lr: 0.0025\n",
      "train loss: 1.5961461380908364, val loss: 1.8584347665309906\n",
      "test loss: 1.5771739184856415\n",
      "learning time: 0:00:48.324032\n"
     ]
    },
    {
     "data": {
      "image/png": "[encoded data removed]",
      "text/plain": [
       "<Figure size 432x288 with 1 Axes>"
      ]
     },
     "metadata": {
      "needs_background": "light"
     },
     "output_type": "display_data"
    }
   ],
   "source": [
    "## Example using the QM7X dataset and custom model with embeddings\n",
    "model_params = {'D_in': 23*23+23*64, \n",
    "                'H': 4096, \n",
    "                'D_out': 1, \n",
    "                'model_name': 'funnel',\n",
    "                'embed_params': [('atNUM',9,64,None,True)]}\n",
    "\n",
    "ds_params = {'train_params': {'features': ['distance'],\n",
    "                              'pad': 23,\n",
    "                              'do_not_pad':['eAT'],\n",
    "                              'targets': ['eAT'],\n",
    "                              'embeds': ['atNUM'],\n",
    "                              'selector': ['opt'],\n",
    "                              'flatten': True}}\n",
    "\n",
    "metrics_params = {'report_interval': 10}\n",
    "\n",
    "crit_params = {'reduction': 'sum'}\n",
    "\n",
    "sample_params = {'set_seed': 88,\n",
    "                 'splits': (.7,.15)}\n",
    "\n",
    "sched_params = {'factor': .5,\n",
    "                'patience': 5,\n",
    "                'cooldown': 2}\n",
    "\n",
    "opt_params = {'lr': 0.01}\n",
    "\n",
    "l = Learn([QM7X], FFNet, Selector, \n",
    "          Optimizer=Adam, Scheduler=ReduceLROnPlateau, Criterion=L1Loss, \n",
    "          model_params=model_params, ds_params=ds_params, sample_params=sample_params,\n",
    "          opt_params=opt_params, sched_params=sched_params, crit_params=crit_params,\n",
    "          metrics_params=metrics_params,\n",
    "          batch_size=256, epochs=50)"
   ]
  },
  {
   "cell_type": "code",
   "execution_count": 6,
   "metadata": {
    "tags": []
   },
   "outputs": [
    {
     "name": "stdout",
     "output_type": "stream",
     "text": [
      "creating QM9 dataset...\n",
      "QM9 molecules scanned:  1\n",
      "QM9 molecules created:  1\n",
      "total uncharacterized molecules removed:  273\n",
      "total QM9 molecules created:  9727\n",
      "CDataset created...\n",
      "FFNet model loaded...\n",
      "CModel loaded...\n",
      "running model on gpu...\n",
      "learning time: 0:00:01.058659\n",
      "epoch: 0, lr: 0.01\n",
      "train loss: 337.2228546142578, val loss: 289.00916748046876\n",
      "learning time: 0:00:10.238823\n",
      "epoch: 10, lr: 0.01\n",
      "train loss: 8.54376455453726, val loss: 9.194841003417968\n",
      "test loss: 7.219927978515625\n",
      "learning time: 0:00:18.807854\n"
     ]
    },
    {
     "data": {
      "image/png": "[encoded data removed]",
      "text/plain": [
       "<Figure size 432x288 with 1 Axes>"
      ]
     },
     "metadata": {
      "needs_background": "light"
     },
     "output_type": "display_data"
    }
   ],
   "source": [
    "## Example using the QM9 dataset\n",
    "model_params = {'D_in': 29*29+12+29,\n",
    "                'H': 4096, \n",
    "                'D_out': 1, \n",
    "                'model_name': 'funnel'}\n",
    "\n",
    "ds_params = {'train_params': {'n': 10000, \n",
    "                              'features': ['n_atoms','A','B','C','mu','alpha','homo','lumo', \n",
    "                                           'gap','r2','zpve','Cv','mulliken','coulomb'],\n",
    "                              'embeds': [], \n",
    "                              'targets': ['U0'],\n",
    "                              'pad': 29,\n",
    "                              'do_not_pad': ['n_atoms','A','B','C','mu','alpha','homo','lumo',\n",
    "                                             'gap','r2','zpve','Cv','U0'],\n",
    "                              'filter_on': None,\n",
    "                              'use_pickle': False,\n",
    "                              'flatten': True}}\n",
    "\n",
    "metrics_params = {'report_interval': 10}\n",
    "\n",
    "crit_params = {'reduction': 'sum'}\n",
    "\n",
    "sample_params = {'set_seed': 88,\n",
    "                 'splits': (.7,.15)}\n",
    "\n",
    "sched_params = {'factor': .5,\n",
    "                'patience': 5,\n",
    "                'cooldown': 2}\n",
    "\n",
    "opt_params = {'lr': 0.01}\n",
    "\n",
    "l = Learn([QM9], FFNet, Selector, \n",
    "          Optimizer=Adam, Scheduler=ReduceLROnPlateau, Criterion=L1Loss, \n",
    "          model_params=model_params, ds_params=ds_params, sample_params=sample_params,\n",
    "          opt_params=opt_params, sched_params=sched_params, crit_params=crit_params,\n",
    "          metrics_params=metrics_params, \n",
    "          batch_size=256, epochs=20)"
   ]
  },
  {
   "cell_type": "code",
   "execution_count": 2,
   "metadata": {},
   "outputs": [
    {
     "name": "stdout",
     "output_type": "stream",
     "text": [
      "creating QM9 dataset...\n",
      "QM9 molecules scanned:  1\n",
      "QM9 molecules created:  1\n",
      "QM9 molecules scanned:  10001\n",
      "QM9 molecules created:  7287\n",
      "QM9 molecules scanned:  20001\n",
      "QM9 molecules created:  13164\n",
      "QM9 molecules scanned:  30001\n",
      "QM9 molecules created:  21160\n",
      "QM9 molecules scanned:  40001\n",
      "QM9 molecules created:  25975\n",
      "QM9 molecules scanned:  50001\n",
      "QM9 molecules created:  32322\n",
      "QM9 molecules scanned:  60001\n",
      "QM9 molecules created:  36152\n",
      "QM9 molecules scanned:  70001\n",
      "QM9 molecules created:  39355\n",
      "QM9 molecules scanned:  80001\n",
      "QM9 molecules created:  42400\n",
      "QM9 molecules scanned:  90001\n",
      "QM9 molecules created:  44727\n",
      "QM9 molecules scanned:  100001\n",
      "QM9 molecules created:  46655\n",
      "QM9 molecules scanned:  110001\n",
      "QM9 molecules created:  47869\n",
      "QM9 molecules scanned:  120001\n",
      "QM9 molecules created:  48834\n",
      "QM9 molecules scanned:  130001\n",
      "QM9 molecules created:  54225\n",
      "total uncharacterized molecules removed:  2193\n",
      "total QM9 molecules created:  55799\n",
      "CDataset created...\n",
      "FFNet model loaded...\n",
      "CModel loaded...\n",
      "running model on gpu...\n",
      "learning time: 0:00:05.967453\n",
      "epoch: 0, lr: 0.01\n",
      "train loss: 119.93338919313331, val loss: 10.42531043291092\n",
      "learning time: 0:00:16.691027\n",
      "epoch: 4, lr: 0.01\n",
      "train loss: 9.064640791792618, val loss: 9.460282415151596\n",
      "learning time: 0:00:27.530063\n",
      "epoch: 8, lr: 0.01\n",
      "train loss: 8.062378607298198, val loss: 7.686940044164658\n",
      "learning time: 0:00:32.917187\n",
      "epoch: 10, lr: 0.01\n",
      "train loss: 8.034898252863632, val loss: 7.889774456620216\n",
      "learning time: 0:00:43.659847\n",
      "epoch: 14, lr: 0.01\n",
      "train loss: 7.942301254523428, val loss: 7.753336057066917\n",
      "learning time: 0:00:54.423020\n",
      "epoch: 18, lr: 0.01\n",
      "train loss: 7.377365306804054, val loss: 7.700025260448456\n",
      "learning time: 0:00:59.819532\n",
      "epoch: 20, lr: 0.01\n",
      "train loss: 7.7089451457324785, val loss: 7.686556592583656\n",
      "learning time: 0:01:10.514654\n",
      "epoch: 24, lr: 0.01\n",
      "train loss: 7.130741721705387, val loss: 6.7468761801719666\n",
      "learning time: 0:01:21.181528\n",
      "epoch: 28, lr: 0.01\n",
      "train loss: 7.209645377962213, val loss: 8.449622198939323\n",
      "test loss: 6.829484611749649\n",
      "learning time: 0:01:24.406970\n"
     ]
    },
    {
     "data": {
      "image/png": "[encoded data removed]",
      "text/plain": [
       "<Figure size 432x288 with 1 Axes>"
      ]
     },
     "metadata": {
      "needs_background": "light"
     },
     "output_type": "display_data"
    }
   ],
   "source": [
    "## Example using the QM9 dataset filter\n",
    "model_params = {'D_in': 17*17+17+12, \n",
    "                'H': 4096, \n",
    "                'D_out': 1, \n",
    "                'model_name': 'funnel'}\n",
    "\n",
    "ds_params = {'train_params': {#'n': 10000,\n",
    "                              'features': ['n_atoms','A','B','C','mu','alpha','homo','lumo', \n",
    "                                           'gap','r2','zpve','Cv','mulliken','coulomb'],\n",
    "                              'embeds': [],\n",
    "                              'targets': ['U0'],\n",
    "                              'pad': 17,\n",
    "                              'do_not_pad': ['n_atoms','A','B','C','mu','alpha','homo','lumo',\n",
    "                                             'gap','r2','zpve','Cv','U0'],\n",
    "                              'filter_on': ('n_atoms','<','18'),\n",
    "                              'use_pickle': False,\n",
    "                              'flatten': True}}\n",
    "\n",
    "crit_params = {'reduction': 'sum'}\n",
    "\n",
    "metrics_params = {'report_interval': 10,\n",
    "                  'log_plot': True}\n",
    "\n",
    "sample_params = {'set_seed': 88,\n",
    "                 'splits': (.7,.15)}\n",
    "\n",
    "sched_params = {'factor': .5,\n",
    "                'patience': 5,\n",
    "                'cooldown': 2}\n",
    "\n",
    "opt_params = {'lr': 0.01}\n",
    "\n",
    "l = Learn([QM9], FFNet, Selector, Optimizer=Adam, Scheduler=ReduceLROnPlateau, Criterion=L1Loss, \n",
    "          model_params=model_params, ds_params=ds_params, sample_params=sample_params,\n",
    "          opt_params=opt_params, sched_params=sched_params, crit_params=crit_params,\n",
    "          batch_size=256, epochs=30)"
   ]
  },
  {
   "cell_type": "code",
   "execution_count": 3,
   "metadata": {},
   "outputs": [
    {
     "name": "stdout",
     "output_type": "stream",
     "text": [
      "molecules loaded:  1000\n",
      "molecules loaded:  2000\n",
      "molecules loaded:  3000\n",
      "molecules loaded:  3114\n",
      "CDataset created...\n",
      "FFNet model loaded...\n",
      "CModel loaded...\n",
      "running model on gpu...\n",
      "learning time: 0:00:02.474422\n",
      "epoch: 0, lr: 0.01\n",
      "train loss: 564.2387372185202, val loss: 530.0924072265625\n",
      "learning time: 0:00:13.731332\n",
      "epoch: 6, lr: 0.01\n",
      "train loss: 44.271240234375, val loss: 38.50212097167969\n",
      "learning time: 0:00:21.158404\n",
      "epoch: 10, lr: 0.01\n",
      "train loss: 36.388308693380914, val loss: 38.48035558064779\n",
      "learning time: 0:00:32.073717\n",
      "epoch: 16, lr: 0.005\n",
      "train loss: 29.08654717838063, val loss: 27.6531982421875\n",
      "learning time: 0:00:39.372295\n",
      "epoch: 20, lr: 0.005\n",
      "train loss: 29.179754930384018, val loss: 38.72963078816732\n",
      "learning time: 0:00:50.418566\n",
      "epoch: 26, lr: 0.005\n",
      "train loss: 29.168325311997357, val loss: 27.489192962646484\n",
      "learning time: 0:00:57.908339\n",
      "epoch: 30, lr: 0.0025\n",
      "train loss: 22.698432249181412, val loss: 25.050204594930012\n",
      "learning time: 0:01:08.773288\n",
      "epoch: 36, lr: 0.0025\n",
      "train loss: 21.456507121815402, val loss: 27.74221674601237\n",
      "learning time: 0:01:16.077627\n",
      "epoch: 40, lr: 0.00125\n",
      "train loss: 20.547608431647806, val loss: 24.015010833740234\n",
      "learning time: 0:01:26.989744\n",
      "epoch: 46, lr: 0.00125\n",
      "train loss: 21.564877790563248, val loss: 34.50653330485026\n",
      "test loss: 28.197360356648762\n",
      "learning time: 0:01:32.860903\n"
     ]
    },
    {
     "data": {
      "image/png": "[encoded data removed]",
      "text/plain": [
       "<Figure size 432x288 with 1 Axes>"
      ]
     },
     "metadata": {
      "needs_background": "light"
     },
     "output_type": "display_data"
    }
   ],
   "source": [
    "## Example using ANI1x dataset with filter and embeddings with a custom model\n",
    "model_params = {'D_in': 63*63+63*32, \n",
    "                'H': 8192, \n",
    "                'D_out': 1, \n",
    "                'model_name': 'funnel',\n",
    "                'embed_params': [('atomic_numbers',9,32,None,True)]}\n",
    "\n",
    "ds_params = {'train_params': {'features': ['distance'],\n",
    "                              'targets': ['wb97x_dz.energy'],\n",
    "                              'embeds': ['atomic_numbers'],\n",
    "                              'pad': 63, #length of the longest molecule in the dataset\n",
    "                              'flatten': True,\n",
    "                              'criterion': ['wb97x_dz.energy'],\n",
    "                              'conformation': 'max',\n",
    "                              'in_file': './data/ani1x/ani1x-release.h5'}}\n",
    "\n",
    "metrics_params = {'report_interval': 20}\n",
    "\n",
    "crit_params = {'reduction': 'sum'}\n",
    "sample_params = {'set_seed': 88,\n",
    "                 'splits': (.7,.15)}\n",
    "sched_params = {'factor': .5,\n",
    "                'patience': 5,\n",
    "                'cooldown': 5}\n",
    "opt_params = {'lr': 0.01}\n",
    "\n",
    "l = Learn([ANI1x], FFNet, Selector, Optimizer=Adam, Scheduler=ReduceLROnPlateau, Criterion=L1Loss, \n",
    "          model_params=model_params, ds_params=ds_params, sample_params=sample_params,\n",
    "          opt_params=opt_params, sched_params=sched_params, crit_params=crit_params,\n",
    "          batch_size=128, epochs=50)"
   ]
  },
  {
   "cell_type": "code",
   "execution_count": null,
   "metadata": {},
   "outputs": [],
   "source": []
  }
 ],
 "metadata": {
  "kernelspec": {
   "display_name": "Python 3",
   "language": "python",
   "name": "python3"
  },
  "language_info": {
   "codemirror_mode": {
    "name": "ipython",
    "version": 3
   },
   "file_extension": ".py",
   "mimetype": "text/x-python",
   "name": "python",
   "nbconvert_exporter": "python",
   "pygments_lexer": "ipython3",
   "version": "3.8.12"
  }
 },
 "nbformat": 4,
 "nbformat_minor": 4
}
