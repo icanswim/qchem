{
 "cells": [
  {
   "cell_type": "code",
   "execution_count": null,
   "metadata": {},
   "outputs": [],
   "source": [
    "# This is a series of examples using the icanswim/qchem quantum mechanic machine learning repo\n",
    "# icanswim/qchem utilizes the icanswim/cosmosis data science machine learning repo"
   ]
  },
  {
   "cell_type": "code",
   "execution_count": 1,
   "metadata": {},
   "outputs": [
    {
     "name": "stderr",
     "output_type": "stream",
     "text": [
      "RDKit WARNING: [14:04:02] Enabling RDKit 2019.09.3 jupyter extensions\n"
     ]
    }
   ],
   "source": [
    "import sys # required for relative imports in jupyter lab\n",
    "sys.path.insert(0, '../') \n",
    "\n",
    "from cosmosis.model import FFNet\n",
    "from cosmosis.dataset import SKDS\n",
    "from cosmosis.learning import Learn, Selector\n",
    "\n",
    "from dataset import QM7, QM7b, QM7X, ANI1x, QM9, PGDS\n",
    "from model import pyg_model, GraphNet\n",
    "\n",
    "from torch.optim import Adam\n",
    "from torch.nn import MSELoss, L1Loss, NLLLoss, CrossEntropyLoss\n",
    "from torch.optim.lr_scheduler import ReduceLROnPlateau\n",
    "\n",
    "from torch_geometric.loader import DataLoader\n"
   ]
  },
  {
   "cell_type": "code",
   "execution_count": 2,
   "metadata": {
    "tags": []
   },
   "outputs": [
    {
     "name": "stdout",
     "output_type": "stream",
     "text": [
      "loading QM9 datadic from a pickled copy...\n",
      "CDataset created...\n"
     ]
    },
    {
     "data": {
      "text/plain": [
       "{'model_input': {'X': array([6., 1., 1., 1., 1., 0., 0., 0., 0., 0., 4., 1., 1., 1., 1., 0., 0.,\n",
       "         0., 0., 0.], dtype=float32),\n",
       "  'embed': [array([5, 1, 1, 1, 1]), array([1, 1, 1, 1, 1])],\n",
       "  'coulomb': array([[36.858112  , 10.543005  , 10.838454  , 10.8277    , 10.311594  ],\n",
       "         [ 0.90403795,  0.5       ,  1.8064089 ,  1.8046168 ,  1.7185988 ],\n",
       "         [ 0.90403795,  1.7571673 ,  0.5       ,  1.8046168 ,  1.7185988 ],\n",
       "         [ 0.90403795,  1.7571673 ,  1.8064089 ,  0.5       ,  1.7185988 ],\n",
       "         [ 0.90403795,  1.7571673 ,  1.8064089 ,  1.8046168 ,  0.5       ]],\n",
       "        dtype=float32),\n",
       "  'edge_index': array([[0, 1],\n",
       "         [1, 0],\n",
       "         [0, 2],\n",
       "         [2, 0],\n",
       "         [0, 3],\n",
       "         [3, 0],\n",
       "         [0, 4],\n",
       "         [4, 0]])},\n",
       " 'criterion_input': {'target': array([-40.47893], dtype=float32)}}"
      ]
     },
     "execution_count": 2,
     "metadata": {},
     "output_type": "execute_result"
    }
   ],
   "source": [
    "#example exploring cosmosis/qchem QM9 dataset with rdkit data augmentation\n",
    "\n",
    "ds_params = {'train_params': {'input_dict': {'model_input': {'X': ['atomic_number','aromatic',\n",
    "                                                                   'degree','charge'],\n",
    "                                                             'embed': ['hybridization','chirality'],\n",
    "                                                             'coulomb': ['coulomb'],\n",
    "                                                             'edge_index': ['edge_indices'],\n",
    "                                                            },\n",
    "                                             'criterion_input': {'target': ['U0']}},\n",
    "                              'n': 10000,\n",
    "                              'db': 'rdkit',\n",
    "                              'n_conformers': 1,\n",
    "                              'pad': False,\n",
    "                              'pad_feats': ['mulliken','coulomb','aromatic','degree',\n",
    "                                            'charge','n_hs','n_rads','atomic_number',\n",
    "                                            'hybridization','chirality'],\n",
    "                              'as_tensor': False,\n",
    "                              'filter_on': ('n_atoms','<','18'),\n",
    "                              'use_pickle': 'qm9_test.p',\n",
    "                              'flatten': False}}\n",
    "\n",
    "qm9 = QM9(**ds_params['train_params'])\n",
    "qm9[1]"
   ]
  },
  {
   "cell_type": "code",
   "execution_count": 3,
   "metadata": {},
   "outputs": [
    {
     "name": "stdout",
     "output_type": "stream",
     "text": [
      "longest molecule index:  5806  length:  104\n",
      "shortest molecule index:  3  length:  12\n"
     ]
    },
    {
     "data": {
      "text/plain": [
       "{'model_input': {'X': array([8., 1., 1., 0., 0., 0., 2., 1., 1., 0., 0., 0.], dtype=float32),\n",
       "  'embed': [array([5, 1, 1]), array([1, 1, 1])],\n",
       "  'coulomb': array([[73.51671  , 34.509003 , 34.45475  ],\n",
       "         [ 1.0017037,  0.5      ,  4.3068438],\n",
       "         [ 1.0017037,  4.3136253,  0.5      ]], dtype=float32),\n",
       "  'edge_index': array([[0, 1],\n",
       "         [1, 0],\n",
       "         [0, 2],\n",
       "         [2, 0]])},\n",
       " 'criterion_input': {'target': array([-76.4047], dtype=float32)}}"
      ]
     },
     "execution_count": 3,
     "metadata": {},
     "output_type": "execute_result"
    }
   ],
   "source": [
    "#example exploring cosmosis/qchem QM9 dataset with rdkit data augmentation\n",
    "l, s, li, si = 0, 9999, 0, 0\n",
    "for i in qm9.ds_idx:\n",
    "    d = qm9[i]['model_input']['X'].shape[0]\n",
    "    if d > l:\n",
    "        l = d\n",
    "        li = i\n",
    "    if d < s:\n",
    "        s = d\n",
    "        si = i\n",
    "print('longest molecule index: ', li, ' length: ', l)\n",
    "print('shortest molecule index: ', si, ' length: ', s)\n",
    "qm9[si]"
   ]
  },
  {
   "cell_type": "code",
   "execution_count": 4,
   "metadata": {},
   "outputs": [
    {
     "name": "stdout",
     "output_type": "stream",
     "text": [
      "creating pytorch geometric QM9 dataset...\n",
      "CDataset created...\n",
      "Batch(x=[28, 11], edge_index=[2, 52], edge_attr=[52, 4], y=[2, 19], pos=[28, 3], z=[28], name=[2], idx=[2], batch=[28], ptr=[3])\n",
      "tensor([ 0, 14, 28])\n",
      "tensor([ 38, 805])\n",
      "tensor([[0., 1., 0., 0., 0., 6., 0., 0., 0., 0., 3.],\n",
      "        [0., 1., 0., 0., 0., 6., 0., 0., 0., 0., 2.],\n",
      "        [0., 1., 0., 0., 0., 6., 0., 0., 0., 0., 2.],\n",
      "        [0., 1., 0., 0., 0., 6., 0., 0., 0., 0., 3.],\n",
      "        [1., 0., 0., 0., 0., 1., 0., 0., 0., 0., 0.],\n",
      "        [1., 0., 0., 0., 0., 1., 0., 0., 0., 0., 0.],\n",
      "        [1., 0., 0., 0., 0., 1., 0., 0., 0., 0., 0.],\n",
      "        [1., 0., 0., 0., 0., 1., 0., 0., 0., 0., 0.],\n",
      "        [1., 0., 0., 0., 0., 1., 0., 0., 0., 0., 0.],\n",
      "        [1., 0., 0., 0., 0., 1., 0., 0., 0., 0., 0.],\n",
      "        [1., 0., 0., 0., 0., 1., 0., 0., 0., 0., 0.],\n",
      "        [1., 0., 0., 0., 0., 1., 0., 0., 0., 0., 0.],\n",
      "        [1., 0., 0., 0., 0., 1., 0., 0., 0., 0., 0.],\n",
      "        [1., 0., 0., 0., 0., 1., 0., 0., 0., 0., 0.],\n",
      "        [0., 1., 0., 0., 0., 6., 0., 0., 0., 0., 3.],\n",
      "        [0., 1., 0., 0., 0., 6., 0., 0., 0., 0., 2.],\n",
      "        [0., 1., 0., 0., 0., 6., 0., 0., 0., 0., 0.],\n",
      "        [0., 0., 1., 0., 0., 7., 0., 0., 0., 0., 0.],\n",
      "        [0., 0., 0., 1., 0., 8., 0., 0., 0., 0., 1.],\n",
      "        [0., 1., 0., 0., 0., 6., 0., 0., 0., 0., 0.],\n",
      "        [0., 1., 0., 0., 0., 6., 0., 0., 0., 0., 1.],\n",
      "        [1., 0., 0., 0., 0., 1., 0., 0., 0., 0., 0.],\n",
      "        [1., 0., 0., 0., 0., 1., 0., 0., 0., 0., 0.],\n",
      "        [1., 0., 0., 0., 0., 1., 0., 0., 0., 0., 0.],\n",
      "        [1., 0., 0., 0., 0., 1., 0., 0., 0., 0., 0.],\n",
      "        [1., 0., 0., 0., 0., 1., 0., 0., 0., 0., 0.],\n",
      "        [1., 0., 0., 0., 0., 1., 0., 0., 0., 0., 0.],\n",
      "        [1., 0., 0., 0., 0., 1., 0., 0., 0., 0., 0.]])\n",
      "Data(x=[4, 11], edge_index=[2, 6], edge_attr=[6, 4], y=[1, 19], pos=[4, 3], z=[4], name='gdb_2', idx=[1])\n",
      "tensor([[0., 0., 1., 0., 0., 7., 0., 0., 0., 0., 3.],\n",
      "        [1., 0., 0., 0., 0., 1., 0., 0., 0., 0., 0.],\n",
      "        [1., 0., 0., 0., 0., 1., 0., 0., 0., 0., 0.],\n",
      "        [1., 0., 0., 0., 0., 1., 0., 0., 0., 0., 0.]])\n",
      "tensor([1])\n"
     ]
    }
   ],
   "source": [
    "#example exploring cosmosis/qchem PyG dataset wrapper with Data object output\n",
    "import numpy as np\n",
    "ds_params = {'train_params': {'dataset': 'QM9',\n",
    "                              'pg_params': {'root': './data/'}}}\n",
    "\n",
    "pgds = PGDS(**ds_params['train_params'])\n",
    "ds_idx = np.arange(1000)\n",
    "selector = Selector(train_idx=ds_idx)\n",
    "selector('train')\n",
    "loader = DataLoader(pgds, batch_size=2, sampler=selector)\n",
    "batch = next(iter(loader))\n",
    "print(batch)\n",
    "print(batch.ptr)\n",
    "print(batch.idx)\n",
    "print(batch.x)\n",
    "print(pgds[1])\n",
    "print(pgds[1].x)\n",
    "print(pgds[1].idx)"
   ]
  },
  {
   "cell_type": "code",
   "execution_count": 5,
   "metadata": {
    "tags": []
   },
   "outputs": [
    {
     "name": "stdout",
     "output_type": "stream",
     "text": [
      "creating pytorch geometric QM9 dataset...\n",
      "CDataset created...\n"
     ]
    },
    {
     "data": {
      "text/plain": [
       "{'model_input': {'X': tensor([[0., 0., 1., 0., 0., 7., 0., 0., 0., 0., 3.],\n",
       "          [1., 0., 0., 0., 0., 1., 0., 0., 0., 0., 0.],\n",
       "          [1., 0., 0., 0., 0., 1., 0., 0., 0., 0., 0.],\n",
       "          [1., 0., 0., 0., 0., 1., 0., 0., 0., 0., 0.],\n",
       "          [0., 0., 0., 0., 0., 0., 0., 0., 0., 0., 0.],\n",
       "          [0., 0., 0., 0., 0., 0., 0., 0., 0., 0., 0.],\n",
       "          [0., 0., 0., 0., 0., 0., 0., 0., 0., 0., 0.],\n",
       "          [0., 0., 0., 0., 0., 0., 0., 0., 0., 0., 0.],\n",
       "          [0., 0., 0., 0., 0., 0., 0., 0., 0., 0., 0.],\n",
       "          [0., 0., 0., 0., 0., 0., 0., 0., 0., 0., 0.],\n",
       "          [0., 0., 0., 0., 0., 0., 0., 0., 0., 0., 0.],\n",
       "          [0., 0., 0., 0., 0., 0., 0., 0., 0., 0., 0.],\n",
       "          [0., 0., 0., 0., 0., 0., 0., 0., 0., 0., 0.],\n",
       "          [0., 0., 0., 0., 0., 0., 0., 0., 0., 0., 0.],\n",
       "          [0., 0., 0., 0., 0., 0., 0., 0., 0., 0., 0.],\n",
       "          [0., 0., 0., 0., 0., 0., 0., 0., 0., 0., 0.],\n",
       "          [0., 0., 0., 0., 0., 0., 0., 0., 0., 0., 0.],\n",
       "          [0., 0., 0., 0., 0., 0., 0., 0., 0., 0., 0.],\n",
       "          [0., 0., 0., 0., 0., 0., 0., 0., 0., 0., 0.],\n",
       "          [0., 0., 0., 0., 0., 0., 0., 0., 0., 0., 0.],\n",
       "          [0., 0., 0., 0., 0., 0., 0., 0., 0., 0., 0.],\n",
       "          [0., 0., 0., 0., 0., 0., 0., 0., 0., 0., 0.],\n",
       "          [0., 0., 0., 0., 0., 0., 0., 0., 0., 0., 0.],\n",
       "          [0., 0., 0., 0., 0., 0., 0., 0., 0., 0., 0.],\n",
       "          [0., 0., 0., 0., 0., 0., 0., 0., 0., 0., 0.],\n",
       "          [0., 0., 0., 0., 0., 0., 0., 0., 0., 0., 0.],\n",
       "          [0., 0., 0., 0., 0., 0., 0., 0., 0., 0., 0.],\n",
       "          [0., 0., 0., 0., 0., 0., 0., 0., 0., 0., 0.],\n",
       "          [0., 0., 0., 0., 0., 0., 0., 0., 0., 0., 0.]])},\n",
       " 'criterion_input': {'target': tensor([[ 1.6256e+00,  9.4600e+00, -6.9933e+00,  2.2558e+00,  9.2491e+00,\n",
       "            2.6156e+01,  9.3493e-01, -1.5381e+03, -1.5381e+03, -1.5380e+03,\n",
       "           -1.5387e+03,  6.3160e+00, -1.2006e+01, -1.2082e+01, -1.2159e+01,\n",
       "           -1.1246e+01,  2.9361e+02,  2.9354e+02,  1.9139e+02]])}}"
      ]
     },
     "execution_count": 5,
     "metadata": {},
     "output_type": "execute_result"
    }
   ],
   "source": [
    "#example exploring cosmosis/qchem PyG dataset wrapper, padded with dictionary output\n",
    "ds_params = {'train_params': {'dataset': 'QM9',\n",
    "                              'use_pyg': False,\n",
    "                              'pad': (29,11),\n",
    "                              'pad_feats': ['x'],\n",
    "                              'flatten': False,\n",
    "                              'input_dict': {'model_input': {'X': ['x']},\n",
    "                                             'criterion_input': {'target': ['y']}},\n",
    "                              'pg_params': {'root': './data/'}}}\n",
    "\n",
    "pgds = PGDS(**ds_params['train_params'])\n",
    "pgds[1]"
   ]
  },
  {
   "cell_type": "code",
   "execution_count": 6,
   "metadata": {
    "tags": []
   },
   "outputs": [
    {
     "name": "stdout",
     "output_type": "stream",
     "text": [
      "loading QM9 datadic from a pickled copy...\n",
      "CDataset created...\n",
      "FFNet model loaded...\n",
      "CModel loaded...\n",
      "running model on gpu...\n",
      "learning time: 0:00:04.534418\n",
      "epoch: 0, lr: 0.01\n",
      "train loss: 355.49656982421874, val loss: 353.73785400390625\n",
      "test loss: 26.51179313659668\n",
      "learning time: 0:00:12.793965\n"
     ]
    },
    {
     "data": {
      "image/png": "[encoded data removed]",
      "text/plain": [
       "<Figure size 432x288 with 1 Axes>"
      ]
     },
     "metadata": {
      "needs_background": "light"
     },
     "output_type": "display_data"
    }
   ],
   "source": [
    "#example cosmosis/qchem QM9 dataset with filter, rdkit data augmentation, \n",
    "#embeddings and custom model \n",
    "rdkit_features = ['atom_type','atomic_number','aromatic','chirality',\n",
    "                  'degree','charge','n_hs','n_rads','hybridization',\n",
    "                  'edge_indices','edge_attr','rdmol_block','n_atoms',\n",
    "                  'xyz','distance','coulomb','adjacency','rdmol']\n",
    "\n",
    "rdkit_edge = ['edge_indices','edge_attr']\n",
    "\n",
    "qm9_features = ['A','B','C','mu','alpha','homo','lumo', 'gap','r2','zpve',\n",
    "                'U0','U','H','G','Cv','qm9_n_atoms','qm9_block','qm9_atom_type',\n",
    "                'qm9_xyz','mulliken','in_file','smile','distance','coulomb']\n",
    "\n",
    "ds_params = {'train_params': {'input_dict': {'model_input': {'X': ['aromatic','degree',\n",
    "                                                                   'charge','coulomb'],\n",
    "                                                             'embed': ['hybridization','chirality']},\n",
    "                                             'criterion_input': {'target': ['U0']}},\n",
    "                              #'n': 10000, #non-random for testing\n",
    "                              'db': 'rdkit',\n",
    "                              'n_conformers': 1,\n",
    "                              'pad': 29,\n",
    "                              'pad_feats': ['mulliken','coulomb','aromatic','degree',\n",
    "                                            'charge','n_hs','n_rads','atomic_number',\n",
    "                                            'hybridization','chirality'],\n",
    "                              'as_tensor': True,\n",
    "                              'filter_on': ('n_atoms','>','10'), #filter out molecules with less than 10 atoms\n",
    "                              'use_pickle': 'qm9_test.p',\n",
    "                              'flatten': True}}\n",
    "\n",
    "\n",
    "model_params = {'in_channels': 29+29+29+29*29+29*16+29*16, \n",
    "                'hidden': 4096, \n",
    "                'out_channels': 1, \n",
    "                'model_name': 'funnel',\n",
    "                'embed_params': [('hybridization',9,16,0,True),('chirality',5,16,0,True)]\n",
    "               }\n",
    "                \n",
    "metrics_params = {'report_interval': 1,\n",
    "                  'log_plot': False}\n",
    "\n",
    "crit_params = {'reduction': 'sum'}\n",
    "\n",
    "sample_params = {'set_seed': 88,\n",
    "                 'splits': (.7,.15),\n",
    "                 'subset': .2 #create random subset\n",
    "                }\n",
    "\n",
    "sched_params = {'factor': .5,\n",
    "                'patience': 5,\n",
    "                'cooldown': 2}\n",
    "\n",
    "opt_params = {'lr': 0.01}\n",
    "\n",
    "l = Learn([QM9], FFNet, Selector, Optimizer=Adam, Scheduler=ReduceLROnPlateau, Criterion=L1Loss, \n",
    "          model_params=model_params, ds_params=ds_params, sample_params=sample_params,\n",
    "          opt_params=opt_params, sched_params=sched_params, crit_params=crit_params,\n",
    "          batch_size=256, epochs=10)"
   ]
  },
  {
   "cell_type": "code",
   "execution_count": 7,
   "metadata": {
    "tags": []
   },
   "outputs": [
    {
     "name": "stdout",
     "output_type": "stream",
     "text": [
      "creating pytorch geometric TUDataset dataset...\n",
      "CDataset created...\n",
      "GNet model loaded...\n",
      "CModel loaded...\n",
      "running model on gpu...\n",
      "learning time: 0:00:00.744910\n",
      "epoch: 0, lr: 0.01\n",
      "train loss: 0.08213378069922328, val loss: 0.07205936561028163\n",
      "sklearn train metric: 0.6328125, sklearn validation metric: 0.75\n",
      "learning time: 0:00:06.129738\n",
      "epoch: 8, lr: 0.01\n",
      "train loss: 0.06641334318555892, val loss: 0.067288422336181\n",
      "sklearn train metric: 0.7734375, sklearn validation metric: 0.7916666666666666\n",
      "test loss: 0.07233631610870361\n",
      "learning time: 0:00:07.086205\n",
      "sklearn test metric: \n",
      "0.6666666666666666 \n",
      "\n"
     ]
    },
    {
     "data": {
      "image/png": "[encoded data removed]",
      "text/plain": [
       "<Figure size 432x288 with 1 Axes>"
      ]
     },
     "metadata": {
      "needs_background": "light"
     },
     "output_type": "display_data"
    }
   ],
   "source": [
    "#example cosmosis/qchem PyG dataset wrapper with Data object output and\n",
    "#sklearn metrics and custom PyG model\n",
    "\n",
    "model_params = {'in_channels': 7,\n",
    "                'hidden': 64,\n",
    "                'out_channels': 2}\n",
    "\n",
    "ds_params = {'train_params': {'dataset': 'TUDataset',\n",
    "                              'use_pyg': True,\n",
    "                              'pg_params': {'root': './data/',\n",
    "                                            'name': 'MUTAG'}}}\n",
    "\n",
    "metrics_params = {'report_interval': 5,\n",
    "                  'log_plot': False,\n",
    "                  'sk_metric_name': 'accuracy_score',\n",
    "                  'sk_params': {}}\n",
    "\n",
    "opt_params = {'lr': 0.01}\n",
    "\n",
    "crit_params = {}\n",
    "\n",
    "sample_params = {'set_seed': 88,\n",
    "                 'splits': (.7, .15)}\n",
    "\n",
    "sched_params = {'factor': .5,\n",
    "                'patience': 5,\n",
    "                'cooldown': 5}\n",
    "\n",
    "l = Learn([PGDS], GraphNet, Selector, \n",
    "          Optimizer=Adam, Scheduler=ReduceLROnPlateau, Criterion=CrossEntropyLoss, DataLoader=DataLoader,\n",
    "          model_params=model_params, ds_params=ds_params, sample_params=sample_params,\n",
    "          opt_params=opt_params, sched_params=sched_params, crit_params=crit_params,\n",
    "          metrics_params=metrics_params,\n",
    "          batch_size=8, epochs=10)"
   ]
  },
  {
   "cell_type": "code",
   "execution_count": 8,
   "metadata": {
    "tags": []
   },
   "outputs": [
    {
     "name": "stdout",
     "output_type": "stream",
     "text": [
      "creating pytorch geometric QM9 dataset...\n",
      "CDataset created...\n",
      "FFNet model loaded...\n",
      "CModel loaded...\n",
      "running model on gpu...\n",
      "learning time: 0:00:07.590626\n",
      "epoch: 0, lr: 0.01\n",
      "train loss: 482.2314341943137, val loss: 19.521871416192305\n",
      "learning time: 0:00:22.610960\n",
      "epoch: 2, lr: 0.01\n",
      "train loss: 12.732489826298561, val loss: 11.886559461292467\n",
      "learning time: 0:00:37.213473\n",
      "epoch: 4, lr: 0.01\n",
      "train loss: 11.428204250602828, val loss: 11.619170941804585\n",
      "learning time: 0:00:52.038495\n",
      "epoch: 6, lr: 0.01\n",
      "train loss: 11.183905974155715, val loss: 11.352031017604627\n",
      "learning time: 0:01:07.119332\n",
      "epoch: 8, lr: 0.01\n",
      "train loss: 11.086685244776621, val loss: 10.9570104887611\n",
      "test loss: 10.675434074903789\n",
      "learning time: 0:01:16.477644\n"
     ]
    },
    {
     "data": {
      "image/png": "[encoded data removed]",
      "text/plain": [
       "<Figure size 432x288 with 1 Axes>"
      ]
     },
     "metadata": {
      "needs_background": "light"
     },
     "output_type": "display_data"
    }
   ],
   "source": [
    "#example cosmosis/qchem PyG dataset wrapper with custum transform with\n",
    "#dictionary output and custom model\n",
    "import numpy as np\n",
    "\n",
    "class IndexTransform():\n",
    "    #select index i from dataset with multiple target outputs\n",
    "    def __init__(self, i):\n",
    "        self.i = i\n",
    "    def __call__(self, arr):\n",
    "        return np.reshape(arr[self.i], (1,))\n",
    "\n",
    "model_params = {'in_channels': 319, \n",
    "                'hidden': 512, \n",
    "                'out_channels': 1, \n",
    "                'model_name': 'funnel'}\n",
    "\n",
    "ds_params = {'train_params': {'dataset': 'QM9',\n",
    "                              'use_pyg': False,\n",
    "                              'pad': (29,11),\n",
    "                              'pad_feats': ['x'],\n",
    "                              'flatten': True,\n",
    "                              'target_transform': [IndexTransform(1)],\n",
    "                              'input_dict': {'model_input': {'X': ['x']},\n",
    "                                             'criterion_input': {'target': ['y']}},\n",
    "                              'pg_params': {'root': './data/'}}}\n",
    "\n",
    "metrics_params = {'report_interval': 10,\n",
    "                  'log_plot': True}\n",
    "\n",
    "opt_params = {'lr': 0.01}\n",
    "\n",
    "crit_params = {'reduction': 'sum'}\n",
    "\n",
    "sample_params = {'set_seed': 88,\n",
    "                 'splits': (.7, .15)}\n",
    "\n",
    "sched_params = {'factor': .5,\n",
    "                'patience': 2,\n",
    "                'cooldown': 1}\n",
    "\n",
    "l = Learn([PGDS], FFNet, Selector, \n",
    "          Optimizer=Adam, Scheduler=ReduceLROnPlateau, Criterion=MSELoss, \n",
    "          model_params=model_params, ds_params=ds_params, sample_params=sample_params,\n",
    "          opt_params=opt_params, sched_params=sched_params, crit_params=crit_params,\n",
    "          metrics_params=metrics_params,\n",
    "          batch_size=256, epochs=10)"
   ]
  },
  {
   "cell_type": "code",
   "execution_count": 9,
   "metadata": {
    "tags": []
   },
   "outputs": [
    {
     "name": "stdout",
     "output_type": "stream",
     "text": [
      "CDataset created...\n",
      "FFNet model loaded...\n",
      "CModel loaded...\n",
      "running model on gpu...\n",
      "learning time: 0:00:00.907392\n",
      "epoch: 0, lr: 0.01\n",
      "train loss: 1531.3177682976973, val loss: 1501.8140258789062\n",
      "learning time: 0:00:08.590771\n",
      "epoch: 10, lr: 0.01\n",
      "train loss: 37.458711222598424, val loss: 35.45442485809326\n",
      "test loss: 33.371978759765625\n",
      "learning time: 0:00:15.812835\n"
     ]
    },
    {
     "data": {
      "image/png": "[encoded data removed]",
      "text/plain": [
       "<Figure size 432x288 with 1 Axes>"
      ]
     },
     "metadata": {
      "needs_background": "light"
     },
     "output_type": "display_data"
    }
   ],
   "source": [
    "#example using cosmosis/qchem QM7 dataset and custom model\n",
    "model_params = {'in_channels': 23*23, \n",
    "                'hidden': 2048, \n",
    "                'out_channels': 1, \n",
    "                'model_name': 'funnel'}\n",
    "\n",
    "ds_params = {'train_params': {'input_dict': {'model_input': {'X': ['coulomb']},\n",
    "                                             'criterion_input': {'target': ['ae']}},\n",
    "                              'in_file': './data/qm7/qm7.mat',\n",
    "                              'flatten': True}}\n",
    "\n",
    "metrics_params = {'report_interval': 10,\n",
    "                  'log_plot': True}\n",
    "\n",
    "crit_params = {'reduction': 'sum'}\n",
    "\n",
    "sample_params = {'set_seed': 88,\n",
    "                 'splits': (.7,.15)}\n",
    "\n",
    "sched_params = {'factor': .5,\n",
    "                'patience': 3,\n",
    "                'cooldown': 2}\n",
    "\n",
    "opt_params = {'lr': 0.01}\n",
    "\n",
    "l = Learn([QM7], FFNet, Selector, \n",
    "          Optimizer=Adam, Scheduler=ReduceLROnPlateau, Criterion=L1Loss, \n",
    "          model_params=model_params, ds_params=ds_params, sample_params=sample_params,\n",
    "          opt_params=opt_params, sched_params=sched_params, crit_params=crit_params,\n",
    "          metrics_params=metrics_params,\n",
    "          batch_size=256, epochs=20)"
   ]
  },
  {
   "cell_type": "code",
   "execution_count": 10,
   "metadata": {
    "tags": []
   },
   "outputs": [
    {
     "name": "stdout",
     "output_type": "stream",
     "text": [
      "CDataset created...\n",
      "FFNet model loaded...\n",
      "CModel loaded...\n",
      "running model on gpu...\n",
      "learning time: 0:00:00.868279\n",
      "epoch: 0, lr: 0.01\n",
      "train loss: 1558.8120888157894, val loss: 1532.3424377441406\n",
      "learning time: 0:00:08.632957\n",
      "epoch: 10, lr: 0.01\n",
      "train loss: 48.582165366724915, val loss: 55.04041862487793\n",
      "test loss: 48.775418281555176\n",
      "learning time: 0:00:15.850599\n"
     ]
    },
    {
     "data": {
      "image/png": "[encoded data removed]",
      "text/plain": [
       "<Figure size 432x288 with 1 Axes>"
      ]
     },
     "metadata": {
      "needs_background": "light"
     },
     "output_type": "display_data"
    }
   ],
   "source": [
    "#example using the cosmosis/qchem QM7b dataset and custom model\n",
    "model_params = {'in_channels': 23*23, \n",
    "                'hidden': 2048, \n",
    "                'out_channels': 1, \n",
    "                'model_name': 'funnel'}\n",
    "\n",
    "ds_params = {'train_params': {'input_dict': {'model_input': {'X': ['coulomb']},\n",
    "                                             'criterion_input': {'target': ['E']}},\n",
    "                              'in_file': './data/qm7b/qm7b.mat',\n",
    "                              'flatten': True}}\n",
    "\n",
    "metrics_params = {'report_interval': 10,\n",
    "                  'log_plot': True}\n",
    "\n",
    "crit_params = {'reduction': 'sum'}\n",
    "\n",
    "sample_params = {'set_seed': 88,\n",
    "                 'splits': (.7,.15)}\n",
    "\n",
    "sched_params = {'factor': .5,\n",
    "                'patience': 3,\n",
    "                'cooldown': 2}\n",
    "\n",
    "opt_params = {'lr': 0.01}\n",
    "\n",
    "l = Learn([QM7b], FFNet, Selector, \n",
    "          Optimizer=Adam, Scheduler=ReduceLROnPlateau, Criterion=L1Loss, \n",
    "          model_params=model_params, ds_params=ds_params, sample_params=sample_params,\n",
    "          opt_params=opt_params, sched_params=sched_params, crit_params=crit_params,\n",
    "          metrics_params=metrics_params, \n",
    "          batch_size=256, epochs=20)"
   ]
  },
  {
   "cell_type": "code",
   "execution_count": 11,
   "metadata": {
    "tags": []
   },
   "outputs": [
    {
     "name": "stdout",
     "output_type": "stream",
     "text": [
      "mapping...  <HDF5 file \"1000.hdf5\" (mode r)>\n",
      "mapping...  <HDF5 file \"2000.hdf5\" (mode r)>\n",
      "mapping...  <HDF5 file \"3000.hdf5\" (mode r)>\n",
      "mapping...  <HDF5 file \"4000.hdf5\" (mode r)>\n",
      "mapping...  <HDF5 file \"5000.hdf5\" (mode r)>\n",
      "mapping...  <HDF5 file \"6000.hdf5\" (mode r)>\n",
      "mapping...  <HDF5 file \"7000.hdf5\" (mode r)>\n",
      "mapping...  <HDF5 file \"8000.hdf5\" (mode r)>\n",
      "molecular formula (idmol) mapped:  1000\n",
      "total molecular structures (idconf) mapped:  3723\n",
      "CDataset created...\n",
      "longest molecule length:  20  index:  233\n",
      "(20,)\n"
     ]
    },
    {
     "data": {
      "text/plain": [
       "{'model_input': {'X': array([6., 6., 6., 6., 6., 6., 1., 1., 1., 1., 1., 1., 1., 1., 1., 1., 1.,\n",
       "         1., 1., 1.], dtype=float32)},\n",
       " 'criterion_input': {'target': array([89.31956], dtype=float32)}}"
      ]
     },
     "execution_count": 11,
     "metadata": {},
     "output_type": "execute_result"
    }
   ],
   "source": [
    "#example exploring cosmosis/qchem QM7X dataset\n",
    "\n",
    "features = ['DIP','HLgap','atC6','atNUM','atPOL','atXYZ','eAT','hDIP',\n",
    "            'eC','eDFTB+MBD','eEE','eH','eKIN','eKSE','eL','eMBD','eNE', \n",
    "            'eNN','ePBE0','ePBE0+MBD','eTS','eX','eXC','eXX','hCHG', \n",
    "            'hRAT','hVDIP','hVOL','mC6','mPOL','mTPOL','pbe0FOR', \n",
    "            'sMIT','sRMSD','totFOR','vDIP','vEQ','vIQ','vTQ','vdwFOR','vdwR',\n",
    "            'coulomb'] #(1110,) with pad=23\n",
    "\n",
    "ds_params = {'train_params': {'input_dict': {'model_input': {'X': ['atNUM']},\n",
    "                                             'criterion_input': {'target': ['eAT']}},\n",
    "                              'pad': None, #longest molecule = 23\n",
    "                              'as_tensor': False,\n",
    "                              'n': 1000, #non-random subset for testing\n",
    "                              'selector': ['opt'],\n",
    "                              'flatten': True}}\n",
    "\n",
    "qm7x = QM7X(**ds_params['train_params'])\n",
    "\n",
    "l, m = 0, 0\n",
    "for i in qm7x.ds_idx:\n",
    "    s = qm7x[i]['model_input']['X'].shape[0]\n",
    "    if s > l:\n",
    "        l = s\n",
    "        m = i\n",
    "print('longest molecule length: ', l, ' index: ', m)\n",
    "print(qm7x[m]['model_input']['X'].shape) \n",
    "qm7x[m]\n"
   ]
  },
  {
   "cell_type": "code",
   "execution_count": 12,
   "metadata": {
    "tags": []
   },
   "outputs": [
    {
     "name": "stdout",
     "output_type": "stream",
     "text": [
      "mapping...  <HDF5 file \"1000.hdf5\" (mode r)>\n",
      "mapping...  <HDF5 file \"2000.hdf5\" (mode r)>\n",
      "mapping...  <HDF5 file \"3000.hdf5\" (mode r)>\n",
      "mapping...  <HDF5 file \"4000.hdf5\" (mode r)>\n",
      "mapping...  <HDF5 file \"5000.hdf5\" (mode r)>\n",
      "mapping...  <HDF5 file \"6000.hdf5\" (mode r)>\n",
      "mapping...  <HDF5 file \"7000.hdf5\" (mode r)>\n",
      "mapping...  <HDF5 file \"8000.hdf5\" (mode r)>\n",
      "molecular formula (idmol) mapped:  1000\n",
      "total molecular structures (idconf) mapped:  3723\n",
      "CDataset created...\n",
      "FFNet model loaded...\n",
      "CModel loaded...\n",
      "running model on gpu...\n",
      "learning time: 0:00:00.784337\n",
      "epoch: 0, lr: 0.01\n",
      "train loss: 64.35579795837403, val loss: 61.17691230773926\n",
      "test loss: 4.58472466468811\n",
      "learning time: 0:00:07.392182\n"
     ]
    },
    {
     "data": {
      "image/png": "[encoded data removed]",
      "text/plain": [
       "<Figure size 432x288 with 1 Axes>"
      ]
     },
     "metadata": {
      "needs_background": "light"
     },
     "output_type": "display_data"
    }
   ],
   "source": [
    "#example using the cosmosis/qchem QM7X dataset with filter and custom model\n",
    "model_params = {'in_channels': 23*23,\n",
    "                'hidden': 2048, \n",
    "                'out_channels': 1, \n",
    "                'model_name': 'funnel'}\n",
    "\n",
    "features = ['DIP','HLgap','atC6','atNUM','atPOL','atXYZ','hDIP','eAT',\n",
    "            'eC','eDFTB+MBD','eEE','eH','eKIN','eKSE','eL','eMBD','eNE', \n",
    "            'eNN','ePBE0','ePBE0+MBD','eTS','eX','eXC','eXX','hCHG', \n",
    "            'hRAT','hVDIP','hVOL','mC6','mPOL','mTPOL','pbe0FOR', \n",
    "            'sMIT','sRMSD','totFOR','vDIP','vEQ','vIQ','vTQ','vdwFOR','vdwR',\n",
    "            'coulomb','distance']\n",
    "\n",
    "ds_params = {'train_params': {'input_dict': {'model_input': {'X': ['coulomb']},\n",
    "                                             'criterion_input': {'target': ['eAT']}},\n",
    "                              'pad': 23,\n",
    "                              'selector': ['opt'],\n",
    "                              'flatten': True,\n",
    "                              'n': 1000, #non-random subset for testing\n",
    "                             }}\n",
    "\n",
    "metrics_params = {'report_interval': 10,\n",
    "                  'log_plot': True}\n",
    "\n",
    "crit_params = {'reduction': 'sum'}\n",
    "\n",
    "sample_params = {'set_seed': 88,\n",
    "                 'splits': (.7,.15),\n",
    "                 #'subset': .2 #create random subset\n",
    "                } \n",
    "\n",
    "sched_params = {'factor': .5,\n",
    "                'patience': 5,\n",
    "                'cooldown': 2}\n",
    "\n",
    "opt_params = {'lr': 0.01}\n",
    "\n",
    "l = Learn([QM7X], FFNet, Selector, \n",
    "          Optimizer=Adam, Scheduler=ReduceLROnPlateau, Criterion=L1Loss, \n",
    "          model_params=model_params, ds_params=ds_params, sample_params=sample_params,\n",
    "          opt_params=opt_params, sched_params=sched_params, crit_params=crit_params,\n",
    "          metrics_params=metrics_params,\n",
    "          batch_size=64, epochs=10)"
   ]
  },
  {
   "cell_type": "code",
   "execution_count": 6,
   "metadata": {
    "tags": []
   },
   "outputs": [
    {
     "name": "stdout",
     "output_type": "stream",
     "text": [
      "molecules loaded:  1000\n",
      "molecules loaded:  2000\n",
      "molecules loaded:  3000\n",
      "molecules loaded:  3114\n",
      "CDataset created...\n",
      "FFNet model loaded...\n",
      "CModel loaded...\n",
      "running model on gpu...\n",
      "learning time: 0:00:02.967086\n",
      "epoch: 0, lr: 0.01\n",
      "train loss: 521.7723684871899, val loss: 363.0742492675781\n",
      "learning time: 0:00:13.577652\n",
      "epoch: 4, lr: 0.01\n",
      "train loss: 36.824261272654816, val loss: 36.27758652823312\n",
      "learning time: 0:00:24.415303\n",
      "epoch: 8, lr: 0.01\n",
      "train loss: 33.61233492458568, val loss: 23.862718309674943\n",
      "learning time: 0:00:30.026185\n",
      "epoch: 10, lr: 0.01\n",
      "train loss: 33.50993338753195, val loss: 32.99329648699079\n",
      "learning time: 0:00:41.028401\n",
      "epoch: 14, lr: 0.005\n",
      "train loss: 38.44808432635139, val loss: 31.232447487967356\n",
      "learning time: 0:00:51.924428\n",
      "epoch: 18, lr: 0.005\n",
      "train loss: 26.975909261142505, val loss: 33.11920302254813\n",
      "learning time: 0:00:57.310831\n",
      "epoch: 20, lr: 0.005\n",
      "train loss: 30.489686236662024, val loss: 34.21042442321777\n",
      "learning time: 0:01:08.077179\n",
      "epoch: 24, lr: 0.005\n",
      "train loss: 26.298251264235553, val loss: 28.570885249546595\n",
      "learning time: 0:01:18.764057\n",
      "epoch: 28, lr: 0.0025\n",
      "train loss: 30.3644920797909, val loss: 22.59522042955671\n",
      "test loss: 28.649869782584055\n",
      "learning time: 0:01:22.312635\n"
     ]
    },
    {
     "data": {
      "image/png": "[encoded data removed]",
      "text/plain": [
       "<Figure size 432x288 with 1 Axes>"
      ]
     },
     "metadata": {
      "needs_background": "light"
     },
     "output_type": "display_data"
    }
   ],
   "source": [
    "#example using cosmosis/qchem ANI1x dataset with filter and custom model\n",
    "model_params = {'in_channels': 63*63, \n",
    "                'hidden': 2000, \n",
    "                'out_channels': 1, \n",
    "                'model_name': 'funnel'\n",
    "               }\n",
    "\n",
    "ds_params = {'train_params': {'input_dict': {'model_input': {'X': ['coulomb']},\n",
    "                                             'criterion_input': {'target': ['wb97x_dz.energy']}},\n",
    "                              'pad_feats': ['coulomb'],\n",
    "                              'pad': 63, #length of the longest molecule in the dataset\n",
    "                              'flatten': True,\n",
    "                              'criterion': ['wb97x_dz.energy'],\n",
    "                              'conformation': 'max',\n",
    "                              'in_file': './data/ani1x/ani1x-release.h5'}}\n",
    "\n",
    "metrics_params = {'report_interval': 20}\n",
    "\n",
    "crit_params = {'reduction': 'sum'}\n",
    "sample_params = {'set_seed': 88,\n",
    "                 'splits': (.7,.15)}\n",
    "sched_params = {'factor': .5,\n",
    "                'patience': 5,\n",
    "                'cooldown': 5}\n",
    "opt_params = {'lr': 0.01}\n",
    "\n",
    "l = Learn([ANI1x], FFNet, Selector, Optimizer=Adam, Scheduler=ReduceLROnPlateau, Criterion=L1Loss, \n",
    "          model_params=model_params, ds_params=ds_params, sample_params=sample_params,\n",
    "          opt_params=opt_params, sched_params=sched_params, crit_params=crit_params,\n",
    "          batch_size=64, epochs=10)"
   ]
  },
  {
   "cell_type": "code",
   "execution_count": null,
   "metadata": {},
   "outputs": [],
   "source": []
  }
 ],
 "metadata": {
  "kernelspec": {
   "display_name": "Python 3",
   "language": "python",
   "name": "python3"
  },
  "language_info": {
   "codemirror_mode": {
    "name": "ipython",
    "version": 3
   },
   "file_extension": ".py",
   "mimetype": "text/x-python",
   "name": "python",
   "nbconvert_exporter": "python",
   "pygments_lexer": "ipython3",
   "version": "3.8.12"
  }
 },
 "nbformat": 4,
 "nbformat_minor": 4
}
