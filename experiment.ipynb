{
 "cells": [
  {
   "cell_type": "code",
   "execution_count": null,
   "metadata": {},
   "outputs": [],
   "source": [
    "# This is a series of examples using the icanswim/qchem quantum mechanic machine learning repo\n",
    "# icanswim/qchem utilizes the icanswim/cosmosis data science machine learning repo"
   ]
  },
  {
   "cell_type": "code",
   "execution_count": 1,
   "metadata": {},
   "outputs": [
    {
     "name": "stderr",
     "output_type": "stream",
     "text": [
      "RDKit WARNING: [23:23:40] Enabling RDKit 2019.09.3 jupyter extensions\n"
     ]
    }
   ],
   "source": [
    "import sys # required for relative imports in jupyter lab\n",
    "sys.path.insert(0, '../') \n",
    "\n",
    "from cosmosis.model import FFNet\n",
    "from cosmosis.dataset import SKDS\n",
    "from cosmosis.learning import Learn, Selector\n",
    "\n",
    "from dataset import QM7, QM7b, QM7X, ANI1x, QM9, PGDS\n",
    "from model import pyg_model, GraphNet\n",
    "\n",
    "from torch.optim import Adam\n",
    "from torch.nn import MSELoss, L1Loss, NLLLoss, CrossEntropyLoss\n",
    "from torch.optim.lr_scheduler import ReduceLROnPlateau\n",
    "\n",
    "from torch_geometric.loader import DataLoader\n"
   ]
  },
  {
   "cell_type": "code",
   "execution_count": 2,
   "metadata": {
    "tags": []
   },
   "outputs": [
    {
     "name": "stdout",
     "output_type": "stream",
     "text": [
      "loading QM9 datadic from a pickled copy...\n",
      "CDataset created...\n"
     ]
    },
    {
     "data": {
      "text/plain": [
       "{'model_input': {'X': array([6., 1., 1., 1., 1., 0., 0., 0., 0., 0., 4., 1., 1., 1., 1., 0., 0.,\n",
       "         0., 0., 0.], dtype=float32),\n",
       "  'embed': [array([5, 1, 1, 1, 1]), array([1, 1, 1, 1, 1])],\n",
       "  'coulomb': array([[36.858112  , 10.543005  , 10.838454  , 10.8277    , 10.311594  ],\n",
       "         [ 0.90403795,  0.5       ,  1.8064089 ,  1.8046168 ,  1.7185988 ],\n",
       "         [ 0.90403795,  1.7571673 ,  0.5       ,  1.8046168 ,  1.7185988 ],\n",
       "         [ 0.90403795,  1.7571673 ,  1.8064089 ,  0.5       ,  1.7185988 ],\n",
       "         [ 0.90403795,  1.7571673 ,  1.8064089 ,  1.8046168 ,  0.5       ]],\n",
       "        dtype=float32),\n",
       "  'edge_index': array([[0, 1],\n",
       "         [1, 0],\n",
       "         [0, 2],\n",
       "         [2, 0],\n",
       "         [0, 3],\n",
       "         [3, 0],\n",
       "         [0, 4],\n",
       "         [4, 0]])},\n",
       " 'criterion_input': {'target': array([-40.47893], dtype=float32)}}"
      ]
     },
     "execution_count": 2,
     "metadata": {},
     "output_type": "execute_result"
    }
   ],
   "source": [
    "#example exploring cosmosis/qchem QM9 dataset with rdkit data augmentation\n",
    "\n",
    "ds_params = {'train_params': {'input_dict': {'model_input': {'X': ['atomic_number','aromatic',\n",
    "                                                                   'degree','charge'],\n",
    "                                                             'embed': ['hybridization','chirality'],\n",
    "                                                             'coulomb': ['coulomb'],\n",
    "                                                             'edge_index': ['edge_indices'],\n",
    "                                                            },\n",
    "                                             'criterion_input': {'target': ['U0']}},\n",
    "                              'n': 10000,\n",
    "                              'db': 'rdkit',\n",
    "                              'n_conformers': 1,\n",
    "                              'pad': False,\n",
    "                              'pad_feats': ['mulliken','coulomb','aromatic','degree',\n",
    "                                            'charge','n_hs','n_rads','atomic_number',\n",
    "                                            'hybridization','chirality'],\n",
    "                              'as_tensor': False,\n",
    "                              'filter_on': ('n_atoms','<','18'),\n",
    "                              'use_pickle': 'qm9_test.p',\n",
    "                              'flatten': False}}\n",
    "\n",
    "qm9 = QM9(**ds_params['train_params'])\n",
    "qm9[1]"
   ]
  },
  {
   "cell_type": "code",
   "execution_count": 3,
   "metadata": {},
   "outputs": [
    {
     "name": "stdout",
     "output_type": "stream",
     "text": [
      "longest molecule index:  5806  length:  104\n",
      "shortest molecule index:  3  length:  12\n"
     ]
    },
    {
     "data": {
      "text/plain": [
       "{'model_input': {'X': array([8., 1., 1., 0., 0., 0., 2., 1., 1., 0., 0., 0.], dtype=float32),\n",
       "  'embed': [array([5, 1, 1]), array([1, 1, 1])],\n",
       "  'coulomb': array([[73.51671  , 34.509003 , 34.45475  ],\n",
       "         [ 1.0017037,  0.5      ,  4.3068438],\n",
       "         [ 1.0017037,  4.3136253,  0.5      ]], dtype=float32),\n",
       "  'edge_index': array([[0, 1],\n",
       "         [1, 0],\n",
       "         [0, 2],\n",
       "         [2, 0]])},\n",
       " 'criterion_input': {'target': array([-76.4047], dtype=float32)}}"
      ]
     },
     "execution_count": 3,
     "metadata": {},
     "output_type": "execute_result"
    }
   ],
   "source": [
    "#example exploring cosmosis/qchem QM9 dataset with rdkit data augmentation\n",
    "l, s, li, si = 0, 9999, 0, 0\n",
    "for i in qm9.ds_idx:\n",
    "    d = qm9[i]['model_input']['X'].shape[0]\n",
    "    if d > l:\n",
    "        l = d\n",
    "        li = i\n",
    "    if d < s:\n",
    "        s = d\n",
    "        si = i\n",
    "print('longest molecule index: ', li, ' length: ', l)\n",
    "print('shortest molecule index: ', si, ' length: ', s)\n",
    "qm9[si]"
   ]
  },
  {
   "cell_type": "code",
   "execution_count": 4,
   "metadata": {},
   "outputs": [
    {
     "name": "stdout",
     "output_type": "stream",
     "text": [
      "creating pytorch geometric QM9 dataset...\n",
      "CDataset created...\n",
      "Batch(x=[20, 11], edge_index=[2, 38], edge_attr=[38, 4], y=[2, 19], pos=[20, 3], z=[20], name=[2], idx=[2], batch=[20], ptr=[3])\n",
      "tensor([ 0,  9, 20])\n",
      "tensor([440, 243])\n",
      "tensor([[0., 0., 0., 1., 0., 8., 0., 0., 0., 0., 0.],\n",
      "        [0., 1., 0., 0., 0., 6., 0., 0., 0., 0., 0.],\n",
      "        [0., 1., 0., 0., 0., 6., 0., 0., 0., 0., 2.],\n",
      "        [0., 0., 1., 0., 0., 7., 0., 0., 0., 0., 0.],\n",
      "        [0., 1., 0., 0., 0., 6., 0., 0., 0., 0., 1.],\n",
      "        [0., 0., 0., 1., 0., 8., 0., 0., 0., 0., 0.],\n",
      "        [1., 0., 0., 0., 0., 1., 0., 0., 0., 0., 0.],\n",
      "        [1., 0., 0., 0., 0., 1., 0., 0., 0., 0., 0.],\n",
      "        [1., 0., 0., 0., 0., 1., 0., 0., 0., 0., 0.],\n",
      "        [0., 1., 0., 0., 0., 6., 0., 0., 0., 0., 3.],\n",
      "        [0., 1., 0., 0., 0., 6., 0., 0., 0., 0., 0.],\n",
      "        [0., 0., 0., 1., 0., 8., 0., 0., 0., 0., 0.],\n",
      "        [0., 0., 0., 1., 0., 8., 0., 0., 0., 0., 0.],\n",
      "        [0., 1., 0., 0., 0., 6., 0., 0., 0., 0., 1.],\n",
      "        [0., 0., 1., 0., 0., 7., 0., 0., 0., 0., 1.],\n",
      "        [1., 0., 0., 0., 0., 1., 0., 0., 0., 0., 0.],\n",
      "        [1., 0., 0., 0., 0., 1., 0., 0., 0., 0., 0.],\n",
      "        [1., 0., 0., 0., 0., 1., 0., 0., 0., 0., 0.],\n",
      "        [1., 0., 0., 0., 0., 1., 0., 0., 0., 0., 0.],\n",
      "        [1., 0., 0., 0., 0., 1., 0., 0., 0., 0., 0.]])\n",
      "Data(x=[4, 11], edge_index=[2, 6], edge_attr=[6, 4], y=[1, 19], pos=[4, 3], z=[4], name='gdb_2', idx=[1])\n",
      "tensor([[0., 0., 1., 0., 0., 7., 0., 0., 0., 0., 3.],\n",
      "        [1., 0., 0., 0., 0., 1., 0., 0., 0., 0., 0.],\n",
      "        [1., 0., 0., 0., 0., 1., 0., 0., 0., 0., 0.],\n",
      "        [1., 0., 0., 0., 0., 1., 0., 0., 0., 0., 0.]])\n",
      "tensor([1])\n"
     ]
    }
   ],
   "source": [
    "#example exploring cosmosis/qchem PyG dataset wrapper with Data object output\n",
    "import numpy as np\n",
    "ds_params = {'train_params': {'dataset': 'QM9',\n",
    "                              'pg_params': {'root': './data/'}}}\n",
    "\n",
    "pgds = PGDS(**ds_params['train_params'])\n",
    "ds_idx = np.arange(1000)\n",
    "selector = Selector(train_idx=ds_idx)\n",
    "selector('train')\n",
    "loader = DataLoader(pgds, batch_size=2, sampler=selector)\n",
    "batch = next(iter(loader))\n",
    "print(batch)\n",
    "print(batch.ptr)\n",
    "print(batch.idx)\n",
    "print(batch.x)\n",
    "print(pgds[1])\n",
    "print(pgds[1].x)\n",
    "print(pgds[1].idx)"
   ]
  },
  {
   "cell_type": "code",
   "execution_count": 5,
   "metadata": {
    "tags": []
   },
   "outputs": [
    {
     "name": "stdout",
     "output_type": "stream",
     "text": [
      "creating pytorch geometric QM9 dataset...\n",
      "CDataset created...\n"
     ]
    },
    {
     "data": {
      "text/plain": [
       "{'model_input': {'X': tensor([[0., 0., 1., 0., 0., 7., 0., 0., 0., 0., 3.],\n",
       "          [1., 0., 0., 0., 0., 1., 0., 0., 0., 0., 0.],\n",
       "          [1., 0., 0., 0., 0., 1., 0., 0., 0., 0., 0.],\n",
       "          [1., 0., 0., 0., 0., 1., 0., 0., 0., 0., 0.],\n",
       "          [0., 0., 0., 0., 0., 0., 0., 0., 0., 0., 0.],\n",
       "          [0., 0., 0., 0., 0., 0., 0., 0., 0., 0., 0.],\n",
       "          [0., 0., 0., 0., 0., 0., 0., 0., 0., 0., 0.],\n",
       "          [0., 0., 0., 0., 0., 0., 0., 0., 0., 0., 0.],\n",
       "          [0., 0., 0., 0., 0., 0., 0., 0., 0., 0., 0.],\n",
       "          [0., 0., 0., 0., 0., 0., 0., 0., 0., 0., 0.],\n",
       "          [0., 0., 0., 0., 0., 0., 0., 0., 0., 0., 0.],\n",
       "          [0., 0., 0., 0., 0., 0., 0., 0., 0., 0., 0.],\n",
       "          [0., 0., 0., 0., 0., 0., 0., 0., 0., 0., 0.],\n",
       "          [0., 0., 0., 0., 0., 0., 0., 0., 0., 0., 0.],\n",
       "          [0., 0., 0., 0., 0., 0., 0., 0., 0., 0., 0.],\n",
       "          [0., 0., 0., 0., 0., 0., 0., 0., 0., 0., 0.],\n",
       "          [0., 0., 0., 0., 0., 0., 0., 0., 0., 0., 0.],\n",
       "          [0., 0., 0., 0., 0., 0., 0., 0., 0., 0., 0.],\n",
       "          [0., 0., 0., 0., 0., 0., 0., 0., 0., 0., 0.],\n",
       "          [0., 0., 0., 0., 0., 0., 0., 0., 0., 0., 0.],\n",
       "          [0., 0., 0., 0., 0., 0., 0., 0., 0., 0., 0.],\n",
       "          [0., 0., 0., 0., 0., 0., 0., 0., 0., 0., 0.],\n",
       "          [0., 0., 0., 0., 0., 0., 0., 0., 0., 0., 0.],\n",
       "          [0., 0., 0., 0., 0., 0., 0., 0., 0., 0., 0.],\n",
       "          [0., 0., 0., 0., 0., 0., 0., 0., 0., 0., 0.],\n",
       "          [0., 0., 0., 0., 0., 0., 0., 0., 0., 0., 0.],\n",
       "          [0., 0., 0., 0., 0., 0., 0., 0., 0., 0., 0.],\n",
       "          [0., 0., 0., 0., 0., 0., 0., 0., 0., 0., 0.],\n",
       "          [0., 0., 0., 0., 0., 0., 0., 0., 0., 0., 0.]])},\n",
       " 'criterion_input': {'target': tensor([[ 1.6256e+00,  9.4600e+00, -6.9933e+00,  2.2558e+00,  9.2491e+00,\n",
       "            2.6156e+01,  9.3493e-01, -1.5381e+03, -1.5381e+03, -1.5380e+03,\n",
       "           -1.5387e+03,  6.3160e+00, -1.2006e+01, -1.2082e+01, -1.2159e+01,\n",
       "           -1.1246e+01,  2.9361e+02,  2.9354e+02,  1.9139e+02]])}}"
      ]
     },
     "execution_count": 5,
     "metadata": {},
     "output_type": "execute_result"
    }
   ],
   "source": [
    "#example exploring cosmosis/qchem PyG dataset wrapper, padded with dictionary output\n",
    "ds_params = {'train_params': {'dataset': 'QM9',\n",
    "                              'use_pyg': False,\n",
    "                              'pad': (29,11),\n",
    "                              'pad_feats': ['x'],\n",
    "                              'flatten': False,\n",
    "                              'input_dict': {'model_input': {'X': ['x']},\n",
    "                                             'criterion_input': {'target': ['y']}},\n",
    "                              'pg_params': {'root': './data/'}}}\n",
    "\n",
    "pgds = PGDS(**ds_params['train_params'])\n",
    "pgds[1]"
   ]
  },
  {
   "cell_type": "code",
   "execution_count": 6,
   "metadata": {
    "tags": []
   },
   "outputs": [
    {
     "name": "stdout",
     "output_type": "stream",
     "text": [
      "loading QM9 datadic from a pickled copy...\n",
      "CDataset created...\n",
      "FFNet model loaded...\n",
      "CModel loaded...\n",
      "running model on gpu...\n",
      "learning time: 0:00:04.969609\n",
      "epoch: 0, lr: 0.01\n",
      "train loss: 355.50449829101564, val loss: 353.8243408203125\n",
      "learning time: 0:00:15.055165\n",
      "epoch: 8, lr: 0.01\n",
      "train loss: 47.78565216064453, val loss: 61.08023452758789\n",
      "test loss: 30.124879837036133\n",
      "learning time: 0:00:16.884816\n"
     ]
    },
    {
     "data": {
      "image/png": "[encoded data removed]",
      "text/plain": [
       "<Figure size 432x288 with 1 Axes>"
      ]
     },
     "metadata": {
      "needs_background": "light"
     },
     "output_type": "display_data"
    }
   ],
   "source": [
    "#example cosmosis/qchem QM9 dataset with filter, rdkit data augmentation, \n",
    "#embeddings and custom model \n",
    "rdkit_features = ['atom_type','atomic_number','aromatic','chirality',\n",
    "                  'degree','charge','n_hs','n_rads','hybridization',\n",
    "                  'edge_indices','edge_attr','rdmol_block','n_atoms',\n",
    "                  'xyz','distance','coulomb','adjacency','rdmol']\n",
    "\n",
    "rdkit_edge = ['edge_indices','edge_attr']\n",
    "\n",
    "qm9_features = ['A','B','C','mu','alpha','homo','lumo', 'gap','r2','zpve',\n",
    "                'U0','U','H','G','Cv','qm9_n_atoms','qm9_block','qm9_atom_type',\n",
    "                'qm9_xyz','mulliken','in_file','smile','distance','coulomb']\n",
    "\n",
    "ds_params = {'train_params': {'input_dict': {'model_input': {'X': ['aromatic','degree',\n",
    "                                                                   'charge','coulomb'],\n",
    "                                                             'embed': ['hybridization','chirality']},\n",
    "                                             'criterion_input': {'target': ['U0']}},\n",
    "                              #'n': 10000, #non-random for testing\n",
    "                              'db': 'rdkit',\n",
    "                              'n_conformers': 1,\n",
    "                              'pad': 29,\n",
    "                              'pad_feats': ['mulliken','coulomb','aromatic','degree',\n",
    "                                            'charge','n_hs','n_rads','atomic_number',\n",
    "                                            'hybridization','chirality'],\n",
    "                              'as_tensor': True,\n",
    "                              'filter_on': ('n_atoms','>','10'), #filter out molecules with less than 10 atoms\n",
    "                              'use_pickle': 'qm9_test.p',\n",
    "                              'flatten': True}}\n",
    "\n",
    "\n",
    "model_params = {'in_channels': 29+29+29+29*29+29*16+29*16, \n",
    "                'hidden': 4096, \n",
    "                'out_channels': 1, \n",
    "                'model_name': 'funnel',\n",
    "                'embed_params': [('hybridization',9,16,0,True),('chirality',5,16,0,True)]\n",
    "               }\n",
    "                \n",
    "metrics_params = {'report_interval': 1,\n",
    "                  'log_plot': False}\n",
    "\n",
    "crit_params = {'reduction': 'sum'}\n",
    "\n",
    "sample_params = {'set_seed': 88,\n",
    "                 'splits': (.7,.15),\n",
    "                 'subset': .2 #create random subset\n",
    "                }\n",
    "\n",
    "sched_params = {'factor': .5,\n",
    "                'patience': 5,\n",
    "                'cooldown': 2}\n",
    "\n",
    "opt_params = {'lr': 0.01}\n",
    "\n",
    "l = Learn([QM9], FFNet, Selector, Optimizer=Adam, Scheduler=ReduceLROnPlateau, Criterion=L1Loss, \n",
    "          model_params=model_params, ds_params=ds_params, sample_params=sample_params,\n",
    "          opt_params=opt_params, sched_params=sched_params, crit_params=crit_params,\n",
    "          batch_size=256, epochs=10)"
   ]
  },
  {
   "cell_type": "code",
   "execution_count": 7,
   "metadata": {
    "tags": []
   },
   "outputs": [
    {
     "name": "stdout",
     "output_type": "stream",
     "text": [
      "creating pytorch geometric TUDataset dataset...\n",
      "CDataset created...\n",
      "GNet model loaded...\n",
      "CModel loaded...\n",
      "running model on gpu...\n",
      "learning time: 0:00:00.744910\n",
      "epoch: 0, lr: 0.01\n",
      "train loss: 0.08213378069922328, val loss: 0.07205936561028163\n",
      "sklearn train metric: 0.6328125, sklearn validation metric: 0.75\n",
      "learning time: 0:00:06.129738\n",
      "epoch: 8, lr: 0.01\n",
      "train loss: 0.06641334318555892, val loss: 0.067288422336181\n",
      "sklearn train metric: 0.7734375, sklearn validation metric: 0.7916666666666666\n",
      "test loss: 0.07233631610870361\n",
      "learning time: 0:00:07.086205\n",
      "sklearn test metric: \n",
      "0.6666666666666666 \n",
      "\n"
     ]
    },
    {
     "data": {
      "image/png": "[encoded data removed]",
      "text/plain": [
       "<Figure size 432x288 with 1 Axes>"
      ]
     },
     "metadata": {
      "needs_background": "light"
     },
     "output_type": "display_data"
    }
   ],
   "source": [
    "#example cosmosis/qchem PyG dataset wrapper with Data object output and\n",
    "#sklearn metrics and custom PyG model\n",
    "\n",
    "model_params = {'in_channels': 7,\n",
    "                'hidden': 64,\n",
    "                'out_channels': 2}\n",
    "\n",
    "ds_params = {'train_params': {'dataset': 'TUDataset',\n",
    "                              'use_pyg': True,\n",
    "                              'pg_params': {'root': './data/',\n",
    "                                            'name': 'MUTAG'}}}\n",
    "\n",
    "metrics_params = {'report_interval': 5,\n",
    "                  'log_plot': False,\n",
    "                  'sk_metric_name': 'accuracy_score',\n",
    "                  'sk_params': {}}\n",
    "\n",
    "opt_params = {'lr': 0.01}\n",
    "\n",
    "crit_params = {}\n",
    "\n",
    "sample_params = {'set_seed': 88,\n",
    "                 'splits': (.7, .15)}\n",
    "\n",
    "sched_params = {'factor': .5,\n",
    "                'patience': 5,\n",
    "                'cooldown': 5}\n",
    "\n",
    "l = Learn([PGDS], GraphNet, Selector, \n",
    "          Optimizer=Adam, Scheduler=ReduceLROnPlateau, Criterion=CrossEntropyLoss, DataLoader=DataLoader,\n",
    "          model_params=model_params, ds_params=ds_params, sample_params=sample_params,\n",
    "          opt_params=opt_params, sched_params=sched_params, crit_params=crit_params,\n",
    "          metrics_params=metrics_params,\n",
    "          batch_size=8, epochs=10)"
   ]
  },
  {
   "cell_type": "code",
   "execution_count": 7,
   "metadata": {
    "tags": []
   },
   "outputs": [
    {
     "name": "stdout",
     "output_type": "stream",
     "text": [
      "creating pytorch geometric QM9 dataset...\n",
      "CDataset created...\n",
      "FFNet model loaded...\n",
      "CModel loaded...\n",
      "running model on gpu...\n",
      "learning time: 0:00:07.681883\n",
      "epoch: 0, lr: 0.01\n",
      "train loss: 481.63168569506047, val loss: 19.071337034827785\n",
      "learning time: 0:00:23.146188\n",
      "epoch: 2, lr: 0.01\n",
      "train loss: 12.531242926247648, val loss: 12.041052906136764\n",
      "learning time: 0:00:38.780920\n",
      "epoch: 4, lr: 0.01\n",
      "train loss: 11.635941462690424, val loss: 11.457228710776882\n",
      "learning time: 0:00:53.719846\n",
      "epoch: 6, lr: 0.01\n",
      "train loss: 11.24677851887978, val loss: 11.903618298078838\n",
      "learning time: 0:01:09.265292\n",
      "epoch: 8, lr: 0.005\n",
      "train loss: 10.471288961522719, val loss: 10.325148745586997\n",
      "test loss: 9.990573763847351\n",
      "learning time: 0:01:19.380947\n"
     ]
    },
    {
     "data": {
      "image/png": "[encoded data removed]",
      "text/plain": [
       "<Figure size 432x288 with 1 Axes>"
      ]
     },
     "metadata": {
      "needs_background": "light"
     },
     "output_type": "display_data"
    }
   ],
   "source": [
    "#example cosmosis/qchem PyG dataset wrapper with custum transform with\n",
    "#dictionary output and custom model\n",
    "import numpy as np\n",
    "\n",
    "class IndexTransform():\n",
    "    #select index i from dataset with multiple target outputs\n",
    "    def __init__(self, i):\n",
    "        self.i = i\n",
    "    def __call__(self, arr):\n",
    "        return np.reshape(arr[self.i], (1,))\n",
    "\n",
    "model_params = {'in_channels': 319, \n",
    "                'hidden': 512, \n",
    "                'out_channels': 1, \n",
    "                'model_name': 'funnel'}\n",
    "\n",
    "ds_params = {'train_params': {'dataset': 'QM9',\n",
    "                              'use_pyg': False,\n",
    "                              'pad': (29,11),\n",
    "                              'pad_feats': ['x'],\n",
    "                              'flatten': True,\n",
    "                              'target_transform': [IndexTransform(1)],\n",
    "                              'input_dict': {'model_input': {'X': ['x']},\n",
    "                                             'criterion_input': {'target': ['y']}},\n",
    "                              'pg_params': {'root': './data/'}}}\n",
    "\n",
    "metrics_params = {'report_interval': 10,\n",
    "                  'log_plot': True}\n",
    "\n",
    "opt_params = {'lr': 0.01}\n",
    "\n",
    "crit_params = {'reduction': 'sum'}\n",
    "\n",
    "sample_params = {'set_seed': 88,\n",
    "                 'splits': (.7, .15)}\n",
    "\n",
    "sched_params = {'factor': .5,\n",
    "                'patience': 2,\n",
    "                'cooldown': 1}\n",
    "\n",
    "l = Learn([PGDS], FFNet, Selector, \n",
    "          Optimizer=Adam, Scheduler=ReduceLROnPlateau, Criterion=MSELoss, \n",
    "          model_params=model_params, ds_params=ds_params, sample_params=sample_params,\n",
    "          opt_params=opt_params, sched_params=sched_params, crit_params=crit_params,\n",
    "          metrics_params=metrics_params,\n",
    "          batch_size=256, epochs=10)"
   ]
  },
  {
   "cell_type": "code",
   "execution_count": 8,
   "metadata": {
    "tags": []
   },
   "outputs": [
    {
     "name": "stdout",
     "output_type": "stream",
     "text": [
      "CDataset created...\n",
      "FFNet model loaded...\n",
      "CModel loaded...\n",
      "running model on gpu...\n",
      "learning time: 0:00:01.410725\n",
      "epoch: 0, lr: 0.01\n",
      "train loss: 1531.2388787520558, val loss: 1501.6782531738281\n",
      "learning time: 0:00:11.455696\n",
      "epoch: 8, lr: 0.01\n",
      "train loss: 40.166971708598886, val loss: 40.18150806427002\n",
      "learning time: 0:00:13.982745\n",
      "epoch: 10, lr: 0.01\n",
      "train loss: 37.44237458078485, val loss: 35.43085956573486\n",
      "learning time: 0:00:25.160063\n",
      "epoch: 19, lr: 0.005\n",
      "train loss: 31.270781667608965, val loss: 30.584493160247803\n",
      "test loss: 32.231781005859375\n",
      "learning time: 0:00:25.661550\n"
     ]
    },
    {
     "data": {
      "image/png": "[encoded data removed]",
      "text/plain": [
       "<Figure size 432x288 with 1 Axes>"
      ]
     },
     "metadata": {
      "needs_background": "light"
     },
     "output_type": "display_data"
    }
   ],
   "source": [
    "#example using cosmosis/qchem QM7 dataset and custom model\n",
    "model_params = {'in_channels': 23*23, \n",
    "                'hidden': 2048, \n",
    "                'out_channels': 1, \n",
    "                'model_name': 'funnel'}\n",
    "\n",
    "ds_params = {'train_params': {'input_dict': {'model_input': {'X': ['coulomb']},\n",
    "                                             'criterion_input': {'target': ['ae']}},\n",
    "                              'in_file': './data/qm7/qm7.mat',\n",
    "                              'flatten': True}}\n",
    "\n",
    "metrics_params = {'report_interval': 10,\n",
    "                  'log_plot': True}\n",
    "\n",
    "crit_params = {'reduction': 'sum'}\n",
    "\n",
    "sample_params = {'set_seed': 88,\n",
    "                 'splits': (.7,.15)}\n",
    "\n",
    "sched_params = {'factor': .5,\n",
    "                'patience': 3,\n",
    "                'cooldown': 2}\n",
    "\n",
    "opt_params = {'lr': 0.01}\n",
    "\n",
    "l = Learn([QM7], FFNet, Selector, \n",
    "          Optimizer=Adam, Scheduler=ReduceLROnPlateau, Criterion=L1Loss, \n",
    "          model_params=model_params, ds_params=ds_params, sample_params=sample_params,\n",
    "          opt_params=opt_params, sched_params=sched_params, crit_params=crit_params,\n",
    "          metrics_params=metrics_params,\n",
    "          batch_size=256, epochs=20)"
   ]
  },
  {
   "cell_type": "code",
   "execution_count": 9,
   "metadata": {
    "tags": []
   },
   "outputs": [
    {
     "name": "stdout",
     "output_type": "stream",
     "text": [
      "CDataset created...\n",
      "FFNet model loaded...\n",
      "CModel loaded...\n",
      "running model on gpu...\n",
      "learning time: 0:00:01.200439\n",
      "epoch: 0, lr: 0.01\n",
      "train loss: 1558.6392436780427, val loss: 1531.7764282226562\n",
      "learning time: 0:00:11.550224\n",
      "epoch: 9, lr: 0.01\n",
      "train loss: 52.21099170885588, val loss: 56.516178131103516\n",
      "learning time: 0:00:12.670290\n",
      "epoch: 10, lr: 0.01\n",
      "train loss: 48.410750941226354, val loss: 56.803677558898926\n",
      "learning time: 0:00:22.994689\n",
      "epoch: 19, lr: 0.01\n",
      "train loss: 41.331789920204564, val loss: 48.871891021728516\n",
      "test loss: 48.69622802734375\n",
      "learning time: 0:00:23.473723\n"
     ]
    },
    {
     "data": {
      "image/png": "[encoded data removed]",
      "text/plain": [
       "<Figure size 432x288 with 1 Axes>"
      ]
     },
     "metadata": {
      "needs_background": "light"
     },
     "output_type": "display_data"
    }
   ],
   "source": [
    "#example using the cosmosis/qchem QM7b dataset and custom model\n",
    "model_params = {'in_channels': 23*23, \n",
    "                'hidden': 2048, \n",
    "                'out_channels': 1, \n",
    "                'model_name': 'funnel'}\n",
    "\n",
    "ds_params = {'train_params': {'input_dict': {'model_input': {'X': ['coulomb']},\n",
    "                                             'criterion_input': {'target': ['E']}},\n",
    "                              'in_file': './data/qm7b/qm7b.mat',\n",
    "                              'flatten': True}}\n",
    "\n",
    "metrics_params = {'report_interval': 10,\n",
    "                  'log_plot': True}\n",
    "\n",
    "crit_params = {'reduction': 'sum'}\n",
    "\n",
    "sample_params = {'set_seed': 88,\n",
    "                 'splits': (.7,.15)}\n",
    "\n",
    "sched_params = {'factor': .5,\n",
    "                'patience': 3,\n",
    "                'cooldown': 2}\n",
    "\n",
    "opt_params = {'lr': 0.01}\n",
    "\n",
    "l = Learn([QM7b], FFNet, Selector, \n",
    "          Optimizer=Adam, Scheduler=ReduceLROnPlateau, Criterion=L1Loss, \n",
    "          model_params=model_params, ds_params=ds_params, sample_params=sample_params,\n",
    "          opt_params=opt_params, sched_params=sched_params, crit_params=crit_params,\n",
    "          metrics_params=metrics_params, \n",
    "          batch_size=256, epochs=20)"
   ]
  },
  {
   "cell_type": "code",
   "execution_count": 11,
   "metadata": {
    "tags": []
   },
   "outputs": [
    {
     "name": "stdout",
     "output_type": "stream",
     "text": [
      "mapping...  <HDF5 file \"1000.hdf5\" (mode r)>\n",
      "mapping...  <HDF5 file \"2000.hdf5\" (mode r)>\n",
      "mapping...  <HDF5 file \"3000.hdf5\" (mode r)>\n",
      "mapping...  <HDF5 file \"4000.hdf5\" (mode r)>\n",
      "mapping...  <HDF5 file \"5000.hdf5\" (mode r)>\n",
      "mapping...  <HDF5 file \"6000.hdf5\" (mode r)>\n",
      "mapping...  <HDF5 file \"7000.hdf5\" (mode r)>\n",
      "mapping...  <HDF5 file \"8000.hdf5\" (mode r)>\n",
      "molecular formula (idmol) mapped:  1000\n",
      "total molecular structures (idconf) mapped:  3723\n",
      "CDataset created...\n",
      "longest molecule length:  20  index:  233\n",
      "(20,)\n"
     ]
    },
    {
     "data": {
      "text/plain": [
       "{'model_input': {'X': array([6., 6., 6., 6., 6., 6., 1., 1., 1., 1., 1., 1., 1., 1., 1., 1., 1.,\n",
       "         1., 1., 1.], dtype=float32)},\n",
       " 'criterion_input': {'target': array([89.31956], dtype=float32)}}"
      ]
     },
     "execution_count": 11,
     "metadata": {},
     "output_type": "execute_result"
    }
   ],
   "source": [
    "#example exploring cosmosis/qchem QM7X dataset\n",
    "\n",
    "features = ['DIP','HLgap','atC6','atNUM','atPOL','atXYZ','eAT','hDIP',\n",
    "            'eC','eDFTB+MBD','eEE','eH','eKIN','eKSE','eL','eMBD','eNE', \n",
    "            'eNN','ePBE0','ePBE0+MBD','eTS','eX','eXC','eXX','hCHG', \n",
    "            'hRAT','hVDIP','hVOL','mC6','mPOL','mTPOL','pbe0FOR', \n",
    "            'sMIT','sRMSD','totFOR','vDIP','vEQ','vIQ','vTQ','vdwFOR','vdwR',\n",
    "            'coulomb'] #(1110,) with pad=23\n",
    "\n",
    "ds_params = {'train_params': {'input_dict': {'model_input': {'X': ['atNUM']},\n",
    "                                             'criterion_input': {'target': ['eAT']}},\n",
    "                              'pad': None, #longest molecule = 23\n",
    "                              'as_tensor': False,\n",
    "                              'n': 1000, #non-random subset for testing\n",
    "                              'selector': ['opt'],\n",
    "                              'flatten': True}}\n",
    "\n",
    "qm7x = QM7X(**ds_params['train_params'])\n",
    "\n",
    "l, m = 0, 0\n",
    "for i in qm7x.ds_idx:\n",
    "    s = qm7x[i]['model_input']['X'].shape[0]\n",
    "    if s > l:\n",
    "        l = s\n",
    "        m = i\n",
    "print('longest molecule length: ', l, ' index: ', m)\n",
    "print(qm7x[m]['model_input']['X'].shape) \n",
    "qm7x[m]\n"
   ]
  },
  {
   "cell_type": "code",
   "execution_count": 10,
   "metadata": {
    "tags": []
   },
   "outputs": [
    {
     "name": "stdout",
     "output_type": "stream",
     "text": [
      "mapping...  <HDF5 file \"1000.hdf5\" (mode r)>\n",
      "mapping...  <HDF5 file \"2000.hdf5\" (mode r)>\n",
      "mapping...  <HDF5 file \"3000.hdf5\" (mode r)>\n",
      "mapping...  <HDF5 file \"4000.hdf5\" (mode r)>\n",
      "mapping...  <HDF5 file \"5000.hdf5\" (mode r)>\n",
      "mapping...  <HDF5 file \"6000.hdf5\" (mode r)>\n",
      "mapping...  <HDF5 file \"7000.hdf5\" (mode r)>\n",
      "mapping...  <HDF5 file \"8000.hdf5\" (mode r)>\n",
      "molecular formula (idmol) mapped:  1000\n",
      "total molecular structures (idconf) mapped:  3723\n",
      "CDataset created...\n",
      "FFNet model loaded...\n",
      "CModel loaded...\n",
      "running model on gpu...\n",
      "learning time: 0:00:01.167692\n",
      "epoch: 0, lr: 0.01\n",
      "train loss: 64.46774215698242, val loss: 61.56050682067871\n",
      "test loss: 4.095234036445618\n",
      "learning time: 0:00:11.294766\n"
     ]
    },
    {
     "data": {
      "image/png": "[encoded data removed]",
      "text/plain": [
       "<Figure size 432x288 with 1 Axes>"
      ]
     },
     "metadata": {
      "needs_background": "light"
     },
     "output_type": "display_data"
    }
   ],
   "source": [
    "#example using the cosmosis/qchem QM7X dataset with filter and custom model\n",
    "model_params = {'in_channels': 23*23,\n",
    "                'hidden': 2048, \n",
    "                'out_channels': 1, \n",
    "                'model_name': 'funnel'}\n",
    "\n",
    "features = ['DIP','HLgap','atC6','atNUM','atPOL','atXYZ','hDIP','eAT',\n",
    "            'eC','eDFTB+MBD','eEE','eH','eKIN','eKSE','eL','eMBD','eNE', \n",
    "            'eNN','ePBE0','ePBE0+MBD','eTS','eX','eXC','eXX','hCHG', \n",
    "            'hRAT','hVDIP','hVOL','mC6','mPOL','mTPOL','pbe0FOR', \n",
    "            'sMIT','sRMSD','totFOR','vDIP','vEQ','vIQ','vTQ','vdwFOR','vdwR',\n",
    "            'coulomb','distance']\n",
    "\n",
    "ds_params = {'train_params': {'input_dict': {'model_input': {'X': ['coulomb']},\n",
    "                                             'criterion_input': {'target': ['eAT']}},\n",
    "                              'pad': 23,\n",
    "                              'selector': ['opt'],\n",
    "                              'flatten': True,\n",
    "                              'n': 1000, #non-random subset for testing\n",
    "                             }}\n",
    "\n",
    "metrics_params = {'report_interval': 10,\n",
    "                  'log_plot': True}\n",
    "\n",
    "crit_params = {'reduction': 'sum'}\n",
    "\n",
    "sample_params = {'set_seed': 88,\n",
    "                 'splits': (.7,.15),\n",
    "                 #'subset': .2 #create random subset\n",
    "                } \n",
    "\n",
    "sched_params = {'factor': .5,\n",
    "                'patience': 5,\n",
    "                'cooldown': 2}\n",
    "\n",
    "opt_params = {'lr': 0.01}\n",
    "\n",
    "l = Learn([QM7X], FFNet, Selector, \n",
    "          Optimizer=Adam, Scheduler=ReduceLROnPlateau, Criterion=L1Loss, \n",
    "          model_params=model_params, ds_params=ds_params, sample_params=sample_params,\n",
    "          opt_params=opt_params, sched_params=sched_params, crit_params=crit_params,\n",
    "          metrics_params=metrics_params,\n",
    "          batch_size=64, epochs=10)"
   ]
  },
  {
   "cell_type": "code",
   "execution_count": 11,
   "metadata": {
    "tags": []
   },
   "outputs": [
    {
     "name": "stdout",
     "output_type": "stream",
     "text": [
      "molecules loaded:  1000\n",
      "molecules loaded:  2000\n",
      "molecules loaded:  3000\n",
      "molecules loaded:  3114\n",
      "CDataset created...\n",
      "FFNet model loaded...\n",
      "CModel loaded...\n",
      "running model on gpu...\n",
      "learning time: 0:00:01.904432\n",
      "epoch: 0, lr: 0.01\n",
      "train loss: 546.5347675996668, val loss: 461.01753888811385\n",
      "learning time: 0:00:12.390501\n",
      "epoch: 6, lr: 0.01\n",
      "train loss: 33.97229912701775, val loss: 28.863830293927872\n",
      "test loss: 29.177114486694336\n",
      "learning time: 0:00:18.352502\n"
     ]
    },
    {
     "data": {
      "image/png": "[encoded data removed]",
      "text/plain": [
       "<Figure size 432x288 with 1 Axes>"
      ]
     },
     "metadata": {
      "needs_background": "light"
     },
     "output_type": "display_data"
    }
   ],
   "source": [
    "#example using cosmosis/qchem ANI1x dataset with filter and custom model\n",
    "model_params = {'in_channels': 63*63, \n",
    "                'hidden': 2000, \n",
    "                'out_channels': 1, \n",
    "                'model_name': 'funnel'\n",
    "               }\n",
    "\n",
    "ds_params = {'train_params': {'input_dict': {'model_input': {'X': ['coulomb']},\n",
    "                                             'criterion_input': {'target': ['wb97x_dz.energy']}},\n",
    "                              'pad_feats': ['coulomb'],\n",
    "                              'pad': 63, #length of the longest molecule in the dataset\n",
    "                              'flatten': True,\n",
    "                              'criterion': ['wb97x_dz.energy'],\n",
    "                              'conformation': 'max',\n",
    "                              'in_file': './data/ani1x/ani1x-release.h5'}}\n",
    "\n",
    "metrics_params = {'report_interval': 20}\n",
    "\n",
    "crit_params = {'reduction': 'sum'}\n",
    "sample_params = {'set_seed': 88,\n",
    "                 'splits': (.7,.15)}\n",
    "sched_params = {'factor': .5,\n",
    "                'patience': 5,\n",
    "                'cooldown': 5}\n",
    "opt_params = {'lr': 0.01}\n",
    "\n",
    "l = Learn([ANI1x], FFNet, Selector, Optimizer=Adam, Scheduler=ReduceLROnPlateau, Criterion=L1Loss, \n",
    "          model_params=model_params, ds_params=ds_params, sample_params=sample_params,\n",
    "          opt_params=opt_params, sched_params=sched_params, crit_params=crit_params,\n",
    "          batch_size=64, epochs=10)"
   ]
  },
  {
   "cell_type": "code",
   "execution_count": 12,
   "metadata": {},
   "outputs": [
    {
     "name": "stdout",
     "output_type": "stream",
     "text": [
      "# packages in environment at /home/operat0r/miniconda3/envs/qchem:\n",
      "#\n",
      "# Name                    Version                   Build  Channel\n",
      "_libgcc_mutex             0.1                        main  \n",
      "_openmp_mutex             4.5                       1_gnu  \n",
      "anyio                     3.4.0            py38h578d9bd_0    conda-forge\n",
      "argon2-cffi               20.1.0           py38h27cfd23_1  \n",
      "async_generator           1.10                       py_0    conda-forge\n",
      "attrs                     21.2.0             pyhd8ed1ab_0    conda-forge\n",
      "babel                     2.9.1              pyh44b312d_0    conda-forge\n",
      "backcall                  0.2.0              pyh9f0ad1d_0    conda-forge\n",
      "backports                 1.0                        py_2    conda-forge\n",
      "backports.functools_lru_cache 1.6.4              pyhd8ed1ab_0    conda-forge\n",
      "blas                      1.0                         mkl  \n",
      "bleach                    4.1.0              pyhd8ed1ab_0    conda-forge\n",
      "boost                     1.70.0           py38h9de70de_1    conda-forge\n",
      "boost-cpp                 1.70.0               ha2d47e9_1    conda-forge\n",
      "brotli                    1.0.9                h7f98852_5    conda-forge\n",
      "brotli-bin                1.0.9                h7f98852_5    conda-forge\n",
      "brotlipy                  0.7.0           py38h497a2fe_1001    conda-forge\n",
      "bzip2                     1.0.8                h7b6447c_0  \n",
      "c-ares                    1.17.1               h27cfd23_0  \n",
      "ca-certificates           2023.01.10           h06a4308_0  \n",
      "cached-property           1.5.2                hd8ed1ab_1    conda-forge\n",
      "cached_property           1.5.2              pyha770c72_1    conda-forge\n",
      "cairo                     1.16.0            h18b612c_1001    conda-forge\n",
      "certifi                   2022.12.7        py38h06a4308_0  \n",
      "cffi                      1.14.6           py38h400218f_0  \n",
      "charset-normalizer        2.0.9              pyhd8ed1ab_0    conda-forge\n",
      "cryptography              3.4.8            py38ha5dfef3_0    conda-forge\n",
      "cudatoolkit               10.2.89              hfd86e86_1  \n",
      "curl                      7.78.0               h1ccaba5_0  \n",
      "cycler                    0.11.0             pyhd8ed1ab_0    conda-forge\n",
      "dbus                      1.13.18              hb2f20db_0  \n",
      "decorator                 5.1.0              pyhd8ed1ab_0    conda-forge\n",
      "defusedxml                0.7.1              pyhd8ed1ab_0    conda-forge\n",
      "entrypoints               0.3             pyhd8ed1ab_1003    conda-forge\n",
      "expat                     2.4.1                h9c3ff4c_0    conda-forge\n",
      "ffmpeg                    4.3                  hf484d3e_0    pytorch\n",
      "fontconfig                2.13.1            hba837de_1005    conda-forge\n",
      "fonttools                 4.25.0             pyhd3eb1b0_0  \n",
      "freetype                  2.11.0               h70c0345_0  \n",
      "gettext                   0.19.8.1          h0b5b191_1005    conda-forge\n",
      "giflib                    5.2.1                h7b6447c_0  \n",
      "git                       2.32.0          pl5262hc120c5b_1  \n",
      "glib                      2.69.1               h5202010_0  \n",
      "gmp                       6.2.1                h2531618_2  \n",
      "gnutls                    3.6.15               he1e5248_0  \n",
      "googledrivedownloader     0.4                pyhd3deb0d_1    conda-forge\n",
      "gst-plugins-base          1.14.0               hbbd80ab_1  \n",
      "gstreamer                 1.14.0               h28cd5cc_2  \n",
      "h5py                      3.2.1           nompi_py38h9915d05_100    conda-forge\n",
      "hdf5                      1.10.6          nompi_h6a2412b_1114    conda-forge\n",
      "icu                       58.2              hf484d3e_1000    conda-forge\n",
      "idna                      3.1                pyhd3deb0d_0    conda-forge\n",
      "importlib-metadata        4.8.2            py38h578d9bd_0    conda-forge\n",
      "importlib_resources       5.4.0              pyhd8ed1ab_0    conda-forge\n",
      "intel-openmp              2021.4.0          h06a4308_3561  \n",
      "ipykernel                 5.5.5            py38hd0cf306_0    conda-forge\n",
      "ipython                   7.30.1           py38h578d9bd_0    conda-forge\n",
      "ipython_genutils          0.2.0                      py_1    conda-forge\n",
      "ipywidgets                8.0.4              pyhd8ed1ab_0    conda-forge\n",
      "jedi                      0.18.1           py38h578d9bd_0    conda-forge\n",
      "jinja2                    3.0.3              pyhd8ed1ab_0    conda-forge\n",
      "joblib                    1.1.0              pyhd8ed1ab_0    conda-forge\n",
      "jpeg                      9b                   h024ee3a_2  \n",
      "json5                     0.9.5              pyh9f0ad1d_0    conda-forge\n",
      "jsonschema                4.2.1              pyhd8ed1ab_1    conda-forge\n",
      "jupyter_client            7.1.0              pyhd8ed1ab_0    conda-forge\n",
      "jupyter_core              4.9.1            py38h578d9bd_1    conda-forge\n",
      "jupyter_server            1.13.1             pyhd8ed1ab_0    conda-forge\n",
      "jupyterlab                3.2.5              pyhd8ed1ab_0    conda-forge\n",
      "jupyterlab_pygments       0.1.2              pyh9f0ad1d_0    conda-forge\n",
      "jupyterlab_server         2.9.0              pyhd8ed1ab_0    conda-forge\n",
      "jupyterlab_widgets        3.0.5              pyhd8ed1ab_0    conda-forge\n",
      "kiwisolver                1.3.1            py38h2531618_0  \n",
      "krb5                      1.19.2               hcc1bbae_0    conda-forge\n",
      "lame                      3.100                h7b6447c_0  \n",
      "lcms2                     2.12                 h3be6417_0  \n",
      "ld_impl_linux-64          2.35.1               h7274673_9  \n",
      "libblas                   3.9.0            12_linux64_mkl    conda-forge\n",
      "libbrotlicommon           1.0.9                h7f98852_5    conda-forge\n",
      "libbrotlidec              1.0.9                h7f98852_5    conda-forge\n",
      "libbrotlienc              1.0.9                h7f98852_5    conda-forge\n",
      "libcblas                  3.9.0            12_linux64_mkl    conda-forge\n",
      "libcurl                   7.78.0               h0b77cf5_0  \n",
      "libedit                   3.1.20210910         h7f8727e_0  \n",
      "libev                     4.33                 h516909a_1    conda-forge\n",
      "libffi                    3.3                  he6710b0_2  \n",
      "libgcc-ng                 9.3.0               h5101ec6_17  \n",
      "libgfortran-ng            11.2.0              h69a702a_11    conda-forge\n",
      "libgfortran5              11.2.0              h5c6108e_11    conda-forge\n",
      "libgomp                   9.3.0               h5101ec6_17  \n",
      "libiconv                  1.15                 h63c8f33_5  \n",
      "libidn2                   2.3.2                h7f8727e_0  \n",
      "liblapack                 3.9.0            12_linux64_mkl    conda-forge\n",
      "libnghttp2                1.43.0               h812cca2_0    conda-forge\n",
      "libpng                    1.6.37               hbc83047_0  \n",
      "libsodium                 1.0.18               h36c2ea0_1    conda-forge\n",
      "libssh2                   1.9.0                h1ba5d50_1  \n",
      "libstdcxx-ng              9.3.0               hd4cf53a_17  \n",
      "libtasn1                  4.16.0               h27cfd23_0  \n",
      "libtiff                   4.2.0                h85742a9_0  \n",
      "libunistring              0.9.10               h27cfd23_0  \n",
      "libuuid                   2.32.1            h7f98852_1000    conda-forge\n",
      "libuv                     1.40.0               h7b6447c_0  \n",
      "libwebp                   1.2.0                h89dd481_0  \n",
      "libwebp-base              1.2.0                h27cfd23_0  \n",
      "libxcb                    1.13              h7f98852_1003    conda-forge\n",
      "libxml2                   2.9.12               h03d6c58_0  \n",
      "lz4-c                     1.9.3                h295c915_1  \n",
      "markupsafe                2.0.1            py38h497a2fe_0    conda-forge\n",
      "matplotlib                3.4.3            py38h578d9bd_1    conda-forge\n",
      "matplotlib-base           3.4.3            py38hbbc1b5f_0  \n",
      "matplotlib-inline         0.1.3              pyhd8ed1ab_0    conda-forge\n",
      "mistune                   0.8.4           py38h497a2fe_1004    conda-forge\n",
      "mkl                       2021.4.0           h06a4308_640  \n",
      "mkl-service               2.4.0            py38h7f8727e_0  \n",
      "mkl_fft                   1.3.1            py38hd3c417c_0  \n",
      "mkl_random                1.2.2            py38h51133e4_0  \n",
      "munkres                   1.1.4              pyh9f0ad1d_0    conda-forge\n",
      "nbclassic                 0.3.4              pyhd8ed1ab_0    conda-forge\n",
      "nbclient                  0.5.9              pyhd8ed1ab_0    conda-forge\n",
      "nbconvert                 6.3.0            py38h578d9bd_1    conda-forge\n",
      "nbformat                  5.1.3              pyhd8ed1ab_0    conda-forge\n",
      "ncurses                   6.3                  h7f8727e_2  \n",
      "nest-asyncio              1.5.4              pyhd8ed1ab_0    conda-forge\n",
      "nettle                    3.7.3                hbbd107a_1  \n",
      "networkx                  2.8.4            py38h06a4308_0  \n",
      "ninja                     1.10.2           py38hd09550d_3  \n",
      "notebook                  6.4.6              pyha770c72_0    conda-forge\n",
      "numpy                     1.21.2           py38h20f2e39_0  \n",
      "numpy-base                1.21.2           py38h79a1101_0  \n",
      "olefile                   0.46               pyhd3eb1b0_0  \n",
      "openh264                  2.1.0                hd408876_0  \n",
      "openssl                   1.1.1s               h7f8727e_0  \n",
      "packaging                 21.3               pyhd8ed1ab_0    conda-forge\n",
      "pandas                    1.2.5            py38h1abd341_0    conda-forge\n",
      "pandoc                    2.16.2               h7f98852_0    conda-forge\n",
      "pandocfilters             1.5.0              pyhd8ed1ab_0    conda-forge\n",
      "parso                     0.8.3              pyhd8ed1ab_0    conda-forge\n",
      "pcre                      8.45                 h9c3ff4c_0    conda-forge\n",
      "pcre2                     10.35                h14c3975_1  \n",
      "perl                      5.32.1          0_h7f98852_perl5    conda-forge\n",
      "pexpect                   4.8.0              pyh9f0ad1d_2    conda-forge\n",
      "pickleshare               0.7.5                   py_1003    conda-forge\n",
      "pillow                    8.4.0            py38h5aabda8_0  \n",
      "pip                       21.2.4           py38h06a4308_0  \n",
      "pixman                    0.38.0            h516909a_1003    conda-forge\n",
      "prometheus_client         0.12.0             pyhd8ed1ab_0    conda-forge\n",
      "prompt-toolkit            3.0.24             pyha770c72_0    conda-forge\n",
      "pthread-stubs             0.4               h36c2ea0_1001    conda-forge\n",
      "ptyprocess                0.7.0              pyhd3deb0d_0    conda-forge\n",
      "pycairo                   1.20.1           py38hf61ee4a_0    conda-forge\n",
      "pycparser                 2.21               pyhd8ed1ab_0    conda-forge\n",
      "pyg                       2.0.1           py38_torch_1.8.0_cu102    pyg\n",
      "pygments                  2.10.0             pyhd8ed1ab_0    conda-forge\n",
      "pyopenssl                 21.0.0             pyhd8ed1ab_0    conda-forge\n",
      "pyparsing                 3.0.6              pyhd8ed1ab_0    conda-forge\n",
      "pyqt                      5.9.2            py38h05f1152_4  \n",
      "pyrsistent                0.18.0           py38heee7806_0  \n",
      "pysocks                   1.7.1            py38h578d9bd_4    conda-forge\n",
      "python                    3.8.12               h12debd9_0  \n",
      "python-dateutil           2.8.2              pyhd8ed1ab_0    conda-forge\n",
      "python-louvain            0.15               pyhd3eb1b0_0  \n",
      "python_abi                3.8                      2_cp38    conda-forge\n",
      "pytorch                   1.8.0           py3.8_cuda10.2_cudnn7.6.5_0    pytorch\n",
      "pytorch-cluster           1.5.9           py38_torch_1.8.0_cu102    pyg\n",
      "pytorch-scatter           2.0.8           py38_torch_1.8.0_cu102    pyg\n",
      "pytorch-sparse            0.6.12          py38_torch_1.8.0_cu102    pyg\n",
      "pytorch-spline-conv       1.2.1           py38_torch_1.8.0_cu102    pyg\n",
      "pytz                      2021.3             pyhd8ed1ab_0    conda-forge\n",
      "pyyaml                    6.0              py38h7f8727e_1  \n",
      "pyzmq                     19.0.2           py38ha71036d_2    conda-forge\n",
      "qt                        5.9.7                h5867ecd_1  \n",
      "rdkit                     2019.09.3        py38hb31dc5d_0    conda-forge\n",
      "readline                  8.1                  h27cfd23_0  \n",
      "requests                  2.26.0             pyhd8ed1ab_1    conda-forge\n",
      "scikit-learn              0.24.2           py38hdc147b9_0    conda-forge\n",
      "scipy                     1.5.3            py38hb2138dd_0    conda-forge\n",
      "send2trash                1.8.0              pyhd8ed1ab_0    conda-forge\n",
      "setuptools                58.0.4           py38h06a4308_0  \n",
      "sip                       4.19.13          py38he6710b0_0  \n",
      "six                       1.16.0             pyhd3eb1b0_0  \n",
      "sniffio                   1.2.0            py38h578d9bd_2    conda-forge\n",
      "sqlite                    3.36.0               hc218d9a_0  \n",
      "terminado                 0.12.1           py38h578d9bd_1    conda-forge\n",
      "testpath                  0.5.0              pyhd8ed1ab_0    conda-forge\n",
      "threadpoolctl             3.0.0              pyh8a188c0_0    conda-forge\n",
      "tk                        8.6.11               h1ccaba5_0  \n",
      "torchaudio                0.8.0                      py38    pytorch\n",
      "torchvision               0.9.0                py38_cu102    pytorch\n",
      "tornado                   6.1              py38h497a2fe_1    conda-forge\n",
      "tqdm                      4.64.1           py38h06a4308_0  \n",
      "traitlets                 5.1.1              pyhd8ed1ab_0    conda-forge\n",
      "typing_extensions         3.10.0.2           pyh06a4308_0  \n",
      "urllib3                   1.26.7             pyhd8ed1ab_0    conda-forge\n",
      "wcwidth                   0.2.5              pyh9f0ad1d_2    conda-forge\n",
      "webencodings              0.5.1                      py_1    conda-forge\n",
      "websocket-client          1.2.3              pyhd8ed1ab_0    conda-forge\n",
      "wheel                     0.37.0             pyhd3eb1b0_1  \n",
      "widgetsnbextension        4.0.5              pyhd8ed1ab_0    conda-forge\n",
      "xorg-kbproto              1.0.7             h7f98852_1002    conda-forge\n",
      "xorg-libice               1.0.10               h7f98852_0    conda-forge\n",
      "xorg-libsm                1.2.3             hd9c2040_1000    conda-forge\n",
      "xorg-libx11               1.7.2                h7f98852_0    conda-forge\n",
      "xorg-libxau               1.0.9                h7f98852_0    conda-forge\n",
      "xorg-libxdmcp             1.1.3                h7f98852_0    conda-forge\n",
      "xorg-libxext              1.3.4                h7f98852_1    conda-forge\n",
      "xorg-libxrender           0.9.10            h7f98852_1003    conda-forge\n",
      "xorg-renderproto          0.11.1            h7f98852_1002    conda-forge\n",
      "xorg-xextproto            7.3.0             h7f98852_1002    conda-forge\n",
      "xorg-xproto               7.0.31            h27cfd23_1007  \n",
      "xz                        5.2.5                h7b6447c_0  \n",
      "yacs                      0.1.6              pyhd3eb1b0_1  \n",
      "yaml                      0.2.5                h7b6447c_0  \n",
      "zeromq                    4.3.4                h9c3ff4c_0    conda-forge\n",
      "zipp                      3.6.0              pyhd8ed1ab_0    conda-forge\n",
      "zlib                      1.2.11               h7b6447c_3  \n",
      "zstd                      1.4.9                haebb681_0  \n"
     ]
    }
   ],
   "source": [
    "!conda list"
   ]
  },
  {
   "cell_type": "code",
   "execution_count": null,
   "metadata": {},
   "outputs": [],
   "source": []
  }
 ],
 "metadata": {
  "kernelspec": {
   "display_name": "Python 3",
   "language": "python",
   "name": "python3"
  },
  "language_info": {
   "codemirror_mode": {
    "name": "ipython",
    "version": 3
   },
   "file_extension": ".py",
   "mimetype": "text/x-python",
   "name": "python",
   "nbconvert_exporter": "python",
   "pygments_lexer": "ipython3",
   "version": "3.8.12"
  }
 },
 "nbformat": 4,
 "nbformat_minor": 4
}
