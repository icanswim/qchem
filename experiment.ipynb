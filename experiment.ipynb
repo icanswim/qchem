{
 "cells": [
  {
   "cell_type": "code",
   "execution_count": null,
   "metadata": {},
   "outputs": [],
   "source": [
    "import sys # required for relative imports in jupyter lab\n",
    "sys.path.insert(0, '../') \n",
    "\n",
    "from cosmosis.model import FFNet\n",
    "from cosmosis.learning import Learn, Selector\n",
    "from cosmosis.dataset import SKDS\n",
    "\n",
    "from dataset import QM7, QM7b, QM7X, QM9, ANI1x\n",
    "\n",
    "from torch.optim import Adam\n",
    "from torch.nn import MSELoss, L1Loss\n",
    "from torch.optim.lr_scheduler import ReduceLROnPlateau"
   ]
  },
  {
   "cell_type": "code",
   "execution_count": null,
   "metadata": {},
<<<<<<< HEAD
   "outputs": [],
=======
   "outputs": [
    {
     "name": "stdout",
     "output_type": "stream",
     "text": [
      "CDataset created...\n",
      "SKDS make_regression created...\n",
      "CModel loaded...\n",
      "FFNet model loaded...\n",
      "learning time: 0:00:02.434742\n",
      "epoch: 0, lr: 0.01\n",
      "train loss: 23978.152199074073, val loss: 15984.25859375\n",
      "sklearn train metric: 0, sklearn validation metric: 0\n",
      "learning time: 0:00:08.888140\n",
      "epoch: 10, lr: 0.005\n",
      "train loss: 596.872641104239, val loss: 424.5347473144531\n",
      "sklearn train metric: 0, sklearn validation metric: 0\n",
      "test loss: 393.9575622558594\n",
      "learning time: 0:00:15.016041\n",
      "sklearn test metric: \n",
      "0 \n",
      "\n"
     ]
    },
    {
     "data": {
      "image/png": "iVBORw0KGgoAAAANSUhEUgAAAXwAAAD4CAYAAADvsV2wAAAAOXRFWHRTb2Z0d2FyZQBNYXRwbG90bGliIHZlcnNpb24zLjMuNCwgaHR0cHM6Ly9tYXRwbG90bGliLm9yZy8QVMy6AAAACXBIWXMAAAsTAAALEwEAmpwYAAAve0lEQVR4nO3deXxU1d348c93JpNM9oSEJSRgWN1AQCLi41LUVgFZ3Ioo2upjodYFbB+s+qtbqdja+lirUqh9pFZFUbEqWlyqVSmtCgHDviQgSwyQEMieSSaZ8/vjTkIIk5AwM5lJ8n2/XvO695575t5vLsP3njn3zrlijEEppVTXZwt1AEoppTqGJnyllOomNOErpVQ3oQlfKaW6CU34SinVTUSEOoDWpKammszMzFCHoZRSncbatWsPGWN6+loXlglfRCYDkwcPHkx2dnaow1FKqU5DRPa0tC4su3SMMe8aY2YlJiaGOhSllOoywjLhK6WUCrywTPgiMllEnistLQ11KEop1WWEZcLXLh2llAq8sEz4SimlAi8sE7526SilVOCFZcLXLh2llAq8sEz4/nrh39+wckdRqMNQSqmwEpY/vPKHu97D0jX72HagnKtGpfPAFaeTEhcV6rCUUirkulwL32G38fYd5zP7ksG8t6GA7z75OW+uzUcf9KKU6u7CMuH7e9HW6bDzs8tO5e+zL2RAaiz/88Z6frB4NXuLqwIcqVJKdR4Szi3frKws4+9YOh6PYclXe3j8g+3UeTz89LtDufWCAUTYw/Jcp5RSfhGRtcaYLF/rumbWW/1nyPsYAJtNuOm8TP7xs4u4cEhPfv3+NqYu+Dcb8/WWT6VU99L1En5dDaz7KyydAd+sbCxOS4zmuZtGs3DG2RSW1zB1wSoefW8LVbV1IQxWKaU6TtdL+BFRcNPbkJwJr1wHe75oXCUiTBiexsc/+w7Tx/Tn/1Z9w2W/X8nnegunUqob6HoJHyA2FX6wHBL6wpLvQ/7aY1YnRjt47KrhvP7j84iKsPHDxauZs/RriitqQhSwUkoFX4cmfBGJFZG1IjIp6DuL720l/dgUePkq2L/+uCpjBvRgxZwLmX3pEFZs3M+lT37OMr2FUynVRfmV8EVksYgUisimZuXjRWS7iOSJyH1NVt0LvO7PPtslMR1++C5EJcCLV8LBLcdViYqw87PvDWXF7AsZ1DOOuW+s58bnv2LfYb2FUynVtfjbwn8BGN+0QETswAJgAnAGcL2InCEi3wW2AAf93Gf7JPWHH7xj9e2/OAWKdvisNqR3PG/8+Dx+deUw1u8r5fo/f8mRytoODVUppYLJr4RvjFkJHG5WPAbIM8bsMsbUAkuBqcDFwFjgBmCmiPjct4jMEpFsEckuKgrQxdSUQVb3DlhJ//Aun9VsNuGmsafw8o/OpbCshtlLv6beo907SqmuIRh9+OnAvibL+UC6MeYXxpi7gVeAPxtjPL7ebIx5DvglsC4yMjJwUfUcaiX9uhr46xQo2dti1ZH9kvjVlWfyr9xD/O7D7YGLQSmlQigYCV98lDU2k40xLxhj3mttA0EbHrn3GXDTW1BTBn+dDGUFLVa97pz+zDi3P4s+38nfN+wPbBxKKRUCwUj4+UC/JssZQMuZ1YegPgCl70i48W9QWWwl/fKWLyk8PPlMRp+SzD3L1rP9QHngY1FKqQ4UjIS/BhgiIgNEJBKYDiwPwn5OXkYWzHjDauG/ONVK/j5ERtj444yziY2K4McvZVNa7e7gQJVSKnD8vS3zVeAL4FQRyReRW40xdcCdwIfAVuB1Y8zm9my3Q554dcp5cP1SOPINvDQVqo/4rNY7wcnCGWfzbUk1dy/9Go9exFVKdVL+3qVzvTEmzRjjMMZkGGOe95avMMYMNcYMMsbMb+92O+yZtgO/A9ctgaLt8NLV4CrzWS0rswcPTT6TT7cX8dTHvm/rVEqpcBeWQyt06DNth3wXvv9XOLDBGoahpsJntRvP7c+0rAye/mceH20+EPy4lFIqwMIy4Xe40ybCNc9D/mp4dTrUHv8rWxFh3tRhjMhI5Gevryev0PeJQSmlwlVYJvwO69Jp6swr4ao/we5V8NoMcLuOq+J02Fl442iiImzMeimbcpdexFVKdR5hmfA7tEunqbOmwZRnYOc/4W8zwccgan2Tolkw42z2FFfxP6+v14u4SqlOIywTfkha+A3OvgkuexS2Lod/PeGzytiBKfxi4ul8tOUgCz7N6+AAlVLq5IRlwg9ZC7/BeXfC8Gnwz/mw40OfVW45P5OrRqXz5Mc7+HRbYQcHqJRS7ReWCT/kRGDyH6DPcHjzR3Do+Fa8iPDYVcM5vU8Cs5d+ze5DlSEIVCml2k4TfksiY2D6ErA7YOkNPu/Rj46086ebRmO3CbNeyqayRp+Pq5QKX2GZ8EPah99UUn/4/gtQnAdv/wQ8xw/w2a9HDM9efzZ5hRX8fNkGfVqWUipshWXCD3kfflMDLoLL58O292Dl73xWuWBIKveOP42/b9zPn1b6HmtfKaVCLSwTftg59zYYcT189hhsW+GzyqyLBnLFWWn89oNt/Cs3QA9uUUqpANKE3xYiMOn3kDYS/jbL52MSRYTfXnMWQ3rFc9erX+szcZVSYUcTfls5oq2LuBFR3ou4x19fiI2K4E83jcbjMVy76D+s3KEtfaVU+AjLhB82F22bS8yAaS9aQyr/7cc+L+JmpsbyysyxxDsd/GDxah56ZxNVtXr3jlIq9MIy4YfVRdvmMs+Hy38NO96Hz3/js8qw9ETeu+sCbr1gAC9+sYcrnl7F13t9j7evlFIdJSwTftgbMxNGzoDPH4etvh/P63TYeXDSGbwy81xq6zxcs/A//O9H23HX+3x2u1JKBZ0m/JMhAlc8CX3Phrd+DIXbWqz6X4NSef/uC7lqVAbP/DOPq/74b3IP6vNxlVIdTxP+yXI44bqXrYu5S2+A6pIWqyY4HfzvtBEsunE0BSUurnhmFf/3r1060qZSqkN1WMIXkdNFZJGILBORn3TUfoMqMR2mvQQle6zhlD31rVYfP6wPH959ERcNSeXRv2/lhv/7kvwjevumUqpj+PsQ88UiUigim5qVjxeR7SKSJyL3ARhjthpjbgOmAVn+7DesnHIeTHgccj+CTx87YfWe8VH8+QdZ/Paas9iYX8qEp/7FsrX5OiSDUiro/G3hvwCMb1ogInZgATABOAO4XkTO8K6bAqwCPvFzv+El61YYdZM1fv6W5SesLiJMO6cfH9x9Eaf3TWDuG+u57eW1FFfUdECwSqnuyq+Eb4xZCRxuVjwGyDPG7DLG1AJLgane+suNMf8FzGhpmyIyS0SyRSS7qKiT/HBJBK74X8g4B966DQ5uadPb+vWI4dWZY/nFxNP5dFsRlz+1kn9sORjkYJVS3VUw+vDTgX1NlvOBdBEZJyJPi8ifAN8D0gDGmOeMMVnGmKyePXsGIbwgiYiy+vOj4rwXcdt2373dJsy8aCDv3nUBveKdzHwxm58vW09hmUu7eZRSARURhG2KjzJjjPkM+KxNGxCZDEwePHhwAMPqAAlpVtJ/4Qp4+mzoN8Zq9fcbY93CGRXX4ltP7RPP23eczx8+2cHCz3byenY+DrvQK95J74Qoeic46Z3gpFdCFL3jnd7lKHolOElwRiDi67B3QmX74atFUHUIBl4Mgy6BmB6hjkqpLiEYCT8f6NdkOQMoCMJ+wlP/c+HGZbDhddi3GnZ8YJWLDXqfCRlNTgI9BlrdQV6RETbuufw0Jg5PY803hzlQVkNhmYuD5S5yCytYlXeIctfxwzQ4HbbGE0LvBCe946Pok+ikT6KTtMRo+iY56RXvxG4L45PCoTz4zx9g/VLw1EFUPHz9MiCQfjYM/q716ns22IPxsVWq6xN/uw1EJBN4zxgzzLscAewALgW+BdYANxhjNrd321lZWSY7O9uv+EKu6jB8u9ZK/vmrIX8t1Hp/eBWTYiX/hlf66Fa/BQBU1dZRWFbDwTIXB8trOFjqOjpf5qKwzMWBMhcu97G/6LXbhF7xUaQlOklLiqZvopM+idY0LSmatEQnPeOisHX0SaHga1j1e+tid0QUjLrReqZwUn9rXd7HkPcJfJsNxgPORKvlP/hSGHSpdWusUqqRiKw1xvi8E9KvhC8irwLjgFTgIPCwMeZ5EZkIPAXYgcXGmPnt3G5Dl87M3Nzck44vLHnqoWi7lfz3rbGmh7zDLYsNep0J/c6BlCFWcnMmWNMo77RhvpVWrjGGsuo6CkqrOVDqoqC0mv0lLgpKqjhSUkJN6UHcZYUkeEpIkTJSKCdFSukpZfRxVNLLVkZVRBLrnefwddQ55NsyqAc8HkO9MY3Teo+vMoMxEOWwkRobRUpcJKlx1jQlLoqecZGkxEaSfmQ1vTYsJGL35xCVCGN+ZD13IK6X7z+q6jDs+gx2fmKdAMr3W+U9T7eS/+BLof9/YSKiqKnzYBMhMqLjf1dojKGipg67TYiJ1G8iquMFLeEHW5do4bdF9RGr5Z+/2vom8O1aqDn+GbrHiIw79iTQ/MTgqYPKQ1ZfeGWRNV95COqqfW7ObY+hIiKZUkmk2MSTUneAzPo9AByw9yEnagzro8ew3TmCervVPWQTwW6jybxgF8FmE6rd9RRX1HCoopbiihqOVLkRPFxmy+YnEcsZadtFoUniL54r+Ch6AjHxydZJITaK1PhIoiLs1Ljrcbnrcbk9uOqazNfW0cu1i7Nc2YyqXcdZns1EUke1ieRLz+l87hnBOs8QSh098USnkhDrJDkmkqQYR+M0KSaSZO9yoneaHOMgwelo/Jbj8RjKXXUcqarlcFUtJVW1HK50e6e1HKlyc6SyliNVDS9rnbve+j+VnhTN0N5xDO0dz+Be1nRI7zg9Eaig6nQJv0u38NvC44GaUuvB6a5S61XTMN+0rNRHmXde7BDbE2JTva+eR6cxqceui0m1HtreXMk+6wdluf+Abz4HdxVEOK3HPg65zHoln3Liv6eulrr1S2HVH4g4kkd1XH+2DbqFnOQJHKwWDlXUUFxRQ3FlLYfKazhUWUttnYeoCBtOhx2nwzuNsOajHHaim5TH22o5zbWe0ypXM6j0K5Jdext3XY+dEnsPDkkKB0wy39Ynsbcuif2eZA7Sg/2mBwdMD2qIBKxLKonRDuwilFS7qW9h+Au7TRpPGMkxkSTHeudjrRNHjdtDbmEFOw6Ws6uoktomg+ZlJEc3Jv+hveIbTwjRkXarQsP/yQBciPd4DLX1HutV58HtndbWeaips8rddUfX13rnoyLsDO4VR2ZKDBF2HYGlM+l0Cb9Bt2nhB1oAE0Yjtwv2/Ns6Aez40HomAEDqqTDkezD0cug3FiIij76npgLWvgBfLIDyAuhzFlzwUzhjKtjsrYRvdQud9PWEw99A4RYoK7C6fsr2Q9m3R+drjx+8rtaRQEVkL8ocqRTbUil1pFIf0xsTn0ZEUl+iktOJ7ZFGcpyTpJjIdt0ZVVfvYc/hKnIPlrPjoHUS2H3gMO7ib0gzB+kvhfSXIoZGFTPAVkSv+gPYqackuj+HozMpjDqFg5H92e/oR74tnQqPA5fbQ01dPTV1Hmrc1tTVbOqu9zR+22jhSJNKGQOlgIG2/QyU/da87CdBqig1sZQTS21kIhKdhCMuhbjEVBJTepGc0ouI2B7gTILoZIhOsuYdzmN34am3GiDVR6zxplzeaeNyCab6MHUVR3BXFOOpLsHmKkHqa6i1x1Jrj6HGFo3LFovLFkO1ROOSaKpsMVQRTRXRVEo0lSaaSpyUE02Fx0m9zUGKw01qpJtkh5vkiFoS7LUk2GqIkxpixUU0NThNNZGeaiLqqpDaSmh4iQ1Sh0DP06DXadQkD+FIVD9Kag1HKt2UVtdSUuWmpNpNSdXR5SNV1tRjDANT4xjc6+hrUM8mJ/Ug6nQJv9u38DuD4p1W4s/9yDoR1NdCZDwMGme1/Evz4as/gasEMi+0Ev2gSwJ7EjpZNeVW4i8vsE4KTU8M5QXWtOIg0Oz/htggrjfEp3lffY6dJnjLo5Ot+hUH4cjuZq891rT82BvX3LYoDkX0YY+nF9trUqg1NgZJAYOkgH5ShE2sWDwIB6Un39r7UeDoR2Fkfwqdp3DYeQpuZwpRDjtOh51Iu43ICOsVLbX0rMknpWYvydV7SazaQ0LlbuIqvsHhPnry89ijqE3MpC55EDWOZKrKDuOuPIxUH8HhLiPOU04CVY2x+GIiopHoJLA7oNr7LbQV1TgpMbGUmFhKiaXUxFJi4qglghhxEYeLBKkmTlzEiotYqomjmmhc2Jr/+7RTtYmkEidVJooqnNTYonHbY3DbY4iUOtLce+njOdi4n1pj5xuTRq7JINeTzg6TQa5Jp8DWl7iYaKurMNrqIgTYWVTBnuKqxm+JIta3u8E9rRPAkF7xDPKeDBKjHX79LU11uoTfQFv4nURNBXyzEnI/tLp/yr61yk+bZCX6jE44dFJ9HVQWWieC8gNHp2X7jy2rbv5Dc8AeaZ0c6lxNCgUS+kJy5tFX0ilH5+N6NZ4M3fUeKlx1VuKOsGGvr4HDO62L/YdyrYv8h3ZY802vyTiTIHUo9BwKjhgozrNudy3dxzEnr4R0SBlstWBThkDqYGuamNHqN6+q2jp2Hixn97cF5O8/wKGi/RwpLqK2ophEKkmkgh62KjKcLmIiPBS5oymodXK4PoYSE0cpVjKvkDgccT2ITUyhZ1ICaU1uIbamTnrERhJpt7X8Lc/jsboYa8qhtuLYaU2FtwESa13riozF44ihEidl9VGU1kdyxO2gtMZDabX7mFeZd1pT5yEp2kEvZz0DpYD+9XtJq91DavUuEip24izfh3iPqbFFICmDrW8D3m8EpA6FxH7URsSxu7iSvMIK8goryPVOdxZVUFt3tJuvV3xU4zeBIb3iGNQrjnMye+A4ie40Tfiq4xgDhVutWyxTBoU6muBzu6yWfPkBq9XecCIwHm9CH+BN7v2sYxJIHg+U5R9N/g3Tou3grraOf2NibzKNjA1oGNW19ewsqiC30Oqyyj1YQWl1Lb0TnPRNiqZPgvOYpN4zPiq8fxPSFrVVUJxrPQujqMnr8Dccc3J1JkJif+tkmtQPEvtBYgb1Cf0oIJUdFU5yi6oaTwh5hRVU1NQhAlvnjcfpaH8XUKdL+Nqlo5TqlNzV1km3ONfq1izZZ33Daphv3sVlj7J+S5JonQxMYgZlUWkUmBROHzve6hprp06X8BtoC18p1aW4Sr0ngXzrRFCyt8n8Pqg4cLTuLw4efxG8DVpL+HpDsFJKdRRnIvRJhD7DfK+vq7GugZXtP6lkfyJhmfA77eBpSinlj4goa4ytHgODsvmw/EWFMeZdY8ysxMTEUIeilFJdRlgmfKWUUoGnCV8ppboJTfhKKdVNhGXCF5HJIvJcaWnrP8tWSinVdmGZ8PWirVJKBV5YJnyllFKBpwlfKaW6CU34SinVTXRYwheRK0XkzyLyjohc1lH7VUopZfEr4YvIYhEpFJFNzcrHi8h2EckTkfsAjDFvG2NmAjcD1/mzX6WUUu3n71g6LwDPAi82FIiIHVgAfA/IB9aIyHJjzBZvlQe865VS3Yzb7SY/Px+Xy3XiyqpVTqeTjIwMHI62D6HsV8I3xqwUkcxmxWOAPGPMLgARWQpMFZGtwG+A940x6/zZr1Kqc8rPzyc+Pp7MzMw2PxNYHc8YQ3FxMfn5+QwYMKDN7wtGH346sK/Jcr637C7gu8C1InJbS28WkVkiki0i2UVFRUEITykVKi6Xi5SUFE32fhIRUlJS2v1NKRjDI/v6lzTGmKeBp0/0ZmPMcyKyH5gcGRk5OuDRKaVCSpN9YJzMcQxGCz8f6NdkOQMoCMJ+lFJKtUMwEv4aYIiIDBCRSGA6sLw9G9ChFZRSKvD8vS3zVeAL4FQRyReRW40xdcCdwIfAVuB1Y8zmdm5XB09TSgVFSUkJf/zjH9v9vokTJ1JSUtLu9918880sW7as3e8LBr8SvjHmemNMmjHGYYzJMMY87y1fYYwZaowZZIyZfxLb1Ra+UiooWkr49fX1rb5vxYoVJCUlBSmqjqHPtFVKhcQv393MloKygG7zjL4JPDz5zFbr3HfffezcuZORI0ficDiIi4sjLS2NnJwctmzZwpVXXsm+fftwuVzMmTOHWbNmAZCZmUl2djYVFRVMmDCBCy64gP/85z+kp6fzzjvvEB0dfcL4PvnkE+bOnUtdXR3nnHMOCxcuJCoqivvuu4/ly5cTERHBZZddxhNPPMEbb7zBL3/5S+x2O4mJiaxcudLv4xOWY+loC18pFSy/+c1vGDRoEDk5Ofzud79j9erVzJ8/ny1brN+GLl68mLVr15Kdnc3TTz9NcXHxcdvIzc3ljjvuYPPmzSQlJfHmm2+ecL8ul4ubb76Z1157jY0bN1JXV8fChQs5fPgwb731Fps3b2bDhg088MADAMybN48PP/yQ9evXs3x5uy6Dtkhb+EqpkDhRS7yjjBkz5pgfLz399NO89dZbAOzbt4/c3FxSUlKOec+AAQMYOXIkAKNHj2b37t0n3M/27dsZMGAAQ4cOBeCHP/whCxYs4M4778TpdPKjH/2IK664gkmTJgFw/vnnc/PNNzNt2jSuvvrqAPyl2sJXSnVzsbGxjfOfffYZH3/8MV988QXr169n1KhRPn/cFBUV1Thvt9upq6s74X6MMT7LIyIiWL16Nddccw1vv/0248ePB2DRokU8+uij7Nu3j5EjR/r8ptFeYdnCV0qpYImPj6e8vNznutLSUpKTk4mJiWHbtm18+eWXAdvvaaedxu7du8nLy2Pw4MG89NJLfOc736GiooKqqiomTpzI2LFjaejZ2LlzJ+eeey7nnnsu7777Lvv27Tvum0Z7hWXC1y4dpVSwpKSkcP755zNs2DCio6Pp3bt347rx48ezaNEizjrrLE499VTGjh0bsP06nU7+8pe/8P3vf7/xou1tt93G4cOHmTp1Ki6XC2MMv//97wG45557yM3NxRjDpZdeyogRI/yOQVr6mhEOsrKyTHZ2dqjDUEoFyNatWzn99NNDHUaX4et4ishaY0yWr/ph2YevlFIq8LRLRymlAuCOO+7g3//+9zFlc+bM4ZZbbglRRMcLy4RvjHkXeDcrK2tmqGNRSqm2WLAg/J/rpF06SinVTWjCV0qpbkITvlJKdRNhmfB1eGSllAq8sEz4OrSCUipcxMXFtbhu9+7dDBs2rAOj8U9YJnyllFKBF5a3ZSqluoH374MDGwO7zT7DYcJvWq1y7733csopp3D77bcD8MgjjyAirFy5kiNHjuB2u3n00UeZOnVqu3btcrn4yU9+QnZ2NhERETz55JNcfPHFbN68mVtuuYXa2lo8Hg9vvvkmffv2Zdq0aeTn51NfX8+DDz7Iddddd9J/dltpwldKdSvTp0/n7rvvbkz4r7/+Oh988AE//elPSUhI4NChQ4wdO5YpU6YgIm3ebsN9+Bs3bmTbtm1cdtll7Nixg0WLFjFnzhxmzJhBbW0t9fX1rFixgr59+/L3v/8dsAZt6wia8JVSoXGClniwjBo1isLCQgoKCigqKiI5OZm0tDR++tOfsnLlSmw2G99++y0HDx6kT58+bd7uqlWruOuuuwBrZMxTTjmFHTt2cN555zF//nzy8/O5+uqrGTJkCMOHD2fu3Lnce++9TJo0iQsvvDBYf+4xOqwPX0QGisjzIhIeT/NVSnVb1157LcuWLeO1115j+vTpLFmyhKKiItauXUtOTg69e/f2OQ5+a1oaiPKGG25g+fLlREdHc/nll/PPf/6ToUOHsnbtWoYPH87999/PvHnzAvFnnZBfCV9EFotIoYhsalY+XkS2i0ieiNwHYIzZZYy51Z/9KaVUIEyfPp2lS5eybNkyrr32WkpLS+nVqxcOh4NPP/2UPXv2tHubF110EUuWLAFgx44d7N27l1NPPZVdu3YxcOBAZs+ezZQpU9iwYQMFBQXExMRw4403MnfuXNatWxfoP9Enf7t0XgCeBV5sKBARO7AA+B6QD6wRkeXGmC1+7ksppQLizDPPpLy8nPT0dNLS0pgxYwaTJ08mKyuLkSNHctppp7V7m7fffju33XYbw4cPJyIighdeeIGoqChee+01Xn75ZRwOB3369OGhhx5izZo13HPPPdhsNhwOBwsXLgzCX3k8v8fDF5FM4D1jzDDv8nnAI8aYy73L9wMYY37tXV5mjLm2le3NAmYB9O/ff/TJnGmVUuFJx8MPrHAYDz8d2NdkOR9IF5EUEVkEjGo4CfhijHkO+CWwLjIyMgjhKaVU9xSMu3R83cdkjDHFwG1t2YAOj6yUCicbN27kpptuOqYsKiqKr776KkQRnZxgJPx8oF+T5QygoD0b0AegKKXCyfDhw8nJyQl1GH4LRpfOGmCIiAwQkUhgOrA8CPtRSinVDv7elvkq8AVwqojki8itxpg64E7gQ2Ar8LoxZnN7tquDpymlVOD51aVjjLm+hfIVwIqT3a526SilVOCF5WiZ2sJXSgVLa8Mdd3VhmfD1AShKqY5UX18f6hA6RFgmfG3hK6WC7bPPPuPiiy/mhhtuYPjw4aEOp0PoaJlKqZB4fPXjbDu8LaDbPK3Hadw75t4211+9ejWbNm1iwIABAY0jXIVlC1+7dJRSHWHMmDHdJtlDmLbw9Ze2SnV97WmJB0tsbGyoQ+hQYdnCV0opFXia8JVSqpsIyy4d/eGVUipYKioqABg3bhzjxo0LbTAdLCxb+HpbplJKBV5YJnyllFKBpwlfKaW6CU34SinVTYRlwtcfXimlVOCFZcLXi7ZKKRV4YZnwlVJKBZ4mfKVUt5eZmcmhQ4eCvp+cnBxWrGj52VDZ2dnMnj07aPsPyx9eKaVUV5STk0N2djYTJ048bl1dXR1ZWVlkZWUFbf8dlvBFJBb4I1ALfGaMWdJR+1ZKhZ8Djz1GzdbADo8cdfpp9Pl//6/VOpWVlUybNo38/Hzq6+t58MEHG9dVV1dz1VVXcc011zBz5vFjN+7evZvx48dzwQUX8OWXXzJixAhuueUWHn74YQoLC1myZAljxoyhsrKSu+66i40bN1JXV8cjjzzChAkTeOihh6iurmbVqlXcf//9bN26lYKCAnbv3k1qaiqzZs3iiSee4L333qOiooK77rqL7OxsRISHH36Ya665xq/j4+9DzBeLSKGIbGpWPl5EtotInojc5y2+GlhmjJkJTPFnv0opdbI++OAD+vbty/r169m0aRPjx48HrCEXJk+ezA033OAz2TfIy8tjzpw5bNiwgW3btvHKK6+watUqnnjiCR577DEA5s+fzyWXXMKaNWv49NNPueeee3C73cybN4/rrruOnJwcrrvuOgDWrl3LO++8wyuvvHLMfn71q1+RmJjIxo0b2bBhA5dcconff7u/LfwXgGeBFxsKRMQOLAC+B+QDa0RkOZABbPRW6x7PE1NKtehELfFgGT58OHPnzuXee+9l0qRJXHjhhQBMnTqVn//858yYMaPV9w8YMKDxCVlnnnkml156KSLC8OHD2b17NwAfffQRy5cv54knngDA5XKxd+9en9ubMmUK0dHRx5V//PHHLF26tHE5OTm53X9rc3618I0xK4HDzYrHAHnGmF3GmFpgKTAVK/lnnGi/IjJLRLJFJLuoqMif8JRS6jhDhw5l7dq1DB8+nPvvv5958+YBcP755/P+++9jjGn1/VFRUY3zNputcdlms1FXVweAMYY333yTnJwccnJy2Lt3L6effrrP7bU0Jr8xBhFp99/XmmDcpZMO7GuynO8t+xtwjYgsBN5t6c3GmOeMMVnGmKyePXsGITylVHdWUFBATEwMN954I3PnzmXdunUAzJs3j5SUFG6//Xa/93H55ZfzzDPPNJ48vv76awDi4+MpLy9v0zYuu+wynn322cblI0eO+B1XMBK+r1OSMcZUGmNuMcb85EQXbPWXtkqpYNm4cSNjxoxh5MiRzJ8/nwceeKBx3VNPPYXL5eLnP/+5X/t48MEHcbvdnHXWWQwbNqzxwvDFF1/Mli1bGDlyJK+99lqr23jggQc4cuQIw4YNY8SIEXz66ad+xQQgJ/r6csINiGQC7xljhnmXzwMeMcZc7l2+H8AY8+t2bLNhPPyZubm5fsWnlAofW7dubbFrQ7Wfr+MpImuNMT7v7QxGC38NMEREBohIJDAdWN6eDejQCkopFXh+3aUjIq8C44BUEckHHjbGPC8idwIfAnZgsTFmczu3q0+8UkqFTHFxMZdeeulx5Z988gkpKSkhiCgw/Er4xpjrWyhfAbT8++ETb/dd4N2srKyWb4ZVSnVKwbj7JNBSUlLIyckJdRitOpnu+LAcS0cv2irVNTmdToqLi08qWamjjDEUFxfjdDrb9T6/L9oGU1ZWlsnOzg51GEqpAHG73eTn5+NyuUIdSqfndDrJyMjA4XAcU97aRduwHDxN+/CV6pocDgcDBgwIdRjdVlh26ehdOkopFXhhmfCVUkoFXlgmfL1oq5RSgReWCV+7dJRSKvDCMuErpZQKvLBM+Nqlo5RSgReWCV+7dJRSKvDCMuErpZQKPE34SinVTWjCV0qpbiIsE75etFVKqcALy4SvF22VUirwwjLhK6WUCjxN+Eop1U1owldKqW6iwxK+iAwUkedFZFlH7VMppdRRbUr4IrJYRApFZFOz8vEisl1E8kTkvta2YYzZZYy51Z9glVJKnby2PvHqBeBZ4MWGAhGxAwuA7wH5wBoRWQ7YgV83e/9/G2MK/Y5WKaXUSWtTwjfGrBSRzGbFY4A8Y8wuABFZCkw1xvwamBTQKJVSSvnNnz78dGBfk+V8b5lPIpIiIouAUSJyfyv1ZolItohkFxUV+RGeUkqppvx5iLn4KDMtVTbGFAO3nWijxpjnRGQ/MDkyMnK0H/EppZRqwp8Wfj7Qr8lyBlDgXzhKKaWCxZ+EvwYYIiIDRCQSmA4sD0RQOrSCUkoFXltvy3wV+AI4VUTyReRWY0wdcCfwIbAVeN0YszkQQengaUopFXhiTIvd7iGXlZVlsrOzQx2GUkp1GiKy1hiT5WtdWA6toC18pZQKvLBM+NqHr5RSgReWCV9b+EopFXhhmfC1ha+UUoEXlglfKaVU4IVlwtcuHaWUCrywTPjapaOUUoEXlglfKaVU4IVlwtcuHaWUCrywTPjapaOUUoEXlglfKaVU4GnCV0qpbkITvlJKdRNhmfD1oq1SSgVeWCZ8vWirlFKBF5YJXymlVOBpwldKqW5CE75SSnUTmvCVUqqb6LCELyJXisifReQdEbmso/arlFLK0qaELyKLRaRQRDY1Kx8vIttFJE9E7mttG8aYt40xM4GbgetOOmKllFInJaKN9V4AngVebCgQETuwAPgekA+sEZHlgB34dbP3/7cxptA7/4D3fUHzow9/xN7yvcHchQpzmQmZ3DHqDkb0HBHqUJQKG21K+MaYlSKS2ax4DJBnjNkFICJLganGmF8Dk5pvQ0QE+A3wvjFmXUv7EpFZwCyA/v37tyW84wzvOZw+sX1O6r2q8zMYVn27ihtX3Mgl/S5h9tmzGZQ0KNRhKRVybW3h+5IO7GuynA+c20r9u4DvAokiMtgYs8hXJWPMcyKyH5gcGRk5+mQCm3P2nJN5m+pCqtxVvLTlJf6y+S9cvfxqJg+czB0j7yAtLi3UoSkVMv5ctBUfZaalysaYp40xo40xt7WU7JvU1V/aKr/EOGL48Ygf8/7V73Pj6Tfy/jfvc8VbV/DbNb/liOtIqMNTKiT8Sfj5QL8myxlAgX/hWHQsHRUoyc5k7jnnHt676j0mDZzEkq1LmPC3CSxcv5Aqd1Wow1OqQ/mT8NcAQ0RkgIhEAtOB5YEJS6nASotLY97583hrylucl3Yef8z5IxP+NoElW5dQW18b6vCU6hBiTIu9MEcribwKjANSgYPAw8aY50VkIvAU1p05i40x8wMZXFZWlsnOzg7kJpUCYEPRBv6w7g+sPrCa9Lh07hh5BxMHTMRus4c6NKX8IiJrjTFZPte1JeF3NBGZDEwePHjwzNzc3FCHo7ooYwxfFHzBU+ueYuvhrQxJHsKcUXO4KOMirJvKlOp8Ol3Cb6AtfNURPMbDR3s+4tmvn2VP2R5G9RrF1UOuJsLmz01s3VufmD6M7j1aT5wh0OkSvrbwVSi4PW7eznubhTkLKaouCnU4nd7o3qO5++y7GdlrZKhD6VY6XcJvoC18FQq19bXsr9wf6jA6LWMMX+7/kkXrF1HsKmZcv3HMHjWbIclDQh1at6AJXynV4arcVby89WX+sukvVLormTzI+vFb37i+oQ6tS+t0CV+7dJTqOkpcJTy/6Xle2foKBsN1p17HzLNm0sPZI9ShdUmdLuE30Ba+Ul3HgcoDLFq/iLfy3sJpd3LzmTfzgzN/QKwjNtShdSma8JVSYWNX6S6e/fpZ/rHnHyRHJTPrrFlMO3UakfbIUIfWJbSW8PWJV0qpDjUwcSBPjnuSV694laHJQ3l8zeNMfmsyy3cup95TH+rwurSwbOFrH75S3UfDj9+2FG9hcNJgZo+azbh+4/Qe/pOkXTpKqbDmMR7+secfPPP1M+wp20N6XDpOuzPUYYXUG1PewGFztPt9rSV8/SmhUirkbGLj8szLuaT/JbyT9w5fFHyBaXm0dXWSNOErpcKGw+bg2qHXcu3Qa0MdSpekF22VUqqbCMuErw9AUUqpwAvLhK+POFRKqcALy4SvlFIq8DThK6VUN6EJXymluglN+Eop1U1owldKqW4irIdWEJEiYM9Jvj0VOBTAcAJN4/OPxucfjc8/4RzfKcaYnr5WhHXC94eIZLc0nkQ40Pj8o/H5R+PzT7jH1xLt0lFKqW5CE75SSnUTXTnhPxfqAE5A4/OPxucfjc8/4R6fT122D18ppdSxunILXymlVBOa8JVSqpvo9AlfRMaLyHYRyROR+3ysFxF52rt+g4ic3YGx9RORT0Vkq4hsFpE5PuqME5FSEcnxvh7qqPi8+98tIhu9+z7ueZIhPn6nNjkuOSJSJiJ3N6vTocdPRBaLSKGIbGpS1kNE/iEiud5pcgvvbfWzGsT4fici27z/fm+JSFIL7231sxDE+B4RkW+b/BtObOG9oTp+rzWJbbeI5LTw3qAfP78ZYzrtC7ADO4GBQCSwHjijWZ2JwPuAAGOBrzowvjTgbO98PLDDR3zjgPdCeAx3A6mtrA/Z8fPxb30A60clITt+wEXA2cCmJmW/Be7zzt8HPN5C/K1+VoMY32VAhHf+cV/xteWzEMT4HgHmtuHfPyTHr9n6/wUeCtXx8/fV2Vv4Y4A8Y8wuY0wtsBSY2qzOVOBFY/kSSBKRtI4Izhiz3xizzjtfDmwF0jti3wEUsuPXzKXATmPMyf7yOiCMMSuBw82KpwJ/9c7/FbjSx1vb8lkNSnzGmI+MMXXexS+BjEDvt61aOH5tEbLj10BEBJgGvBro/XaUzp7w04F9TZbzOT6htqVO0IlIJjAK+MrH6vNEZL2IvC8iZ3ZsZBjgIxFZKyKzfKwPi+MHTKfl/2ihPH4AvY0x+8E6yQO9fNQJl+P431jf2Hw50WchmO70djktbqFLLByO34XAQWNMbgvrQ3n82qSzJ3zxUdb8PtO21AkqEYkD3gTuNsaUNVu9DqubYgTwDPB2R8YGnG+MORuYANwhIhc1Wx8Oxy8SmAK84WN1qI9fW4XDcfwFUAcsaaHKiT4LwbIQGASMBPZjdZs0F/LjB1xP6637UB2/NuvsCT8f6NdkOQMoOIk6QSMiDqxkv8QY87fm640xZcaYCu/8CsAhIqkdFZ8xpsA7LQTewvrq3FRIj5/XBGCdMeZg8xWhPn5eBxu6ubzTQh91Qv05/CEwCZhhvB3OzbXhsxAUxpiDxph6Y4wH+HML+w318YsArgZea6lOqI5fe3T2hL8GGCIiA7ytwOnA8mZ1lgM/8N5tMhYobfj6HWzePr/nga3GmCdbqNPHWw8RGYP1b1LcQfHFikh8wzzWxb1NzaqF7Pg10WLLKpTHr4nlwA+98z8E3vFRpy2f1aAQkfHAvcAUY0xVC3Xa8lkIVnxNrwld1cJ+Q3b8vL4LbDPG5PtaGcrj1y6hvmrs7wvrLpIdWFfwf+Etuw24zTsvwALv+o1AVgfGdgHW184NQI73NbFZfHcCm7HuOvgS+K8OjG+gd7/rvTGE1fHz7j8GK4EnNikL2fHDOvHsB9xYrc5bgRTgEyDXO+3hrdsXWNHaZ7WD4svD6v9u+Awuah5fS5+FDorvJe9nawNWEk8Lp+PnLX+h4TPXpG6HHz9/Xzq0glJKdROdvUtHKaVUG2nCV0qpbkITvlJKdROa8JVSqpvQhK+UUt2EJnyllOomNOErpVQ38f8BXbWODETpbgMAAAAASUVORK5CYII=\n",
      "text/plain": [
       "<Figure size 432x288 with 1 Axes>"
      ]
     },
     "metadata": {
      "needs_background": "light"
     },
     "output_type": "display_data"
    }
   ],
>>>>>>> dev
   "source": [
    "model_params = {'D_in': 128, \n",
    "                'H': 512, \n",
    "                'D_out': 1, \n",
    "                'model_name': 'funnel'}\n",
    "\n",
    "ds_params = {'train_params': {'features': ['X'],\n",
    "                              'targets': ['y'],\n",
    "                              'features_dtype': 'float32',\n",
    "                              'targets_dtype': 'float32',\n",
    "                              'make': 'make_regression',\n",
    "                              'transform': [],\n",
    "                              'target_transform': [],\n",
    "                              'sk_params': {'n_samples': 10000,\n",
    "                                            'n_features': 128}}}\n",
    "\n",
    "metrics_params = {'report_interval': 10}\n",
    "\n",
    "opt_params = {'lr': 0.01}\n",
    "\n",
    "crit_params = {'reduction': 'sum'}\n",
    "\n",
    "sample_params = {'set_seed': 88,\n",
    "                 'splits': (.7, .15)}\n",
    "\n",
    "sched_params = {'factor': .5,\n",
    "                'patience': 2,\n",
    "                'cooldown': 1}\n",
    "\n",
    "l = Learn([SKDS], FFNet, Selector, \n",
    "          Optimizer=Adam, Scheduler=ReduceLROnPlateau, Criterion=MSELoss, \n",
    "          model_params=model_params, ds_params=ds_params, sample_params=sample_params,\n",
    "          opt_params=opt_params, sched_params=sched_params, crit_params=crit_params,\n",
    "          metrics_params=metrics_params,\n",
    "          adapt=False, load_model=False, load_embed=False, save_model=False,\n",
    "          batch_size=256, epochs=20)"
   ]
  },
  {
   "cell_type": "code",
   "execution_count": null,
   "metadata": {},
<<<<<<< HEAD
   "outputs": [],
=======
   "outputs": [
    {
     "name": "stdout",
     "output_type": "stream",
     "text": [
      "CDataset created...\n",
      "CModel loaded...\n",
      "FFNet model loaded...\n",
      "learning time: 0:00:01.014261\n",
      "epoch: 0, lr: 0.01\n",
      "train loss: 1531.1195004111842, val loss: 1501.2575073242188\n",
      "sklearn train metric: 0, sklearn validation metric: 0\n",
      "learning time: 0:00:09.728830\n",
      "epoch: 10, lr: 0.01\n",
      "train loss: 34.551276658710684, val loss: 35.69019842147827\n",
      "sklearn train metric: 0, sklearn validation metric: 0\n",
      "test loss: 32.94913196563721\n",
      "learning time: 0:00:17.731367\n",
      "sklearn test metric: \n",
      "0 \n",
      "\n"
     ]
    },
    {
     "data": {
      "image/png": "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\n",
      "text/plain": [
       "<Figure size 432x288 with 1 Axes>"
      ]
     },
     "metadata": {
      "needs_background": "light"
     },
     "output_type": "display_data"
    }
   ],
>>>>>>> dev
   "source": [
    "model_params = {'D_in': 23*23+23*32, \n",
    "                'H': 4096, \n",
    "                'D_out': 1, \n",
    "                'model_name': 'funnel',\n",
    "                'embed_params': [('atoms',7,32,None,True)]}\n",
    "\n",
    "ds_params = {'train_params': {'features': ['coulomb'],\n",
    "                              'targets': ['ae'],\n",
    "                              'embeds': ['atoms'],\n",
    "                              'in_file': './data/qm7/qm7.mat',\n",
    "                              'flatten': True}}\n",
    "\n",
    "metrics_params = {'report_interval': 10}\n",
    "\n",
    "crit_params = {'reduction': 'sum'}\n",
    "\n",
    "sample_params = {'set_seed': 88,\n",
    "                 'splits': (.7,.15)}\n",
    "\n",
    "sched_params = {'factor': .5,\n",
    "                'patience': 2,\n",
    "                'cooldown': 1}\n",
    "\n",
    "opt_params = {'lr': 0.01}\n",
    "\n",
    "l = Learn([QM7], FFNet, Selector, \n",
    "          Optimizer=Adam, Scheduler=ReduceLROnPlateau, Criterion=L1Loss, \n",
    "          model_params=model_params, ds_params=ds_params, sample_params=sample_params,\n",
    "          opt_params=opt_params, sched_params=sched_params, crit_params=crit_params,\n",
    "          metrics_params=metrics_params,\n",
    "          adapt=False, load_model=False, load_embed=False, save_model=False, \n",
    "          batch_size=256, epochs=20)"
   ]
  },
  {
   "cell_type": "code",
   "execution_count": null,
   "metadata": {},
<<<<<<< HEAD
   "outputs": [],
=======
   "outputs": [
    {
     "name": "stdout",
     "output_type": "stream",
     "text": [
      "CDataset created...\n",
      "CModel loaded...\n",
      "FFNet model loaded...\n",
      "learning time: 0:00:00.660635\n",
      "epoch: 0, lr: 0.01\n",
      "train loss: 1562.3491532175165, val loss: 1545.7952880859375\n",
      "sklearn train metric: 0, sklearn validation metric: 0\n",
      "learning time: 0:00:07.000648\n",
      "epoch: 10, lr: 0.01\n",
      "train loss: 56.564762918572676, val loss: 64.7117338180542\n",
      "sklearn train metric: 0, sklearn validation metric: 0\n",
      "learning time: 0:00:13.313991\n",
      "epoch: 20, lr: 0.01\n",
      "train loss: 47.32003603483501, val loss: 53.82688236236572\n",
      "sklearn train metric: 0, sklearn validation metric: 0\n",
      "learning time: 0:00:19.605043\n",
      "epoch: 30, lr: 0.01\n",
      "train loss: 42.65919354087428, val loss: 52.80893898010254\n",
      "sklearn train metric: 0, sklearn validation metric: 0\n",
      "learning time: 0:00:25.958416\n",
      "epoch: 40, lr: 0.005\n",
      "train loss: 39.472549840023646, val loss: 51.73493480682373\n",
      "sklearn train metric: 0, sklearn validation metric: 0\n",
      "test loss: 51.00063991546631\n",
      "learning time: 0:00:31.869349\n",
      "sklearn test metric: \n",
      "0 \n",
      "\n"
     ]
    },
    {
     "data": {
      "image/png": "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\n",
      "text/plain": [
       "<Figure size 432x288 with 1 Axes>"
      ]
     },
     "metadata": {
      "needs_background": "light"
     },
     "output_type": "display_data"
    }
   ],
>>>>>>> dev
   "source": [
    "model_params = {'D_in': 23*23, \n",
    "                'H': 2048, \n",
    "                'D_out': 1, \n",
    "                'model_name': 'funnel'}\n",
    "\n",
    "ds_params = {'train_params': {'features': ['coulomb'],\n",
    "                              'targets': ['E'],\n",
    "                              'in_file': './data/qm7b/qm7b.mat',\n",
    "                              'flatten': True}}\n",
    "\n",
    "metrics_params = {'report_interval': 10}\n",
    "\n",
    "crit_params = {'reduction': 'sum'}\n",
    "\n",
    "sample_params = {'set_seed': 88,\n",
    "                 'splits': (.7,.15)}\n",
    "\n",
    "sched_params = {'factor': .5,\n",
    "                'patience': 5,\n",
    "                'cooldown': 2}\n",
    "\n",
    "opt_params = {'lr': 0.01}\n",
    "\n",
    "l = Learn([QM7b], FFNet, Selector, \n",
    "          Optimizer=Adam, Scheduler=ReduceLROnPlateau, Criterion=L1Loss, \n",
    "          model_params=model_params, ds_params=ds_params, sample_params=sample_params,\n",
    "          opt_params=opt_params, sched_params=sched_params, crit_params=crit_params,\n",
    "          metrics_params=metrics_params,\n",
    "          adapt=False, load_model=False, load_embed=False, save_model=False, \n",
    "          batch_size=256, epochs=50)"
   ]
  },
  {
   "cell_type": "code",
   "execution_count": null,
   "metadata": {},
   "outputs": [],
   "source": [
    "#find the longest molecule\n",
    "\n",
    "ds_params = {'train_params': {'features': ['atNUM'],\n",
    "                              'pad': None,\n",
    "                              'targets': [],\n",
    "                              'embeds': [],\n",
    "                              'selector': ['opt']}}\n",
    "\n",
    "qm7x = QM7X(**ds_params['train_params'])\n",
    "l = 0\n",
    "for i in qm7x.ds_idx:\n",
    "    s = qm7x[i][0].shape[0]\n",
    "    if s > l:\n",
    "        l = s\n",
    "print('longest molecule length: ', l)\n",
    "\n",
    "qm7x[1]"
   ]
  },
  {
   "cell_type": "code",
   "execution_count": null,
   "metadata": {},
<<<<<<< HEAD
   "outputs": [],
=======
   "outputs": [
    {
     "name": "stdout",
     "output_type": "stream",
     "text": [
      "mapping...  <HDF5 file \"1000.hdf5\" (mode r)>\n",
      "mapping...  <HDF5 file \"2000.hdf5\" (mode r)>\n",
      "mapping...  <HDF5 file \"3000.hdf5\" (mode r)>\n",
      "mapping...  <HDF5 file \"4000.hdf5\" (mode r)>\n",
      "mapping...  <HDF5 file \"5000.hdf5\" (mode r)>\n",
      "mapping...  <HDF5 file \"6000.hdf5\" (mode r)>\n",
      "mapping...  <HDF5 file \"7000.hdf5\" (mode r)>\n",
      "mapping...  <HDF5 file \"8000.hdf5\" (mode r)>\n",
      "molecular formula (idmol) mapped:  6950\n",
      "total molecular structures (idconf) mapped:  41537\n",
      "CDataset created...\n",
      "CModel loaded...\n",
      "FFNet model loaded...\n",
      "learning time: 0:00:01.217260\n",
      "epoch: 0, lr: 0.01\n",
      "train loss: 66.25336135061164, val loss: 45.020310401916504\n",
      "sklearn train metric: 0, sklearn validation metric: 0\n",
      "learning time: 0:00:11.769116\n",
      "epoch: 10, lr: 0.01\n",
      "train loss: 2.4704035708778784, val loss: 2.3808363676071167\n",
      "sklearn train metric: 0, sklearn validation metric: 0\n",
      "learning time: 0:00:22.407227\n",
      "epoch: 20, lr: 0.005\n",
      "train loss: 1.9210137442538613, val loss: 2.3188317120075226\n",
      "sklearn train metric: 0, sklearn validation metric: 0\n",
      "learning time: 0:00:33.219133\n",
      "epoch: 30, lr: 0.0025\n",
      "train loss: 1.8125399664828652, val loss: 2.0481576323509216\n",
      "sklearn train metric: 0, sklearn validation metric: 0\n",
      "learning time: 0:00:44.070601\n",
      "epoch: 40, lr: 0.0025\n",
      "train loss: 1.6048787142101086, val loss: 1.8106381297111511\n",
      "sklearn train metric: 0, sklearn validation metric: 0\n",
      "test loss: 1.7893605828285217\n",
      "learning time: 0:00:54.099220\n",
      "sklearn test metric: \n",
      "0 \n",
      "\n"
     ]
    },
    {
     "data": {
      "image/png": "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\n",
      "text/plain": [
       "<Figure size 432x288 with 1 Axes>"
      ]
     },
     "metadata": {
      "needs_background": "light"
     },
     "output_type": "display_data"
    }
   ],
>>>>>>> dev
   "source": [
    "model_params = {'D_in': 23*23+23*64, \n",
    "                'H': 4096, \n",
    "                'D_out': 1, \n",
    "                'model_name': 'funnel',\n",
    "                'embed_params': [('atNUM',9,64,None,True)]}\n",
    "\n",
    "ds_params = {'train_params': {'features': ['distance'],\n",
    "                              'pad': 23,\n",
    "                              'targets': ['eAT'],\n",
    "                              'embeds': ['atNUM'],\n",
    "                              'selector': ['opt'],\n",
    "                              'flatten': True}}\n",
    "\n",
    "metrics_params = {'report_interval': 10}\n",
    "\n",
    "crit_params = {'reduction': 'sum'}\n",
    "\n",
    "sample_params = {'set_seed': 88,\n",
    "                 'splits': (.7,.15)}\n",
    "\n",
    "sched_params = {'factor': .5,\n",
    "                'patience': 5,\n",
    "                'cooldown': 2}\n",
    "\n",
    "opt_params = {'lr': 0.01}\n",
    "\n",
    "l = Learn([QM7X], FFNet, Selector, \n",
    "          Optimizer=Adam, Scheduler=ReduceLROnPlateau, Criterion=L1Loss, \n",
    "          model_params=model_params, ds_params=ds_params, sample_params=sample_params,\n",
    "          opt_params=opt_params, sched_params=sched_params, crit_params=crit_params,\n",
    "          metrics_params=metrics_params,\n",
    "          adapt=False, load_model=False, load_embed=False, save_model=False, \n",
    "          batch_size=256, epochs=50)"
   ]
  },
  {
   "cell_type": "code",
<<<<<<< HEAD
   "execution_count": null,
   "metadata": {},
   "outputs": [],
=======
   "execution_count": 7,
   "metadata": {
    "tags": []
   },
   "outputs": [
    {
     "name": "stdout",
     "output_type": "stream",
     "text": [
      "loading QM9 datadic from a pickled copy...\n",
      "CDataset created...\n",
      "CModel loaded...\n",
      "FFNet model loaded...\n",
      "learning time: 0:00:06.575408\n",
      "epoch: 0, lr: 0.01\n",
      "train loss: 55.08729768801136, val loss: 8.37692603939458\n",
      "sklearn train metric: 0, sklearn validation metric: 0\n",
      "learning time: 0:00:19.475934\n",
      "epoch: 2, lr: 0.01\n",
      "train loss: 7.713099392856202, val loss: 8.266276039575276\n",
      "sklearn train metric: 0, sklearn validation metric: 0\n",
      "learning time: 0:00:32.271571\n",
      "epoch: 4, lr: 0.01\n",
      "train loss: 7.289832721571295, val loss: 6.77873758893264\n",
      "sklearn train metric: 0, sklearn validation metric: 0\n",
      "learning time: 0:00:45.267725\n",
      "epoch: 6, lr: 0.01\n",
      "train loss: 6.899810435725193, val loss: 6.677848495935139\n",
      "sklearn train metric: 0, sklearn validation metric: 0\n",
      "learning time: 0:00:58.234355\n",
      "epoch: 8, lr: 0.01\n",
      "train loss: 6.8781505846509745, val loss: 6.660077226789374\n",
      "sklearn train metric: 0, sklearn validation metric: 0\n",
      "learning time: 0:01:11.215837\n",
      "epoch: 10, lr: 0.01\n",
      "train loss: 6.77702698186666, val loss: 6.21408326374857\n",
      "sklearn train metric: 0, sklearn validation metric: 0\n",
      "learning time: 0:01:24.187229\n",
      "epoch: 12, lr: 0.01\n",
      "train loss: 6.682059322752538, val loss: 7.197346367334065\n",
      "sklearn train metric: 0, sklearn validation metric: 0\n",
      "learning time: 0:01:37.080232\n",
      "epoch: 14, lr: 0.01\n",
      "train loss: 6.704968664826465, val loss: 6.168662591984398\n",
      "sklearn train metric: 0, sklearn validation metric: 0\n",
      "learning time: 0:01:49.911047\n",
      "epoch: 16, lr: 0.01\n",
      "train loss: 6.79754637870468, val loss: 7.110310190602353\n",
      "sklearn train metric: 0, sklearn validation metric: 0\n",
      "learning time: 0:02:02.631165\n",
      "epoch: 18, lr: 0.005\n",
      "train loss: 6.336499577476864, val loss: 6.633796811103821\n",
      "sklearn train metric: 0, sklearn validation metric: 0\n",
      "test loss: 6.594107420820939\n",
      "learning time: 0:02:09.871927\n",
      "sklearn test metric: \n",
      "0 \n",
      "\n"
     ]
    },
    {
     "data": {
      "image/png": "iVBORw0KGgoAAAANSUhEUgAAAXwAAAD4CAYAAADvsV2wAAAAOXRFWHRTb2Z0d2FyZQBNYXRwbG90bGliIHZlcnNpb24zLjMuNCwgaHR0cHM6Ly9tYXRwbG90bGliLm9yZy8QVMy6AAAACXBIWXMAAAsTAAALEwEAmpwYAAAmBUlEQVR4nO3deXxU9b3/8ddnliSsAcIOAkEEBCLYhohXrVuLqCCtKFLwWu1CqdVaHxer/upWb23t78ftba1WH7a19vaiUuVasUWtWiiXVpBAwybIJpAAsoY9yyzf3x9nAiEkkDAzmSHzfj4e85gzZ/3MyeQ93/meM2fMOYeIiLR8vlQXICIizUOBLyKSIRT4IiIZQoEvIpIhFPgiIhkikOoCTqVz586uX79+qS5DROSssXTp0j3OuS71TUvrwO/Xrx/FxcWpLkNE5KxhZlsampaWXTpmNs7Mnj9w4ECqSxERaTHSMvCdc28656bm5uamuhQRkRYjLQNfREQSLy0DX106IiKJl5aBry4dEZHES8vAFxGRxEvLwFeXjohI4qVl4MfTpRONOmYu3sLclTuSUJmIyNkrrb94dSZ8PuOVD0sJRaJcO6w7ZpbqkkRE0kJatvDjNfmiPqz99BDLtpanuhQRkbSRloEfbx/+DcN70jY7wMzFWxNcmYjI2SstAz/e0zLbZAf44oU9+dOKHew/Wp3g6kREzk5pGfiJMLmoL9XhKLOXbUt1KSIiaaHFBv6Qnu25sE8HZi7egn6oXUSkBQc+wOSiPmzafYTFn+xLdSkiIimXloGfqC9ejb2gJ+1zArykg7ciIukZ+Im6lk6rLD83fqY3b63awd7DVQmqTkTk7JSWgZ9IUy7qQyjieG1pWapLERFJqRYf+Od1a0dRv0689OFWolEdvBWRzNXiAx+8b95u2XuUf2zcm+pSRERSJiMCf8yw7nRsHeSlDxv8bV8RkRYvLQM/0ZdHzgn6uemzvfnL6p3sOlSZkHWKiJxt0jLwk/GLV18u6kM46ni1WAdvRSQzpWXgJ0P/Lm35l3PzeGnxViI6eCsiGShjAh9gykV92ba/ggXrd6e6FBGRZpdRgf+FId3o3DaLmYv0zVsRyTwZFfhZAR83F57DX9fuZMeBilSXIyLSrDIq8AG+PLIPDpi1pDTVpYiINKuMC/w+ea257LwuvPJhKeFINNXliIg0m4wLfPCur/PpwUrmfayDtyKSOdIy8BP9xau6rh7clW7ts5m5WN+8FZHMkZaBn4wvXtUW8Pu4ZWQf/rZuN6X7jiZlGyIi6SYtA785TBp5DoYO3opI5sjYwO/ZoRVXDurKrOJSQjp4KyIZIGMDH2DKqD7sPlTFex/tTHUpIiJJl9GBf/nArvTq0IqZ+s1bEckAGR34fp8xaeQ5LNywh817jqS6HBGRpMrowAeYOPIc/D7j5Q/VyheRli3jA79b+xw+f35XXl1aRlU4kupyRESSJuMDH7zLJu87Us07q3XwVkRaLgU+cOmAzvTp1JqZi/TNWxFpuZot8M2sv5n9xsxea65tNpbPZ3y5qA+LP9nHhl2HU12OiEhSxBX4ZvaCme0ys1V1xo8xs4/NbIOZPQDgnNvknPtaPNtLppsLexP0Gy/pFE0RaaHibeG/CIypPcLM/MAzwLXAEODLZjYkzu0kXee22VwztDuzl5VRGdLBWxFpeeIKfOfcAmBfndFFwIZYi74aeAUY39h1mtlUMys2s+Ldu5v38sWTL+rDgYoQc1fuaNbtiog0h2T04fcCal+RrAzoZWZ5ZvYccKGZPdjQws65551zhc65wi5duiShvIZd3D+P/p3b6Ju3ItIiJSPwrZ5xzjm31zk3zTl3rnPux0nYbtzMjMkX9WHplnLWfnow1eWISCpUHoDylnnGXiAJ6ywDzqn1uDewvSkrMLNxwLgBAwacWQWLnoOKcvAHwBcAX9C7r/vY5wd/sNY4P7d0Nv4a+JinXtzKuV3a0K19TuyWTbf2OeS1ySLga8T7ZIc+0L7HmdUvIs0nVAmli2DT3+CTv8H2f4KLQrcCuOBmGDYBcnunusqEMOdcfCsw6wf8yTk3LPY4AKwDrga2AUuAyc651U1dd2FhoSsuLm56UU8XwZ6Pm75conUZDP2vgP5XQr9LILtdqiuSU6k8AFs+gM3/C87BkPHQeyQ05g1ezh6RMOwogU3zvYDfuhgiVV7Dr9dnIf9yyMmF1a/DtmLAoO8lUHCT95po3SnFT+DUzGypc66w3mnxBL6ZvQxcAXQGdgKPOud+Y2bXAT8D/MALzrknmrjemhb+N9avX39mxUWj4CIQCUE0fPxW9/GxcRGIho4/dt418iNRx76j1ew6VMWeQ1XsOlTF7sNV7DpYxe5DVRysDJ2w2ZyAj67tsjjfX8YF1SUMqlpJtqsigp8trYawoV0hm9oXsbPtEPyBLAJ+H1l+I+D3EfT7CPqNoN9HTtBH2+wgbXMCtM321xr2bn5ffT1n0iSVB2HrIi/gN/8v7Fju/d39WYB5IZB7Dgz9ktfK6zEcTPv9rOMc7Frjhfumv8GWv0NVrMu2WwH0v9wL+b4Xn9wo27sRVs2GFX+Aveu9noDzvgAFN8PAMZDVuvmfz2kkLfCT7Yxb+M3oaHWY0n0VlO47ytZ9RyktP0rpvqMcqAgRijgIVzKw+iOGV5fwmUgJg6Ib8eE4RCuWuKEsjA7jb+GhbHQ9qf/wR/1aBf20zQnQLjtAm9ibQO3HrbP8ZAV8ZAd8ZAeOD2fV+/jEcdkBH9lBP62z/AT9Lah1W3XIa81tXgCbF8L2Eq9R4At6Lfn8y6Dfpd5wJAQfv+X9s29832sIdDrXC/5hE6Dr4FQ/m/pFo7BnHVTsg479oG33zPyEUr7leMB/sgCO7PLGd8w/HvD5n4M2nRu3Pue8BsHKV73XxKEdkNUWzh/ntfzzr/C6jNOAAj+dHN3nvQA3zYON82C/d3DIte9JpN8VVPf9HJW9L6MiO4/DlWEOV4U4XBVpeLgqzOHKEEeqIhyqCnO4spojlSEqwhEqww7n4muRBv1Gq6Cf1lnem0jrbD+tgwFaZXlvCDX3rbMCsfmOv1FEHTgcUQc4hwOiUe/eOYjGXntR53AOb3psGLzLV/sMfGb4zI4/9sUem2FWM5/FxnN8fPgoHfYsI2/3Yjru/pDc8lX4XISoBdnfqYC9XS5iX5ciyjuNIOJvdcLzNoOg30fAb7QKHaDLtnfpsvlPtPv0A8xFqeo0mCMDv0jVoPH48voT8Fns05q3TMBnWHN8GjiyB8qKoWyJ1/2wbdnx1itAIMcL/o750Cn/hPto7jlUuQBV4QiVoShV4QhV4ShVoSgR58jy+05oGNQ8zgr4EvL8olFHKBqlOhwlFHGEIjXDUSJRh5l3IoVx/DXgjfPG+wwMI3DkUwK7lpO1cwWBXSsIfLoc3xHvuliubTfIvxzrHwv4Dn3iqtkrPOJ9SljxB/hoDlQdgDZdYOiNXsu/d2FKPwmedYGfkC6ds8W+T7zw3zTfa41U7vfGZ+cCzkvGmnsXrTMueuJ06v9bOvOB+QAD8+HMAMPhDbvYcM28DojiJ4qPCH4iGGH8RPARcUbI+QljhJ2PUNRHyBmhqI9q54stU/vmJ1wz7Pz1TPO2U3ceB7EpDp9Fjw/H7r3H3u34cGy8RelruxhuGwlahJDzs9ydy6Lo+XwQHcKy6HlUkHNGf64u7Oda/2LG+T9gpG8dACXR/rwZuZg/R0bxKXknzF/zJlUTULWDyxcb54+FZ93pft+Jb2rZhDk3+glDIusYFPmYQaG1dI9+CkAEH6XBfDZmnc+m7MHs93eiU9U28kI76BreTrfIDnpGP6UVVcdqizhjB3lsiXZji+tKqfPut7hubHd5HKAt0QZO5DPjxDeEWm8GWQEffjOqYyEeikQJhaNURxzV4cixcA9Hm549XSmnwLeJAt8nDLNPKPB9Qjfbf+z5bHQ9WenyWR49l39Eh7LB9QK8xkLAZ8ffkP0+grE36YC/1nif162aE/ST2ypIx9ZZdGwdJDd237F1Frmtj49vH4ji2/iu1/L/+G2vG7BjPxjweTC/9wnyWPdx9Piwi8S6kcO17sPe/3TN8Ff/ckafGs66wK/RIlv4pxKNeB8bN82HwzvxAtpiYU2s1RB7fGzYaoV5rXFQ500ievwNomYY6hkXG45GYi/KaK0XaM2LM3LiCzb2InXRCNFIiGgkcmwZi817/P74/HbCOmLTGuDM7z1Pn//4G5gdH66Z7mLD4VZdONrzYu/WvRAXbHNSo8vqdKHVnh51jnDEUR2JEo44wpEooagjFI4Sjnot0uDhMnqUvk3v7W+Rd/AjALbnXsi6zqPZ0v4zhC2LMAFC+AlZkAh+QgQIEyCK18KNxj7pRB04544NRyNRcqt30KfiI/pWfES/ijWcU7WeIN4xo3J/Hhuyzmd9cBDrgoPZ6D+Po5btLR91YEZ2wEdO0H+8m87vI8/20yOygy7hHXSu3kanqm10qNpG+4pScqrLT9rvoUA7qoPtqQq2ozKQS4W/HRX+dhz1t+OIteWQrx2HrS0H8W4HXBvKacMR14qsoJ+sWselgrXeGI6N89ce543PCvjwmZFVsYvc8lV02L+aDvtXk7t/Na2q9nh/H3wcapvPvvZD2Js7hD3th1DediDV/tZEnSMSdYSjsb9bxBGORk/8e8b+hjXTa96AQrHpFaEIBypClB+t5kBFiIZi0oxjbww9squ5isVcVjmfvhVriMZei1H8RGOv1WitxzU3hy823X9sujMffe+aQyCr6Q0TBb6cPWreYHBeC8nnPzsOlO7dCKv+B1a9BrvXnn5+X8A7OOwPescQaoZr7o/s9m7gdcv0vNA7g6T3SO+W2yvxz6HyIJRvhvJP4OAO79NmRTlUxO4r9584HKk+zQot9vc7/mbt/U19tf62Nfe+E+ep3B9r9OCN7zwIeo6AHiO8++4FkNUm8fugHtGo42BliPKjIfYfrWb/Ue+NYH/scfnREPsraoa98YervMZL7Xitydpjo2pPqzMPwD8fGU1WoOnHX866wM+oLh1peXZ+BDtXe2d9RUJeMEZCscex4QbHx+6z2x0P+G5DvTeBdOIchCrqfyOoKIfqIyd+Eqz5tHjscZ3huvNmtYXuFzR7uLcEZ13g11ALX0SkaU4V+Bl4vpaISGZS4IuIZIi0DHwzG2dmzx84cCDVpYiItBhpGfjOuTedc1Nzc3NTXYqISIuRloEvIiKJp8AXEckQCnwRkQyRloGvg7YiIomXloGvg7YiIomXloEvIiKJp8AXEckQCnwRkQyhwBcRyRBpGfg6S0dEJPHSMvB1lo6ISOKlZeCLiEjiKfBFRDJE038SXUTkDIVCIcrKyqisrEx1KWe9nJwcevfuTTDY+J+/VOCLSLMpKyujXbt29OvXDzsbfpw+TTnn2Lt3L2VlZeTn5zd6OXXpiEizqaysJC8vT2EfJzMjLy+vyZ+UFPgi0qwU9olxJvtRgS8ikiHSMvD1xSsRkcRLy8DXF69EJFn279/PL3/5yyYvd91117F///4mL3f77bfz2muvNXm5ZEjLwBcRSZaGAj8SiZxyublz59KhQ4ckVdU8dFqmiKTED95czUfbDyZ0nUN6tufRcUNPOc8DDzzAxo0bGTFiBMFgkLZt29KjRw9KSkr46KOP+OIXv0hpaSmVlZXcc889TJ06FYB+/fpRXFzM4cOHufbaa7n00kv5xz/+Qa9evXjjjTdo1arVaet7//33mT59OuFwmJEjR/Lss8+SnZ3NAw88wJw5cwgEAowePZoZM2bw6quv8oMf/AC/309ubi4LFiyIe/8o8EUkozz55JOsWrWKkpIS5s+fz/XXX8+qVauOnc/+wgsv0KlTJyoqKhg5ciQTJkwgLy/vhHWsX7+el19+mV/96ldMnDiR2bNnc+utt55yu5WVldx+++28//77DBw4kNtuu41nn32W2267jddff521a9diZse6jR5//HHeeecdevXqdUZdSfVR4ItISpyuJd5cioqKTvjy0lNPPcXrr78OQGlpKevXrz8p8PPz8xkxYgQAn/3sZ9m8efNpt/Pxxx+Tn5/PwIEDAfjKV77CM888w1133UVOTg5f//rXuf766xk7diwAl1xyCbfffjsTJ07kxhtvTMAzVR++iGS4Nm3aHBueP38+7733Hh988AHLly/nwgsvrPfLTdnZ2ceG/X4/4XD4tNtxztU7PhAI8OGHHzJhwgT++Mc/MmbMGACee+45fvjDH1JaWsqIESPYu3dvU5/ayduKew0iImeRdu3acejQoXqnHThwgI4dO9K6dWvWrl3LokWLErbdwYMHs3nzZjZs2MCAAQP4/e9/z+WXX87hw4c5evQo1113HaNGjWLAgAEAbNy4kYsuuoiLLrqIN998k9LS0pM+aTSVAl9EMkpeXh6XXHIJw4YNo1WrVnTr1u3YtDFjxvDcc89xwQUXMGjQIEaNGpWw7ebk5PDb3/6Wm2+++dhB22nTprFv3z7Gjx9PZWUlzjn+8z//E4D77ruP9evX45zj6quvZvjw4XHXYA19zEgHhYWFrri4ONVliEiCrFmzhvPPPz/VZbQY9e1PM1vqnCusb3714YuIZIhm69IxszbAL4FqYL5zbmZzbVtEJNm+/e1v8/e///2Ecffccw933HFHiio6WVyBb2YvAGOBXc65YbXGjwF+DviBXzvnngRuBF5zzr1pZrMABb6ItBjPPPNMqks4rXi7dF4ExtQeYWZ+4BngWmAI8GUzGwL0Bkpjs536O8wiIpJwcQW+c24BsK/O6CJgg3Nuk3OuGngFGA+U4YX+KbdrZlPNrNjMinfv3h1PeSIiUksyDtr24nhLHryg7wX8DzDBzJ4F3mxoYefc8865QudcYZcuXZJQnohIZkrGQdv6fobFOeeOAOlz9EJEJMMko4VfBpxT63FvYHtTVqAfQBGRdNG2bdsGp23evJlhw4Y1OD3dJCPwlwDnmVm+mWUBk4A5TVmBfgBFRCTx4j0t82XgCqCzmZUBjzrnfmNmdwHv4J2W+YJzbnUT1zsOGFdzTQkRaYHeegA+XZnYdXYvgGufPOUs999/P3379uXOO+8E4LHHHsPMWLBgAeXl5YRCIX74wx8yfvz4Jm26srKSb33rWxQXFxMIBPjpT3/KlVdeyerVq7njjjuorq4mGo0ye/ZsevbsycSJEykrKyMSifDwww9zyy23nPHTbqy4At859+UGxs8F5sax3jeBNwsLC79xpusQEanPpEmT+O53v3ss8P/whz/w9ttvc++999K+fXv27NnDqFGjuOGGGzCr75Bk/WrOw1+5ciVr165l9OjRrFu3jueee4577rmHKVOmUF1dTSQSYe7cufTs2ZM///nPgHfRtuagi6eJSGqcpiWeLBdeeCG7du1i+/bt7N69m44dO9KjRw/uvfdeFixYgM/nY9u2bezcuZPu3bs3er0LFy7k7rvvBrwrY/bt25d169Zx8cUX88QTT1BWVsaNN97IeeedR0FBAdOnT+f+++9n7NixXHbZZcl6uidIy2vp6KCtiCTTTTfdxGuvvcasWbOYNGkSM2fOZPfu3SxdupSSkhK6detW73XwT6WhC1FOnjyZOXPm0KpVK6655hr++te/MnDgQJYuXUpBQQEPPvggjz/+eCKe1mmlZeDroK2IJNOkSZN45ZVXeO2117jppps4cOAAXbt2JRgMMm/ePLZs2dLkdX7uc59j5kzvijHr1q1j69atDBo0iE2bNtG/f3++853vcMMNN7BixQq2b99O69atufXWW5k+fTrLli1L9FOsl7p0RCTjDB06lEOHDtGrVy969OjBlClTGDduHIWFhYwYMYLBgwc3eZ133nkn06ZNo6CggEAgwIsvvkh2djazZs3iv//7vwkGg3Tv3p1HHnmEJUuWcN999+Hz+QgGgzz77LNJeJYnS8vr4dc6S+cb69evT3U5IpIguh5+YrWI6+GrS0dEJPHUpSMichorV67kX//1X08Yl52dzeLFi1NU0ZlR4IuInEZBQQElJSWpLiNuadmlo9MyRUQSLy0DX334IiKJl5aBLyIiiafAF5GMcqrLHbd0CnwRyXiRSGb8zHZaBr4O2opIss2fP58rr7ySyZMnU1BQkOpymkVanpapyyOLtHw/+fAnrN23NqHrHNxpMPcX3d/o+T/88ENWrVpFfn5+QutIV2nZwhcRaQ5FRUUZE/aQpi18EWn5mtIST5Y2bdqkuoRmpRa+iEiGUOCLiGSItOzS0Y+Yi0iyHD58GIArrriCK664IrXFNLO0bOHr0goiIomXloEvIiKJp8AXEckQCnwRkQyhwBcRyRAKfBGRDKHAFxHJEAp8Ecl4/fr1Y8+ePUnfTklJCXPnzm1wenFxMd/5zneStv20DHxdHllEWqJTBX44HKawsJCnnnoqadtPy2/a6vLIIi3fpz/6EVVrEnt55OzzB9P9//yfU85z5MgRJk6cSFlZGZFIhIcffvjYtIqKCr70pS8xYcIEvvGNk+Nn8+bNjBkzhksvvZRFixYxfPhw7rjjDh599FF27drFzJkzKSoq4siRI9x9992sXLmScDjMY489xrXXXssjjzxCRUUFCxcu5MEHH2TNmjVs376dzZs307lzZ6ZOncqMGTP405/+xOHDh7n77rspLi7GzHj00UeZMGFCXPsnLVv4IiLJ8vbbb9OzZ0+WL1/OqlWrGDNmDOBdcmHcuHFMnjy53rCvsWHDBu655x5WrFjB2rVreemll1i4cCEzZszgRz/6EQBPPPEEV111FUuWLGHevHncd999hEIhHn/8cW655RZKSkq45ZZbAFi6dClvvPEGL7300gnb+fd//3dyc3NZuXIlK1as4Kqrror7uadlC19EWr7TtcSTpaCggOnTp3P//fczduxYLrvsMgDGjx/P9773PaZMmXLK5fPz84/9QtbQoUO5+uqrMTMKCgrYvHkzAH/5y1+YM2cOM2bMAKCyspKtW7fWu74bbriBVq1anTT+vffe45VXXjn2uGPHjk1+rnUp8EUkowwcOJClS5cyd+5cHnzwQUaPHg3AJZdcwltvvcXkyZMxswaXz87OPjbs8/mOPfb5fITDYQCcc8yePZtBgwadsOzixYtPWl9D1+R3zp2yjjOhLh0RySjbt2+ndevW3HrrrUyfPp1ly5YB8Pjjj5OXl8edd94Z9zauueYafvGLX+CcA+Cf//wnAO3atePQoUONWsfo0aN5+umnjz0uLy+Puy4FvohklJUrV1JUVMSIESN44okneOihh45N+9nPfkZlZSXf+9734trGww8/TCgU4oILLmDYsGHHDgxfeeWVfPTRR4wYMYJZs2adch0PPfQQ5eXlDBs2jOHDhzNv3ry4agKwmnegdFRYWOiKi4tTXYaIJMiaNWs4//zzU11Gi1Hf/jSzpc65wvrmVwtfRCRD6KCtiEgde/fu5eqrrz5p/Pvvv09eXl4KKkoMBb6INKtknH2SaHl5eZSUlKS6jFM6k+74ZuvSMbP+ZvYbM3utubYpIuklJyeHvXv3nlFYyXHOOfbu3UtOTk6TlmtUC9/MXgDGArucc8NqjR8D/BzwA792zj15igI3AV9T4Itkrt69e1NWVsbu3btTXcpZLycnh969ezdpmcZ26bwIPA38V80IM/MDzwBfAMqAJWY2By/8f1xn+a8653Y1qTIRaXGCwSD5+fmpLiNjNSrwnXMLzKxfndFFwIZYyx0zewUY75z7Md6ngTNiZlOBqQB9+vQ509WIiEgd8fTh9wJKaz0ui42rl5nlmdlzwIVm9mBD8znnnnfOFTrnCrt06RJHeSIiUls8Z+nUd5i9wSMxzrm9wLQ4ticiInGIp4VfBpxT63FvYHt85Xj0AygiIokXT+AvAc4zs3wzywImAXMSUZRz7k3n3NTc3NxErE5ERGhk4JvZy8AHwCAzKzOzrznnwsBdwDvAGuAPzrnViShKLXwRkcTTxdNERFoQXTxNRETSM/DVpSMiknhpGfg6aCsiknhpGfgiIpJ4aRn46tIREUm8tAx8demIiCReWga+iIgkngJfRCRDpGXgqw9fRCTx0jLw1YcvIpJ4aRn4IiKSeAp8EZEMocAXEckQaRn4OmgrIpJ4aRn4OmgrIpJ4aRn4IiKSeAp8EZEMocAXEckQCnwRkQyRloGvs3RERBIvLQNfZ+mIiCReWga+iIgkngJfRCRDKPBFRDKEAl9EJEMo8EVEMoQCX0QkQ6Rl4Os8fBGRxEvLwNd5+CIiiZeWgS8iIomnwBcRyRAKfBGRDKHAFxHJEAp8EZEMocAXEckQCnwRkQyhwBcRyRAKfBGRDKHAFxHJEM0W+Gb2RTP7lZm9YWajm2u7IiLiaVTgm9kLZrbLzFbVGT/GzD42sw1m9sCp1uGc+6Nz7hvA7cAtZ1yxiIickUAj53sReBr4r5oRZuYHngG+AJQBS8xsDuAHflxn+a8653bFhh+KLZc0v175a/ZV7kvmJkQkjfVp14eJgybiM/Va19aowHfOLTCzfnVGFwEbnHObAMzsFWC8c+7HwNi66zAzA54E3nLOLWtoW2Y2FZgK0KdPn8aUd5J3t7zLloNbzmhZETm7Oec4Gj7K8t3LefySxwn6gqkuKW00toVfn15Aaa3HZcBFp5j/buDzQK6ZDXDOPVffTM6554HnAQoLC92ZFDZr7KwzWUxEWgDnHL9Z9Rt+vuznHKw+yIzLZ9Aq0CrVZaWFeD7vWD3jGgxo59xTzrnPOuemNRT2x1asH0ARkTNkZny94Os8cvEjLNy2kG+++00OVClLIL7ALwPOqfW4N7A9vnI8+gEUEYnXzQNvZsblM1i1ZxV3vHMHu47uOv1CLVw8gb8EOM/M8s0sC5gEzElMWSIi8ftC3y/wy8//km2HtnHbW7ex9eDWVJeUUo09LfNl4ANgkJmVmdnXnHNh4C7gHWAN8Afn3OpEFKUuHRFJlFE9RvHCNS9wNHSU2966jbX71qa6pJQx587ouGizKCwsdMXFxakuQ0RagE0HNvHNd7/J4erDPHXVU4zsPjLVJSWFmS11zhXWN00nqYpIRuif25/fX/t7urbuyrR3pzFv67xUl9Ts0jLw1aUjIsnQvU13fjfmdwzqNIh759/LHzf8MdUlNau0DHydpSMiydIhpwO/Hv1riroX8fDfH+bFVS+muqRmk5aBLyKSTK2DrXn66qe5pt81/MfS/+CnS39KOh/PTJR4vmmbNGY2Dhg3YMCAVJciIi1Ulj+Ln1z2Ezpkd+C3q37L/sr9PHLxIwR8aRmLCZGWLXx16YhIc/D7/Hz/ou8zbfg0Xt/wOv82/9+oilSluqykScvAFxFpLmbGt0d8mweKHuCvpX/lW+99i8PVh1NdVlK03M8uIiJNMOX8KXTI7sBDCx9i7Otj6ZDdIaX1vHrDqwm/0mdaBr768EUkFa7vfz2dcjoxe/1soi6a6nISTt+0FRFpQfRNWxERUeCLiGQKBb6ISIZIy8DXtXRERBIvLQNfX7wSEUm8tAx8ERFJPAW+iEiGUOCLiGSItP7ilZntBrac4eKdgT0JLCfRVF98VF98VF980rm+vs65LvVNSOvAj4eZFTf0bbN0oPrio/rio/rik+71NURdOiIiGUKBLyKSIVpy4D+f6gJOQ/XFR/XFR/XFJ93rq1eL7cMXEZETteQWvoiI1KLAFxHJEGd94JvZGDP72Mw2mNkD9Uw3M3sqNn2FmX2mGWs7x8zmmdkaM1ttZvfUM88VZnbAzEpit0eaq77Y9jeb2crYtk/6tZkU779BtfZLiZkdNLPv1pmnWfefmb1gZrvMbFWtcZ3M7F0zWx+779jAsqd8rSaxvv9nZmtjf7/XzaxDA8ue8rWQxPoeM7Nttf6G1zWwbKr236xatW02s5IGlk36/oubc+6svQF+YCPQH8gClgND6sxzHfAWYMAoYHEz1tcD+ExsuB2wrp76rgD+lMJ9uBnofIrpKdt/9fytP8X7UknK9h/wOeAzwKpa4/4v8EBs+AHgJw3Uf8rXahLrGw0EYsM/qa++xrwWkljfY8D0Rvz9U7L/6kz/D+CRVO2/eG9newu/CNjgnNvknKsGXgHG15lnPPBfzrMI6GBmPZqjOOfcDufcstjwIWAN0Ks5tp1AKdt/dVwNbHTOnek3rxPCObcA2Fdn9Hjgd7Hh3wFfrGfRxrxWk1Kfc+4vzrlw7OEioHeit9tYDey/xkjZ/qthZgZMBF5O9Haby9ke+L2A0lqPyzg5UBszT9KZWT/gQmBxPZMvNrPlZvaWmQ1t3spwwF/MbKmZTa1nelrsP2ASDf+jpXL/AXRzzu0A700e6FrPPOmyH7+K94mtPqd7LSTTXbEupxca6BJLh/13GbDTObe+gemp3H+NcrYHvtUzru55po2ZJ6nMrC0wG/iuc+5gncnL8LophgO/AP7YnLUBlzjnPgNcC3zbzD5XZ3o67L8s4Abg1Xomp3r/NVY67MfvA2FgZgOznO61kCzPAucCI4AdeN0mdaV8/wFf5tSt+1Ttv0Y72wO/DDin1uPewPYzmCdpzCyIF/YznXP/U3e6c+6gc+5wbHguEDSzzs1Vn3Nue+x+F/A63kfn2lK6/2KuBZY553bWnZDq/Rezs6abK3a/q555Uv06/AowFpjiYh3OdTXitZAUzrmdzrmIcy4K/KqB7aZ6/wWAG4FZDc2Tqv3XFGd74C8BzjOz/FgrcBIwp848c4DbYmebjAIO1Hz8TrZYn99vgDXOuZ82ME/32HyYWRHe32RvM9XXxsza1QzjHdxbVWe2lO2/WhpsWaVy/9UyB/hKbPgrwBv1zNOY12pSmNkY4H7gBufc0QbmacxrIVn11T4m9KUGtpuy/RfzeWCtc66svomp3H9NkuqjxvHe8M4iWYd3BP/7sXHTgGmxYQOeiU1fCRQ2Y22X4n3sXAGUxG7X1anvLmA13lkHi4B/acb6+se2uzxWQ1rtv9j2W+MFeG6tcSnbf3hvPDuAEF6r82tAHvA+sD523yk2b09g7qleq81U3wa8/u+a1+Bzdetr6LXQTPX9PvbaWoEX4j3Saf/Fxr9Y85qrNW+z7794b7q0gohIhjjbu3RERKSRFPgiIhlCgS8ikiEU+CIiGUKBLyKSIRT4IiIZQoEvIpIh/j9IVc2pfBvDvQAAAABJRU5ErkJggg==\n",
      "text/plain": [
       "<Figure size 432x288 with 1 Axes>"
      ]
     },
     "metadata": {
      "needs_background": "light"
     },
     "output_type": "display_data"
    }
   ],
>>>>>>> dev
   "source": [
    "model_params = {'D_in': 29*29, \n",
    "                'H': 4096, \n",
    "                'D_out': 1, \n",
    "                'model_name': 'funnel'}\n",
    "\n",
    "ds_params = {'train_params': {#'n': 10000, \n",
    "                              'features': ['coulomb'],\n",
    "                              'embeds': [], \n",
    "                              'targets': ['U0'],\n",
    "                              'pad': 29, \n",
    "                              'filter_on': None,\n",
    "                              'use_pickle': 'qm9.p',\n",
    "                              'flatten': True}}\n",
    "\n",
    "metrics_params = {'report_interval': 10}\n",
    "\n",
    "crit_params = {'reduction': 'sum'}\n",
    "\n",
    "sample_params = {'set_seed': 88,\n",
    "                 'splits': (.7,.15)}\n",
    "\n",
    "sched_params = {'factor': .5,\n",
    "                'patience': 5,\n",
    "                'cooldown': 2}\n",
    "\n",
    "opt_params = {'lr': 0.01}\n",
    "\n",
    "l = Learn([QM9], FFNet, Selector, \n",
    "          Optimizer=Adam, Scheduler=ReduceLROnPlateau, Criterion=L1Loss, \n",
    "          model_params=model_params, ds_params=ds_params, sample_params=sample_params,\n",
    "          opt_params=opt_params, sched_params=sched_params, crit_params=crit_params,\n",
    "          metrics_params=metrics_params,\n",
    "          adapt=False, load_model=False, load_embed=False, save_model=False, \n",
    "          batch_size=256, epochs=20)"
   ]
  },
  {
   "cell_type": "code",
   "execution_count": null,
   "metadata": {},
<<<<<<< HEAD
   "outputs": [],
=======
   "outputs": [
    {
     "name": "stdout",
     "output_type": "stream",
     "text": [
      "creating QM9 dataset...\n",
      "QM9 molecules scanned:  1\n",
      "QM9 molecules created:  0\n",
      "QM9 molecules scanned:  10001\n",
      "QM9 molecules created:  1853\n",
      "QM9 molecules scanned:  20001\n",
      "QM9 molecules created:  4109\n",
      "QM9 molecules scanned:  30001\n",
      "QM9 molecules created:  5164\n",
      "QM9 molecules scanned:  40001\n",
      "QM9 molecules created:  8487\n",
      "QM9 molecules scanned:  50001\n",
      "QM9 molecules created:  10694\n",
      "QM9 molecules scanned:  60001\n",
      "QM9 molecules created:  15309\n",
      "QM9 molecules scanned:  70001\n",
      "QM9 molecules created:  20609\n",
      "QM9 molecules scanned:  80001\n",
      "QM9 molecules created:  25898\n",
      "QM9 molecules scanned:  90001\n",
      "QM9 molecules created:  32036\n",
      "QM9 molecules scanned:  100001\n",
      "QM9 molecules created:  38581\n",
      "QM9 molecules scanned:  110001\n",
      "QM9 molecules created:  46307\n",
      "QM9 molecules scanned:  120001\n",
      "QM9 molecules created:  54330\n",
      "QM9 molecules scanned:  130001\n",
      "QM9 molecules created:  58020\n",
      "total uncharacterized molecules removed:  467\n",
      "total QM9 molecules created:  57590\n",
      "pickling a copy of the QM9 datadic...\n",
      "CDataset created...\n",
      "CModel loaded...\n",
      "FFNet model loaded...\n",
      "learning time: 0:00:03.805941\n",
      "epoch: 0, lr: 0.01\n",
      "train loss: 109.95976498476259, val loss: 9.07070779800415\n",
      "sklearn train metric: 0, sklearn validation metric: 0\n",
      "learning time: 0:00:14.788848\n",
      "epoch: 3, lr: 0.01\n",
      "train loss: 7.496573830865751, val loss: 7.196523073947791\n",
      "sklearn train metric: 0, sklearn validation metric: 0\n",
      "learning time: 0:00:25.808286\n",
      "epoch: 6, lr: 0.01\n",
      "train loss: 7.172794433156396, val loss: 6.426214116992372\n",
      "sklearn train metric: 0, sklearn validation metric: 0\n",
      "learning time: 0:00:36.853974\n",
      "epoch: 9, lr: 0.01\n",
      "train loss: 6.565138801647599, val loss: 6.35635283499053\n",
      "sklearn train metric: 0, sklearn validation metric: 0\n",
      "learning time: 0:00:40.480914\n",
      "epoch: 10, lr: 0.01\n",
      "train loss: 6.569008903138957, val loss: 8.06588700323394\n",
      "sklearn train metric: 0, sklearn validation metric: 0\n",
      "learning time: 0:00:51.342775\n",
      "epoch: 13, lr: 0.01\n",
      "train loss: 6.5619758253644225, val loss: 6.927284659761371\n",
      "sklearn train metric: 0, sklearn validation metric: 0\n",
      "learning time: 0:01:02.362746\n",
      "epoch: 16, lr: 0.01\n",
      "train loss: 6.6944484376603635, val loss: 6.122219967119621\n",
      "sklearn train metric: 0, sklearn validation metric: 0\n",
      "learning time: 0:01:13.325315\n",
      "epoch: 19, lr: 0.01\n",
      "train loss: 6.512505373377709, val loss: 6.222799720186176\n",
      "sklearn train metric: 0, sklearn validation metric: 0\n",
      "learning time: 0:01:16.939116\n",
      "epoch: 20, lr: 0.01\n",
      "train loss: 6.3019492428773525, val loss: 6.020419062990131\n",
      "sklearn train metric: 0, sklearn validation metric: 0\n",
      "learning time: 0:01:27.886794\n",
      "epoch: 23, lr: 0.01\n",
      "train loss: 6.262432001198933, val loss: 7.013215397343491\n",
      "sklearn train metric: 0, sklearn validation metric: 0\n",
      "learning time: 0:01:38.860146\n",
      "epoch: 26, lr: 0.01\n",
      "train loss: 6.089145138005542, val loss: 5.9446633078835225\n",
      "sklearn train metric: 0, sklearn validation metric: 0\n",
      "learning time: 0:01:49.744318\n",
      "epoch: 29, lr: 0.01\n",
      "train loss: 6.441190974727558, val loss: 6.4007491920933575\n",
      "sklearn train metric: 0, sklearn validation metric: 0\n",
      "test loss: 6.491813804164077\n",
      "learning time: 0:01:50.542042\n",
      "sklearn test metric: \n",
      "0 \n",
      "\n"
     ]
    },
    {
     "data": {
      "image/png": "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\n",
      "text/plain": [
       "<Figure size 432x288 with 1 Axes>"
      ]
     },
     "metadata": {
      "needs_background": "light"
     },
     "output_type": "display_data"
    }
   ],
>>>>>>> dev
   "source": [
    "model_params = {'D_in': 29*29, \n",
    "                'H': 4096, \n",
    "                'D_out': 1, \n",
    "                'model_name': 'funnel',\n",
    "                'embed_params': []}\n",
    "\n",
    "ds_params = {'train_params': {#'n': 10000,\n",
    "                              'features': ['coulomb'],\n",
    "                              'embeds': [],\n",
    "                              'targets': ['U0'],\n",
    "                              'pad': 29, \n",
    "                              'filter_on': ('n_atoms','>','18'),\n",
    "                              'use_pickle': 'n_atoms_greater_than_18.p',\n",
    "                              'flatten': True}}\n",
    "\n",
    "crit_params = {'reduction': 'sum'}\n",
    "sample_params = {'set_seed': 88,\n",
    "                 'splits': (.7,.15)}\n",
    "sched_params = {'factor': .5,\n",
    "                'patience': 5,\n",
    "                'cooldown': 2}\n",
    "opt_params = {'lr': 0.01}\n",
    "\n",
    "l = Learn([QM9], FFNet, Selector, Optimizer=Adam, Scheduler=ReduceLROnPlateau, Criterion=L1Loss, \n",
    "          model_params=model_params, ds_params=ds_params, sample_params=sample_params,\n",
    "          opt_params=opt_params, sched_params=sched_params, crit_params=crit_params,\n",
    "          adapt=False, load_model=False, load_embed=False, save_model=False, \n",
    "          batch_size=256, epochs=30)"
   ]
  },
  {
   "cell_type": "code",
   "execution_count": null,
   "metadata": {},
<<<<<<< HEAD
   "outputs": [],
=======
   "outputs": [
    {
     "name": "stdout",
     "output_type": "stream",
     "text": [
      "molecules loaded:  1000\n",
      "molecules loaded:  2000\n",
      "molecules loaded:  3000\n",
      "molecules loaded:  3114\n",
      "CDataset created...\n",
      "CModel loaded...\n",
      "FFNet model loaded...\n",
      "learning time: 0:00:03.025900\n",
      "epoch: 0, lr: 0.01\n",
      "train loss: 564.3446655273438, val loss: 530.0709838867188\n",
      "sklearn train metric: 0, sklearn validation metric: 0\n",
      "learning time: 0:00:15.044404\n",
      "epoch: 5, lr: 0.01\n",
      "train loss: 50.55291299258961, val loss: 46.977945963541664\n",
      "sklearn train metric: 0, sklearn validation metric: 0\n",
      "learning time: 0:00:27.158109\n",
      "epoch: 10, lr: 0.01\n",
      "train loss: 43.72803620731129, val loss: 33.4693717956543\n",
      "sklearn train metric: 0, sklearn validation metric: 0\n",
      "learning time: 0:00:39.114531\n",
      "epoch: 15, lr: 0.005\n",
      "train loss: 31.44692824868595, val loss: 29.872509002685547\n",
      "sklearn train metric: 0, sklearn validation metric: 0\n",
      "learning time: 0:00:51.116711\n",
      "epoch: 20, lr: 0.005\n",
      "train loss: 29.072118534761316, val loss: 36.38294474283854\n",
      "sklearn train metric: 0, sklearn validation metric: 0\n",
      "learning time: 0:01:03.176522\n",
      "epoch: 25, lr: 0.005\n",
      "train loss: 25.98713156756233, val loss: 33.96838251749674\n",
      "sklearn train metric: 0, sklearn validation metric: 0\n",
      "learning time: 0:01:15.237459\n",
      "epoch: 30, lr: 0.0025\n",
      "train loss: 22.984978507546817, val loss: 23.29340362548828\n",
      "sklearn train metric: 0, sklearn validation metric: 0\n",
      "learning time: 0:01:27.334079\n",
      "epoch: 35, lr: 0.0025\n",
      "train loss: 25.724208943984088, val loss: 26.504069010416668\n",
      "sklearn train metric: 0, sklearn validation metric: 0\n",
      "learning time: 0:01:39.397970\n",
      "epoch: 40, lr: 0.00125\n",
      "train loss: 20.00541541155647, val loss: 22.83191426595052\n",
      "sklearn train metric: 0, sklearn validation metric: 0\n",
      "learning time: 0:01:51.444516\n",
      "epoch: 45, lr: 0.00125\n",
      "train loss: 23.020391913021314, val loss: 29.46128209431966\n",
      "sklearn train metric: 0, sklearn validation metric: 0\n",
      "test loss: 28.75076675415039\n",
      "learning time: 0:02:01.806546\n",
      "sklearn test metric: \n",
      "0 \n",
      "\n"
     ]
    },
    {
     "data": {
      "image/png": "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\n",
      "text/plain": [
       "<Figure size 432x288 with 1 Axes>"
      ]
     },
     "metadata": {
      "needs_background": "light"
     },
     "output_type": "display_data"
    }
   ],
>>>>>>> dev
   "source": [
    "model_params = {'D_in': 63*63+63*32, \n",
    "                'H': 8192, \n",
    "                'D_out': 1, \n",
    "                'model_name': 'funnel',\n",
    "                'embed_params': [('atomic_numbers',9,32,None,True)]}\n",
    "\n",
    "ds_params = {'train_params': {'features': ['distance'],\n",
    "                              'targets': ['wb97x_dz.energy'],\n",
    "                              'embeds': ['atomic_numbers'],\n",
    "                              'pad': 63, #length of the longest molecule in the dataset\n",
    "                              'flatten': True,\n",
    "                              'criterion': ['wb97x_dz.energy'],\n",
    "                              'conformation': 'random',\n",
    "                              'in_file': './data/ani1x/ani1x-release.h5'}}\n",
    "\n",
    "metrics_params = {'report_interval': 20}\n",
    "\n",
    "crit_params = {'reduction': 'sum'}\n",
    "sample_params = {'set_seed': 88,\n",
    "                 'splits': (.7,.15)}\n",
    "sched_params = {'factor': .5,\n",
    "                'patience': 5,\n",
    "                'cooldown': 5}\n",
    "opt_params = {'lr': 0.01}\n",
    "\n",
    "l = Learn([ANI1x], FFNet, Selector, Optimizer=Adam, Scheduler=ReduceLROnPlateau, Criterion=L1Loss, \n",
    "          model_params=model_params, ds_params=ds_params, sample_params=sample_params,\n",
    "          opt_params=opt_params, sched_params=sched_params, crit_params=crit_params,\n",
    "          adapt=False, load_model=False, load_embed=False, save_model=False, \n",
    "          batch_size=128, epochs=50)"
   ]
  },
  {
   "cell_type": "code",
   "execution_count": null,
   "metadata": {},
   "outputs": [],
   "source": []
  }
 ],
 "metadata": {
  "kernelspec": {
   "display_name": "Python 3",
   "language": "python",
   "name": "python3"
  },
  "language_info": {
   "codemirror_mode": {
    "name": "ipython",
    "version": 3
   },
   "file_extension": ".py",
   "mimetype": "text/x-python",
   "name": "python",
   "nbconvert_exporter": "python",
   "pygments_lexer": "ipython3",
   "version": "3.7.9"
  }
 },
 "nbformat": 4,
 "nbformat_minor": 4
}
