{
 "cells": [
  {
   "cell_type": "code",
   "execution_count": 1,
   "id": "0831e844-095d-42ba-8737-07797bb242dc",
   "metadata": {},
   "outputs": [
    {
     "name": "stderr",
     "output_type": "stream",
     "text": [
      "RDKit WARNING: [08:06:45] Enabling RDKit 2019.09.3 jupyter extensions\n"
     ]
    }
   ],
   "source": [
    "import sys # required for relative imports in jupyter lab\n",
    "sys.path.insert(0, '../') \n",
    "\n",
    "from scipy.sparse import coo_matrix\n",
    "import numpy as np\n",
    "\n",
    "from dataset import QM9\n",
    "\n",
    "from torch_geometric.datasets import QM9 as TQM9\n",
    "from torch_geometric.data import Data\n",
    "\n"
   ]
  },
  {
   "cell_type": "code",
   "execution_count": 2,
   "id": "61d85e03-c457-41aa-b919-d9e17eb4e5a9",
   "metadata": {
    "tags": []
   },
   "outputs": [
    {
     "name": "stdout",
     "output_type": "stream",
     "text": [
      "creating QM9 dataset...\n",
      "molecules scanned:  1\n",
      "molecules removed for no rdkit conformer:  0\n",
      "molecules created:  1\n",
      "molecules scanned:  1001\n",
      "molecules removed for no rdkit conformer:  15\n",
      "molecules created:  986\n",
      "total molecules scanned:  1015\n",
      "total molecules removed for no rdkit conformer:  15\n",
      "total uncharacterized molecules removed:  26\n",
      "total molecules created:  974\n",
      "CDataset created...\n"
     ]
    }
   ],
   "source": [
    "ds_params = {'train_params': {'n': 1000,\n",
    "                              'db': 'rdkit',\n",
    "                              'n_conformers': 1,\n",
    "                              'features': ['n_atoms','A','B','C','mu',\n",
    "                                           'alpha','homo','lumo','gap','r2','zpve','Cv',\n",
    "                                           'mulliken','distance','coulomb','aromatic',\n",
    "                                           'degree'],\n",
    "                              'embeds': ['atom_types','chirality','hybridization'],\n",
    "                              'targets': ['U0'],\n",
    "                              'pad': None,\n",
    "                              'do_not_pad': ['U0','n_atoms','A','B','C','mu',\n",
    "                                             'alpha','homo','lumo','gap','r2','zpve','Cv'],\n",
    "                              #'filter_on': ('n_atoms','>','18'),\n",
    "                              'use_pickle': False,\n",
    "                              'flatten': True,\n",
    "                              'embed_lookup': {'0': 0, 'H': 1, 'C': 2, 'N': 3, 'O': 4, 'F': 5,\n",
    "                                               'CHI_UNSPECIFIED': 6, 'CHI_TETRAHEDRAL_CW': 7,\n",
    "                                               'CHI_TETRAHEDRAL_CCW':8, 'CHI_OTHER': 9, \n",
    "                                               'UNSPECIFIED': 10, 'S': 11, 'SP': 12, \n",
    "                                               'SP2': 13, 'SP3': 14, 'SP3D': 15, 'SP3D2': 16,\n",
    "                                               'OTHER': 17, 'misc': 18,}}}\n",
    "\n",
    "qm9 = QM9(**ds_params['train_params'])"
   ]
  },
  {
   "cell_type": "code",
   "execution_count": 3,
   "id": "7ff3a9a0-74e7-436d-b6c4-9c9dea697bac",
   "metadata": {},
   "outputs": [
    {
     "data": {
      "text/plain": [
       "dsgdb9nsd_000005"
      ]
     },
     "execution_count": 3,
     "metadata": {},
     "output_type": "execute_result"
    }
   ],
   "source": [
    "mol = qm9.ds[5]\n",
    "mol"
   ]
  },
  {
   "cell_type": "code",
   "execution_count": 8,
   "id": "94853eae-2a16-4cbe-a910-2dda4987db4f",
   "metadata": {},
   "outputs": [
    {
     "data": {
      "text/plain": [
       "(array([ 3.00000000e+00,  0.00000000e+00,  4.45938835e+01,  4.45938835e+01,\n",
       "         2.89369988e+00,  1.29899998e+01, -3.60399991e-01,  1.90999992e-02,\n",
       "         3.79599988e-01,  4.87476006e+01,  1.66010000e-02,  6.27799988e+00,\n",
       "        -4.96560000e-02, -1.88473001e-01,  2.38128006e-01,  0.00000000e+00,\n",
       "         1.16098726e+00,  1.06317782e+00,  1.16098726e+00,  0.00000000e+00,\n",
       "         2.22408032e+00,  1.06317782e+00,  2.22408032e+00,  0.00000000e+00,\n",
       "         5.33587189e+01,  2.43947468e+01,  3.07678947e+01,  1.68529167e+01,\n",
       "         3.68581123e+01,  2.63724823e+01,  2.80881977e+00,  3.48496389e+00,\n",
       "         5.00000000e-01,  0.00000000e+00,  0.00000000e+00,  0.00000000e+00,\n",
       "         2.00000000e+00,  1.00000000e+00,  1.00000000e+00]),\n",
       " [array([2, 3, 1]), array([6, 6, 6]), array([12, 12, 10])],\n",
       " array([-93.41189], dtype=float32))"
      ]
     },
     "execution_count": 8,
     "metadata": {},
     "output_type": "execute_result"
    }
   ],
   "source": [
    "qm9[5]"
   ]
  },
  {
   "cell_type": "code",
   "execution_count": 9,
   "id": "e6ae9b0a-d00a-4205-bfd8-d14aa9985bc2",
   "metadata": {},
   "outputs": [
    {
     "data": {
      "text/plain": [
       "array([[0, 1],\n",
       "       [1, 0],\n",
       "       [0, 2],\n",
       "       [2, 0]])"
      ]
     },
     "execution_count": 9,
     "metadata": {},
     "output_type": "execute_result"
    }
   ],
   "source": [
    "mol.edge_indices"
   ]
  },
  {
   "cell_type": "code",
   "execution_count": 10,
   "id": "fb3e58d9-c002-46fa-9a1c-6e10e9278acd",
   "metadata": {},
   "outputs": [
    {
     "data": {
      "text/plain": [
       "array([[4, 6, 0, 0],\n",
       "       [4, 6, 0, 0],\n",
       "       [2, 6, 0, 0],\n",
       "       [2, 6, 0, 0]])"
      ]
     },
     "execution_count": 10,
     "metadata": {},
     "output_type": "execute_result"
    }
   ],
   "source": [
    "mol.edge_attr"
   ]
  },
  {
   "cell_type": "code",
   "execution_count": 5,
   "id": "4c3b8580-8403-4c08-b86d-90439b58f1ba",
   "metadata": {
    "tags": []
   },
   "outputs": [
    {
     "data": {
      "text/plain": [
       "1"
      ]
     },
     "execution_count": 5,
     "metadata": {},
     "output_type": "execute_result"
    }
   ],
   "source": [
    "mol.rdmol.GetNumConformers()"
   ]
  },
  {
   "cell_type": "code",
   "execution_count": 6,
   "id": "ac1684d7-fb9c-49ec-a45e-236dbb3117cf",
   "metadata": {},
   "outputs": [
    {
     "name": "stdout",
     "output_type": "stream",
     "text": [
      "A\n",
      "[0.]\n",
      "B\n",
      "[44.593884]\n",
      "C\n",
      "[44.593884]\n",
      "Cv\n",
      "[6.278]\n",
      "G\n",
      "[-93.431244]\n",
      "H\n",
      "[-93.408424]\n",
      "U\n",
      "[-93.40937]\n",
      "U0\n",
      "[-93.41189]\n",
      "__abstractmethods__\n",
      "frozenset()\n",
      "__class__\n",
      "<class 'dataset.QM9Mol'>\n",
      "__delattr__\n",
      "<method-wrapper '__delattr__' of QM9Mol object at 0x7fdd69270fd0>\n",
      "__dict__\n",
      "{'in_file': './data/qm9/qm9.xyz/dsgdb9nsd_000005.xyz', 'qm9_block': ['3\\n', 'gdb 5\\t0.\\t44.593883\\t44.593883\\t2.8937\\t12.99\\t-0.3604\\t0.0191\\t0.3796\\t48.7476\\t0.016601\\t-93.411888\\t-93.40937\\t-93.408425\\t-93.431246\\t6.278\\t\\n', 'C\\t-0.0133239314\\t 1.1324657151\\t 0.0082758861\\t-0.049656\\n', 'N\\t 0.0023107217\\t-0.0191585871\\t 0.0019287305\\t-0.188473\\n', 'H\\t-0.0278026991\\t 2.1989492963\\t 0.0141537903\\t 0.238128\\n', '799.0101\\t799.0101\\t2198.4393\\t3490.3686\\n', 'C#N\\tC#N\\t\\n', 'InChI=1S/CHN/c1-2/h1H\\tInChI=1S/CHN/c1-2/h1H\\n'], 'smile': 'C#N\\tC#N\\t\\n', 'qm9_n_atoms': 3, 'A': array([0.], dtype=float32), 'B': array([44.593884], dtype=float32), 'C': array([44.593884], dtype=float32), 'mu': array([2.8937], dtype=float32), 'alpha': array([12.99], dtype=float32), 'homo': array([-0.3604], dtype=float32), 'lumo': array([0.0191], dtype=float32), 'gap': array([0.3796], dtype=float32), 'r2': array([48.7476], dtype=float32), 'zpve': array([0.016601], dtype=float32), 'U0': array([-93.41189], dtype=float32), 'U': array([-93.40937], dtype=float32), 'H': array([-93.408424], dtype=float32), 'G': array([-93.431244], dtype=float32), 'Cv': array([6.278], dtype=float32), 'atom_types': array(['C', 'N', 'H'], dtype='<U1'), 'mulliken': array([-0.049656, -0.188473,  0.238128], dtype=float32), 'qm9_xyz': array([[-1.3323931e-02,  1.1324657e+00,  8.2758861e-03],\n",
      "       [ 2.3107217e-03, -1.9158587e-02,  1.9287305e-03],\n",
      "       [-2.7802698e-02,  2.1989493e+00,  1.4153791e-02]], dtype=float32), 'rdmol': <rdkit.Chem.rdchem.Mol object at 0x7fdd6877d9a0>, 'mol_block': '\\n     RDKit          2D\\n\\n  3  2  0  0  0  0  0  0  0  0999 V2000\\n    0.0000    0.0000    0.0000 C   0  0  0  0  0  0  0  0  0  0  0  0\\n    0.0000    1.5000    0.0000 N   0  0  0  0  0  0  0  0  0  0  0  0\\n   -0.0000   -1.5000    0.0000 H   0  0  0  0  0  0  0  0  0  0  0  0\\n  1  2  3  0\\n  1  3  1  0\\nM  END\\n', 'n_atoms': array(3., dtype=float32), 'adjacency': array([[0, 3, 1],\n",
      "       [3, 0, 0],\n",
      "       [1, 0, 0]]), 'atomic_numbers': array([6., 7., 1.], dtype=float32), 'aromatic': array([0, 0, 0]), 'chirality': array(['CHI_UNSPECIFIED', 'CHI_UNSPECIFIED', 'CHI_UNSPECIFIED'],\n",
      "      dtype='<U15'), 'degree': array([2, 1, 1]), 'charge': array([0, 0, 0]), 'n_hs': array([0, 0, 0]), 'n_rads': array([0, 0, 0]), 'hybridization': array(['SP', 'SP', 'UNSPECIFIED'], dtype='<U11'), 'edge_indices': array([[0, 1],\n",
      "       [1, 0],\n",
      "       [0, 2],\n",
      "       [2, 0]]), 'edge_attr': array([[4, 6, 0, 0],\n",
      "       [4, 6, 0, 0],\n",
      "       [2, 6, 0, 0],\n",
      "       [2, 6, 0, 0]]), 'xyz': array([[-0.03260255,  0.00646687,  0.        ],\n",
      "       [ 1.12834145, -0.00354893,  0.        ],\n",
      "       [-1.0957389 , -0.00291793,  0.        ]]), 'props': {}, 'distance': array([[0.       , 1.1609873, 1.0631778],\n",
      "       [1.1609873, 0.       , 2.2240803],\n",
      "       [1.0631778, 2.2240803, 0.       ]], dtype=float32), 'coulomb': array([[53.35872  , 24.394747 , 30.767895 ],\n",
      "       [16.852917 , 36.858112 , 26.372482 ],\n",
      "       [ 2.8088198,  3.484964 ,  0.5      ]], dtype=float32)}\n",
      "__dir__\n",
      "<built-in method __dir__ of QM9Mol object at 0x7fdd69270fd0>\n",
      "__doc__\n",
      "None\n",
      "__eq__\n",
      "<method-wrapper '__eq__' of QM9Mol object at 0x7fdd69270fd0>\n",
      "__format__\n",
      "<built-in method __format__ of QM9Mol object at 0x7fdd69270fd0>\n",
      "__ge__\n",
      "<method-wrapper '__ge__' of QM9Mol object at 0x7fdd69270fd0>\n",
      "__getattribute__\n",
      "<method-wrapper '__getattribute__' of QM9Mol object at 0x7fdd69270fd0>\n",
      "__gt__\n",
      "<method-wrapper '__gt__' of QM9Mol object at 0x7fdd69270fd0>\n",
      "__hash__\n",
      "<method-wrapper '__hash__' of QM9Mol object at 0x7fdd69270fd0>\n",
      "__init__\n",
      "<bound method Molecule.__init__ of dsgdb9nsd_000005>\n",
      "__init_subclass__\n",
      "<built-in method __init_subclass__ of ABCMeta object at 0x55fd7bef0720>\n",
      "__le__\n",
      "<method-wrapper '__le__' of QM9Mol object at 0x7fdd69270fd0>\n",
      "__lt__\n",
      "<method-wrapper '__lt__' of QM9Mol object at 0x7fdd69270fd0>\n",
      "__module__\n",
      "dataset\n",
      "__ne__\n",
      "<method-wrapper '__ne__' of QM9Mol object at 0x7fdd69270fd0>\n",
      "__new__\n",
      "<built-in method __new__ of type object at 0x55fd77c56fc0>\n",
      "__reduce__\n",
      "<built-in method __reduce__ of QM9Mol object at 0x7fdd69270fd0>\n",
      "__reduce_ex__\n",
      "<built-in method __reduce_ex__ of QM9Mol object at 0x7fdd69270fd0>\n",
      "__repr__\n",
      "<bound method QM9Mol.__repr__ of dsgdb9nsd_000005>\n",
      "__setattr__\n",
      "<method-wrapper '__setattr__' of QM9Mol object at 0x7fdd69270fd0>\n",
      "__sizeof__\n",
      "<built-in method __sizeof__ of QM9Mol object at 0x7fdd69270fd0>\n",
      "__slots__\n",
      "()\n",
      "__str__\n",
      "<method-wrapper '__str__' of QM9Mol object at 0x7fdd69270fd0>\n",
      "__subclasshook__\n",
      "<built-in method __subclasshook__ of ABCMeta object at 0x55fd7bef0720>\n",
      "__weakref__\n",
      "None\n",
      "_abc_impl\n",
      "<_abc_data object at 0x7fde0b577bd0>\n",
      "adjacency\n",
      "[[0 3 1]\n",
      " [3 0 0]\n",
      " [1 0 0]]\n",
      "adjacency_from_block\n",
      "<bound method Molecule.adjacency_from_block of dsgdb9nsd_000005>\n",
      "alpha\n",
      "[12.99]\n",
      "aromatic\n",
      "[0 0 0]\n",
      "atom_types\n",
      "['C' 'N' 'H']\n",
      "atomic_n\n",
      "{'C': 6, 'H': 1, 'N': 7, 'O': 8, 'F': 9}\n",
      "atomic_numbers\n",
      "[6. 7. 1.]\n",
      "charge\n",
      "[0 0 0]\n",
      "chirality\n",
      "['CHI_UNSPECIFIED' 'CHI_UNSPECIFIED' 'CHI_UNSPECIFIED']\n",
      "coulomb\n",
      "[[53.35872   24.394747  30.767895 ]\n",
      " [16.852917  36.858112  26.372482 ]\n",
      " [ 2.8088198  3.484964   0.5      ]]\n",
      "create_coulomb\n",
      "<bound method Molecule.create_coulomb of dsgdb9nsd_000005>\n",
      "create_rdmol_data\n",
      "<bound method Molecule.create_rdmol_data of dsgdb9nsd_000005>\n",
      "degree\n",
      "[2 1 1]\n",
      "distance\n",
      "[[0.        1.1609873 1.0631778]\n",
      " [1.1609873 0.        2.2240803]\n",
      " [1.0631778 2.2240803 0.       ]]\n",
      "distance_from_xyz\n",
      "<bound method Molecule.distance_from_xyz of dsgdb9nsd_000005>\n",
      "e_map\n",
      "{'bond_type': ['misc', 'SINGLE', 'DOUBLE', 'TRIPLE', 'AROMATIC'], 'stereo': ['STEREONONE', 'STEREOZ', 'STEREOE', 'STEREOCIS', 'STEREOTRANS', 'STEREOANY'], 'is_conjugated': [False, True], 'is_in_ring': [False, True]}\n",
      "edge_attr\n",
      "[[4 6 0 0]\n",
      " [4 6 0 0]\n",
      " [2 6 0 0]\n",
      " [2 6 0 0]]\n",
      "edge_indices\n",
      "[[0 1]\n",
      " [1 0]\n",
      " [0 2]\n",
      " [2 0]]\n",
      "embed_rdmol\n",
      "<bound method Molecule.embed_rdmol of dsgdb9nsd_000005>\n",
      "gap\n",
      "[0.3796]\n",
      "homo\n",
      "[-0.3604]\n",
      "hybridization\n",
      "['SP' 'SP' 'UNSPECIFIED']\n",
      "in_file\n",
      "./data/qm9/qm9.xyz/dsgdb9nsd_000005.xyz\n",
      "load_molecule\n",
      "<bound method QM9Mol.load_molecule of dsgdb9nsd_000005>\n",
      "lookup\n",
      "{'misc': 1, 'SINGLE': 2, 'DOUBLE': 3, 'TRIPLE': 4, 'AROMATIC': 5, 'STEREONONE': 6, 'STEREOZ': 7, 'STEREOE': 8, 'STEREOCIS': 9, 'STEREOTRANS': 10, 'STEREOANY': 11}\n",
      "lumo\n",
      "[0.0191]\n",
      "mol_block\n",
      "\n",
      "     RDKit          2D\n",
      "\n",
      "  3  2  0  0  0  0  0  0  0  0999 V2000\n",
      "    0.0000    0.0000    0.0000 C   0  0  0  0  0  0  0  0  0  0  0  0\n",
      "    0.0000    1.5000    0.0000 N   0  0  0  0  0  0  0  0  0  0  0  0\n",
      "   -0.0000   -1.5000    0.0000 H   0  0  0  0  0  0  0  0  0  0  0  0\n",
      "  1  2  3  0\n",
      "  1  3  1  0\n",
      "M  END\n",
      "\n",
      "molecule_from_qm9\n",
      "<bound method QM9Mol.molecule_from_qm9 of dsgdb9nsd_000005>\n",
      "mu\n",
      "[2.8937]\n",
      "mulliken\n",
      "[-0.049656 -0.188473  0.238128]\n",
      "n_atoms\n",
      "3.0\n",
      "n_hs\n",
      "[0 0 0]\n",
      "n_rads\n",
      "[0 0 0]\n",
      "open_file\n",
      "<bound method Molecule.open_file of dsgdb9nsd_000005>\n",
      "properties\n",
      "['A', 'B', 'C', 'mu', 'alpha', 'homo', 'lumo', 'gap', 'r2', 'zpve', 'U0', 'U', 'H', 'G', 'Cv', 'smile', 'n_atoms', 'xyz', 'mulliken']\n",
      "props\n",
      "{}\n",
      "qm9_block\n",
      "['3\\n', 'gdb 5\\t0.\\t44.593883\\t44.593883\\t2.8937\\t12.99\\t-0.3604\\t0.0191\\t0.3796\\t48.7476\\t0.016601\\t-93.411888\\t-93.40937\\t-93.408425\\t-93.431246\\t6.278\\t\\n', 'C\\t-0.0133239314\\t 1.1324657151\\t 0.0082758861\\t-0.049656\\n', 'N\\t 0.0023107217\\t-0.0191585871\\t 0.0019287305\\t-0.188473\\n', 'H\\t-0.0278026991\\t 2.1989492963\\t 0.0141537903\\t 0.238128\\n', '799.0101\\t799.0101\\t2198.4393\\t3490.3686\\n', 'C#N\\tC#N\\t\\n', 'InChI=1S/CHN/c1-2/h1H\\tInChI=1S/CHN/c1-2/h1H\\n']\n",
      "qm9_n_atoms\n",
      "3\n",
      "qm9_xyz\n",
      "[[-1.3323931e-02  1.1324657e+00  8.2758861e-03]\n",
      " [ 2.3107217e-03 -1.9158587e-02  1.9287305e-03]\n",
      " [-2.7802698e-02  2.1989493e+00  1.4153791e-02]]\n",
      "r2\n",
      "[48.7476]\n",
      "rdmol\n",
      "<rdkit.Chem.rdchem.Mol object at 0x7fdd6877d9a0>\n",
      "rdmol_from_smile\n",
      "<bound method Molecule.rdmol_from_smile of dsgdb9nsd_000005>\n",
      "smile\n",
      "C#N\tC#N\t\n",
      "\n",
      "sort_permute\n",
      "<bound method Molecule.sort_permute of dsgdb9nsd_000005>\n",
      "x_map\n",
      "{'atomic_num': [0, 1, 2, 3, 4, 5, 6, 7, 8, 9, 10, 11, 12, 13, 14, 15, 16, 17, 18, 19, 20, 21, 22, 23, 24, 25, 26, 27, 28, 29, 30, 31, 32, 33, 34, 35, 36, 37, 38, 39, 40, 41, 42, 43, 44, 45, 46, 47, 48, 49, 50, 51, 52, 53, 54, 55, 56, 57, 58, 59, 60, 61, 62, 63, 64, 65, 66, 67, 68, 69, 70, 71, 72, 73, 74, 75, 76, 77, 78, 79, 80, 81, 82, 83, 84, 85, 86, 87, 88, 89, 90, 91, 92, 93, 94, 95, 96, 97, 98, 99, 100, 101, 102, 103, 104, 105, 106, 107, 108, 109, 110, 111, 112, 113, 114, 115, 116, 117, 118], 'chirality': ['CHI_UNSPECIFIED', 'CHI_TETRAHEDRAL_CW', 'CHI_TETRAHEDRAL_CCW', 'CHI_OTHER'], 'degree': [0, 1, 2, 3, 4, 5, 6, 7, 8, 9, 10], 'formal_charge': [-5, -4, -3, -2, -1, 0, 1, 2, 3, 4, 5, 6], 'num_hs': [0, 1, 2, 3, 4, 5, 6, 7, 8], 'num_radical_electrons': [0, 1, 2, 3, 4], 'hybridization': ['UNSPECIFIED', 'S', 'SP', 'SP2', 'SP3', 'SP3D', 'SP3D2', 'OTHER'], 'is_aromatic': [False, True]}\n",
      "xyz\n",
      "[[-0.03260255  0.00646687  0.        ]\n",
      " [ 1.12834145 -0.00354893  0.        ]\n",
      " [-1.0957389  -0.00291793  0.        ]]\n",
      "xyz_from_rdkit\n",
      "<bound method Molecule.xyz_from_rdkit of dsgdb9nsd_000005>\n",
      "zpve\n",
      "[0.016601]\n"
     ]
    }
   ],
   "source": [
    "for f in dir(mol):\n",
    "    print(f)\n",
    "    print(getattr(mol, f))"
   ]
  },
  {
   "cell_type": "code",
   "execution_count": 7,
   "id": "e15ce08e-b82b-4beb-9e78-b3a74ceef4cc",
   "metadata": {},
   "outputs": [
    {
     "data": {
      "image/png": "[encoded data removed]",
      "text/plain": [
       "<rdkit.Chem.rdchem.Mol at 0x7fdd6877d9a0>"
      ]
     },
     "execution_count": 7,
     "metadata": {},
     "output_type": "execute_result"
    }
   ],
   "source": [
    "mol.rdmol"
   ]
  },
  {
   "cell_type": "code",
   "execution_count": null,
   "id": "8f33a210-8e37-4c7a-9837-1dae0eba0d9f",
   "metadata": {},
   "outputs": [],
   "source": []
  },
  {
   "cell_type": "code",
   "execution_count": null,
   "id": "d61a0b4e-3756-43e6-906a-2e906f61e6d0",
   "metadata": {},
   "outputs": [],
   "source": []
  },
  {
   "cell_type": "code",
   "execution_count": null,
   "id": "d291d33a-e519-422e-b45a-4b1cec17e412",
   "metadata": {},
   "outputs": [],
   "source": []
  },
  {
   "cell_type": "code",
   "execution_count": null,
   "id": "e6ad779f-fee3-46e0-86d4-97d99472e1be",
   "metadata": {},
   "outputs": [],
   "source": []
  }
 ],
 "metadata": {
  "kernelspec": {
   "display_name": "Python 3",
   "language": "python",
   "name": "python3"
  },
  "language_info": {
   "codemirror_mode": {
    "name": "ipython",
    "version": 3
   },
   "file_extension": ".py",
   "mimetype": "text/x-python",
   "name": "python",
   "nbconvert_exporter": "python",
   "pygments_lexer": "ipython3",
   "version": "3.8.12"
  }
 },
 "nbformat": 4,
 "nbformat_minor": 5
}
