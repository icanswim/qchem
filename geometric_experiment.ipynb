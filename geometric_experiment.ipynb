{
 "cells": [
  {
   "cell_type": "code",
   "execution_count": 1,
   "id": "0831e844-095d-42ba-8737-07797bb242dc",
   "metadata": {},
   "outputs": [
    {
     "name": "stderr",
     "output_type": "stream",
     "text": [
      "RDKit WARNING: [14:21:05] Enabling RDKit 2019.09.3 jupyter extensions\n"
     ]
    }
   ],
   "source": [
    "import sys # required for relative imports in jupyter lab\n",
    "sys.path.insert(0, '../') \n",
    "\n",
    "from scipy.sparse import coo_matrix\n",
    "\n",
    "from dataset import QM9\n",
    "\n",
    "from torch_geometric.datasets import QM9 as TQM9\n",
    "from torch_geometric.data import Data\n",
    "\n"
   ]
  },
  {
   "cell_type": "code",
   "execution_count": 2,
   "id": "61d85e03-c457-41aa-b919-d9e17eb4e5a9",
   "metadata": {
    "tags": []
   },
   "outputs": [
    {
     "name": "stdout",
     "output_type": "stream",
     "text": [
      "creating QM9 dataset...\n",
      "QM9 molecules scanned:  1\n",
      "QM9 molecules created:  1\n",
      "smile unable to be embedded by rdkit:  -1 CC12CN(C1)C2\tC[C@@]12CN(C1)C2\t\n",
      "\n",
      "smile unable to be embedded by rdkit:  -1 C1CC2CCC12\tC1C[C@H]2CC[C@@H]12\t\n",
      "\n",
      "smile unable to be embedded by rdkit:  -1 C1CC2OCC12\tC1C[C@H]2OC[C@@H]12\t\n",
      "\n",
      "smile unable to be embedded by rdkit:  -1 C1OC2COC12\tC1O[C@H]2CO[C@@H]12\t\n",
      "\n",
      "smile unable to be embedded by rdkit:  -1 C1C2C3CC2C13\tC1[C@H]2[C@@H]3C[C@H]2[C@H]13\t\n",
      "\n",
      "smile unable to be embedded by rdkit:  -1 C1C2C3CN2C13\tC1[C@H]2[C@@H]3CN2[C@H]13\t\n",
      "\n",
      "smile unable to be embedded by rdkit:  -1 C1C2C3OC2C13\tC1[C@H]2[C@@H]3O[C@H]2[C@H]13\t\n",
      "\n",
      "smile unable to be embedded by rdkit:  -1 N1C2C3NC2C13\tN1[C@H]2[C@@H]3N[C@H]2[C@H]13\t\n",
      "\n",
      "smile unable to be embedded by rdkit:  -1 N1C2C3OC2C13\tN1[C@H]2[C@@H]3O[C@H]2[C@H]13\t\n",
      "\n",
      "smile unable to be embedded by rdkit:  -1 O1C2C3OC2C13\tO1[C@H]2[C@@H]3O[C@H]2[C@H]13\t\n",
      "\n",
      "smile unable to be embedded by rdkit:  -1 C1C2C3C1CN23\tC1[C@H]2[C@H]3[C@@H]1CN23\t\n",
      "\n",
      "smile unable to be embedded by rdkit:  -1 C1C2C3CC1C23\tC1[C@H]2[C@H]3C[C@@H]1[C@@H]23\t\n",
      "\n",
      "smile unable to be embedded by rdkit:  -1 C1C2C3CC1N23\tC1[C@H]2[C@H]3C[C@@H]1N23\t\n",
      "\n",
      "smile unable to be embedded by rdkit:  -1 C1C2C3OC1C23\tC1[C@H]2[C@H]3O[C@@H]1[C@@H]23\t\n",
      "\n",
      "total uncharacterized molecules removed:  25\n",
      "total failed molecules:  0\n",
      "total QM9 molecules created:  975\n",
      "CDataset created...\n"
     ]
    }
   ],
   "source": [
    "ds_params = {'train_params': {'n': 1000,\n",
    "                              'features': ['atomic_numbers','n_atoms','A','B','C','mu',\n",
    "                                           'alpha','homo','lumo','gap','r2','zpve','Cv',\n",
    "                                           'mulliken','coulomb'],\n",
    "                              'embeds': ['hybrid_types','atom_types','atomic_numbers','aromatic'],\n",
    "                              'targets': ['A','B','C','mu','alpha','homo','lumo','gap','r2','zpve',\n",
    "                                          'U0','U','H','G','Cv'],\n",
    "                              'pad': None,\n",
    "                              'do_not_pad': ['U0','n_atoms','A','B','C','mu',\n",
    "                                             'alpha','homo','lumo','gap','r2','zpve','Cv'],\n",
    "                              #'filter_on': ('n_atoms','>','18'),\n",
    "                              'use_pickle': False,\n",
    "                              'flatten': True,\n",
    "                              'embed_lookup': {'H': 0, 'C': 1, 'N': 2, 'O': 3, 'F': 4,\n",
    "                                               'sp': 0, 'sp2': 1, 'sp3':2, 'na': 3,\n",
    "                                               0: 0, 1: 1, 2: 2, 3: 3, 4: 4, 5: 5, 6: 6,\n",
    "                                               7: 7, 8: 8, 9: 9, 10: 10, '0': 0}}}\n",
    "\n",
    "qm9 = QM9(**ds_params['train_params'])"
   ]
  },
  {
   "cell_type": "code",
   "execution_count": null,
   "id": "b1fdd658-9755-4f46-a082-99b0941c89fc",
   "metadata": {},
   "outputs": [],
   "source": [
    "-1 CC12CN(C1)C2\tC[C@@]12CN(C1)C2\n"
   ]
  },
  {
   "cell_type": "code",
   "execution_count": null,
   "id": "7ff3a9a0-74e7-436d-b6c4-9c9dea697bac",
   "metadata": {},
   "outputs": [],
   "source": [
    "mol = qm9.ds[1]\n",
    "mol"
   ]
  },
  {
   "cell_type": "code",
   "execution_count": null,
   "id": "94853eae-2a16-4cbe-a910-2dda4987db4f",
   "metadata": {},
   "outputs": [],
   "source": [
    "qm9[1]"
   ]
  },
  {
   "cell_type": "code",
   "execution_count": null,
   "id": "a4483c7a-af89-4b3e-9c2c-07d032af84f6",
   "metadata": {},
   "outputs": [],
   "source": [
    "mol.smile"
   ]
  },
  {
   "cell_type": "code",
   "execution_count": null,
   "id": "afb2f381-3f02-4b8c-95aa-1ffc8caa2af9",
   "metadata": {},
   "outputs": [],
   "source": [
    "mol.xyz"
   ]
  },
  {
   "cell_type": "code",
   "execution_count": null,
   "id": "460a1c54-648a-461d-bd1f-69d5dfe55431",
   "metadata": {},
   "outputs": [],
   "source": [
    "mol.qm9_block_xyz"
   ]
  },
  {
   "cell_type": "code",
   "execution_count": null,
   "id": "1e5618ff-8482-45d3-80a3-e283ce670006",
   "metadata": {},
   "outputs": [],
   "source": [
    "mol.distance"
   ]
  },
  {
   "cell_type": "code",
   "execution_count": null,
   "id": "4c3b8580-8403-4c08-b86d-90439b58f1ba",
   "metadata": {},
   "outputs": [],
   "source": [
    "mol.rdmol"
   ]
  },
  {
   "cell_type": "code",
   "execution_count": null,
   "id": "2a5b01de-5e4e-43f4-8231-6e3448e469a4",
   "metadata": {},
   "outputs": [],
   "source": []
  },
  {
   "cell_type": "code",
   "execution_count": null,
   "id": "47489ad6-7c33-455c-80c9-7cf9a9a3ddea",
   "metadata": {},
   "outputs": [],
   "source": []
  },
  {
   "cell_type": "code",
   "execution_count": null,
   "id": "153e6c3d-730f-427d-af60-6cb1ca95f5d4",
   "metadata": {},
   "outputs": [],
   "source": [
    "coo = coo_matrix(mol.adjacency)\n",
    "print(coo)\n",
    "print(coo.row)\n",
    "print(coo.col)\n",
    "print(coo.data)"
   ]
  },
  {
   "cell_type": "code",
   "execution_count": null,
   "id": "15b34a17-c751-43ad-ace6-d6483f262aba",
   "metadata": {},
   "outputs": [],
   "source": [
    "import numpy as np\n",
    "z = [mol.atomic_n[a] for a in mol.atom_types]\n",
    "z = np.asarray(z, 'int64')\n",
    "print(z)"
   ]
  },
  {
   "cell_type": "code",
   "execution_count": null,
   "id": "e2f2afbf-b2d7-4223-b063-250747f56aa1",
   "metadata": {},
   "outputs": [],
   "source": [
    "import torch"
   ]
  },
  {
   "cell_type": "code",
   "execution_count": null,
   "id": "e4793e42-8759-4d69-8bbe-887e52f13871",
   "metadata": {},
   "outputs": [],
   "source": [
    "x = torch.unsqueeze(torch.tensor(qm9[2][0]), 0)\n",
    "z = torch.tensor(z)\n",
    "y = torch.tensor(qm9[2][2])\n",
    "xyz = torch.tensor(mol.xyz)\n",
    "edge_index = torch.tensor([coo.row, coo.col]).contiguous()\n"
   ]
  },
  {
   "cell_type": "code",
   "execution_count": null,
   "id": "d88d3a06-fd73-466e-a42b-53ff72a32b8a",
   "metadata": {},
   "outputs": [],
   "source": [
    "data = Data(x=x, z=z, y=y, pos=xyz, edge_index=edge_index)\n",
    "print(data)"
   ]
  },
  {
   "cell_type": "code",
   "execution_count": null,
   "id": "6d055835-6703-411f-accc-ea82f48d5b5d",
   "metadata": {
    "tags": []
   },
   "outputs": [],
   "source": [
    "print('x', x.shape)\n",
    "print(type(x))\n",
    "print('z', z.shape)\n",
    "print(z.dtype)\n",
    "print('y', y.shape)\n",
    "print('xyz', xyz.shape)\n",
    "print('edge_index', edge_index)"
   ]
  },
  {
   "cell_type": "code",
   "execution_count": null,
   "id": "615192d4-ed5d-4627-a9a3-904369e7a95a",
   "metadata": {},
   "outputs": [],
   "source": [
    "data"
   ]
  },
  {
   "cell_type": "code",
   "execution_count": null,
   "id": "5fa02587-32bb-437c-b097-9eaf4b22358f",
   "metadata": {},
   "outputs": [],
   "source": []
  },
  {
   "cell_type": "code",
   "execution_count": null,
   "id": "4a361927-ae47-48b1-9fe7-c6966ae53815",
   "metadata": {},
   "outputs": [],
   "source": [
    "tqm9 = TQM9(root='./data/qm9')"
   ]
  },
  {
   "cell_type": "code",
   "execution_count": null,
   "id": "f22ebd77-5ab4-43ff-94ea-361d85c23943",
   "metadata": {},
   "outputs": [],
   "source": [
    "graph = tqm9[0]"
   ]
  },
  {
   "cell_type": "code",
   "execution_count": null,
   "id": "bfa11eb0-b1a0-453c-a25c-0421ac23e778",
   "metadata": {},
   "outputs": [],
   "source": [
    "graph"
   ]
  },
  {
   "cell_type": "code",
   "execution_count": null,
   "id": "fc162bd2-69f5-4d86-8b91-62d8576bac84",
   "metadata": {},
   "outputs": [],
   "source": [
    "data.num_edges"
   ]
  },
  {
   "cell_type": "code",
   "execution_count": null,
   "id": "22517302-3caf-4b3a-8cd3-802eee75dbe5",
   "metadata": {},
   "outputs": [],
   "source": [
    "data.num_node_features"
   ]
  },
  {
   "cell_type": "code",
   "execution_count": null,
   "id": "53048190-0f9f-43b9-a5c1-5b2ca1225e16",
   "metadata": {},
   "outputs": [],
   "source": [
    "graph.num_node_features"
   ]
  },
  {
   "cell_type": "code",
   "execution_count": null,
   "id": "cc8d7468-844d-4f27-8cd2-db7ff6f01a4a",
   "metadata": {},
   "outputs": [],
   "source": [
    "data.keys"
   ]
  },
  {
   "cell_type": "code",
   "execution_count": null,
   "id": "aa778fa5-0b29-4b76-91b0-c3c44d29842f",
   "metadata": {},
   "outputs": [],
   "source": [
    "graph.keys"
   ]
  },
  {
   "cell_type": "code",
   "execution_count": null,
   "id": "511bd0c0-d779-4465-baea-1b16f2d26f47",
   "metadata": {},
   "outputs": [],
   "source": [
    "data.num_nodes"
   ]
  },
  {
   "cell_type": "code",
   "execution_count": null,
   "id": "ace1d5f3-1b78-43d8-a74b-3400880ea499",
   "metadata": {},
   "outputs": [],
   "source": [
    "graph.num_nodes"
   ]
  },
  {
   "cell_type": "code",
   "execution_count": null,
   "id": "8e71da28-f2ba-4b3e-b057-101454cba286",
   "metadata": {},
   "outputs": [],
   "source": [
    "graph.x"
   ]
  },
  {
   "cell_type": "code",
   "execution_count": null,
   "id": "214e722e-8732-4555-932c-cea4e3623e01",
   "metadata": {},
   "outputs": [],
   "source": [
    "graph.edge_attr"
   ]
  },
  {
   "cell_type": "code",
   "execution_count": null,
   "id": "97aaf7dd-2ba5-4fc8-ae73-09fa8d7339c0",
   "metadata": {},
   "outputs": [],
   "source": [
    "mol.adjacency"
   ]
  },
  {
   "cell_type": "code",
   "execution_count": null,
   "id": "21846125-086c-4273-bd0d-86c0c8307c18",
   "metadata": {},
   "outputs": [],
   "source": [
    "mol.coulomb"
   ]
  },
  {
   "cell_type": "code",
   "execution_count": null,
   "id": "573509c5-747c-4908-908f-c934e1c4ac4a",
   "metadata": {},
   "outputs": [],
   "source": [
    "mol.distance"
   ]
  },
  {
   "cell_type": "code",
   "execution_count": null,
   "id": "0ef2a663-7f5c-474d-a6d5-0a0fde731897",
   "metadata": {},
   "outputs": [],
   "source": [
    "mol.smile"
   ]
  },
  {
   "cell_type": "code",
   "execution_count": null,
   "id": "35eb997d-a555-4385-8798-fc3fabd7aae8",
   "metadata": {},
   "outputs": [],
   "source": [
    "data.y"
   ]
  },
  {
   "cell_type": "code",
   "execution_count": null,
   "id": "396dcdb2-0add-4637-bf17-73aff097b4f2",
   "metadata": {},
   "outputs": [],
   "source": [
    "graph.y"
   ]
  },
  {
   "cell_type": "code",
   "execution_count": null,
   "id": "5b2d13d3-51d2-42ca-9c9f-1612cc97a9f9",
   "metadata": {},
   "outputs": [],
   "source": [
    "data.z"
   ]
  },
  {
   "cell_type": "code",
   "execution_count": null,
   "id": "3e8b5f47-81be-4da7-a85f-f9c5d0a702fc",
   "metadata": {},
   "outputs": [],
   "source": [
    "graph.z"
   ]
  },
  {
   "cell_type": "code",
   "execution_count": null,
   "id": "fe70b62e-7cbd-445a-8db7-ebc03501434c",
   "metadata": {},
   "outputs": [],
   "source": [
    "data.pos"
   ]
  },
  {
   "cell_type": "code",
   "execution_count": null,
   "id": "7120c31f-b567-4e96-a762-5f1b3c410280",
   "metadata": {},
   "outputs": [],
   "source": [
    "graph.pos"
   ]
  },
  {
   "cell_type": "code",
   "execution_count": null,
   "id": "c5d113da-4445-40fe-bce0-717d061c436f",
   "metadata": {},
   "outputs": [],
   "source": [
    "graph.edge_attr"
   ]
  },
  {
   "cell_type": "code",
   "execution_count": null,
   "id": "a25a818f-4aa3-4294-8a52-48a11d52ee57",
   "metadata": {},
   "outputs": [],
   "source": [
    "graph.edge_index"
   ]
  },
  {
   "cell_type": "code",
   "execution_count": null,
   "id": "ad0dcb7a-b7ac-4928-83ec-e10e0322a2e7",
   "metadata": {},
   "outputs": [],
   "source": [
    "data.edge_index"
   ]
  },
  {
   "cell_type": "code",
   "execution_count": null,
   "id": "edebe1a5-d674-4d79-b830-267288905e6d",
   "metadata": {},
   "outputs": [],
   "source": []
  },
  {
   "cell_type": "code",
   "execution_count": null,
   "id": "e6ad779f-fee3-46e0-86d4-97d99472e1be",
   "metadata": {},
   "outputs": [],
   "source": []
  }
 ],
 "metadata": {
  "kernelspec": {
   "display_name": "Python 3",
   "language": "python",
   "name": "python3"
  },
  "language_info": {
   "codemirror_mode": {
    "name": "ipython",
    "version": 3
   },
   "file_extension": ".py",
   "mimetype": "text/x-python",
   "name": "python",
   "nbconvert_exporter": "python",
   "pygments_lexer": "ipython3",
   "version": "3.8.12"
  }
 },
 "nbformat": 4,
 "nbformat_minor": 5
}
