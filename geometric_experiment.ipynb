{
 "cells": [
  {
   "cell_type": "code",
   "execution_count": 1,
   "id": "0831e844-095d-42ba-8737-07797bb242dc",
   "metadata": {},
   "outputs": [
    {
     "name": "stderr",
     "output_type": "stream",
     "text": [
      "RDKit WARNING: [22:03:05] Enabling RDKit 2019.09.3 jupyter extensions\n"
     ]
    }
   ],
   "source": [
    "import sys # required for relative imports in jupyter lab\n",
    "sys.path.insert(0, '../') \n",
    "\n",
    "from scipy.sparse import coo_matrix\n",
    "import numpy as np\n",
    "\n",
    "from dataset import QM9\n",
    "\n",
    "from torch_geometric.datasets import QM9 as TQM9\n",
    "from torch_geometric.data import Data\n",
    "\n"
   ]
  },
  {
   "cell_type": "code",
   "execution_count": 2,
   "id": "61d85e03-c457-41aa-b919-d9e17eb4e5a9",
   "metadata": {
    "tags": []
   },
   "outputs": [
    {
     "name": "stdout",
     "output_type": "stream",
     "text": [
      "creating QM9 dataset...\n",
      "molecules scanned:  1\n",
      "molecules removed for no rdkit conformer:  0\n",
      "molecules created:  1\n",
      "molecules scanned:  1001\n",
      "molecules removed for no rdkit conformer:  15\n",
      "molecules created:  986\n",
      "total molecules scanned:  1015\n",
      "total molecules removed for no rdkit conformer:  15\n",
      "total uncharacterized molecules removed:  26\n",
      "total molecules created:  974\n",
      "CDataset created...\n"
     ]
    }
   ],
   "source": [
    "ds_params = {'train_params': {'n': 1000,\n",
    "                              'db': 'rdkit',\n",
    "                              'n_conformers': 1,\n",
    "                              'features': ['n_atoms','A','B','C','mu',\n",
    "                                           'alpha','homo','lumo','gap','r2','zpve','Cv',\n",
    "                                           'mulliken','distance','coulomb','aromatic',\n",
    "                                           'degree'],\n",
    "                              'embeds': ['atom_types','chirality','hybridization'],\n",
    "                              'targets': ['U0'],\n",
    "                              'as_dict': True,\n",
    "                              'pad': None,\n",
    "                              'do_not_pad': ['U0','n_atoms','A','B','C','mu',\n",
    "                                             'alpha','homo','lumo','gap','r2','zpve','Cv'],\n",
    "                              #'filter_on': ('n_atoms','>','18'),\n",
    "                              'use_pickle': False,\n",
    "                              'flatten': True,\n",
    "                              'embed_lookup': {'0': 0, 'H': 1, 'C': 2, 'N': 3, 'O': 4, 'F': 5,\n",
    "                                               'CHI_UNSPECIFIED': 6, 'CHI_TETRAHEDRAL_CW': 7,\n",
    "                                               'CHI_TETRAHEDRAL_CCW':8, 'CHI_OTHER': 9, \n",
    "                                               'UNSPECIFIED': 10, 'S': 11, 'SP': 12, \n",
    "                                               'SP2': 13, 'SP3': 14, 'SP3D': 15, 'SP3D2': 16,\n",
    "                                               'OTHER': 17, 'misc': 18,}}}\n",
    "\n",
    "qm9 = QM9(**ds_params['train_params'])"
   ]
  },
  {
   "cell_type": "code",
   "execution_count": 3,
   "id": "7ff3a9a0-74e7-436d-b6c4-9c9dea697bac",
   "metadata": {},
   "outputs": [
    {
     "data": {
      "text/plain": [
       "dsgdb9nsd_000005"
      ]
     },
     "execution_count": 3,
     "metadata": {},
     "output_type": "execute_result"
    }
   ],
   "source": [
    "mol = qm9.ds[5]\n",
    "mol"
   ]
  },
  {
   "cell_type": "code",
   "execution_count": 4,
   "id": "94853eae-2a16-4cbe-a910-2dda4987db4f",
   "metadata": {},
   "outputs": [
    {
     "data": {
      "text/plain": [
       "{'X': array([ 3.00000000e+00,  0.00000000e+00,  4.45938835e+01,  4.45938835e+01,\n",
       "         2.89369988e+00,  1.29899998e+01, -3.60399991e-01,  1.90999992e-02,\n",
       "         3.79599988e-01,  4.87476006e+01,  1.66010000e-02,  6.27799988e+00,\n",
       "        -4.96560000e-02, -1.88473001e-01,  2.38128006e-01,  0.00000000e+00,\n",
       "         1.16098726e+00,  1.06317782e+00,  1.16098726e+00,  0.00000000e+00,\n",
       "         2.22408032e+00,  1.06317782e+00,  2.22408032e+00,  0.00000000e+00,\n",
       "         5.33587189e+01,  2.43947468e+01,  3.07678947e+01,  1.68529167e+01,\n",
       "         3.68581123e+01,  2.63724823e+01,  2.80881977e+00,  3.48496389e+00,\n",
       "         5.00000000e-01,  0.00000000e+00,  0.00000000e+00,  0.00000000e+00,\n",
       "         2.00000000e+00,  1.00000000e+00,  1.00000000e+00]),\n",
       " 'embed_idx': [array([2, 3, 1]), array([6, 6, 6]), array([12, 12, 10])],\n",
       " 'y': array([-93.41189], dtype=float32)}"
      ]
     },
     "execution_count": 4,
     "metadata": {},
     "output_type": "execute_result"
    }
   ],
   "source": [
    "qm9[5]"
   ]
  },
  {
   "cell_type": "code",
   "execution_count": 5,
   "id": "e6ae9b0a-d00a-4205-bfd8-d14aa9985bc2",
   "metadata": {},
   "outputs": [
    {
     "data": {
      "text/plain": [
       "array([[0, 1],\n",
       "       [1, 0],\n",
       "       [0, 2],\n",
       "       [2, 0]])"
      ]
     },
     "execution_count": 5,
     "metadata": {},
     "output_type": "execute_result"
    }
   ],
   "source": [
    "mol.edge_indices"
   ]
  },
  {
   "cell_type": "code",
   "execution_count": null,
   "id": "fb3e58d9-c002-46fa-9a1c-6e10e9278acd",
   "metadata": {},
   "outputs": [],
   "source": [
    "mol.edge_attr"
   ]
  },
  {
   "cell_type": "code",
   "execution_count": null,
   "id": "4c3b8580-8403-4c08-b86d-90439b58f1ba",
   "metadata": {
    "tags": []
   },
   "outputs": [],
   "source": [
    "mol.rdmol.GetNumConformers()"
   ]
  },
  {
   "cell_type": "code",
   "execution_count": null,
   "id": "ac1684d7-fb9c-49ec-a45e-236dbb3117cf",
   "metadata": {},
   "outputs": [],
   "source": [
    "for f in dir(mol):\n",
    "    print(f)\n",
    "    print(getattr(mol, f))"
   ]
  },
  {
   "cell_type": "code",
   "execution_count": null,
   "id": "e15ce08e-b82b-4beb-9e78-b3a74ceef4cc",
   "metadata": {},
   "outputs": [],
   "source": [
    "mol.rdmol"
   ]
  },
  {
   "cell_type": "code",
   "execution_count": null,
   "id": "e6ad779f-fee3-46e0-86d4-97d99472e1be",
   "metadata": {},
   "outputs": [],
   "source": []
  }
 ],
 "metadata": {
  "kernelspec": {
   "display_name": "Python 3",
   "language": "python",
   "name": "python3"
  },
  "language_info": {
   "codemirror_mode": {
    "name": "ipython",
    "version": 3
   },
   "file_extension": ".py",
   "mimetype": "text/x-python",
   "name": "python",
   "nbconvert_exporter": "python",
   "pygments_lexer": "ipython3",
   "version": "3.8.12"
  }
 },
 "nbformat": 4,
 "nbformat_minor": 5
}
