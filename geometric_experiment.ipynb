{
 "cells": [
  {
   "cell_type": "code",
   "execution_count": 1,
   "id": "0831e844-095d-42ba-8737-07797bb242dc",
   "metadata": {},
   "outputs": [
    {
     "name": "stderr",
     "output_type": "stream",
     "text": [
      "RDKit WARNING: [10:46:31] Enabling RDKit 2019.09.3 jupyter extensions\n"
     ]
    }
   ],
   "source": [
    "import sys # required for relative imports in jupyter lab\n",
    "sys.path.insert(0, '../') \n",
    "\n",
    "from dataset import QM7, QM7b, QM7X, QM9, ANI1x\n",
    "\n"
   ]
  },
  {
   "cell_type": "code",
   "execution_count": 2,
   "id": "61d85e03-c457-41aa-b919-d9e17eb4e5a9",
   "metadata": {},
   "outputs": [
    {
     "name": "stdout",
     "output_type": "stream",
     "text": [
      "creating QM9 dataset...\n",
      "QM9 molecules scanned:  1\n",
      "QM9 molecules created:  1\n",
      "total uncharacterized molecules removed:  273\n",
      "total QM9 molecules created:  9727\n",
      "pickling a copy of the QM9 datadic...\n",
      "CDataset created...\n"
     ]
    }
   ],
   "source": [
    "ds_params = {'train_params': {'n': 10000, \n",
    "                              'features': ['coulomb'],\n",
    "                              'embeds': [], \n",
    "                              'targets': ['U0'],\n",
    "                              'pad': 29, \n",
    "                              'filter_on': None,\n",
    "                              'use_pickle': 'qm9.p',\n",
    "                              'flatten': True}}\n",
    "\n",
    "qm9 = QM9(**ds_params['train_params'])"
   ]
  },
  {
   "cell_type": "code",
   "execution_count": 3,
   "id": "6a666de9-0521-4785-bcdd-dbbd0eb58659",
   "metadata": {},
   "outputs": [
    {
     "name": "stdout",
     "output_type": "stream",
     "text": [
      "./data/qm9/qm9.xyz/dsgdb9nsd_000100\n"
     ]
    }
   ],
   "source": [
    "mol = qm9.ds[100]\n",
    "print(mol)"
   ]
  },
  {
   "cell_type": "code",
   "execution_count": 15,
   "id": "85e153a4-652a-47af-a7a0-faac9973efb2",
   "metadata": {},
   "outputs": [
    {
     "data": {
      "text/plain": [
       "(array([36.858112 , 15.224954 , 19.002048 , 25.110052 , 25.109932 ,\n",
       "         8.302856 , 10.00366  , 10.002759 , 12.390027 ,  8.779216 ,\n",
       "        13.833646 ,  8.303197 , 12.389926 , 13.229769 , 13.229085 ,\n",
       "         0.       ,  0.       ,  0.       ,  0.       ,  0.       ,\n",
       "         0.       ,  0.       ,  0.       ,  0.       ,  0.       ,\n",
       "         0.       ,  0.       ,  0.       ,  0.       , 15.224974 ,\n",
       "        36.858112 , 19.002048 , 25.110052 , 25.109932 ,  8.302856 ,\n",
       "        10.00366  , 10.002759 , 12.390027 ,  8.779216 , 13.833646 ,\n",
       "         8.303197 , 12.389926 , 13.229769 , 13.229085 ,  0.       ,\n",
       "         0.       ,  0.       ,  0.       ,  0.       ,  0.       ,\n",
       "         0.       ,  0.       ,  0.       ,  0.       ,  0.       ,\n",
       "         0.       ,  0.       ,  0.       , 15.224974 , 15.224954 ,\n",
       "        36.858112 , 25.110052 , 25.109932 ,  8.302856 , 10.00366  ,\n",
       "        10.002759 , 12.390027 ,  8.779216 , 13.833646 ,  8.303197 ,\n",
       "        12.389926 , 13.229769 , 13.229085 ,  0.       ,  0.       ,\n",
       "         0.       ,  0.       ,  0.       ,  0.       ,  0.       ,\n",
       "         0.       ,  0.       ,  0.       ,  0.       ,  0.       ,\n",
       "         0.       ,  0.       , 15.224974 , 15.224954 , 19.002048 ,\n",
       "        36.858112 , 25.109932 ,  8.302856 , 10.00366  , 10.002759 ,\n",
       "        12.390027 ,  8.779216 , 13.833646 ,  8.303197 , 12.389926 ,\n",
       "        13.229769 , 13.229085 ,  0.       ,  0.       ,  0.       ,\n",
       "         0.       ,  0.       ,  0.       ,  0.       ,  0.       ,\n",
       "         0.       ,  0.       ,  0.       ,  0.       ,  0.       ,\n",
       "         0.       , 15.224974 , 15.224954 , 19.002048 , 25.110052 ,\n",
       "        36.858112 ,  8.302856 , 10.00366  , 10.002759 , 12.390027 ,\n",
       "         8.779216 , 13.833646 ,  8.303197 , 12.389926 , 13.229769 ,\n",
       "        13.229085 ,  0.       ,  0.       ,  0.       ,  0.       ,\n",
       "         0.       ,  0.       ,  0.       ,  0.       ,  0.       ,\n",
       "         0.       ,  0.       ,  0.       ,  0.       ,  0.       ,\n",
       "         2.5374956,  2.5374923,  3.1670077,  4.185009 ,  4.184989 ,\n",
       "         0.5      ,  1.667277 ,  1.6671267,  2.0650043,  1.4632026,\n",
       "         2.305608 ,  1.3838663,  2.0649877,  2.2049615,  2.2048473,\n",
       "         0.       ,  0.       ,  0.       ,  0.       ,  0.       ,\n",
       "         0.       ,  0.       ,  0.       ,  0.       ,  0.       ,\n",
       "         0.       ,  0.       ,  0.       ,  0.       ,  2.5374956,\n",
       "         2.5374923,  3.1670077,  4.185009 ,  4.184989 ,  1.3838096,\n",
       "         0.5      ,  1.6671267,  2.0650043,  1.4632026,  2.305608 ,\n",
       "         1.3838663,  2.0649877,  2.2049615,  2.2048473,  0.       ,\n",
       "         0.       ,  0.       ,  0.       ,  0.       ,  0.       ,\n",
       "         0.       ,  0.       ,  0.       ,  0.       ,  0.       ,\n",
       "         0.       ,  0.       ,  0.       ,  2.5374956,  2.5374923,\n",
       "         3.1670077,  4.185009 ,  4.184989 ,  1.3838096,  1.667277 ,\n",
       "         0.5      ,  2.0650043,  1.4632026,  2.305608 ,  1.3838663,\n",
       "         2.0649877,  2.2049615,  2.2048473,  0.       ,  0.       ,\n",
       "         0.       ,  0.       ,  0.       ,  0.       ,  0.       ,\n",
       "         0.       ,  0.       ,  0.       ,  0.       ,  0.       ,\n",
       "         0.       ,  0.       ,  2.5374956,  2.5374923,  3.1670077,\n",
       "         4.185009 ,  4.184989 ,  1.3838096,  1.667277 ,  1.6671267,\n",
       "         0.5      ,  1.4632026,  2.305608 ,  1.3838663,  2.0649877,\n",
       "         2.2049615,  2.2048473,  0.       ,  0.       ,  0.       ,\n",
       "         0.       ,  0.       ,  0.       ,  0.       ,  0.       ,\n",
       "         0.       ,  0.       ,  0.       ,  0.       ,  0.       ,\n",
       "         0.       ,  2.5374956,  2.5374923,  3.1670077,  4.185009 ,\n",
       "         4.184989 ,  1.3838096,  1.667277 ,  1.6671267,  2.0650043,\n",
       "         0.5      ,  2.305608 ,  1.3838663,  2.0649877,  2.2049615,\n",
       "         2.2048473,  0.       ,  0.       ,  0.       ,  0.       ,\n",
       "         0.       ,  0.       ,  0.       ,  0.       ,  0.       ,\n",
       "         0.       ,  0.       ,  0.       ,  0.       ,  0.       ,\n",
       "         2.5374956,  2.5374923,  3.1670077,  4.185009 ,  4.184989 ,\n",
       "         1.3838096,  1.667277 ,  1.6671267,  2.0650043,  1.4632026,\n",
       "         0.5      ,  1.3838663,  2.0649877,  2.2049615,  2.2048473,\n",
       "         0.       ,  0.       ,  0.       ,  0.       ,  0.       ,\n",
       "         0.       ,  0.       ,  0.       ,  0.       ,  0.       ,\n",
       "         0.       ,  0.       ,  0.       ,  0.       ,  2.5374956,\n",
       "         2.5374923,  3.1670077,  4.185009 ,  4.184989 ,  1.3838096,\n",
       "         1.667277 ,  1.6671267,  2.0650043,  1.4632026,  2.305608 ,\n",
       "         0.5      ,  2.0649877,  2.2049615,  2.2048473,  0.       ,\n",
       "         0.       ,  0.       ,  0.       ,  0.       ,  0.       ,\n",
       "         0.       ,  0.       ,  0.       ,  0.       ,  0.       ,\n",
       "         0.       ,  0.       ,  0.       ,  2.5374956,  2.5374923,\n",
       "         3.1670077,  4.185009 ,  4.184989 ,  1.3838096,  1.667277 ,\n",
       "         1.6671267,  2.0650043,  1.4632026,  2.305608 ,  1.3838663,\n",
       "         0.5      ,  2.2049615,  2.2048473,  0.       ,  0.       ,\n",
       "         0.       ,  0.       ,  0.       ,  0.       ,  0.       ,\n",
       "         0.       ,  0.       ,  0.       ,  0.       ,  0.       ,\n",
       "         0.       ,  0.       ,  2.5374956,  2.5374923,  3.1670077,\n",
       "         4.185009 ,  4.184989 ,  1.3838096,  1.667277 ,  1.6671267,\n",
       "         2.0650043,  1.4632026,  2.305608 ,  1.3838663,  2.0649877,\n",
       "         0.5      ,  2.2048473,  0.       ,  0.       ,  0.       ,\n",
       "         0.       ,  0.       ,  0.       ,  0.       ,  0.       ,\n",
       "         0.       ,  0.       ,  0.       ,  0.       ,  0.       ,\n",
       "         0.       ,  2.5374956,  2.5374923,  3.1670077,  4.185009 ,\n",
       "         4.184989 ,  1.3838096,  1.667277 ,  1.6671267,  2.0650043,\n",
       "         1.4632026,  2.305608 ,  1.3838663,  2.0649877,  2.2049615,\n",
       "         0.5      ,  0.       ,  0.       ,  0.       ,  0.       ,\n",
       "         0.       ,  0.       ,  0.       ,  0.       ,  0.       ,\n",
       "         0.       ,  0.       ,  0.       ,  0.       ,  0.       ,\n",
       "         0.       ,  0.       ,  0.       ,  0.       ,  0.       ,\n",
       "         0.       ,  0.       ,  0.       ,  0.       ,  0.       ,\n",
       "         0.       ,  0.       ,  0.       ,  0.       ,  0.       ,\n",
       "         0.       ,  0.       ,  0.       ,  0.       ,  0.       ,\n",
       "         0.       ,  0.       ,  0.       ,  0.       ,  0.       ,\n",
       "         0.       ,  0.       ,  0.       ,  0.       ,  0.       ,\n",
       "         0.       ,  0.       ,  0.       ,  0.       ,  0.       ,\n",
       "         0.       ,  0.       ,  0.       ,  0.       ,  0.       ,\n",
       "         0.       ,  0.       ,  0.       ,  0.       ,  0.       ,\n",
       "         0.       ,  0.       ,  0.       ,  0.       ,  0.       ,\n",
       "         0.       ,  0.       ,  0.       ,  0.       ,  0.       ,\n",
       "         0.       ,  0.       ,  0.       ,  0.       ,  0.       ,\n",
       "         0.       ,  0.       ,  0.       ,  0.       ,  0.       ,\n",
       "         0.       ,  0.       ,  0.       ,  0.       ,  0.       ,\n",
       "         0.       ,  0.       ,  0.       ,  0.       ,  0.       ,\n",
       "         0.       ,  0.       ,  0.       ,  0.       ,  0.       ,\n",
       "         0.       ,  0.       ,  0.       ,  0.       ,  0.       ,\n",
       "         0.       ,  0.       ,  0.       ,  0.       ,  0.       ,\n",
       "         0.       ,  0.       ,  0.       ,  0.       ,  0.       ,\n",
       "         0.       ,  0.       ,  0.       ,  0.       ,  0.       ,\n",
       "         0.       ,  0.       ,  0.       ,  0.       ,  0.       ,\n",
       "         0.       ,  0.       ,  0.       ,  0.       ,  0.       ,\n",
       "         0.       ,  0.       ,  0.       ,  0.       ,  0.       ,\n",
       "         0.       ,  0.       ,  0.       ,  0.       ,  0.       ,\n",
       "         0.       ,  0.       ,  0.       ,  0.       ,  0.       ,\n",
       "         0.       ,  0.       ,  0.       ,  0.       ,  0.       ,\n",
       "         0.       ,  0.       ,  0.       ,  0.       ,  0.       ,\n",
       "         0.       ,  0.       ,  0.       ,  0.       ,  0.       ,\n",
       "         0.       ,  0.       ,  0.       ,  0.       ,  0.       ,\n",
       "         0.       ,  0.       ,  0.       ,  0.       ,  0.       ,\n",
       "         0.       ,  0.       ,  0.       ,  0.       ,  0.       ,\n",
       "         0.       ,  0.       ,  0.       ,  0.       ,  0.       ,\n",
       "         0.       ,  0.       ,  0.       ,  0.       ,  0.       ,\n",
       "         0.       ,  0.       ,  0.       ,  0.       ,  0.       ,\n",
       "         0.       ,  0.       ,  0.       ,  0.       ,  0.       ,\n",
       "         0.       ,  0.       ,  0.       ,  0.       ,  0.       ,\n",
       "         0.       ,  0.       ,  0.       ,  0.       ,  0.       ,\n",
       "         0.       ,  0.       ,  0.       ,  0.       ,  0.       ,\n",
       "         0.       ,  0.       ,  0.       ,  0.       ,  0.       ,\n",
       "         0.       ,  0.       ,  0.       ,  0.       ,  0.       ,\n",
       "         0.       ,  0.       ,  0.       ,  0.       ,  0.       ,\n",
       "         0.       ,  0.       ,  0.       ,  0.       ,  0.       ,\n",
       "         0.       ,  0.       ,  0.       ,  0.       ,  0.       ,\n",
       "         0.       ,  0.       ,  0.       ,  0.       ,  0.       ,\n",
       "         0.       ,  0.       ,  0.       ,  0.       ,  0.       ,\n",
       "         0.       ,  0.       ,  0.       ,  0.       ,  0.       ,\n",
       "         0.       ,  0.       ,  0.       ,  0.       ,  0.       ,\n",
       "         0.       ,  0.       ,  0.       ,  0.       ,  0.       ,\n",
       "         0.       ,  0.       ,  0.       ,  0.       ,  0.       ,\n",
       "         0.       ,  0.       ,  0.       ,  0.       ,  0.       ,\n",
       "         0.       ,  0.       ,  0.       ,  0.       ,  0.       ,\n",
       "         0.       ,  0.       ,  0.       ,  0.       ,  0.       ,\n",
       "         0.       ,  0.       ,  0.       ,  0.       ,  0.       ,\n",
       "         0.       ,  0.       ,  0.       ,  0.       ,  0.       ,\n",
       "         0.       ,  0.       ,  0.       ,  0.       ,  0.       ,\n",
       "         0.       ,  0.       ,  0.       ,  0.       ,  0.       ,\n",
       "         0.       ,  0.       ,  0.       ,  0.       ,  0.       ,\n",
       "         0.       ,  0.       ,  0.       ,  0.       ,  0.       ,\n",
       "         0.       ,  0.       ,  0.       ,  0.       ,  0.       ,\n",
       "         0.       ,  0.       ,  0.       ,  0.       ,  0.       ,\n",
       "         0.       ,  0.       ,  0.       ,  0.       ,  0.       ,\n",
       "         0.       ,  0.       ,  0.       ,  0.       ,  0.       ,\n",
       "         0.       ,  0.       ,  0.       ,  0.       ,  0.       ,\n",
       "         0.       ,  0.       ,  0.       ,  0.       ,  0.       ,\n",
       "         0.       ,  0.       ,  0.       ,  0.       ,  0.       ,\n",
       "         0.       ,  0.       ,  0.       ,  0.       ,  0.       ,\n",
       "         0.       ,  0.       ,  0.       ,  0.       ,  0.       ,\n",
       "         0.       ,  0.       ,  0.       ,  0.       ,  0.       ,\n",
       "         0.       ,  0.       ,  0.       ,  0.       ,  0.       ,\n",
       "         0.       ,  0.       ,  0.       ,  0.       ,  0.       ,\n",
       "         0.       ,  0.       ,  0.       ,  0.       ,  0.       ,\n",
       "         0.       ,  0.       ,  0.       ,  0.       ,  0.       ,\n",
       "         0.       ,  0.       ,  0.       ,  0.       ,  0.       ,\n",
       "         0.       ,  0.       ,  0.       ,  0.       ,  0.       ,\n",
       "         0.       ,  0.       ,  0.       ,  0.       ,  0.       ,\n",
       "         0.       ,  0.       ,  0.       ,  0.       ,  0.       ,\n",
       "         0.       ,  0.       ,  0.       ,  0.       ,  0.       ,\n",
       "         0.       ,  0.       ,  0.       ,  0.       ,  0.       ,\n",
       "         0.       ,  0.       ,  0.       ,  0.       ,  0.       ,\n",
       "         0.       ,  0.       ,  0.       ,  0.       ,  0.       ,\n",
       "         0.       ,  0.       ,  0.       ,  0.       ,  0.       ,\n",
       "         0.       ], dtype=float32),\n",
       " [],\n",
       " array([-196.40642], dtype=float32))"
      ]
     },
     "execution_count": 15,
     "metadata": {},
     "output_type": "execute_result"
    }
   ],
   "source": [
    "qm9[100]"
   ]
  },
  {
   "cell_type": "code",
   "execution_count": 4,
   "id": "c9f0426b-e8a3-468d-9a53-b726416f0178",
   "metadata": {},
   "outputs": [
    {
     "data": {
      "image/png": "[encoded data removed]",
      "text/plain": [
       "<rdkit.Chem.rdchem.Mol at 0x7fedf4622fa0>"
      ]
     },
     "execution_count": 4,
     "metadata": {},
     "output_type": "execute_result"
    }
   ],
   "source": [
    "mol.rdmol"
   ]
  },
  {
   "cell_type": "code",
   "execution_count": 22,
   "id": "d85d714a-d53b-4cb7-91df-fba7c338015c",
   "metadata": {},
   "outputs": [
    {
     "name": "stdout",
     "output_type": "stream",
     "text": [
      "15\n"
     ]
    }
   ],
   "source": [
    "print(mol.rdmol.GetNumAtoms())"
   ]
  },
  {
   "cell_type": "code",
   "execution_count": 23,
   "id": "1fdcc2f6-3aa0-482b-9ee0-49b20aadbc7a",
   "metadata": {},
   "outputs": [
    {
     "name": "stdout",
     "output_type": "stream",
     "text": [
      "CC1CC1C\tC[C@H]1C[C@H]1C\t\n",
      "\n"
     ]
    }
   ],
   "source": [
    "print(mol.smile)"
   ]
  },
  {
   "cell_type": "code",
   "execution_count": 11,
   "id": "80051947-0091-4416-aaeb-6f22aef9bba1",
   "metadata": {},
   "outputs": [
    {
     "name": "stdout",
     "output_type": "stream",
     "text": [
      "\n",
      "     RDKit          2D\n",
      "\n",
      " 15 15  0  0  0  0  0  0  0  0999 V2000\n",
      "    1.8302    1.1491    0.0000 C   0  0  0  0  0  0  0  0  0  0  0  0\n",
      "    0.8660    0.0000    0.0000 C   0  0  0  0  0  0  0  0  0  0  0  0\n",
      "   -0.4330    0.7500    0.0000 C   0  0  0  0  0  0  0  0  0  0  0  0\n",
      "   -0.4330   -0.7500    0.0000 C   0  0  0  0  0  0  0  0  0  0  0  0\n",
      "    0.0800   -2.1595    0.0000 C   0  0  0  0  0  0  0  0  0  0  0  0\n",
      "    2.7944    2.2981    0.0000 H   0  0  0  0  0  0  0  0  0  0  0  0\n",
      "    0.9095    2.1364    0.0000 H   0  0  0  0  0  0  0  0  0  0  0  0\n",
      "    2.9793    0.1849    0.0000 H   0  0  0  0  0  0  0  0  0  0  0  0\n",
      "    1.8534   -0.9207    0.0000 H   0  0  0  0  0  0  0  0  0  0  0  0\n",
      "   -1.9102    1.0105    0.0000 H   0  0  0  0  0  0  0  0  0  0  0  0\n",
      "   -0.1294    2.0654    0.0000 H   0  0  0  0  0  0  0  0  0  0  0  0\n",
      "   -1.9102   -1.0105    0.0000 H   0  0  0  0  0  0  0  0  0  0  0  0\n",
      "    0.5930   -3.5691    0.0000 H   0  0  0  0  0  0  0  0  0  0  0  0\n",
      "   -1.3295   -2.6726    0.0000 H   0  0  0  0  0  0  0  0  0  0  0  0\n",
      "    1.3954   -1.8559    0.0000 H   0  0  0  0  0  0  0  0  0  0  0  0\n",
      "  1  2  1  0\n",
      "  2  3  1  0\n",
      "  3  4  1  0\n",
      "  4  5  1  0\n",
      "  4  2  1  0\n",
      "  1  6  1  0\n",
      "  1  7  1  0\n",
      "  1  8  1  0\n",
      "  2  9  1  0\n",
      "  3 10  1  0\n",
      "  3 11  1  0\n",
      "  4 12  1  0\n",
      "  5 13  1  0\n",
      "  5 14  1  0\n",
      "  5 15  1  0\n",
      "M  END\n",
      "\n"
     ]
    }
   ],
   "source": [
    "print(mol.mol_block)"
   ]
  },
  {
   "cell_type": "code",
   "execution_count": 6,
   "id": "7d2c9c00-55cb-4937-aa07-c689cccfbd14",
   "metadata": {},
   "outputs": [
    {
     "data": {
      "text/plain": [
       "array([[0, 1, 0, 0, 0, 1, 1, 1, 0, 0, 0, 0, 0, 0, 0],\n",
       "       [1, 0, 1, 1, 0, 0, 0, 0, 1, 0, 0, 0, 0, 0, 0],\n",
       "       [0, 1, 0, 1, 0, 0, 0, 0, 0, 0, 0, 0, 0, 0, 0],\n",
       "       [0, 1, 1, 0, 1, 0, 0, 0, 0, 0, 0, 0, 0, 0, 0],\n",
       "       [0, 0, 0, 1, 0, 0, 0, 0, 0, 0, 0, 0, 0, 0, 0],\n",
       "       [1, 0, 0, 0, 0, 0, 0, 0, 0, 0, 0, 0, 0, 0, 0],\n",
       "       [1, 0, 0, 0, 0, 0, 0, 0, 0, 0, 0, 0, 0, 0, 0],\n",
       "       [1, 0, 0, 0, 0, 0, 0, 0, 0, 0, 0, 0, 0, 0, 0],\n",
       "       [0, 1, 0, 0, 0, 0, 0, 0, 0, 0, 0, 0, 0, 0, 0],\n",
       "       [0, 0, 0, 0, 0, 0, 0, 0, 0, 0, 0, 0, 0, 0, 0],\n",
       "       [0, 0, 0, 0, 0, 0, 0, 0, 0, 0, 0, 0, 0, 0, 0],\n",
       "       [0, 0, 0, 0, 0, 0, 0, 0, 0, 0, 0, 0, 0, 0, 0],\n",
       "       [0, 0, 0, 0, 0, 0, 0, 0, 0, 0, 0, 0, 0, 0, 0],\n",
       "       [0, 0, 0, 0, 0, 0, 0, 0, 0, 0, 0, 0, 0, 0, 0],\n",
       "       [0, 0, 0, 0, 0, 0, 0, 0, 0, 0, 0, 0, 0, 0, 0]])"
      ]
     },
     "execution_count": 6,
     "metadata": {},
     "output_type": "execute_result"
    }
   ],
   "source": [
    "mol.adjacency"
   ]
  },
  {
   "cell_type": "code",
   "execution_count": 7,
   "id": "3f533c58-2d8a-4ff0-9ff1-ee9437b677ac",
   "metadata": {},
   "outputs": [
    {
     "data": {
      "text/plain": [
       "array([[0.       , 1.5131863, 2.6347182, 2.6625466, 3.170472 , 1.0938021,\n",
       "        1.0958606, 1.0961703, 2.1845012, 3.518376 , 2.8099246, 3.5231926,\n",
       "        2.8989146, 3.4661918, 4.19595  ],\n",
       "       [1.5131863, 0.       , 1.5113351, 1.5137783, 2.6625347, 2.17504  ,\n",
       "        2.1594367, 2.1698775, 1.0876248, 2.2504857, 2.2265723, 2.1979764,\n",
       "        2.8586695, 3.1418269, 3.5349524],\n",
       "       [2.6347182, 1.5113351, 0.       , 1.5113318, 2.6347337, 2.8065476,\n",
       "        3.1108968, 3.5200408, 2.203751 , 1.084798 , 1.0865461, 2.2037115,\n",
       "        2.8066344, 3.5200973, 3.1107962],\n",
       "       [2.6625466, 1.5137783, 1.5113318, 0.       , 1.513185 , 2.8587482,\n",
       "        3.535005 , 3.1417325, 2.1979527, 2.250499 , 2.2265403, 1.0876244,\n",
       "        2.1750376, 2.1698892, 2.1594205],\n",
       "       [3.170472 , 2.6625347, 2.6347337, 1.513185 , 0.       , 2.8990676,\n",
       "        4.196022 , 3.465977 , 3.523141 , 3.5184162, 2.8099024, 2.184501 ,\n",
       "        1.0938014, 1.0961721, 1.095859 ],\n",
       "       [1.0938021, 2.17504  , 2.8065476, 2.8587482, 2.8990676, 0.       ,\n",
       "        1.762329 , 1.7667967, 3.0968416, 3.8236144, 2.5922856, 3.881963 ,\n",
       "        2.2733989, 3.2978737, 3.8560817],\n",
       "       [1.0958606, 2.1594367, 3.1108968, 3.535005 , 4.196022 , 1.762329 ,\n",
       "        0.       , 1.7683072, 2.5294337, 3.806574 , 3.1960769, 4.3437805,\n",
       "        3.856078 , 4.557865 , 5.174432 ],\n",
       "       [1.0961703, 2.1698775, 3.5200408, 3.1417325, 3.465977 , 1.7667967,\n",
       "        1.7683072, 0.       , 2.5620892, 4.385372 , 3.8100529, 3.844831 ,\n",
       "        3.2974167, 3.410265 , 4.557637 ],\n",
       "       [2.1845012, 1.0876248, 2.203751 , 2.1979527, 3.523141 , 3.0968416,\n",
       "        2.5294337, 2.5620892, 0.       , 2.5028775, 3.0988271, 2.4099438,\n",
       "        3.8818488, 3.8448305, 4.3437366],\n",
       "       [3.518376 , 2.2504857, 1.084798 , 2.250499 , 3.5184162, 3.8236144,\n",
       "        3.806574 , 4.385372 , 2.5028775, 0.       , 1.8201514, 2.5028434,\n",
       "        3.8237388, 4.3854074, 3.806531 ],\n",
       "       [2.8099246, 2.2265723, 1.0865461, 2.2265403, 2.8099024, 2.5922856,\n",
       "        3.1960769, 3.8100529, 3.0988271, 1.8201514, 0.       , 3.0987523,\n",
       "        2.5923994, 3.810111 , 3.1958458],\n",
       "       [3.5231926, 2.1979764, 2.2037115, 1.0876244, 2.184501 , 3.881963 ,\n",
       "        4.3437805, 3.844831 , 2.4099438, 2.5028434, 3.0987523, 0.       ,\n",
       "        3.0968423, 2.5620408, 2.5294785],\n",
       "       [2.8989146, 2.8586695, 2.8066344, 2.1750376, 1.0938014, 2.2733989,\n",
       "        3.856078 , 3.2974167, 3.8818488, 3.8237388, 2.5923994, 3.0968423,\n",
       "        0.       , 1.766797 , 1.7623292],\n",
       "       [3.4661918, 3.1418269, 3.5200973, 2.1698892, 1.0961721, 3.2978737,\n",
       "        4.557865 , 3.410265 , 3.8448305, 4.3854074, 3.810111 , 2.5620408,\n",
       "        1.766797 , 0.       , 1.7683084],\n",
       "       [4.19595  , 3.5349524, 3.1107962, 2.1594205, 1.095859 , 3.8560817,\n",
       "        5.174432 , 4.557637 , 4.3437366, 3.806531 , 3.1958458, 2.5294785,\n",
       "        1.7623292, 1.7683084, 0.       ]], dtype=float32)"
      ]
     },
     "execution_count": 7,
     "metadata": {},
     "output_type": "execute_result"
    }
   ],
   "source": [
    "mol.distance"
   ]
  },
  {
   "cell_type": "code",
   "execution_count": 12,
   "id": "14a74aec-bec5-44ea-bdbc-7ab397aab789",
   "metadata": {},
   "outputs": [
    {
     "data": {
      "text/plain": [
       "array([[36.858112 , 15.224954 , 19.002048 , 25.110052 , 25.109932 ,\n",
       "         8.302856 , 10.00366  , 10.002759 , 12.390027 ,  8.779216 ,\n",
       "        13.833646 ,  8.303197 , 12.389926 , 13.229769 , 13.229085 ],\n",
       "       [15.224974 , 36.858112 , 19.002048 , 25.110052 , 25.109932 ,\n",
       "         8.302856 , 10.00366  , 10.002759 , 12.390027 ,  8.779216 ,\n",
       "        13.833646 ,  8.303197 , 12.389926 , 13.229769 , 13.229085 ],\n",
       "       [15.224974 , 15.224954 , 36.858112 , 25.110052 , 25.109932 ,\n",
       "         8.302856 , 10.00366  , 10.002759 , 12.390027 ,  8.779216 ,\n",
       "        13.833646 ,  8.303197 , 12.389926 , 13.229769 , 13.229085 ],\n",
       "       [15.224974 , 15.224954 , 19.002048 , 36.858112 , 25.109932 ,\n",
       "         8.302856 , 10.00366  , 10.002759 , 12.390027 ,  8.779216 ,\n",
       "        13.833646 ,  8.303197 , 12.389926 , 13.229769 , 13.229085 ],\n",
       "       [15.224974 , 15.224954 , 19.002048 , 25.110052 , 36.858112 ,\n",
       "         8.302856 , 10.00366  , 10.002759 , 12.390027 ,  8.779216 ,\n",
       "        13.833646 ,  8.303197 , 12.389926 , 13.229769 , 13.229085 ],\n",
       "       [ 2.5374956,  2.5374923,  3.1670077,  4.185009 ,  4.184989 ,\n",
       "         0.5      ,  1.667277 ,  1.6671267,  2.0650043,  1.4632026,\n",
       "         2.305608 ,  1.3838663,  2.0649877,  2.2049615,  2.2048473],\n",
       "       [ 2.5374956,  2.5374923,  3.1670077,  4.185009 ,  4.184989 ,\n",
       "         1.3838096,  0.5      ,  1.6671267,  2.0650043,  1.4632026,\n",
       "         2.305608 ,  1.3838663,  2.0649877,  2.2049615,  2.2048473],\n",
       "       [ 2.5374956,  2.5374923,  3.1670077,  4.185009 ,  4.184989 ,\n",
       "         1.3838096,  1.667277 ,  0.5      ,  2.0650043,  1.4632026,\n",
       "         2.305608 ,  1.3838663,  2.0649877,  2.2049615,  2.2048473],\n",
       "       [ 2.5374956,  2.5374923,  3.1670077,  4.185009 ,  4.184989 ,\n",
       "         1.3838096,  1.667277 ,  1.6671267,  0.5      ,  1.4632026,\n",
       "         2.305608 ,  1.3838663,  2.0649877,  2.2049615,  2.2048473],\n",
       "       [ 2.5374956,  2.5374923,  3.1670077,  4.185009 ,  4.184989 ,\n",
       "         1.3838096,  1.667277 ,  1.6671267,  2.0650043,  0.5      ,\n",
       "         2.305608 ,  1.3838663,  2.0649877,  2.2049615,  2.2048473],\n",
       "       [ 2.5374956,  2.5374923,  3.1670077,  4.185009 ,  4.184989 ,\n",
       "         1.3838096,  1.667277 ,  1.6671267,  2.0650043,  1.4632026,\n",
       "         0.5      ,  1.3838663,  2.0649877,  2.2049615,  2.2048473],\n",
       "       [ 2.5374956,  2.5374923,  3.1670077,  4.185009 ,  4.184989 ,\n",
       "         1.3838096,  1.667277 ,  1.6671267,  2.0650043,  1.4632026,\n",
       "         2.305608 ,  0.5      ,  2.0649877,  2.2049615,  2.2048473],\n",
       "       [ 2.5374956,  2.5374923,  3.1670077,  4.185009 ,  4.184989 ,\n",
       "         1.3838096,  1.667277 ,  1.6671267,  2.0650043,  1.4632026,\n",
       "         2.305608 ,  1.3838663,  0.5      ,  2.2049615,  2.2048473],\n",
       "       [ 2.5374956,  2.5374923,  3.1670077,  4.185009 ,  4.184989 ,\n",
       "         1.3838096,  1.667277 ,  1.6671267,  2.0650043,  1.4632026,\n",
       "         2.305608 ,  1.3838663,  2.0649877,  0.5      ,  2.2048473],\n",
       "       [ 2.5374956,  2.5374923,  3.1670077,  4.185009 ,  4.184989 ,\n",
       "         1.3838096,  1.667277 ,  1.6671267,  2.0650043,  1.4632026,\n",
       "         2.305608 ,  1.3838663,  2.0649877,  2.2049615,  0.5      ]],\n",
       "      dtype=float32)"
      ]
     },
     "execution_count": 12,
     "metadata": {},
     "output_type": "execute_result"
    }
   ],
   "source": [
    "mol.coulomb"
   ]
  },
  {
   "cell_type": "code",
   "execution_count": null,
   "id": "b6f8d810-58ff-4edd-912a-31e4c83a6eb9",
   "metadata": {},
   "outputs": [],
   "source": []
  }
 ],
 "metadata": {
  "kernelspec": {
   "display_name": "Python 3",
   "language": "python",
   "name": "python3"
  },
  "language_info": {
   "codemirror_mode": {
    "name": "ipython",
    "version": 3
   },
   "file_extension": ".py",
   "mimetype": "text/x-python",
   "name": "python",
   "nbconvert_exporter": "python",
   "pygments_lexer": "ipython3",
   "version": "3.8.12"
  }
 },
 "nbformat": 4,
 "nbformat_minor": 5
}
