{
 "cells": [
  {
   "cell_type": "code",
   "execution_count": 1,
   "id": "0831e844-095d-42ba-8737-07797bb242dc",
   "metadata": {},
   "outputs": [
    {
     "name": "stderr",
     "output_type": "stream",
     "text": [
      "RDKit WARNING: [23:25:29] Enabling RDKit 2019.09.3 jupyter extensions\n"
     ]
    }
   ],
   "source": [
    "import sys # required for relative imports in jupyter lab\n",
    "sys.path.insert(0, '../') \n",
    "\n",
    "from scipy.sparse import coo_matrix\n",
    "\n",
    "from dataset import QM9\n",
    "\n",
    "from torch_geometric.datasets import QM9 as TQM9\n",
    "from torch_geometric.data import Data\n",
    "\n"
   ]
  },
  {
   "cell_type": "code",
   "execution_count": 2,
   "id": "61d85e03-c457-41aa-b919-d9e17eb4e5a9",
   "metadata": {
    "tags": []
   },
   "outputs": [
    {
     "name": "stdout",
     "output_type": "stream",
     "text": [
      "creating QM9 dataset...\n",
      "QM9 molecules scanned:  1\n",
      "QM9 molecules created:  1\n",
      "total uncharacterized molecules removed:  25\n",
      "total QM9 molecules created:  975\n",
      "CDataset created...\n"
     ]
    }
   ],
   "source": [
    "ds_params = {'train_params': {'n': 1000,\n",
    "                              'features': ['mulliken','coulomb'],\n",
    "                              'embeds': ['hybrid_types', 'atom_types','atomic_numbers','aromatic'],\n",
    "                              'targets': ['U0'],\n",
    "                              'pad': None, \n",
    "                              #'filter_on': ('n_atoms','>','18'),\n",
    "                              'use_pickle': False,\n",
    "                              'flatten': True,\n",
    "                              'embed_lookup': {'H': 0, 'C': 1, 'N': 2, 'O': 3, 'F': 4,\n",
    "                                               'sp': 0, 'sp2': 1, 'sp3':2, 'na': 3,\n",
    "                                               0: 0, 1: 1, 2: 2, 3: 3, 4: 4, 5: 5, 6: 6,\n",
    "                                               7: 7, 8: 8, 9: 9, 10: 10}}}\n",
    "\n",
    "qm9 = QM9(**ds_params['train_params'])"
   ]
  },
  {
   "cell_type": "code",
   "execution_count": 3,
   "id": "b38fc8df-3cfc-478e-951d-864b45440adc",
   "metadata": {},
   "outputs": [
    {
     "name": "stdout",
     "output_type": "stream",
     "text": [
      "[1, 2, 3, 4, 5, 6, 7, 8, 9, 10]\n",
      "975\n"
     ]
    }
   ],
   "source": [
    "print(qm9.ds_idx[:10])\n",
    "print(len(qm9.ds_idx))"
   ]
  },
  {
   "cell_type": "code",
   "execution_count": 4,
   "id": "6a666de9-0521-4785-bcdd-dbbd0eb58659",
   "metadata": {},
   "outputs": [
    {
     "name": "stdout",
     "output_type": "stream",
     "text": [
      "dsgdb9nsd_000011\n"
     ]
    }
   ],
   "source": [
    "mol = qm9.ds[11]\n",
    "print(mol)"
   ]
  },
  {
   "cell_type": "code",
   "execution_count": 5,
   "id": "4ded7768-dff1-4bdd-b6e2-6c4850356a85",
   "metadata": {
    "tags": []
   },
   "outputs": [
    {
     "data": {
      "image/png": "[encoded data removed]",
      "text/plain": [
       "<rdkit.Chem.rdchem.Mol at 0x7f0373f58b80>"
      ]
     },
     "execution_count": 5,
     "metadata": {},
     "output_type": "execute_result"
    }
   ],
   "source": [
    "mol.rdmol"
   ]
  },
  {
   "cell_type": "code",
   "execution_count": 6,
   "id": "56b664ee-599c-43ea-8093-ab37d2372c23",
   "metadata": {
    "tags": []
   },
   "outputs": [
    {
     "name": "stdout",
     "output_type": "stream",
     "text": [
      "7\n",
      "7\n",
      "[6, 6, 8, 1, 1, 1, 1]\n",
      "['C', 'C', 'O', 'H', 'H', 'H', 'H']\n"
     ]
    }
   ],
   "source": [
    "print(mol.rdmol.GetNumAtoms())\n",
    "print(len(mol.atomic_numbers))\n",
    "print(mol.atomic_numbers)\n",
    "print(mol.atom_types)"
   ]
  },
  {
   "cell_type": "code",
   "execution_count": 7,
   "id": "bdd23be4-ed82-49bf-b897-de83b60a56fe",
   "metadata": {
    "tags": []
   },
   "outputs": [
    {
     "name": "stdout",
     "output_type": "stream",
     "text": [
      "\n",
      "     RDKit          2D\n",
      "\n",
      "  7  6  0  0  0  0  0  0  0  0999 V2000\n",
      "    1.2990    0.7500    0.0000 C   0  0  0  0  0  0  0  0  0  0  0  0\n",
      "    0.0000    0.0000    0.0000 C   0  0  0  0  0  0  0  0  0  0  0  0\n",
      "   -1.2990    0.7500    0.0000 O   0  0  0  0  0  0  0  0  0  0  0  0\n",
      "    2.5981    1.5000    0.0000 H   0  0  0  0  0  0  0  0  0  0  0  0\n",
      "    2.0490   -0.5490    0.0000 H   0  0  0  0  0  0  0  0  0  0  0  0\n",
      "    0.5490    2.0490    0.0000 H   0  0  0  0  0  0  0  0  0  0  0  0\n",
      "   -0.0000   -1.5000    0.0000 H   0  0  0  0  0  0  0  0  0  0  0  0\n",
      "  1  2  1  0\n",
      "  2  3  2  0\n",
      "  1  4  1  0\n",
      "  1  5  1  0\n",
      "  1  6  1  0\n",
      "  2  7  1  0\n",
      "M  END\n",
      "\n"
     ]
    }
   ],
   "source": [
    "print(mol.mol_block)"
   ]
  },
  {
   "cell_type": "code",
   "execution_count": 8,
   "id": "f8ca7f7f-abfc-4616-a4cd-917e73900946",
   "metadata": {
    "tags": []
   },
   "outputs": [
    {
     "name": "stdout",
     "output_type": "stream",
     "text": [
      "['A', 'B', 'C', 'mu', 'alpha', 'homo', 'lumo', 'gap', 'r2', 'zpve', 'U0', 'U', 'H', 'G', 'Cv', 'smile', 'n_atoms', 'xyz', 'mulliken']\n"
     ]
    }
   ],
   "source": [
    "print(mol.properties)"
   ]
  },
  {
   "cell_type": "code",
   "execution_count": 9,
   "id": "01933769-aa8d-4fc6-882e-bdf3fb1de5e9",
   "metadata": {
    "tags": []
   },
   "outputs": [
    {
     "data": {
      "text/plain": [
       "'CC=O\\tCC=O\\t\\n'"
      ]
     },
     "execution_count": 9,
     "metadata": {},
     "output_type": "execute_result"
    }
   ],
   "source": [
    "mol.smile"
   ]
  },
  {
   "cell_type": "code",
   "execution_count": 10,
   "id": "315115f2-8de0-4a12-bae0-8649709023f0",
   "metadata": {
    "tags": []
   },
   "outputs": [
    {
     "data": {
      "text/plain": [
       "['7\\n',\n",
       " 'gdb 11\\t57.22434\\t10.11122\\t9.07368\\t2.5682\\t25.11\\t-0.254\\t-0.0198\\t0.2342\\t166.9728\\t0.055355\\t-153.787612\\t-153.783728\\t-153.782784\\t-153.812518\\t11.219\\t\\n',\n",
       " 'C\\t-0.0029448212\\t 1.5099136648\\t 0.0086727849\\t-0.450261\\n',\n",
       " 'C\\t 0.0260828384\\t 0.0032756259\\t-0.037459115\\t 0.172035\\n',\n",
       " 'O\\t 0.9422880119\\t-0.6550703513\\t-0.4568257611\\t-0.225955\\n',\n",
       " 'H\\t 0.9227880213\\t 1.926342418\\t-0.3914655687\\t 0.14545\\n',\n",
       " 'H\\t-0.8620154031\\t 1.878524808\\t-0.5647953841\\t 0.143233\\n',\n",
       " 'H\\t-0.1505063787\\t 1.8439338318\\t 1.0428910048\\t 0.143262\\n',\n",
       " 'H\\t-0.8944300885\\t-0.4864340773\\t 0.3577486492\\t 0.072236\\n',\n",
       " '168.181\\t501.1212\\t773.3101\\t884.1529\\t1124.8371\\t1138.5323\\t1373.2848\\t1431.5273\\t1459.9055\\t1471.282\\t1841.2906\\t2861.5286\\t3029.6122\\t3089.0262\\t3150.4048\\n',\n",
       " 'CC=O\\tCC=O\\t\\n',\n",
       " 'InChI=1S/C2H4O/c1-2-3/h2H,1H3\\tInChI=1S/C2H4O/c1-2-3/h2H,1H3\\n']"
      ]
     },
     "execution_count": 10,
     "metadata": {},
     "output_type": "execute_result"
    }
   ],
   "source": [
    "mol.qm9_block"
   ]
  },
  {
   "cell_type": "code",
   "execution_count": 11,
   "id": "7d2c9c00-55cb-4937-aa07-c689cccfbd14",
   "metadata": {
    "tags": []
   },
   "outputs": [
    {
     "name": "stdout",
     "output_type": "stream",
     "text": [
      "(7, 7)\n"
     ]
    },
    {
     "data": {
      "text/plain": [
       "array([[0, 1, 0, 1, 1, 1, 0],\n",
       "       [1, 0, 2, 0, 0, 0, 1],\n",
       "       [0, 2, 0, 0, 0, 0, 0],\n",
       "       [1, 0, 0, 0, 0, 0, 0],\n",
       "       [1, 0, 0, 0, 0, 0, 0],\n",
       "       [1, 0, 0, 0, 0, 0, 0],\n",
       "       [0, 1, 0, 0, 0, 0, 0]])"
      ]
     },
     "execution_count": 11,
     "metadata": {},
     "output_type": "execute_result"
    }
   ],
   "source": [
    "print(mol.adjacency.shape)\n",
    "mol.adjacency"
   ]
  },
  {
   "cell_type": "code",
   "execution_count": 12,
   "id": "4a361927-ae47-48b1-9fe7-c6966ae53815",
   "metadata": {},
   "outputs": [],
   "source": [
    "tqm9 = TQM9(root='./data/qm9')"
   ]
  },
  {
   "cell_type": "code",
   "execution_count": 13,
   "id": "be97e89e-f8e5-4f3a-aac4-d2e609078531",
   "metadata": {},
   "outputs": [],
   "source": [
    "graph = tqm9[10]"
   ]
  },
  {
   "cell_type": "code",
   "execution_count": 14,
   "id": "c977179e-8085-423b-86cb-74e4f25673ae",
   "metadata": {},
   "outputs": [
    {
     "data": {
      "text/plain": [
       "Data(x=[7, 11], edge_index=[2, 12], edge_attr=[12, 4], y=[1, 19], pos=[7, 3], z=[7], name='gdb_11', idx=[1])"
      ]
     },
     "execution_count": 14,
     "metadata": {},
     "output_type": "execute_result"
    }
   ],
   "source": [
    "graph"
   ]
  },
  {
   "cell_type": "code",
   "execution_count": 15,
   "id": "5d00fc0c-84b7-42ea-aeca-102fd67cc355",
   "metadata": {},
   "outputs": [
    {
     "data": {
      "text/plain": [
       "tensor([10])"
      ]
     },
     "execution_count": 15,
     "metadata": {},
     "output_type": "execute_result"
    }
   ],
   "source": [
    "graph.idx"
   ]
  },
  {
   "cell_type": "code",
   "execution_count": 16,
   "id": "71015f14-c0ac-4fda-a0c0-20e400f849c9",
   "metadata": {},
   "outputs": [
    {
     "data": {
      "text/plain": [
       "tensor([[0., 1., 0., 0., 0., 6., 0., 0., 0., 0., 3.],\n",
       "        [0., 1., 0., 0., 0., 6., 0., 0., 0., 0., 1.],\n",
       "        [0., 0., 0., 1., 0., 8., 0., 0., 0., 0., 0.],\n",
       "        [1., 0., 0., 0., 0., 1., 0., 0., 0., 0., 0.],\n",
       "        [1., 0., 0., 0., 0., 1., 0., 0., 0., 0., 0.],\n",
       "        [1., 0., 0., 0., 0., 1., 0., 0., 0., 0., 0.],\n",
       "        [1., 0., 0., 0., 0., 1., 0., 0., 0., 0., 0.]])"
      ]
     },
     "execution_count": 16,
     "metadata": {},
     "output_type": "execute_result"
    }
   ],
   "source": [
    "graph.x"
   ]
  },
  {
   "cell_type": "code",
   "execution_count": 17,
   "id": "e3a42499-f9c2-42be-a17d-02e0523fa683",
   "metadata": {},
   "outputs": [
    {
     "name": "stdout",
     "output_type": "stream",
     "text": [
      "tensor([[0, 0, 0, 0, 1, 1, 1, 2, 3, 4, 5, 6],\n",
      "        [1, 3, 4, 5, 0, 2, 6, 1, 0, 0, 0, 1]])\n"
     ]
    }
   ],
   "source": [
    "print(graph.edge_index)"
   ]
  },
  {
   "cell_type": "code",
   "execution_count": 18,
   "id": "3349d7e4-96ab-49df-ab23-1860904eb7b8",
   "metadata": {},
   "outputs": [
    {
     "data": {
      "text/plain": [
       "tensor([[1., 0., 0., 0.],\n",
       "        [1., 0., 0., 0.],\n",
       "        [1., 0., 0., 0.],\n",
       "        [1., 0., 0., 0.],\n",
       "        [1., 0., 0., 0.],\n",
       "        [0., 1., 0., 0.],\n",
       "        [1., 0., 0., 0.],\n",
       "        [0., 1., 0., 0.],\n",
       "        [1., 0., 0., 0.],\n",
       "        [1., 0., 0., 0.],\n",
       "        [1., 0., 0., 0.],\n",
       "        [1., 0., 0., 0.]])"
      ]
     },
     "execution_count": 18,
     "metadata": {},
     "output_type": "execute_result"
    }
   ],
   "source": [
    "graph.edge_attr"
   ]
  },
  {
   "cell_type": "code",
   "execution_count": 19,
   "id": "fb1ca8af-4804-4bb5-be02-f21fb5a5842f",
   "metadata": {},
   "outputs": [
    {
     "data": {
      "text/plain": [
       "tensor([[ 2.5682e+00,  2.5110e+01, -6.9117e+00, -5.3879e-01,  6.3729e+00,\n",
       "          1.6697e+02,  1.5063e+00, -4.1848e+03, -4.1847e+03, -4.1846e+03,\n",
       "         -4.1855e+03,  1.1219e+01, -2.7984e+01, -2.8148e+01, -2.8302e+01,\n",
       "         -2.6304e+01,  5.7224e+01,  1.0111e+01,  9.0737e+00]])"
      ]
     },
     "execution_count": 19,
     "metadata": {},
     "output_type": "execute_result"
    }
   ],
   "source": [
    "graph.y"
   ]
  },
  {
   "cell_type": "code",
   "execution_count": 20,
   "id": "2d6a8484-dfd6-46a2-bf7b-acdbddd55dd6",
   "metadata": {},
   "outputs": [
    {
     "data": {
      "text/plain": [
       "array([[-0.00294482,  1.5099137 ,  0.00867279],\n",
       "       [ 0.02608284,  0.00327563, -0.03745912],\n",
       "       [ 0.94228804, -0.65507036, -0.45682576],\n",
       "       [ 0.922788  ,  1.9263424 , -0.39146557],\n",
       "       [-0.8620154 ,  1.8785248 , -0.5647954 ],\n",
       "       [-0.15050638,  1.8439338 ,  1.042891  ],\n",
       "       [-0.8944301 , -0.48643407,  0.35774866]], dtype=float32)"
      ]
     },
     "execution_count": 20,
     "metadata": {},
     "output_type": "execute_result"
    }
   ],
   "source": [
    "mol.xyz"
   ]
  },
  {
   "cell_type": "code",
   "execution_count": 21,
   "id": "46e9612c-0168-4cde-ad41-bdf37943f5ef",
   "metadata": {},
   "outputs": [
    {
     "data": {
      "text/plain": [
       "tensor([[-0.0029,  1.5099,  0.0087],\n",
       "        [ 0.0261,  0.0033, -0.0375],\n",
       "        [ 0.9423, -0.6551, -0.4568],\n",
       "        [ 0.9228,  1.9263, -0.3915],\n",
       "        [-0.8620,  1.8785, -0.5648],\n",
       "        [-0.1505,  1.8439,  1.0429],\n",
       "        [-0.8944, -0.4864,  0.3577]])"
      ]
     },
     "execution_count": 21,
     "metadata": {},
     "output_type": "execute_result"
    }
   ],
   "source": [
    "graph.pos"
   ]
  },
  {
   "cell_type": "code",
   "execution_count": 22,
   "id": "670df7fa-f9a7-4905-8f8a-b8bfb08aedeb",
   "metadata": {},
   "outputs": [],
   "source": [
    "import numpy as np"
   ]
  },
  {
   "cell_type": "code",
   "execution_count": 23,
   "id": "b4af839f-fbb2-4cdd-8405-d23c5804e059",
   "metadata": {},
   "outputs": [
    {
     "name": "stdout",
     "output_type": "stream",
     "text": [
      "tensor([6, 6, 8, 1, 1, 1, 1])\n",
      "[6 6 8 1 1 1 1]\n"
     ]
    }
   ],
   "source": [
    "print(graph.z)\n",
    "z = [mol.atomic_n[a] for a in mol.atom_types]\n",
    "z = np.asarray(z, 'int64')\n",
    "print(z)"
   ]
  },
  {
   "cell_type": "code",
   "execution_count": 24,
   "id": "e5c4022c-3a4c-425b-a9a2-11d273e896e1",
   "metadata": {},
   "outputs": [
    {
     "name": "stdout",
     "output_type": "stream",
     "text": [
      "tensor([10])\n",
      "dsgdb9nsd_000011\n",
      "gdb_11\n"
     ]
    }
   ],
   "source": [
    "print(graph.idx)\n",
    "print(mol)\n",
    "print(graph.name)"
   ]
  },
  {
   "cell_type": "code",
   "execution_count": 25,
   "id": "ab47812f-2266-433e-bd7a-f446c4c7e7ce",
   "metadata": {},
   "outputs": [
    {
     "name": "stdout",
     "output_type": "stream",
     "text": [
      "['A', 'B', 'C', 'Cv', 'G', 'H', 'U', 'U0', '__abstractmethods__', '__class__', '__delattr__', '__dict__', '__dir__', '__doc__', '__eq__', '__format__', '__ge__', '__getattribute__', '__gt__', '__hash__', '__init__', '__init_subclass__', '__le__', '__lt__', '__module__', '__ne__', '__new__', '__reduce__', '__reduce_ex__', '__repr__', '__setattr__', '__sizeof__', '__slots__', '__str__', '__subclasshook__', '__weakref__', '_abc_impl', 'adjacency', 'alpha', 'aromatic', 'atom_types', 'atomic_n', 'atomic_numbers', 'coulomb', 'create_adjacency', 'create_coulomb', 'create_distance', 'distance', 'gap', 'homo', 'hybrid_types', 'in_file', 'load_data', 'lumo', 'mol_block', 'mu', 'mulliken', 'n_atoms', 'open_file', 'properties', 'qm9_block', 'r2', 'rdmol', 'rdmol_from_smile', 'smile', 'sort_permute', 'xyz', 'zpve']\n"
     ]
    }
   ],
   "source": [
    "print(dir(mol))"
   ]
  },
  {
   "cell_type": "code",
   "execution_count": 26,
   "id": "3f533c58-2d8a-4ff0-9ff1-ee9437b677ac",
   "metadata": {
    "tags": []
   },
   "outputs": [
    {
     "name": "stdout",
     "output_type": "stream",
     "text": [
      "(7, 7)\n"
     ]
    },
    {
     "data": {
      "text/plain": [
       "array([[0.       , 1.5076237, 2.4077604, 1.0911026, 1.096696 , 1.0967914,\n",
       "        2.214047 ],\n",
       "       [1.5076237, 0.       , 1.2036278, 2.1511827, 2.1408787, 2.1415794,\n",
       "        1.1150556],\n",
       "       [2.4077604, 1.2036278, 0.       , 2.5823138, 3.1122777, 3.1126149,\n",
       "        2.0163093],\n",
       "       [1.0911026, 2.1511827, 2.5823138, 0.       , 1.7938375, 1.7933575,\n",
       "        3.1120884],\n",
       "       [1.096696 , 2.1408787, 3.1122777, 1.7938375, 0.       , 1.758436 ,\n",
       "        2.5387337],\n",
       "       [1.0967914, 2.1415794, 3.1126149, 1.7933575, 1.758436 , 0.       ,\n",
       "        2.5403655],\n",
       "       [2.214047 , 1.1150556, 2.0163093, 3.1120884, 2.5387337, 2.5403655,\n",
       "        0.       ]], dtype=float32)"
      ]
     },
     "execution_count": 26,
     "metadata": {},
     "output_type": "execute_result"
    }
   ],
   "source": [
    "print(mol.distance.shape)\n",
    "mol.distance"
   ]
  },
  {
   "cell_type": "code",
   "execution_count": 27,
   "id": "14a74aec-bec5-44ea-bdbc-7ab397aab789",
   "metadata": {
    "tags": []
   },
   "outputs": [
    {
     "name": "stdout",
     "output_type": "stream",
     "text": [
      "(7, 7)\n"
     ]
    },
    {
     "data": {
      "text/plain": [
       "array([[73.51671  , 13.81891  , 33.18483  , 15.533215 , 23.182642 ,\n",
       "        15.535144 , 25.643593 ],\n",
       "       [10.524412 , 36.858112 , 24.888626 , 11.64991  , 17.38698  ,\n",
       "        11.651357 , 19.232695 ],\n",
       "       [10.524412 , 10.364182 , 36.858112 , 11.64991  , 17.38698  ,\n",
       "        11.651357 , 19.232695 ],\n",
       "       [ 1.7540686,  1.7273637,  4.1481037,  0.5      ,  2.8978302,\n",
       "         1.941893 ,  3.205449 ],\n",
       "       [ 1.7540686,  1.7273637,  4.1481037,  1.9416518,  0.5      ,\n",
       "         1.941893 ,  3.205449 ],\n",
       "       [ 1.7540686,  1.7273637,  4.1481037,  1.9416518,  2.8978302,\n",
       "         0.5      ,  3.205449 ],\n",
       "       [ 1.7540686,  1.7273637,  4.1481037,  1.9416518,  2.8978302,\n",
       "         1.941893 ,  0.5      ]], dtype=float32)"
      ]
     },
     "execution_count": 27,
     "metadata": {},
     "output_type": "execute_result"
    }
   ],
   "source": [
    "print(mol.coulomb.shape)\n",
    "mol.coulomb"
   ]
  },
  {
   "cell_type": "code",
   "execution_count": 28,
   "id": "19caf2a7-6353-4200-93da-3350defc2933",
   "metadata": {
    "tags": []
   },
   "outputs": [
    {
     "name": "stdout",
     "output_type": "stream",
     "text": [
      "(56,)\n",
      "(array([-4.5026100e-01,  1.7203499e-01, -2.2595499e-01,  1.4545000e-01,\n",
      "        1.4323300e-01,  1.4326200e-01,  7.2236001e-02,  7.3516708e+01,\n",
      "        1.3818910e+01,  3.3184830e+01,  1.5533215e+01,  2.3182642e+01,\n",
      "        1.5535144e+01,  2.5643593e+01,  1.0524412e+01,  3.6858112e+01,\n",
      "        2.4888626e+01,  1.1649910e+01,  1.7386980e+01,  1.1651357e+01,\n",
      "        1.9232695e+01,  1.0524412e+01,  1.0364182e+01,  3.6858112e+01,\n",
      "        1.1649910e+01,  1.7386980e+01,  1.1651357e+01,  1.9232695e+01,\n",
      "        1.7540686e+00,  1.7273637e+00,  4.1481037e+00,  5.0000000e-01,\n",
      "        2.8978302e+00,  1.9418930e+00,  3.2054491e+00,  1.7540686e+00,\n",
      "        1.7273637e+00,  4.1481037e+00,  1.9416518e+00,  5.0000000e-01,\n",
      "        1.9418930e+00,  3.2054491e+00,  1.7540686e+00,  1.7273637e+00,\n",
      "        4.1481037e+00,  1.9416518e+00,  2.8978302e+00,  5.0000000e-01,\n",
      "        3.2054491e+00,  1.7540686e+00,  1.7273637e+00,  4.1481037e+00,\n",
      "        1.9416518e+00,  2.8978302e+00,  1.9418930e+00,  5.0000000e-01],\n",
      "      dtype=float32), [array([2, 1, 1, 3, 3, 3, 3]), array([1, 1, 3, 0, 0, 0, 0]), array([6, 6, 8, 1, 1, 1, 1]), array([0, 0, 0, 0, 0, 0, 0])], array([-153.78761], dtype=float32))\n"
     ]
    }
   ],
   "source": [
    "print(qm9[11][0].shape)\n",
    "print(qm9[11])"
   ]
  },
  {
   "cell_type": "code",
   "execution_count": 29,
   "id": "153e6c3d-730f-427d-af60-6cb1ca95f5d4",
   "metadata": {},
   "outputs": [
    {
     "name": "stdout",
     "output_type": "stream",
     "text": [
      "  (0, 1)\t1\n",
      "  (0, 3)\t1\n",
      "  (0, 4)\t1\n",
      "  (0, 5)\t1\n",
      "  (1, 0)\t1\n",
      "  (1, 2)\t2\n",
      "  (1, 6)\t1\n",
      "  (2, 1)\t2\n",
      "  (3, 0)\t1\n",
      "  (4, 0)\t1\n",
      "  (5, 0)\t1\n",
      "  (6, 1)\t1\n",
      "[0 0 0 0 1 1 1 2 3 4 5 6]\n",
      "[1 3 4 5 0 2 6 1 0 0 0 1]\n",
      "[1 1 1 1 1 2 1 2 1 1 1 1]\n"
     ]
    }
   ],
   "source": [
    "coo = coo_matrix(mol.adjacency)\n",
    "print(coo)\n",
    "print(coo.row)\n",
    "print(coo.col)\n",
    "print(coo.data)"
   ]
  },
  {
   "cell_type": "code",
   "execution_count": 30,
   "id": "e2f2afbf-b2d7-4223-b063-250747f56aa1",
   "metadata": {},
   "outputs": [],
   "source": [
    "import torch"
   ]
  },
  {
   "cell_type": "code",
   "execution_count": 31,
   "id": "e4793e42-8759-4d69-8bbe-887e52f13871",
   "metadata": {},
   "outputs": [
    {
     "name": "stdout",
     "output_type": "stream",
     "text": [
      "x tensor([[-0.7071,  0.2357,  0.2357,  0.2357, 53.3587, 18.9409, 18.9400, 18.9400,\n",
      "          0.9831,  0.5000,  2.7057,  2.7057,  0.9831,  2.7058,  0.5000,  2.7057,\n",
      "          0.9831,  2.7058,  2.7057,  0.5000]])\n",
      "<class 'torch.Tensor'>\n",
      "z tensor([6, 6, 8, 1, 1, 1, 1])\n",
      "torch.int64\n",
      "y tensor([-56.5259])\n",
      "xyz tensor([[-0.0029,  1.5099,  0.0087],\n",
      "        [ 0.0261,  0.0033, -0.0375],\n",
      "        [ 0.9423, -0.6551, -0.4568],\n",
      "        [ 0.9228,  1.9263, -0.3915],\n",
      "        [-0.8620,  1.8785, -0.5648],\n",
      "        [-0.1505,  1.8439,  1.0429],\n",
      "        [-0.8944, -0.4864,  0.3577]])\n",
      "edge_index tensor([[0, 0, 0, 0, 1, 1, 1, 2, 3, 4, 5, 6],\n",
      "        [1, 3, 4, 5, 0, 2, 6, 1, 0, 0, 0, 1]], dtype=torch.int32)\n"
     ]
    }
   ],
   "source": [
    "x = torch.unsqueeze(torch.tensor(qm9[2][0]), 0)\n",
    "z = torch.tensor(z)\n",
    "y = torch.tensor(qm9[2][2])\n",
    "xyz = torch.tensor(mol.xyz)\n",
    "edge_index = torch.tensor([coo.row, coo.col]).contiguous()\n",
    "\n",
    "print('x', x)\n",
    "print(type(x))\n",
    "print('z', z)\n",
    "print(z.dtype)\n",
    "print('y', y)\n",
    "print('xyz', xyz)\n",
    "print('edge_index', edge_index)"
   ]
  },
  {
   "cell_type": "code",
   "execution_count": 32,
   "id": "d88d3a06-fd73-466e-a42b-53ff72a32b8a",
   "metadata": {},
   "outputs": [],
   "source": [
    "data = Data(x=x, z=z, y=y, pos=xyz, edge_index=edge_index)"
   ]
  },
  {
   "cell_type": "code",
   "execution_count": 33,
   "id": "d9845f61-a8eb-4102-85dc-e1c716adaa6b",
   "metadata": {},
   "outputs": [
    {
     "data": {
      "text/plain": [
       "['y', 'x', 'edge_index', 'z', 'pos']"
      ]
     },
     "execution_count": 33,
     "metadata": {},
     "output_type": "execute_result"
    }
   ],
   "source": [
    "data.keys"
   ]
  },
  {
   "cell_type": "code",
   "execution_count": 34,
   "id": "615192d4-ed5d-4627-a9a3-904369e7a95a",
   "metadata": {},
   "outputs": [
    {
     "data": {
      "text/plain": [
       "Data(x=[1, 20], edge_index=[2, 12], y=[1], pos=[7, 3], z=[7])"
      ]
     },
     "execution_count": 34,
     "metadata": {},
     "output_type": "execute_result"
    }
   ],
   "source": [
    "data"
   ]
  },
  {
   "cell_type": "code",
   "execution_count": 35,
   "id": "2c3f51a1-76f6-4e50-b232-b8d1a7518b32",
   "metadata": {},
   "outputs": [
    {
     "data": {
      "text/plain": [
       "1"
      ]
     },
     "execution_count": 35,
     "metadata": {},
     "output_type": "execute_result"
    }
   ],
   "source": [
    "data.num_nodes"
   ]
  },
  {
   "cell_type": "code",
   "execution_count": 36,
   "id": "fc162bd2-69f5-4d86-8b91-62d8576bac84",
   "metadata": {},
   "outputs": [
    {
     "data": {
      "text/plain": [
       "12"
      ]
     },
     "execution_count": 36,
     "metadata": {},
     "output_type": "execute_result"
    }
   ],
   "source": [
    "data.num_edges"
   ]
  },
  {
   "cell_type": "code",
   "execution_count": 37,
   "id": "22517302-3caf-4b3a-8cd3-802eee75dbe5",
   "metadata": {},
   "outputs": [
    {
     "data": {
      "text/plain": [
       "20"
      ]
     },
     "execution_count": 37,
     "metadata": {},
     "output_type": "execute_result"
    }
   ],
   "source": [
    "data.num_node_features"
   ]
  },
  {
   "cell_type": "code",
   "execution_count": 38,
   "id": "aa778fa5-0b29-4b76-91b0-c3c44d29842f",
   "metadata": {},
   "outputs": [
    {
     "data": {
      "text/plain": [
       "['y', 'x', 'name', 'edge_index', 'edge_attr', 'z', 'pos', 'idx']"
      ]
     },
     "execution_count": 38,
     "metadata": {},
     "output_type": "execute_result"
    }
   ],
   "source": [
    "graph.keys"
   ]
  },
  {
   "cell_type": "code",
   "execution_count": 39,
   "id": "da75adf4-4aa4-43c6-bded-fc62f5e8cdd7",
   "metadata": {},
   "outputs": [
    {
     "data": {
      "text/plain": [
       "Data(x=[7, 11], edge_index=[2, 12], edge_attr=[12, 4], y=[1, 19], pos=[7, 3], z=[7], name='gdb_11', idx=[1])"
      ]
     },
     "execution_count": 39,
     "metadata": {},
     "output_type": "execute_result"
    }
   ],
   "source": [
    "graph"
   ]
  },
  {
   "cell_type": "code",
   "execution_count": 40,
   "id": "ace1d5f3-1b78-43d8-a74b-3400880ea499",
   "metadata": {},
   "outputs": [
    {
     "data": {
      "text/plain": [
       "7"
      ]
     },
     "execution_count": 40,
     "metadata": {},
     "output_type": "execute_result"
    }
   ],
   "source": [
    "graph.num_nodes"
   ]
  },
  {
   "cell_type": "code",
   "execution_count": 41,
   "id": "3e8b5f47-81be-4da7-a85f-f9c5d0a702fc",
   "metadata": {},
   "outputs": [
    {
     "data": {
      "text/plain": [
       "tensor([6, 6, 8, 1, 1, 1, 1])"
      ]
     },
     "execution_count": 41,
     "metadata": {},
     "output_type": "execute_result"
    }
   ],
   "source": [
    "graph.z"
   ]
  },
  {
   "cell_type": "code",
   "execution_count": null,
   "id": "fe70b62e-7cbd-445a-8db7-ebc03501434c",
   "metadata": {},
   "outputs": [],
   "source": []
  }
 ],
 "metadata": {
  "kernelspec": {
   "display_name": "Python 3",
   "language": "python",
   "name": "python3"
  },
  "language_info": {
   "codemirror_mode": {
    "name": "ipython",
    "version": 3
   },
   "file_extension": ".py",
   "mimetype": "text/x-python",
   "name": "python",
   "nbconvert_exporter": "python",
   "pygments_lexer": "ipython3",
   "version": "3.8.12"
  }
 },
 "nbformat": 4,
 "nbformat_minor": 5
}
