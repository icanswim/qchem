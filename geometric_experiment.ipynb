{
 "cells": [
  {
   "cell_type": "code",
   "execution_count": 1,
   "id": "0831e844-095d-42ba-8737-07797bb242dc",
   "metadata": {},
   "outputs": [
    {
     "name": "stderr",
     "output_type": "stream",
     "text": [
      "RDKit WARNING: [20:37:14] Enabling RDKit 2019.09.3 jupyter extensions\n"
     ]
    }
   ],
   "source": [
    "import sys # required for relative imports in jupyter lab\n",
    "sys.path.insert(0, '../') \n",
    "\n",
    "from dataset import QM7, QM7b, QM7X, QM9, ANI1x\n",
    "\n"
   ]
  },
  {
   "cell_type": "code",
   "execution_count": 2,
   "id": "61d85e03-c457-41aa-b919-d9e17eb4e5a9",
   "metadata": {},
   "outputs": [
    {
     "name": "stdout",
     "output_type": "stream",
     "text": [
      "creating QM9 dataset...\n",
      "QM9 molecules scanned:  1\n",
      "QM9 molecules created:  1\n",
      "total uncharacterized molecules removed:  273\n",
      "total QM9 molecules created:  9727\n",
      "CDataset created...\n"
     ]
    }
   ],
   "source": [
    "ds_params = {'train_params': {'n': 10000, \n",
    "                              'features': ['coulomb'],\n",
    "                              'embeds': [], \n",
    "                              'targets': ['U0'],\n",
    "                              'pad': 29, \n",
    "                              'filter_on': None,\n",
    "                              'use_pickle': False,\n",
    "                              'flatten': True}}\n",
    "\n",
    "qm9 = QM9(**ds_params['train_params'])"
   ]
  },
  {
   "cell_type": "code",
   "execution_count": 3,
   "id": "6a666de9-0521-4785-bcdd-dbbd0eb58659",
   "metadata": {},
   "outputs": [
    {
     "name": "stdout",
     "output_type": "stream",
     "text": [
      "./data/qm9/qm9.xyz/dsgdb9nsd_000100\n"
     ]
    }
   ],
   "source": [
    "mol = qm9.ds[100]\n",
    "print(mol)"
   ]
  },
  {
   "cell_type": "code",
   "execution_count": 4,
   "id": "186e1d1a-4ba6-43b8-bb44-7b6cd450526e",
   "metadata": {},
   "outputs": [
    {
     "data": {
      "text/plain": [
       "['A',\n",
       " 'B',\n",
       " 'C',\n",
       " 'Cv',\n",
       " 'G',\n",
       " 'H',\n",
       " 'U',\n",
       " 'U0',\n",
       " '__abstractmethods__',\n",
       " '__class__',\n",
       " '__delattr__',\n",
       " '__dict__',\n",
       " '__dir__',\n",
       " '__doc__',\n",
       " '__eq__',\n",
       " '__format__',\n",
       " '__ge__',\n",
       " '__getattribute__',\n",
       " '__gt__',\n",
       " '__hash__',\n",
       " '__init__',\n",
       " '__init_subclass__',\n",
       " '__le__',\n",
       " '__lt__',\n",
       " '__module__',\n",
       " '__ne__',\n",
       " '__new__',\n",
       " '__reduce__',\n",
       " '__reduce_ex__',\n",
       " '__repr__',\n",
       " '__setattr__',\n",
       " '__sizeof__',\n",
       " '__slots__',\n",
       " '__str__',\n",
       " '__subclasshook__',\n",
       " '__weakref__',\n",
       " '_abc_impl',\n",
       " 'adjacency',\n",
       " 'alpha',\n",
       " 'atom_type',\n",
       " 'atomic_n',\n",
       " 'coulomb',\n",
       " 'create_adjacency',\n",
       " 'create_coulomb',\n",
       " 'create_distance',\n",
       " 'distance',\n",
       " 'gap',\n",
       " 'homo',\n",
       " 'in_file',\n",
       " 'load_data',\n",
       " 'lumo',\n",
       " 'mol_block',\n",
       " 'mu',\n",
       " 'mulliken',\n",
       " 'n_atoms',\n",
       " 'open_file',\n",
       " 'properties',\n",
       " 'qm9_block',\n",
       " 'r2',\n",
       " 'rdmol',\n",
       " 'rdmol_from_smile',\n",
       " 'smile',\n",
       " 'sort_permute',\n",
       " 'testtesttest',\n",
       " 'xyz',\n",
       " 'zpve']"
      ]
     },
     "execution_count": 4,
     "metadata": {},
     "output_type": "execute_result"
    }
   ],
   "source": [
    "dir(mol)"
   ]
  },
  {
   "cell_type": "code",
   "execution_count": 5,
   "id": "bdd23be4-ed82-49bf-b897-de83b60a56fe",
   "metadata": {},
   "outputs": [
    {
     "name": "stdout",
     "output_type": "stream",
     "text": [
      "\n",
      "     RDKit          2D\n",
      "\n",
      " 15 15  0  0  0  0  0  0  0  0999 V2000\n",
      "    1.8302    1.1491    0.0000 C   0  0  0  0  0  0  0  0  0  0  0  0\n",
      "    0.8660    0.0000    0.0000 C   0  0  0  0  0  0  0  0  0  0  0  0\n",
      "   -0.4330    0.7500    0.0000 C   0  0  0  0  0  0  0  0  0  0  0  0\n",
      "   -0.4330   -0.7500    0.0000 C   0  0  0  0  0  0  0  0  0  0  0  0\n",
      "    0.0800   -2.1595    0.0000 C   0  0  0  0  0  0  0  0  0  0  0  0\n",
      "    2.7944    2.2981    0.0000 H   0  0  0  0  0  0  0  0  0  0  0  0\n",
      "    0.9095    2.1364    0.0000 H   0  0  0  0  0  0  0  0  0  0  0  0\n",
      "    2.9793    0.1849    0.0000 H   0  0  0  0  0  0  0  0  0  0  0  0\n",
      "    1.8534   -0.9207    0.0000 H   0  0  0  0  0  0  0  0  0  0  0  0\n",
      "   -1.9102    1.0105    0.0000 H   0  0  0  0  0  0  0  0  0  0  0  0\n",
      "   -0.1294    2.0654    0.0000 H   0  0  0  0  0  0  0  0  0  0  0  0\n",
      "   -1.9102   -1.0105    0.0000 H   0  0  0  0  0  0  0  0  0  0  0  0\n",
      "    0.5930   -3.5691    0.0000 H   0  0  0  0  0  0  0  0  0  0  0  0\n",
      "   -1.3295   -2.6726    0.0000 H   0  0  0  0  0  0  0  0  0  0  0  0\n",
      "    1.3954   -1.8559    0.0000 H   0  0  0  0  0  0  0  0  0  0  0  0\n",
      "  1  2  1  0\n",
      "  2  3  1  0\n",
      "  3  4  1  0\n",
      "  4  5  1  0\n",
      "  4  2  1  0\n",
      "  1  6  1  0\n",
      "  1  7  1  0\n",
      "  1  8  1  0\n",
      "  2  9  1  0\n",
      "  3 10  1  0\n",
      "  3 11  1  0\n",
      "  4 12  1  0\n",
      "  5 13  1  0\n",
      "  5 14  1  0\n",
      "  5 15  1  0\n",
      "M  END\n",
      "\n"
     ]
    }
   ],
   "source": [
    "print(mol.mol_block)"
   ]
  },
  {
   "cell_type": "code",
   "execution_count": 6,
   "id": "048eb7d5-bf48-4151-accf-16e8f93783e3",
   "metadata": {},
   "outputs": [
    {
     "data": {
      "text/plain": [
       "'\\n     RDKit          2D\\n\\n 15 15  0  0  0  0  0  0  0  0999 V2000\\n    1.8302    1.1491    0.0000 C   0  0  0  0  0  0  0  0  0  0  0  0\\n    0.8660    0.0000    0.0000 C   0  0  0  0  0  0  0  0  0  0  0  0\\n   -0.4330    0.7500    0.0000 C   0  0  0  0  0  0  0  0  0  0  0  0\\n   -0.4330   -0.7500    0.0000 C   0  0  0  0  0  0  0  0  0  0  0  0\\n    0.0800   -2.1595    0.0000 C   0  0  0  0  0  0  0  0  0  0  0  0\\n    2.7944    2.2981    0.0000 H   0  0  0  0  0  0  0  0  0  0  0  0\\n    0.9095    2.1364    0.0000 H   0  0  0  0  0  0  0  0  0  0  0  0\\n    2.9793    0.1849    0.0000 H   0  0  0  0  0  0  0  0  0  0  0  0\\n    1.8534   -0.9207    0.0000 H   0  0  0  0  0  0  0  0  0  0  0  0\\n   -1.9102    1.0105    0.0000 H   0  0  0  0  0  0  0  0  0  0  0  0\\n   -0.1294    2.0654    0.0000 H   0  0  0  0  0  0  0  0  0  0  0  0\\n   -1.9102   -1.0105    0.0000 H   0  0  0  0  0  0  0  0  0  0  0  0\\n    0.5930   -3.5691    0.0000 H   0  0  0  0  0  0  0  0  0  0  0  0\\n   -1.3295   -2.6726    0.0000 H   0  0  0  0  0  0  0  0  0  0  0  0\\n    1.3954   -1.8559    0.0000 H   0  0  0  0  0  0  0  0  0  0  0  0\\n  1  2  1  0\\n  2  3  1  0\\n  3  4  1  0\\n  4  5  1  0\\n  4  2  1  0\\n  1  6  1  0\\n  1  7  1  0\\n  1  8  1  0\\n  2  9  1  0\\n  3 10  1  0\\n  3 11  1  0\\n  4 12  1  0\\n  5 13  1  0\\n  5 14  1  0\\n  5 15  1  0\\nM  END\\n'"
      ]
     },
     "execution_count": 6,
     "metadata": {},
     "output_type": "execute_result"
    }
   ],
   "source": [
    "mol.mol_block"
   ]
  },
  {
   "cell_type": "code",
   "execution_count": 7,
   "id": "a0a67149-bc13-4bfb-8ad3-ce30b8018edc",
   "metadata": {},
   "outputs": [
    {
     "data": {
      "text/plain": [
       "['C', 'C', 'C', 'C', 'C', 'H', 'H', 'H', 'H', 'H', 'H', 'H', 'H', 'H', 'H']"
      ]
     },
     "execution_count": 7,
     "metadata": {},
     "output_type": "execute_result"
    }
   ],
   "source": [
    "mol.atom_type"
   ]
  },
  {
   "cell_type": "code",
   "execution_count": 8,
   "id": "f8ca7f7f-abfc-4616-a4cd-917e73900946",
   "metadata": {},
   "outputs": [
    {
     "data": {
      "text/plain": [
       "['A',\n",
       " 'B',\n",
       " 'C',\n",
       " 'mu',\n",
       " 'alpha',\n",
       " 'homo',\n",
       " 'lumo',\n",
       " 'gap',\n",
       " 'r2',\n",
       " 'zpve',\n",
       " 'U0',\n",
       " 'U',\n",
       " 'H',\n",
       " 'G',\n",
       " 'Cv',\n",
       " 'smile',\n",
       " 'n_atoms',\n",
       " 'xyz',\n",
       " 'mulliken']"
      ]
     },
     "execution_count": 8,
     "metadata": {},
     "output_type": "execute_result"
    }
   ],
   "source": [
    "mol.properties"
   ]
  },
  {
   "cell_type": "code",
   "execution_count": 9,
   "id": "01933769-aa8d-4fc6-882e-bdf3fb1de5e9",
   "metadata": {},
   "outputs": [
    {
     "data": {
      "text/plain": [
       "'CC1CC1C\\tC[C@H]1C[C@H]1C\\t\\n'"
      ]
     },
     "execution_count": 9,
     "metadata": {},
     "output_type": "execute_result"
    }
   ],
   "source": [
    "mol.smile"
   ]
  },
  {
   "cell_type": "code",
   "execution_count": 10,
   "id": "315115f2-8de0-4a12-bae0-8649709023f0",
   "metadata": {},
   "outputs": [
    {
     "data": {
      "text/plain": [
       "['15\\n',\n",
       " 'gdb 100\\t7.14221\\t4.37083\\t3.30265\\t0.1023\\t52.92\\t-0.2632\\t0.094\\t0.3573\\t465.3301\\t0.137341\\t-196.406419\\t-196.40034\\t-196.399396\\t-196.435152\\t22.005\\t\\n',\n",
       " 'C\\t-0.0518984955\\t 1.5521743484\\t-0.103184376\\t-0.402017\\n',\n",
       " 'C\\t 0.0122664775\\t 0.0469067539\\t 0.0374752004\\t 0.021774\\n',\n",
       " 'C\\t 1.3011569171\\t-0.7066155329\\t-0.1972572405\\t-0.290689\\n',\n",
       " 'C\\t 0.7043193884\\t-0.6489323916\\t 1.1900356187\\t 0.021779\\n',\n",
       " 'C\\t 1.3975032424\\t 0.0948127989\\t 2.3107801094\\t-0.402018\\n',\n",
       " 'H\\t 0.8740420881\\t 2.0354317078\\t 0.2216222842\\t 0.114219\\n',\n",
       " 'H\\t-0.2164135675\\t 1.8369527829\\t-1.1485295788\\t 0.115359\\n',\n",
       " 'H\\t-0.8715764599\\t 1.9767368438\\t 0.4879704596\\t 0.113684\\n',\n",
       " 'H\\t-0.885082055\\t-0.4559694079\\t-0.3158078641\\t 0.078126\\n',\n",
       " 'H\\t 1.2766365763\\t-1.6414902176\\t-0.7469796667\\t 0.104702\\n',\n",
       " 'H\\t 2.194240669\\t-0.1140412081\\t-0.3756935917\\t 0.103695\\n',\n",
       " 'H\\t 0.2167246071\\t-1.5637793412\\t 1.5190239983\\t 0.078125\\n',\n",
       " 'H\\t 1.9131735597\\t 0.9905117518\\t 1.9527174745\\t 0.114218\\n',\n",
       " 'H\\t 0.6873800878\\t 0.4090146831\\t 3.0844697172\\t 0.113685\\n',\n",
       " 'H\\t 2.1493463345\\t-0.5415180713\\t 2.7911154254\\t 0.115358\\n',\n",
       " '172.6728\\t179.0664\\t254.9541\\t301.9108\\t411.0848\\t480.366\\t758.825\\t772.9753\\t849.0147\\t889.5718\\t934.8992\\t990.7216\\t1034.0371\\t1071.9958\\t1102.2942\\t1129.1022\\t1154.3015\\t1199.1953\\t1200.5783\\t1248.8564\\t1380.6369\\t1415.1869\\t1420.1376\\t1428.2262\\t1488.1437\\t1493.698\\t1494.4906\\t1501.5181\\t1513.8887\\t3025.5423\\t3029.7956\\t3082.5598\\t3084.1129\\t3096.8642\\t3107.5034\\t3121.0279\\t3124.8249\\t3136.5533\\t3204.5901\\n',\n",
       " 'CC1CC1C\\tC[C@H]1C[C@H]1C\\t\\n',\n",
       " 'InChI=1S/C5H10/c1-4-3-5(4)2/h4-5H,3H2,1-2H3\\tInChI=1S/C5H10/c1-4-3-5(4)2/h4-5H,3H2,1-2H3/t4-,5+\\n']"
      ]
     },
     "execution_count": 10,
     "metadata": {},
     "output_type": "execute_result"
    }
   ],
   "source": [
    "mol.qm9_block"
   ]
  },
  {
   "cell_type": "code",
   "execution_count": 19,
   "id": "c62ab2b8-ba3d-4989-8f76-5ff80af11f09",
   "metadata": {},
   "outputs": [
    {
     "data": {
      "text/plain": [
       "[array([-0.05189849,  1.5521743 , -0.10318438], dtype=float32),\n",
       " array([0.01226648, 0.04690675, 0.0374752 ], dtype=float32),\n",
       " array([ 1.3011569 , -0.7066155 , -0.19725724], dtype=float32),\n",
       " array([ 0.7043194, -0.6489324,  1.1900356], dtype=float32),\n",
       " array([1.3975033, 0.0948128, 2.31078  ], dtype=float32),\n",
       " array([0.8740421 , 2.0354316 , 0.22162229], dtype=float32),\n",
       " array([-0.21641357,  1.8369528 , -1.1485295 ], dtype=float32),\n",
       " array([-0.8715765 ,  1.9767369 ,  0.48797047], dtype=float32),\n",
       " array([-0.88508207, -0.4559694 , -0.31580788], dtype=float32),\n",
       " array([ 1.2766366 , -1.6414902 , -0.74697965], dtype=float32),\n",
       " array([ 2.1942406 , -0.11404121, -0.3756936 ], dtype=float32),\n",
       " array([ 0.2167246, -1.5637794,  1.519024 ], dtype=float32),\n",
       " array([1.9131736, 0.9905118, 1.9527174], dtype=float32),\n",
       " array([0.6873801 , 0.40901467, 3.0844698 ], dtype=float32),\n",
       " array([ 2.1493464, -0.5415181,  2.7911155], dtype=float32)]"
      ]
     },
     "execution_count": 19,
     "metadata": {},
     "output_type": "execute_result"
    }
   ],
   "source": [
    "mol.xyz"
   ]
  },
  {
   "cell_type": "code",
   "execution_count": 11,
   "id": "85e153a4-652a-47af-a7a0-faac9973efb2",
   "metadata": {},
   "outputs": [
    {
     "data": {
      "text/plain": [
       "(array([36.858112 , 15.22497  , 19.002047 , 25.10993  , 25.110044 ,\n",
       "         8.303192 , 12.390034 , 12.389928 , 13.229085 ,  8.302856 ,\n",
       "        10.002762 , 10.003661 ,  8.779216 , 13.833648 , 13.2297735,\n",
       "         0.       ,  0.       ,  0.       ,  0.       ,  0.       ,\n",
       "         0.       ,  0.       ,  0.       ,  0.       ,  0.       ,\n",
       "         0.       ,  0.       ,  0.       ,  0.       , 15.224948 ,\n",
       "        36.858112 , 19.002047 , 25.10993  , 25.110044 ,  8.303192 ,\n",
       "        12.390034 , 12.389928 , 13.229085 ,  8.302856 , 10.002762 ,\n",
       "        10.003661 ,  8.779216 , 13.833648 , 13.2297735,  0.       ,\n",
       "         0.       ,  0.       ,  0.       ,  0.       ,  0.       ,\n",
       "         0.       ,  0.       ,  0.       ,  0.       ,  0.       ,\n",
       "         0.       ,  0.       ,  0.       , 15.224948 , 15.22497  ,\n",
       "        36.858112 , 25.10993  , 25.110044 ,  8.303192 , 12.390034 ,\n",
       "        12.389928 , 13.229085 ,  8.302856 , 10.002762 , 10.003661 ,\n",
       "         8.779216 , 13.833648 , 13.2297735,  0.       ,  0.       ,\n",
       "         0.       ,  0.       ,  0.       ,  0.       ,  0.       ,\n",
       "         0.       ,  0.       ,  0.       ,  0.       ,  0.       ,\n",
       "         0.       ,  0.       , 15.224948 , 15.22497  , 19.002047 ,\n",
       "        36.858112 , 25.110044 ,  8.303192 , 12.390034 , 12.389928 ,\n",
       "        13.229085 ,  8.302856 , 10.002762 , 10.003661 ,  8.779216 ,\n",
       "        13.833648 , 13.2297735,  0.       ,  0.       ,  0.       ,\n",
       "         0.       ,  0.       ,  0.       ,  0.       ,  0.       ,\n",
       "         0.       ,  0.       ,  0.       ,  0.       ,  0.       ,\n",
       "         0.       , 15.224948 , 15.22497  , 19.002047 , 25.10993  ,\n",
       "        36.858112 ,  8.303192 , 12.390034 , 12.389928 , 13.229085 ,\n",
       "         8.302856 , 10.002762 , 10.003661 ,  8.779216 , 13.833648 ,\n",
       "        13.2297735,  0.       ,  0.       ,  0.       ,  0.       ,\n",
       "         0.       ,  0.       ,  0.       ,  0.       ,  0.       ,\n",
       "         0.       ,  0.       ,  0.       ,  0.       ,  0.       ,\n",
       "         2.5374913,  2.5374954,  3.1670077,  4.1849885,  4.1850076,\n",
       "         0.5      ,  2.0650055,  2.0649877,  2.2048473,  1.3838092,\n",
       "         1.6671268,  1.6672766,  1.4632025,  2.3056083,  2.204962 ,\n",
       "         0.       ,  0.       ,  0.       ,  0.       ,  0.       ,\n",
       "         0.       ,  0.       ,  0.       ,  0.       ,  0.       ,\n",
       "         0.       ,  0.       ,  0.       ,  0.       ,  2.5374913,\n",
       "         2.5374954,  3.1670077,  4.1849885,  4.1850076,  1.3838654,\n",
       "         0.5      ,  2.0649877,  2.2048473,  1.3838092,  1.6671268,\n",
       "         1.6672766,  1.4632025,  2.3056083,  2.204962 ,  0.       ,\n",
       "         0.       ,  0.       ,  0.       ,  0.       ,  0.       ,\n",
       "         0.       ,  0.       ,  0.       ,  0.       ,  0.       ,\n",
       "         0.       ,  0.       ,  0.       ,  2.5374913,  2.5374954,\n",
       "         3.1670077,  4.1849885,  4.1850076,  1.3838654,  2.0650055,\n",
       "         0.5      ,  2.2048473,  1.3838092,  1.6671268,  1.6672766,\n",
       "         1.4632025,  2.3056083,  2.204962 ,  0.       ,  0.       ,\n",
       "         0.       ,  0.       ,  0.       ,  0.       ,  0.       ,\n",
       "         0.       ,  0.       ,  0.       ,  0.       ,  0.       ,\n",
       "         0.       ,  0.       ,  2.5374913,  2.5374954,  3.1670077,\n",
       "         4.1849885,  4.1850076,  1.3838654,  2.0650055,  2.0649877,\n",
       "         0.5      ,  1.3838092,  1.6671268,  1.6672766,  1.4632025,\n",
       "         2.3056083,  2.204962 ,  0.       ,  0.       ,  0.       ,\n",
       "         0.       ,  0.       ,  0.       ,  0.       ,  0.       ,\n",
       "         0.       ,  0.       ,  0.       ,  0.       ,  0.       ,\n",
       "         0.       ,  2.5374913,  2.5374954,  3.1670077,  4.1849885,\n",
       "         4.1850076,  1.3838654,  2.0650055,  2.0649877,  2.2048473,\n",
       "         0.5      ,  1.6671268,  1.6672766,  1.4632025,  2.3056083,\n",
       "         2.204962 ,  0.       ,  0.       ,  0.       ,  0.       ,\n",
       "         0.       ,  0.       ,  0.       ,  0.       ,  0.       ,\n",
       "         0.       ,  0.       ,  0.       ,  0.       ,  0.       ,\n",
       "         2.5374913,  2.5374954,  3.1670077,  4.1849885,  4.1850076,\n",
       "         1.3838654,  2.0650055,  2.0649877,  2.2048473,  1.3838092,\n",
       "         0.5      ,  1.6672766,  1.4632025,  2.3056083,  2.204962 ,\n",
       "         0.       ,  0.       ,  0.       ,  0.       ,  0.       ,\n",
       "         0.       ,  0.       ,  0.       ,  0.       ,  0.       ,\n",
       "         0.       ,  0.       ,  0.       ,  0.       ,  2.5374913,\n",
       "         2.5374954,  3.1670077,  4.1849885,  4.1850076,  1.3838654,\n",
       "         2.0650055,  2.0649877,  2.2048473,  1.3838092,  1.6671268,\n",
       "         0.5      ,  1.4632025,  2.3056083,  2.204962 ,  0.       ,\n",
       "         0.       ,  0.       ,  0.       ,  0.       ,  0.       ,\n",
       "         0.       ,  0.       ,  0.       ,  0.       ,  0.       ,\n",
       "         0.       ,  0.       ,  0.       ,  2.5374913,  2.5374954,\n",
       "         3.1670077,  4.1849885,  4.1850076,  1.3838654,  2.0650055,\n",
       "         2.0649877,  2.2048473,  1.3838092,  1.6671268,  1.6672766,\n",
       "         0.5      ,  2.3056083,  2.204962 ,  0.       ,  0.       ,\n",
       "         0.       ,  0.       ,  0.       ,  0.       ,  0.       ,\n",
       "         0.       ,  0.       ,  0.       ,  0.       ,  0.       ,\n",
       "         0.       ,  0.       ,  2.5374913,  2.5374954,  3.1670077,\n",
       "         4.1849885,  4.1850076,  1.3838654,  2.0650055,  2.0649877,\n",
       "         2.2048473,  1.3838092,  1.6671268,  1.6672766,  1.4632025,\n",
       "         0.5      ,  2.204962 ,  0.       ,  0.       ,  0.       ,\n",
       "         0.       ,  0.       ,  0.       ,  0.       ,  0.       ,\n",
       "         0.       ,  0.       ,  0.       ,  0.       ,  0.       ,\n",
       "         0.       ,  2.5374913,  2.5374954,  3.1670077,  4.1849885,\n",
       "         4.1850076,  1.3838654,  2.0650055,  2.0649877,  2.2048473,\n",
       "         1.3838092,  1.6671268,  1.6672766,  1.4632025,  2.3056083,\n",
       "         0.5      ,  0.       ,  0.       ,  0.       ,  0.       ,\n",
       "         0.       ,  0.       ,  0.       ,  0.       ,  0.       ,\n",
       "         0.       ,  0.       ,  0.       ,  0.       ,  0.       ,\n",
       "         0.       ,  0.       ,  0.       ,  0.       ,  0.       ,\n",
       "         0.       ,  0.       ,  0.       ,  0.       ,  0.       ,\n",
       "         0.       ,  0.       ,  0.       ,  0.       ,  0.       ,\n",
       "         0.       ,  0.       ,  0.       ,  0.       ,  0.       ,\n",
       "         0.       ,  0.       ,  0.       ,  0.       ,  0.       ,\n",
       "         0.       ,  0.       ,  0.       ,  0.       ,  0.       ,\n",
       "         0.       ,  0.       ,  0.       ,  0.       ,  0.       ,\n",
       "         0.       ,  0.       ,  0.       ,  0.       ,  0.       ,\n",
       "         0.       ,  0.       ,  0.       ,  0.       ,  0.       ,\n",
       "         0.       ,  0.       ,  0.       ,  0.       ,  0.       ,\n",
       "         0.       ,  0.       ,  0.       ,  0.       ,  0.       ,\n",
       "         0.       ,  0.       ,  0.       ,  0.       ,  0.       ,\n",
       "         0.       ,  0.       ,  0.       ,  0.       ,  0.       ,\n",
       "         0.       ,  0.       ,  0.       ,  0.       ,  0.       ,\n",
       "         0.       ,  0.       ,  0.       ,  0.       ,  0.       ,\n",
       "         0.       ,  0.       ,  0.       ,  0.       ,  0.       ,\n",
       "         0.       ,  0.       ,  0.       ,  0.       ,  0.       ,\n",
       "         0.       ,  0.       ,  0.       ,  0.       ,  0.       ,\n",
       "         0.       ,  0.       ,  0.       ,  0.       ,  0.       ,\n",
       "         0.       ,  0.       ,  0.       ,  0.       ,  0.       ,\n",
       "         0.       ,  0.       ,  0.       ,  0.       ,  0.       ,\n",
       "         0.       ,  0.       ,  0.       ,  0.       ,  0.       ,\n",
       "         0.       ,  0.       ,  0.       ,  0.       ,  0.       ,\n",
       "         0.       ,  0.       ,  0.       ,  0.       ,  0.       ,\n",
       "         0.       ,  0.       ,  0.       ,  0.       ,  0.       ,\n",
       "         0.       ,  0.       ,  0.       ,  0.       ,  0.       ,\n",
       "         0.       ,  0.       ,  0.       ,  0.       ,  0.       ,\n",
       "         0.       ,  0.       ,  0.       ,  0.       ,  0.       ,\n",
       "         0.       ,  0.       ,  0.       ,  0.       ,  0.       ,\n",
       "         0.       ,  0.       ,  0.       ,  0.       ,  0.       ,\n",
       "         0.       ,  0.       ,  0.       ,  0.       ,  0.       ,\n",
       "         0.       ,  0.       ,  0.       ,  0.       ,  0.       ,\n",
       "         0.       ,  0.       ,  0.       ,  0.       ,  0.       ,\n",
       "         0.       ,  0.       ,  0.       ,  0.       ,  0.       ,\n",
       "         0.       ,  0.       ,  0.       ,  0.       ,  0.       ,\n",
       "         0.       ,  0.       ,  0.       ,  0.       ,  0.       ,\n",
       "         0.       ,  0.       ,  0.       ,  0.       ,  0.       ,\n",
       "         0.       ,  0.       ,  0.       ,  0.       ,  0.       ,\n",
       "         0.       ,  0.       ,  0.       ,  0.       ,  0.       ,\n",
       "         0.       ,  0.       ,  0.       ,  0.       ,  0.       ,\n",
       "         0.       ,  0.       ,  0.       ,  0.       ,  0.       ,\n",
       "         0.       ,  0.       ,  0.       ,  0.       ,  0.       ,\n",
       "         0.       ,  0.       ,  0.       ,  0.       ,  0.       ,\n",
       "         0.       ,  0.       ,  0.       ,  0.       ,  0.       ,\n",
       "         0.       ,  0.       ,  0.       ,  0.       ,  0.       ,\n",
       "         0.       ,  0.       ,  0.       ,  0.       ,  0.       ,\n",
       "         0.       ,  0.       ,  0.       ,  0.       ,  0.       ,\n",
       "         0.       ,  0.       ,  0.       ,  0.       ,  0.       ,\n",
       "         0.       ,  0.       ,  0.       ,  0.       ,  0.       ,\n",
       "         0.       ,  0.       ,  0.       ,  0.       ,  0.       ,\n",
       "         0.       ,  0.       ,  0.       ,  0.       ,  0.       ,\n",
       "         0.       ,  0.       ,  0.       ,  0.       ,  0.       ,\n",
       "         0.       ,  0.       ,  0.       ,  0.       ,  0.       ,\n",
       "         0.       ,  0.       ,  0.       ,  0.       ,  0.       ,\n",
       "         0.       ,  0.       ,  0.       ,  0.       ,  0.       ,\n",
       "         0.       ,  0.       ,  0.       ,  0.       ,  0.       ,\n",
       "         0.       ,  0.       ,  0.       ,  0.       ,  0.       ,\n",
       "         0.       ,  0.       ,  0.       ,  0.       ,  0.       ,\n",
       "         0.       ,  0.       ,  0.       ,  0.       ,  0.       ,\n",
       "         0.       ,  0.       ,  0.       ,  0.       ,  0.       ,\n",
       "         0.       ,  0.       ,  0.       ,  0.       ,  0.       ,\n",
       "         0.       ,  0.       ,  0.       ,  0.       ,  0.       ,\n",
       "         0.       ,  0.       ,  0.       ,  0.       ,  0.       ,\n",
       "         0.       ,  0.       ,  0.       ,  0.       ,  0.       ,\n",
       "         0.       ,  0.       ,  0.       ,  0.       ,  0.       ,\n",
       "         0.       ,  0.       ,  0.       ,  0.       ,  0.       ,\n",
       "         0.       ,  0.       ,  0.       ,  0.       ,  0.       ,\n",
       "         0.       ,  0.       ,  0.       ,  0.       ,  0.       ,\n",
       "         0.       ,  0.       ,  0.       ,  0.       ,  0.       ,\n",
       "         0.       ,  0.       ,  0.       ,  0.       ,  0.       ,\n",
       "         0.       ,  0.       ,  0.       ,  0.       ,  0.       ,\n",
       "         0.       ,  0.       ,  0.       ,  0.       ,  0.       ,\n",
       "         0.       ,  0.       ,  0.       ,  0.       ,  0.       ,\n",
       "         0.       ,  0.       ,  0.       ,  0.       ,  0.       ,\n",
       "         0.       ,  0.       ,  0.       ,  0.       ,  0.       ,\n",
       "         0.       ,  0.       ,  0.       ,  0.       ,  0.       ,\n",
       "         0.       ,  0.       ,  0.       ,  0.       ,  0.       ,\n",
       "         0.       ,  0.       ,  0.       ,  0.       ,  0.       ,\n",
       "         0.       ,  0.       ,  0.       ,  0.       ,  0.       ,\n",
       "         0.       ,  0.       ,  0.       ,  0.       ,  0.       ,\n",
       "         0.       ,  0.       ,  0.       ,  0.       ,  0.       ,\n",
       "         0.       ], dtype=float32),\n",
       " [],\n",
       " array([-196.40642], dtype=float32))"
      ]
     },
     "execution_count": 11,
     "metadata": {},
     "output_type": "execute_result"
    }
   ],
   "source": [
    "qm9[100]"
   ]
  },
  {
   "cell_type": "code",
   "execution_count": 12,
   "id": "c9f0426b-e8a3-468d-9a53-b726416f0178",
   "metadata": {},
   "outputs": [
    {
     "data": {
      "image/png": "[encoded data removed]",
      "text/plain": [
       "<rdkit.Chem.rdchem.Mol at 0x7f5504041f40>"
      ]
     },
     "execution_count": 12,
     "metadata": {},
     "output_type": "execute_result"
    }
   ],
   "source": [
    "mol.rdmol"
   ]
  },
  {
   "cell_type": "code",
   "execution_count": 13,
   "id": "d85d714a-d53b-4cb7-91df-fba7c338015c",
   "metadata": {},
   "outputs": [
    {
     "name": "stdout",
     "output_type": "stream",
     "text": [
      "15\n"
     ]
    }
   ],
   "source": [
    "print(mol.rdmol.GetNumAtoms())"
   ]
  },
  {
   "cell_type": "code",
   "execution_count": 16,
   "id": "7d2c9c00-55cb-4937-aa07-c689cccfbd14",
   "metadata": {},
   "outputs": [
    {
     "data": {
      "text/plain": [
       "array([[0, 1, 0, 0, 0, 1, 1, 1, 0, 0, 0, 0, 0, 0, 0],\n",
       "       [1, 0, 1, 1, 0, 0, 0, 0, 1, 0, 0, 0, 0, 0, 0],\n",
       "       [0, 1, 0, 1, 0, 0, 0, 0, 0, 0, 0, 0, 0, 0, 0],\n",
       "       [0, 1, 1, 0, 1, 0, 0, 0, 0, 0, 0, 0, 0, 0, 0],\n",
       "       [0, 0, 0, 1, 0, 0, 0, 0, 0, 0, 0, 0, 0, 0, 0],\n",
       "       [1, 0, 0, 0, 0, 0, 0, 0, 0, 0, 0, 0, 0, 0, 0],\n",
       "       [1, 0, 0, 0, 0, 0, 0, 0, 0, 0, 0, 0, 0, 0, 0],\n",
       "       [1, 0, 0, 0, 0, 0, 0, 0, 0, 0, 0, 0, 0, 0, 0],\n",
       "       [0, 1, 0, 0, 0, 0, 0, 0, 0, 0, 0, 0, 0, 0, 0],\n",
       "       [0, 0, 0, 0, 0, 0, 0, 0, 0, 0, 0, 0, 0, 0, 0],\n",
       "       [0, 0, 0, 0, 0, 0, 0, 0, 0, 0, 0, 0, 0, 0, 0],\n",
       "       [0, 0, 0, 0, 0, 0, 0, 0, 0, 0, 0, 0, 0, 0, 0],\n",
       "       [0, 0, 0, 0, 0, 0, 0, 0, 0, 0, 0, 0, 0, 0, 0],\n",
       "       [0, 0, 0, 0, 0, 0, 0, 0, 0, 0, 0, 0, 0, 0, 0],\n",
       "       [0, 0, 0, 0, 0, 0, 0, 0, 0, 0, 0, 0, 0, 0, 0]])"
      ]
     },
     "execution_count": 16,
     "metadata": {},
     "output_type": "execute_result"
    }
   ],
   "source": [
    "mol.adjacency"
   ]
  },
  {
   "cell_type": "code",
   "execution_count": 17,
   "id": "3f533c58-2d8a-4ff0-9ff1-ee9437b677ac",
   "metadata": {},
   "outputs": [
    {
     "data": {
      "text/plain": [
       "array([[0.       , 1.5131863, 2.6347182, 2.6625466, 3.170472 , 1.0938021,\n",
       "        1.0958606, 1.0961703, 2.184501 , 3.518376 , 2.8099246, 3.5231926,\n",
       "        2.8989146, 3.4661918, 4.1959505],\n",
       "       [1.5131863, 0.       , 1.511335 , 1.5137783, 2.6625347, 2.17504  ,\n",
       "        2.1594367, 2.1698775, 1.0876248, 2.2504857, 2.2265723, 2.1979764,\n",
       "        2.8586695, 3.1418269, 3.5349524],\n",
       "       [2.6347182, 1.511335 , 0.       , 1.5113318, 2.6347337, 2.8065476,\n",
       "        3.1108968, 3.5200408, 2.203751 , 1.084798 , 1.0865461, 2.2037115,\n",
       "        2.8066344, 3.5200973, 3.1107965],\n",
       "       [2.6625466, 1.5137783, 1.5113318, 0.       , 1.513185 , 2.858748 ,\n",
       "        3.535005 , 3.1417325, 2.1979527, 2.250499 , 2.2265403, 1.0876245,\n",
       "        2.1750376, 2.1698895, 2.1594207],\n",
       "       [3.170472 , 2.6625347, 2.6347337, 1.513185 , 0.       , 2.8990676,\n",
       "        4.196022 , 3.465977 , 3.5231407, 3.518416 , 2.8099022, 2.1845007,\n",
       "        1.0938014, 1.0961722, 1.0958592],\n",
       "       [1.0938021, 2.17504  , 2.8065476, 2.858748 , 2.8990676, 0.       ,\n",
       "        1.762329 , 1.7667967, 3.0968416, 3.8236144, 2.5922854, 3.881963 ,\n",
       "        2.2733989, 3.2978737, 3.8560817],\n",
       "       [1.0958606, 2.1594367, 3.1108968, 3.535005 , 4.196022 , 1.762329 ,\n",
       "        0.       , 1.7683072, 2.5294337, 3.806574 , 3.1960766, 4.3437805,\n",
       "        3.856078 , 4.557865 , 5.1744323],\n",
       "       [1.0961703, 2.1698775, 3.5200408, 3.1417325, 3.465977 , 1.7667967,\n",
       "        1.7683072, 0.       , 2.5620894, 4.385372 , 3.8100529, 3.844831 ,\n",
       "        3.2974167, 3.410265 , 4.5576377],\n",
       "       [2.184501 , 1.0876248, 2.203751 , 2.1979527, 3.5231407, 3.0968416,\n",
       "        2.5294337, 2.5620894, 0.       , 2.5028777, 3.0988271, 2.4099438,\n",
       "        3.8818488, 3.8448308, 4.3437366],\n",
       "       [3.518376 , 2.2504857, 1.084798 , 2.250499 , 3.518416 , 3.8236144,\n",
       "        3.806574 , 4.385372 , 2.5028777, 0.       , 1.8201513, 2.5028434,\n",
       "        3.8237388, 4.3854074, 3.806531 ],\n",
       "       [2.8099246, 2.2265723, 1.0865461, 2.2265403, 2.8099022, 2.5922854,\n",
       "        3.1960766, 3.8100529, 3.0988271, 1.8201513, 0.       , 3.0987523,\n",
       "        2.5923991, 3.810111 , 3.195846 ],\n",
       "       [3.5231926, 2.1979764, 2.2037115, 1.0876245, 2.1845007, 3.881963 ,\n",
       "        4.3437805, 3.844831 , 2.4099438, 2.5028434, 3.0987523, 0.       ,\n",
       "        3.0968423, 2.5620408, 2.5294785],\n",
       "       [2.8989146, 2.8586695, 2.8066344, 2.1750376, 1.0938014, 2.2733989,\n",
       "        3.856078 , 3.2974167, 3.8818488, 3.8237388, 2.5923991, 3.0968423,\n",
       "        0.       , 1.7667971, 1.7623292],\n",
       "       [3.4661918, 3.1418269, 3.5200973, 2.1698895, 1.0961722, 3.2978737,\n",
       "        4.557865 , 3.410265 , 3.8448308, 4.3854074, 3.810111 , 2.5620408,\n",
       "        1.7667971, 0.       , 1.7683084],\n",
       "       [4.1959505, 3.5349524, 3.1107965, 2.1594207, 1.0958592, 3.8560817,\n",
       "        5.1744323, 4.5576377, 4.3437366, 3.806531 , 3.195846 , 2.5294785,\n",
       "        1.7623292, 1.7683084, 0.       ]], dtype=float32)"
      ]
     },
     "execution_count": 17,
     "metadata": {},
     "output_type": "execute_result"
    }
   ],
   "source": [
    "mol.distance"
   ]
  },
  {
   "cell_type": "code",
   "execution_count": 18,
   "id": "14a74aec-bec5-44ea-bdbc-7ab397aab789",
   "metadata": {},
   "outputs": [
    {
     "data": {
      "text/plain": [
       "array([[36.858112 , 15.22497  , 19.002047 , 25.10993  , 25.110044 ,\n",
       "         8.303192 , 12.390034 , 12.389928 , 13.229085 ,  8.302856 ,\n",
       "        10.002762 , 10.003661 ,  8.779216 , 13.833648 , 13.2297735],\n",
       "       [15.224948 , 36.858112 , 19.002047 , 25.10993  , 25.110044 ,\n",
       "         8.303192 , 12.390034 , 12.389928 , 13.229085 ,  8.302856 ,\n",
       "        10.002762 , 10.003661 ,  8.779216 , 13.833648 , 13.2297735],\n",
       "       [15.224948 , 15.22497  , 36.858112 , 25.10993  , 25.110044 ,\n",
       "         8.303192 , 12.390034 , 12.389928 , 13.229085 ,  8.302856 ,\n",
       "        10.002762 , 10.003661 ,  8.779216 , 13.833648 , 13.2297735],\n",
       "       [15.224948 , 15.22497  , 19.002047 , 36.858112 , 25.110044 ,\n",
       "         8.303192 , 12.390034 , 12.389928 , 13.229085 ,  8.302856 ,\n",
       "        10.002762 , 10.003661 ,  8.779216 , 13.833648 , 13.2297735],\n",
       "       [15.224948 , 15.22497  , 19.002047 , 25.10993  , 36.858112 ,\n",
       "         8.303192 , 12.390034 , 12.389928 , 13.229085 ,  8.302856 ,\n",
       "        10.002762 , 10.003661 ,  8.779216 , 13.833648 , 13.2297735],\n",
       "       [ 2.5374913,  2.5374954,  3.1670077,  4.1849885,  4.1850076,\n",
       "         0.5      ,  2.0650055,  2.0649877,  2.2048473,  1.3838092,\n",
       "         1.6671268,  1.6672766,  1.4632025,  2.3056083,  2.204962 ],\n",
       "       [ 2.5374913,  2.5374954,  3.1670077,  4.1849885,  4.1850076,\n",
       "         1.3838654,  0.5      ,  2.0649877,  2.2048473,  1.3838092,\n",
       "         1.6671268,  1.6672766,  1.4632025,  2.3056083,  2.204962 ],\n",
       "       [ 2.5374913,  2.5374954,  3.1670077,  4.1849885,  4.1850076,\n",
       "         1.3838654,  2.0650055,  0.5      ,  2.2048473,  1.3838092,\n",
       "         1.6671268,  1.6672766,  1.4632025,  2.3056083,  2.204962 ],\n",
       "       [ 2.5374913,  2.5374954,  3.1670077,  4.1849885,  4.1850076,\n",
       "         1.3838654,  2.0650055,  2.0649877,  0.5      ,  1.3838092,\n",
       "         1.6671268,  1.6672766,  1.4632025,  2.3056083,  2.204962 ],\n",
       "       [ 2.5374913,  2.5374954,  3.1670077,  4.1849885,  4.1850076,\n",
       "         1.3838654,  2.0650055,  2.0649877,  2.2048473,  0.5      ,\n",
       "         1.6671268,  1.6672766,  1.4632025,  2.3056083,  2.204962 ],\n",
       "       [ 2.5374913,  2.5374954,  3.1670077,  4.1849885,  4.1850076,\n",
       "         1.3838654,  2.0650055,  2.0649877,  2.2048473,  1.3838092,\n",
       "         0.5      ,  1.6672766,  1.4632025,  2.3056083,  2.204962 ],\n",
       "       [ 2.5374913,  2.5374954,  3.1670077,  4.1849885,  4.1850076,\n",
       "         1.3838654,  2.0650055,  2.0649877,  2.2048473,  1.3838092,\n",
       "         1.6671268,  0.5      ,  1.4632025,  2.3056083,  2.204962 ],\n",
       "       [ 2.5374913,  2.5374954,  3.1670077,  4.1849885,  4.1850076,\n",
       "         1.3838654,  2.0650055,  2.0649877,  2.2048473,  1.3838092,\n",
       "         1.6671268,  1.6672766,  0.5      ,  2.3056083,  2.204962 ],\n",
       "       [ 2.5374913,  2.5374954,  3.1670077,  4.1849885,  4.1850076,\n",
       "         1.3838654,  2.0650055,  2.0649877,  2.2048473,  1.3838092,\n",
       "         1.6671268,  1.6672766,  1.4632025,  0.5      ,  2.204962 ],\n",
       "       [ 2.5374913,  2.5374954,  3.1670077,  4.1849885,  4.1850076,\n",
       "         1.3838654,  2.0650055,  2.0649877,  2.2048473,  1.3838092,\n",
       "         1.6671268,  1.6672766,  1.4632025,  2.3056083,  0.5      ]],\n",
       "      dtype=float32)"
      ]
     },
     "execution_count": 18,
     "metadata": {},
     "output_type": "execute_result"
    }
   ],
   "source": [
    "mol.coulomb"
   ]
  },
  {
   "cell_type": "code",
   "execution_count": null,
   "id": "19caf2a7-6353-4200-93da-3350defc2933",
   "metadata": {},
   "outputs": [],
   "source": []
  },
  {
   "cell_type": "code",
   "execution_count": null,
   "id": "153e6c3d-730f-427d-af60-6cb1ca95f5d4",
   "metadata": {},
   "outputs": [],
   "source": []
  }
 ],
 "metadata": {
  "kernelspec": {
   "display_name": "Python 3",
   "language": "python",
   "name": "python3"
  },
  "language_info": {
   "codemirror_mode": {
    "name": "ipython",
    "version": 3
   },
   "file_extension": ".py",
   "mimetype": "text/x-python",
   "name": "python",
   "nbconvert_exporter": "python",
   "pygments_lexer": "ipython3",
   "version": "3.8.12"
  }
 },
 "nbformat": 4,
 "nbformat_minor": 5
}
