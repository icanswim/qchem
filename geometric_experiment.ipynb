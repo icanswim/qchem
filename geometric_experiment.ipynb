{
 "cells": [
  {
   "cell_type": "code",
   "execution_count": 1,
   "id": "0831e844-095d-42ba-8737-07797bb242dc",
   "metadata": {},
   "outputs": [
    {
     "name": "stderr",
     "output_type": "stream",
     "text": [
      "RDKit WARNING: [13:10:38] Enabling RDKit 2019.09.3 jupyter extensions\n"
     ]
    }
   ],
   "source": [
    "import sys # required for relative imports in jupyter lab\n",
    "sys.path.insert(0, '../') \n",
    "\n",
    "from scipy.sparse import coo_matrix\n",
    "\n",
    "from dataset import QM9\n",
    "\n",
    "from torch_geometric.datasets import QM9 as TQM9\n",
    "from torch_geometric.data import Data\n",
    "\n"
   ]
  },
  {
   "cell_type": "code",
   "execution_count": 2,
   "id": "61d85e03-c457-41aa-b919-d9e17eb4e5a9",
   "metadata": {
    "tags": []
   },
   "outputs": [
    {
     "name": "stdout",
     "output_type": "stream",
     "text": [
      "creating QM9 dataset...\n",
      "QM9 molecules scanned:  1\n",
      "QM9 molecules created:  1\n",
      "total uncharacterized molecules removed:  25\n",
      "total QM9 molecules created:  975\n",
      "CDataset created...\n"
     ]
    }
   ],
   "source": [
    "ds_params = {'train_params': {'n': 1000,\n",
    "                              'features': ['atomic_numbers','n_atoms','A','B','C','mu',\n",
    "                                           'alpha','homo','lumo','gap','r2','zpve','Cv',\n",
    "                                           'mulliken','coulomb'],\n",
    "                              'embeds': ['hybrid_types','atom_types','atomic_numbers','aromatic'],\n",
    "                              'targets': ['A','B','C','mu','alpha','homo','lumo','gap','r2','zpve',\n",
    "                                          'U0','U','H','G','Cv'],\n",
    "                              'pad': None,\n",
    "                              'do_not_pad': ['U0','n_atoms','A','B','C','mu',\n",
    "                                           'alpha','homo','lumo','gap','r2','zpve','Cv'],\n",
    "                              #'filter_on': ('n_atoms','>','18'),\n",
    "                              'use_pickle': False,\n",
    "                              'flatten': True,\n",
    "                              'embed_lookup': {'H': 0, 'C': 1, 'N': 2, 'O': 3, 'F': 4,\n",
    "                                               'sp': 0, 'sp2': 1, 'sp3':2, 'na': 3,\n",
    "                                               0: 0, 1: 1, 2: 2, 3: 3, 4: 4, 5: 5, 6: 6,\n",
    "                                               7: 7, 8: 8, 9: 9, 10: 10, '0': 0}}}\n",
    "\n",
    "qm9 = QM9(**ds_params['train_params'])"
   ]
  },
  {
   "cell_type": "code",
   "execution_count": 3,
   "id": "7ff3a9a0-74e7-436d-b6c4-9c9dea697bac",
   "metadata": {},
   "outputs": [
    {
     "data": {
      "text/plain": [
       "dsgdb9nsd_000001"
      ]
     },
     "execution_count": 3,
     "metadata": {},
     "output_type": "execute_result"
    }
   ],
   "source": [
    "mol = qm9.ds[1]\n",
    "mol"
   ]
  },
  {
   "cell_type": "code",
   "execution_count": 4,
   "id": "153e6c3d-730f-427d-af60-6cb1ca95f5d4",
   "metadata": {},
   "outputs": [
    {
     "name": "stdout",
     "output_type": "stream",
     "text": [
      "  (0, 1)\t1\n",
      "  (0, 2)\t1\n",
      "  (0, 3)\t1\n",
      "  (0, 4)\t1\n",
      "  (1, 0)\t1\n",
      "  (2, 0)\t1\n",
      "  (3, 0)\t1\n",
      "  (4, 0)\t1\n",
      "[0 0 0 0 1 2 3 4]\n",
      "[1 2 3 4 0 0 0 0]\n",
      "[1 1 1 1 1 1 1 1]\n"
     ]
    }
   ],
   "source": [
    "coo = coo_matrix(mol.adjacency)\n",
    "print(coo)\n",
    "print(coo.row)\n",
    "print(coo.col)\n",
    "print(coo.data)"
   ]
  },
  {
   "cell_type": "code",
   "execution_count": 5,
   "id": "15b34a17-c751-43ad-ace6-d6483f262aba",
   "metadata": {},
   "outputs": [],
   "source": [
    "import numpy as np\n",
    "z = [mol.atomic_n[a] for a in mol.atom_types]\n",
    "z = np.asarray(z, 'int64')"
   ]
  },
  {
   "cell_type": "code",
   "execution_count": 6,
   "id": "e2f2afbf-b2d7-4223-b063-250747f56aa1",
   "metadata": {},
   "outputs": [],
   "source": [
    "import torch"
   ]
  },
  {
   "cell_type": "code",
   "execution_count": 7,
   "id": "e4793e42-8759-4d69-8bbe-887e52f13871",
   "metadata": {},
   "outputs": [],
   "source": [
    "x = torch.unsqueeze(torch.tensor(qm9[2][0]), 0)\n",
    "z = torch.tensor(z)\n",
    "y = torch.tensor(qm9[2][2])\n",
    "xyz = torch.tensor(mol.xyz)\n",
    "edge_index = torch.tensor([coo.row, coo.col]).contiguous()\n"
   ]
  },
  {
   "cell_type": "code",
   "execution_count": 8,
   "id": "d88d3a06-fd73-466e-a42b-53ff72a32b8a",
   "metadata": {},
   "outputs": [
    {
     "name": "stdout",
     "output_type": "stream",
     "text": [
      "Data(x=[1, 36], edge_index=[2, 8], y=[15], pos=[5, 3], z=[5])\n"
     ]
    }
   ],
   "source": [
    "data = Data(x=x, z=z, y=y, pos=xyz, edge_index=edge_index)\n",
    "print(data)"
   ]
  },
  {
   "cell_type": "code",
   "execution_count": 9,
   "id": "6d055835-6703-411f-accc-ea82f48d5b5d",
   "metadata": {
    "tags": []
   },
   "outputs": [
    {
     "name": "stdout",
     "output_type": "stream",
     "text": [
      "x torch.Size([1, 36])\n",
      "<class 'torch.Tensor'>\n",
      "z torch.Size([5])\n",
      "torch.int64\n",
      "y torch.Size([15])\n",
      "xyz torch.Size([5, 3])\n",
      "edge_index tensor([[0, 0, 0, 0, 1, 2, 3, 4],\n",
      "        [1, 2, 3, 4, 0, 0, 0, 0]], dtype=torch.int32)\n"
     ]
    }
   ],
   "source": [
    "print('x', x.shape)\n",
    "print(type(x))\n",
    "print('z', z.shape)\n",
    "print(z.dtype)\n",
    "print('y', y.shape)\n",
    "print('xyz', xyz.shape)\n",
    "print('edge_index', edge_index)"
   ]
  },
  {
   "cell_type": "code",
   "execution_count": 10,
   "id": "615192d4-ed5d-4627-a9a3-904369e7a95a",
   "metadata": {},
   "outputs": [
    {
     "data": {
      "text/plain": [
       "Data(x=[1, 36], edge_index=[2, 8], y=[15], pos=[5, 3], z=[5])"
      ]
     },
     "execution_count": 10,
     "metadata": {},
     "output_type": "execute_result"
    }
   ],
   "source": [
    "data"
   ]
  },
  {
   "cell_type": "code",
   "execution_count": null,
   "id": "5fa02587-32bb-437c-b097-9eaf4b22358f",
   "metadata": {},
   "outputs": [],
   "source": []
  },
  {
   "cell_type": "code",
   "execution_count": 11,
   "id": "4a361927-ae47-48b1-9fe7-c6966ae53815",
   "metadata": {},
   "outputs": [],
   "source": [
    "tqm9 = TQM9(root='./data/qm9')"
   ]
  },
  {
   "cell_type": "code",
   "execution_count": 12,
   "id": "f22ebd77-5ab4-43ff-94ea-361d85c23943",
   "metadata": {},
   "outputs": [],
   "source": [
    "graph = tqm9[0]"
   ]
  },
  {
   "cell_type": "code",
   "execution_count": 13,
   "id": "bfa11eb0-b1a0-453c-a25c-0421ac23e778",
   "metadata": {},
   "outputs": [
    {
     "data": {
      "text/plain": [
       "Data(x=[5, 11], edge_index=[2, 8], edge_attr=[8, 4], y=[1, 19], pos=[5, 3], z=[5], name='gdb_1', idx=[1])"
      ]
     },
     "execution_count": 13,
     "metadata": {},
     "output_type": "execute_result"
    }
   ],
   "source": [
    "graph"
   ]
  },
  {
   "cell_type": "code",
   "execution_count": 14,
   "id": "fc162bd2-69f5-4d86-8b91-62d8576bac84",
   "metadata": {},
   "outputs": [
    {
     "data": {
      "text/plain": [
       "8"
      ]
     },
     "execution_count": 14,
     "metadata": {},
     "output_type": "execute_result"
    }
   ],
   "source": [
    "data.num_edges"
   ]
  },
  {
   "cell_type": "code",
   "execution_count": 15,
   "id": "22517302-3caf-4b3a-8cd3-802eee75dbe5",
   "metadata": {},
   "outputs": [
    {
     "data": {
      "text/plain": [
       "36"
      ]
     },
     "execution_count": 15,
     "metadata": {},
     "output_type": "execute_result"
    }
   ],
   "source": [
    "data.num_node_features"
   ]
  },
  {
   "cell_type": "code",
   "execution_count": 16,
   "id": "53048190-0f9f-43b9-a5c1-5b2ca1225e16",
   "metadata": {},
   "outputs": [
    {
     "data": {
      "text/plain": [
       "11"
      ]
     },
     "execution_count": 16,
     "metadata": {},
     "output_type": "execute_result"
    }
   ],
   "source": [
    "graph.num_node_features"
   ]
  },
  {
   "cell_type": "code",
   "execution_count": 17,
   "id": "cc8d7468-844d-4f27-8cd2-db7ff6f01a4a",
   "metadata": {},
   "outputs": [
    {
     "data": {
      "text/plain": [
       "['z', 'x', 'y', 'edge_index', 'pos']"
      ]
     },
     "execution_count": 17,
     "metadata": {},
     "output_type": "execute_result"
    }
   ],
   "source": [
    "data.keys"
   ]
  },
  {
   "cell_type": "code",
   "execution_count": 18,
   "id": "aa778fa5-0b29-4b76-91b0-c3c44d29842f",
   "metadata": {},
   "outputs": [
    {
     "data": {
      "text/plain": [
       "['name', 'z', 'edge_attr', 'idx', 'x', 'y', 'edge_index', 'pos']"
      ]
     },
     "execution_count": 18,
     "metadata": {},
     "output_type": "execute_result"
    }
   ],
   "source": [
    "graph.keys"
   ]
  },
  {
   "cell_type": "code",
   "execution_count": 19,
   "id": "511bd0c0-d779-4465-baea-1b16f2d26f47",
   "metadata": {},
   "outputs": [
    {
     "data": {
      "text/plain": [
       "1"
      ]
     },
     "execution_count": 19,
     "metadata": {},
     "output_type": "execute_result"
    }
   ],
   "source": [
    "data.num_nodes"
   ]
  },
  {
   "cell_type": "code",
   "execution_count": 20,
   "id": "ace1d5f3-1b78-43d8-a74b-3400880ea499",
   "metadata": {},
   "outputs": [
    {
     "data": {
      "text/plain": [
       "5"
      ]
     },
     "execution_count": 20,
     "metadata": {},
     "output_type": "execute_result"
    }
   ],
   "source": [
    "graph.num_nodes"
   ]
  },
  {
   "cell_type": "code",
   "execution_count": 21,
   "id": "8e71da28-f2ba-4b3e-b057-101454cba286",
   "metadata": {},
   "outputs": [
    {
     "data": {
      "text/plain": [
       "tensor([[0., 1., 0., 0., 0., 6., 0., 0., 0., 0., 4.],\n",
       "        [1., 0., 0., 0., 0., 1., 0., 0., 0., 0., 0.],\n",
       "        [1., 0., 0., 0., 0., 1., 0., 0., 0., 0., 0.],\n",
       "        [1., 0., 0., 0., 0., 1., 0., 0., 0., 0., 0.],\n",
       "        [1., 0., 0., 0., 0., 1., 0., 0., 0., 0., 0.]])"
      ]
     },
     "execution_count": 21,
     "metadata": {},
     "output_type": "execute_result"
    }
   ],
   "source": [
    "graph.x"
   ]
  },
  {
   "cell_type": "code",
   "execution_count": 22,
   "id": "214e722e-8732-4555-932c-cea4e3623e01",
   "metadata": {},
   "outputs": [
    {
     "data": {
      "text/plain": [
       "tensor([[1., 0., 0., 0.],\n",
       "        [1., 0., 0., 0.],\n",
       "        [1., 0., 0., 0.],\n",
       "        [1., 0., 0., 0.],\n",
       "        [1., 0., 0., 0.],\n",
       "        [1., 0., 0., 0.],\n",
       "        [1., 0., 0., 0.],\n",
       "        [1., 0., 0., 0.]])"
      ]
     },
     "execution_count": 22,
     "metadata": {},
     "output_type": "execute_result"
    }
   ],
   "source": [
    "graph.edge_attr"
   ]
  },
  {
   "cell_type": "code",
   "execution_count": 23,
   "id": "97aaf7dd-2ba5-4fc8-ae73-09fa8d7339c0",
   "metadata": {},
   "outputs": [
    {
     "data": {
      "text/plain": [
       "array([[0, 1, 1, 1, 1],\n",
       "       [1, 0, 0, 0, 0],\n",
       "       [1, 0, 0, 0, 0],\n",
       "       [1, 0, 0, 0, 0],\n",
       "       [1, 0, 0, 0, 0]])"
      ]
     },
     "execution_count": 23,
     "metadata": {},
     "output_type": "execute_result"
    }
   ],
   "source": [
    "mol.adjacency"
   ]
  },
  {
   "cell_type": "code",
   "execution_count": 24,
   "id": "21846125-086c-4273-bd0d-86c0c8307c18",
   "metadata": {},
   "outputs": [
    {
     "data": {
      "text/plain": [
       "array([[36.858112 , 10.765888 , 10.765641 , 10.765863 , 10.765677 ],\n",
       "       [ 0.9157932,  0.5      ,  1.7942736,  1.7943105,  1.7942796],\n",
       "       [ 0.9157932,  1.7943147,  0.5      ,  1.7943105,  1.7942796],\n",
       "       [ 0.9157932,  1.7943147,  1.7942736,  0.5      ,  1.7942796],\n",
       "       [ 0.9157932,  1.7943147,  1.7942736,  1.7943105,  0.5      ]],\n",
       "      dtype=float32)"
      ]
     },
     "execution_count": 24,
     "metadata": {},
     "output_type": "execute_result"
    }
   ],
   "source": [
    "mol.coulomb"
   ]
  },
  {
   "cell_type": "code",
   "execution_count": 25,
   "id": "573509c5-747c-4908-908f-c934e1c4ac4a",
   "metadata": {},
   "outputs": [
    {
     "data": {
      "text/plain": [
       "array([[0.       , 1.091953 , 1.0919516, 1.0919464, 1.0919476],\n",
       "       [1.091953 , 0.       , 1.7831198, 1.7831475, 1.7831566],\n",
       "       [1.0919516, 1.7831198, 0.       , 1.7831576, 1.7831483],\n",
       "       [1.0919464, 1.7831475, 1.7831576, 0.       , 1.7831478],\n",
       "       [1.0919476, 1.7831566, 1.7831483, 1.7831478, 0.       ]],\n",
       "      dtype=float32)"
      ]
     },
     "execution_count": 25,
     "metadata": {},
     "output_type": "execute_result"
    }
   ],
   "source": [
    "mol.distance"
   ]
  },
  {
   "cell_type": "code",
   "execution_count": 26,
   "id": "0ef2a663-7f5c-474d-a6d5-0a0fde731897",
   "metadata": {},
   "outputs": [
    {
     "data": {
      "text/plain": [
       "'C\\tC\\t\\n'"
      ]
     },
     "execution_count": 26,
     "metadata": {},
     "output_type": "execute_result"
    }
   ],
   "source": [
    "mol.smile"
   ]
  },
  {
   "cell_type": "code",
   "execution_count": 27,
   "id": "35eb997d-a555-4385-8798-fc3fabd7aae8",
   "metadata": {},
   "outputs": [
    {
     "data": {
      "text/plain": [
       "tensor([ 2.9361e+02,  2.9354e+02,  1.9139e+02,  1.6256e+00,  9.4600e+00,\n",
       "        -2.5700e-01,  8.2900e-02,  3.3990e-01,  2.6156e+01,  3.4358e-02,\n",
       "        -5.6526e+01, -5.6523e+01, -5.6522e+01, -5.6545e+01,  6.3160e+00])"
      ]
     },
     "execution_count": 27,
     "metadata": {},
     "output_type": "execute_result"
    }
   ],
   "source": [
    "data.y"
   ]
  },
  {
   "cell_type": "code",
   "execution_count": 28,
   "id": "396dcdb2-0add-4637-bf17-73aff097b4f2",
   "metadata": {},
   "outputs": [
    {
     "data": {
      "text/plain": [
       "tensor([[    0.0000,    13.2100,   -10.5499,     3.1865,    13.7363,    35.3641,\n",
       "             1.2177, -1101.4878, -1101.4098, -1101.3840, -1102.0229,     6.4690,\n",
       "           -17.1722,   -17.2868,   -17.3897,   -16.1519,   157.7118,   157.7100,\n",
       "           157.7070]])"
      ]
     },
     "execution_count": 28,
     "metadata": {},
     "output_type": "execute_result"
    }
   ],
   "source": [
    "graph.y"
   ]
  },
  {
   "cell_type": "code",
   "execution_count": 29,
   "id": "5b2d13d3-51d2-42ca-9c9f-1612cc97a9f9",
   "metadata": {},
   "outputs": [
    {
     "data": {
      "text/plain": [
       "tensor([6, 1, 1, 1, 1])"
      ]
     },
     "execution_count": 29,
     "metadata": {},
     "output_type": "execute_result"
    }
   ],
   "source": [
    "data.z"
   ]
  },
  {
   "cell_type": "code",
   "execution_count": 30,
   "id": "3e8b5f47-81be-4da7-a85f-f9c5d0a702fc",
   "metadata": {},
   "outputs": [
    {
     "data": {
      "text/plain": [
       "tensor([6, 1, 1, 1, 1])"
      ]
     },
     "execution_count": 30,
     "metadata": {},
     "output_type": "execute_result"
    }
   ],
   "source": [
    "graph.z"
   ]
  },
  {
   "cell_type": "code",
   "execution_count": 31,
   "id": "fe70b62e-7cbd-445a-8db7-ebc03501434c",
   "metadata": {},
   "outputs": [
    {
     "data": {
      "text/plain": [
       "tensor([[-1.2698e-02,  1.0858e+00,  8.0010e-03],\n",
       "        [ 2.1504e-03, -6.0313e-03,  1.9761e-03],\n",
       "        [ 1.0117e+00,  1.4638e+00,  2.7657e-04],\n",
       "        [-5.4082e-01,  1.4475e+00, -8.7664e-01],\n",
       "        [-5.2381e-01,  1.4379e+00,  9.0640e-01]])"
      ]
     },
     "execution_count": 31,
     "metadata": {},
     "output_type": "execute_result"
    }
   ],
   "source": [
    "data.pos"
   ]
  },
  {
   "cell_type": "code",
   "execution_count": 32,
   "id": "7120c31f-b567-4e96-a762-5f1b3c410280",
   "metadata": {},
   "outputs": [
    {
     "data": {
      "text/plain": [
       "tensor([[-1.2700e-02,  1.0858e+00,  8.0000e-03],\n",
       "        [ 2.2000e-03, -6.0000e-03,  2.0000e-03],\n",
       "        [ 1.0117e+00,  1.4638e+00,  3.0000e-04],\n",
       "        [-5.4080e-01,  1.4475e+00, -8.7660e-01],\n",
       "        [-5.2380e-01,  1.4379e+00,  9.0640e-01]])"
      ]
     },
     "execution_count": 32,
     "metadata": {},
     "output_type": "execute_result"
    }
   ],
   "source": [
    "graph.pos"
   ]
  },
  {
   "cell_type": "code",
   "execution_count": 33,
   "id": "c5d113da-4445-40fe-bce0-717d061c436f",
   "metadata": {},
   "outputs": [
    {
     "data": {
      "text/plain": [
       "tensor([[1., 0., 0., 0.],\n",
       "        [1., 0., 0., 0.],\n",
       "        [1., 0., 0., 0.],\n",
       "        [1., 0., 0., 0.],\n",
       "        [1., 0., 0., 0.],\n",
       "        [1., 0., 0., 0.],\n",
       "        [1., 0., 0., 0.],\n",
       "        [1., 0., 0., 0.]])"
      ]
     },
     "execution_count": 33,
     "metadata": {},
     "output_type": "execute_result"
    }
   ],
   "source": [
    "graph.edge_attr"
   ]
  },
  {
   "cell_type": "code",
   "execution_count": 34,
   "id": "a25a818f-4aa3-4294-8a52-48a11d52ee57",
   "metadata": {},
   "outputs": [
    {
     "data": {
      "text/plain": [
       "tensor([[0, 0, 0, 0, 1, 2, 3, 4],\n",
       "        [1, 2, 3, 4, 0, 0, 0, 0]])"
      ]
     },
     "execution_count": 34,
     "metadata": {},
     "output_type": "execute_result"
    }
   ],
   "source": [
    "graph.edge_index"
   ]
  },
  {
   "cell_type": "code",
   "execution_count": 35,
   "id": "ad0dcb7a-b7ac-4928-83ec-e10e0322a2e7",
   "metadata": {},
   "outputs": [
    {
     "data": {
      "text/plain": [
       "tensor([[0, 0, 0, 0, 1, 2, 3, 4],\n",
       "        [1, 2, 3, 4, 0, 0, 0, 0]], dtype=torch.int32)"
      ]
     },
     "execution_count": 35,
     "metadata": {},
     "output_type": "execute_result"
    }
   ],
   "source": [
    "data.edge_index"
   ]
  },
  {
   "cell_type": "code",
   "execution_count": null,
   "id": "edebe1a5-d674-4d79-b830-267288905e6d",
   "metadata": {},
   "outputs": [],
   "source": []
  },
  {
   "cell_type": "code",
   "execution_count": null,
   "id": "e6ad779f-fee3-46e0-86d4-97d99472e1be",
   "metadata": {},
   "outputs": [],
   "source": []
  }
 ],
 "metadata": {
  "kernelspec": {
   "display_name": "Python 3",
   "language": "python",
   "name": "python3"
  },
  "language_info": {
   "codemirror_mode": {
    "name": "ipython",
    "version": 3
   },
   "file_extension": ".py",
   "mimetype": "text/x-python",
   "name": "python",
   "nbconvert_exporter": "python",
   "pygments_lexer": "ipython3",
   "version": "3.8.12"
  }
 },
 "nbformat": 4,
 "nbformat_minor": 5
}
