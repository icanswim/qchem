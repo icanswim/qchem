{
 "cells": [
  {
   "cell_type": "code",
   "execution_count": 1,
   "id": "0831e844-095d-42ba-8737-07797bb242dc",
   "metadata": {},
   "outputs": [
    {
     "name": "stderr",
     "output_type": "stream",
     "text": [
      "RDKit WARNING: [10:36:19] Enabling RDKit 2019.09.3 jupyter extensions\n"
     ]
    }
   ],
   "source": [
    "import sys # required for relative imports in jupyter lab\n",
    "sys.path.insert(0, '../') \n",
    "\n",
    "from dataset import QM9\n",
    "\n"
   ]
  },
  {
   "cell_type": "code",
   "execution_count": 2,
   "id": "61d85e03-c457-41aa-b919-d9e17eb4e5a9",
   "metadata": {
    "tags": []
   },
   "outputs": [
    {
     "name": "stdout",
     "output_type": "stream",
     "text": [
      "creating QM9 dataset...\n",
      "QM9 molecules scanned:  1\n",
      "QM9 molecules created:  1\n",
      "total uncharacterized molecules removed:  25\n",
      "total QM9 molecules created:  975\n",
      "CDataset created...\n"
     ]
    }
   ],
   "source": [
    "ds_params = {'train_params': {'n': 1000,\n",
    "                              'features': ['A','B','C','mu','alpha','homo','lumo', \n",
    "                                           'gap','r2','zpve','Cv','mulliken','coulomb'],\n",
    "                              'embeds': [],\n",
    "                              'targets': ['U0'],\n",
    "                              'pad': None, \n",
    "                              #'filter_on': ('n_atoms','>','18'),\n",
    "                              'use_pickle': False,\n",
    "                              'flatten': True}}\n",
    "\n",
    "qm9 = QM9(**ds_params['train_params'])"
   ]
  },
  {
   "cell_type": "code",
   "execution_count": 3,
   "id": "b38fc8df-3cfc-478e-951d-864b45440adc",
   "metadata": {},
   "outputs": [
    {
     "data": {
      "text/plain": [
       "[1, 2, 3, 4, 5, 6, 7, 8, 9, 10]"
      ]
     },
     "execution_count": 3,
     "metadata": {},
     "output_type": "execute_result"
    }
   ],
   "source": [
    "qm9.ds_idx[:10]"
   ]
  },
  {
   "cell_type": "code",
   "execution_count": 4,
   "id": "6a666de9-0521-4785-bcdd-dbbd0eb58659",
   "metadata": {},
   "outputs": [
    {
     "name": "stdout",
     "output_type": "stream",
     "text": [
      "./data/qm9/qm9.xyz/dsgdb9nsd_000002\n"
     ]
    }
   ],
   "source": [
    "mol = qm9.ds[2]\n",
    "print(mol)"
   ]
  },
  {
   "cell_type": "code",
   "execution_count": 5,
   "id": "4ded7768-dff1-4bdd-b6e2-6c4850356a85",
   "metadata": {
    "tags": []
   },
   "outputs": [
    {
     "data": {
      "image/png": "[encoded data removed]",
      "text/plain": [
       "<rdkit.Chem.rdchem.Mol at 0x7f963219c9a0>"
      ]
     },
     "execution_count": 5,
     "metadata": {},
     "output_type": "execute_result"
    }
   ],
   "source": [
    "mol.rdmol"
   ]
  },
  {
   "cell_type": "code",
   "execution_count": 6,
   "id": "56b664ee-599c-43ea-8093-ab37d2372c23",
   "metadata": {
    "tags": []
   },
   "outputs": [
    {
     "name": "stdout",
     "output_type": "stream",
     "text": [
      "4\n"
     ]
    }
   ],
   "source": [
    "print(mol.rdmol.GetNumAtoms())"
   ]
  },
  {
   "cell_type": "code",
   "execution_count": 7,
   "id": "70169af1-c221-45d5-ac1a-3e713375388b",
   "metadata": {
    "tags": []
   },
   "outputs": [
    {
     "name": "stdout",
     "output_type": "stream",
     "text": [
      "4\n",
      "['N', 'H', 'H', 'H']\n"
     ]
    }
   ],
   "source": [
    "print(len(mol.atom_type))\n",
    "print(mol.atom_type)"
   ]
  },
  {
   "cell_type": "code",
   "execution_count": 8,
   "id": "bdd23be4-ed82-49bf-b897-de83b60a56fe",
   "metadata": {
    "tags": []
   },
   "outputs": [
    {
     "name": "stdout",
     "output_type": "stream",
     "text": [
      "\n",
      "     RDKit          2D\n",
      "\n",
      "  4  3  0  0  0  0  0  0  0  0999 V2000\n",
      "    0.0000    0.0000    0.0000 N   0  0  0  0  0  0  0  0  0  0  0  0\n",
      "    1.2990    0.7500    0.0000 H   0  0  0  0  0  0  0  0  0  0  0  0\n",
      "   -1.2990    0.7500    0.0000 H   0  0  0  0  0  0  0  0  0  0  0  0\n",
      "   -0.0000   -1.5000    0.0000 H   0  0  0  0  0  0  0  0  0  0  0  0\n",
      "  1  2  1  0\n",
      "  1  3  1  0\n",
      "  1  4  1  0\n",
      "M  END\n",
      "\n"
     ]
    }
   ],
   "source": [
    "print(mol.mol_block)"
   ]
  },
  {
   "cell_type": "code",
   "execution_count": 9,
   "id": "f8ca7f7f-abfc-4616-a4cd-917e73900946",
   "metadata": {
    "tags": []
   },
   "outputs": [
    {
     "name": "stdout",
     "output_type": "stream",
     "text": [
      "['A', 'B', 'C', 'mu', 'alpha', 'homo', 'lumo', 'gap', 'r2', 'zpve', 'U0', 'U', 'H', 'G', 'Cv', 'smile', 'n_atoms', 'xyz', 'mulliken']\n"
     ]
    }
   ],
   "source": [
    "print(mol.properties)"
   ]
  },
  {
   "cell_type": "code",
   "execution_count": 10,
   "id": "01933769-aa8d-4fc6-882e-bdf3fb1de5e9",
   "metadata": {
    "tags": []
   },
   "outputs": [
    {
     "data": {
      "text/plain": [
       "'N\\tN\\t\\n'"
      ]
     },
     "execution_count": 10,
     "metadata": {},
     "output_type": "execute_result"
    }
   ],
   "source": [
    "mol.smile"
   ]
  },
  {
   "cell_type": "code",
   "execution_count": 11,
   "id": "315115f2-8de0-4a12-bae0-8649709023f0",
   "metadata": {
    "tags": []
   },
   "outputs": [
    {
     "data": {
      "text/plain": [
       "['4\\n',\n",
       " 'gdb 2\\t293.60975\\t293.54111\\t191.39397\\t1.6256\\t9.46\\t-0.257\\t0.0829\\t0.3399\\t26.1563\\t0.034358\\t-56.525887\\t-56.523026\\t-56.522082\\t-56.544961\\t6.316\\t\\n',\n",
       " 'N\\t-0.0404260543\\t 1.0241077531\\t 0.0625637998\\t-0.707143\\n',\n",
       " 'H\\t 0.0172574639\\t 0.0125452063\\t-0.0273771593\\t 0.235712\\n',\n",
       " 'H\\t 0.9157893661\\t 1.3587451948\\t-0.0287577581\\t 0.235712\\n',\n",
       " 'H\\t-0.5202777357\\t 1.3435321258\\t-0.7755426124\\t 0.23572\\n',\n",
       " '1103.8733\\t1684.1158\\t1684.3072\\t3458.7145\\t3575.2414\\t3575.3343\\n',\n",
       " 'N\\tN\\t\\n',\n",
       " 'InChI=1S/H3N/h1H3\\tInChI=1S/H3N/h1H3\\n']"
      ]
     },
     "execution_count": 11,
     "metadata": {},
     "output_type": "execute_result"
    }
   ],
   "source": [
    "mol.qm9_block"
   ]
  },
  {
   "cell_type": "code",
   "execution_count": 12,
   "id": "c62ab2b8-ba3d-4989-8f76-5ff80af11f09",
   "metadata": {
    "tags": []
   },
   "outputs": [
    {
     "data": {
      "text/plain": [
       "array([[-0.04042605,  1.0241077 ,  0.0625638 ],\n",
       "       [ 0.01725746,  0.01254521, -0.02737716],\n",
       "       [ 0.91578937,  1.3587452 , -0.02875776],\n",
       "       [-0.52027774,  1.3435321 , -0.7755426 ]], dtype=float32)"
      ]
     },
     "execution_count": 12,
     "metadata": {},
     "output_type": "execute_result"
    }
   ],
   "source": [
    "mol.xyz"
   ]
  },
  {
   "cell_type": "code",
   "execution_count": 13,
   "id": "7d2c9c00-55cb-4937-aa07-c689cccfbd14",
   "metadata": {
    "tags": []
   },
   "outputs": [
    {
     "name": "stdout",
     "output_type": "stream",
     "text": [
      "(4, 4)\n"
     ]
    },
    {
     "data": {
      "text/plain": [
       "array([[0, 1, 1, 1],\n",
       "       [1, 0, 0, 0],\n",
       "       [1, 0, 0, 0],\n",
       "       [1, 0, 0, 0]])"
      ]
     },
     "execution_count": 13,
     "metadata": {},
     "output_type": "execute_result"
    }
   ],
   "source": [
    "print(mol.adjacency.shape)\n",
    "mol.adjacency"
   ]
  },
  {
   "cell_type": "code",
   "execution_count": 14,
   "id": "541d89de-1baa-43ae-aa09-04badaa79e82",
   "metadata": {},
   "outputs": [],
   "source": [
    "from scipy.sparse import coo_matrix"
   ]
  },
  {
   "cell_type": "code",
   "execution_count": 15,
   "id": "12a8b893-08d1-4e73-adb3-b5f97435155b",
   "metadata": {},
   "outputs": [],
   "source": [
    "coo = coo_matrix(mol.adjacency)"
   ]
  },
  {
   "cell_type": "code",
   "execution_count": 16,
   "id": "91c79da8-e3e3-4bb2-aeb2-ff4164966cc6",
   "metadata": {},
   "outputs": [
    {
     "name": "stdout",
     "output_type": "stream",
     "text": [
      "  (0, 1)\t1\n",
      "  (0, 2)\t1\n",
      "  (0, 3)\t1\n",
      "  (1, 0)\t1\n",
      "  (2, 0)\t1\n",
      "  (3, 0)\t1\n"
     ]
    }
   ],
   "source": [
    "print(coo)"
   ]
  },
  {
   "cell_type": "code",
   "execution_count": 17,
   "id": "e6d902f9-8fee-45de-8644-ea957150683d",
   "metadata": {},
   "outputs": [],
   "source": [
    "from torch_geometric.datasets import QM9 as TQM9"
   ]
  },
  {
   "cell_type": "code",
   "execution_count": 18,
   "id": "4a361927-ae47-48b1-9fe7-c6966ae53815",
   "metadata": {},
   "outputs": [],
   "source": [
    "tqm9 = TQM9(root='./data/qm9')"
   ]
  },
  {
   "cell_type": "code",
   "execution_count": 19,
   "id": "be97e89e-f8e5-4f3a-aac4-d2e609078531",
   "metadata": {},
   "outputs": [
    {
     "data": {
      "text/plain": [
       "Data(x=[4, 11], edge_index=[2, 6], edge_attr=[6, 4], y=[1, 19], pos=[4, 3], z=[4], name='gdb_2', idx=[1])"
      ]
     },
     "execution_count": 19,
     "metadata": {},
     "output_type": "execute_result"
    }
   ],
   "source": [
    "tqm9[1]"
   ]
  },
  {
   "cell_type": "code",
   "execution_count": 20,
   "id": "71015f14-c0ac-4fda-a0c0-20e400f849c9",
   "metadata": {},
   "outputs": [
    {
     "data": {
      "text/plain": [
       "tensor([[0., 0., 1., 0., 0., 7., 0., 0., 0., 0., 3.],\n",
       "        [1., 0., 0., 0., 0., 1., 0., 0., 0., 0., 0.],\n",
       "        [1., 0., 0., 0., 0., 1., 0., 0., 0., 0., 0.],\n",
       "        [1., 0., 0., 0., 0., 1., 0., 0., 0., 0., 0.]])"
      ]
     },
     "execution_count": 20,
     "metadata": {},
     "output_type": "execute_result"
    }
   ],
   "source": [
    "tqm9[1].x"
   ]
  },
  {
   "cell_type": "code",
   "execution_count": 21,
   "id": "e3a42499-f9c2-42be-a17d-02e0523fa683",
   "metadata": {},
   "outputs": [
    {
     "data": {
      "text/plain": [
       "tensor([[0, 0, 0, 1, 2, 3],\n",
       "        [1, 2, 3, 0, 0, 0]])"
      ]
     },
     "execution_count": 21,
     "metadata": {},
     "output_type": "execute_result"
    }
   ],
   "source": [
    "tqm9[1].edge_index"
   ]
  },
  {
   "cell_type": "code",
   "execution_count": 22,
   "id": "3349d7e4-96ab-49df-ab23-1860904eb7b8",
   "metadata": {},
   "outputs": [
    {
     "data": {
      "text/plain": [
       "tensor([[1., 0., 0., 0.],\n",
       "        [1., 0., 0., 0.],\n",
       "        [1., 0., 0., 0.],\n",
       "        [1., 0., 0., 0.],\n",
       "        [1., 0., 0., 0.],\n",
       "        [1., 0., 0., 0.]])"
      ]
     },
     "execution_count": 22,
     "metadata": {},
     "output_type": "execute_result"
    }
   ],
   "source": [
    "tqm9[1].edge_attr"
   ]
  },
  {
   "cell_type": "code",
   "execution_count": 23,
   "id": "fb1ca8af-4804-4bb5-be02-f21fb5a5842f",
   "metadata": {},
   "outputs": [
    {
     "data": {
      "text/plain": [
       "tensor([[ 1.6256e+00,  9.4600e+00, -6.9933e+00,  2.2558e+00,  9.2491e+00,\n",
       "          2.6156e+01,  9.3493e-01, -1.5381e+03, -1.5381e+03, -1.5380e+03,\n",
       "         -1.5387e+03,  6.3160e+00, -1.2006e+01, -1.2082e+01, -1.2159e+01,\n",
       "         -1.1246e+01,  2.9361e+02,  2.9354e+02,  1.9139e+02]])"
      ]
     },
     "execution_count": 23,
     "metadata": {},
     "output_type": "execute_result"
    }
   ],
   "source": [
    "tqm9[1].y"
   ]
  },
  {
   "cell_type": "code",
   "execution_count": 24,
   "id": "46e9612c-0168-4cde-ad41-bdf37943f5ef",
   "metadata": {},
   "outputs": [
    {
     "data": {
      "text/plain": [
       "tensor([[-0.0404,  1.0241,  0.0626],\n",
       "        [ 0.0173,  0.0125, -0.0274],\n",
       "        [ 0.9158,  1.3587, -0.0288],\n",
       "        [-0.5203,  1.3435, -0.7755]])"
      ]
     },
     "execution_count": 24,
     "metadata": {},
     "output_type": "execute_result"
    }
   ],
   "source": [
    "tqm9[1].pos"
   ]
  },
  {
   "cell_type": "code",
   "execution_count": 25,
   "id": "b4af839f-fbb2-4cdd-8405-d23c5804e059",
   "metadata": {},
   "outputs": [
    {
     "data": {
      "text/plain": [
       "tensor([7, 1, 1, 1])"
      ]
     },
     "execution_count": 25,
     "metadata": {},
     "output_type": "execute_result"
    }
   ],
   "source": [
    "tqm9[1].z"
   ]
  },
  {
   "cell_type": "code",
   "execution_count": 26,
   "id": "e5c4022c-3a4c-425b-a9a2-11d273e896e1",
   "metadata": {},
   "outputs": [
    {
     "data": {
      "text/plain": [
       "tensor([1])"
      ]
     },
     "execution_count": 26,
     "metadata": {},
     "output_type": "execute_result"
    }
   ],
   "source": [
    "tqm9[1].idx"
   ]
  },
  {
   "cell_type": "code",
   "execution_count": 27,
   "id": "3f533c58-2d8a-4ff0-9ff1-ee9437b677ac",
   "metadata": {
    "tags": []
   },
   "outputs": [
    {
     "name": "stdout",
     "output_type": "stream",
     "text": [
      "(4, 4)\n"
     ]
    },
    {
     "data": {
      "text/plain": [
       "array([[0.       , 1.01719  , 1.0171872, 1.0172079],\n",
       "       [1.01719  , 0.       , 1.6185228, 1.6187099],\n",
       "       [1.0171872, 1.6185228, 0.       , 1.6187056],\n",
       "       [1.0172079, 1.6187099, 1.6187056, 0.       ]], dtype=float32)"
      ]
     },
     "execution_count": 27,
     "metadata": {},
     "output_type": "execute_result"
    }
   ],
   "source": [
    "print(mol.distance.shape)\n",
    "mol.distance"
   ]
  },
  {
   "cell_type": "code",
   "execution_count": 28,
   "id": "14a74aec-bec5-44ea-bdbc-7ab397aab789",
   "metadata": {
    "tags": []
   },
   "outputs": [
    {
     "name": "stdout",
     "output_type": "stream",
     "text": [
      "(4, 4)\n"
     ]
    },
    {
     "data": {
      "text/plain": [
       "array([[53.35872   , 18.940014  , 18.939964  , 18.940912  ],\n",
       "       [ 0.98309565,  0.5       ,  2.7057092 ,  2.7058449 ],\n",
       "       [ 0.98309565,  2.7057161 ,  0.5       ,  2.7058449 ],\n",
       "       [ 0.98309565,  2.7057161 ,  2.7057092 ,  0.5       ]],\n",
       "      dtype=float32)"
      ]
     },
     "execution_count": 28,
     "metadata": {},
     "output_type": "execute_result"
    }
   ],
   "source": [
    "print(mol.coulomb.shape)\n",
    "mol.coulomb"
   ]
  },
  {
   "cell_type": "code",
   "execution_count": 29,
   "id": "19caf2a7-6353-4200-93da-3350defc2933",
   "metadata": {
    "tags": []
   },
   "outputs": [
    {
     "name": "stdout",
     "output_type": "stream",
     "text": [
      "(31,)\n"
     ]
    },
    {
     "data": {
      "text/plain": [
       "(array([ 2.9360974e+02,  2.9354111e+02,  1.9139397e+02,  1.6256000e+00,\n",
       "         9.4600000e+00, -2.5700000e-01,  8.2900003e-02,  3.3989999e-01,\n",
       "         2.6156300e+01,  3.4357999e-02,  6.3160000e+00, -7.0714301e-01,\n",
       "         2.3571201e-01,  2.3571201e-01,  2.3571999e-01,  5.3358719e+01,\n",
       "         1.8940014e+01,  1.8939964e+01,  1.8940912e+01,  9.8309565e-01,\n",
       "         5.0000000e-01,  2.7057092e+00,  2.7058449e+00,  9.8309565e-01,\n",
       "         2.7057161e+00,  5.0000000e-01,  2.7058449e+00,  9.8309565e-01,\n",
       "         2.7057161e+00,  2.7057092e+00,  5.0000000e-01], dtype=float32),\n",
       " [],\n",
       " array([-56.525887], dtype=float32))"
      ]
     },
     "execution_count": 29,
     "metadata": {},
     "output_type": "execute_result"
    }
   ],
   "source": [
    "print(qm9[2][0].shape)\n",
    "qm9[2]"
   ]
  },
  {
   "cell_type": "code",
   "execution_count": null,
   "id": "153e6c3d-730f-427d-af60-6cb1ca95f5d4",
   "metadata": {},
   "outputs": [],
   "source": []
  },
  {
   "cell_type": "code",
   "execution_count": null,
   "id": "d88d3a06-fd73-466e-a42b-53ff72a32b8a",
   "metadata": {},
   "outputs": [],
   "source": []
  }
 ],
 "metadata": {
  "kernelspec": {
   "display_name": "Python 3",
   "language": "python",
   "name": "python3"
  },
  "language_info": {
   "codemirror_mode": {
    "name": "ipython",
    "version": 3
   },
   "file_extension": ".py",
   "mimetype": "text/x-python",
   "name": "python",
   "nbconvert_exporter": "python",
   "pygments_lexer": "ipython3",
   "version": "3.8.12"
  }
 },
 "nbformat": 4,
 "nbformat_minor": 5
}
