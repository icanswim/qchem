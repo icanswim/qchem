{
 "cells": [
  {
   "cell_type": "code",
   "execution_count": 1,
   "id": "0831e844-095d-42ba-8737-07797bb242dc",
   "metadata": {},
   "outputs": [
    {
     "name": "stderr",
     "output_type": "stream",
     "text": [
      "RDKit WARNING: [11:19:34] Enabling RDKit 2019.09.3 jupyter extensions\n"
     ]
    }
   ],
   "source": [
    "import sys # required for relative imports in jupyter lab\n",
    "sys.path.insert(0, '../') \n",
    "\n",
    "from scipy.sparse import coo_matrix\n",
    "import numpy as np\n",
    "\n",
    "from dataset import QM9\n",
    "\n",
    "from torch_geometric.datasets import QM9 as TQM9\n",
    "from torch_geometric.data import Data\n",
    "\n"
   ]
  },
  {
   "cell_type": "code",
   "execution_count": 2,
   "id": "61d85e03-c457-41aa-b919-d9e17eb4e5a9",
   "metadata": {
    "tags": []
   },
   "outputs": [
    {
     "name": "stdout",
     "output_type": "stream",
     "text": [
      "creating QM9 dataset...\n",
      "molecules scanned:  1\n",
      "molecules removed for no rdkit conformer:  0\n",
      "molecules created:  1\n",
      "molecules scanned:  1001\n",
      "molecules removed for no rdkit conformer:  15\n",
      "molecules created:  986\n",
      "total molecules scanned:  1015\n",
      "total molecules removed for no rdkit conformer:  15\n",
      "total uncharacterized molecules removed:  26\n",
      "total molecules created:  974\n",
      "pickling a copy of the QM9 datadic...\n",
      "CDataset created...\n"
     ]
    }
   ],
   "source": [
    "ds_params = {'train_params': {'n': 1000,\n",
    "                              'db': 'rdkit',\n",
    "                              'n_conformers': 1,\n",
    "                              'features': ['n_atoms','A','B','C','mu',\n",
    "                                           'alpha','homo','lumo','gap','r2','zpve','Cv',\n",
    "                                           'mulliken','distance','coulomb'],\n",
    "                              'embeds': ['atom_types'],\n",
    "                              'targets': ['U0'],\n",
    "                              'pad': None,\n",
    "                              'do_not_pad': ['U0','n_atoms','A','B','C','mu',\n",
    "                                             'alpha','homo','lumo','gap','r2','zpve','Cv'],\n",
    "                              #'filter_on': ('n_atoms','>','18'),\n",
    "                              'use_pickle': 'qm9_test.p',\n",
    "                              'flatten': True,\n",
    "                              'embed_lookup': {'H': 0, 'C': 1, 'N': 2, 'O': 3, 'F': 4,\n",
    "                                               'sp': 0, 'sp2': 1, 'sp3': 2, 'na': 3,\n",
    "                                               0: 0, 1: 1, 2: 2, 3: 3, 4: 4, 5: 5, 6: 6,\n",
    "                                               7: 7, 8: 8, 9: 9, 10: 10, '0': 0}}}\n",
    "\n",
    "qm9 = QM9(**ds_params['train_params'])"
   ]
  },
  {
   "cell_type": "code",
   "execution_count": 3,
   "id": "7ff3a9a0-74e7-436d-b6c4-9c9dea697bac",
   "metadata": {},
   "outputs": [
    {
     "data": {
      "text/plain": [
       "dsgdb9nsd_000004"
      ]
     },
     "execution_count": 3,
     "metadata": {},
     "output_type": "execute_result"
    }
   ],
   "source": [
    "mol = qm9.ds[4]\n",
    "mol"
   ]
  },
  {
   "cell_type": "code",
   "execution_count": 4,
   "id": "94853eae-2a16-4cbe-a910-2dda4987db4f",
   "metadata": {},
   "outputs": [
    {
     "data": {
      "text/plain": [
       "(array([ 4.0000000e+00,  0.0000000e+00,  3.5610035e+01,  3.5610035e+01,\n",
       "         0.0000000e+00,  1.6280001e+01, -2.8450000e-01,  5.0600000e-02,\n",
       "         3.3510000e-01,  5.9524799e+01,  2.6841000e-02,  8.5740004e+00,\n",
       "        -2.0701900e-01, -2.0701900e-01,  2.0701900e-01,  2.0701900e-01,\n",
       "         0.0000000e+00,  1.2198831e+00,  1.0639418e+00,  2.2811027e+00,\n",
       "         1.2198831e+00,  0.0000000e+00,  2.2838078e+00,  1.0612266e+00,\n",
       "         1.0639418e+00,  2.2838078e+00,  0.0000000e+00,  3.3450141e+00,\n",
       "         2.2811027e+00,  1.0612266e+00,  3.3450141e+00,  0.0000000e+00,\n",
       "         3.6858112e+01,  1.7582371e+01,  1.7815094e+01,  1.7858379e+01,\n",
       "         1.7575157e+01,  3.6858112e+01,  1.7815094e+01,  1.7858379e+01,\n",
       "         2.9291928e+00,  2.9303951e+00,  5.0000000e-01,  2.9763970e+00,\n",
       "         2.9291928e+00,  2.9303951e+00,  2.9691825e+00,  5.0000000e-01],\n",
       "       dtype=float32),\n",
       " [array([1, 1, 0, 0])],\n",
       " array([-77.308426], dtype=float32))"
      ]
     },
     "execution_count": 4,
     "metadata": {},
     "output_type": "execute_result"
    }
   ],
   "source": [
    "qm9[4]"
   ]
  },
  {
   "cell_type": "code",
   "execution_count": 5,
   "id": "b2e47fca-2fb1-4c9e-b729-0e22e338e0d2",
   "metadata": {},
   "outputs": [
    {
     "data": {
      "text/plain": [
       "array([[36.858112 , 17.58237  , 17.815094 , 17.85838  ],\n",
       "       [17.575157 , 36.858112 , 17.815094 , 17.85838  ],\n",
       "       [ 2.9291928,  2.9303951,  0.5      ,  2.976397 ],\n",
       "       [ 2.9291928,  2.9303951,  2.9691825,  0.5      ]], dtype=float32)"
      ]
     },
     "execution_count": 5,
     "metadata": {},
     "output_type": "execute_result"
    }
   ],
   "source": [
    "mol.coulomb"
   ]
  },
  {
   "cell_type": "code",
   "execution_count": 6,
   "id": "a4483c7a-af89-4b3e-9c2c-07d032af84f6",
   "metadata": {},
   "outputs": [
    {
     "data": {
      "text/plain": [
       "'C#C\\tC#C\\t\\n'"
      ]
     },
     "execution_count": 6,
     "metadata": {},
     "output_type": "execute_result"
    }
   ],
   "source": [
    "mol.smile"
   ]
  },
  {
   "cell_type": "code",
   "execution_count": 7,
   "id": "afb2f381-3f02-4b8c-95aa-1ffc8caa2af9",
   "metadata": {},
   "outputs": [
    {
     "data": {
      "text/plain": [
       "array([[-0.60771075,  0.58371377, -0.00612667],\n",
       "       [ 0.60878495,  0.4932123 ,  0.00177013],\n",
       "       [-1.66813387,  0.67010643, -0.00950269],\n",
       "       [ 1.66705967,  0.41504267,  0.01385922]])"
      ]
     },
     "execution_count": 7,
     "metadata": {},
     "output_type": "execute_result"
    }
   ],
   "source": [
    "mol.xyz"
   ]
  },
  {
   "cell_type": "code",
   "execution_count": 8,
   "id": "460a1c54-648a-461d-bd1f-69d5dfe55431",
   "metadata": {},
   "outputs": [
    {
     "data": {
      "text/plain": [
       "array([[ 0.5995395,  0.       ,  1.       ],\n",
       "       [-0.5995395,  0.       ,  1.       ],\n",
       "       [-1.6616386,  0.       ,  1.       ],\n",
       "       [ 1.6616386,  0.       ,  1.       ]], dtype=float32)"
      ]
     },
     "execution_count": 8,
     "metadata": {},
     "output_type": "execute_result"
    }
   ],
   "source": [
    "mol.qm9_xyz"
   ]
  },
  {
   "cell_type": "code",
   "execution_count": null,
   "id": "1e5618ff-8482-45d3-80a3-e283ce670006",
   "metadata": {},
   "outputs": [],
   "source": [
    "mol.distance"
   ]
  },
  {
   "cell_type": "code",
   "execution_count": null,
   "id": "1c32a61a-9c7e-4390-b9dd-65793f046564",
   "metadata": {},
   "outputs": [],
   "source": [
    "dir(mol)"
   ]
  },
  {
   "cell_type": "code",
   "execution_count": null,
   "id": "4c3b8580-8403-4c08-b86d-90439b58f1ba",
   "metadata": {
    "tags": []
   },
   "outputs": [],
   "source": [
    "mol.rdmol.GetNumConformers()"
   ]
  },
  {
   "cell_type": "code",
   "execution_count": null,
   "id": "e15ce08e-b82b-4beb-9e78-b3a74ceef4cc",
   "metadata": {},
   "outputs": [],
   "source": [
    "mol.rdmol"
   ]
  },
  {
   "cell_type": "code",
   "execution_count": null,
   "id": "a3ccbf5e-b0de-4147-a3a9-58a8d8879376",
   "metadata": {},
   "outputs": [],
   "source": [
    "confs = mol.rdmol.GetConformers()"
   ]
  },
  {
   "cell_type": "code",
   "execution_count": null,
   "id": "a2b98458-89d3-4ad6-ab17-b2e424e502e9",
   "metadata": {},
   "outputs": [],
   "source": [
    "confs[0].GetPositions()"
   ]
  },
  {
   "cell_type": "code",
   "execution_count": null,
   "id": "8f33a210-8e37-4c7a-9837-1dae0eba0d9f",
   "metadata": {},
   "outputs": [],
   "source": []
  },
  {
   "cell_type": "code",
   "execution_count": null,
   "id": "d61a0b4e-3756-43e6-906a-2e906f61e6d0",
   "metadata": {},
   "outputs": [],
   "source": []
  },
  {
   "cell_type": "code",
   "execution_count": null,
   "id": "d291d33a-e519-422e-b45a-4b1cec17e412",
   "metadata": {},
   "outputs": [],
   "source": []
  },
  {
   "cell_type": "code",
   "execution_count": null,
   "id": "e6ad779f-fee3-46e0-86d4-97d99472e1be",
   "metadata": {},
   "outputs": [],
   "source": []
  }
 ],
 "metadata": {
  "kernelspec": {
   "display_name": "Python 3",
   "language": "python",
   "name": "python3"
  },
  "language_info": {
   "codemirror_mode": {
    "name": "ipython",
    "version": 3
   },
   "file_extension": ".py",
   "mimetype": "text/x-python",
   "name": "python",
   "nbconvert_exporter": "python",
   "pygments_lexer": "ipython3",
   "version": "3.8.12"
  }
 },
 "nbformat": 4,
 "nbformat_minor": 5
}
