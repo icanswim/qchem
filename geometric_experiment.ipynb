{
 "cells": [
  {
   "cell_type": "code",
   "execution_count": 1,
   "id": "0831e844-095d-42ba-8737-07797bb242dc",
   "metadata": {},
   "outputs": [
    {
     "name": "stderr",
     "output_type": "stream",
     "text": [
      "RDKit WARNING: [11:18:46] Enabling RDKit 2019.09.3 jupyter extensions\n"
     ]
    }
   ],
   "source": [
    "import sys # required for relative imports in jupyter lab\n",
    "sys.path.insert(0, '../') \n",
    "\n",
    "from scipy.sparse import coo_matrix\n",
    "\n",
    "from dataset import QM9\n",
    "\n",
    "from torch_geometric.datasets import QM9 as TQM9\n",
    "from torch_geometric.data import Data\n",
    "\n"
   ]
  },
  {
   "cell_type": "code",
   "execution_count": 2,
   "id": "61d85e03-c457-41aa-b919-d9e17eb4e5a9",
   "metadata": {
    "tags": []
   },
   "outputs": [
    {
     "name": "stdout",
     "output_type": "stream",
     "text": [
      "creating QM9 dataset...\n",
      "QM9 molecules scanned:  1\n",
      "QM9 molecules created:  1\n",
      "total uncharacterized molecules removed:  25\n",
      "total QM9 molecules created:  975\n",
      "CDataset created...\n"
     ]
    }
   ],
   "source": [
    "ds_params = {'train_params': {'n': 1000,\n",
    "                              'features': ['atomic_numbers','n_atoms','A','B','C','mu',\n",
    "                                           'alpha','homo','lumo','gap','r2','zpve','Cv',\n",
    "                                           'mulliken','coulomb'],\n",
    "                              'embeds': ['hybrid_types','atom_types','atomic_numbers','aromatic'],\n",
    "                              'targets': ['U0'],\n",
    "                              'pad': 29,\n",
    "                              'do_not_pad': ['U0','n_atoms','A','B','C','mu',\n",
    "                                           'alpha','homo','lumo','gap','r2','zpve','Cv'],\n",
    "                              #'filter_on': ('n_atoms','>','18'),\n",
    "                              'use_pickle': False,\n",
    "                              'flatten': True,\n",
    "                              'embed_lookup': {'H': 0, 'C': 1, 'N': 2, 'O': 3, 'F': 4,\n",
    "                                               'sp': 0, 'sp2': 1, 'sp3':2, 'na': 3,\n",
    "                                               0: 0, 1: 1, 2: 2, 3: 3, 4: 4, 5: 5, 6: 6,\n",
    "                                               7: 7, 8: 8, 9: 9, 10: 10, '0': 0}}}\n",
    "\n",
    "qm9 = QM9(**ds_params['train_params'])"
   ]
  },
  {
   "cell_type": "code",
   "execution_count": 3,
   "id": "7ff3a9a0-74e7-436d-b6c4-9c9dea697bac",
   "metadata": {},
   "outputs": [],
   "source": [
    "mol = qm9.ds[10]"
   ]
  },
  {
   "cell_type": "code",
   "execution_count": 4,
   "id": "4a361927-ae47-48b1-9fe7-c6966ae53815",
   "metadata": {},
   "outputs": [],
   "source": [
    "tqm9 = TQM9(root='./data/qm9')"
   ]
  },
  {
   "cell_type": "code",
   "execution_count": 5,
   "id": "f22ebd77-5ab4-43ff-94ea-361d85c23943",
   "metadata": {},
   "outputs": [],
   "source": [
    "graph = tqm9[9]"
   ]
  },
  {
   "cell_type": "code",
   "execution_count": 6,
   "id": "153e6c3d-730f-427d-af60-6cb1ca95f5d4",
   "metadata": {},
   "outputs": [
    {
     "name": "stdout",
     "output_type": "stream",
     "text": [
      "  (0, 1)\t1\n",
      "  (0, 3)\t1\n",
      "  (0, 4)\t1\n",
      "  (0, 5)\t1\n",
      "  (1, 0)\t1\n",
      "  (1, 2)\t3\n",
      "  (2, 1)\t3\n",
      "  (3, 0)\t1\n",
      "  (4, 0)\t1\n",
      "  (5, 0)\t1\n",
      "[0 0 0 0 1 1 2 3 4 5]\n",
      "[1 3 4 5 0 2 1 0 0 0]\n",
      "[1 1 1 1 1 3 3 1 1 1]\n"
     ]
    }
   ],
   "source": [
    "coo = coo_matrix(mol.adjacency)\n",
    "print(coo)\n",
    "print(coo.row)\n",
    "print(coo.col)\n",
    "print(coo.data)"
   ]
  },
  {
   "cell_type": "code",
   "execution_count": 7,
   "id": "15b34a17-c751-43ad-ace6-d6483f262aba",
   "metadata": {},
   "outputs": [],
   "source": [
    "import numpy as np\n",
    "z = [mol.atomic_n[a] for a in mol.atom_types]\n",
    "z = np.asarray(z, 'int64')"
   ]
  },
  {
   "cell_type": "code",
   "execution_count": 8,
   "id": "e2f2afbf-b2d7-4223-b063-250747f56aa1",
   "metadata": {},
   "outputs": [],
   "source": [
    "import torch"
   ]
  },
  {
   "cell_type": "code",
   "execution_count": 9,
   "id": "e4793e42-8759-4d69-8bbe-887e52f13871",
   "metadata": {},
   "outputs": [],
   "source": [
    "x = torch.unsqueeze(torch.tensor(qm9[2][0]), 0)\n",
    "z = torch.tensor(z)\n",
    "y = torch.tensor(qm9[2][2])\n",
    "xyz = torch.tensor(mol.xyz)\n",
    "edge_index = torch.tensor([coo.row, coo.col]).contiguous()\n",
    "\n"
   ]
  },
  {
   "cell_type": "code",
   "execution_count": 10,
   "id": "d88d3a06-fd73-466e-a42b-53ff72a32b8a",
   "metadata": {},
   "outputs": [
    {
     "name": "stdout",
     "output_type": "stream",
     "text": [
      "Data(x=[1, 911], edge_index=[2, 10], y=[1], pos=[6, 3], z=[6])\n"
     ]
    }
   ],
   "source": [
    "data = Data(x=x, z=z, y=y, pos=xyz, edge_index=edge_index)\n",
    "print(data)"
   ]
  },
  {
   "cell_type": "code",
   "execution_count": 11,
   "id": "6d055835-6703-411f-accc-ea82f48d5b5d",
   "metadata": {
    "tags": []
   },
   "outputs": [
    {
     "name": "stdout",
     "output_type": "stream",
     "text": [
      "x torch.Size([1, 911])\n",
      "<class 'torch.Tensor'>\n",
      "z torch.Size([6])\n",
      "torch.int64\n",
      "y torch.Size([1])\n",
      "xyz torch.Size([6, 3])\n",
      "edge_index tensor([[0, 0, 0, 0, 1, 1, 2, 3, 4, 5],\n",
      "        [1, 3, 4, 5, 0, 2, 1, 0, 0, 0]], dtype=torch.int32)\n"
     ]
    }
   ],
   "source": [
    "print('x', x.shape)\n",
    "print(type(x))\n",
    "print('z', z.shape)\n",
    "print(z.dtype)\n",
    "print('y', y.shape)\n",
    "print('xyz', xyz.shape)\n",
    "print('edge_index', edge_index)"
   ]
  },
  {
   "cell_type": "code",
   "execution_count": 12,
   "id": "615192d4-ed5d-4627-a9a3-904369e7a95a",
   "metadata": {},
   "outputs": [
    {
     "data": {
      "text/plain": [
       "Data(x=[1, 911], edge_index=[2, 10], y=[1], pos=[6, 3], z=[6])"
      ]
     },
     "execution_count": 12,
     "metadata": {},
     "output_type": "execute_result"
    }
   ],
   "source": [
    "data"
   ]
  },
  {
   "cell_type": "code",
   "execution_count": 13,
   "id": "bfa11eb0-b1a0-453c-a25c-0421ac23e778",
   "metadata": {},
   "outputs": [
    {
     "data": {
      "text/plain": [
       "Data(x=[6, 11], edge_index=[2, 10], edge_attr=[10, 4], y=[1, 19], pos=[6, 3], z=[6], name='gdb_10', idx=[1])"
      ]
     },
     "execution_count": 13,
     "metadata": {},
     "output_type": "execute_result"
    }
   ],
   "source": [
    "graph"
   ]
  },
  {
   "cell_type": "code",
   "execution_count": 14,
   "id": "fc162bd2-69f5-4d86-8b91-62d8576bac84",
   "metadata": {},
   "outputs": [
    {
     "data": {
      "text/plain": [
       "10"
      ]
     },
     "execution_count": 14,
     "metadata": {},
     "output_type": "execute_result"
    }
   ],
   "source": [
    "data.num_edges"
   ]
  },
  {
   "cell_type": "code",
   "execution_count": 15,
   "id": "22517302-3caf-4b3a-8cd3-802eee75dbe5",
   "metadata": {},
   "outputs": [
    {
     "data": {
      "text/plain": [
       "911"
      ]
     },
     "execution_count": 15,
     "metadata": {},
     "output_type": "execute_result"
    }
   ],
   "source": [
    "data.num_node_features"
   ]
  },
  {
   "cell_type": "code",
   "execution_count": 16,
   "id": "53048190-0f9f-43b9-a5c1-5b2ca1225e16",
   "metadata": {},
   "outputs": [
    {
     "data": {
      "text/plain": [
       "11"
      ]
     },
     "execution_count": 16,
     "metadata": {},
     "output_type": "execute_result"
    }
   ],
   "source": [
    "graph.num_node_features"
   ]
  },
  {
   "cell_type": "code",
   "execution_count": 17,
   "id": "cc8d7468-844d-4f27-8cd2-db7ff6f01a4a",
   "metadata": {},
   "outputs": [
    {
     "data": {
      "text/plain": [
       "['y', 'x', 'z', 'pos', 'edge_index']"
      ]
     },
     "execution_count": 17,
     "metadata": {},
     "output_type": "execute_result"
    }
   ],
   "source": [
    "data.keys"
   ]
  },
  {
   "cell_type": "code",
   "execution_count": 18,
   "id": "aa778fa5-0b29-4b76-91b0-c3c44d29842f",
   "metadata": {},
   "outputs": [
    {
     "data": {
      "text/plain": [
       "['idx', 'edge_attr', 'name', 'y', 'x', 'z', 'pos', 'edge_index']"
      ]
     },
     "execution_count": 18,
     "metadata": {},
     "output_type": "execute_result"
    }
   ],
   "source": [
    "graph.keys"
   ]
  },
  {
   "cell_type": "code",
   "execution_count": 19,
   "id": "511bd0c0-d779-4465-baea-1b16f2d26f47",
   "metadata": {},
   "outputs": [
    {
     "data": {
      "text/plain": [
       "1"
      ]
     },
     "execution_count": 19,
     "metadata": {},
     "output_type": "execute_result"
    }
   ],
   "source": [
    "data.num_nodes"
   ]
  },
  {
   "cell_type": "code",
   "execution_count": 20,
   "id": "ace1d5f3-1b78-43d8-a74b-3400880ea499",
   "metadata": {},
   "outputs": [
    {
     "data": {
      "text/plain": [
       "6"
      ]
     },
     "execution_count": 20,
     "metadata": {},
     "output_type": "execute_result"
    }
   ],
   "source": [
    "graph.num_nodes"
   ]
  },
  {
   "cell_type": "code",
   "execution_count": 21,
   "id": "3e8b5f47-81be-4da7-a85f-f9c5d0a702fc",
   "metadata": {},
   "outputs": [
    {
     "data": {
      "text/plain": [
       "tensor([6, 6, 7, 1, 1, 1])"
      ]
     },
     "execution_count": 21,
     "metadata": {},
     "output_type": "execute_result"
    }
   ],
   "source": [
    "graph.z"
   ]
  },
  {
   "cell_type": "code",
   "execution_count": null,
   "id": "fe70b62e-7cbd-445a-8db7-ebc03501434c",
   "metadata": {},
   "outputs": [],
   "source": []
  }
 ],
 "metadata": {
  "kernelspec": {
   "display_name": "Python 3",
   "language": "python",
   "name": "python3"
  },
  "language_info": {
   "codemirror_mode": {
    "name": "ipython",
    "version": 3
   },
   "file_extension": ".py",
   "mimetype": "text/x-python",
   "name": "python",
   "nbconvert_exporter": "python",
   "pygments_lexer": "ipython3",
   "version": "3.8.12"
  }
 },
 "nbformat": 4,
 "nbformat_minor": 5
}
