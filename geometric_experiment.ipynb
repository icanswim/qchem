{
 "cells": [
  {
   "cell_type": "code",
   "execution_count": 1,
   "id": "0831e844-095d-42ba-8737-07797bb242dc",
   "metadata": {},
   "outputs": [
    {
     "name": "stderr",
     "output_type": "stream",
     "text": [
      "RDKit WARNING: [11:34:39] Enabling RDKit 2019.09.3 jupyter extensions\n"
     ]
    }
   ],
   "source": [
    "import sys # required for relative imports in jupyter lab\n",
    "sys.path.insert(0, '../') \n",
    "\n",
    "from dataset import QM9\n",
    "\n"
   ]
  },
  {
   "cell_type": "code",
   "execution_count": 2,
   "id": "61d85e03-c457-41aa-b919-d9e17eb4e5a9",
   "metadata": {},
   "outputs": [
    {
     "name": "stdout",
     "output_type": "stream",
     "text": [
      "creating QM9 dataset...\n",
      "QM9 molecules scanned:  1\n",
      "QM9 molecules created:  0\n",
      "QM9 molecules scanned:  10001\n",
      "QM9 molecules created:  1853\n",
      "QM9 molecules scanned:  20001\n",
      "QM9 molecules created:  4109\n",
      "QM9 molecules scanned:  30001\n",
      "QM9 molecules created:  5164\n",
      "QM9 molecules scanned:  40001\n",
      "QM9 molecules created:  8487\n",
      "QM9 molecules scanned:  50001\n",
      "QM9 molecules created:  10694\n",
      "QM9 molecules scanned:  60001\n",
      "QM9 molecules created:  15309\n",
      "QM9 molecules scanned:  70001\n",
      "QM9 molecules created:  20609\n",
      "QM9 molecules scanned:  80001\n",
      "QM9 molecules created:  25898\n",
      "QM9 molecules scanned:  90001\n",
      "QM9 molecules created:  32036\n",
      "QM9 molecules scanned:  100001\n",
      "QM9 molecules created:  38581\n",
      "QM9 molecules scanned:  110001\n",
      "QM9 molecules created:  46307\n",
      "QM9 molecules scanned:  120001\n",
      "QM9 molecules created:  54330\n",
      "QM9 molecules scanned:  130001\n",
      "QM9 molecules created:  58020\n",
      "total uncharacterized molecules removed:  467\n",
      "total QM9 molecules created:  57590\n",
      "CDataset created...\n"
     ]
    }
   ],
   "source": [
    "ds_params = {'train_params': {#'n': 10000,\n",
    "                              'features': ['A','B','C','mu','alpha','homo','lumo', \n",
    "                                           'gap','r2','zpve','Cv','mulliken','coulomb'],\n",
    "                              'embeds': [],\n",
    "                              'targets': ['U0'],\n",
    "                              'pad': 29, \n",
    "                              'filter_on': ('n_atoms','>','18'),\n",
    "                              'use_pickle': False,\n",
    "                              'flatten': True}}\n",
    "\n",
    "qm9 = QM9(**ds_params['train_params'])"
   ]
  },
  {
   "cell_type": "code",
   "execution_count": 10,
   "id": "6a666de9-0521-4785-bcdd-dbbd0eb58659",
   "metadata": {},
   "outputs": [
    {
     "name": "stdout",
     "output_type": "stream",
     "text": [
      "./data/qm9/qm9.xyz/dsgdb9nsd_001099\n"
     ]
    }
   ],
   "source": [
    "mol = qm9.ds[1099]\n",
    "print(mol)"
   ]
  },
  {
   "cell_type": "code",
   "execution_count": 11,
   "id": "4ded7768-dff1-4bdd-b6e2-6c4850356a85",
   "metadata": {},
   "outputs": [
    {
     "data": {
      "image/png": "[encoded data removed]",
      "text/plain": [
       "<rdkit.Chem.rdchem.Mol at 0x7f8c314f37c0>"
      ]
     },
     "execution_count": 11,
     "metadata": {},
     "output_type": "execute_result"
    }
   ],
   "source": [
    "mol.rdmol"
   ]
  },
  {
   "cell_type": "code",
   "execution_count": 12,
   "id": "56b664ee-599c-43ea-8093-ab37d2372c23",
   "metadata": {},
   "outputs": [
    {
     "name": "stdout",
     "output_type": "stream",
     "text": [
      "19\n"
     ]
    }
   ],
   "source": [
    "print(mol.rdmol.GetNumAtoms())"
   ]
  },
  {
   "cell_type": "code",
   "execution_count": 16,
   "id": "70169af1-c221-45d5-ac1a-3e713375388b",
   "metadata": {},
   "outputs": [
    {
     "name": "stdout",
     "output_type": "stream",
     "text": [
      "19\n",
      "['C', 'C', 'O', 'C', 'C', 'C', 'C', 'H', 'H', 'H', 'H', 'H', 'H', 'H', 'H', 'H', 'H', 'H', 'H']\n"
     ]
    }
   ],
   "source": [
    "print(len(mol.atom_type))\n",
    "print(mol.atom_type)"
   ]
  },
  {
   "cell_type": "code",
   "execution_count": 13,
   "id": "bdd23be4-ed82-49bf-b897-de83b60a56fe",
   "metadata": {},
   "outputs": [
    {
     "name": "stdout",
     "output_type": "stream",
     "text": [
      "\n",
      "     RDKit          2D\n",
      "\n",
      " 19 18  0  0  0  0  0  0  0  0999 V2000\n",
      "    1.2990    0.7500    0.0000 C   0  0  0  0  0  0  0  0  0  0  0  0\n",
      "   -0.0000    0.0000    0.0000 C   0  0  0  0  0  0  0  0  0  0  0  0\n",
      "    0.1828   -1.4888    0.0000 O   0  0  0  0  0  0  0  0  0  0  0  0\n",
      "   -1.2990    0.7500    0.0000 C   0  0  0  0  0  0  0  0  0  0  0  0\n",
      "   -2.5981    1.5000    0.0000 C   0  0  0  0  0  0  0  0  0  0  0  0\n",
      "   -2.0490   -0.5490    0.0000 C   0  0  0  0  0  0  0  0  0  0  0  0\n",
      "   -0.5490    2.0490    0.0000 C   0  0  0  0  0  0  0  0  0  0  0  0\n",
      "    2.5981    1.5000    0.0000 H   0  0  0  0  0  0  0  0  0  0  0  0\n",
      "    2.0490   -0.5490    0.0000 H   0  0  0  0  0  0  0  0  0  0  0  0\n",
      "    0.9530    1.5653    0.0000 H   0  0  0  0  0  0  0  0  0  0  0  0\n",
      "   -3.8971    2.2500    0.0000 H   0  0  0  0  0  0  0  0  0  0  0  0\n",
      "   -2.2520    2.3153    0.0000 H   0  0  0  0  0  0  0  0  0  0  0  0\n",
      "   -3.1311    0.7926    0.0000 H   0  0  0  0  0  0  0  0  0  0  0  0\n",
      "   -2.7990   -1.8481    0.0000 H   0  0  0  0  0  0  0  0  0  0  0  0\n",
      "   -0.8511   -1.4518    0.0000 H   0  0  0  0  0  0  0  0  0  0  0  0\n",
      "   -2.8644   -0.2030    0.0000 H   0  0  0  0  0  0  0  0  0  0  0  0\n",
      "    0.2010    3.3481    0.0000 H   0  0  0  0  0  0  0  0  0  0  0  0\n",
      "   -1.2564    2.5821    0.0000 H   0  0  0  0  0  0  0  0  0  0  0  0\n",
      "    0.3258    1.9105    0.0000 H   0  0  0  0  0  0  0  0  0  0  0  0\n",
      "  1  2  1  0\n",
      "  2  3  2  0\n",
      "  2  4  1  0\n",
      "  4  5  1  0\n",
      "  4  6  1  0\n",
      "  4  7  1  0\n",
      "  1  8  1  0\n",
      "  1  9  1  0\n",
      "  1 10  1  0\n",
      "  5 11  1  0\n",
      "  5 12  1  0\n",
      "  5 13  1  0\n",
      "  6 14  1  0\n",
      "  6 15  1  0\n",
      "  6 16  1  0\n",
      "  7 17  1  0\n",
      "  7 18  1  0\n",
      "  7 19  1  0\n",
      "M  END\n",
      "\n"
     ]
    }
   ],
   "source": [
    "print(mol.mol_block)"
   ]
  },
  {
   "cell_type": "code",
   "execution_count": 14,
   "id": "17fc49f1-fe44-4e0c-90a8-965367ec53b5",
   "metadata": {},
   "outputs": [
    {
     "data": {
      "text/plain": [
       "['A',\n",
       " 'B',\n",
       " 'C',\n",
       " 'Cv',\n",
       " 'G',\n",
       " 'H',\n",
       " 'U',\n",
       " 'U0',\n",
       " '__abstractmethods__',\n",
       " '__class__',\n",
       " '__delattr__',\n",
       " '__dict__',\n",
       " '__dir__',\n",
       " '__doc__',\n",
       " '__eq__',\n",
       " '__format__',\n",
       " '__ge__',\n",
       " '__getattribute__',\n",
       " '__gt__',\n",
       " '__hash__',\n",
       " '__init__',\n",
       " '__init_subclass__',\n",
       " '__le__',\n",
       " '__lt__',\n",
       " '__module__',\n",
       " '__ne__',\n",
       " '__new__',\n",
       " '__reduce__',\n",
       " '__reduce_ex__',\n",
       " '__repr__',\n",
       " '__setattr__',\n",
       " '__sizeof__',\n",
       " '__slots__',\n",
       " '__str__',\n",
       " '__subclasshook__',\n",
       " '__weakref__',\n",
       " '_abc_impl',\n",
       " 'adjacency',\n",
       " 'alpha',\n",
       " 'atom_type',\n",
       " 'atomic_n',\n",
       " 'coulomb',\n",
       " 'create_adjacency',\n",
       " 'create_coulomb',\n",
       " 'create_distance',\n",
       " 'distance',\n",
       " 'gap',\n",
       " 'homo',\n",
       " 'in_file',\n",
       " 'load_data',\n",
       " 'lumo',\n",
       " 'mol_block',\n",
       " 'mu',\n",
       " 'mulliken',\n",
       " 'n_atoms',\n",
       " 'open_file',\n",
       " 'properties',\n",
       " 'qm9_block',\n",
       " 'r2',\n",
       " 'rdmol',\n",
       " 'rdmol_from_smile',\n",
       " 'smile',\n",
       " 'sort_permute',\n",
       " 'testtesttest',\n",
       " 'xyz',\n",
       " 'zpve']"
      ]
     },
     "execution_count": 14,
     "metadata": {},
     "output_type": "execute_result"
    }
   ],
   "source": [
    "dir(mol)"
   ]
  },
  {
   "cell_type": "code",
   "execution_count": 17,
   "id": "f8ca7f7f-abfc-4616-a4cd-917e73900946",
   "metadata": {},
   "outputs": [
    {
     "data": {
      "text/plain": [
       "['A',\n",
       " 'B',\n",
       " 'C',\n",
       " 'mu',\n",
       " 'alpha',\n",
       " 'homo',\n",
       " 'lumo',\n",
       " 'gap',\n",
       " 'r2',\n",
       " 'zpve',\n",
       " 'U0',\n",
       " 'U',\n",
       " 'H',\n",
       " 'G',\n",
       " 'Cv',\n",
       " 'smile',\n",
       " 'n_atoms',\n",
       " 'xyz',\n",
       " 'mulliken']"
      ]
     },
     "execution_count": 17,
     "metadata": {},
     "output_type": "execute_result"
    }
   ],
   "source": [
    "mol.properties"
   ]
  },
  {
   "cell_type": "code",
   "execution_count": 18,
   "id": "01933769-aa8d-4fc6-882e-bdf3fb1de5e9",
   "metadata": {},
   "outputs": [
    {
     "data": {
      "text/plain": [
       "'CC(=O)C(C)(C)C\\tCC(=O)C(C)(C)C\\t\\n'"
      ]
     },
     "execution_count": 18,
     "metadata": {},
     "output_type": "execute_result"
    }
   ],
   "source": [
    "mol.smile"
   ]
  },
  {
   "cell_type": "code",
   "execution_count": 19,
   "id": "315115f2-8de0-4a12-bae0-8649709023f0",
   "metadata": {},
   "outputs": [
    {
     "data": {
      "text/plain": [
       "['19\\n',\n",
       " 'gdb 1099\\t3.17463\\t2.2915\\t1.90776\\t2.5974\\t67.15\\t-0.2367\\t-0.0077\\t0.229\\t809.0495\\t0.168115\\t-310.952875\\t-310.943784\\t-310.94284\\t-310.985913\\t32.977\\t\\n',\n",
       " 'C\\t-0.0040355007\\t 1.5089787096\\t-0.1330894523\\t-0.484571\\n',\n",
       " 'C\\t 0.0318643025\\t 0.0046560561\\t 0.1004063516\\t 0.383087\\n',\n",
       " 'O\\t 1.0804310382\\t-0.5516451814\\t 0.3362134782\\t-0.309463\\n',\n",
       " 'C\\t-1.2964503449\\t-0.7796602272\\t 0.0395127342\\t 0.158294\\n',\n",
       " 'C\\t-0.9938985841\\t-2.2821121803\\t-0.0593903719\\t-0.395991\\n',\n",
       " 'C\\t-2.0651271374\\t-0.4942770282\\t 1.351743054\\t-0.411152\\n',\n",
       " 'C\\t-2.1468651931\\t-0.3314430173\\t-1.1656293086\\t-0.419399\\n',\n",
       " 'H\\t 0.9379618778\\t 1.9427439529\\t 0.2046151921\\t 0.141038\\n',\n",
       " 'H\\t-0.118014169\\t 1.7109747855\\t-1.2042802124\\t 0.145316\\n',\n",
       " 'H\\t-0.8434563641\\t 1.9923198244\\t 0.3741213485\\t 0.13278\\n',\n",
       " 'H\\t-0.370417\\t-2.6119215806\\t 0.7737596185\\t 0.129697\\n',\n",
       " 'H\\t-1.9263457326\\t-2.855939226\\t-0.0512263605\\t 0.101147\\n',\n",
       " 'H\\t-0.4555949002\\t-2.5158840365\\t-0.9826391789\\t 0.115577\\n',\n",
       " 'H\\t-2.3158512251\\t 0.5652680114\\t 1.4621433409\\t 0.11398\\n',\n",
       " 'H\\t-3.0037096768\\t-1.0585017983\\t 1.3603647863\\t 0.119698\\n',\n",
       " 'H\\t-1.4802006499\\t-0.7996311274\\t 2.2248742885\\t 0.127912\\n',\n",
       " 'H\\t-1.6159187246\\t-0.4890167415\\t-2.1105904025\\t 0.118776\\n',\n",
       " 'H\\t-3.0716931561\\t-0.9164829023\\t-1.2047871705\\t 0.118778\\n',\n",
       " 'H\\t-2.4281903399\\t 0.7237860771\\t-1.1053042153\\t 0.114492\\n',\n",
       " '48.2926\\t143.8982\\t191.8451\\t221.5225\\t256.256\\t261.3741\\t279.3179\\t342.701\\t357.5184\\t369.0458\\t454.79\\t552.9584\\t610.3882\\t667.807\\t833.1966\\t936.2053\\t943.2113\\t953.4054\\t962.7338\\t991.9146\\t1054.6713\\t1068.589\\t1152.8749\\t1223.3127\\t1246.9706\\t1290.8778\\t1380.3629\\t1395.0432\\t1399.802\\t1429.9936\\t1461.765\\t1475.7458\\t1478.3731\\t1483.1328\\t1487.8803\\t1500.5811\\t1506.1294\\t1518.7452\\t1800.1271\\t3029.9935\\t3032.1795\\t3041.5061\\t3043.4924\\t3096.3217\\t3099.4476\\t3106.135\\t3108.0431\\t3108.6479\\t3110.8747\\t3132.4151\\t3151.6373\\n',\n",
       " 'CC(=O)C(C)(C)C\\tCC(=O)C(C)(C)C\\t\\n',\n",
       " 'InChI=1S/C6H12O/c1-5(7)6(2,3)4/h1-4H3\\tInChI=1S/C6H12O/c1-5(7)6(2,3)4/h1-4H3\\n']"
      ]
     },
     "execution_count": 19,
     "metadata": {},
     "output_type": "execute_result"
    }
   ],
   "source": [
    "mol.qm9_block"
   ]
  },
  {
   "cell_type": "code",
   "execution_count": 20,
   "id": "c62ab2b8-ba3d-4989-8f76-5ff80af11f09",
   "metadata": {},
   "outputs": [
    {
     "data": {
      "text/plain": [
       "[array([-0.0040355 ,  1.5089787 , -0.13308945], dtype=float32),\n",
       " array([0.0318643 , 0.00465606, 0.10040635], dtype=float32),\n",
       " array([ 1.080431  , -0.55164516,  0.33621347], dtype=float32),\n",
       " array([-1.2964504 , -0.7796602 ,  0.03951273], dtype=float32),\n",
       " array([-0.9938986 , -2.2821121 , -0.05939037], dtype=float32),\n",
       " array([-2.0651271 , -0.49427703,  1.3517431 ], dtype=float32),\n",
       " array([-2.1468651, -0.331443 , -1.1656293], dtype=float32),\n",
       " array([0.9379619 , 1.9427439 , 0.20461519], dtype=float32),\n",
       " array([-0.11801417,  1.7109748 , -1.2042803 ], dtype=float32),\n",
       " array([-0.8434564 ,  1.9923198 ,  0.37412134], dtype=float32),\n",
       " array([-0.370417 , -2.6119215,  0.7737596], dtype=float32),\n",
       " array([-1.9263457 , -2.8559391 , -0.05122636], dtype=float32),\n",
       " array([-0.4555949, -2.515884 , -0.9826392], dtype=float32),\n",
       " array([-2.3158512 ,  0.56526804,  1.4621433 ], dtype=float32),\n",
       " array([-3.0037098, -1.0585018,  1.3603648], dtype=float32),\n",
       " array([-1.4802006, -0.7996311,  2.2248743], dtype=float32),\n",
       " array([-1.6159188 , -0.48901674, -2.1105905 ], dtype=float32),\n",
       " array([-3.0716932, -0.9164829, -1.2047871], dtype=float32),\n",
       " array([-2.4281902 ,  0.72378606, -1.1053042 ], dtype=float32)]"
      ]
     },
     "execution_count": 20,
     "metadata": {},
     "output_type": "execute_result"
    }
   ],
   "source": [
    "mol.xyz"
   ]
  },
  {
   "cell_type": "code",
   "execution_count": 21,
   "id": "7d2c9c00-55cb-4937-aa07-c689cccfbd14",
   "metadata": {},
   "outputs": [
    {
     "name": "stdout",
     "output_type": "stream",
     "text": [
      "(19, 19)\n"
     ]
    },
    {
     "data": {
      "text/plain": [
       "array([[0, 1, 0, 0, 0, 0, 0, 1, 1, 0, 0, 0, 0, 0, 0, 0, 0, 0, 0],\n",
       "       [1, 0, 2, 1, 0, 0, 0, 0, 0, 0, 0, 0, 0, 0, 0, 0, 0, 0, 0],\n",
       "       [0, 2, 0, 0, 0, 0, 0, 0, 0, 0, 0, 0, 0, 0, 0, 0, 0, 0, 0],\n",
       "       [0, 1, 0, 0, 1, 1, 1, 0, 0, 0, 0, 0, 0, 0, 0, 0, 0, 0, 0],\n",
       "       [0, 0, 0, 1, 0, 0, 0, 0, 0, 0, 0, 0, 0, 0, 0, 0, 0, 0, 0],\n",
       "       [0, 0, 0, 1, 0, 0, 0, 0, 0, 0, 0, 0, 0, 0, 0, 0, 0, 0, 0],\n",
       "       [0, 0, 0, 1, 0, 0, 0, 0, 0, 0, 0, 0, 0, 0, 0, 0, 0, 0, 0],\n",
       "       [1, 0, 0, 0, 0, 0, 0, 0, 0, 0, 0, 0, 0, 0, 0, 0, 0, 0, 0],\n",
       "       [1, 0, 0, 0, 0, 0, 0, 0, 0, 0, 0, 0, 0, 0, 0, 0, 0, 0, 0],\n",
       "       [0, 0, 0, 0, 0, 0, 0, 0, 0, 0, 0, 0, 0, 0, 0, 0, 0, 0, 0],\n",
       "       [0, 0, 0, 0, 0, 0, 0, 0, 0, 0, 0, 0, 0, 0, 0, 0, 0, 0, 0],\n",
       "       [0, 0, 0, 0, 0, 0, 0, 0, 0, 0, 0, 0, 0, 0, 0, 0, 0, 0, 0],\n",
       "       [0, 0, 0, 0, 0, 0, 0, 0, 0, 0, 0, 0, 0, 0, 0, 0, 0, 0, 0],\n",
       "       [0, 0, 0, 0, 0, 0, 0, 0, 0, 0, 0, 0, 0, 0, 0, 0, 0, 0, 0],\n",
       "       [0, 0, 0, 0, 0, 0, 0, 0, 0, 0, 0, 0, 0, 0, 0, 0, 0, 0, 0],\n",
       "       [0, 0, 0, 0, 0, 0, 0, 0, 0, 0, 0, 0, 0, 0, 0, 0, 0, 0, 0],\n",
       "       [0, 0, 0, 0, 0, 0, 0, 0, 0, 0, 0, 0, 0, 0, 0, 0, 0, 0, 0],\n",
       "       [0, 0, 0, 0, 0, 0, 0, 0, 0, 0, 0, 0, 0, 0, 0, 0, 0, 0, 0],\n",
       "       [0, 0, 0, 0, 0, 0, 0, 0, 0, 0, 0, 0, 0, 0, 0, 0, 0, 0, 0]])"
      ]
     },
     "execution_count": 21,
     "metadata": {},
     "output_type": "execute_result"
    }
   ],
   "source": [
    "print(mol.adjacency.shape)\n",
    "mol.adjacency"
   ]
  },
  {
   "cell_type": "code",
   "execution_count": 22,
   "id": "3f533c58-2d8a-4ff0-9ff1-ee9437b677ac",
   "metadata": {},
   "outputs": [
    {
     "name": "stdout",
     "output_type": "stream",
     "text": [
      "(19, 19)\n"
     ]
    },
    {
     "data": {
      "text/plain": [
       "array([[0.       , 1.5227593, 2.3753912, 2.6340077, 3.9188812, 3.2350981,\n",
       "        3.0074923, 1.0906676, 1.0960125, 1.0933932, 4.2353783, 4.7701664,\n",
       "        4.1382556, 2.9630811, 4.2214227, 3.6150706, 3.2404728, 4.0548644,\n",
       "        2.7273164],\n",
       "       [1.5227593, 0.       , 1.2101934, 1.5437875, 2.5113807, 2.4924188,\n",
       "        2.5421784, 2.141975 , 2.1531825, 2.189044 , 2.7316136, 3.4699545,\n",
       "        2.7863464, 2.7713501, 3.4543467, 2.7288427, 2.8013227, 3.4905725,\n",
       "        2.8324468],\n",
       "       [2.3753912, 1.2101934, 0.       , 2.406156 , 2.730176 , 3.305923 ,\n",
       "        3.5664353, 2.5019178, 2.9881165, 3.189755 , 2.5575662, 3.8079636,\n",
       "        2.8208122, 3.7483258, 4.2409897, 3.1914527, 3.6415758, 4.443864 ,\n",
       "        4.0018897],\n",
       "       [2.6340077, 1.5437875, 2.406156 , 0.       , 1.5357999, 1.5473384,\n",
       "        1.5415808, 3.5258107, 3.0230772, 2.828611 , 2.1803298, 2.1716206,\n",
       "        2.183187 , 2.2072353, 2.1764965, 2.1931639, 2.193052 , 2.1722085,\n",
       "        2.2026782],\n",
       "       [3.9188812, 2.5113807, 2.730176 , 1.5357999, 0.       , 2.516979 ,\n",
       "        2.5215485, 4.6530843, 4.2453136, 4.298992 , 1.0916238, 1.0948981,\n",
       "        1.0939875, 3.488581 , 2.748139 , 2.7662437, 2.794552 , 2.7375367,\n",
       "        3.4909244],\n",
       "       [3.2350981, 2.4924188, 3.305923 , 1.5473384, 2.516979 , 0.       ,\n",
       "        2.5239573, 4.0340447, 3.8971324, 2.9379222, 2.7731798, 2.7504601,\n",
       "        3.4823596, 1.0943886, 1.0951536, 1.0944122, 3.4913564, 2.7797985,\n",
       "        2.7663286],\n",
       "       [3.0074923, 2.5421784, 3.5664353, 1.5415808, 2.5215485, 2.5239573,\n",
       "        0.       , 4.0700927, 2.8790972, 3.0772684, 3.4810314, 2.7683215,\n",
       "        2.7686932, 2.7816966, 2.7646778, 3.486998 , 1.0953014, 1.0950397,\n",
       "        1.0937511],\n",
       "       [1.0906676, 2.141975 , 2.5019178, 3.5258107, 4.6530843, 4.0340447,\n",
       "        4.0700927, 0.       , 1.775891 , 1.7901511, 4.772919 , 5.5943785,\n",
       "        4.819848 , 3.750482 , 5.0872397, 4.177269 , 4.218524 , 5.1223946,\n",
       "        3.8121815],\n",
       "       [1.0960125, 2.1531825, 2.9881165, 3.0230772, 4.2453136, 3.8971324,\n",
       "        2.8790972, 1.775891 , 0.       , 1.759765 , 4.760649 , 5.0454235,\n",
       "        4.2461066, 3.6404595, 4.7512784, 4.4629354, 2.8115973, 3.9531953,\n",
       "        2.51421  ],\n",
       "       [1.0933932, 2.189044 , 3.189755 , 2.828611 , 4.298992 , 2.9379222,\n",
       "        3.0772684, 1.7901511, 1.759765 , 0.       , 4.6456985, 4.9858985,\n",
       "        4.72389  , 2.3212528, 3.86612  , 3.409651 , 3.5954864, 3.9898777,\n",
       "        2.511824 ],\n",
       "       [4.2353783, 2.7316136, 2.5575662, 2.1803298, 1.0916238, 2.7731798,\n",
       "        3.4810314, 4.772919 , 4.760649 , 4.6456985, 0.       , 1.7779372,\n",
       "        1.7610835, 3.788551 , 3.1131094, 2.573276 , 3.791764 , 3.753139 ,\n",
       "        4.3465223],\n",
       "       [4.7701664, 3.4699545, 3.8079636, 2.1716206, 1.0948981, 2.7504601,\n",
       "        2.7683215, 5.5943785, 5.0454235, 4.9858985, 1.7779372, 0.       ,\n",
       "        1.7737744, 3.7612047, 2.5266745, 3.0996907, 3.1527238, 2.5306153,\n",
       "        3.7652836],\n",
       "       [4.1382556, 2.7863464, 2.8208122, 2.183187 , 1.0939875, 3.4823596,\n",
       "        2.7686932, 4.819848 , 4.2461066, 4.72389  , 1.7610835, 1.7737744,\n",
       "        0.       , 4.3509784, 3.7558646, 3.7793496, 2.5936105, 3.0743134,\n",
       "        3.7949493],\n",
       "       [2.9630811, 2.7713501, 3.7483258, 2.2072353, 3.488581 , 1.0943886,\n",
       "        2.7816966, 3.750482 , 3.6404595, 2.3212528, 3.788551 , 3.7612047,\n",
       "        4.3509784, 0.       , 1.7663909, 1.7728565, 3.7902308, 3.1431515,\n",
       "        2.5747883],\n",
       "       [4.2214227, 3.4543467, 4.2409897, 2.1764965, 2.748139 , 1.0951536,\n",
       "        2.7646778, 5.0872397, 4.7512784, 3.86612  , 3.1131094, 2.5266745,\n",
       "        3.7558646, 1.7663909, 0.       , 1.7707261, 3.7812443, 2.5699797,\n",
       "        3.0963361],\n",
       "       [3.6150706, 2.7288427, 3.1914527, 2.1931639, 2.7662437, 1.0944122,\n",
       "        3.486998 , 4.177269 , 4.4629354, 3.409651 , 2.573276 , 3.0996907,\n",
       "        3.7793496, 1.7728565, 1.7707261, 0.       , 4.3486958, 3.7827344,\n",
       "        3.7827997],\n",
       "       [3.2404728, 2.8013227, 3.6415758, 2.193052 , 2.794552 , 3.4913564,\n",
       "        1.0953014, 4.218524 , 2.8115973, 3.5954864, 3.791764 , 3.1527238,\n",
       "        2.5936105, 3.7902308, 3.7812443, 4.3486958, 0.       , 1.7670557,\n",
       "        1.7723645],\n",
       "       [4.0548644, 3.4905725, 4.443864 , 2.1722085, 2.7375367, 2.7797985,\n",
       "        1.0950397, 5.1223946, 3.9531953, 3.9898777, 3.753139 , 2.5306153,\n",
       "        3.0743134, 3.1431515, 2.5699797, 3.7827344, 1.7670557, 0.       ,\n",
       "        1.7647876],\n",
       "       [2.7273164, 2.8324468, 4.0018897, 2.2026782, 3.4909244, 2.7663286,\n",
       "        1.0937511, 3.8121815, 2.51421  , 2.511824 , 4.3465223, 3.7652836,\n",
       "        3.7949493, 2.5747883, 3.0963361, 3.7827997, 1.7723645, 1.7647876,\n",
       "        0.       ]], dtype=float32)"
      ]
     },
     "execution_count": 22,
     "metadata": {},
     "output_type": "execute_result"
    }
   ],
   "source": [
    "print(mol.distance.shape)\n",
    "mol.distance"
   ]
  },
  {
   "cell_type": "code",
   "execution_count": 23,
   "id": "14a74aec-bec5-44ea-bdbc-7ab397aab789",
   "metadata": {},
   "outputs": [
    {
     "name": "stdout",
     "output_type": "stream",
     "text": [
      "(19, 19)\n"
     ]
    },
    {
     "data": {
      "text/plain": [
       "array([[73.51671  , 19.87562  , 20.53141  , 20.712885 , 20.248373 ,\n",
       "        42.82929  , 47.200573 , 15.554768 , 12.254287 , 16.36328  ,\n",
       "        21.479158 , 11.835124 , 12.408402 , 19.376307 , 14.708187 ,\n",
       "        18.343002 , 18.38518  , 15.492765 , 14.968429 ],\n",
       "       [10.920255 , 36.858112 , 15.39856  , 15.534663 , 15.186278 ,\n",
       "        32.121975 , 35.400417 , 11.666077 ,  9.190713 , 12.272461 ,\n",
       "        16.109371 ,  8.876344 ,  9.306303 , 14.532232 , 11.031143 ,\n",
       "        13.757251 , 13.788888 , 11.619575 , 11.226324 ],\n",
       "       [10.920255 , 14.906714 , 36.858112 , 15.534663 , 15.186278 ,\n",
       "        32.121975 , 35.400417 , 11.666077 ,  9.190713 , 12.272461 ,\n",
       "        16.109371 ,  8.876344 ,  9.306303 , 14.532232 , 11.031143 ,\n",
       "        13.757251 , 13.788888 , 11.619575 , 11.226324 ],\n",
       "       [10.920255 , 14.906714 , 15.39856  , 36.858112 , 15.186278 ,\n",
       "        32.121975 , 35.400417 , 11.666077 ,  9.190713 , 12.272461 ,\n",
       "        16.109371 ,  8.876344 ,  9.306303 , 14.532232 , 11.031143 ,\n",
       "        13.757251 , 13.788888 , 11.619575 , 11.226324 ],\n",
       "       [10.920255 , 14.906714 , 15.39856  , 15.534663 , 36.858112 ,\n",
       "        32.121975 , 35.400417 , 11.666077 ,  9.190713 , 12.272461 ,\n",
       "        16.109371 ,  8.876344 ,  9.306303 , 14.532232 , 11.031143 ,\n",
       "        13.757251 , 13.788888 , 11.619575 , 11.226324 ],\n",
       "       [10.920255 , 14.906714 , 15.39856  , 15.534663 , 15.186278 ,\n",
       "        36.858112 , 35.400417 , 11.666077 ,  9.190713 , 12.272461 ,\n",
       "        16.109371 ,  8.876344 ,  9.306303 , 14.532232 , 11.031143 ,\n",
       "        13.757251 , 13.788888 , 11.619575 , 11.226324 ],\n",
       "       [10.920255 , 14.906714 , 15.39856  , 15.534663 , 15.186278 ,\n",
       "        32.121975 , 36.858112 , 11.666077 ,  9.190713 , 12.272461 ,\n",
       "        16.109371 ,  8.876344 ,  9.306303 , 14.532232 , 11.031143 ,\n",
       "        13.757251 , 13.788888 , 11.619575 , 11.226324 ],\n",
       "       [ 1.8200428,  2.4844525,  2.5664263,  2.5891106,  2.5310466,\n",
       "         5.353661 ,  5.9000716,  0.5      ,  1.5317858,  2.04541  ,\n",
       "         2.6848948,  1.4793905,  1.5510503,  2.4220383,  1.8385234,\n",
       "         2.2928753,  2.2981474,  1.9365957,  1.8710536],\n",
       "       [ 1.8200428,  2.4844525,  2.5664263,  2.5891106,  2.5310466,\n",
       "         5.353661 ,  5.9000716,  1.944346 ,  0.5      ,  2.04541  ,\n",
       "         2.6848948,  1.4793905,  1.5510503,  2.4220383,  1.8385234,\n",
       "         2.2928753,  2.2981474,  1.9365957,  1.8710536],\n",
       "       [ 1.8200428,  2.4844525,  2.5664263,  2.5891106,  2.5310466,\n",
       "         5.353661 ,  5.9000716,  1.944346 ,  1.5317858,  0.5      ,\n",
       "         2.6848948,  1.4793905,  1.5510503,  2.4220383,  1.8385234,\n",
       "         2.2928753,  2.2981474,  1.9365957,  1.8710536],\n",
       "       [ 1.8200428,  2.4844525,  2.5664263,  2.5891106,  2.5310466,\n",
       "         5.353661 ,  5.9000716,  1.944346 ,  1.5317858,  2.04541  ,\n",
       "         0.5      ,  1.4793905,  1.5510503,  2.4220383,  1.8385234,\n",
       "         2.2928753,  2.2981474,  1.9365957,  1.8710536],\n",
       "       [ 1.8200428,  2.4844525,  2.5664263,  2.5891106,  2.5310466,\n",
       "         5.353661 ,  5.9000716,  1.944346 ,  1.5317858,  2.04541  ,\n",
       "         2.6848948,  0.5      ,  1.5510503,  2.4220383,  1.8385234,\n",
       "         2.2928753,  2.2981474,  1.9365957,  1.8710536],\n",
       "       [ 1.8200428,  2.4844525,  2.5664263,  2.5891106,  2.5310466,\n",
       "         5.353661 ,  5.9000716,  1.944346 ,  1.5317858,  2.04541  ,\n",
       "         2.6848948,  1.4793905,  0.5      ,  2.4220383,  1.8385234,\n",
       "         2.2928753,  2.2981474,  1.9365957,  1.8710536],\n",
       "       [ 1.8200428,  2.4844525,  2.5664263,  2.5891106,  2.5310466,\n",
       "         5.353661 ,  5.9000716,  1.944346 ,  1.5317858,  2.04541  ,\n",
       "         2.6848948,  1.4793905,  1.5510503,  0.5      ,  1.8385234,\n",
       "         2.2928753,  2.2981474,  1.9365957,  1.8710536],\n",
       "       [ 1.8200428,  2.4844525,  2.5664263,  2.5891106,  2.5310466,\n",
       "         5.353661 ,  5.9000716,  1.944346 ,  1.5317858,  2.04541  ,\n",
       "         2.6848948,  1.4793905,  1.5510503,  2.4220383,  0.5      ,\n",
       "         2.2928753,  2.2981474,  1.9365957,  1.8710536],\n",
       "       [ 1.8200428,  2.4844525,  2.5664263,  2.5891106,  2.5310466,\n",
       "         5.353661 ,  5.9000716,  1.944346 ,  1.5317858,  2.04541  ,\n",
       "         2.6848948,  1.4793905,  1.5510503,  2.4220383,  1.8385234,\n",
       "         0.5      ,  2.2981474,  1.9365957,  1.8710536],\n",
       "       [ 1.8200428,  2.4844525,  2.5664263,  2.5891106,  2.5310466,\n",
       "         5.353661 ,  5.9000716,  1.944346 ,  1.5317858,  2.04541  ,\n",
       "         2.6848948,  1.4793905,  1.5510503,  2.4220383,  1.8385234,\n",
       "         2.2928753,  0.5      ,  1.9365957,  1.8710536],\n",
       "       [ 1.8200428,  2.4844525,  2.5664263,  2.5891106,  2.5310466,\n",
       "         5.353661 ,  5.9000716,  1.944346 ,  1.5317858,  2.04541  ,\n",
       "         2.6848948,  1.4793905,  1.5510503,  2.4220383,  1.8385234,\n",
       "         2.2928753,  2.2981474,  0.5      ,  1.8710536],\n",
       "       [ 1.8200428,  2.4844525,  2.5664263,  2.5891106,  2.5310466,\n",
       "         5.353661 ,  5.9000716,  1.944346 ,  1.5317858,  2.04541  ,\n",
       "         2.6848948,  1.4793905,  1.5510503,  2.4220383,  1.8385234,\n",
       "         2.2928753,  2.2981474,  1.9365957,  0.5      ]], dtype=float32)"
      ]
     },
     "execution_count": 23,
     "metadata": {},
     "output_type": "execute_result"
    }
   ],
   "source": [
    "print(mol.coulomb.shape)\n",
    "mol.coulomb"
   ]
  },
  {
   "cell_type": "code",
   "execution_count": 26,
   "id": "19caf2a7-6353-4200-93da-3350defc2933",
   "metadata": {},
   "outputs": [
    {
     "name": "stdout",
     "output_type": "stream",
     "text": [
      "(881,)\n"
     ]
    },
    {
     "data": {
      "text/plain": [
       "(array([ 3.1746299e+00,  2.2915001e+00,  1.9077600e+00,  2.5974000e+00,\n",
       "         6.7150002e+01, -2.3670000e-01, -7.7000000e-03,  2.2900000e-01,\n",
       "         8.0904950e+02,  1.6811500e-01,  3.2977001e+01, -4.8457101e-01,\n",
       "         3.8308701e-01, -3.0946299e-01,  1.5829401e-01, -3.9599100e-01,\n",
       "        -4.1115201e-01, -4.1939899e-01,  1.4103800e-01,  1.4531600e-01,\n",
       "         1.3278000e-01,  1.2969700e-01,  1.0114700e-01,  1.1557700e-01,\n",
       "         1.1398000e-01,  1.1969800e-01,  1.2791200e-01,  1.1877600e-01,\n",
       "         1.1877800e-01,  1.1449200e-01,  0.0000000e+00,  0.0000000e+00,\n",
       "         0.0000000e+00,  0.0000000e+00,  0.0000000e+00,  0.0000000e+00,\n",
       "         0.0000000e+00,  0.0000000e+00,  0.0000000e+00,  0.0000000e+00,\n",
       "         7.3516708e+01,  1.9875620e+01,  2.0531410e+01,  2.0712885e+01,\n",
       "         2.0248373e+01,  4.2829288e+01,  4.7200573e+01,  1.5554768e+01,\n",
       "         1.2254287e+01,  1.6363279e+01,  2.1479158e+01,  1.1835124e+01,\n",
       "         1.2408402e+01,  1.9376307e+01,  1.4708187e+01,  1.8343002e+01,\n",
       "         1.8385180e+01,  1.5492765e+01,  1.4968429e+01,  0.0000000e+00,\n",
       "         0.0000000e+00,  0.0000000e+00,  0.0000000e+00,  0.0000000e+00,\n",
       "         0.0000000e+00,  0.0000000e+00,  0.0000000e+00,  0.0000000e+00,\n",
       "         0.0000000e+00,  1.0920255e+01,  3.6858112e+01,  1.5398560e+01,\n",
       "         1.5534663e+01,  1.5186278e+01,  3.2121975e+01,  3.5400417e+01,\n",
       "         1.1666077e+01,  9.1907129e+00,  1.2272461e+01,  1.6109371e+01,\n",
       "         8.8763437e+00,  9.3063030e+00,  1.4532232e+01,  1.1031143e+01,\n",
       "         1.3757251e+01,  1.3788888e+01,  1.1619575e+01,  1.1226324e+01,\n",
       "         0.0000000e+00,  0.0000000e+00,  0.0000000e+00,  0.0000000e+00,\n",
       "         0.0000000e+00,  0.0000000e+00,  0.0000000e+00,  0.0000000e+00,\n",
       "         0.0000000e+00,  0.0000000e+00,  1.0920255e+01,  1.4906714e+01,\n",
       "         3.6858112e+01,  1.5534663e+01,  1.5186278e+01,  3.2121975e+01,\n",
       "         3.5400417e+01,  1.1666077e+01,  9.1907129e+00,  1.2272461e+01,\n",
       "         1.6109371e+01,  8.8763437e+00,  9.3063030e+00,  1.4532232e+01,\n",
       "         1.1031143e+01,  1.3757251e+01,  1.3788888e+01,  1.1619575e+01,\n",
       "         1.1226324e+01,  0.0000000e+00,  0.0000000e+00,  0.0000000e+00,\n",
       "         0.0000000e+00,  0.0000000e+00,  0.0000000e+00,  0.0000000e+00,\n",
       "         0.0000000e+00,  0.0000000e+00,  0.0000000e+00,  1.0920255e+01,\n",
       "         1.4906714e+01,  1.5398560e+01,  3.6858112e+01,  1.5186278e+01,\n",
       "         3.2121975e+01,  3.5400417e+01,  1.1666077e+01,  9.1907129e+00,\n",
       "         1.2272461e+01,  1.6109371e+01,  8.8763437e+00,  9.3063030e+00,\n",
       "         1.4532232e+01,  1.1031143e+01,  1.3757251e+01,  1.3788888e+01,\n",
       "         1.1619575e+01,  1.1226324e+01,  0.0000000e+00,  0.0000000e+00,\n",
       "         0.0000000e+00,  0.0000000e+00,  0.0000000e+00,  0.0000000e+00,\n",
       "         0.0000000e+00,  0.0000000e+00,  0.0000000e+00,  0.0000000e+00,\n",
       "         1.0920255e+01,  1.4906714e+01,  1.5398560e+01,  1.5534663e+01,\n",
       "         3.6858112e+01,  3.2121975e+01,  3.5400417e+01,  1.1666077e+01,\n",
       "         9.1907129e+00,  1.2272461e+01,  1.6109371e+01,  8.8763437e+00,\n",
       "         9.3063030e+00,  1.4532232e+01,  1.1031143e+01,  1.3757251e+01,\n",
       "         1.3788888e+01,  1.1619575e+01,  1.1226324e+01,  0.0000000e+00,\n",
       "         0.0000000e+00,  0.0000000e+00,  0.0000000e+00,  0.0000000e+00,\n",
       "         0.0000000e+00,  0.0000000e+00,  0.0000000e+00,  0.0000000e+00,\n",
       "         0.0000000e+00,  1.0920255e+01,  1.4906714e+01,  1.5398560e+01,\n",
       "         1.5534663e+01,  1.5186278e+01,  3.6858112e+01,  3.5400417e+01,\n",
       "         1.1666077e+01,  9.1907129e+00,  1.2272461e+01,  1.6109371e+01,\n",
       "         8.8763437e+00,  9.3063030e+00,  1.4532232e+01,  1.1031143e+01,\n",
       "         1.3757251e+01,  1.3788888e+01,  1.1619575e+01,  1.1226324e+01,\n",
       "         0.0000000e+00,  0.0000000e+00,  0.0000000e+00,  0.0000000e+00,\n",
       "         0.0000000e+00,  0.0000000e+00,  0.0000000e+00,  0.0000000e+00,\n",
       "         0.0000000e+00,  0.0000000e+00,  1.0920255e+01,  1.4906714e+01,\n",
       "         1.5398560e+01,  1.5534663e+01,  1.5186278e+01,  3.2121975e+01,\n",
       "         3.6858112e+01,  1.1666077e+01,  9.1907129e+00,  1.2272461e+01,\n",
       "         1.6109371e+01,  8.8763437e+00,  9.3063030e+00,  1.4532232e+01,\n",
       "         1.1031143e+01,  1.3757251e+01,  1.3788888e+01,  1.1619575e+01,\n",
       "         1.1226324e+01,  0.0000000e+00,  0.0000000e+00,  0.0000000e+00,\n",
       "         0.0000000e+00,  0.0000000e+00,  0.0000000e+00,  0.0000000e+00,\n",
       "         0.0000000e+00,  0.0000000e+00,  0.0000000e+00,  1.8200428e+00,\n",
       "         2.4844525e+00,  2.5664263e+00,  2.5891106e+00,  2.5310466e+00,\n",
       "         5.3536611e+00,  5.9000716e+00,  5.0000000e-01,  1.5317858e+00,\n",
       "         2.0454099e+00,  2.6848948e+00,  1.4793905e+00,  1.5510503e+00,\n",
       "         2.4220383e+00,  1.8385234e+00,  2.2928753e+00,  2.2981474e+00,\n",
       "         1.9365957e+00,  1.8710536e+00,  0.0000000e+00,  0.0000000e+00,\n",
       "         0.0000000e+00,  0.0000000e+00,  0.0000000e+00,  0.0000000e+00,\n",
       "         0.0000000e+00,  0.0000000e+00,  0.0000000e+00,  0.0000000e+00,\n",
       "         1.8200428e+00,  2.4844525e+00,  2.5664263e+00,  2.5891106e+00,\n",
       "         2.5310466e+00,  5.3536611e+00,  5.9000716e+00,  1.9443460e+00,\n",
       "         5.0000000e-01,  2.0454099e+00,  2.6848948e+00,  1.4793905e+00,\n",
       "         1.5510503e+00,  2.4220383e+00,  1.8385234e+00,  2.2928753e+00,\n",
       "         2.2981474e+00,  1.9365957e+00,  1.8710536e+00,  0.0000000e+00,\n",
       "         0.0000000e+00,  0.0000000e+00,  0.0000000e+00,  0.0000000e+00,\n",
       "         0.0000000e+00,  0.0000000e+00,  0.0000000e+00,  0.0000000e+00,\n",
       "         0.0000000e+00,  1.8200428e+00,  2.4844525e+00,  2.5664263e+00,\n",
       "         2.5891106e+00,  2.5310466e+00,  5.3536611e+00,  5.9000716e+00,\n",
       "         1.9443460e+00,  1.5317858e+00,  5.0000000e-01,  2.6848948e+00,\n",
       "         1.4793905e+00,  1.5510503e+00,  2.4220383e+00,  1.8385234e+00,\n",
       "         2.2928753e+00,  2.2981474e+00,  1.9365957e+00,  1.8710536e+00,\n",
       "         0.0000000e+00,  0.0000000e+00,  0.0000000e+00,  0.0000000e+00,\n",
       "         0.0000000e+00,  0.0000000e+00,  0.0000000e+00,  0.0000000e+00,\n",
       "         0.0000000e+00,  0.0000000e+00,  1.8200428e+00,  2.4844525e+00,\n",
       "         2.5664263e+00,  2.5891106e+00,  2.5310466e+00,  5.3536611e+00,\n",
       "         5.9000716e+00,  1.9443460e+00,  1.5317858e+00,  2.0454099e+00,\n",
       "         5.0000000e-01,  1.4793905e+00,  1.5510503e+00,  2.4220383e+00,\n",
       "         1.8385234e+00,  2.2928753e+00,  2.2981474e+00,  1.9365957e+00,\n",
       "         1.8710536e+00,  0.0000000e+00,  0.0000000e+00,  0.0000000e+00,\n",
       "         0.0000000e+00,  0.0000000e+00,  0.0000000e+00,  0.0000000e+00,\n",
       "         0.0000000e+00,  0.0000000e+00,  0.0000000e+00,  1.8200428e+00,\n",
       "         2.4844525e+00,  2.5664263e+00,  2.5891106e+00,  2.5310466e+00,\n",
       "         5.3536611e+00,  5.9000716e+00,  1.9443460e+00,  1.5317858e+00,\n",
       "         2.0454099e+00,  2.6848948e+00,  5.0000000e-01,  1.5510503e+00,\n",
       "         2.4220383e+00,  1.8385234e+00,  2.2928753e+00,  2.2981474e+00,\n",
       "         1.9365957e+00,  1.8710536e+00,  0.0000000e+00,  0.0000000e+00,\n",
       "         0.0000000e+00,  0.0000000e+00,  0.0000000e+00,  0.0000000e+00,\n",
       "         0.0000000e+00,  0.0000000e+00,  0.0000000e+00,  0.0000000e+00,\n",
       "         1.8200428e+00,  2.4844525e+00,  2.5664263e+00,  2.5891106e+00,\n",
       "         2.5310466e+00,  5.3536611e+00,  5.9000716e+00,  1.9443460e+00,\n",
       "         1.5317858e+00,  2.0454099e+00,  2.6848948e+00,  1.4793905e+00,\n",
       "         5.0000000e-01,  2.4220383e+00,  1.8385234e+00,  2.2928753e+00,\n",
       "         2.2981474e+00,  1.9365957e+00,  1.8710536e+00,  0.0000000e+00,\n",
       "         0.0000000e+00,  0.0000000e+00,  0.0000000e+00,  0.0000000e+00,\n",
       "         0.0000000e+00,  0.0000000e+00,  0.0000000e+00,  0.0000000e+00,\n",
       "         0.0000000e+00,  1.8200428e+00,  2.4844525e+00,  2.5664263e+00,\n",
       "         2.5891106e+00,  2.5310466e+00,  5.3536611e+00,  5.9000716e+00,\n",
       "         1.9443460e+00,  1.5317858e+00,  2.0454099e+00,  2.6848948e+00,\n",
       "         1.4793905e+00,  1.5510503e+00,  5.0000000e-01,  1.8385234e+00,\n",
       "         2.2928753e+00,  2.2981474e+00,  1.9365957e+00,  1.8710536e+00,\n",
       "         0.0000000e+00,  0.0000000e+00,  0.0000000e+00,  0.0000000e+00,\n",
       "         0.0000000e+00,  0.0000000e+00,  0.0000000e+00,  0.0000000e+00,\n",
       "         0.0000000e+00,  0.0000000e+00,  1.8200428e+00,  2.4844525e+00,\n",
       "         2.5664263e+00,  2.5891106e+00,  2.5310466e+00,  5.3536611e+00,\n",
       "         5.9000716e+00,  1.9443460e+00,  1.5317858e+00,  2.0454099e+00,\n",
       "         2.6848948e+00,  1.4793905e+00,  1.5510503e+00,  2.4220383e+00,\n",
       "         5.0000000e-01,  2.2928753e+00,  2.2981474e+00,  1.9365957e+00,\n",
       "         1.8710536e+00,  0.0000000e+00,  0.0000000e+00,  0.0000000e+00,\n",
       "         0.0000000e+00,  0.0000000e+00,  0.0000000e+00,  0.0000000e+00,\n",
       "         0.0000000e+00,  0.0000000e+00,  0.0000000e+00,  1.8200428e+00,\n",
       "         2.4844525e+00,  2.5664263e+00,  2.5891106e+00,  2.5310466e+00,\n",
       "         5.3536611e+00,  5.9000716e+00,  1.9443460e+00,  1.5317858e+00,\n",
       "         2.0454099e+00,  2.6848948e+00,  1.4793905e+00,  1.5510503e+00,\n",
       "         2.4220383e+00,  1.8385234e+00,  5.0000000e-01,  2.2981474e+00,\n",
       "         1.9365957e+00,  1.8710536e+00,  0.0000000e+00,  0.0000000e+00,\n",
       "         0.0000000e+00,  0.0000000e+00,  0.0000000e+00,  0.0000000e+00,\n",
       "         0.0000000e+00,  0.0000000e+00,  0.0000000e+00,  0.0000000e+00,\n",
       "         1.8200428e+00,  2.4844525e+00,  2.5664263e+00,  2.5891106e+00,\n",
       "         2.5310466e+00,  5.3536611e+00,  5.9000716e+00,  1.9443460e+00,\n",
       "         1.5317858e+00,  2.0454099e+00,  2.6848948e+00,  1.4793905e+00,\n",
       "         1.5510503e+00,  2.4220383e+00,  1.8385234e+00,  2.2928753e+00,\n",
       "         5.0000000e-01,  1.9365957e+00,  1.8710536e+00,  0.0000000e+00,\n",
       "         0.0000000e+00,  0.0000000e+00,  0.0000000e+00,  0.0000000e+00,\n",
       "         0.0000000e+00,  0.0000000e+00,  0.0000000e+00,  0.0000000e+00,\n",
       "         0.0000000e+00,  1.8200428e+00,  2.4844525e+00,  2.5664263e+00,\n",
       "         2.5891106e+00,  2.5310466e+00,  5.3536611e+00,  5.9000716e+00,\n",
       "         1.9443460e+00,  1.5317858e+00,  2.0454099e+00,  2.6848948e+00,\n",
       "         1.4793905e+00,  1.5510503e+00,  2.4220383e+00,  1.8385234e+00,\n",
       "         2.2928753e+00,  2.2981474e+00,  5.0000000e-01,  1.8710536e+00,\n",
       "         0.0000000e+00,  0.0000000e+00,  0.0000000e+00,  0.0000000e+00,\n",
       "         0.0000000e+00,  0.0000000e+00,  0.0000000e+00,  0.0000000e+00,\n",
       "         0.0000000e+00,  0.0000000e+00,  1.8200428e+00,  2.4844525e+00,\n",
       "         2.5664263e+00,  2.5891106e+00,  2.5310466e+00,  5.3536611e+00,\n",
       "         5.9000716e+00,  1.9443460e+00,  1.5317858e+00,  2.0454099e+00,\n",
       "         2.6848948e+00,  1.4793905e+00,  1.5510503e+00,  2.4220383e+00,\n",
       "         1.8385234e+00,  2.2928753e+00,  2.2981474e+00,  1.9365957e+00,\n",
       "         5.0000000e-01,  0.0000000e+00,  0.0000000e+00,  0.0000000e+00,\n",
       "         0.0000000e+00,  0.0000000e+00,  0.0000000e+00,  0.0000000e+00,\n",
       "         0.0000000e+00,  0.0000000e+00,  0.0000000e+00,  0.0000000e+00,\n",
       "         0.0000000e+00,  0.0000000e+00,  0.0000000e+00,  0.0000000e+00,\n",
       "         0.0000000e+00,  0.0000000e+00,  0.0000000e+00,  0.0000000e+00,\n",
       "         0.0000000e+00,  0.0000000e+00,  0.0000000e+00,  0.0000000e+00,\n",
       "         0.0000000e+00,  0.0000000e+00,  0.0000000e+00,  0.0000000e+00,\n",
       "         0.0000000e+00,  0.0000000e+00,  0.0000000e+00,  0.0000000e+00,\n",
       "         0.0000000e+00,  0.0000000e+00,  0.0000000e+00,  0.0000000e+00,\n",
       "         0.0000000e+00,  0.0000000e+00,  0.0000000e+00,  0.0000000e+00,\n",
       "         0.0000000e+00,  0.0000000e+00,  0.0000000e+00,  0.0000000e+00,\n",
       "         0.0000000e+00,  0.0000000e+00,  0.0000000e+00,  0.0000000e+00,\n",
       "         0.0000000e+00,  0.0000000e+00,  0.0000000e+00,  0.0000000e+00,\n",
       "         0.0000000e+00,  0.0000000e+00,  0.0000000e+00,  0.0000000e+00,\n",
       "         0.0000000e+00,  0.0000000e+00,  0.0000000e+00,  0.0000000e+00,\n",
       "         0.0000000e+00,  0.0000000e+00,  0.0000000e+00,  0.0000000e+00,\n",
       "         0.0000000e+00,  0.0000000e+00,  0.0000000e+00,  0.0000000e+00,\n",
       "         0.0000000e+00,  0.0000000e+00,  0.0000000e+00,  0.0000000e+00,\n",
       "         0.0000000e+00,  0.0000000e+00,  0.0000000e+00,  0.0000000e+00,\n",
       "         0.0000000e+00,  0.0000000e+00,  0.0000000e+00,  0.0000000e+00,\n",
       "         0.0000000e+00,  0.0000000e+00,  0.0000000e+00,  0.0000000e+00,\n",
       "         0.0000000e+00,  0.0000000e+00,  0.0000000e+00,  0.0000000e+00,\n",
       "         0.0000000e+00,  0.0000000e+00,  0.0000000e+00,  0.0000000e+00,\n",
       "         0.0000000e+00,  0.0000000e+00,  0.0000000e+00,  0.0000000e+00,\n",
       "         0.0000000e+00,  0.0000000e+00,  0.0000000e+00,  0.0000000e+00,\n",
       "         0.0000000e+00,  0.0000000e+00,  0.0000000e+00,  0.0000000e+00,\n",
       "         0.0000000e+00,  0.0000000e+00,  0.0000000e+00,  0.0000000e+00,\n",
       "         0.0000000e+00,  0.0000000e+00,  0.0000000e+00,  0.0000000e+00,\n",
       "         0.0000000e+00,  0.0000000e+00,  0.0000000e+00,  0.0000000e+00,\n",
       "         0.0000000e+00,  0.0000000e+00,  0.0000000e+00,  0.0000000e+00,\n",
       "         0.0000000e+00,  0.0000000e+00,  0.0000000e+00,  0.0000000e+00,\n",
       "         0.0000000e+00,  0.0000000e+00,  0.0000000e+00,  0.0000000e+00,\n",
       "         0.0000000e+00,  0.0000000e+00,  0.0000000e+00,  0.0000000e+00,\n",
       "         0.0000000e+00,  0.0000000e+00,  0.0000000e+00,  0.0000000e+00,\n",
       "         0.0000000e+00,  0.0000000e+00,  0.0000000e+00,  0.0000000e+00,\n",
       "         0.0000000e+00,  0.0000000e+00,  0.0000000e+00,  0.0000000e+00,\n",
       "         0.0000000e+00,  0.0000000e+00,  0.0000000e+00,  0.0000000e+00,\n",
       "         0.0000000e+00,  0.0000000e+00,  0.0000000e+00,  0.0000000e+00,\n",
       "         0.0000000e+00,  0.0000000e+00,  0.0000000e+00,  0.0000000e+00,\n",
       "         0.0000000e+00,  0.0000000e+00,  0.0000000e+00,  0.0000000e+00,\n",
       "         0.0000000e+00,  0.0000000e+00,  0.0000000e+00,  0.0000000e+00,\n",
       "         0.0000000e+00,  0.0000000e+00,  0.0000000e+00,  0.0000000e+00,\n",
       "         0.0000000e+00,  0.0000000e+00,  0.0000000e+00,  0.0000000e+00,\n",
       "         0.0000000e+00,  0.0000000e+00,  0.0000000e+00,  0.0000000e+00,\n",
       "         0.0000000e+00,  0.0000000e+00,  0.0000000e+00,  0.0000000e+00,\n",
       "         0.0000000e+00,  0.0000000e+00,  0.0000000e+00,  0.0000000e+00,\n",
       "         0.0000000e+00,  0.0000000e+00,  0.0000000e+00,  0.0000000e+00,\n",
       "         0.0000000e+00,  0.0000000e+00,  0.0000000e+00,  0.0000000e+00,\n",
       "         0.0000000e+00,  0.0000000e+00,  0.0000000e+00,  0.0000000e+00,\n",
       "         0.0000000e+00,  0.0000000e+00,  0.0000000e+00,  0.0000000e+00,\n",
       "         0.0000000e+00,  0.0000000e+00,  0.0000000e+00,  0.0000000e+00,\n",
       "         0.0000000e+00,  0.0000000e+00,  0.0000000e+00,  0.0000000e+00,\n",
       "         0.0000000e+00,  0.0000000e+00,  0.0000000e+00,  0.0000000e+00,\n",
       "         0.0000000e+00,  0.0000000e+00,  0.0000000e+00,  0.0000000e+00,\n",
       "         0.0000000e+00,  0.0000000e+00,  0.0000000e+00,  0.0000000e+00,\n",
       "         0.0000000e+00,  0.0000000e+00,  0.0000000e+00,  0.0000000e+00,\n",
       "         0.0000000e+00,  0.0000000e+00,  0.0000000e+00,  0.0000000e+00,\n",
       "         0.0000000e+00,  0.0000000e+00,  0.0000000e+00,  0.0000000e+00,\n",
       "         0.0000000e+00,  0.0000000e+00,  0.0000000e+00,  0.0000000e+00,\n",
       "         0.0000000e+00,  0.0000000e+00,  0.0000000e+00,  0.0000000e+00,\n",
       "         0.0000000e+00,  0.0000000e+00,  0.0000000e+00,  0.0000000e+00,\n",
       "         0.0000000e+00,  0.0000000e+00,  0.0000000e+00,  0.0000000e+00,\n",
       "         0.0000000e+00,  0.0000000e+00,  0.0000000e+00,  0.0000000e+00,\n",
       "         0.0000000e+00,  0.0000000e+00,  0.0000000e+00,  0.0000000e+00,\n",
       "         0.0000000e+00,  0.0000000e+00,  0.0000000e+00,  0.0000000e+00,\n",
       "         0.0000000e+00,  0.0000000e+00,  0.0000000e+00,  0.0000000e+00,\n",
       "         0.0000000e+00,  0.0000000e+00,  0.0000000e+00,  0.0000000e+00,\n",
       "         0.0000000e+00,  0.0000000e+00,  0.0000000e+00,  0.0000000e+00,\n",
       "         0.0000000e+00,  0.0000000e+00,  0.0000000e+00,  0.0000000e+00,\n",
       "         0.0000000e+00,  0.0000000e+00,  0.0000000e+00,  0.0000000e+00,\n",
       "         0.0000000e+00,  0.0000000e+00,  0.0000000e+00,  0.0000000e+00,\n",
       "         0.0000000e+00,  0.0000000e+00,  0.0000000e+00,  0.0000000e+00,\n",
       "         0.0000000e+00,  0.0000000e+00,  0.0000000e+00,  0.0000000e+00,\n",
       "         0.0000000e+00,  0.0000000e+00,  0.0000000e+00,  0.0000000e+00,\n",
       "         0.0000000e+00,  0.0000000e+00,  0.0000000e+00,  0.0000000e+00,\n",
       "         0.0000000e+00], dtype=float32),\n",
       " [],\n",
       " array([-310.95288], dtype=float32))"
      ]
     },
     "execution_count": 26,
     "metadata": {},
     "output_type": "execute_result"
    }
   ],
   "source": [
    "print(qm9[1099][0].shape)\n",
    "qm9[1099]"
   ]
  },
  {
   "cell_type": "code",
   "execution_count": null,
   "id": "153e6c3d-730f-427d-af60-6cb1ca95f5d4",
   "metadata": {},
   "outputs": [],
   "source": []
  }
 ],
 "metadata": {
  "kernelspec": {
   "display_name": "Python 3",
   "language": "python",
   "name": "python3"
  },
  "language_info": {
   "codemirror_mode": {
    "name": "ipython",
    "version": 3
   },
   "file_extension": ".py",
   "mimetype": "text/x-python",
   "name": "python",
   "nbconvert_exporter": "python",
   "pygments_lexer": "ipython3",
   "version": "3.8.12"
  }
 },
 "nbformat": 4,
 "nbformat_minor": 5
}
